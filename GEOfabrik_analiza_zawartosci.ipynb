{
  "nbformat": 4,
  "nbformat_minor": 0,
  "metadata": {
    "colab": {
      "name": "GEOfabrik analiza zawartosci.ipynb",
      "provenance": [],
      "collapsed_sections": [],
      "authorship_tag": "ABX9TyNhtRnvGttuLKQvVnB1bAug",
      "include_colab_link": true
    },
    "kernelspec": {
      "name": "python3",
      "display_name": "Python 3"
    },
    "language_info": {
      "name": "python"
    }
  },
  "cells": [
    {
      "cell_type": "markdown",
      "metadata": {
        "id": "view-in-github",
        "colab_type": "text"
      },
      "source": [
        "<a href=\"https://colab.research.google.com/github/ciepielajan/GeoFabrik_Data_Extract/blob/main/GEOfabrik_analiza_zawartosci.ipynb\" target=\"_parent\"><img src=\"https://colab.research.google.com/assets/colab-badge.svg\" alt=\"Open In Colab\"/></a>"
      ]
    },
    {
      "cell_type": "code",
      "metadata": {
        "colab": {
          "base_uri": "https://localhost:8080/"
        },
        "id": "imtfPzAEuupS",
        "outputId": "c99e3530-6392-4109-9199-27ddab622d50"
      },
      "source": [
        "import folium\n",
        "import pandas as pd\n",
        "from plotnine import *\n",
        "!pip -q install geopandas\n",
        "from geopandas import GeoDataFrame\n",
        "\n",
        "%matplotlib inline"
      ],
      "execution_count": 9,
      "outputs": [
        {
          "output_type": "stream",
          "text": [
            "\u001b[K     |████████████████████████████████| 1.0MB 7.7MB/s \n",
            "\u001b[K     |████████████████████████████████| 6.5MB 22.6MB/s \n",
            "\u001b[K     |████████████████████████████████| 14.8MB 273kB/s \n",
            "\u001b[?25h"
          ],
          "name": "stdout"
        }
      ]
    },
    {
      "cell_type": "markdown",
      "metadata": {
        "id": "jr0qnzT_uupT"
      },
      "source": [
        "Load data from shapefile downloaded from http://download.geofabrik.de/"
      ]
    },
    {
      "cell_type": "code",
      "metadata": {
        "colab": {
          "base_uri": "https://localhost:8080/"
        },
        "id": "N1XCqtt9u5kk",
        "outputId": "d206860f-e986-4fee-9b02-774cb0c1ce8d"
      },
      "source": [
        "!wget \"http://download.geofabrik.de/europe/poland/malopolskie-latest-free.shp.zip\"  -O map.shp.zip"
      ],
      "execution_count": 10,
      "outputs": [
        {
          "output_type": "stream",
          "text": [
            "--2021-04-04 09:32:59--  http://download.geofabrik.de/europe/poland/malopolskie-latest-free.shp.zip\n",
            "Resolving download.geofabrik.de (download.geofabrik.de)... 88.99.142.44, 116.202.112.212, 138.201.219.183\n",
            "Connecting to download.geofabrik.de (download.geofabrik.de)|88.99.142.44|:80... connected.\n",
            "HTTP request sent, awaiting response... 200 OK\n",
            "Length: 232211549 (221M) [application/zip]\n",
            "Saving to: ‘map.shp.zip’\n",
            "\n",
            "map.shp.zip         100%[===================>] 221.45M  19.8MB/s    in 12s     \n",
            "\n",
            "2021-04-04 09:33:12 (18.2 MB/s) - ‘map.shp.zip’ saved [232211549/232211549]\n",
            "\n"
          ],
          "name": "stdout"
        }
      ]
    },
    {
      "cell_type": "code",
      "metadata": {
        "id": "YhXqarNCvdP9"
      },
      "source": [
        "!unzip -q map.shp.zip -d /content/maps"
      ],
      "execution_count": 11,
      "outputs": []
    },
    {
      "cell_type": "code",
      "metadata": {
        "id": "MpO-tiF02Yii"
      },
      "source": [
        "from os import listdir\n",
        "\n",
        "files_dir =  listdir(\"/content/maps\")\n",
        "files_list = []\n",
        "# files_name_list = []\n",
        "for names in files_dir:\n",
        "    if names.endswith(\".shp\"):\n",
        "        files_list.append(names)\n",
        "        # files_name_list.append(names.split(\"osm_\")[1].split(\"_free\")[0])\n",
        "\n",
        "files_list = sorted(files_list)\n",
        "# files_name_list = sorted(files_name_list)\n",
        "print(\"ilość plików\", len(files_list))\n",
        "for name in files_list:\n",
        "  print(name)"
      ],
      "execution_count": null,
      "outputs": []
    },
    {
      "cell_type": "code",
      "metadata": {
        "id": "UUYrzgyZcVll"
      },
      "source": [
        "# fclass_lists = []\n",
        "# for name in files_list:\n",
        "#   fclass_frame = GeoDataFrame.from_file(f'maps/{name}', encoding='utf-8').fclass.value_counts().index\n",
        "#   for x in fclass_frame:\n",
        "#      fclass_lists.append(x)"
      ],
      "execution_count": 117,
      "outputs": []
    },
    {
      "cell_type": "code",
      "metadata": {
        "id": "JOzYxGAOg2Tw"
      },
      "source": [
        "!pip -q install textblob\n",
        "from textblob import TextBlob\n",
        "import textblob.exceptions # obsługa błędu jeżli brak tłumaczenia"
      ],
      "execution_count": 121,
      "outputs": []
    },
    {
      "cell_type": "code",
      "metadata": {
        "id": "zQNlRKvbhLwI"
      },
      "source": [
        "# fclass_lists_PL = []\n",
        "# for class_eng in fclass_lists:\n",
        "#   try:\n",
        "#     translate = TextBlob(class_eng).translate(from_lang='en', to=\"pl\")\n",
        "#   except textblob.exceptions.NotTranslated:\n",
        "#    translate = class_eng\n",
        "\n",
        "#   fclass_lists_PL.append(str(translate))"
      ],
      "execution_count": null,
      "outputs": []
    },
    {
      "cell_type": "code",
      "metadata": {
        "id": "wwSCVdtwjtUH"
      },
      "source": [
        "# translate_eng_pol = { eng:pl for eng, pl in zip(fclass_lists,fclass_lists_PL)}\n",
        "# translate_eng_pol"
      ],
      "execution_count": null,
      "outputs": []
    },
    {
      "cell_type": "code",
      "metadata": {
        "id": "dVE3gOEQlATv"
      },
      "source": [
        "def translate_to_PL(word):\n",
        "  try:\n",
        "    translate = TextBlob(word).translate(from_lang='en', to=\"pl\")\n",
        "  except textblob.exceptions.NotTranslated:\n",
        "    translate = word\n",
        "\n",
        "  return str(translate)"
      ],
      "execution_count": 149,
      "outputs": []
    },
    {
      "cell_type": "code",
      "metadata": {
        "colab": {
          "base_uri": "https://localhost:8080/",
          "height": 250
        },
        "id": "vZYfj631uupU",
        "outputId": "b768ad9c-cac9-426a-8fd2-71ab5b41c048"
      },
      "source": [
        "%time\n",
        "roads = GeoDataFrame.from_file('maps/gis_osm_roads_free_1.shp', encoding='utf-8')\n",
        "print(roads.shape)\n",
        "roads.head()"
      ],
      "execution_count": 55,
      "outputs": [
        {
          "output_type": "stream",
          "text": [
            "CPU times: user 2 µs, sys: 0 ns, total: 2 µs\n",
            "Wall time: 4.77 µs\n",
            "(372670, 11)\n"
          ],
          "name": "stdout"
        },
        {
          "output_type": "execute_result",
          "data": {
            "text/html": [
              "<div>\n",
              "<style scoped>\n",
              "    .dataframe tbody tr th:only-of-type {\n",
              "        vertical-align: middle;\n",
              "    }\n",
              "\n",
              "    .dataframe tbody tr th {\n",
              "        vertical-align: top;\n",
              "    }\n",
              "\n",
              "    .dataframe thead th {\n",
              "        text-align: right;\n",
              "    }\n",
              "</style>\n",
              "<table border=\"1\" class=\"dataframe\">\n",
              "  <thead>\n",
              "    <tr style=\"text-align: right;\">\n",
              "      <th></th>\n",
              "      <th>osm_id</th>\n",
              "      <th>code</th>\n",
              "      <th>fclass</th>\n",
              "      <th>name</th>\n",
              "      <th>ref</th>\n",
              "      <th>oneway</th>\n",
              "      <th>maxspeed</th>\n",
              "      <th>layer</th>\n",
              "      <th>bridge</th>\n",
              "      <th>tunnel</th>\n",
              "      <th>geometry</th>\n",
              "    </tr>\n",
              "  </thead>\n",
              "  <tbody>\n",
              "    <tr>\n",
              "      <th>0</th>\n",
              "      <td>2954554</td>\n",
              "      <td>5122</td>\n",
              "      <td>residential</td>\n",
              "      <td>Ignacego Mościckiego</td>\n",
              "      <td>None</td>\n",
              "      <td>B</td>\n",
              "      <td>40</td>\n",
              "      <td>0</td>\n",
              "      <td>F</td>\n",
              "      <td>F</td>\n",
              "      <td>LINESTRING (20.03436 50.08068, 20.03452 50.080...</td>\n",
              "    </tr>\n",
              "    <tr>\n",
              "      <th>1</th>\n",
              "      <td>2954556</td>\n",
              "      <td>5115</td>\n",
              "      <td>tertiary</td>\n",
              "      <td>Stefana Żeromskiego</td>\n",
              "      <td>None</td>\n",
              "      <td>B</td>\n",
              "      <td>50</td>\n",
              "      <td>0</td>\n",
              "      <td>F</td>\n",
              "      <td>F</td>\n",
              "      <td>LINESTRING (20.03605 50.07939, 20.03626 50.079...</td>\n",
              "    </tr>\n",
              "    <tr>\n",
              "      <th>2</th>\n",
              "      <td>2954557</td>\n",
              "      <td>5122</td>\n",
              "      <td>residential</td>\n",
              "      <td>None</td>\n",
              "      <td>None</td>\n",
              "      <td>B</td>\n",
              "      <td>30</td>\n",
              "      <td>0</td>\n",
              "      <td>F</td>\n",
              "      <td>F</td>\n",
              "      <td>LINESTRING (20.03550 50.07982, 20.03566 50.079...</td>\n",
              "    </tr>\n",
              "    <tr>\n",
              "      <th>3</th>\n",
              "      <td>2954558</td>\n",
              "      <td>5122</td>\n",
              "      <td>residential</td>\n",
              "      <td>None</td>\n",
              "      <td>None</td>\n",
              "      <td>B</td>\n",
              "      <td>30</td>\n",
              "      <td>0</td>\n",
              "      <td>F</td>\n",
              "      <td>F</td>\n",
              "      <td>LINESTRING (20.03484 50.08193, 20.03516 50.081...</td>\n",
              "    </tr>\n",
              "    <tr>\n",
              "      <th>4</th>\n",
              "      <td>3989492</td>\n",
              "      <td>5124</td>\n",
              "      <td>pedestrian</td>\n",
              "      <td>Floriańska</td>\n",
              "      <td>None</td>\n",
              "      <td>F</td>\n",
              "      <td>20</td>\n",
              "      <td>0</td>\n",
              "      <td>F</td>\n",
              "      <td>F</td>\n",
              "      <td>LINESTRING (19.94134 50.06483, 19.94133 50.064...</td>\n",
              "    </tr>\n",
              "  </tbody>\n",
              "</table>\n",
              "</div>"
            ],
            "text/plain": [
              "    osm_id  code  ... tunnel                                           geometry\n",
              "0  2954554  5122  ...      F  LINESTRING (20.03436 50.08068, 20.03452 50.080...\n",
              "1  2954556  5115  ...      F  LINESTRING (20.03605 50.07939, 20.03626 50.079...\n",
              "2  2954557  5122  ...      F  LINESTRING (20.03550 50.07982, 20.03566 50.079...\n",
              "3  2954558  5122  ...      F  LINESTRING (20.03484 50.08193, 20.03516 50.081...\n",
              "4  3989492  5124  ...      F  LINESTRING (19.94134 50.06483, 19.94133 50.064...\n",
              "\n",
              "[5 rows x 11 columns]"
            ]
          },
          "metadata": {
            "tags": []
          },
          "execution_count": 55
        }
      ]
    },
    {
      "cell_type": "code",
      "metadata": {
        "id": "3VOPsUF9nNLg"
      },
      "source": [
        "fclass_unique_trans = {}\n",
        "for word in roads.fclass.value_counts().index:\n",
        "  fclass_unique_trans[word] = translate_to_PL(word)"
      ],
      "execution_count": null,
      "outputs": []
    },
    {
      "cell_type": "code",
      "metadata": {
        "id": "nTuZ0WUzlcqj",
        "outputId": "9e9315fa-588a-4714-95bd-2524b18ad36f",
        "colab": {
          "base_uri": "https://localhost:8080/",
          "height": 346
        }
      },
      "source": [
        "roads[\"fclass_PL\"] = roads[\"fclass\"].apply(lambda x: translate_to_PL(x))"
      ],
      "execution_count": 144,
      "outputs": [
        {
          "output_type": "error",
          "ename": "HTTPError",
          "evalue": "ignored",
          "traceback": [
            "\u001b[0;31m---------------------------------------------------------------------------\u001b[0m",
            "\u001b[0;31mHTTPError\u001b[0m                                 Traceback (most recent call last)",
            "\u001b[0;32m<ipython-input-144-dc8c613157a4>\u001b[0m in \u001b[0;36m<module>\u001b[0;34m()\u001b[0m\n\u001b[0;32m----> 1\u001b[0;31m \u001b[0mroads\u001b[0m\u001b[0;34m[\u001b[0m\u001b[0;34m\"fclass_PL\"\u001b[0m\u001b[0;34m]\u001b[0m \u001b[0;34m=\u001b[0m \u001b[0mroads\u001b[0m\u001b[0;34m[\u001b[0m\u001b[0;34m\"fclass\"\u001b[0m\u001b[0;34m]\u001b[0m\u001b[0;34m.\u001b[0m\u001b[0mapply\u001b[0m\u001b[0;34m(\u001b[0m\u001b[0;32mlambda\u001b[0m \u001b[0mx\u001b[0m\u001b[0;34m:\u001b[0m \u001b[0mtranslate_to_PL\u001b[0m\u001b[0;34m(\u001b[0m\u001b[0mx\u001b[0m\u001b[0;34m)\u001b[0m\u001b[0;34m)\u001b[0m\u001b[0;34m\u001b[0m\u001b[0;34m\u001b[0m\u001b[0m\n\u001b[0m",
            "\u001b[0;32m/usr/local/lib/python3.7/dist-packages/pandas/core/series.py\u001b[0m in \u001b[0;36mapply\u001b[0;34m(self, func, convert_dtype, args, **kwds)\u001b[0m\n\u001b[1;32m   4211\u001b[0m             \u001b[0;32melse\u001b[0m\u001b[0;34m:\u001b[0m\u001b[0;34m\u001b[0m\u001b[0;34m\u001b[0m\u001b[0m\n\u001b[1;32m   4212\u001b[0m                 \u001b[0mvalues\u001b[0m \u001b[0;34m=\u001b[0m \u001b[0mself\u001b[0m\u001b[0;34m.\u001b[0m\u001b[0mastype\u001b[0m\u001b[0;34m(\u001b[0m\u001b[0mobject\u001b[0m\u001b[0;34m)\u001b[0m\u001b[0;34m.\u001b[0m\u001b[0m_values\u001b[0m\u001b[0;34m\u001b[0m\u001b[0;34m\u001b[0m\u001b[0m\n\u001b[0;32m-> 4213\u001b[0;31m                 \u001b[0mmapped\u001b[0m \u001b[0;34m=\u001b[0m \u001b[0mlib\u001b[0m\u001b[0;34m.\u001b[0m\u001b[0mmap_infer\u001b[0m\u001b[0;34m(\u001b[0m\u001b[0mvalues\u001b[0m\u001b[0;34m,\u001b[0m \u001b[0mf\u001b[0m\u001b[0;34m,\u001b[0m \u001b[0mconvert\u001b[0m\u001b[0;34m=\u001b[0m\u001b[0mconvert_dtype\u001b[0m\u001b[0;34m)\u001b[0m\u001b[0;34m\u001b[0m\u001b[0;34m\u001b[0m\u001b[0m\n\u001b[0m\u001b[1;32m   4214\u001b[0m \u001b[0;34m\u001b[0m\u001b[0m\n\u001b[1;32m   4215\u001b[0m         \u001b[0;32mif\u001b[0m \u001b[0mlen\u001b[0m\u001b[0;34m(\u001b[0m\u001b[0mmapped\u001b[0m\u001b[0;34m)\u001b[0m \u001b[0;32mand\u001b[0m \u001b[0misinstance\u001b[0m\u001b[0;34m(\u001b[0m\u001b[0mmapped\u001b[0m\u001b[0;34m[\u001b[0m\u001b[0;36m0\u001b[0m\u001b[0;34m]\u001b[0m\u001b[0;34m,\u001b[0m \u001b[0mSeries\u001b[0m\u001b[0;34m)\u001b[0m\u001b[0;34m:\u001b[0m\u001b[0;34m\u001b[0m\u001b[0;34m\u001b[0m\u001b[0m\n",
            "\u001b[0;32mpandas/_libs/lib.pyx\u001b[0m in \u001b[0;36mpandas._libs.lib.map_infer\u001b[0;34m()\u001b[0m\n",
            "\u001b[0;32m<ipython-input-144-dc8c613157a4>\u001b[0m in \u001b[0;36m<lambda>\u001b[0;34m(x)\u001b[0m\n\u001b[0;32m----> 1\u001b[0;31m \u001b[0mroads\u001b[0m\u001b[0;34m[\u001b[0m\u001b[0;34m\"fclass_PL\"\u001b[0m\u001b[0;34m]\u001b[0m \u001b[0;34m=\u001b[0m \u001b[0mroads\u001b[0m\u001b[0;34m[\u001b[0m\u001b[0;34m\"fclass\"\u001b[0m\u001b[0;34m]\u001b[0m\u001b[0;34m.\u001b[0m\u001b[0mapply\u001b[0m\u001b[0;34m(\u001b[0m\u001b[0;32mlambda\u001b[0m \u001b[0mx\u001b[0m\u001b[0;34m:\u001b[0m \u001b[0mtranslate_to_PL\u001b[0m\u001b[0;34m(\u001b[0m\u001b[0mx\u001b[0m\u001b[0;34m)\u001b[0m\u001b[0;34m)\u001b[0m\u001b[0;34m\u001b[0m\u001b[0;34m\u001b[0m\u001b[0m\n\u001b[0m",
            "\u001b[0;32m<ipython-input-143-d8cd4727825f>\u001b[0m in \u001b[0;36mtranslate_to_PL\u001b[0;34m(word)\u001b[0m\n\u001b[1;32m      1\u001b[0m \u001b[0;32mdef\u001b[0m \u001b[0mtranslate_to_PL\u001b[0m\u001b[0;34m(\u001b[0m\u001b[0mword\u001b[0m\u001b[0;34m)\u001b[0m\u001b[0;34m:\u001b[0m\u001b[0;34m\u001b[0m\u001b[0;34m\u001b[0m\u001b[0m\n\u001b[1;32m      2\u001b[0m   \u001b[0;32mtry\u001b[0m\u001b[0;34m:\u001b[0m\u001b[0;34m\u001b[0m\u001b[0;34m\u001b[0m\u001b[0m\n\u001b[0;32m----> 3\u001b[0;31m     \u001b[0mtranslate\u001b[0m \u001b[0;34m=\u001b[0m \u001b[0mTextBlob\u001b[0m\u001b[0;34m(\u001b[0m\u001b[0mword\u001b[0m\u001b[0;34m)\u001b[0m\u001b[0;34m.\u001b[0m\u001b[0mtranslate\u001b[0m\u001b[0;34m(\u001b[0m\u001b[0mfrom_lang\u001b[0m\u001b[0;34m=\u001b[0m\u001b[0;34m'en'\u001b[0m\u001b[0;34m,\u001b[0m \u001b[0mto\u001b[0m\u001b[0;34m=\u001b[0m\u001b[0;34m\"pl\"\u001b[0m\u001b[0;34m)\u001b[0m\u001b[0;34m\u001b[0m\u001b[0;34m\u001b[0m\u001b[0m\n\u001b[0m\u001b[1;32m      4\u001b[0m   \u001b[0;32mexcept\u001b[0m \u001b[0mtextblob\u001b[0m\u001b[0;34m.\u001b[0m\u001b[0mexceptions\u001b[0m\u001b[0;34m.\u001b[0m\u001b[0mNotTranslated\u001b[0m\u001b[0;34m:\u001b[0m\u001b[0;34m\u001b[0m\u001b[0;34m\u001b[0m\u001b[0m\n\u001b[1;32m      5\u001b[0m     \u001b[0mtranslate\u001b[0m \u001b[0;34m=\u001b[0m \u001b[0mword\u001b[0m\u001b[0;34m\u001b[0m\u001b[0;34m\u001b[0m\u001b[0m\n",
            "\u001b[0;32m/usr/local/lib/python3.7/dist-packages/textblob/blob.py\u001b[0m in \u001b[0;36mtranslate\u001b[0;34m(self, from_lang, to)\u001b[0m\n\u001b[1;32m    545\u001b[0m         \"\"\"\n\u001b[1;32m    546\u001b[0m         return self.__class__(self.translator.translate(self.raw,\n\u001b[0;32m--> 547\u001b[0;31m                               from_lang=from_lang, to_lang=to))\n\u001b[0m\u001b[1;32m    548\u001b[0m \u001b[0;34m\u001b[0m\u001b[0m\n\u001b[1;32m    549\u001b[0m     \u001b[0;32mdef\u001b[0m \u001b[0mdetect_language\u001b[0m\u001b[0;34m(\u001b[0m\u001b[0mself\u001b[0m\u001b[0;34m)\u001b[0m\u001b[0;34m:\u001b[0m\u001b[0;34m\u001b[0m\u001b[0;34m\u001b[0m\u001b[0m\n",
            "\u001b[0;32m/usr/local/lib/python3.7/dist-packages/textblob/translate.py\u001b[0m in \u001b[0;36mtranslate\u001b[0;34m(self, source, from_lang, to_lang, host, type_)\u001b[0m\n\u001b[1;32m     52\u001b[0m             \u001b[0mtk\u001b[0m\u001b[0;34m=\u001b[0m\u001b[0m_calculate_tk\u001b[0m\u001b[0;34m(\u001b[0m\u001b[0msource\u001b[0m\u001b[0;34m)\u001b[0m\u001b[0;34m,\u001b[0m\u001b[0;34m\u001b[0m\u001b[0;34m\u001b[0m\u001b[0m\n\u001b[1;32m     53\u001b[0m         )\n\u001b[0;32m---> 54\u001b[0;31m         \u001b[0mresponse\u001b[0m \u001b[0;34m=\u001b[0m \u001b[0mself\u001b[0m\u001b[0;34m.\u001b[0m\u001b[0m_request\u001b[0m\u001b[0;34m(\u001b[0m\u001b[0murl\u001b[0m\u001b[0;34m,\u001b[0m \u001b[0mhost\u001b[0m\u001b[0;34m=\u001b[0m\u001b[0mhost\u001b[0m\u001b[0;34m,\u001b[0m \u001b[0mtype_\u001b[0m\u001b[0;34m=\u001b[0m\u001b[0mtype_\u001b[0m\u001b[0;34m,\u001b[0m \u001b[0mdata\u001b[0m\u001b[0;34m=\u001b[0m\u001b[0mdata\u001b[0m\u001b[0;34m)\u001b[0m\u001b[0;34m\u001b[0m\u001b[0;34m\u001b[0m\u001b[0m\n\u001b[0m\u001b[1;32m     55\u001b[0m         \u001b[0mresult\u001b[0m \u001b[0;34m=\u001b[0m \u001b[0mjson\u001b[0m\u001b[0;34m.\u001b[0m\u001b[0mloads\u001b[0m\u001b[0;34m(\u001b[0m\u001b[0mresponse\u001b[0m\u001b[0;34m)\u001b[0m\u001b[0;34m\u001b[0m\u001b[0;34m\u001b[0m\u001b[0m\n\u001b[1;32m     56\u001b[0m         \u001b[0;32mif\u001b[0m \u001b[0misinstance\u001b[0m\u001b[0;34m(\u001b[0m\u001b[0mresult\u001b[0m\u001b[0;34m,\u001b[0m \u001b[0mlist\u001b[0m\u001b[0;34m)\u001b[0m\u001b[0;34m:\u001b[0m\u001b[0;34m\u001b[0m\u001b[0;34m\u001b[0m\u001b[0m\n",
            "\u001b[0;32m/usr/local/lib/python3.7/dist-packages/textblob/translate.py\u001b[0m in \u001b[0;36m_request\u001b[0;34m(self, url, host, type_, data)\u001b[0m\n\u001b[1;32m     90\u001b[0m         \u001b[0;32mif\u001b[0m \u001b[0mhost\u001b[0m \u001b[0;32mor\u001b[0m \u001b[0mtype_\u001b[0m\u001b[0;34m:\u001b[0m\u001b[0;34m\u001b[0m\u001b[0;34m\u001b[0m\u001b[0m\n\u001b[1;32m     91\u001b[0m             \u001b[0mreq\u001b[0m\u001b[0;34m.\u001b[0m\u001b[0mset_proxy\u001b[0m\u001b[0;34m(\u001b[0m\u001b[0mhost\u001b[0m\u001b[0;34m=\u001b[0m\u001b[0mhost\u001b[0m\u001b[0;34m,\u001b[0m \u001b[0mtype\u001b[0m\u001b[0;34m=\u001b[0m\u001b[0mtype_\u001b[0m\u001b[0;34m)\u001b[0m\u001b[0;34m\u001b[0m\u001b[0;34m\u001b[0m\u001b[0m\n\u001b[0;32m---> 92\u001b[0;31m         \u001b[0mresp\u001b[0m \u001b[0;34m=\u001b[0m \u001b[0mrequest\u001b[0m\u001b[0;34m.\u001b[0m\u001b[0murlopen\u001b[0m\u001b[0;34m(\u001b[0m\u001b[0mreq\u001b[0m\u001b[0;34m)\u001b[0m\u001b[0;34m\u001b[0m\u001b[0;34m\u001b[0m\u001b[0m\n\u001b[0m\u001b[1;32m     93\u001b[0m         \u001b[0mcontent\u001b[0m \u001b[0;34m=\u001b[0m \u001b[0mresp\u001b[0m\u001b[0;34m.\u001b[0m\u001b[0mread\u001b[0m\u001b[0;34m(\u001b[0m\u001b[0;34m)\u001b[0m\u001b[0;34m\u001b[0m\u001b[0;34m\u001b[0m\u001b[0m\n\u001b[1;32m     94\u001b[0m         \u001b[0;32mreturn\u001b[0m \u001b[0mcontent\u001b[0m\u001b[0;34m.\u001b[0m\u001b[0mdecode\u001b[0m\u001b[0;34m(\u001b[0m\u001b[0;34m'utf-8'\u001b[0m\u001b[0;34m)\u001b[0m\u001b[0;34m\u001b[0m\u001b[0;34m\u001b[0m\u001b[0m\n",
            "\u001b[0;32m/usr/lib/python3.7/urllib/request.py\u001b[0m in \u001b[0;36murlopen\u001b[0;34m(url, data, timeout, cafile, capath, cadefault, context)\u001b[0m\n\u001b[1;32m    220\u001b[0m     \u001b[0;32melse\u001b[0m\u001b[0;34m:\u001b[0m\u001b[0;34m\u001b[0m\u001b[0;34m\u001b[0m\u001b[0m\n\u001b[1;32m    221\u001b[0m         \u001b[0mopener\u001b[0m \u001b[0;34m=\u001b[0m \u001b[0m_opener\u001b[0m\u001b[0;34m\u001b[0m\u001b[0;34m\u001b[0m\u001b[0m\n\u001b[0;32m--> 222\u001b[0;31m     \u001b[0;32mreturn\u001b[0m \u001b[0mopener\u001b[0m\u001b[0;34m.\u001b[0m\u001b[0mopen\u001b[0m\u001b[0;34m(\u001b[0m\u001b[0murl\u001b[0m\u001b[0;34m,\u001b[0m \u001b[0mdata\u001b[0m\u001b[0;34m,\u001b[0m \u001b[0mtimeout\u001b[0m\u001b[0;34m)\u001b[0m\u001b[0;34m\u001b[0m\u001b[0;34m\u001b[0m\u001b[0m\n\u001b[0m\u001b[1;32m    223\u001b[0m \u001b[0;34m\u001b[0m\u001b[0m\n\u001b[1;32m    224\u001b[0m \u001b[0;32mdef\u001b[0m \u001b[0minstall_opener\u001b[0m\u001b[0;34m(\u001b[0m\u001b[0mopener\u001b[0m\u001b[0;34m)\u001b[0m\u001b[0;34m:\u001b[0m\u001b[0;34m\u001b[0m\u001b[0;34m\u001b[0m\u001b[0m\n",
            "\u001b[0;32m/usr/lib/python3.7/urllib/request.py\u001b[0m in \u001b[0;36mopen\u001b[0;34m(self, fullurl, data, timeout)\u001b[0m\n\u001b[1;32m    529\u001b[0m         \u001b[0;32mfor\u001b[0m \u001b[0mprocessor\u001b[0m \u001b[0;32min\u001b[0m \u001b[0mself\u001b[0m\u001b[0;34m.\u001b[0m\u001b[0mprocess_response\u001b[0m\u001b[0;34m.\u001b[0m\u001b[0mget\u001b[0m\u001b[0;34m(\u001b[0m\u001b[0mprotocol\u001b[0m\u001b[0;34m,\u001b[0m \u001b[0;34m[\u001b[0m\u001b[0;34m]\u001b[0m\u001b[0;34m)\u001b[0m\u001b[0;34m:\u001b[0m\u001b[0;34m\u001b[0m\u001b[0;34m\u001b[0m\u001b[0m\n\u001b[1;32m    530\u001b[0m             \u001b[0mmeth\u001b[0m \u001b[0;34m=\u001b[0m \u001b[0mgetattr\u001b[0m\u001b[0;34m(\u001b[0m\u001b[0mprocessor\u001b[0m\u001b[0;34m,\u001b[0m \u001b[0mmeth_name\u001b[0m\u001b[0;34m)\u001b[0m\u001b[0;34m\u001b[0m\u001b[0;34m\u001b[0m\u001b[0m\n\u001b[0;32m--> 531\u001b[0;31m             \u001b[0mresponse\u001b[0m \u001b[0;34m=\u001b[0m \u001b[0mmeth\u001b[0m\u001b[0;34m(\u001b[0m\u001b[0mreq\u001b[0m\u001b[0;34m,\u001b[0m \u001b[0mresponse\u001b[0m\u001b[0;34m)\u001b[0m\u001b[0;34m\u001b[0m\u001b[0;34m\u001b[0m\u001b[0m\n\u001b[0m\u001b[1;32m    532\u001b[0m \u001b[0;34m\u001b[0m\u001b[0m\n\u001b[1;32m    533\u001b[0m         \u001b[0;32mreturn\u001b[0m \u001b[0mresponse\u001b[0m\u001b[0;34m\u001b[0m\u001b[0;34m\u001b[0m\u001b[0m\n",
            "\u001b[0;32m/usr/lib/python3.7/urllib/request.py\u001b[0m in \u001b[0;36mhttp_response\u001b[0;34m(self, request, response)\u001b[0m\n\u001b[1;32m    639\u001b[0m         \u001b[0;32mif\u001b[0m \u001b[0;32mnot\u001b[0m \u001b[0;34m(\u001b[0m\u001b[0;36m200\u001b[0m \u001b[0;34m<=\u001b[0m \u001b[0mcode\u001b[0m \u001b[0;34m<\u001b[0m \u001b[0;36m300\u001b[0m\u001b[0;34m)\u001b[0m\u001b[0;34m:\u001b[0m\u001b[0;34m\u001b[0m\u001b[0;34m\u001b[0m\u001b[0m\n\u001b[1;32m    640\u001b[0m             response = self.parent.error(\n\u001b[0;32m--> 641\u001b[0;31m                 'http', request, response, code, msg, hdrs)\n\u001b[0m\u001b[1;32m    642\u001b[0m \u001b[0;34m\u001b[0m\u001b[0m\n\u001b[1;32m    643\u001b[0m         \u001b[0;32mreturn\u001b[0m \u001b[0mresponse\u001b[0m\u001b[0;34m\u001b[0m\u001b[0;34m\u001b[0m\u001b[0m\n",
            "\u001b[0;32m/usr/lib/python3.7/urllib/request.py\u001b[0m in \u001b[0;36merror\u001b[0;34m(self, proto, *args)\u001b[0m\n\u001b[1;32m    561\u001b[0m             \u001b[0mhttp_err\u001b[0m \u001b[0;34m=\u001b[0m \u001b[0;36m0\u001b[0m\u001b[0;34m\u001b[0m\u001b[0;34m\u001b[0m\u001b[0m\n\u001b[1;32m    562\u001b[0m         \u001b[0margs\u001b[0m \u001b[0;34m=\u001b[0m \u001b[0;34m(\u001b[0m\u001b[0mdict\u001b[0m\u001b[0;34m,\u001b[0m \u001b[0mproto\u001b[0m\u001b[0;34m,\u001b[0m \u001b[0mmeth_name\u001b[0m\u001b[0;34m)\u001b[0m \u001b[0;34m+\u001b[0m \u001b[0margs\u001b[0m\u001b[0;34m\u001b[0m\u001b[0;34m\u001b[0m\u001b[0m\n\u001b[0;32m--> 563\u001b[0;31m         \u001b[0mresult\u001b[0m \u001b[0;34m=\u001b[0m \u001b[0mself\u001b[0m\u001b[0;34m.\u001b[0m\u001b[0m_call_chain\u001b[0m\u001b[0;34m(\u001b[0m\u001b[0;34m*\u001b[0m\u001b[0margs\u001b[0m\u001b[0;34m)\u001b[0m\u001b[0;34m\u001b[0m\u001b[0;34m\u001b[0m\u001b[0m\n\u001b[0m\u001b[1;32m    564\u001b[0m         \u001b[0;32mif\u001b[0m \u001b[0mresult\u001b[0m\u001b[0;34m:\u001b[0m\u001b[0;34m\u001b[0m\u001b[0;34m\u001b[0m\u001b[0m\n\u001b[1;32m    565\u001b[0m             \u001b[0;32mreturn\u001b[0m \u001b[0mresult\u001b[0m\u001b[0;34m\u001b[0m\u001b[0;34m\u001b[0m\u001b[0m\n",
            "\u001b[0;32m/usr/lib/python3.7/urllib/request.py\u001b[0m in \u001b[0;36m_call_chain\u001b[0;34m(self, chain, kind, meth_name, *args)\u001b[0m\n\u001b[1;32m    501\u001b[0m         \u001b[0;32mfor\u001b[0m \u001b[0mhandler\u001b[0m \u001b[0;32min\u001b[0m \u001b[0mhandlers\u001b[0m\u001b[0;34m:\u001b[0m\u001b[0;34m\u001b[0m\u001b[0;34m\u001b[0m\u001b[0m\n\u001b[1;32m    502\u001b[0m             \u001b[0mfunc\u001b[0m \u001b[0;34m=\u001b[0m \u001b[0mgetattr\u001b[0m\u001b[0;34m(\u001b[0m\u001b[0mhandler\u001b[0m\u001b[0;34m,\u001b[0m \u001b[0mmeth_name\u001b[0m\u001b[0;34m)\u001b[0m\u001b[0;34m\u001b[0m\u001b[0;34m\u001b[0m\u001b[0m\n\u001b[0;32m--> 503\u001b[0;31m             \u001b[0mresult\u001b[0m \u001b[0;34m=\u001b[0m \u001b[0mfunc\u001b[0m\u001b[0;34m(\u001b[0m\u001b[0;34m*\u001b[0m\u001b[0margs\u001b[0m\u001b[0;34m)\u001b[0m\u001b[0;34m\u001b[0m\u001b[0;34m\u001b[0m\u001b[0m\n\u001b[0m\u001b[1;32m    504\u001b[0m             \u001b[0;32mif\u001b[0m \u001b[0mresult\u001b[0m \u001b[0;32mis\u001b[0m \u001b[0;32mnot\u001b[0m \u001b[0;32mNone\u001b[0m\u001b[0;34m:\u001b[0m\u001b[0;34m\u001b[0m\u001b[0;34m\u001b[0m\u001b[0m\n\u001b[1;32m    505\u001b[0m                 \u001b[0;32mreturn\u001b[0m \u001b[0mresult\u001b[0m\u001b[0;34m\u001b[0m\u001b[0;34m\u001b[0m\u001b[0m\n",
            "\u001b[0;32m/usr/lib/python3.7/urllib/request.py\u001b[0m in \u001b[0;36mhttp_error_302\u001b[0;34m(self, req, fp, code, msg, headers)\u001b[0m\n\u001b[1;32m    753\u001b[0m         \u001b[0mfp\u001b[0m\u001b[0;34m.\u001b[0m\u001b[0mclose\u001b[0m\u001b[0;34m(\u001b[0m\u001b[0;34m)\u001b[0m\u001b[0;34m\u001b[0m\u001b[0;34m\u001b[0m\u001b[0m\n\u001b[1;32m    754\u001b[0m \u001b[0;34m\u001b[0m\u001b[0m\n\u001b[0;32m--> 755\u001b[0;31m         \u001b[0;32mreturn\u001b[0m \u001b[0mself\u001b[0m\u001b[0;34m.\u001b[0m\u001b[0mparent\u001b[0m\u001b[0;34m.\u001b[0m\u001b[0mopen\u001b[0m\u001b[0;34m(\u001b[0m\u001b[0mnew\u001b[0m\u001b[0;34m,\u001b[0m \u001b[0mtimeout\u001b[0m\u001b[0;34m=\u001b[0m\u001b[0mreq\u001b[0m\u001b[0;34m.\u001b[0m\u001b[0mtimeout\u001b[0m\u001b[0;34m)\u001b[0m\u001b[0;34m\u001b[0m\u001b[0;34m\u001b[0m\u001b[0m\n\u001b[0m\u001b[1;32m    756\u001b[0m \u001b[0;34m\u001b[0m\u001b[0m\n\u001b[1;32m    757\u001b[0m     \u001b[0mhttp_error_301\u001b[0m \u001b[0;34m=\u001b[0m \u001b[0mhttp_error_303\u001b[0m \u001b[0;34m=\u001b[0m \u001b[0mhttp_error_307\u001b[0m \u001b[0;34m=\u001b[0m \u001b[0mhttp_error_302\u001b[0m\u001b[0;34m\u001b[0m\u001b[0;34m\u001b[0m\u001b[0m\n",
            "\u001b[0;32m/usr/lib/python3.7/urllib/request.py\u001b[0m in \u001b[0;36mopen\u001b[0;34m(self, fullurl, data, timeout)\u001b[0m\n\u001b[1;32m    529\u001b[0m         \u001b[0;32mfor\u001b[0m \u001b[0mprocessor\u001b[0m \u001b[0;32min\u001b[0m \u001b[0mself\u001b[0m\u001b[0;34m.\u001b[0m\u001b[0mprocess_response\u001b[0m\u001b[0;34m.\u001b[0m\u001b[0mget\u001b[0m\u001b[0;34m(\u001b[0m\u001b[0mprotocol\u001b[0m\u001b[0;34m,\u001b[0m \u001b[0;34m[\u001b[0m\u001b[0;34m]\u001b[0m\u001b[0;34m)\u001b[0m\u001b[0;34m:\u001b[0m\u001b[0;34m\u001b[0m\u001b[0;34m\u001b[0m\u001b[0m\n\u001b[1;32m    530\u001b[0m             \u001b[0mmeth\u001b[0m \u001b[0;34m=\u001b[0m \u001b[0mgetattr\u001b[0m\u001b[0;34m(\u001b[0m\u001b[0mprocessor\u001b[0m\u001b[0;34m,\u001b[0m \u001b[0mmeth_name\u001b[0m\u001b[0;34m)\u001b[0m\u001b[0;34m\u001b[0m\u001b[0;34m\u001b[0m\u001b[0m\n\u001b[0;32m--> 531\u001b[0;31m             \u001b[0mresponse\u001b[0m \u001b[0;34m=\u001b[0m \u001b[0mmeth\u001b[0m\u001b[0;34m(\u001b[0m\u001b[0mreq\u001b[0m\u001b[0;34m,\u001b[0m \u001b[0mresponse\u001b[0m\u001b[0;34m)\u001b[0m\u001b[0;34m\u001b[0m\u001b[0;34m\u001b[0m\u001b[0m\n\u001b[0m\u001b[1;32m    532\u001b[0m \u001b[0;34m\u001b[0m\u001b[0m\n\u001b[1;32m    533\u001b[0m         \u001b[0;32mreturn\u001b[0m \u001b[0mresponse\u001b[0m\u001b[0;34m\u001b[0m\u001b[0;34m\u001b[0m\u001b[0m\n",
            "\u001b[0;32m/usr/lib/python3.7/urllib/request.py\u001b[0m in \u001b[0;36mhttp_response\u001b[0;34m(self, request, response)\u001b[0m\n\u001b[1;32m    639\u001b[0m         \u001b[0;32mif\u001b[0m \u001b[0;32mnot\u001b[0m \u001b[0;34m(\u001b[0m\u001b[0;36m200\u001b[0m \u001b[0;34m<=\u001b[0m \u001b[0mcode\u001b[0m \u001b[0;34m<\u001b[0m \u001b[0;36m300\u001b[0m\u001b[0;34m)\u001b[0m\u001b[0;34m:\u001b[0m\u001b[0;34m\u001b[0m\u001b[0;34m\u001b[0m\u001b[0m\n\u001b[1;32m    640\u001b[0m             response = self.parent.error(\n\u001b[0;32m--> 641\u001b[0;31m                 'http', request, response, code, msg, hdrs)\n\u001b[0m\u001b[1;32m    642\u001b[0m \u001b[0;34m\u001b[0m\u001b[0m\n\u001b[1;32m    643\u001b[0m         \u001b[0;32mreturn\u001b[0m \u001b[0mresponse\u001b[0m\u001b[0;34m\u001b[0m\u001b[0;34m\u001b[0m\u001b[0m\n",
            "\u001b[0;32m/usr/lib/python3.7/urllib/request.py\u001b[0m in \u001b[0;36merror\u001b[0;34m(self, proto, *args)\u001b[0m\n\u001b[1;32m    567\u001b[0m         \u001b[0;32mif\u001b[0m \u001b[0mhttp_err\u001b[0m\u001b[0;34m:\u001b[0m\u001b[0;34m\u001b[0m\u001b[0;34m\u001b[0m\u001b[0m\n\u001b[1;32m    568\u001b[0m             \u001b[0margs\u001b[0m \u001b[0;34m=\u001b[0m \u001b[0;34m(\u001b[0m\u001b[0mdict\u001b[0m\u001b[0;34m,\u001b[0m \u001b[0;34m'default'\u001b[0m\u001b[0;34m,\u001b[0m \u001b[0;34m'http_error_default'\u001b[0m\u001b[0;34m)\u001b[0m \u001b[0;34m+\u001b[0m \u001b[0morig_args\u001b[0m\u001b[0;34m\u001b[0m\u001b[0;34m\u001b[0m\u001b[0m\n\u001b[0;32m--> 569\u001b[0;31m             \u001b[0;32mreturn\u001b[0m \u001b[0mself\u001b[0m\u001b[0;34m.\u001b[0m\u001b[0m_call_chain\u001b[0m\u001b[0;34m(\u001b[0m\u001b[0;34m*\u001b[0m\u001b[0margs\u001b[0m\u001b[0;34m)\u001b[0m\u001b[0;34m\u001b[0m\u001b[0;34m\u001b[0m\u001b[0m\n\u001b[0m\u001b[1;32m    570\u001b[0m \u001b[0;34m\u001b[0m\u001b[0m\n\u001b[1;32m    571\u001b[0m \u001b[0;31m# XXX probably also want an abstract factory that knows when it makes\u001b[0m\u001b[0;34m\u001b[0m\u001b[0;34m\u001b[0m\u001b[0;34m\u001b[0m\u001b[0m\n",
            "\u001b[0;32m/usr/lib/python3.7/urllib/request.py\u001b[0m in \u001b[0;36m_call_chain\u001b[0;34m(self, chain, kind, meth_name, *args)\u001b[0m\n\u001b[1;32m    501\u001b[0m         \u001b[0;32mfor\u001b[0m \u001b[0mhandler\u001b[0m \u001b[0;32min\u001b[0m \u001b[0mhandlers\u001b[0m\u001b[0;34m:\u001b[0m\u001b[0;34m\u001b[0m\u001b[0;34m\u001b[0m\u001b[0m\n\u001b[1;32m    502\u001b[0m             \u001b[0mfunc\u001b[0m \u001b[0;34m=\u001b[0m \u001b[0mgetattr\u001b[0m\u001b[0;34m(\u001b[0m\u001b[0mhandler\u001b[0m\u001b[0;34m,\u001b[0m \u001b[0mmeth_name\u001b[0m\u001b[0;34m)\u001b[0m\u001b[0;34m\u001b[0m\u001b[0;34m\u001b[0m\u001b[0m\n\u001b[0;32m--> 503\u001b[0;31m             \u001b[0mresult\u001b[0m \u001b[0;34m=\u001b[0m \u001b[0mfunc\u001b[0m\u001b[0;34m(\u001b[0m\u001b[0;34m*\u001b[0m\u001b[0margs\u001b[0m\u001b[0;34m)\u001b[0m\u001b[0;34m\u001b[0m\u001b[0;34m\u001b[0m\u001b[0m\n\u001b[0m\u001b[1;32m    504\u001b[0m             \u001b[0;32mif\u001b[0m \u001b[0mresult\u001b[0m \u001b[0;32mis\u001b[0m \u001b[0;32mnot\u001b[0m \u001b[0;32mNone\u001b[0m\u001b[0;34m:\u001b[0m\u001b[0;34m\u001b[0m\u001b[0;34m\u001b[0m\u001b[0m\n\u001b[1;32m    505\u001b[0m                 \u001b[0;32mreturn\u001b[0m \u001b[0mresult\u001b[0m\u001b[0;34m\u001b[0m\u001b[0;34m\u001b[0m\u001b[0m\n",
            "\u001b[0;32m/usr/lib/python3.7/urllib/request.py\u001b[0m in \u001b[0;36mhttp_error_default\u001b[0;34m(self, req, fp, code, msg, hdrs)\u001b[0m\n\u001b[1;32m    647\u001b[0m \u001b[0;32mclass\u001b[0m \u001b[0mHTTPDefaultErrorHandler\u001b[0m\u001b[0;34m(\u001b[0m\u001b[0mBaseHandler\u001b[0m\u001b[0;34m)\u001b[0m\u001b[0;34m:\u001b[0m\u001b[0;34m\u001b[0m\u001b[0;34m\u001b[0m\u001b[0m\n\u001b[1;32m    648\u001b[0m     \u001b[0;32mdef\u001b[0m \u001b[0mhttp_error_default\u001b[0m\u001b[0;34m(\u001b[0m\u001b[0mself\u001b[0m\u001b[0;34m,\u001b[0m \u001b[0mreq\u001b[0m\u001b[0;34m,\u001b[0m \u001b[0mfp\u001b[0m\u001b[0;34m,\u001b[0m \u001b[0mcode\u001b[0m\u001b[0;34m,\u001b[0m \u001b[0mmsg\u001b[0m\u001b[0;34m,\u001b[0m \u001b[0mhdrs\u001b[0m\u001b[0;34m)\u001b[0m\u001b[0;34m:\u001b[0m\u001b[0;34m\u001b[0m\u001b[0;34m\u001b[0m\u001b[0m\n\u001b[0;32m--> 649\u001b[0;31m         \u001b[0;32mraise\u001b[0m \u001b[0mHTTPError\u001b[0m\u001b[0;34m(\u001b[0m\u001b[0mreq\u001b[0m\u001b[0;34m.\u001b[0m\u001b[0mfull_url\u001b[0m\u001b[0;34m,\u001b[0m \u001b[0mcode\u001b[0m\u001b[0;34m,\u001b[0m \u001b[0mmsg\u001b[0m\u001b[0;34m,\u001b[0m \u001b[0mhdrs\u001b[0m\u001b[0;34m,\u001b[0m \u001b[0mfp\u001b[0m\u001b[0;34m)\u001b[0m\u001b[0;34m\u001b[0m\u001b[0;34m\u001b[0m\u001b[0m\n\u001b[0m\u001b[1;32m    650\u001b[0m \u001b[0;34m\u001b[0m\u001b[0m\n\u001b[1;32m    651\u001b[0m \u001b[0;32mclass\u001b[0m \u001b[0mHTTPRedirectHandler\u001b[0m\u001b[0;34m(\u001b[0m\u001b[0mBaseHandler\u001b[0m\u001b[0;34m)\u001b[0m\u001b[0;34m:\u001b[0m\u001b[0;34m\u001b[0m\u001b[0;34m\u001b[0m\u001b[0m\n",
            "\u001b[0;31mHTTPError\u001b[0m: HTTP Error 429: Too Many Requests"
          ]
        }
      ]
    },
    {
      "cell_type": "code",
      "metadata": {
        "id": "H-ftLKIVoITy"
      },
      "source": [
        "roads.fclass_PL = roads.fclass.replace(fclass_unique_trans)"
      ],
      "execution_count": null,
      "outputs": []
    },
    {
      "cell_type": "code",
      "metadata": {
        "id": "DJlj33Yalr4-"
      },
      "source": [
        "roads.head()"
      ],
      "execution_count": null,
      "outputs": []
    },
    {
      "cell_type": "code",
      "metadata": {
        "colab": {
          "base_uri": "https://localhost:8080/"
        },
        "id": "C4TSf_jpWL8o",
        "outputId": "5fb742f3-f447-46ab-ffd6-60440ac1eb6e"
      },
      "source": [
        "roads.fclass.value_counts()"
      ],
      "execution_count": 56,
      "outputs": [
        {
          "output_type": "execute_result",
          "data": {
            "text/plain": [
              "service           135908\n",
              "footway            58960\n",
              "track              53057\n",
              "residential        46681\n",
              "path               15268\n",
              "tertiary           12248\n",
              "unclassified        7736\n",
              "primary             5409\n",
              "secondary           5385\n",
              "steps               5327\n",
              "track_grade5        4268\n",
              "cycleway            4019\n",
              "track_grade1        3947\n",
              "track_grade4        3502\n",
              "track_grade3        3317\n",
              "track_grade2        2806\n",
              "living_street       2197\n",
              "pedestrian          1004\n",
              "motorway             540\n",
              "motorway_link        293\n",
              "primary_link         248\n",
              "trunk                180\n",
              "tertiary_link        147\n",
              "secondary_link       101\n",
              "trunk_link            68\n",
              "bridleway             54\n",
              "Name: fclass, dtype: int64"
            ]
          },
          "metadata": {
            "tags": []
          },
          "execution_count": 56
        }
      ]
    },
    {
      "cell_type": "code",
      "metadata": {
        "id": "QLI1aHWgf1T0",
        "outputId": "b9cc515d-86a1-4fb0-ea19-11106d8e5d43",
        "colab": {
          "base_uri": "https://localhost:8080/"
        }
      },
      "source": [
        "roads.maxspeed.value_counts().sort_index()"
      ],
      "execution_count": 151,
      "outputs": [
        {
          "output_type": "execute_result",
          "data": {
            "text/plain": [
              "0      347782\n",
              "5          43\n",
              "10         93\n",
              "15         18\n",
              "20       2017\n",
              "25          6\n",
              "30       3987\n",
              "40       2131\n",
              "50      11407\n",
              "60        414\n",
              "70       1843\n",
              "80         53\n",
              "90       1878\n",
              "100       315\n",
              "110         1\n",
              "120       128\n",
              "130         1\n",
              "140       553\n",
              "Name: maxspeed, dtype: int64"
            ]
          },
          "metadata": {
            "tags": []
          },
          "execution_count": 151
        }
      ]
    },
    {
      "cell_type": "code",
      "metadata": {
        "colab": {
          "base_uri": "https://localhost:8080/",
          "height": 250
        },
        "id": "rDO_TKAxPhQr",
        "outputId": "c06aa711-fc5e-462c-d5f8-537a48d087f5"
      },
      "source": [
        "%time\n",
        "pofw = GeoDataFrame.from_file('maps/gis_osm_pofw_free_1.shp', encoding='utf-8')\n",
        "print(pofw.shape)\n",
        "pofw.head()"
      ],
      "execution_count": 57,
      "outputs": [
        {
          "output_type": "stream",
          "text": [
            "CPU times: user 3 µs, sys: 0 ns, total: 3 µs\n",
            "Wall time: 5.25 µs\n",
            "(1718, 5)\n"
          ],
          "name": "stdout"
        },
        {
          "output_type": "execute_result",
          "data": {
            "text/html": [
              "<div>\n",
              "<style scoped>\n",
              "    .dataframe tbody tr th:only-of-type {\n",
              "        vertical-align: middle;\n",
              "    }\n",
              "\n",
              "    .dataframe tbody tr th {\n",
              "        vertical-align: top;\n",
              "    }\n",
              "\n",
              "    .dataframe thead th {\n",
              "        text-align: right;\n",
              "    }\n",
              "</style>\n",
              "<table border=\"1\" class=\"dataframe\">\n",
              "  <thead>\n",
              "    <tr style=\"text-align: right;\">\n",
              "      <th></th>\n",
              "      <th>osm_id</th>\n",
              "      <th>code</th>\n",
              "      <th>fclass</th>\n",
              "      <th>name</th>\n",
              "      <th>geometry</th>\n",
              "    </tr>\n",
              "  </thead>\n",
              "  <tbody>\n",
              "    <tr>\n",
              "      <th>0</th>\n",
              "      <td>672084028</td>\n",
              "      <td>3100</td>\n",
              "      <td>christian</td>\n",
              "      <td>None</td>\n",
              "      <td>POINT (20.71168 49.41291)</td>\n",
              "    </tr>\n",
              "    <tr>\n",
              "      <th>1</th>\n",
              "      <td>672084039</td>\n",
              "      <td>3100</td>\n",
              "      <td>christian</td>\n",
              "      <td>None</td>\n",
              "      <td>POINT (20.72726 49.41456)</td>\n",
              "    </tr>\n",
              "    <tr>\n",
              "      <th>2</th>\n",
              "      <td>672084043</td>\n",
              "      <td>3100</td>\n",
              "      <td>christian</td>\n",
              "      <td>None</td>\n",
              "      <td>POINT (20.72149 49.41717)</td>\n",
              "    </tr>\n",
              "    <tr>\n",
              "      <th>3</th>\n",
              "      <td>672084046</td>\n",
              "      <td>3100</td>\n",
              "      <td>christian</td>\n",
              "      <td>None</td>\n",
              "      <td>POINT (20.69901 49.41636)</td>\n",
              "    </tr>\n",
              "    <tr>\n",
              "      <th>4</th>\n",
              "      <td>672084110</td>\n",
              "      <td>3100</td>\n",
              "      <td>christian</td>\n",
              "      <td>None</td>\n",
              "      <td>POINT (20.79427 49.33344)</td>\n",
              "    </tr>\n",
              "  </tbody>\n",
              "</table>\n",
              "</div>"
            ],
            "text/plain": [
              "      osm_id  code     fclass  name                   geometry\n",
              "0  672084028  3100  christian  None  POINT (20.71168 49.41291)\n",
              "1  672084039  3100  christian  None  POINT (20.72726 49.41456)\n",
              "2  672084043  3100  christian  None  POINT (20.72149 49.41717)\n",
              "3  672084046  3100  christian  None  POINT (20.69901 49.41636)\n",
              "4  672084110  3100  christian  None  POINT (20.79427 49.33344)"
            ]
          },
          "metadata": {
            "tags": []
          },
          "execution_count": 57
        }
      ]
    },
    {
      "cell_type": "code",
      "metadata": {
        "colab": {
          "base_uri": "https://localhost:8080/"
        },
        "id": "PlYIdKfcWLKx",
        "outputId": "f2dcbcf2-87ee-4615-ebfd-106d1d118f41"
      },
      "source": [
        "pofw.fclass.value_counts()"
      ],
      "execution_count": 58,
      "outputs": [
        {
          "output_type": "execute_result",
          "data": {
            "text/plain": [
              "christian               1335\n",
              "christian_catholic       356\n",
              "christian_orthodox        10\n",
              "jewish                    10\n",
              "christian_protestant       4\n",
              "christian_methodist        1\n",
              "christian_lutheran         1\n",
              "muslim                     1\n",
              "Name: fclass, dtype: int64"
            ]
          },
          "metadata": {
            "tags": []
          },
          "execution_count": 58
        }
      ]
    },
    {
      "cell_type": "code",
      "metadata": {
        "colab": {
          "base_uri": "https://localhost:8080/",
          "height": 250
        },
        "id": "_AgNV9IZPtnS",
        "outputId": "641dc5d5-bbf1-41f9-efb3-c14de0fed074"
      },
      "source": [
        "%time\n",
        "waterways = GeoDataFrame.from_file('maps/gis_osm_waterways_free_1.shp', encoding='utf-8')\n",
        "print(waterways.shape)\n",
        "waterways.head()"
      ],
      "execution_count": 59,
      "outputs": [
        {
          "output_type": "stream",
          "text": [
            "CPU times: user 2 µs, sys: 0 ns, total: 2 µs\n",
            "Wall time: 5.01 µs\n",
            "(46600, 6)\n"
          ],
          "name": "stdout"
        },
        {
          "output_type": "execute_result",
          "data": {
            "text/html": [
              "<div>\n",
              "<style scoped>\n",
              "    .dataframe tbody tr th:only-of-type {\n",
              "        vertical-align: middle;\n",
              "    }\n",
              "\n",
              "    .dataframe tbody tr th {\n",
              "        vertical-align: top;\n",
              "    }\n",
              "\n",
              "    .dataframe thead th {\n",
              "        text-align: right;\n",
              "    }\n",
              "</style>\n",
              "<table border=\"1\" class=\"dataframe\">\n",
              "  <thead>\n",
              "    <tr style=\"text-align: right;\">\n",
              "      <th></th>\n",
              "      <th>osm_id</th>\n",
              "      <th>code</th>\n",
              "      <th>fclass</th>\n",
              "      <th>width</th>\n",
              "      <th>name</th>\n",
              "      <th>geometry</th>\n",
              "    </tr>\n",
              "  </thead>\n",
              "  <tbody>\n",
              "    <tr>\n",
              "      <th>0</th>\n",
              "      <td>5819083</td>\n",
              "      <td>8101</td>\n",
              "      <td>river</td>\n",
              "      <td>0</td>\n",
              "      <td>Biała</td>\n",
              "      <td>LINESTRING (21.06901 49.44025, 21.06736 49.440...</td>\n",
              "    </tr>\n",
              "    <tr>\n",
              "      <th>1</th>\n",
              "      <td>5819592</td>\n",
              "      <td>8101</td>\n",
              "      <td>river</td>\n",
              "      <td>0</td>\n",
              "      <td>Dunajec</td>\n",
              "      <td>LINESTRING (20.68030 49.80995, 20.68049 49.810...</td>\n",
              "    </tr>\n",
              "    <tr>\n",
              "      <th>2</th>\n",
              "      <td>5909314</td>\n",
              "      <td>8101</td>\n",
              "      <td>river</td>\n",
              "      <td>0</td>\n",
              "      <td>Ropa</td>\n",
              "      <td>LINESTRING (21.04776 49.60824, 21.04990 49.609...</td>\n",
              "    </tr>\n",
              "    <tr>\n",
              "      <th>3</th>\n",
              "      <td>5909428</td>\n",
              "      <td>8101</td>\n",
              "      <td>river</td>\n",
              "      <td>0</td>\n",
              "      <td>Dunajec</td>\n",
              "      <td>LINESTRING (20.65635 49.69135, 20.66124 49.693...</td>\n",
              "    </tr>\n",
              "    <tr>\n",
              "      <th>4</th>\n",
              "      <td>5909630</td>\n",
              "      <td>8101</td>\n",
              "      <td>river</td>\n",
              "      <td>0</td>\n",
              "      <td>Dunajec</td>\n",
              "      <td>LINESTRING (20.47315 49.53902, 20.47866 49.537...</td>\n",
              "    </tr>\n",
              "  </tbody>\n",
              "</table>\n",
              "</div>"
            ],
            "text/plain": [
              "    osm_id  code  ...     name                                           geometry\n",
              "0  5819083  8101  ...    Biała  LINESTRING (21.06901 49.44025, 21.06736 49.440...\n",
              "1  5819592  8101  ...  Dunajec  LINESTRING (20.68030 49.80995, 20.68049 49.810...\n",
              "2  5909314  8101  ...     Ropa  LINESTRING (21.04776 49.60824, 21.04990 49.609...\n",
              "3  5909428  8101  ...  Dunajec  LINESTRING (20.65635 49.69135, 20.66124 49.693...\n",
              "4  5909630  8101  ...  Dunajec  LINESTRING (20.47315 49.53902, 20.47866 49.537...\n",
              "\n",
              "[5 rows x 6 columns]"
            ]
          },
          "metadata": {
            "tags": []
          },
          "execution_count": 59
        }
      ]
    },
    {
      "cell_type": "code",
      "metadata": {
        "colab": {
          "base_uri": "https://localhost:8080/"
        },
        "id": "UMxaRZioWKdq",
        "outputId": "1e53fdc4-5c3f-4dc0-961c-d2a02fef844c"
      },
      "source": [
        "waterways.fclass.value_counts()"
      ],
      "execution_count": 60,
      "outputs": [
        {
          "output_type": "execute_result",
          "data": {
            "text/plain": [
              "stream    43521\n",
              "river      1582\n",
              "drain      1300\n",
              "canal       197\n",
              "Name: fclass, dtype: int64"
            ]
          },
          "metadata": {
            "tags": []
          },
          "execution_count": 60
        }
      ]
    },
    {
      "cell_type": "code",
      "metadata": {
        "colab": {
          "base_uri": "https://localhost:8080/",
          "height": 250
        },
        "id": "9PsGR_R_QDoy",
        "outputId": "3093e2ad-aa95-4fa7-e942-b77431a763b4"
      },
      "source": [
        "%time\n",
        "railways = GeoDataFrame.from_file('maps/gis_osm_railways_free_1.shp', encoding='utf-8')\n",
        "print(railways.shape)\n",
        "railways.head()"
      ],
      "execution_count": 61,
      "outputs": [
        {
          "output_type": "stream",
          "text": [
            "CPU times: user 3 µs, sys: 0 ns, total: 3 µs\n",
            "Wall time: 5.96 µs\n",
            "(6123, 8)\n"
          ],
          "name": "stdout"
        },
        {
          "output_type": "execute_result",
          "data": {
            "text/html": [
              "<div>\n",
              "<style scoped>\n",
              "    .dataframe tbody tr th:only-of-type {\n",
              "        vertical-align: middle;\n",
              "    }\n",
              "\n",
              "    .dataframe tbody tr th {\n",
              "        vertical-align: top;\n",
              "    }\n",
              "\n",
              "    .dataframe thead th {\n",
              "        text-align: right;\n",
              "    }\n",
              "</style>\n",
              "<table border=\"1\" class=\"dataframe\">\n",
              "  <thead>\n",
              "    <tr style=\"text-align: right;\">\n",
              "      <th></th>\n",
              "      <th>osm_id</th>\n",
              "      <th>code</th>\n",
              "      <th>fclass</th>\n",
              "      <th>name</th>\n",
              "      <th>layer</th>\n",
              "      <th>bridge</th>\n",
              "      <th>tunnel</th>\n",
              "      <th>geometry</th>\n",
              "    </tr>\n",
              "  </thead>\n",
              "  <tbody>\n",
              "    <tr>\n",
              "      <th>0</th>\n",
              "      <td>4820685</td>\n",
              "      <td>6101</td>\n",
              "      <td>rail</td>\n",
              "      <td>None</td>\n",
              "      <td>0</td>\n",
              "      <td>F</td>\n",
              "      <td>F</td>\n",
              "      <td>LINESTRING (19.81982 50.10854, 19.83200 50.099...</td>\n",
              "    </tr>\n",
              "    <tr>\n",
              "      <th>1</th>\n",
              "      <td>5901391</td>\n",
              "      <td>6101</td>\n",
              "      <td>rail</td>\n",
              "      <td>None</td>\n",
              "      <td>0</td>\n",
              "      <td>F</td>\n",
              "      <td>F</td>\n",
              "      <td>LINESTRING (20.15380 50.02779, 20.15478 50.030...</td>\n",
              "    </tr>\n",
              "    <tr>\n",
              "      <th>2</th>\n",
              "      <td>5901548</td>\n",
              "      <td>6101</td>\n",
              "      <td>rail</td>\n",
              "      <td>None</td>\n",
              "      <td>0</td>\n",
              "      <td>F</td>\n",
              "      <td>F</td>\n",
              "      <td>LINESTRING (19.96535 50.04225, 19.96580 50.041...</td>\n",
              "    </tr>\n",
              "    <tr>\n",
              "      <th>3</th>\n",
              "      <td>5901574</td>\n",
              "      <td>6101</td>\n",
              "      <td>rail</td>\n",
              "      <td>None</td>\n",
              "      <td>0</td>\n",
              "      <td>F</td>\n",
              "      <td>F</td>\n",
              "      <td>LINESTRING (20.37067 49.98760, 20.38054 49.98492)</td>\n",
              "    </tr>\n",
              "    <tr>\n",
              "      <th>4</th>\n",
              "      <td>5901827</td>\n",
              "      <td>6101</td>\n",
              "      <td>rail</td>\n",
              "      <td>None</td>\n",
              "      <td>1</td>\n",
              "      <td>T</td>\n",
              "      <td>F</td>\n",
              "      <td>LINESTRING (20.15380 50.02779, 20.15373 50.02761)</td>\n",
              "    </tr>\n",
              "  </tbody>\n",
              "</table>\n",
              "</div>"
            ],
            "text/plain": [
              "    osm_id  code  ... tunnel                                           geometry\n",
              "0  4820685  6101  ...      F  LINESTRING (19.81982 50.10854, 19.83200 50.099...\n",
              "1  5901391  6101  ...      F  LINESTRING (20.15380 50.02779, 20.15478 50.030...\n",
              "2  5901548  6101  ...      F  LINESTRING (19.96535 50.04225, 19.96580 50.041...\n",
              "3  5901574  6101  ...      F  LINESTRING (20.37067 49.98760, 20.38054 49.98492)\n",
              "4  5901827  6101  ...      F  LINESTRING (20.15380 50.02779, 20.15373 50.02761)\n",
              "\n",
              "[5 rows x 8 columns]"
            ]
          },
          "metadata": {
            "tags": []
          },
          "execution_count": 61
        }
      ]
    },
    {
      "cell_type": "code",
      "metadata": {
        "colab": {
          "base_uri": "https://localhost:8080/"
        },
        "id": "M7vqRvx4WJrn",
        "outputId": "9aa8b516-3776-47ea-92df-03ce5df242f2"
      },
      "source": [
        "railways.fclass.value_counts()"
      ],
      "execution_count": 62,
      "outputs": [
        {
          "output_type": "execute_result",
          "data": {
            "text/plain": [
              "rail            5150\n",
              "tram             769\n",
              "narrow_gauge     178\n",
              "monorail          19\n",
              "funicular          7\n",
              "Name: fclass, dtype: int64"
            ]
          },
          "metadata": {
            "tags": []
          },
          "execution_count": 62
        }
      ]
    },
    {
      "cell_type": "code",
      "metadata": {
        "colab": {
          "base_uri": "https://localhost:8080/",
          "height": 250
        },
        "id": "I06gMyeyQKwz",
        "outputId": "cbb9f6ab-0460-4acc-a96f-876baae2aa80"
      },
      "source": [
        "%time\n",
        "transport_a = GeoDataFrame.from_file('maps/gis_osm_transport_a_free_1.shp', encoding='utf-8')\n",
        "print(transport_a.shape)\n",
        "transport_a.head()"
      ],
      "execution_count": 63,
      "outputs": [
        {
          "output_type": "stream",
          "text": [
            "CPU times: user 4 µs, sys: 0 ns, total: 4 µs\n",
            "Wall time: 7.87 µs\n",
            "(638, 5)\n"
          ],
          "name": "stdout"
        },
        {
          "output_type": "execute_result",
          "data": {
            "text/html": [
              "<div>\n",
              "<style scoped>\n",
              "    .dataframe tbody tr th:only-of-type {\n",
              "        vertical-align: middle;\n",
              "    }\n",
              "\n",
              "    .dataframe tbody tr th {\n",
              "        vertical-align: top;\n",
              "    }\n",
              "\n",
              "    .dataframe thead th {\n",
              "        text-align: right;\n",
              "    }\n",
              "</style>\n",
              "<table border=\"1\" class=\"dataframe\">\n",
              "  <thead>\n",
              "    <tr style=\"text-align: right;\">\n",
              "      <th></th>\n",
              "      <th>osm_id</th>\n",
              "      <th>code</th>\n",
              "      <th>fclass</th>\n",
              "      <th>name</th>\n",
              "      <th>geometry</th>\n",
              "    </tr>\n",
              "  </thead>\n",
              "  <tbody>\n",
              "    <tr>\n",
              "      <th>0</th>\n",
              "      <td>19796272</td>\n",
              "      <td>5656</td>\n",
              "      <td>apron</td>\n",
              "      <td>None</td>\n",
              "      <td>POLYGON ((19.78131 50.07318, 19.78147 50.07336...</td>\n",
              "    </tr>\n",
              "    <tr>\n",
              "      <th>1</th>\n",
              "      <td>26424475</td>\n",
              "      <td>5656</td>\n",
              "      <td>apron</td>\n",
              "      <td>None</td>\n",
              "      <td>POLYGON ((20.19613 50.08498, 20.19929 50.08502...</td>\n",
              "    </tr>\n",
              "    <tr>\n",
              "      <th>2</th>\n",
              "      <td>39272551</td>\n",
              "      <td>5622</td>\n",
              "      <td>bus_station</td>\n",
              "      <td>Azory</td>\n",
              "      <td>POLYGON ((19.90876 50.08659, 19.90877 50.08663...</td>\n",
              "    </tr>\n",
              "    <tr>\n",
              "      <th>3</th>\n",
              "      <td>43457434</td>\n",
              "      <td>5622</td>\n",
              "      <td>bus_station</td>\n",
              "      <td>Dworzec Autobusowy</td>\n",
              "      <td>POLYGON ((20.69748 49.61713, 20.69845 49.61749...</td>\n",
              "    </tr>\n",
              "    <tr>\n",
              "      <th>4</th>\n",
              "      <td>49156766</td>\n",
              "      <td>5621</td>\n",
              "      <td>bus_stop</td>\n",
              "      <td>Prokocim Szpital</td>\n",
              "      <td>POLYGON ((20.00093 50.01492, 20.00142 50.01518...</td>\n",
              "    </tr>\n",
              "  </tbody>\n",
              "</table>\n",
              "</div>"
            ],
            "text/plain": [
              "     osm_id  ...                                           geometry\n",
              "0  19796272  ...  POLYGON ((19.78131 50.07318, 19.78147 50.07336...\n",
              "1  26424475  ...  POLYGON ((20.19613 50.08498, 20.19929 50.08502...\n",
              "2  39272551  ...  POLYGON ((19.90876 50.08659, 19.90877 50.08663...\n",
              "3  43457434  ...  POLYGON ((20.69748 49.61713, 20.69845 49.61749...\n",
              "4  49156766  ...  POLYGON ((20.00093 50.01492, 20.00142 50.01518...\n",
              "\n",
              "[5 rows x 5 columns]"
            ]
          },
          "metadata": {
            "tags": []
          },
          "execution_count": 63
        }
      ]
    },
    {
      "cell_type": "code",
      "metadata": {
        "colab": {
          "base_uri": "https://localhost:8080/"
        },
        "id": "48uYhaCCWJDN",
        "outputId": "46edf46b-b41b-4b59-9306-7811409893b0"
      },
      "source": [
        "transport_a.fclass.value_counts()"
      ],
      "execution_count": 64,
      "outputs": [
        {
          "output_type": "execute_result",
          "data": {
            "text/plain": [
              "bus_stop           523\n",
              "helipad             42\n",
              "bus_station         35\n",
              "taxi                16\n",
              "apron                9\n",
              "airport              8\n",
              "tram_stop            2\n",
              "railway_station      2\n",
              "airfield             1\n",
              "Name: fclass, dtype: int64"
            ]
          },
          "metadata": {
            "tags": []
          },
          "execution_count": 64
        }
      ]
    },
    {
      "cell_type": "code",
      "metadata": {
        "colab": {
          "base_uri": "https://localhost:8080/",
          "height": 250
        },
        "id": "GGKxfJ3QQQlV",
        "outputId": "abc25aea-5a99-414a-ec05-92b1b41c1982"
      },
      "source": [
        "%time\n",
        "pois = GeoDataFrame.from_file('maps/gis_osm_pois_free_1.shp', encoding='utf-8')\n",
        "print(pois.shape)\n",
        "pois.head()"
      ],
      "execution_count": 65,
      "outputs": [
        {
          "output_type": "stream",
          "text": [
            "CPU times: user 4 µs, sys: 0 ns, total: 4 µs\n",
            "Wall time: 8.58 µs\n",
            "(33833, 5)\n"
          ],
          "name": "stdout"
        },
        {
          "output_type": "execute_result",
          "data": {
            "text/html": [
              "<div>\n",
              "<style scoped>\n",
              "    .dataframe tbody tr th:only-of-type {\n",
              "        vertical-align: middle;\n",
              "    }\n",
              "\n",
              "    .dataframe tbody tr th {\n",
              "        vertical-align: top;\n",
              "    }\n",
              "\n",
              "    .dataframe thead th {\n",
              "        text-align: right;\n",
              "    }\n",
              "</style>\n",
              "<table border=\"1\" class=\"dataframe\">\n",
              "  <thead>\n",
              "    <tr style=\"text-align: right;\">\n",
              "      <th></th>\n",
              "      <th>osm_id</th>\n",
              "      <th>code</th>\n",
              "      <th>fclass</th>\n",
              "      <th>name</th>\n",
              "      <th>geometry</th>\n",
              "    </tr>\n",
              "  </thead>\n",
              "  <tbody>\n",
              "    <tr>\n",
              "      <th>0</th>\n",
              "      <td>25606107</td>\n",
              "      <td>2701</td>\n",
              "      <td>tourist_info</td>\n",
              "      <td>Rysy</td>\n",
              "      <td>POINT (20.08808 49.17946)</td>\n",
              "    </tr>\n",
              "    <tr>\n",
              "      <th>1</th>\n",
              "      <td>26860250</td>\n",
              "      <td>2422</td>\n",
              "      <td>camp_site</td>\n",
              "      <td>Camp-Cup</td>\n",
              "      <td>POINT (19.62601 49.57885)</td>\n",
              "    </tr>\n",
              "    <tr>\n",
              "      <th>2</th>\n",
              "      <td>26860273</td>\n",
              "      <td>2422</td>\n",
              "      <td>camp_site</td>\n",
              "      <td>Harenda</td>\n",
              "      <td>POINT (19.98500 49.32417)</td>\n",
              "    </tr>\n",
              "    <tr>\n",
              "      <th>3</th>\n",
              "      <td>26860287</td>\n",
              "      <td>2422</td>\n",
              "      <td>camp_site</td>\n",
              "      <td>Krakowianka</td>\n",
              "      <td>POINT (19.92453 50.01552)</td>\n",
              "    </tr>\n",
              "    <tr>\n",
              "      <th>4</th>\n",
              "      <td>31944307</td>\n",
              "      <td>2404</td>\n",
              "      <td>guesthouse</td>\n",
              "      <td>Wawrzka</td>\n",
              "      <td>POINT (20.98333 49.58333)</td>\n",
              "    </tr>\n",
              "  </tbody>\n",
              "</table>\n",
              "</div>"
            ],
            "text/plain": [
              "     osm_id  code        fclass         name                   geometry\n",
              "0  25606107  2701  tourist_info         Rysy  POINT (20.08808 49.17946)\n",
              "1  26860250  2422     camp_site     Camp-Cup  POINT (19.62601 49.57885)\n",
              "2  26860273  2422     camp_site      Harenda  POINT (19.98500 49.32417)\n",
              "3  26860287  2422     camp_site  Krakowianka  POINT (19.92453 50.01552)\n",
              "4  31944307  2404    guesthouse      Wawrzka  POINT (20.98333 49.58333)"
            ]
          },
          "metadata": {
            "tags": []
          },
          "execution_count": 65
        }
      ]
    },
    {
      "cell_type": "code",
      "metadata": {
        "colab": {
          "base_uri": "https://localhost:8080/"
        },
        "id": "VsofUlbJWIVm",
        "outputId": "3a21212a-07c3-4b34-c3cc-94bfc9dc918d"
      },
      "source": [
        "pois.fclass.value_counts()"
      ],
      "execution_count": 66,
      "outputs": [
        {
          "output_type": "execute_result",
          "data": {
            "text/plain": [
              "bench             5008\n",
              "convenience       2033\n",
              "tourist_info      1726\n",
              "wayside_shrine    1605\n",
              "restaurant        1481\n",
              "                  ... \n",
              "battlefield          2\n",
              "embassy              1\n",
              "prison               1\n",
              "lighthouse           1\n",
              "water_mill           1\n",
              "Name: fclass, Length: 132, dtype: int64"
            ]
          },
          "metadata": {
            "tags": []
          },
          "execution_count": 66
        }
      ]
    },
    {
      "cell_type": "code",
      "metadata": {
        "colab": {
          "base_uri": "https://localhost:8080/",
          "height": 250
        },
        "id": "wG-Mdw_UQXkc",
        "outputId": "e590b6bd-0ffe-47ea-bcdf-e1d249d27b6a"
      },
      "source": [
        "%time\n",
        "transport = GeoDataFrame.from_file('maps/gis_osm_transport_free_1.shp', encoding='utf-8')\n",
        "print(transport.shape)\n",
        "transport.head()"
      ],
      "execution_count": 67,
      "outputs": [
        {
          "output_type": "stream",
          "text": [
            "CPU times: user 4 µs, sys: 0 ns, total: 4 µs\n",
            "Wall time: 8.34 µs\n",
            "(10106, 5)\n"
          ],
          "name": "stdout"
        },
        {
          "output_type": "execute_result",
          "data": {
            "text/html": [
              "<div>\n",
              "<style scoped>\n",
              "    .dataframe tbody tr th:only-of-type {\n",
              "        vertical-align: middle;\n",
              "    }\n",
              "\n",
              "    .dataframe tbody tr th {\n",
              "        vertical-align: top;\n",
              "    }\n",
              "\n",
              "    .dataframe thead th {\n",
              "        text-align: right;\n",
              "    }\n",
              "</style>\n",
              "<table border=\"1\" class=\"dataframe\">\n",
              "  <thead>\n",
              "    <tr style=\"text-align: right;\">\n",
              "      <th></th>\n",
              "      <th>osm_id</th>\n",
              "      <th>code</th>\n",
              "      <th>fclass</th>\n",
              "      <th>name</th>\n",
              "      <th>geometry</th>\n",
              "    </tr>\n",
              "  </thead>\n",
              "  <tbody>\n",
              "    <tr>\n",
              "      <th>0</th>\n",
              "      <td>41943557</td>\n",
              "      <td>5601</td>\n",
              "      <td>railway_station</td>\n",
              "      <td>Kraków Mydlniki</td>\n",
              "      <td>POINT (19.85970 50.08360)</td>\n",
              "    </tr>\n",
              "    <tr>\n",
              "      <th>1</th>\n",
              "      <td>48267476</td>\n",
              "      <td>5601</td>\n",
              "      <td>railway_station</td>\n",
              "      <td>Bochnia</td>\n",
              "      <td>POINT (20.43151 49.97729)</td>\n",
              "    </tr>\n",
              "    <tr>\n",
              "      <th>2</th>\n",
              "      <td>48522023</td>\n",
              "      <td>5601</td>\n",
              "      <td>railway_station</td>\n",
              "      <td>Kraków Batowice</td>\n",
              "      <td>POINT (19.99547 50.10753)</td>\n",
              "    </tr>\n",
              "    <tr>\n",
              "      <th>3</th>\n",
              "      <td>48523754</td>\n",
              "      <td>5601</td>\n",
              "      <td>railway_station</td>\n",
              "      <td>Kraków Nowa Huta</td>\n",
              "      <td>POINT (20.12950 50.09058)</td>\n",
              "    </tr>\n",
              "    <tr>\n",
              "      <th>4</th>\n",
              "      <td>48526714</td>\n",
              "      <td>5602</td>\n",
              "      <td>railway_halt</td>\n",
              "      <td>Słomniki Miasto</td>\n",
              "      <td>POINT (20.07637 50.23587)</td>\n",
              "    </tr>\n",
              "  </tbody>\n",
              "</table>\n",
              "</div>"
            ],
            "text/plain": [
              "     osm_id  code           fclass              name                   geometry\n",
              "0  41943557  5601  railway_station   Kraków Mydlniki  POINT (19.85970 50.08360)\n",
              "1  48267476  5601  railway_station           Bochnia  POINT (20.43151 49.97729)\n",
              "2  48522023  5601  railway_station   Kraków Batowice  POINT (19.99547 50.10753)\n",
              "3  48523754  5601  railway_station  Kraków Nowa Huta  POINT (20.12950 50.09058)\n",
              "4  48526714  5602     railway_halt   Słomniki Miasto  POINT (20.07637 50.23587)"
            ]
          },
          "metadata": {
            "tags": []
          },
          "execution_count": 67
        }
      ]
    },
    {
      "cell_type": "code",
      "metadata": {
        "colab": {
          "base_uri": "https://localhost:8080/"
        },
        "id": "w5vaDjjZWHrz",
        "outputId": "509c700c-a182-40c2-cae2-a920ed5cd4fb"
      },
      "source": [
        "transport.fclass.value_counts()"
      ],
      "execution_count": 68,
      "outputs": [
        {
          "output_type": "execute_result",
          "data": {
            "text/plain": [
              "bus_stop           9391\n",
              "tram_stop           365\n",
              "railway_halt        122\n",
              "railway_station      91\n",
              "taxi                 79\n",
              "bus_station          30\n",
              "ferry_terminal       21\n",
              "helipad               6\n",
              "airport               1\n",
              "Name: fclass, dtype: int64"
            ]
          },
          "metadata": {
            "tags": []
          },
          "execution_count": 68
        }
      ]
    },
    {
      "cell_type": "code",
      "metadata": {
        "colab": {
          "base_uri": "https://localhost:8080/",
          "height": 250
        },
        "id": "8sKH9L2iQmYw",
        "outputId": "d206a3c3-1f9a-4395-8b3c-fe7c9203613d"
      },
      "source": [
        "%time\n",
        "places_a = GeoDataFrame.from_file('maps/gis_osm_places_a_free_1.shp', encoding='utf-8')\n",
        "print(places_a.shape)\n",
        "places_a.head()"
      ],
      "execution_count": 69,
      "outputs": [
        {
          "output_type": "stream",
          "text": [
            "CPU times: user 3 µs, sys: 0 ns, total: 3 µs\n",
            "Wall time: 5.01 µs\n",
            "(34, 6)\n"
          ],
          "name": "stdout"
        },
        {
          "output_type": "execute_result",
          "data": {
            "text/html": [
              "<div>\n",
              "<style scoped>\n",
              "    .dataframe tbody tr th:only-of-type {\n",
              "        vertical-align: middle;\n",
              "    }\n",
              "\n",
              "    .dataframe tbody tr th {\n",
              "        vertical-align: top;\n",
              "    }\n",
              "\n",
              "    .dataframe thead th {\n",
              "        text-align: right;\n",
              "    }\n",
              "</style>\n",
              "<table border=\"1\" class=\"dataframe\">\n",
              "  <thead>\n",
              "    <tr style=\"text-align: right;\">\n",
              "      <th></th>\n",
              "      <th>osm_id</th>\n",
              "      <th>code</th>\n",
              "      <th>fclass</th>\n",
              "      <th>population</th>\n",
              "      <th>name</th>\n",
              "      <th>geometry</th>\n",
              "    </tr>\n",
              "  </thead>\n",
              "  <tbody>\n",
              "    <tr>\n",
              "      <th>0</th>\n",
              "      <td>69553535</td>\n",
              "      <td>1050</td>\n",
              "      <td>locality</td>\n",
              "      <td>0</td>\n",
              "      <td>Hala Krupowa</td>\n",
              "      <td>POLYGON ((19.65468 49.62424, 19.65506 49.62446...</td>\n",
              "    </tr>\n",
              "    <tr>\n",
              "      <th>1</th>\n",
              "      <td>130583808</td>\n",
              "      <td>1020</td>\n",
              "      <td>island</td>\n",
              "      <td>0</td>\n",
              "      <td>None</td>\n",
              "      <td>POLYGON ((20.07783 50.25781, 20.07798 50.25802...</td>\n",
              "    </tr>\n",
              "    <tr>\n",
              "      <th>2</th>\n",
              "      <td>168403564</td>\n",
              "      <td>1020</td>\n",
              "      <td>island</td>\n",
              "      <td>0</td>\n",
              "      <td>Ptasia Wyspa</td>\n",
              "      <td>POLYGON ((20.24106 49.45946, 20.24108 49.45953...</td>\n",
              "    </tr>\n",
              "    <tr>\n",
              "      <th>3</th>\n",
              "      <td>3288260</td>\n",
              "      <td>1003</td>\n",
              "      <td>village</td>\n",
              "      <td>0</td>\n",
              "      <td>Książniczki</td>\n",
              "      <td>POLYGON ((20.00059 50.13281, 20.00079 50.13293...</td>\n",
              "    </tr>\n",
              "    <tr>\n",
              "      <th>4</th>\n",
              "      <td>259975428</td>\n",
              "      <td>1050</td>\n",
              "      <td>locality</td>\n",
              "      <td>0</td>\n",
              "      <td>Czoło</td>\n",
              "      <td>POLYGON ((20.23166 49.52170, 20.23166 49.52193...</td>\n",
              "    </tr>\n",
              "  </tbody>\n",
              "</table>\n",
              "</div>"
            ],
            "text/plain": [
              "      osm_id  ...                                           geometry\n",
              "0   69553535  ...  POLYGON ((19.65468 49.62424, 19.65506 49.62446...\n",
              "1  130583808  ...  POLYGON ((20.07783 50.25781, 20.07798 50.25802...\n",
              "2  168403564  ...  POLYGON ((20.24106 49.45946, 20.24108 49.45953...\n",
              "3    3288260  ...  POLYGON ((20.00059 50.13281, 20.00079 50.13293...\n",
              "4  259975428  ...  POLYGON ((20.23166 49.52170, 20.23166 49.52193...\n",
              "\n",
              "[5 rows x 6 columns]"
            ]
          },
          "metadata": {
            "tags": []
          },
          "execution_count": 69
        }
      ]
    },
    {
      "cell_type": "code",
      "metadata": {
        "colab": {
          "base_uri": "https://localhost:8080/"
        },
        "id": "nAb9I6ANWHIL",
        "outputId": "702a6917-580b-48f1-d11e-a3c7d57a3862"
      },
      "source": [
        "places_a.fclass.value_counts()"
      ],
      "execution_count": 70,
      "outputs": [
        {
          "output_type": "execute_result",
          "data": {
            "text/plain": [
              "island      15\n",
              "locality     9\n",
              "suburb       8\n",
              "farm         1\n",
              "village      1\n",
              "Name: fclass, dtype: int64"
            ]
          },
          "metadata": {
            "tags": []
          },
          "execution_count": 70
        }
      ]
    },
    {
      "cell_type": "code",
      "metadata": {
        "colab": {
          "base_uri": "https://localhost:8080/",
          "height": 250
        },
        "id": "xli5w_vnQtJX",
        "outputId": "04786093-9db8-4f69-bd2b-ed12215c49e1"
      },
      "source": [
        "%time\n",
        "traffic = GeoDataFrame.from_file('maps/gis_osm_traffic_free_1.shp', encoding='utf-8')\n",
        "print(traffic.shape)\n",
        "traffic.head()"
      ],
      "execution_count": 72,
      "outputs": [
        {
          "output_type": "stream",
          "text": [
            "CPU times: user 4 µs, sys: 0 ns, total: 4 µs\n",
            "Wall time: 8.34 µs\n",
            "(30034, 5)\n"
          ],
          "name": "stdout"
        },
        {
          "output_type": "execute_result",
          "data": {
            "text/html": [
              "<div>\n",
              "<style scoped>\n",
              "    .dataframe tbody tr th:only-of-type {\n",
              "        vertical-align: middle;\n",
              "    }\n",
              "\n",
              "    .dataframe tbody tr th {\n",
              "        vertical-align: top;\n",
              "    }\n",
              "\n",
              "    .dataframe thead th {\n",
              "        text-align: right;\n",
              "    }\n",
              "</style>\n",
              "<table border=\"1\" class=\"dataframe\">\n",
              "  <thead>\n",
              "    <tr style=\"text-align: right;\">\n",
              "      <th></th>\n",
              "      <th>osm_id</th>\n",
              "      <th>code</th>\n",
              "      <th>fclass</th>\n",
              "      <th>name</th>\n",
              "      <th>geometry</th>\n",
              "    </tr>\n",
              "  </thead>\n",
              "  <tbody>\n",
              "    <tr>\n",
              "      <th>0</th>\n",
              "      <td>29782991</td>\n",
              "      <td>5201</td>\n",
              "      <td>traffic_signals</td>\n",
              "      <td>None</td>\n",
              "      <td>POINT (20.03122 50.07678)</td>\n",
              "    </tr>\n",
              "    <tr>\n",
              "      <th>1</th>\n",
              "      <td>29782993</td>\n",
              "      <td>5204</td>\n",
              "      <td>crossing</td>\n",
              "      <td>None</td>\n",
              "      <td>POINT (20.02799 50.07927)</td>\n",
              "    </tr>\n",
              "    <tr>\n",
              "      <th>2</th>\n",
              "      <td>29782996</td>\n",
              "      <td>5201</td>\n",
              "      <td>traffic_signals</td>\n",
              "      <td>None</td>\n",
              "      <td>POINT (20.02795 50.07986)</td>\n",
              "    </tr>\n",
              "    <tr>\n",
              "      <th>3</th>\n",
              "      <td>30375883</td>\n",
              "      <td>5204</td>\n",
              "      <td>crossing</td>\n",
              "      <td>None</td>\n",
              "      <td>POINT (19.94247 50.06449)</td>\n",
              "    </tr>\n",
              "    <tr>\n",
              "      <th>4</th>\n",
              "      <td>30376964</td>\n",
              "      <td>5201</td>\n",
              "      <td>traffic_signals</td>\n",
              "      <td>None</td>\n",
              "      <td>POINT (19.90412 50.04919)</td>\n",
              "    </tr>\n",
              "  </tbody>\n",
              "</table>\n",
              "</div>"
            ],
            "text/plain": [
              "     osm_id  code           fclass  name                   geometry\n",
              "0  29782991  5201  traffic_signals  None  POINT (20.03122 50.07678)\n",
              "1  29782993  5204         crossing  None  POINT (20.02799 50.07927)\n",
              "2  29782996  5201  traffic_signals  None  POINT (20.02795 50.07986)\n",
              "3  30375883  5204         crossing  None  POINT (19.94247 50.06449)\n",
              "4  30376964  5201  traffic_signals  None  POINT (19.90412 50.04919)"
            ]
          },
          "metadata": {
            "tags": []
          },
          "execution_count": 72
        }
      ]
    },
    {
      "cell_type": "code",
      "metadata": {
        "colab": {
          "base_uri": "https://localhost:8080/"
        },
        "id": "DNPivawLWGfq",
        "outputId": "614a7311-7ff4-45cc-d48b-04446c96ef26"
      },
      "source": [
        "traffic.fclass.value_counts()"
      ],
      "execution_count": 71,
      "outputs": [
        {
          "output_type": "execute_result",
          "data": {
            "text/plain": [
              "crossing               16718\n",
              "street_lamp             6422\n",
              "parking_bicycle         2294\n",
              "parking                 1372\n",
              "traffic_signals         1289\n",
              "stop                     544\n",
              "turning_circle           436\n",
              "fuel                     392\n",
              "weir                     280\n",
              "motorway_junction         63\n",
              "waterfall                 52\n",
              "speed_camera              43\n",
              "parking_underground       25\n",
              "marina                    24\n",
              "slipway                   22\n",
              "mini_roundabout           20\n",
              "dam                       20\n",
              "lock_gate                 14\n",
              "pier                       2\n",
              "parking_multistorey        2\n",
              "Name: fclass, dtype: int64"
            ]
          },
          "metadata": {
            "tags": []
          },
          "execution_count": 71
        }
      ]
    },
    {
      "cell_type": "code",
      "metadata": {
        "colab": {
          "base_uri": "https://localhost:8080/",
          "height": 250
        },
        "id": "vpBbQgDxQ5fs",
        "outputId": "756b9643-8611-4b73-d722-f3201c291643"
      },
      "source": [
        "%time\n",
        "places_a = GeoDataFrame.from_file('maps/gis_osm_places_a_free_1.shp', encoding='utf-8')\n",
        "print(places_a.shape)\n",
        "places_a.head()"
      ],
      "execution_count": 73,
      "outputs": [
        {
          "output_type": "stream",
          "text": [
            "CPU times: user 3 µs, sys: 0 ns, total: 3 µs\n",
            "Wall time: 6.44 µs\n",
            "(34, 6)\n"
          ],
          "name": "stdout"
        },
        {
          "output_type": "execute_result",
          "data": {
            "text/html": [
              "<div>\n",
              "<style scoped>\n",
              "    .dataframe tbody tr th:only-of-type {\n",
              "        vertical-align: middle;\n",
              "    }\n",
              "\n",
              "    .dataframe tbody tr th {\n",
              "        vertical-align: top;\n",
              "    }\n",
              "\n",
              "    .dataframe thead th {\n",
              "        text-align: right;\n",
              "    }\n",
              "</style>\n",
              "<table border=\"1\" class=\"dataframe\">\n",
              "  <thead>\n",
              "    <tr style=\"text-align: right;\">\n",
              "      <th></th>\n",
              "      <th>osm_id</th>\n",
              "      <th>code</th>\n",
              "      <th>fclass</th>\n",
              "      <th>population</th>\n",
              "      <th>name</th>\n",
              "      <th>geometry</th>\n",
              "    </tr>\n",
              "  </thead>\n",
              "  <tbody>\n",
              "    <tr>\n",
              "      <th>0</th>\n",
              "      <td>69553535</td>\n",
              "      <td>1050</td>\n",
              "      <td>locality</td>\n",
              "      <td>0</td>\n",
              "      <td>Hala Krupowa</td>\n",
              "      <td>POLYGON ((19.65468 49.62424, 19.65506 49.62446...</td>\n",
              "    </tr>\n",
              "    <tr>\n",
              "      <th>1</th>\n",
              "      <td>130583808</td>\n",
              "      <td>1020</td>\n",
              "      <td>island</td>\n",
              "      <td>0</td>\n",
              "      <td>None</td>\n",
              "      <td>POLYGON ((20.07783 50.25781, 20.07798 50.25802...</td>\n",
              "    </tr>\n",
              "    <tr>\n",
              "      <th>2</th>\n",
              "      <td>168403564</td>\n",
              "      <td>1020</td>\n",
              "      <td>island</td>\n",
              "      <td>0</td>\n",
              "      <td>Ptasia Wyspa</td>\n",
              "      <td>POLYGON ((20.24106 49.45946, 20.24108 49.45953...</td>\n",
              "    </tr>\n",
              "    <tr>\n",
              "      <th>3</th>\n",
              "      <td>3288260</td>\n",
              "      <td>1003</td>\n",
              "      <td>village</td>\n",
              "      <td>0</td>\n",
              "      <td>Książniczki</td>\n",
              "      <td>POLYGON ((20.00059 50.13281, 20.00079 50.13293...</td>\n",
              "    </tr>\n",
              "    <tr>\n",
              "      <th>4</th>\n",
              "      <td>259975428</td>\n",
              "      <td>1050</td>\n",
              "      <td>locality</td>\n",
              "      <td>0</td>\n",
              "      <td>Czoło</td>\n",
              "      <td>POLYGON ((20.23166 49.52170, 20.23166 49.52193...</td>\n",
              "    </tr>\n",
              "  </tbody>\n",
              "</table>\n",
              "</div>"
            ],
            "text/plain": [
              "      osm_id  ...                                           geometry\n",
              "0   69553535  ...  POLYGON ((19.65468 49.62424, 19.65506 49.62446...\n",
              "1  130583808  ...  POLYGON ((20.07783 50.25781, 20.07798 50.25802...\n",
              "2  168403564  ...  POLYGON ((20.24106 49.45946, 20.24108 49.45953...\n",
              "3    3288260  ...  POLYGON ((20.00059 50.13281, 20.00079 50.13293...\n",
              "4  259975428  ...  POLYGON ((20.23166 49.52170, 20.23166 49.52193...\n",
              "\n",
              "[5 rows x 6 columns]"
            ]
          },
          "metadata": {
            "tags": []
          },
          "execution_count": 73
        }
      ]
    },
    {
      "cell_type": "code",
      "metadata": {
        "colab": {
          "base_uri": "https://localhost:8080/"
        },
        "id": "e-92BqIvWFyE",
        "outputId": "1f236561-320b-45dd-f75e-3997d5b83d28"
      },
      "source": [
        "places_a.fclass.value_counts()"
      ],
      "execution_count": 74,
      "outputs": [
        {
          "output_type": "execute_result",
          "data": {
            "text/plain": [
              "island      15\n",
              "locality     9\n",
              "suburb       8\n",
              "farm         1\n",
              "village      1\n",
              "Name: fclass, dtype: int64"
            ]
          },
          "metadata": {
            "tags": []
          },
          "execution_count": 74
        }
      ]
    },
    {
      "cell_type": "code",
      "metadata": {
        "colab": {
          "base_uri": "https://localhost:8080/",
          "height": 250
        },
        "id": "PQDo6qzxRKlL",
        "outputId": "df147e22-1293-4c6d-dbde-47ef7e7c508b"
      },
      "source": [
        "%time\n",
        "natural_a = GeoDataFrame.from_file('maps/gis_osm_natural_a_free_1.shp', encoding='utf-8')\n",
        "print(natural_a.shape)\n",
        "natural_a.head()"
      ],
      "execution_count": 75,
      "outputs": [
        {
          "output_type": "stream",
          "text": [
            "CPU times: user 3 µs, sys: 0 ns, total: 3 µs\n",
            "Wall time: 5.48 µs\n",
            "(110, 5)\n"
          ],
          "name": "stdout"
        },
        {
          "output_type": "execute_result",
          "data": {
            "text/html": [
              "<div>\n",
              "<style scoped>\n",
              "    .dataframe tbody tr th:only-of-type {\n",
              "        vertical-align: middle;\n",
              "    }\n",
              "\n",
              "    .dataframe tbody tr th {\n",
              "        vertical-align: top;\n",
              "    }\n",
              "\n",
              "    .dataframe thead th {\n",
              "        text-align: right;\n",
              "    }\n",
              "</style>\n",
              "<table border=\"1\" class=\"dataframe\">\n",
              "  <thead>\n",
              "    <tr style=\"text-align: right;\">\n",
              "      <th></th>\n",
              "      <th>osm_id</th>\n",
              "      <th>code</th>\n",
              "      <th>fclass</th>\n",
              "      <th>name</th>\n",
              "      <th>geometry</th>\n",
              "    </tr>\n",
              "  </thead>\n",
              "  <tbody>\n",
              "    <tr>\n",
              "      <th>0</th>\n",
              "      <td>25156249</td>\n",
              "      <td>4141</td>\n",
              "      <td>beach</td>\n",
              "      <td>kąpielisko strzeżone</td>\n",
              "      <td>POLYGON ((19.79176 50.04785, 19.79182 50.04787...</td>\n",
              "    </tr>\n",
              "    <tr>\n",
              "      <th>1</th>\n",
              "      <td>25156251</td>\n",
              "      <td>4141</td>\n",
              "      <td>beach</td>\n",
              "      <td>None</td>\n",
              "      <td>POLYGON ((19.79706 50.04863, 19.79706 50.04875...</td>\n",
              "    </tr>\n",
              "    <tr>\n",
              "      <th>2</th>\n",
              "      <td>25157073</td>\n",
              "      <td>4141</td>\n",
              "      <td>beach</td>\n",
              "      <td>Kryspinów Plaża Naturystyczna</td>\n",
              "      <td>POLYGON ((19.78679 50.05572, 19.78715 50.05571...</td>\n",
              "    </tr>\n",
              "    <tr>\n",
              "      <th>3</th>\n",
              "      <td>25450792</td>\n",
              "      <td>4141</td>\n",
              "      <td>beach</td>\n",
              "      <td>None</td>\n",
              "      <td>POLYGON ((19.44993 50.13863, 19.44999 50.13883...</td>\n",
              "    </tr>\n",
              "    <tr>\n",
              "      <th>4</th>\n",
              "      <td>25450793</td>\n",
              "      <td>4141</td>\n",
              "      <td>beach</td>\n",
              "      <td>None</td>\n",
              "      <td>POLYGON ((19.45208 50.13762, 19.45223 50.13770...</td>\n",
              "    </tr>\n",
              "  </tbody>\n",
              "</table>\n",
              "</div>"
            ],
            "text/plain": [
              "     osm_id  ...                                           geometry\n",
              "0  25156249  ...  POLYGON ((19.79176 50.04785, 19.79182 50.04787...\n",
              "1  25156251  ...  POLYGON ((19.79706 50.04863, 19.79706 50.04875...\n",
              "2  25157073  ...  POLYGON ((19.78679 50.05572, 19.78715 50.05571...\n",
              "3  25450792  ...  POLYGON ((19.44993 50.13863, 19.44999 50.13883...\n",
              "4  25450793  ...  POLYGON ((19.45208 50.13762, 19.45223 50.13770...\n",
              "\n",
              "[5 rows x 5 columns]"
            ]
          },
          "metadata": {
            "tags": []
          },
          "execution_count": 75
        }
      ]
    },
    {
      "cell_type": "code",
      "metadata": {
        "colab": {
          "base_uri": "https://localhost:8080/"
        },
        "id": "YpzYXno_WFNJ",
        "outputId": "fc8c348b-13b0-494b-b6f3-90a7948427e3"
      },
      "source": [
        "natural_a.fclass.value_counts()"
      ],
      "execution_count": 76,
      "outputs": [
        {
          "output_type": "execute_result",
          "data": {
            "text/plain": [
              "beach      75\n",
              "cliff      21\n",
              "glacier    12\n",
              "spring      2\n",
              "Name: fclass, dtype: int64"
            ]
          },
          "metadata": {
            "tags": []
          },
          "execution_count": 76
        }
      ]
    },
    {
      "cell_type": "code",
      "metadata": {
        "colab": {
          "base_uri": "https://localhost:8080/",
          "height": 250
        },
        "id": "CsezL160RSZY",
        "outputId": "8890132b-3022-4cb8-827f-8c240bafd6e2"
      },
      "source": [
        "%time\n",
        "landuse_a = GeoDataFrame.from_file('maps/gis_osm_landuse_a_free_1.shp', encoding='utf-8')\n",
        "print(landuse_a.shape)\n",
        "landuse_a.head()"
      ],
      "execution_count": 77,
      "outputs": [
        {
          "output_type": "stream",
          "text": [
            "CPU times: user 3 µs, sys: 0 ns, total: 3 µs\n",
            "Wall time: 5.96 µs\n",
            "(182184, 5)\n"
          ],
          "name": "stdout"
        },
        {
          "output_type": "execute_result",
          "data": {
            "text/html": [
              "<div>\n",
              "<style scoped>\n",
              "    .dataframe tbody tr th:only-of-type {\n",
              "        vertical-align: middle;\n",
              "    }\n",
              "\n",
              "    .dataframe tbody tr th {\n",
              "        vertical-align: top;\n",
              "    }\n",
              "\n",
              "    .dataframe thead th {\n",
              "        text-align: right;\n",
              "    }\n",
              "</style>\n",
              "<table border=\"1\" class=\"dataframe\">\n",
              "  <thead>\n",
              "    <tr style=\"text-align: right;\">\n",
              "      <th></th>\n",
              "      <th>osm_id</th>\n",
              "      <th>code</th>\n",
              "      <th>fclass</th>\n",
              "      <th>name</th>\n",
              "      <th>geometry</th>\n",
              "    </tr>\n",
              "  </thead>\n",
              "  <tbody>\n",
              "    <tr>\n",
              "      <th>0</th>\n",
              "      <td>20190259</td>\n",
              "      <td>7201</td>\n",
              "      <td>forest</td>\n",
              "      <td>None</td>\n",
              "      <td>POLYGON ((19.80347 50.10261, 19.80353 50.10273...</td>\n",
              "    </tr>\n",
              "    <tr>\n",
              "      <th>1</th>\n",
              "      <td>20190402</td>\n",
              "      <td>7201</td>\n",
              "      <td>forest</td>\n",
              "      <td>None</td>\n",
              "      <td>POLYGON ((19.80738 50.09817, 19.80747 50.09828...</td>\n",
              "    </tr>\n",
              "    <tr>\n",
              "      <th>2</th>\n",
              "      <td>20190511</td>\n",
              "      <td>7201</td>\n",
              "      <td>forest</td>\n",
              "      <td>None</td>\n",
              "      <td>POLYGON ((19.82236 50.09557, 19.82337 50.09550...</td>\n",
              "    </tr>\n",
              "    <tr>\n",
              "      <th>3</th>\n",
              "      <td>20193458</td>\n",
              "      <td>7218</td>\n",
              "      <td>grass</td>\n",
              "      <td>None</td>\n",
              "      <td>POLYGON ((20.05270 50.07950, 20.05278 50.07960...</td>\n",
              "    </tr>\n",
              "    <tr>\n",
              "      <th>4</th>\n",
              "      <td>22938927</td>\n",
              "      <td>7201</td>\n",
              "      <td>forest</td>\n",
              "      <td>None</td>\n",
              "      <td>POLYGON ((19.84609 50.01414, 19.84612 50.01432...</td>\n",
              "    </tr>\n",
              "  </tbody>\n",
              "</table>\n",
              "</div>"
            ],
            "text/plain": [
              "     osm_id  code  ...  name                                           geometry\n",
              "0  20190259  7201  ...  None  POLYGON ((19.80347 50.10261, 19.80353 50.10273...\n",
              "1  20190402  7201  ...  None  POLYGON ((19.80738 50.09817, 19.80747 50.09828...\n",
              "2  20190511  7201  ...  None  POLYGON ((19.82236 50.09557, 19.82337 50.09550...\n",
              "3  20193458  7218  ...  None  POLYGON ((20.05270 50.07950, 20.05278 50.07960...\n",
              "4  22938927  7201  ...  None  POLYGON ((19.84609 50.01414, 19.84612 50.01432...\n",
              "\n",
              "[5 rows x 5 columns]"
            ]
          },
          "metadata": {
            "tags": []
          },
          "execution_count": 77
        }
      ]
    },
    {
      "cell_type": "code",
      "metadata": {
        "colab": {
          "base_uri": "https://localhost:8080/"
        },
        "id": "BkTDPEnvWET5",
        "outputId": "02e52462-1e2d-40c0-b1b6-f4b6786e7d18"
      },
      "source": [
        "landuse_a.fclass.value_counts()"
      ],
      "execution_count": 78,
      "outputs": [
        {
          "output_type": "execute_result",
          "data": {
            "text/plain": [
              "forest               49396\n",
              "residential          32975\n",
              "farmland             27604\n",
              "scrub                21636\n",
              "meadow               17930\n",
              "grass                16404\n",
              "orchard               7339\n",
              "farmyard              2344\n",
              "industrial            1818\n",
              "cemetery              1372\n",
              "retail                 899\n",
              "commercial             686\n",
              "park                   679\n",
              "allotments             514\n",
              "recreation_ground      175\n",
              "nature_reserve         155\n",
              "quarry                 151\n",
              "vineyard                49\n",
              "military                31\n",
              "heath                   27\n",
              "Name: fclass, dtype: int64"
            ]
          },
          "metadata": {
            "tags": []
          },
          "execution_count": 78
        }
      ]
    },
    {
      "cell_type": "code",
      "metadata": {
        "colab": {
          "base_uri": "https://localhost:8080/",
          "height": 250
        },
        "id": "HL4HDjlYRY3L",
        "outputId": "4625ae1f-90ad-49ec-cece-d1f146d3b2d4"
      },
      "source": [
        "%time\n",
        "traffic_a = GeoDataFrame.from_file('maps/gis_osm_traffic_a_free_1.shp', encoding='utf-8')\n",
        "print(traffic_a.shape)\n",
        "traffic_a.head()"
      ],
      "execution_count": 79,
      "outputs": [
        {
          "output_type": "stream",
          "text": [
            "CPU times: user 4 µs, sys: 0 ns, total: 4 µs\n",
            "Wall time: 7.39 µs\n",
            "(11724, 5)\n"
          ],
          "name": "stdout"
        },
        {
          "output_type": "execute_result",
          "data": {
            "text/html": [
              "<div>\n",
              "<style scoped>\n",
              "    .dataframe tbody tr th:only-of-type {\n",
              "        vertical-align: middle;\n",
              "    }\n",
              "\n",
              "    .dataframe tbody tr th {\n",
              "        vertical-align: top;\n",
              "    }\n",
              "\n",
              "    .dataframe thead th {\n",
              "        text-align: right;\n",
              "    }\n",
              "</style>\n",
              "<table border=\"1\" class=\"dataframe\">\n",
              "  <thead>\n",
              "    <tr style=\"text-align: right;\">\n",
              "      <th></th>\n",
              "      <th>osm_id</th>\n",
              "      <th>code</th>\n",
              "      <th>fclass</th>\n",
              "      <th>name</th>\n",
              "      <th>geometry</th>\n",
              "    </tr>\n",
              "  </thead>\n",
              "  <tbody>\n",
              "    <tr>\n",
              "      <th>0</th>\n",
              "      <td>22787855</td>\n",
              "      <td>5260</td>\n",
              "      <td>parking</td>\n",
              "      <td>None</td>\n",
              "      <td>POLYGON ((19.65908 49.25882, 19.65908 49.25910...</td>\n",
              "    </tr>\n",
              "    <tr>\n",
              "      <th>1</th>\n",
              "      <td>23068881</td>\n",
              "      <td>5260</td>\n",
              "      <td>parking</td>\n",
              "      <td>None</td>\n",
              "      <td>POLYGON ((20.43310 49.97005, 20.43326 49.97006...</td>\n",
              "    </tr>\n",
              "    <tr>\n",
              "      <th>2</th>\n",
              "      <td>25042802</td>\n",
              "      <td>5332</td>\n",
              "      <td>weir</td>\n",
              "      <td>Stopień Wodny Przewóz</td>\n",
              "      <td>POLYGON ((20.09762 50.04161, 20.09763 50.04163...</td>\n",
              "    </tr>\n",
              "    <tr>\n",
              "      <th>3</th>\n",
              "      <td>25091288</td>\n",
              "      <td>5260</td>\n",
              "      <td>parking</td>\n",
              "      <td>None</td>\n",
              "      <td>POLYGON ((21.16171 49.65080, 21.16187 49.65093...</td>\n",
              "    </tr>\n",
              "    <tr>\n",
              "      <th>4</th>\n",
              "      <td>25123245</td>\n",
              "      <td>5260</td>\n",
              "      <td>parking</td>\n",
              "      <td>None</td>\n",
              "      <td>POLYGON ((19.93655 50.06769, 19.93739 50.06780...</td>\n",
              "    </tr>\n",
              "  </tbody>\n",
              "</table>\n",
              "</div>"
            ],
            "text/plain": [
              "     osm_id  ...                                           geometry\n",
              "0  22787855  ...  POLYGON ((19.65908 49.25882, 19.65908 49.25910...\n",
              "1  23068881  ...  POLYGON ((20.43310 49.97005, 20.43326 49.97006...\n",
              "2  25042802  ...  POLYGON ((20.09762 50.04161, 20.09763 50.04163...\n",
              "3  25091288  ...  POLYGON ((21.16171 49.65080, 21.16187 49.65093...\n",
              "4  25123245  ...  POLYGON ((19.93655 50.06769, 19.93739 50.06780...\n",
              "\n",
              "[5 rows x 5 columns]"
            ]
          },
          "metadata": {
            "tags": []
          },
          "execution_count": 79
        }
      ]
    },
    {
      "cell_type": "code",
      "metadata": {
        "colab": {
          "base_uri": "https://localhost:8080/"
        },
        "id": "8tN_hc3YWDpw",
        "outputId": "d5576e73-6f7b-41c2-d1a7-8492acb4ddfa"
      },
      "source": [
        "traffic_a.fclass.value_counts()"
      ],
      "execution_count": 80,
      "outputs": [
        {
          "output_type": "execute_result",
          "data": {
            "text/plain": [
              "parking                11193\n",
              "fuel                     253\n",
              "parking_bicycle          108\n",
              "pier                      67\n",
              "dam                       46\n",
              "parking_multistorey       22\n",
              "marina                    11\n",
              "service                   11\n",
              "parking_underground       10\n",
              "slipway                    2\n",
              "weir                       1\n",
              "Name: fclass, dtype: int64"
            ]
          },
          "metadata": {
            "tags": []
          },
          "execution_count": 80
        }
      ]
    },
    {
      "cell_type": "code",
      "metadata": {
        "colab": {
          "base_uri": "https://localhost:8080/",
          "height": 250
        },
        "id": "INotwttmRjyw",
        "outputId": "4287fad0-5c59-40ee-8c12-73f784493077"
      },
      "source": [
        "%time\n",
        "pois_a = GeoDataFrame.from_file('maps/gis_osm_pois_a_free_1.shp', encoding='utf-8')\n",
        "print(pois_a.shape)\n",
        "pois_a.head()"
      ],
      "execution_count": 81,
      "outputs": [
        {
          "output_type": "stream",
          "text": [
            "CPU times: user 4 µs, sys: 0 ns, total: 4 µs\n",
            "Wall time: 7.87 µs\n",
            "(16096, 5)\n"
          ],
          "name": "stdout"
        },
        {
          "output_type": "execute_result",
          "data": {
            "text/html": [
              "<div>\n",
              "<style scoped>\n",
              "    .dataframe tbody tr th:only-of-type {\n",
              "        vertical-align: middle;\n",
              "    }\n",
              "\n",
              "    .dataframe tbody tr th {\n",
              "        vertical-align: top;\n",
              "    }\n",
              "\n",
              "    .dataframe thead th {\n",
              "        text-align: right;\n",
              "    }\n",
              "</style>\n",
              "<table border=\"1\" class=\"dataframe\">\n",
              "  <thead>\n",
              "    <tr style=\"text-align: right;\">\n",
              "      <th></th>\n",
              "      <th>osm_id</th>\n",
              "      <th>code</th>\n",
              "      <th>fclass</th>\n",
              "      <th>name</th>\n",
              "      <th>geometry</th>\n",
              "    </tr>\n",
              "  </thead>\n",
              "  <tbody>\n",
              "    <tr>\n",
              "      <th>0</th>\n",
              "      <td>19796313</td>\n",
              "      <td>2401</td>\n",
              "      <td>hotel</td>\n",
              "      <td>Hilton Garden Inn Krakow Airport</td>\n",
              "      <td>POLYGON ((19.80211 50.07165, 19.80322 50.07180...</td>\n",
              "    </tr>\n",
              "    <tr>\n",
              "      <th>1</th>\n",
              "      <td>19803351</td>\n",
              "      <td>2252</td>\n",
              "      <td>pitch</td>\n",
              "      <td>None</td>\n",
              "      <td>POLYGON ((20.05971 50.06508, 20.06070 50.06514...</td>\n",
              "    </tr>\n",
              "    <tr>\n",
              "      <th>2</th>\n",
              "      <td>19841872</td>\n",
              "      <td>2252</td>\n",
              "      <td>pitch</td>\n",
              "      <td>None</td>\n",
              "      <td>POLYGON ((19.90818 50.06320, 19.90840 50.06376...</td>\n",
              "    </tr>\n",
              "    <tr>\n",
              "      <th>3</th>\n",
              "      <td>19842194</td>\n",
              "      <td>2258</td>\n",
              "      <td>track</td>\n",
              "      <td>None</td>\n",
              "      <td>POLYGON ((19.91531 50.07965, 19.91535 50.07977...</td>\n",
              "    </tr>\n",
              "    <tr>\n",
              "      <th>4</th>\n",
              "      <td>23062643</td>\n",
              "      <td>2204</td>\n",
              "      <td>park</td>\n",
              "      <td>None</td>\n",
              "      <td>POLYGON ((20.42388 49.96833, 20.42399 49.96837...</td>\n",
              "    </tr>\n",
              "  </tbody>\n",
              "</table>\n",
              "</div>"
            ],
            "text/plain": [
              "     osm_id  ...                                           geometry\n",
              "0  19796313  ...  POLYGON ((19.80211 50.07165, 19.80322 50.07180...\n",
              "1  19803351  ...  POLYGON ((20.05971 50.06508, 20.06070 50.06514...\n",
              "2  19841872  ...  POLYGON ((19.90818 50.06320, 19.90840 50.06376...\n",
              "3  19842194  ...  POLYGON ((19.91531 50.07965, 19.91535 50.07977...\n",
              "4  23062643  ...  POLYGON ((20.42388 49.96833, 20.42399 49.96837...\n",
              "\n",
              "[5 rows x 5 columns]"
            ]
          },
          "metadata": {
            "tags": []
          },
          "execution_count": 81
        }
      ]
    },
    {
      "cell_type": "code",
      "metadata": {
        "colab": {
          "base_uri": "https://localhost:8080/"
        },
        "id": "rGtu0yA0WC9O",
        "outputId": "1d5ac721-f1c4-4cfb-d9ae-3c0eb933fbbf"
      },
      "source": [
        "pois_a.fclass.value_counts()"
      ],
      "execution_count": 82,
      "outputs": [
        {
          "output_type": "execute_result",
          "data": {
            "text/plain": [
              "pitch             3482\n",
              "graveyard         1372\n",
              "playground        1322\n",
              "school            1081\n",
              "shelter            704\n",
              "                  ... \n",
              "golf_course          2\n",
              "drinking_water       2\n",
              "windmill             2\n",
              "car_rental           1\n",
              "outdoor_shop         1\n",
              "Name: fclass, Length: 120, dtype: int64"
            ]
          },
          "metadata": {
            "tags": []
          },
          "execution_count": 82
        }
      ]
    },
    {
      "cell_type": "code",
      "metadata": {
        "colab": {
          "base_uri": "https://localhost:8080/",
          "height": 250
        },
        "id": "6PmIBSvfRpUg",
        "outputId": "97be4f5f-7d3d-45ee-e8e5-d0391c6a8572"
      },
      "source": [
        "%time\n",
        "places = GeoDataFrame.from_file('maps/gis_osm_places_free_1.shp', encoding='utf-8')\n",
        "print(places.shape)\n",
        "places.head()"
      ],
      "execution_count": 83,
      "outputs": [
        {
          "output_type": "stream",
          "text": [
            "CPU times: user 3 µs, sys: 0 ns, total: 3 µs\n",
            "Wall time: 7.63 µs\n",
            "(18002, 6)\n"
          ],
          "name": "stdout"
        },
        {
          "output_type": "execute_result",
          "data": {
            "text/html": [
              "<div>\n",
              "<style scoped>\n",
              "    .dataframe tbody tr th:only-of-type {\n",
              "        vertical-align: middle;\n",
              "    }\n",
              "\n",
              "    .dataframe tbody tr th {\n",
              "        vertical-align: top;\n",
              "    }\n",
              "\n",
              "    .dataframe thead th {\n",
              "        text-align: right;\n",
              "    }\n",
              "</style>\n",
              "<table border=\"1\" class=\"dataframe\">\n",
              "  <thead>\n",
              "    <tr style=\"text-align: right;\">\n",
              "      <th></th>\n",
              "      <th>osm_id</th>\n",
              "      <th>code</th>\n",
              "      <th>fclass</th>\n",
              "      <th>population</th>\n",
              "      <th>name</th>\n",
              "      <th>geometry</th>\n",
              "    </tr>\n",
              "  </thead>\n",
              "  <tbody>\n",
              "    <tr>\n",
              "      <th>0</th>\n",
              "      <td>26035799</td>\n",
              "      <td>1003</td>\n",
              "      <td>village</td>\n",
              "      <td>364</td>\n",
              "      <td>Osturňa</td>\n",
              "      <td>POINT (20.23333 49.33333)</td>\n",
              "    </tr>\n",
              "    <tr>\n",
              "      <th>1</th>\n",
              "      <td>26036002</td>\n",
              "      <td>1004</td>\n",
              "      <td>hamlet</td>\n",
              "      <td>139</td>\n",
              "      <td>Legnava</td>\n",
              "      <td>POINT (20.84981 49.33675)</td>\n",
              "    </tr>\n",
              "    <tr>\n",
              "      <th>2</th>\n",
              "      <td>26036012</td>\n",
              "      <td>1003</td>\n",
              "      <td>village</td>\n",
              "      <td>446</td>\n",
              "      <td>Malý Lipník</td>\n",
              "      <td>POINT (20.79956 49.33732)</td>\n",
              "    </tr>\n",
              "    <tr>\n",
              "      <th>3</th>\n",
              "      <td>26036092</td>\n",
              "      <td>1003</td>\n",
              "      <td>village</td>\n",
              "      <td>361</td>\n",
              "      <td>Veľká Franková</td>\n",
              "      <td>POINT (20.29345 49.33804)</td>\n",
              "    </tr>\n",
              "    <tr>\n",
              "      <th>4</th>\n",
              "      <td>26036193</td>\n",
              "      <td>1003</td>\n",
              "      <td>village</td>\n",
              "      <td>1319</td>\n",
              "      <td>Suchá Hora</td>\n",
              "      <td>POINT (19.79011 49.36631)</td>\n",
              "    </tr>\n",
              "  </tbody>\n",
              "</table>\n",
              "</div>"
            ],
            "text/plain": [
              "     osm_id  code  ...            name                   geometry\n",
              "0  26035799  1003  ...         Osturňa  POINT (20.23333 49.33333)\n",
              "1  26036002  1004  ...         Legnava  POINT (20.84981 49.33675)\n",
              "2  26036012  1003  ...     Malý Lipník  POINT (20.79956 49.33732)\n",
              "3  26036092  1003  ...  Veľká Franková  POINT (20.29345 49.33804)\n",
              "4  26036193  1003  ...      Suchá Hora  POINT (19.79011 49.36631)\n",
              "\n",
              "[5 rows x 6 columns]"
            ]
          },
          "metadata": {
            "tags": []
          },
          "execution_count": 83
        }
      ]
    },
    {
      "cell_type": "code",
      "metadata": {
        "colab": {
          "base_uri": "https://localhost:8080/"
        },
        "id": "OKY8fpOOXZbR",
        "outputId": "e07dbef3-77b2-4494-91da-86a0bed27027"
      },
      "source": [
        "places.fclass.value_counts()"
      ],
      "execution_count": 84,
      "outputs": [
        {
          "output_type": "execute_result",
          "data": {
            "text/plain": [
              "hamlet      14849\n",
              "village      1976\n",
              "locality     1065\n",
              "town           62\n",
              "suburb         45\n",
              "city            3\n",
              "island          1\n",
              "farm            1\n",
              "Name: fclass, dtype: int64"
            ]
          },
          "metadata": {
            "tags": []
          },
          "execution_count": 84
        }
      ]
    },
    {
      "cell_type": "code",
      "metadata": {
        "colab": {
          "base_uri": "https://localhost:8080/",
          "height": 250
        },
        "id": "9NhLPUQcR0qF",
        "outputId": "5af80537-f51d-487d-df58-2961a8ec8769"
      },
      "source": [
        "%time\n",
        "buildings_a = GeoDataFrame.from_file('maps/gis_osm_buildings_a_free_1.shp', encoding='utf-8')\n",
        "print(buildings_a.shape)\n",
        "buildings_a.head()"
      ],
      "execution_count": 85,
      "outputs": [
        {
          "output_type": "stream",
          "text": [
            "CPU times: user 4 µs, sys: 1e+03 ns, total: 5 µs\n",
            "Wall time: 7.87 µs\n",
            "(1349151, 6)\n"
          ],
          "name": "stdout"
        },
        {
          "output_type": "execute_result",
          "data": {
            "text/html": [
              "<div>\n",
              "<style scoped>\n",
              "    .dataframe tbody tr th:only-of-type {\n",
              "        vertical-align: middle;\n",
              "    }\n",
              "\n",
              "    .dataframe tbody tr th {\n",
              "        vertical-align: top;\n",
              "    }\n",
              "\n",
              "    .dataframe thead th {\n",
              "        text-align: right;\n",
              "    }\n",
              "</style>\n",
              "<table border=\"1\" class=\"dataframe\">\n",
              "  <thead>\n",
              "    <tr style=\"text-align: right;\">\n",
              "      <th></th>\n",
              "      <th>osm_id</th>\n",
              "      <th>code</th>\n",
              "      <th>fclass</th>\n",
              "      <th>name</th>\n",
              "      <th>type</th>\n",
              "      <th>geometry</th>\n",
              "    </tr>\n",
              "  </thead>\n",
              "  <tbody>\n",
              "    <tr>\n",
              "      <th>0</th>\n",
              "      <td>19796313</td>\n",
              "      <td>1500</td>\n",
              "      <td>building</td>\n",
              "      <td>Hilton Garden Inn Krakow Airport</td>\n",
              "      <td>hotel</td>\n",
              "      <td>POLYGON ((19.80211 50.07165, 19.80322 50.07180...</td>\n",
              "    </tr>\n",
              "    <tr>\n",
              "      <th>1</th>\n",
              "      <td>23062762</td>\n",
              "      <td>1500</td>\n",
              "      <td>building</td>\n",
              "      <td>Kościół pw. Świętego Mikołaja Biskupa</td>\n",
              "      <td>church</td>\n",
              "      <td>POLYGON ((20.42797 49.96935, 20.42801 49.96936...</td>\n",
              "    </tr>\n",
              "    <tr>\n",
              "      <th>2</th>\n",
              "      <td>23068834</td>\n",
              "      <td>1500</td>\n",
              "      <td>building</td>\n",
              "      <td>Dzwonnica drewniana XV w.</td>\n",
              "      <td>None</td>\n",
              "      <td>POLYGON ((20.42812 49.96904, 20.42823 49.96908...</td>\n",
              "    </tr>\n",
              "    <tr>\n",
              "      <th>3</th>\n",
              "      <td>23256528</td>\n",
              "      <td>1500</td>\n",
              "      <td>building</td>\n",
              "      <td>Sukiennice</td>\n",
              "      <td>public</td>\n",
              "      <td>POLYGON ((19.93679 50.06135, 19.93681 50.06137...</td>\n",
              "    </tr>\n",
              "    <tr>\n",
              "      <th>4</th>\n",
              "      <td>24208843</td>\n",
              "      <td>1500</td>\n",
              "      <td>building</td>\n",
              "      <td>Główna łaźnia \"Sauna\"</td>\n",
              "      <td>None</td>\n",
              "      <td>POLYGON ((19.16641 50.03883, 19.16643 50.03947...</td>\n",
              "    </tr>\n",
              "  </tbody>\n",
              "</table>\n",
              "</div>"
            ],
            "text/plain": [
              "     osm_id  code  ...    type                                           geometry\n",
              "0  19796313  1500  ...   hotel  POLYGON ((19.80211 50.07165, 19.80322 50.07180...\n",
              "1  23062762  1500  ...  church  POLYGON ((20.42797 49.96935, 20.42801 49.96936...\n",
              "2  23068834  1500  ...    None  POLYGON ((20.42812 49.96904, 20.42823 49.96908...\n",
              "3  23256528  1500  ...  public  POLYGON ((19.93679 50.06135, 19.93681 50.06137...\n",
              "4  24208843  1500  ...    None  POLYGON ((19.16641 50.03883, 19.16643 50.03947...\n",
              "\n",
              "[5 rows x 6 columns]"
            ]
          },
          "metadata": {
            "tags": []
          },
          "execution_count": 85
        }
      ]
    },
    {
      "cell_type": "code",
      "metadata": {
        "colab": {
          "base_uri": "https://localhost:8080/"
        },
        "id": "N8swHxrsWBZg",
        "outputId": "41a667b7-6f4f-4ae2-c72c-9d5460e02d84"
      },
      "source": [
        "buildings_a.fclass.value_counts()"
      ],
      "execution_count": 86,
      "outputs": [
        {
          "output_type": "execute_result",
          "data": {
            "text/plain": [
              "building    1349151\n",
              "Name: fclass, dtype: int64"
            ]
          },
          "metadata": {
            "tags": []
          },
          "execution_count": 86
        }
      ]
    },
    {
      "cell_type": "code",
      "metadata": {
        "colab": {
          "base_uri": "https://localhost:8080/",
          "height": 250
        },
        "id": "xVCP0OO6R8wp",
        "outputId": "f5f1d3e7-52e0-4243-fb9b-a2f21179564a"
      },
      "source": [
        "%time\n",
        "natural = GeoDataFrame.from_file('maps/gis_osm_natural_free_1.shp', encoding='utf-8')\n",
        "print(natural.shape)\n",
        "natural.head()"
      ],
      "execution_count": 87,
      "outputs": [
        {
          "output_type": "stream",
          "text": [
            "CPU times: user 4 µs, sys: 0 ns, total: 4 µs\n",
            "Wall time: 7.39 µs\n",
            "(51119, 5)\n"
          ],
          "name": "stdout"
        },
        {
          "output_type": "execute_result",
          "data": {
            "text/html": [
              "<div>\n",
              "<style scoped>\n",
              "    .dataframe tbody tr th:only-of-type {\n",
              "        vertical-align: middle;\n",
              "    }\n",
              "\n",
              "    .dataframe tbody tr th {\n",
              "        vertical-align: top;\n",
              "    }\n",
              "\n",
              "    .dataframe thead th {\n",
              "        text-align: right;\n",
              "    }\n",
              "</style>\n",
              "<table border=\"1\" class=\"dataframe\">\n",
              "  <thead>\n",
              "    <tr style=\"text-align: right;\">\n",
              "      <th></th>\n",
              "      <th>osm_id</th>\n",
              "      <th>code</th>\n",
              "      <th>fclass</th>\n",
              "      <th>name</th>\n",
              "      <th>geometry</th>\n",
              "    </tr>\n",
              "  </thead>\n",
              "  <tbody>\n",
              "    <tr>\n",
              "      <th>0</th>\n",
              "      <td>26864278</td>\n",
              "      <td>4111</td>\n",
              "      <td>peak</td>\n",
              "      <td>Pilsko</td>\n",
              "      <td>POINT (19.31675 49.52800)</td>\n",
              "    </tr>\n",
              "    <tr>\n",
              "      <th>1</th>\n",
              "      <td>26864983</td>\n",
              "      <td>4111</td>\n",
              "      <td>peak</td>\n",
              "      <td>Turbacz</td>\n",
              "      <td>POINT (20.11138 49.54282)</td>\n",
              "    </tr>\n",
              "    <tr>\n",
              "      <th>2</th>\n",
              "      <td>31943589</td>\n",
              "      <td>4111</td>\n",
              "      <td>peak</td>\n",
              "      <td>Dziamera</td>\n",
              "      <td>POINT (21.30261 49.55284)</td>\n",
              "    </tr>\n",
              "    <tr>\n",
              "      <th>3</th>\n",
              "      <td>226153423</td>\n",
              "      <td>4111</td>\n",
              "      <td>peak</td>\n",
              "      <td>Kopiec Kościuszki</td>\n",
              "      <td>POINT (19.89335 50.05492)</td>\n",
              "    </tr>\n",
              "    <tr>\n",
              "      <th>4</th>\n",
              "      <td>273454953</td>\n",
              "      <td>4121</td>\n",
              "      <td>tree</td>\n",
              "      <td>None</td>\n",
              "      <td>POINT (19.91568 50.06385)</td>\n",
              "    </tr>\n",
              "  </tbody>\n",
              "</table>\n",
              "</div>"
            ],
            "text/plain": [
              "      osm_id  code fclass               name                   geometry\n",
              "0   26864278  4111   peak             Pilsko  POINT (19.31675 49.52800)\n",
              "1   26864983  4111   peak            Turbacz  POINT (20.11138 49.54282)\n",
              "2   31943589  4111   peak           Dziamera  POINT (21.30261 49.55284)\n",
              "3  226153423  4111   peak  Kopiec Kościuszki  POINT (19.89335 50.05492)\n",
              "4  273454953  4121   tree               None  POINT (19.91568 50.06385)"
            ]
          },
          "metadata": {
            "tags": []
          },
          "execution_count": 87
        }
      ]
    },
    {
      "cell_type": "code",
      "metadata": {
        "colab": {
          "base_uri": "https://localhost:8080/"
        },
        "id": "qUdPT9wOU1Rt",
        "outputId": "d5374428-ab8a-4d55-ef9d-ad0958c2a0d1"
      },
      "source": [
        "natural.fclass.value_counts()"
      ],
      "execution_count": 88,
      "outputs": [
        {
          "output_type": "execute_result",
          "data": {
            "text/plain": [
              "tree             48124\n",
              "peak              2323\n",
              "cave_entrance      415\n",
              "spring             238\n",
              "cliff               18\n",
              "beach                1\n",
              "Name: fclass, dtype: int64"
            ]
          },
          "metadata": {
            "tags": []
          },
          "execution_count": 88
        }
      ]
    },
    {
      "cell_type": "code",
      "metadata": {
        "colab": {
          "base_uri": "https://localhost:8080/",
          "height": 250
        },
        "id": "KqTKHK33SBMd",
        "outputId": "3689621e-884b-49df-f2ea-184a138514b8"
      },
      "source": [
        "%time\n",
        "water_a = GeoDataFrame.from_file('maps/gis_osm_water_a_free_1.shp', encoding='utf-8')\n",
        "print(water_a.shape)\n",
        "water_a.head()"
      ],
      "execution_count": 89,
      "outputs": [
        {
          "output_type": "stream",
          "text": [
            "CPU times: user 3 µs, sys: 0 ns, total: 3 µs\n",
            "Wall time: 5.72 µs\n",
            "(8792, 5)\n"
          ],
          "name": "stdout"
        },
        {
          "output_type": "execute_result",
          "data": {
            "text/html": [
              "<div>\n",
              "<style scoped>\n",
              "    .dataframe tbody tr th:only-of-type {\n",
              "        vertical-align: middle;\n",
              "    }\n",
              "\n",
              "    .dataframe tbody tr th {\n",
              "        vertical-align: top;\n",
              "    }\n",
              "\n",
              "    .dataframe thead th {\n",
              "        text-align: right;\n",
              "    }\n",
              "</style>\n",
              "<table border=\"1\" class=\"dataframe\">\n",
              "  <thead>\n",
              "    <tr style=\"text-align: right;\">\n",
              "      <th></th>\n",
              "      <th>osm_id</th>\n",
              "      <th>code</th>\n",
              "      <th>fclass</th>\n",
              "      <th>name</th>\n",
              "      <th>geometry</th>\n",
              "    </tr>\n",
              "  </thead>\n",
              "  <tbody>\n",
              "    <tr>\n",
              "      <th>0</th>\n",
              "      <td>5909396</td>\n",
              "      <td>8201</td>\n",
              "      <td>reservoir</td>\n",
              "      <td>Jezioro Klimkowskie</td>\n",
              "      <td>POLYGON ((21.07813 49.55540, 21.07818 49.55546...</td>\n",
              "    </tr>\n",
              "    <tr>\n",
              "      <th>1</th>\n",
              "      <td>5909432</td>\n",
              "      <td>8202</td>\n",
              "      <td>river</td>\n",
              "      <td>Dunajec</td>\n",
              "      <td>POLYGON ((20.66969 49.60742, 20.67004 49.60778...</td>\n",
              "    </tr>\n",
              "    <tr>\n",
              "      <th>2</th>\n",
              "      <td>7628519</td>\n",
              "      <td>8200</td>\n",
              "      <td>water</td>\n",
              "      <td>None</td>\n",
              "      <td>POLYGON ((20.64521 49.79566, 20.64539 49.79588...</td>\n",
              "    </tr>\n",
              "    <tr>\n",
              "      <th>3</th>\n",
              "      <td>19796883</td>\n",
              "      <td>8200</td>\n",
              "      <td>water</td>\n",
              "      <td>None</td>\n",
              "      <td>POLYGON ((19.81997 50.08815, 19.82002 50.08827...</td>\n",
              "    </tr>\n",
              "    <tr>\n",
              "      <th>4</th>\n",
              "      <td>19796886</td>\n",
              "      <td>8200</td>\n",
              "      <td>water</td>\n",
              "      <td>None</td>\n",
              "      <td>POLYGON ((19.82254 50.09034, 19.82400 50.09111...</td>\n",
              "    </tr>\n",
              "  </tbody>\n",
              "</table>\n",
              "</div>"
            ],
            "text/plain": [
              "     osm_id  ...                                           geometry\n",
              "0   5909396  ...  POLYGON ((21.07813 49.55540, 21.07818 49.55546...\n",
              "1   5909432  ...  POLYGON ((20.66969 49.60742, 20.67004 49.60778...\n",
              "2   7628519  ...  POLYGON ((20.64521 49.79566, 20.64539 49.79588...\n",
              "3  19796883  ...  POLYGON ((19.81997 50.08815, 19.82002 50.08827...\n",
              "4  19796886  ...  POLYGON ((19.82254 50.09034, 19.82400 50.09111...\n",
              "\n",
              "[5 rows x 5 columns]"
            ]
          },
          "metadata": {
            "tags": []
          },
          "execution_count": 89
        }
      ]
    },
    {
      "cell_type": "code",
      "metadata": {
        "colab": {
          "base_uri": "https://localhost:8080/"
        },
        "id": "iezsnW6pUHeJ",
        "outputId": "707e319e-2f06-4b38-800f-8d56c474e311"
      },
      "source": [
        "water_a.fclass.value_counts()"
      ],
      "execution_count": 90,
      "outputs": [
        {
          "output_type": "execute_result",
          "data": {
            "text/plain": [
              "water        6712\n",
              "wetland       981\n",
              "reservoir     734\n",
              "riverbank     231\n",
              "river         120\n",
              "glacier        12\n",
              "dock            2\n",
              "Name: fclass, dtype: int64"
            ]
          },
          "metadata": {
            "tags": []
          },
          "execution_count": 90
        }
      ]
    },
    {
      "cell_type": "code",
      "metadata": {
        "id": "_6g4BXEuSK97"
      },
      "source": [
        "# m = folium.Map([50.05,19.95], zoom_start=13,\n",
        "#                tiles=\"cartodbpositron\"\n",
        "#                )\n",
        "\n",
        "# folium.GeoJson(water_a).add_to(m)\n",
        "\n",
        "# m"
      ],
      "execution_count": 91,
      "outputs": []
    },
    {
      "cell_type": "code",
      "metadata": {
        "id": "VZm92DYeU1Rv"
      },
      "source": [
        "# m = folium.Map([50.05,19.95], zoom_start=13,\n",
        "#                tiles=\"cartodbpositron\"\n",
        "#                )\n",
        "\n",
        "# folium.GeoJson(natural).add_to(m)\n",
        "\n",
        "# m"
      ],
      "execution_count": 92,
      "outputs": []
    }
  ]
}
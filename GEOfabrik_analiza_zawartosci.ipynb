{
  "nbformat": 4,
  "nbformat_minor": 0,
  "metadata": {
    "colab": {
      "name": "GEOfabrik analiza zawartosci.ipynb",
      "provenance": [],
      "collapsed_sections": [],
      "authorship_tag": "ABX9TyPTV/a+LVi2EwbNmG2PO/0f",
      "include_colab_link": true
    },
    "kernelspec": {
      "name": "python3",
      "display_name": "Python 3"
    },
    "language_info": {
      "name": "python"
    }
  },
  "cells": [
    {
      "cell_type": "markdown",
      "metadata": {
        "id": "view-in-github",
        "colab_type": "text"
      },
      "source": [
        "<a href=\"https://colab.research.google.com/github/ciepielajan/GeoFabrik_Data_Extract/blob/main/GEOfabrik_analiza_zawartosci.ipynb\" target=\"_parent\"><img src=\"https://colab.research.google.com/assets/colab-badge.svg\" alt=\"Open In Colab\"/></a>"
      ]
    },
    {
      "cell_type": "code",
      "metadata": {
        "colab": {
          "base_uri": "https://localhost:8080/"
        },
        "id": "imtfPzAEuupS",
        "outputId": "fcb5f14f-6e74-4013-fe09-30b678907a10"
      },
      "source": [
        "import folium\n",
        "import pandas as pd\n",
        "from plotnine import *\n",
        "!pip -q install geopandas\n",
        "from geopandas import GeoDataFrame\n",
        "\n",
        "%matplotlib inline"
      ],
      "execution_count": 1,
      "outputs": [
        {
          "output_type": "stream",
          "text": [
            "\u001b[K     |████████████████████████████████| 1.0MB 17.6MB/s \n",
            "\u001b[K     |████████████████████████████████| 14.8MB 251kB/s \n",
            "\u001b[K     |████████████████████████████████| 6.5MB 31.8MB/s \n",
            "\u001b[?25h"
          ],
          "name": "stdout"
        }
      ]
    },
    {
      "cell_type": "markdown",
      "metadata": {
        "id": "jr0qnzT_uupT"
      },
      "source": [
        "Load data from shapefile downloaded from http://download.geofabrik.de/"
      ]
    },
    {
      "cell_type": "code",
      "metadata": {
        "colab": {
          "base_uri": "https://localhost:8080/"
        },
        "id": "N1XCqtt9u5kk",
        "outputId": "ed0fd124-a0f8-4384-f943-2b257085b287"
      },
      "source": [
        "!wget \"http://download.geofabrik.de/europe/poland/malopolskie-latest-free.shp.zip\"  -O map.shp.zip"
      ],
      "execution_count": 2,
      "outputs": [
        {
          "output_type": "stream",
          "text": [
            "--2021-04-05 07:09:00--  http://download.geofabrik.de/europe/poland/malopolskie-latest-free.shp.zip\n",
            "Resolving download.geofabrik.de (download.geofabrik.de)... 116.202.112.212, 138.201.219.183, 88.99.142.44\n",
            "Connecting to download.geofabrik.de (download.geofabrik.de)|116.202.112.212|:80... connected.\n",
            "HTTP request sent, awaiting response... 200 OK\n",
            "Length: 232252554 (221M) [application/zip]\n",
            "Saving to: ‘map.shp.zip’\n",
            "\n",
            "map.shp.zip         100%[===================>] 221.49M  27.8MB/s    in 8.3s    \n",
            "\n",
            "2021-04-05 07:09:09 (26.6 MB/s) - ‘map.shp.zip’ saved [232252554/232252554]\n",
            "\n"
          ],
          "name": "stdout"
        }
      ]
    },
    {
      "cell_type": "code",
      "metadata": {
        "id": "YhXqarNCvdP9"
      },
      "source": [
        "!unzip -q map.shp.zip -d /content/maps"
      ],
      "execution_count": 3,
      "outputs": []
    },
    {
      "cell_type": "code",
      "metadata": {
        "id": "MpO-tiF02Yii",
        "colab": {
          "base_uri": "https://localhost:8080/"
        },
        "outputId": "26bdfce3-ce33-4573-9cd3-0a685926255b"
      },
      "source": [
        "from os import listdir\n",
        "\n",
        "files_dir =  listdir(\"/content/maps\")\n",
        "files_list = []\n",
        "# files_name_list = []\n",
        "for names in files_dir:\n",
        "    if names.endswith(\".shp\"):\n",
        "        files_list.append(names)\n",
        "        # files_name_list.append(names.split(\"osm_\")[1].split(\"_free\")[0])\n",
        "\n",
        "files_list = sorted(files_list)\n",
        "# files_name_list = sorted(files_name_list)\n",
        "print(pd.Series(files_list))"
      ],
      "execution_count": 4,
      "outputs": [
        {
          "output_type": "stream",
          "text": [
            "ilość plików 18\n",
            "gis_osm_buildings_a_free_1.shp\n",
            "gis_osm_landuse_a_free_1.shp\n",
            "gis_osm_natural_a_free_1.shp\n",
            "gis_osm_natural_free_1.shp\n",
            "gis_osm_places_a_free_1.shp\n",
            "gis_osm_places_free_1.shp\n",
            "gis_osm_pofw_a_free_1.shp\n",
            "gis_osm_pofw_free_1.shp\n",
            "gis_osm_pois_a_free_1.shp\n",
            "gis_osm_pois_free_1.shp\n",
            "gis_osm_railways_free_1.shp\n",
            "gis_osm_roads_free_1.shp\n",
            "gis_osm_traffic_a_free_1.shp\n",
            "gis_osm_traffic_free_1.shp\n",
            "gis_osm_transport_a_free_1.shp\n",
            "gis_osm_transport_free_1.shp\n",
            "gis_osm_water_a_free_1.shp\n",
            "gis_osm_waterways_free_1.shp\n"
          ],
          "name": "stdout"
        }
      ]
    },
    {
      "cell_type": "markdown",
      "metadata": {
        "id": "usSDHTHG4-Sc"
      },
      "source": [
        "# hurtowe załadwanie wszytkich plików"
      ]
    },
    {
      "cell_type": "code",
      "metadata": {
        "id": "_8vdDtX91UZA"
      },
      "source": [
        "data_frames = {}\n",
        "for name in files_list:\n",
        "  name_df = name.split(\".\")[0]\n",
        "  data_frames[name_df] = GeoDataFrame.from_file(f'maps/{name}', encoding='utf-8')"
      ],
      "execution_count": null,
      "outputs": []
    },
    {
      "cell_type": "code",
      "metadata": {
        "colab": {
          "base_uri": "https://localhost:8080/"
        },
        "id": "vHRdBWY_1jjW",
        "outputId": "8fbb08d6-4cf9-471b-d03a-5c48842e03c8"
      },
      "source": [
        "data_frames.keys()"
      ],
      "execution_count": null,
      "outputs": [
        {
          "output_type": "execute_result",
          "data": {
            "text/plain": [
              "dict_keys(['gis_osm_buildings_a_free_1', 'gis_osm_landuse_a_free_1', 'gis_osm_natural_a_free_1', 'gis_osm_natural_free_1', 'gis_osm_places_a_free_1', 'gis_osm_places_free_1', 'gis_osm_pofw_a_free_1', 'gis_osm_pofw_free_1', 'gis_osm_pois_a_free_1', 'gis_osm_pois_free_1', 'gis_osm_railways_free_1', 'gis_osm_roads_free_1', 'gis_osm_traffic_a_free_1', 'gis_osm_traffic_free_1', 'gis_osm_transport_a_free_1', 'gis_osm_transport_free_1', 'gis_osm_water_a_free_1', 'gis_osm_waterways_free_1'])"
            ]
          },
          "metadata": {
            "tags": []
          },
          "execution_count": 20
        }
      ]
    },
    {
      "cell_type": "code",
      "metadata": {
        "id": "fe-cg8qt21cM"
      },
      "source": [
        "data_frames.get(\"gis_osm_waterways_free_1\")"
      ],
      "execution_count": null,
      "outputs": []
    },
    {
      "cell_type": "markdown",
      "metadata": {
        "id": "SaZPFTpu7P6v"
      },
      "source": [
        "# translate label"
      ]
    },
    {
      "cell_type": "code",
      "metadata": {
        "id": "JOzYxGAOg2Tw"
      },
      "source": [
        "!pip -q install textblob\n",
        "from textblob import TextBlob\n",
        "import textblob.exceptions # obsługa błędu jeżli brak tłumaczenia"
      ],
      "execution_count": 6,
      "outputs": []
    },
    {
      "cell_type": "code",
      "metadata": {
        "id": "UUYrzgyZcVll"
      },
      "source": [
        "fclass_lists = []\n",
        "for name in files_list:\n",
        "  fclass_frame = GeoDataFrame.from_file(f'maps/{name}', encoding='utf-8').fclass.value_counts().index\n",
        "  for x in fclass_frame:\n",
        "     fclass_lists.append(x)"
      ],
      "execution_count": 5,
      "outputs": []
    },
    {
      "cell_type": "code",
      "metadata": {
        "id": "dVE3gOEQlATv"
      },
      "source": [
        "def get_translate(word, from_lang, to_lang):\n",
        "  try:\n",
        "    translate = TextBlob(word).translate(from_lang=from_lang, to=to_lang)\n",
        "  except textblob.exceptions.NotTranslated:\n",
        "    translate = word\n",
        "\n",
        "  return str(translate)"
      ],
      "execution_count": 12,
      "outputs": []
    },
    {
      "cell_type": "code",
      "metadata": {
        "id": "3zu9l5mh3s1A"
      },
      "source": [
        "fclass_eng_to_pl = {}\n",
        "for word in fclass_lists:\n",
        "  fclass_eng_to_pl[word] = get_translate(word, \"en\", \"pl\")"
      ],
      "execution_count": 15,
      "outputs": []
    },
    {
      "cell_type": "markdown",
      "metadata": {
        "id": "4u1rmXKABGg1"
      },
      "source": [
        "#buildings_a"
      ]
    },
    {
      "cell_type": "code",
      "metadata": {
        "colab": {
          "base_uri": "https://localhost:8080/",
          "height": 250
        },
        "id": "9NhLPUQcR0qF",
        "outputId": "ca443e9a-f3f3-4d59-fd5f-7a1ce78f3d6e"
      },
      "source": [
        "%time\n",
        "buildings_a = GeoDataFrame.from_file('maps/gis_osm_buildings_a_free_1.shp', encoding='utf-8')\n",
        "buildings_a[\"fclass_PL\"] = buildings_a[\"fclass\"].replace(fclass_eng_to_pl)\n",
        "print(buildings_a.shape)\n",
        "buildings_a.head()"
      ],
      "execution_count": 117,
      "outputs": [
        {
          "output_type": "stream",
          "text": [
            "CPU times: user 4 µs, sys: 0 ns, total: 4 µs\n",
            "Wall time: 19.8 µs\n",
            "(1349204, 7)\n"
          ],
          "name": "stdout"
        },
        {
          "output_type": "execute_result",
          "data": {
            "text/html": [
              "<div>\n",
              "<style scoped>\n",
              "    .dataframe tbody tr th:only-of-type {\n",
              "        vertical-align: middle;\n",
              "    }\n",
              "\n",
              "    .dataframe tbody tr th {\n",
              "        vertical-align: top;\n",
              "    }\n",
              "\n",
              "    .dataframe thead th {\n",
              "        text-align: right;\n",
              "    }\n",
              "</style>\n",
              "<table border=\"1\" class=\"dataframe\">\n",
              "  <thead>\n",
              "    <tr style=\"text-align: right;\">\n",
              "      <th></th>\n",
              "      <th>osm_id</th>\n",
              "      <th>code</th>\n",
              "      <th>fclass</th>\n",
              "      <th>name</th>\n",
              "      <th>type</th>\n",
              "      <th>geometry</th>\n",
              "      <th>fclass_PL</th>\n",
              "    </tr>\n",
              "  </thead>\n",
              "  <tbody>\n",
              "    <tr>\n",
              "      <th>0</th>\n",
              "      <td>19796313</td>\n",
              "      <td>1500</td>\n",
              "      <td>building</td>\n",
              "      <td>Hilton Garden Inn Krakow Airport</td>\n",
              "      <td>hotel</td>\n",
              "      <td>POLYGON ((19.80211 50.07165, 19.80322 50.07180...</td>\n",
              "      <td>budynek</td>\n",
              "    </tr>\n",
              "    <tr>\n",
              "      <th>1</th>\n",
              "      <td>23062762</td>\n",
              "      <td>1500</td>\n",
              "      <td>building</td>\n",
              "      <td>Kościół pw. Świętego Mikołaja Biskupa</td>\n",
              "      <td>church</td>\n",
              "      <td>POLYGON ((20.42797 49.96935, 20.42801 49.96936...</td>\n",
              "      <td>budynek</td>\n",
              "    </tr>\n",
              "    <tr>\n",
              "      <th>2</th>\n",
              "      <td>23068834</td>\n",
              "      <td>1500</td>\n",
              "      <td>building</td>\n",
              "      <td>Dzwonnica drewniana XV w.</td>\n",
              "      <td>None</td>\n",
              "      <td>POLYGON ((20.42812 49.96904, 20.42823 49.96908...</td>\n",
              "      <td>budynek</td>\n",
              "    </tr>\n",
              "    <tr>\n",
              "      <th>3</th>\n",
              "      <td>23256528</td>\n",
              "      <td>1500</td>\n",
              "      <td>building</td>\n",
              "      <td>Sukiennice</td>\n",
              "      <td>public</td>\n",
              "      <td>POLYGON ((19.93679 50.06135, 19.93681 50.06137...</td>\n",
              "      <td>budynek</td>\n",
              "    </tr>\n",
              "    <tr>\n",
              "      <th>4</th>\n",
              "      <td>24208843</td>\n",
              "      <td>1500</td>\n",
              "      <td>building</td>\n",
              "      <td>Główna łaźnia \"Sauna\"</td>\n",
              "      <td>None</td>\n",
              "      <td>POLYGON ((19.16641 50.03883, 19.16643 50.03947...</td>\n",
              "      <td>budynek</td>\n",
              "    </tr>\n",
              "  </tbody>\n",
              "</table>\n",
              "</div>"
            ],
            "text/plain": [
              "     osm_id  code  ...                                           geometry fclass_PL\n",
              "0  19796313  1500  ...  POLYGON ((19.80211 50.07165, 19.80322 50.07180...   budynek\n",
              "1  23062762  1500  ...  POLYGON ((20.42797 49.96935, 20.42801 49.96936...   budynek\n",
              "2  23068834  1500  ...  POLYGON ((20.42812 49.96904, 20.42823 49.96908...   budynek\n",
              "3  23256528  1500  ...  POLYGON ((19.93679 50.06135, 19.93681 50.06137...   budynek\n",
              "4  24208843  1500  ...  POLYGON ((19.16641 50.03883, 19.16643 50.03947...   budynek\n",
              "\n",
              "[5 rows x 7 columns]"
            ]
          },
          "metadata": {
            "tags": []
          },
          "execution_count": 117
        }
      ]
    },
    {
      "cell_type": "code",
      "metadata": {
        "colab": {
          "base_uri": "https://localhost:8080/",
          "height": 78
        },
        "id": "q7dCTPeu_Gl3",
        "outputId": "1dd49a07-73f4-47d5-e22b-8ce7c67e9e66"
      },
      "source": [
        "label_counts = buildings_a[[\"fclass\",\"fclass_PL\"]].value_counts().to_frame().reset_index().rename(columns={0:\"value counts\"})\n",
        "label_counts"
      ],
      "execution_count": 118,
      "outputs": [
        {
          "output_type": "execute_result",
          "data": {
            "text/html": [
              "<div>\n",
              "<style scoped>\n",
              "    .dataframe tbody tr th:only-of-type {\n",
              "        vertical-align: middle;\n",
              "    }\n",
              "\n",
              "    .dataframe tbody tr th {\n",
              "        vertical-align: top;\n",
              "    }\n",
              "\n",
              "    .dataframe thead th {\n",
              "        text-align: right;\n",
              "    }\n",
              "</style>\n",
              "<table border=\"1\" class=\"dataframe\">\n",
              "  <thead>\n",
              "    <tr style=\"text-align: right;\">\n",
              "      <th></th>\n",
              "      <th>fclass</th>\n",
              "      <th>fclass_PL</th>\n",
              "      <th>value counts</th>\n",
              "    </tr>\n",
              "  </thead>\n",
              "  <tbody>\n",
              "    <tr>\n",
              "      <th>0</th>\n",
              "      <td>building</td>\n",
              "      <td>budynek</td>\n",
              "      <td>1349204</td>\n",
              "    </tr>\n",
              "  </tbody>\n",
              "</table>\n",
              "</div>"
            ],
            "text/plain": [
              "     fclass fclass_PL  value counts\n",
              "0  building   budynek       1349204"
            ]
          },
          "metadata": {
            "tags": []
          },
          "execution_count": 118
        }
      ]
    },
    {
      "cell_type": "code",
      "metadata": {
        "colab": {
          "base_uri": "https://localhost:8080/",
          "height": 35
        },
        "id": "V4Ej7UiT_Gl3",
        "outputId": "7027a1d9-fe16-4f1e-c7d4-b6d65effb0bf"
      },
      "source": [
        "label_counts.to_markdown()"
      ],
      "execution_count": 119,
      "outputs": [
        {
          "output_type": "execute_result",
          "data": {
            "application/vnd.google.colaboratory.intrinsic+json": {
              "type": "string"
            },
            "text/plain": [
              "'|    | fclass   | fclass_PL   |   value counts |\\n|---:|:---------|:------------|---------------:|\\n|  0 | building | budynek     |        1349204 |'"
            ]
          },
          "metadata": {
            "tags": []
          },
          "execution_count": 119
        }
      ]
    },
    {
      "cell_type": "code",
      "metadata": {
        "id": "hEmjqx5O_JM3"
      },
      "source": [
        ""
      ],
      "execution_count": 119,
      "outputs": []
    },
    {
      "cell_type": "code",
      "metadata": {
        "colab": {
          "base_uri": "https://localhost:8080/",
          "height": 498
        },
        "id": "B-n-7eUI_JSZ",
        "outputId": "0453d74c-f073-4f02-fd3d-7ca714386c6c"
      },
      "source": [
        "label_counts = buildings_a[[\"type\"]].value_counts().to_frame().reset_index().rename(columns={0:\"value counts\"})\n",
        "label_counts[:15]"
      ],
      "execution_count": 130,
      "outputs": [
        {
          "output_type": "execute_result",
          "data": {
            "text/html": [
              "<div>\n",
              "<style scoped>\n",
              "    .dataframe tbody tr th:only-of-type {\n",
              "        vertical-align: middle;\n",
              "    }\n",
              "\n",
              "    .dataframe tbody tr th {\n",
              "        vertical-align: top;\n",
              "    }\n",
              "\n",
              "    .dataframe thead th {\n",
              "        text-align: right;\n",
              "    }\n",
              "</style>\n",
              "<table border=\"1\" class=\"dataframe\">\n",
              "  <thead>\n",
              "    <tr style=\"text-align: right;\">\n",
              "      <th></th>\n",
              "      <th>type</th>\n",
              "      <th>value counts</th>\n",
              "    </tr>\n",
              "  </thead>\n",
              "  <tbody>\n",
              "    <tr>\n",
              "      <th>0</th>\n",
              "      <td>house</td>\n",
              "      <td>44552</td>\n",
              "    </tr>\n",
              "    <tr>\n",
              "      <th>1</th>\n",
              "      <td>residential</td>\n",
              "      <td>15172</td>\n",
              "    </tr>\n",
              "    <tr>\n",
              "      <th>2</th>\n",
              "      <td>detached</td>\n",
              "      <td>12418</td>\n",
              "    </tr>\n",
              "    <tr>\n",
              "      <th>3</th>\n",
              "      <td>farm_auxiliary</td>\n",
              "      <td>7761</td>\n",
              "    </tr>\n",
              "    <tr>\n",
              "      <th>4</th>\n",
              "      <td>apartments</td>\n",
              "      <td>6975</td>\n",
              "    </tr>\n",
              "    <tr>\n",
              "      <th>5</th>\n",
              "      <td>garage</td>\n",
              "      <td>6775</td>\n",
              "    </tr>\n",
              "    <tr>\n",
              "      <th>6</th>\n",
              "      <td>greenhouse</td>\n",
              "      <td>2973</td>\n",
              "    </tr>\n",
              "    <tr>\n",
              "      <th>7</th>\n",
              "      <td>shed</td>\n",
              "      <td>2106</td>\n",
              "    </tr>\n",
              "    <tr>\n",
              "      <th>8</th>\n",
              "      <td>industrial</td>\n",
              "      <td>2024</td>\n",
              "    </tr>\n",
              "    <tr>\n",
              "      <th>9</th>\n",
              "      <td>garages</td>\n",
              "      <td>1710</td>\n",
              "    </tr>\n",
              "    <tr>\n",
              "      <th>10</th>\n",
              "      <td>retail</td>\n",
              "      <td>1617</td>\n",
              "    </tr>\n",
              "    <tr>\n",
              "      <th>11</th>\n",
              "      <td>terrace</td>\n",
              "      <td>1415</td>\n",
              "    </tr>\n",
              "    <tr>\n",
              "      <th>12</th>\n",
              "      <td>service</td>\n",
              "      <td>1391</td>\n",
              "    </tr>\n",
              "    <tr>\n",
              "      <th>13</th>\n",
              "      <td>school</td>\n",
              "      <td>1324</td>\n",
              "    </tr>\n",
              "    <tr>\n",
              "      <th>14</th>\n",
              "      <td>church</td>\n",
              "      <td>1304</td>\n",
              "    </tr>\n",
              "  </tbody>\n",
              "</table>\n",
              "</div>"
            ],
            "text/plain": [
              "              type  value counts\n",
              "0            house         44552\n",
              "1      residential         15172\n",
              "2         detached         12418\n",
              "3   farm_auxiliary          7761\n",
              "4       apartments          6975\n",
              "5           garage          6775\n",
              "6       greenhouse          2973\n",
              "7             shed          2106\n",
              "8       industrial          2024\n",
              "9          garages          1710\n",
              "10          retail          1617\n",
              "11         terrace          1415\n",
              "12         service          1391\n",
              "13          school          1324\n",
              "14          church          1304"
            ]
          },
          "metadata": {
            "tags": []
          },
          "execution_count": 130
        }
      ]
    },
    {
      "cell_type": "code",
      "metadata": {
        "colab": {
          "base_uri": "https://localhost:8080/",
          "height": 69
        },
        "id": "36nQ4YGi_JSa",
        "outputId": "d78312eb-8441-4f48-a150-c1c249c27b31"
      },
      "source": [
        "label_counts.to_markdown()"
      ],
      "execution_count": 42,
      "outputs": [
        {
          "output_type": "execute_result",
          "data": {
            "application/vnd.google.colaboratory.intrinsic+json": {
              "type": "string"
            },
            "text/plain": [
              "'|     | type                 |   value counts |\\n|----:|:---------------------|---------------:|\\n|   0 | house                |          44552 |\\n|   1 | residential          |          15172 |\\n|   2 | detached             |          12418 |\\n|   3 | farm_auxiliary       |           7761 |\\n|   4 | apartments           |           6975 |\\n|   5 | garage               |           6775 |\\n|   6 | greenhouse           |           2973 |\\n|   7 | shed                 |           2106 |\\n|   8 | industrial           |           2024 |\\n|   9 | garages              |           1710 |\\n|  10 | retail               |           1617 |\\n|  11 | terrace              |           1415 |\\n|  12 | service              |           1391 |\\n|  13 | school               |           1324 |\\n|  14 | church               |           1304 |\\n|  15 | roof                 |           1299 |\\n|  16 | commercial           |           1103 |\\n|  17 | barn                 |            982 |\\n|  18 | construction         |            860 |\\n|  19 | chapel               |            736 |\\n|  20 | semidetached_house   |            401 |\\n|  21 | office               |            343 |\\n|  22 | warehouse            |            290 |\\n|  23 | manufacture          |            242 |\\n|  24 | hospital             |            218 |\\n|  25 | kindergarten         |            215 |\\n|  26 | public               |            213 |\\n|  27 | bungalow             |            202 |\\n|  28 | university           |            194 |\\n|  29 | hotel                |            148 |\\n|  30 | train_station        |            146 |\\n|  31 | kiosk                |            140 |\\n|  32 | farm                 |            139 |\\n|  33 | ruins                |            138 |\\n|  34 | carport              |            118 |\\n|  35 | cabin                |            111 |\\n|  36 | hut                  |             79 |\\n|  37 | garbage_shed         |             69 |\\n|  38 | stable               |             69 |\\n|  39 | convent              |             64 |\\n|  40 | monastery            |             62 |\\n|  41 | dormitory            |             60 |\\n|  42 | civic                |             55 |\\n|  43 | presbytery           |             51 |\\n|  44 | presbitery           |             47 |\\n|  45 | fire_station         |             46 |\\n|  46 | hangar               |             45 |\\n|  47 | storage_tank         |             43 |\\n|  48 | shop                 |             39 |\\n|  49 | supermarket          |             39 |\\n|  50 | bunker               |             32 |\\n|  51 | transportation       |             31 |\\n|  52 | cowshed              |             31 |\\n|  53 | barrack              |             25 |\\n|  54 | silo                 |             25 |\\n|  55 | synagogue            |             17 |\\n|  56 | sports_hall          |             16 |\\n|  57 | education            |             16 |\\n|  58 | sports_centre        |             15 |\\n|  59 | grandstand           |             12 |\\n|  60 | government           |             11 |\\n|  61 | sty                  |             11 |\\n|  62 | toilets              |             10 |\\n|  63 | wayside_shrine       |             10 |\\n|  64 | parking              |             10 |\\n|  65 | stadium              |             10 |\\n|  66 | shrine               |              9 |\\n|  67 | storage              |              8 |\\n|  68 | manor                |              8 |\\n|  69 | collapsed            |              8 |\\n|  70 | library              |              7 |\\n|  71 | chimney              |              7 |\\n|  72 | museum               |              7 |\\n|  73 | cloister             |              7 |\\n|  74 | transformer_tower    |              7 |\\n|  75 | waste_shed           |              7 |\\n|  76 | tent                 |              6 |\\n|  77 | bridge               |              6 |\\n|  78 | tower                |              6 |\\n|  79 | hall                 |              5 |\\n|  80 | pavilion             |              5 |\\n|  81 | religious            |              5 |\\n|  82 | trash_shed           |              5 |\\n|  83 | no                   |              5 |\\n|  84 | passage              |              4 |\\n|  85 | theatre              |              4 |\\n|  86 | fort                 |              4 |\\n|  87 | palace               |              4 |\\n|  88 | substation           |              4 |\\n|  89 | glasshouse           |              4 |\\n|  90 | shepherd_shelter     |              3 |\\n|  91 | static_caravan       |              3 |\\n|  92 | bus_station          |              3 |\\n|  93 | workshop             |              3 |\\n|  94 | wall                 |              3 |\\n|  95 | gymnasium            |              3 |\\n|  96 | vestibule            |              3 |\\n|  97 | water_tower          |              3 |\\n|  98 | garage?              |              3 |\\n|  99 | castle               |              3 |\\n| 100 | car_wash             |              2 |\\n| 101 | vacant               |              2 |\\n| 102 | air_shaft            |              2 |\\n| 103 | data_center          |              2 |\\n| 104 | waste_disposal       |              2 |\\n| 105 | tram_depot           |              2 |\\n| 106 | allotment_house      |              2 |\\n| 107 | gate                 |              2 |\\n| 108 | boat                 |              2 |\\n| 109 | guard_house          |              2 |\\n| 110 | guard_shed           |              2 |\\n| 111 | cathedral            |              2 |\\n| 112 | temple               |              2 |\\n| 113 | wastewater_plant     |              2 |\\n| 114 | wastewater_tank      |              2 |\\n| 115 | resort               |              2 |\\n| 116 | prison               |              2 |\\n| 117 | waste_collection     |              2 |\\n| 118 | Plebania             |              1 |\\n| 119 | HVAC                 |              1 |\\n| 120 | cinema               |              1 |\\n| 121 | Dom                  |              1 |\\n| 122 | bell_tower           |              1 |\\n| 123 | canopy               |              1 |\\n| 124 | airway               |              1 |\\n| 125 | alpine_hut           |              1 |\\n| 126 | armory               |              1 |\\n| 127 | bank                 |              1 |\\n| 128 | banqueting hall      |              1 |\\n| 129 | cle                  |              1 |\\n| 130 | basilica             |              1 |\\n| 131 | bell tower           |              1 |\\n| 132 | building_entrance    |              1 |\\n| 133 | boathouse            |              1 |\\n| 134 | yes;school           |              1 |\\n| 135 | lighthouse           |              1 |\\n| 136 | college              |              1 |\\n| 137 | technical            |              1 |\\n| 138 | philharmonic         |              1 |\\n| 139 | power                |              1 |\\n| 140 | shelter              |              1 |\\n| 141 | shooting range       |              1 |\\n| 142 | stately              |              1 |\\n| 143 | swimming_pool        |              1 |\\n| 144 | toi-toi              |              1 |\\n| 145 | outbuilding          |              1 |\\n| 146 | toll_counter         |              1 |\\n| 147 | transformer_housing  |              1 |\\n| 148 | walkway              |              1 |\\n| 149 | waste_disposal_shed  |              1 |\\n| 150 | weir                 |              1 |\\n| 151 | works                |              1 |\\n| 152 | parking_entrance     |              1 |\\n| 153 | offices              |              1 |\\n| 154 | combined_residential |              1 |\\n| 155 | fire_statio          |              1 |\\n| 156 | connector            |              1 |\\n| 157 | crematory            |              1 |\\n| 158 | crossing_keeper_cabi |              1 |\\n| 159 | depot                |              1 |\\n| 160 | doctors              |              1 |\\n| 161 | entrance_building    |              1 |\\n| 162 | forge                |              1 |\\n| 163 | observatory          |              1 |\\n| 164 | health               |              1 |\\n| 165 | healthcare           |              1 |\\n| 166 | hostel               |              1 |\\n| 167 | yes;apartments       |              1 |\\n| 168 | nursery              |              1 |\\n| 169 | nursing_home         |              1 |\\n| 170 | ?                    |              1 |'"
            ]
          },
          "metadata": {
            "tags": []
          },
          "execution_count": 42
        }
      ]
    },
    {
      "cell_type": "markdown",
      "metadata": {
        "id": "MEYkh226A6xz"
      },
      "source": [
        "#landuse_a"
      ]
    },
    {
      "cell_type": "code",
      "metadata": {
        "colab": {
          "base_uri": "https://localhost:8080/",
          "height": 250
        },
        "id": "CsezL160RSZY",
        "outputId": "3a530a89-673c-4f7c-ce8e-2f16532e9b9b"
      },
      "source": [
        "%time\n",
        "landuse_a = GeoDataFrame.from_file('maps/gis_osm_landuse_a_free_1.shp', encoding='utf-8')\n",
        "landuse_a[\"fclass_PL\"] = landuse_a[\"fclass\"].replace(fclass_eng_to_pl)\n",
        "print(landuse_a.shape)\n",
        "landuse_a.head()"
      ],
      "execution_count": 43,
      "outputs": [
        {
          "output_type": "stream",
          "text": [
            "CPU times: user 4 µs, sys: 0 ns, total: 4 µs\n",
            "Wall time: 8.58 µs\n",
            "(182239, 6)\n"
          ],
          "name": "stdout"
        },
        {
          "output_type": "execute_result",
          "data": {
            "text/html": [
              "<div>\n",
              "<style scoped>\n",
              "    .dataframe tbody tr th:only-of-type {\n",
              "        vertical-align: middle;\n",
              "    }\n",
              "\n",
              "    .dataframe tbody tr th {\n",
              "        vertical-align: top;\n",
              "    }\n",
              "\n",
              "    .dataframe thead th {\n",
              "        text-align: right;\n",
              "    }\n",
              "</style>\n",
              "<table border=\"1\" class=\"dataframe\">\n",
              "  <thead>\n",
              "    <tr style=\"text-align: right;\">\n",
              "      <th></th>\n",
              "      <th>osm_id</th>\n",
              "      <th>code</th>\n",
              "      <th>fclass</th>\n",
              "      <th>name</th>\n",
              "      <th>geometry</th>\n",
              "      <th>fclass_PL</th>\n",
              "    </tr>\n",
              "  </thead>\n",
              "  <tbody>\n",
              "    <tr>\n",
              "      <th>0</th>\n",
              "      <td>20190259</td>\n",
              "      <td>7201</td>\n",
              "      <td>forest</td>\n",
              "      <td>None</td>\n",
              "      <td>POLYGON ((19.80347 50.10261, 19.80353 50.10273...</td>\n",
              "      <td>las</td>\n",
              "    </tr>\n",
              "    <tr>\n",
              "      <th>1</th>\n",
              "      <td>20190402</td>\n",
              "      <td>7201</td>\n",
              "      <td>forest</td>\n",
              "      <td>None</td>\n",
              "      <td>POLYGON ((19.80738 50.09817, 19.80747 50.09828...</td>\n",
              "      <td>las</td>\n",
              "    </tr>\n",
              "    <tr>\n",
              "      <th>2</th>\n",
              "      <td>20190511</td>\n",
              "      <td>7201</td>\n",
              "      <td>forest</td>\n",
              "      <td>None</td>\n",
              "      <td>POLYGON ((19.82236 50.09557, 19.82337 50.09550...</td>\n",
              "      <td>las</td>\n",
              "    </tr>\n",
              "    <tr>\n",
              "      <th>3</th>\n",
              "      <td>20193458</td>\n",
              "      <td>7218</td>\n",
              "      <td>grass</td>\n",
              "      <td>None</td>\n",
              "      <td>POLYGON ((20.05270 50.07950, 20.05278 50.07960...</td>\n",
              "      <td>trawa</td>\n",
              "    </tr>\n",
              "    <tr>\n",
              "      <th>4</th>\n",
              "      <td>22938927</td>\n",
              "      <td>7201</td>\n",
              "      <td>forest</td>\n",
              "      <td>None</td>\n",
              "      <td>POLYGON ((19.84609 50.01414, 19.84612 50.01432...</td>\n",
              "      <td>las</td>\n",
              "    </tr>\n",
              "  </tbody>\n",
              "</table>\n",
              "</div>"
            ],
            "text/plain": [
              "     osm_id  code  ...                                           geometry fclass_PL\n",
              "0  20190259  7201  ...  POLYGON ((19.80347 50.10261, 19.80353 50.10273...       las\n",
              "1  20190402  7201  ...  POLYGON ((19.80738 50.09817, 19.80747 50.09828...       las\n",
              "2  20190511  7201  ...  POLYGON ((19.82236 50.09557, 19.82337 50.09550...       las\n",
              "3  20193458  7218  ...  POLYGON ((20.05270 50.07950, 20.05278 50.07960...     trawa\n",
              "4  22938927  7201  ...  POLYGON ((19.84609 50.01414, 19.84612 50.01432...       las\n",
              "\n",
              "[5 rows x 6 columns]"
            ]
          },
          "metadata": {
            "tags": []
          },
          "execution_count": 43
        }
      ]
    },
    {
      "cell_type": "code",
      "metadata": {
        "colab": {
          "base_uri": "https://localhost:8080/",
          "height": 648
        },
        "id": "5y3TGKqk--PG",
        "outputId": "c8a7832c-7123-4503-8126-7a2a71623a97"
      },
      "source": [
        "label_counts = landuse_a[[\"fclass\",\"fclass_PL\"]].value_counts().to_frame().reset_index().rename(columns={0:\"value counts\"})\n",
        "label_counts"
      ],
      "execution_count": 44,
      "outputs": [
        {
          "output_type": "execute_result",
          "data": {
            "text/html": [
              "<div>\n",
              "<style scoped>\n",
              "    .dataframe tbody tr th:only-of-type {\n",
              "        vertical-align: middle;\n",
              "    }\n",
              "\n",
              "    .dataframe tbody tr th {\n",
              "        vertical-align: top;\n",
              "    }\n",
              "\n",
              "    .dataframe thead th {\n",
              "        text-align: right;\n",
              "    }\n",
              "</style>\n",
              "<table border=\"1\" class=\"dataframe\">\n",
              "  <thead>\n",
              "    <tr style=\"text-align: right;\">\n",
              "      <th></th>\n",
              "      <th>fclass</th>\n",
              "      <th>fclass_PL</th>\n",
              "      <th>value counts</th>\n",
              "    </tr>\n",
              "  </thead>\n",
              "  <tbody>\n",
              "    <tr>\n",
              "      <th>0</th>\n",
              "      <td>forest</td>\n",
              "      <td>las</td>\n",
              "      <td>49400</td>\n",
              "    </tr>\n",
              "    <tr>\n",
              "      <th>1</th>\n",
              "      <td>residential</td>\n",
              "      <td>osiedle mieszkaniowe</td>\n",
              "      <td>32980</td>\n",
              "    </tr>\n",
              "    <tr>\n",
              "      <th>2</th>\n",
              "      <td>farmland</td>\n",
              "      <td>pole uprawne</td>\n",
              "      <td>27601</td>\n",
              "    </tr>\n",
              "    <tr>\n",
              "      <th>3</th>\n",
              "      <td>scrub</td>\n",
              "      <td>zarośla</td>\n",
              "      <td>21638</td>\n",
              "    </tr>\n",
              "    <tr>\n",
              "      <th>4</th>\n",
              "      <td>meadow</td>\n",
              "      <td>łąka</td>\n",
              "      <td>17930</td>\n",
              "    </tr>\n",
              "    <tr>\n",
              "      <th>5</th>\n",
              "      <td>grass</td>\n",
              "      <td>trawa</td>\n",
              "      <td>16450</td>\n",
              "    </tr>\n",
              "    <tr>\n",
              "      <th>6</th>\n",
              "      <td>orchard</td>\n",
              "      <td>sad owocowy</td>\n",
              "      <td>7339</td>\n",
              "    </tr>\n",
              "    <tr>\n",
              "      <th>7</th>\n",
              "      <td>farmyard</td>\n",
              "      <td>obejście</td>\n",
              "      <td>2344</td>\n",
              "    </tr>\n",
              "    <tr>\n",
              "      <th>8</th>\n",
              "      <td>industrial</td>\n",
              "      <td>przemysłowy</td>\n",
              "      <td>1818</td>\n",
              "    </tr>\n",
              "    <tr>\n",
              "      <th>9</th>\n",
              "      <td>cemetery</td>\n",
              "      <td>cmentarz</td>\n",
              "      <td>1372</td>\n",
              "    </tr>\n",
              "    <tr>\n",
              "      <th>10</th>\n",
              "      <td>retail</td>\n",
              "      <td>sprzedaż</td>\n",
              "      <td>900</td>\n",
              "    </tr>\n",
              "    <tr>\n",
              "      <th>11</th>\n",
              "      <td>commercial</td>\n",
              "      <td>Reklama w telewizji</td>\n",
              "      <td>686</td>\n",
              "    </tr>\n",
              "    <tr>\n",
              "      <th>12</th>\n",
              "      <td>park</td>\n",
              "      <td>park</td>\n",
              "      <td>679</td>\n",
              "    </tr>\n",
              "    <tr>\n",
              "      <th>13</th>\n",
              "      <td>allotments</td>\n",
              "      <td>działki</td>\n",
              "      <td>514</td>\n",
              "    </tr>\n",
              "    <tr>\n",
              "      <th>14</th>\n",
              "      <td>recreation_ground</td>\n",
              "      <td>rekreacja_teren</td>\n",
              "      <td>175</td>\n",
              "    </tr>\n",
              "    <tr>\n",
              "      <th>15</th>\n",
              "      <td>nature_reserve</td>\n",
              "      <td>rezerwat przyrody</td>\n",
              "      <td>155</td>\n",
              "    </tr>\n",
              "    <tr>\n",
              "      <th>16</th>\n",
              "      <td>quarry</td>\n",
              "      <td>kamieniołom</td>\n",
              "      <td>151</td>\n",
              "    </tr>\n",
              "    <tr>\n",
              "      <th>17</th>\n",
              "      <td>vineyard</td>\n",
              "      <td>winnica</td>\n",
              "      <td>49</td>\n",
              "    </tr>\n",
              "    <tr>\n",
              "      <th>18</th>\n",
              "      <td>military</td>\n",
              "      <td>wojskowy</td>\n",
              "      <td>31</td>\n",
              "    </tr>\n",
              "    <tr>\n",
              "      <th>19</th>\n",
              "      <td>heath</td>\n",
              "      <td>wrzosowisko</td>\n",
              "      <td>27</td>\n",
              "    </tr>\n",
              "  </tbody>\n",
              "</table>\n",
              "</div>"
            ],
            "text/plain": [
              "               fclass             fclass_PL  value counts\n",
              "0              forest                   las         49400\n",
              "1         residential  osiedle mieszkaniowe         32980\n",
              "2            farmland          pole uprawne         27601\n",
              "3               scrub               zarośla         21638\n",
              "4              meadow                  łąka         17930\n",
              "5               grass                 trawa         16450\n",
              "6             orchard           sad owocowy          7339\n",
              "7            farmyard              obejście          2344\n",
              "8          industrial           przemysłowy          1818\n",
              "9            cemetery              cmentarz          1372\n",
              "10             retail              sprzedaż           900\n",
              "11         commercial   Reklama w telewizji           686\n",
              "12               park                  park           679\n",
              "13         allotments               działki           514\n",
              "14  recreation_ground       rekreacja_teren           175\n",
              "15     nature_reserve     rezerwat przyrody           155\n",
              "16             quarry           kamieniołom           151\n",
              "17           vineyard               winnica            49\n",
              "18           military              wojskowy            31\n",
              "19              heath           wrzosowisko            27"
            ]
          },
          "metadata": {
            "tags": []
          },
          "execution_count": 44
        }
      ]
    },
    {
      "cell_type": "code",
      "metadata": {
        "colab": {
          "base_uri": "https://localhost:8080/",
          "height": 86
        },
        "id": "Ho_0ZqFS--PH",
        "outputId": "9643d414-68da-47c8-f16b-b8735a2d5e47"
      },
      "source": [
        "label_counts.to_markdown()"
      ],
      "execution_count": 45,
      "outputs": [
        {
          "output_type": "execute_result",
          "data": {
            "application/vnd.google.colaboratory.intrinsic+json": {
              "type": "string"
            },
            "text/plain": [
              "'|    | fclass            | fclass_PL            |   value counts |\\n|---:|:------------------|:---------------------|---------------:|\\n|  0 | forest            | las                  |          49400 |\\n|  1 | residential       | osiedle mieszkaniowe |          32980 |\\n|  2 | farmland          | pole uprawne         |          27601 |\\n|  3 | scrub             | zarośla              |          21638 |\\n|  4 | meadow            | łąka                 |          17930 |\\n|  5 | grass             | trawa                |          16450 |\\n|  6 | orchard           | sad owocowy          |           7339 |\\n|  7 | farmyard          | obejście             |           2344 |\\n|  8 | industrial        | przemysłowy          |           1818 |\\n|  9 | cemetery          | cmentarz             |           1372 |\\n| 10 | retail            | sprzedaż             |            900 |\\n| 11 | commercial        | Reklama w telewizji  |            686 |\\n| 12 | park              | park                 |            679 |\\n| 13 | allotments        | działki              |            514 |\\n| 14 | recreation_ground | rekreacja_teren      |            175 |\\n| 15 | nature_reserve    | rezerwat przyrody    |            155 |\\n| 16 | quarry            | kamieniołom          |            151 |\\n| 17 | vineyard          | winnica              |             49 |\\n| 18 | military          | wojskowy             |             31 |\\n| 19 | heath             | wrzosowisko          |             27 |'"
            ]
          },
          "metadata": {
            "tags": []
          },
          "execution_count": 45
        }
      ]
    },
    {
      "cell_type": "markdown",
      "metadata": {
        "id": "rMNFkxoeA5Rt"
      },
      "source": [
        "#natural_a"
      ]
    },
    {
      "cell_type": "code",
      "metadata": {
        "colab": {
          "base_uri": "https://localhost:8080/",
          "height": 250
        },
        "id": "PQDo6qzxRKlL",
        "outputId": "58101c1f-ed19-4b41-95fd-8524d3df2ff2"
      },
      "source": [
        "%time\n",
        "natural_a = GeoDataFrame.from_file('maps/gis_osm_natural_a_free_1.shp', encoding='utf-8')\n",
        "natural_a[\"fclass_PL\"] = natural_a[\"fclass\"].replace(fclass_eng_to_pl)\n",
        "print(natural_a.shape)\n",
        "natural_a.head()"
      ],
      "execution_count": 46,
      "outputs": [
        {
          "output_type": "stream",
          "text": [
            "CPU times: user 3 µs, sys: 0 ns, total: 3 µs\n",
            "Wall time: 8.82 µs\n",
            "(110, 6)\n"
          ],
          "name": "stdout"
        },
        {
          "output_type": "execute_result",
          "data": {
            "text/html": [
              "<div>\n",
              "<style scoped>\n",
              "    .dataframe tbody tr th:only-of-type {\n",
              "        vertical-align: middle;\n",
              "    }\n",
              "\n",
              "    .dataframe tbody tr th {\n",
              "        vertical-align: top;\n",
              "    }\n",
              "\n",
              "    .dataframe thead th {\n",
              "        text-align: right;\n",
              "    }\n",
              "</style>\n",
              "<table border=\"1\" class=\"dataframe\">\n",
              "  <thead>\n",
              "    <tr style=\"text-align: right;\">\n",
              "      <th></th>\n",
              "      <th>osm_id</th>\n",
              "      <th>code</th>\n",
              "      <th>fclass</th>\n",
              "      <th>name</th>\n",
              "      <th>geometry</th>\n",
              "      <th>fclass_PL</th>\n",
              "    </tr>\n",
              "  </thead>\n",
              "  <tbody>\n",
              "    <tr>\n",
              "      <th>0</th>\n",
              "      <td>25156249</td>\n",
              "      <td>4141</td>\n",
              "      <td>beach</td>\n",
              "      <td>kąpielisko strzeżone</td>\n",
              "      <td>POLYGON ((19.79176 50.04785, 19.79182 50.04787...</td>\n",
              "      <td>plaża</td>\n",
              "    </tr>\n",
              "    <tr>\n",
              "      <th>1</th>\n",
              "      <td>25156251</td>\n",
              "      <td>4141</td>\n",
              "      <td>beach</td>\n",
              "      <td>None</td>\n",
              "      <td>POLYGON ((19.79706 50.04863, 19.79706 50.04875...</td>\n",
              "      <td>plaża</td>\n",
              "    </tr>\n",
              "    <tr>\n",
              "      <th>2</th>\n",
              "      <td>25157073</td>\n",
              "      <td>4141</td>\n",
              "      <td>beach</td>\n",
              "      <td>Kryspinów Plaża Naturystyczna</td>\n",
              "      <td>POLYGON ((19.78679 50.05572, 19.78715 50.05571...</td>\n",
              "      <td>plaża</td>\n",
              "    </tr>\n",
              "    <tr>\n",
              "      <th>3</th>\n",
              "      <td>25450792</td>\n",
              "      <td>4141</td>\n",
              "      <td>beach</td>\n",
              "      <td>None</td>\n",
              "      <td>POLYGON ((19.44993 50.13863, 19.44999 50.13883...</td>\n",
              "      <td>plaża</td>\n",
              "    </tr>\n",
              "    <tr>\n",
              "      <th>4</th>\n",
              "      <td>25450793</td>\n",
              "      <td>4141</td>\n",
              "      <td>beach</td>\n",
              "      <td>None</td>\n",
              "      <td>POLYGON ((19.45208 50.13762, 19.45223 50.13770...</td>\n",
              "      <td>plaża</td>\n",
              "    </tr>\n",
              "  </tbody>\n",
              "</table>\n",
              "</div>"
            ],
            "text/plain": [
              "     osm_id  code  ...                                           geometry fclass_PL\n",
              "0  25156249  4141  ...  POLYGON ((19.79176 50.04785, 19.79182 50.04787...     plaża\n",
              "1  25156251  4141  ...  POLYGON ((19.79706 50.04863, 19.79706 50.04875...     plaża\n",
              "2  25157073  4141  ...  POLYGON ((19.78679 50.05572, 19.78715 50.05571...     plaża\n",
              "3  25450792  4141  ...  POLYGON ((19.44993 50.13863, 19.44999 50.13883...     plaża\n",
              "4  25450793  4141  ...  POLYGON ((19.45208 50.13762, 19.45223 50.13770...     plaża\n",
              "\n",
              "[5 rows x 6 columns]"
            ]
          },
          "metadata": {
            "tags": []
          },
          "execution_count": 46
        }
      ]
    },
    {
      "cell_type": "code",
      "metadata": {
        "colab": {
          "base_uri": "https://localhost:8080/",
          "height": 168
        },
        "id": "Qk_s3sR_-8xl",
        "outputId": "0bd93089-bea9-44ce-9c2a-315d8aa68aeb"
      },
      "source": [
        "label_counts = natural_a[[\"fclass\",\"fclass_PL\"]].value_counts().to_frame().reset_index().rename(columns={0:\"value counts\"})\n",
        "label_counts"
      ],
      "execution_count": 47,
      "outputs": [
        {
          "output_type": "execute_result",
          "data": {
            "text/html": [
              "<div>\n",
              "<style scoped>\n",
              "    .dataframe tbody tr th:only-of-type {\n",
              "        vertical-align: middle;\n",
              "    }\n",
              "\n",
              "    .dataframe tbody tr th {\n",
              "        vertical-align: top;\n",
              "    }\n",
              "\n",
              "    .dataframe thead th {\n",
              "        text-align: right;\n",
              "    }\n",
              "</style>\n",
              "<table border=\"1\" class=\"dataframe\">\n",
              "  <thead>\n",
              "    <tr style=\"text-align: right;\">\n",
              "      <th></th>\n",
              "      <th>fclass</th>\n",
              "      <th>fclass_PL</th>\n",
              "      <th>value counts</th>\n",
              "    </tr>\n",
              "  </thead>\n",
              "  <tbody>\n",
              "    <tr>\n",
              "      <th>0</th>\n",
              "      <td>beach</td>\n",
              "      <td>plaża</td>\n",
              "      <td>75</td>\n",
              "    </tr>\n",
              "    <tr>\n",
              "      <th>1</th>\n",
              "      <td>cliff</td>\n",
              "      <td>Klif</td>\n",
              "      <td>21</td>\n",
              "    </tr>\n",
              "    <tr>\n",
              "      <th>2</th>\n",
              "      <td>glacier</td>\n",
              "      <td>lodowiec</td>\n",
              "      <td>12</td>\n",
              "    </tr>\n",
              "    <tr>\n",
              "      <th>3</th>\n",
              "      <td>spring</td>\n",
              "      <td>wiosna</td>\n",
              "      <td>2</td>\n",
              "    </tr>\n",
              "  </tbody>\n",
              "</table>\n",
              "</div>"
            ],
            "text/plain": [
              "    fclass fclass_PL  value counts\n",
              "0    beach     plaża            75\n",
              "1    cliff      Klif            21\n",
              "2  glacier  lodowiec            12\n",
              "3   spring    wiosna             2"
            ]
          },
          "metadata": {
            "tags": []
          },
          "execution_count": 47
        }
      ]
    },
    {
      "cell_type": "code",
      "metadata": {
        "colab": {
          "base_uri": "https://localhost:8080/",
          "height": 35
        },
        "id": "iJ_rNyqG-8xl",
        "outputId": "314e02ee-9402-4707-a400-d5ae6781d944"
      },
      "source": [
        "label_counts.to_markdown()"
      ],
      "execution_count": 48,
      "outputs": [
        {
          "output_type": "execute_result",
          "data": {
            "application/vnd.google.colaboratory.intrinsic+json": {
              "type": "string"
            },
            "text/plain": [
              "'|    | fclass   | fclass_PL   |   value counts |\\n|---:|:---------|:------------|---------------:|\\n|  0 | beach    | plaża       |             75 |\\n|  1 | cliff    | Klif        |             21 |\\n|  2 | glacier  | lodowiec    |             12 |\\n|  3 | spring   | wiosna      |              2 |'"
            ]
          },
          "metadata": {
            "tags": []
          },
          "execution_count": 48
        }
      ]
    },
    {
      "cell_type": "markdown",
      "metadata": {
        "id": "0FKog5FCBLnt"
      },
      "source": [
        "#natural"
      ]
    },
    {
      "cell_type": "code",
      "metadata": {
        "colab": {
          "base_uri": "https://localhost:8080/",
          "height": 250
        },
        "id": "xVCP0OO6R8wp",
        "outputId": "02e956bf-abdd-4c36-c9ff-83ad8b2f17bb"
      },
      "source": [
        "%time\n",
        "natural = GeoDataFrame.from_file('maps/gis_osm_natural_free_1.shp', encoding='utf-8')\n",
        "natural[\"fclass_PL\"] = natural[\"fclass\"].replace(fclass_eng_to_pl)\n",
        "print(natural.shape)\n",
        "natural.head()"
      ],
      "execution_count": 49,
      "outputs": [
        {
          "output_type": "stream",
          "text": [
            "CPU times: user 4 µs, sys: 0 ns, total: 4 µs\n",
            "Wall time: 9.3 µs\n",
            "(51160, 6)\n"
          ],
          "name": "stdout"
        },
        {
          "output_type": "execute_result",
          "data": {
            "text/html": [
              "<div>\n",
              "<style scoped>\n",
              "    .dataframe tbody tr th:only-of-type {\n",
              "        vertical-align: middle;\n",
              "    }\n",
              "\n",
              "    .dataframe tbody tr th {\n",
              "        vertical-align: top;\n",
              "    }\n",
              "\n",
              "    .dataframe thead th {\n",
              "        text-align: right;\n",
              "    }\n",
              "</style>\n",
              "<table border=\"1\" class=\"dataframe\">\n",
              "  <thead>\n",
              "    <tr style=\"text-align: right;\">\n",
              "      <th></th>\n",
              "      <th>osm_id</th>\n",
              "      <th>code</th>\n",
              "      <th>fclass</th>\n",
              "      <th>name</th>\n",
              "      <th>geometry</th>\n",
              "      <th>fclass_PL</th>\n",
              "    </tr>\n",
              "  </thead>\n",
              "  <tbody>\n",
              "    <tr>\n",
              "      <th>0</th>\n",
              "      <td>26864278</td>\n",
              "      <td>4111</td>\n",
              "      <td>peak</td>\n",
              "      <td>Pilsko</td>\n",
              "      <td>POINT (19.31675 49.52800)</td>\n",
              "      <td>szczyt</td>\n",
              "    </tr>\n",
              "    <tr>\n",
              "      <th>1</th>\n",
              "      <td>26864983</td>\n",
              "      <td>4111</td>\n",
              "      <td>peak</td>\n",
              "      <td>Turbacz</td>\n",
              "      <td>POINT (20.11138 49.54282)</td>\n",
              "      <td>szczyt</td>\n",
              "    </tr>\n",
              "    <tr>\n",
              "      <th>2</th>\n",
              "      <td>31943589</td>\n",
              "      <td>4111</td>\n",
              "      <td>peak</td>\n",
              "      <td>Dziamera</td>\n",
              "      <td>POINT (21.30261 49.55284)</td>\n",
              "      <td>szczyt</td>\n",
              "    </tr>\n",
              "    <tr>\n",
              "      <th>3</th>\n",
              "      <td>226153423</td>\n",
              "      <td>4111</td>\n",
              "      <td>peak</td>\n",
              "      <td>Kopiec Kościuszki</td>\n",
              "      <td>POINT (19.89335 50.05492)</td>\n",
              "      <td>szczyt</td>\n",
              "    </tr>\n",
              "    <tr>\n",
              "      <th>4</th>\n",
              "      <td>273454953</td>\n",
              "      <td>4121</td>\n",
              "      <td>tree</td>\n",
              "      <td>None</td>\n",
              "      <td>POINT (19.91568 50.06385)</td>\n",
              "      <td>drzewo</td>\n",
              "    </tr>\n",
              "  </tbody>\n",
              "</table>\n",
              "</div>"
            ],
            "text/plain": [
              "      osm_id  code  ...                   geometry fclass_PL\n",
              "0   26864278  4111  ...  POINT (19.31675 49.52800)    szczyt\n",
              "1   26864983  4111  ...  POINT (20.11138 49.54282)    szczyt\n",
              "2   31943589  4111  ...  POINT (21.30261 49.55284)    szczyt\n",
              "3  226153423  4111  ...  POINT (19.89335 50.05492)    szczyt\n",
              "4  273454953  4121  ...  POINT (19.91568 50.06385)    drzewo\n",
              "\n",
              "[5 rows x 6 columns]"
            ]
          },
          "metadata": {
            "tags": []
          },
          "execution_count": 49
        }
      ]
    },
    {
      "cell_type": "code",
      "metadata": {
        "colab": {
          "base_uri": "https://localhost:8080/",
          "height": 228
        },
        "id": "rHE4YYkh_bBv",
        "outputId": "47b861a0-0342-45ed-beca-2fb9f3288e06"
      },
      "source": [
        "label_counts = natural[[\"fclass\",\"fclass_PL\"]].value_counts().to_frame().reset_index().rename(columns={0:\"value counts\"})\n",
        "label_counts"
      ],
      "execution_count": 50,
      "outputs": [
        {
          "output_type": "execute_result",
          "data": {
            "text/html": [
              "<div>\n",
              "<style scoped>\n",
              "    .dataframe tbody tr th:only-of-type {\n",
              "        vertical-align: middle;\n",
              "    }\n",
              "\n",
              "    .dataframe tbody tr th {\n",
              "        vertical-align: top;\n",
              "    }\n",
              "\n",
              "    .dataframe thead th {\n",
              "        text-align: right;\n",
              "    }\n",
              "</style>\n",
              "<table border=\"1\" class=\"dataframe\">\n",
              "  <thead>\n",
              "    <tr style=\"text-align: right;\">\n",
              "      <th></th>\n",
              "      <th>fclass</th>\n",
              "      <th>fclass_PL</th>\n",
              "      <th>value counts</th>\n",
              "    </tr>\n",
              "  </thead>\n",
              "  <tbody>\n",
              "    <tr>\n",
              "      <th>0</th>\n",
              "      <td>tree</td>\n",
              "      <td>drzewo</td>\n",
              "      <td>48164</td>\n",
              "    </tr>\n",
              "    <tr>\n",
              "      <th>1</th>\n",
              "      <td>peak</td>\n",
              "      <td>szczyt</td>\n",
              "      <td>2324</td>\n",
              "    </tr>\n",
              "    <tr>\n",
              "      <th>2</th>\n",
              "      <td>cave_entrance</td>\n",
              "      <td>cave_entrance</td>\n",
              "      <td>415</td>\n",
              "    </tr>\n",
              "    <tr>\n",
              "      <th>3</th>\n",
              "      <td>spring</td>\n",
              "      <td>wiosna</td>\n",
              "      <td>238</td>\n",
              "    </tr>\n",
              "    <tr>\n",
              "      <th>4</th>\n",
              "      <td>cliff</td>\n",
              "      <td>Klif</td>\n",
              "      <td>18</td>\n",
              "    </tr>\n",
              "    <tr>\n",
              "      <th>5</th>\n",
              "      <td>beach</td>\n",
              "      <td>plaża</td>\n",
              "      <td>1</td>\n",
              "    </tr>\n",
              "  </tbody>\n",
              "</table>\n",
              "</div>"
            ],
            "text/plain": [
              "          fclass      fclass_PL  value counts\n",
              "0           tree         drzewo         48164\n",
              "1           peak         szczyt          2324\n",
              "2  cave_entrance  cave_entrance           415\n",
              "3         spring         wiosna           238\n",
              "4          cliff           Klif            18\n",
              "5          beach          plaża             1"
            ]
          },
          "metadata": {
            "tags": []
          },
          "execution_count": 50
        }
      ]
    },
    {
      "cell_type": "code",
      "metadata": {
        "colab": {
          "base_uri": "https://localhost:8080/",
          "height": 52
        },
        "id": "S-GMjnLH_bBw",
        "outputId": "2cd582b3-6ae8-4f20-a9f0-35f8205152ac"
      },
      "source": [
        "label_counts.to_markdown()"
      ],
      "execution_count": 51,
      "outputs": [
        {
          "output_type": "execute_result",
          "data": {
            "application/vnd.google.colaboratory.intrinsic+json": {
              "type": "string"
            },
            "text/plain": [
              "'|    | fclass        | fclass_PL     |   value counts |\\n|---:|:--------------|:--------------|---------------:|\\n|  0 | tree          | drzewo        |          48164 |\\n|  1 | peak          | szczyt        |           2324 |\\n|  2 | cave_entrance | cave_entrance |            415 |\\n|  3 | spring        | wiosna        |            238 |\\n|  4 | cliff         | Klif          |             18 |\\n|  5 | beach         | plaża         |              1 |'"
            ]
          },
          "metadata": {
            "tags": []
          },
          "execution_count": 51
        }
      ]
    },
    {
      "cell_type": "markdown",
      "metadata": {
        "id": "2aehdxtfA0O9"
      },
      "source": [
        "#places_a"
      ]
    },
    {
      "cell_type": "code",
      "metadata": {
        "colab": {
          "base_uri": "https://localhost:8080/",
          "height": 250
        },
        "id": "8sKH9L2iQmYw",
        "outputId": "f6cf71eb-1e88-4a60-c949-0a845ea12931"
      },
      "source": [
        "%time\n",
        "places_a = GeoDataFrame.from_file('maps/gis_osm_places_a_free_1.shp', encoding='utf-8')\n",
        "places_a[\"fclass_PL\"] = places_a[\"fclass\"].replace(fclass_eng_to_pl)\n",
        "print(places_a.shape)\n",
        "places_a.head()"
      ],
      "execution_count": 52,
      "outputs": [
        {
          "output_type": "stream",
          "text": [
            "CPU times: user 5 µs, sys: 0 ns, total: 5 µs\n",
            "Wall time: 9.54 µs\n",
            "(34, 7)\n"
          ],
          "name": "stdout"
        },
        {
          "output_type": "execute_result",
          "data": {
            "text/html": [
              "<div>\n",
              "<style scoped>\n",
              "    .dataframe tbody tr th:only-of-type {\n",
              "        vertical-align: middle;\n",
              "    }\n",
              "\n",
              "    .dataframe tbody tr th {\n",
              "        vertical-align: top;\n",
              "    }\n",
              "\n",
              "    .dataframe thead th {\n",
              "        text-align: right;\n",
              "    }\n",
              "</style>\n",
              "<table border=\"1\" class=\"dataframe\">\n",
              "  <thead>\n",
              "    <tr style=\"text-align: right;\">\n",
              "      <th></th>\n",
              "      <th>osm_id</th>\n",
              "      <th>code</th>\n",
              "      <th>fclass</th>\n",
              "      <th>population</th>\n",
              "      <th>name</th>\n",
              "      <th>geometry</th>\n",
              "      <th>fclass_PL</th>\n",
              "    </tr>\n",
              "  </thead>\n",
              "  <tbody>\n",
              "    <tr>\n",
              "      <th>0</th>\n",
              "      <td>69553535</td>\n",
              "      <td>1050</td>\n",
              "      <td>locality</td>\n",
              "      <td>0</td>\n",
              "      <td>Hala Krupowa</td>\n",
              "      <td>POLYGON ((19.65468 49.62424, 19.65506 49.62446...</td>\n",
              "      <td>miejscowość</td>\n",
              "    </tr>\n",
              "    <tr>\n",
              "      <th>1</th>\n",
              "      <td>130583808</td>\n",
              "      <td>1020</td>\n",
              "      <td>island</td>\n",
              "      <td>0</td>\n",
              "      <td>None</td>\n",
              "      <td>POLYGON ((20.07783 50.25781, 20.07798 50.25802...</td>\n",
              "      <td>wyspa</td>\n",
              "    </tr>\n",
              "    <tr>\n",
              "      <th>2</th>\n",
              "      <td>168403564</td>\n",
              "      <td>1020</td>\n",
              "      <td>island</td>\n",
              "      <td>0</td>\n",
              "      <td>Ptasia Wyspa</td>\n",
              "      <td>POLYGON ((20.24106 49.45946, 20.24108 49.45953...</td>\n",
              "      <td>wyspa</td>\n",
              "    </tr>\n",
              "    <tr>\n",
              "      <th>3</th>\n",
              "      <td>3288260</td>\n",
              "      <td>1003</td>\n",
              "      <td>village</td>\n",
              "      <td>0</td>\n",
              "      <td>Książniczki</td>\n",
              "      <td>POLYGON ((20.00059 50.13281, 20.00079 50.13293...</td>\n",
              "      <td>wioska</td>\n",
              "    </tr>\n",
              "    <tr>\n",
              "      <th>4</th>\n",
              "      <td>259975428</td>\n",
              "      <td>1050</td>\n",
              "      <td>locality</td>\n",
              "      <td>0</td>\n",
              "      <td>Czoło</td>\n",
              "      <td>POLYGON ((20.23166 49.52170, 20.23166 49.52193...</td>\n",
              "      <td>miejscowość</td>\n",
              "    </tr>\n",
              "  </tbody>\n",
              "</table>\n",
              "</div>"
            ],
            "text/plain": [
              "      osm_id  ...    fclass_PL\n",
              "0   69553535  ...  miejscowość\n",
              "1  130583808  ...        wyspa\n",
              "2  168403564  ...        wyspa\n",
              "3    3288260  ...       wioska\n",
              "4  259975428  ...  miejscowość\n",
              "\n",
              "[5 rows x 7 columns]"
            ]
          },
          "metadata": {
            "tags": []
          },
          "execution_count": 52
        }
      ]
    },
    {
      "cell_type": "code",
      "metadata": {
        "colab": {
          "base_uri": "https://localhost:8080/",
          "height": 198
        },
        "id": "ZtZIk-EG-3_8",
        "outputId": "12a32e5d-de8b-493b-b98b-6b17248c40fc"
      },
      "source": [
        "label_counts = places_a[[\"fclass\",\"fclass_PL\"]].value_counts().to_frame().reset_index().rename(columns={0:\"value counts\"})\n",
        "label_counts"
      ],
      "execution_count": 53,
      "outputs": [
        {
          "output_type": "execute_result",
          "data": {
            "text/html": [
              "<div>\n",
              "<style scoped>\n",
              "    .dataframe tbody tr th:only-of-type {\n",
              "        vertical-align: middle;\n",
              "    }\n",
              "\n",
              "    .dataframe tbody tr th {\n",
              "        vertical-align: top;\n",
              "    }\n",
              "\n",
              "    .dataframe thead th {\n",
              "        text-align: right;\n",
              "    }\n",
              "</style>\n",
              "<table border=\"1\" class=\"dataframe\">\n",
              "  <thead>\n",
              "    <tr style=\"text-align: right;\">\n",
              "      <th></th>\n",
              "      <th>fclass</th>\n",
              "      <th>fclass_PL</th>\n",
              "      <th>value counts</th>\n",
              "    </tr>\n",
              "  </thead>\n",
              "  <tbody>\n",
              "    <tr>\n",
              "      <th>0</th>\n",
              "      <td>island</td>\n",
              "      <td>wyspa</td>\n",
              "      <td>15</td>\n",
              "    </tr>\n",
              "    <tr>\n",
              "      <th>1</th>\n",
              "      <td>locality</td>\n",
              "      <td>miejscowość</td>\n",
              "      <td>9</td>\n",
              "    </tr>\n",
              "    <tr>\n",
              "      <th>2</th>\n",
              "      <td>suburb</td>\n",
              "      <td>przedmieście</td>\n",
              "      <td>8</td>\n",
              "    </tr>\n",
              "    <tr>\n",
              "      <th>3</th>\n",
              "      <td>village</td>\n",
              "      <td>wioska</td>\n",
              "      <td>1</td>\n",
              "    </tr>\n",
              "    <tr>\n",
              "      <th>4</th>\n",
              "      <td>farm</td>\n",
              "      <td>gospodarstwo rolne</td>\n",
              "      <td>1</td>\n",
              "    </tr>\n",
              "  </tbody>\n",
              "</table>\n",
              "</div>"
            ],
            "text/plain": [
              "     fclass           fclass_PL  value counts\n",
              "0    island               wyspa            15\n",
              "1  locality         miejscowość             9\n",
              "2    suburb        przedmieście             8\n",
              "3   village              wioska             1\n",
              "4      farm  gospodarstwo rolne             1"
            ]
          },
          "metadata": {
            "tags": []
          },
          "execution_count": 53
        }
      ]
    },
    {
      "cell_type": "code",
      "metadata": {
        "colab": {
          "base_uri": "https://localhost:8080/",
          "height": 52
        },
        "id": "-rgnrCn2-3_8",
        "outputId": "bfe77825-e0c6-40e3-9322-d65a5395ce41"
      },
      "source": [
        "label_counts.to_markdown()"
      ],
      "execution_count": 54,
      "outputs": [
        {
          "output_type": "execute_result",
          "data": {
            "application/vnd.google.colaboratory.intrinsic+json": {
              "type": "string"
            },
            "text/plain": [
              "'|    | fclass   | fclass_PL          |   value counts |\\n|---:|:---------|:-------------------|---------------:|\\n|  0 | island   | wyspa              |             15 |\\n|  1 | locality | miejscowość        |              9 |\\n|  2 | suburb   | przedmieście       |              8 |\\n|  3 | village  | wioska             |              1 |\\n|  4 | farm     | gospodarstwo rolne |              1 |'"
            ]
          },
          "metadata": {
            "tags": []
          },
          "execution_count": 54
        }
      ]
    },
    {
      "cell_type": "markdown",
      "metadata": {
        "id": "XSuzV9M4BE2k"
      },
      "source": [
        "#places"
      ]
    },
    {
      "cell_type": "code",
      "metadata": {
        "colab": {
          "base_uri": "https://localhost:8080/",
          "height": 250
        },
        "id": "6PmIBSvfRpUg",
        "outputId": "5fa67bc8-6235-40b6-8fa7-bc1ceac6f38a"
      },
      "source": [
        "%time\n",
        "places = GeoDataFrame.from_file('maps/gis_osm_places_free_1.shp', encoding='utf-8')\n",
        "places[\"fclass_PL\"] = places[\"fclass\"].replace(fclass_eng_to_pl)\n",
        "print(places.shape)\n",
        "places.head()"
      ],
      "execution_count": 55,
      "outputs": [
        {
          "output_type": "stream",
          "text": [
            "CPU times: user 4 µs, sys: 0 ns, total: 4 µs\n",
            "Wall time: 9.06 µs\n",
            "(18002, 7)\n"
          ],
          "name": "stdout"
        },
        {
          "output_type": "execute_result",
          "data": {
            "text/html": [
              "<div>\n",
              "<style scoped>\n",
              "    .dataframe tbody tr th:only-of-type {\n",
              "        vertical-align: middle;\n",
              "    }\n",
              "\n",
              "    .dataframe tbody tr th {\n",
              "        vertical-align: top;\n",
              "    }\n",
              "\n",
              "    .dataframe thead th {\n",
              "        text-align: right;\n",
              "    }\n",
              "</style>\n",
              "<table border=\"1\" class=\"dataframe\">\n",
              "  <thead>\n",
              "    <tr style=\"text-align: right;\">\n",
              "      <th></th>\n",
              "      <th>osm_id</th>\n",
              "      <th>code</th>\n",
              "      <th>fclass</th>\n",
              "      <th>population</th>\n",
              "      <th>name</th>\n",
              "      <th>geometry</th>\n",
              "      <th>fclass_PL</th>\n",
              "    </tr>\n",
              "  </thead>\n",
              "  <tbody>\n",
              "    <tr>\n",
              "      <th>0</th>\n",
              "      <td>26035799</td>\n",
              "      <td>1003</td>\n",
              "      <td>village</td>\n",
              "      <td>364</td>\n",
              "      <td>Osturňa</td>\n",
              "      <td>POINT (20.23333 49.33333)</td>\n",
              "      <td>wioska</td>\n",
              "    </tr>\n",
              "    <tr>\n",
              "      <th>1</th>\n",
              "      <td>26036002</td>\n",
              "      <td>1004</td>\n",
              "      <td>hamlet</td>\n",
              "      <td>139</td>\n",
              "      <td>Legnava</td>\n",
              "      <td>POINT (20.84981 49.33675)</td>\n",
              "      <td>mała wioska</td>\n",
              "    </tr>\n",
              "    <tr>\n",
              "      <th>2</th>\n",
              "      <td>26036012</td>\n",
              "      <td>1003</td>\n",
              "      <td>village</td>\n",
              "      <td>446</td>\n",
              "      <td>Malý Lipník</td>\n",
              "      <td>POINT (20.79956 49.33732)</td>\n",
              "      <td>wioska</td>\n",
              "    </tr>\n",
              "    <tr>\n",
              "      <th>3</th>\n",
              "      <td>26036092</td>\n",
              "      <td>1003</td>\n",
              "      <td>village</td>\n",
              "      <td>361</td>\n",
              "      <td>Veľká Franková</td>\n",
              "      <td>POINT (20.29345 49.33804)</td>\n",
              "      <td>wioska</td>\n",
              "    </tr>\n",
              "    <tr>\n",
              "      <th>4</th>\n",
              "      <td>26036193</td>\n",
              "      <td>1003</td>\n",
              "      <td>village</td>\n",
              "      <td>1319</td>\n",
              "      <td>Suchá Hora</td>\n",
              "      <td>POINT (19.79011 49.36631)</td>\n",
              "      <td>wioska</td>\n",
              "    </tr>\n",
              "  </tbody>\n",
              "</table>\n",
              "</div>"
            ],
            "text/plain": [
              "     osm_id  code  ...                   geometry    fclass_PL\n",
              "0  26035799  1003  ...  POINT (20.23333 49.33333)       wioska\n",
              "1  26036002  1004  ...  POINT (20.84981 49.33675)  mała wioska\n",
              "2  26036012  1003  ...  POINT (20.79956 49.33732)       wioska\n",
              "3  26036092  1003  ...  POINT (20.29345 49.33804)       wioska\n",
              "4  26036193  1003  ...  POINT (19.79011 49.36631)       wioska\n",
              "\n",
              "[5 rows x 7 columns]"
            ]
          },
          "metadata": {
            "tags": []
          },
          "execution_count": 55
        }
      ]
    },
    {
      "cell_type": "code",
      "metadata": {
        "colab": {
          "base_uri": "https://localhost:8080/",
          "height": 288
        },
        "id": "hccQlO0a_C4U",
        "outputId": "996ebde6-5890-4d0d-cf01-5b9952e87ee5"
      },
      "source": [
        "label_counts = places[[\"fclass\",\"fclass_PL\"]].value_counts().to_frame().reset_index().rename(columns={0:\"value counts\"})\n",
        "label_counts"
      ],
      "execution_count": 56,
      "outputs": [
        {
          "output_type": "execute_result",
          "data": {
            "text/html": [
              "<div>\n",
              "<style scoped>\n",
              "    .dataframe tbody tr th:only-of-type {\n",
              "        vertical-align: middle;\n",
              "    }\n",
              "\n",
              "    .dataframe tbody tr th {\n",
              "        vertical-align: top;\n",
              "    }\n",
              "\n",
              "    .dataframe thead th {\n",
              "        text-align: right;\n",
              "    }\n",
              "</style>\n",
              "<table border=\"1\" class=\"dataframe\">\n",
              "  <thead>\n",
              "    <tr style=\"text-align: right;\">\n",
              "      <th></th>\n",
              "      <th>fclass</th>\n",
              "      <th>fclass_PL</th>\n",
              "      <th>value counts</th>\n",
              "    </tr>\n",
              "  </thead>\n",
              "  <tbody>\n",
              "    <tr>\n",
              "      <th>0</th>\n",
              "      <td>hamlet</td>\n",
              "      <td>mała wioska</td>\n",
              "      <td>14849</td>\n",
              "    </tr>\n",
              "    <tr>\n",
              "      <th>1</th>\n",
              "      <td>village</td>\n",
              "      <td>wioska</td>\n",
              "      <td>1976</td>\n",
              "    </tr>\n",
              "    <tr>\n",
              "      <th>2</th>\n",
              "      <td>locality</td>\n",
              "      <td>miejscowość</td>\n",
              "      <td>1065</td>\n",
              "    </tr>\n",
              "    <tr>\n",
              "      <th>3</th>\n",
              "      <td>town</td>\n",
              "      <td>miasto</td>\n",
              "      <td>62</td>\n",
              "    </tr>\n",
              "    <tr>\n",
              "      <th>4</th>\n",
              "      <td>suburb</td>\n",
              "      <td>przedmieście</td>\n",
              "      <td>45</td>\n",
              "    </tr>\n",
              "    <tr>\n",
              "      <th>5</th>\n",
              "      <td>city</td>\n",
              "      <td>Miasto</td>\n",
              "      <td>3</td>\n",
              "    </tr>\n",
              "    <tr>\n",
              "      <th>6</th>\n",
              "      <td>island</td>\n",
              "      <td>wyspa</td>\n",
              "      <td>1</td>\n",
              "    </tr>\n",
              "    <tr>\n",
              "      <th>7</th>\n",
              "      <td>farm</td>\n",
              "      <td>gospodarstwo rolne</td>\n",
              "      <td>1</td>\n",
              "    </tr>\n",
              "  </tbody>\n",
              "</table>\n",
              "</div>"
            ],
            "text/plain": [
              "     fclass           fclass_PL  value counts\n",
              "0    hamlet         mała wioska         14849\n",
              "1   village              wioska          1976\n",
              "2  locality         miejscowość          1065\n",
              "3      town              miasto            62\n",
              "4    suburb        przedmieście            45\n",
              "5      city              Miasto             3\n",
              "6    island               wyspa             1\n",
              "7      farm  gospodarstwo rolne             1"
            ]
          },
          "metadata": {
            "tags": []
          },
          "execution_count": 56
        }
      ]
    },
    {
      "cell_type": "code",
      "metadata": {
        "colab": {
          "base_uri": "https://localhost:8080/",
          "height": 52
        },
        "id": "_Z42Bn5U_C4V",
        "outputId": "11f6ccf4-0b54-4def-a897-32a945360b46"
      },
      "source": [
        "label_counts.to_markdown()"
      ],
      "execution_count": 57,
      "outputs": [
        {
          "output_type": "execute_result",
          "data": {
            "application/vnd.google.colaboratory.intrinsic+json": {
              "type": "string"
            },
            "text/plain": [
              "'|    | fclass   | fclass_PL          |   value counts |\\n|---:|:---------|:-------------------|---------------:|\\n|  0 | hamlet   | mała wioska        |          14849 |\\n|  1 | village  | wioska             |           1976 |\\n|  2 | locality | miejscowość        |           1065 |\\n|  3 | town     | miasto             |             62 |\\n|  4 | suburb   | przedmieście       |             45 |\\n|  5 | city     | Miasto             |              3 |\\n|  6 | island   | wyspa              |              1 |\\n|  7 | farm     | gospodarstwo rolne |              1 |'"
            ]
          },
          "metadata": {
            "tags": []
          },
          "execution_count": 57
        }
      ]
    },
    {
      "cell_type": "markdown",
      "metadata": {
        "id": "IKI1RSuADAxa"
      },
      "source": [
        "#pofw_a"
      ]
    },
    {
      "cell_type": "code",
      "metadata": {
        "colab": {
          "base_uri": "https://localhost:8080/",
          "height": 250
        },
        "id": "ySYNNQvlDAxd",
        "outputId": "20329d15-7a04-4a9f-8e4c-09f2f0877138"
      },
      "source": [
        "%time\n",
        "pofw_a = GeoDataFrame.from_file('maps/gis_osm_pofw_a_free_1.shp', encoding='utf-8')\n",
        "pofw_a[\"fclass_PL\"] = pofw_a[\"fclass\"].replace(fclass_eng_to_pl)\n",
        "print(pofw_a.shape)\n",
        "pofw_a.head()"
      ],
      "execution_count": 58,
      "outputs": [
        {
          "output_type": "stream",
          "text": [
            "CPU times: user 4 µs, sys: 0 ns, total: 4 µs\n",
            "Wall time: 10 µs\n",
            "(3214, 6)\n"
          ],
          "name": "stdout"
        },
        {
          "output_type": "execute_result",
          "data": {
            "text/html": [
              "<div>\n",
              "<style scoped>\n",
              "    .dataframe tbody tr th:only-of-type {\n",
              "        vertical-align: middle;\n",
              "    }\n",
              "\n",
              "    .dataframe tbody tr th {\n",
              "        vertical-align: top;\n",
              "    }\n",
              "\n",
              "    .dataframe thead th {\n",
              "        text-align: right;\n",
              "    }\n",
              "</style>\n",
              "<table border=\"1\" class=\"dataframe\">\n",
              "  <thead>\n",
              "    <tr style=\"text-align: right;\">\n",
              "      <th></th>\n",
              "      <th>osm_id</th>\n",
              "      <th>code</th>\n",
              "      <th>fclass</th>\n",
              "      <th>name</th>\n",
              "      <th>geometry</th>\n",
              "      <th>fclass_PL</th>\n",
              "    </tr>\n",
              "  </thead>\n",
              "  <tbody>\n",
              "    <tr>\n",
              "      <th>0</th>\n",
              "      <td>23062762</td>\n",
              "      <td>3100</td>\n",
              "      <td>christian</td>\n",
              "      <td>Kościół pw. Świętego Mikołaja Biskupa</td>\n",
              "      <td>POLYGON ((20.42797 49.96935, 20.42801 49.96936...</td>\n",
              "      <td>chrześcijanin</td>\n",
              "    </tr>\n",
              "    <tr>\n",
              "      <th>1</th>\n",
              "      <td>23257702</td>\n",
              "      <td>3100</td>\n",
              "      <td>christian</td>\n",
              "      <td>Cmentarz parafialny Salwator</td>\n",
              "      <td>POLYGON ((19.90225 50.05298, 19.90231 50.05298...</td>\n",
              "      <td>chrześcijanin</td>\n",
              "    </tr>\n",
              "    <tr>\n",
              "      <th>2</th>\n",
              "      <td>24264572</td>\n",
              "      <td>3100</td>\n",
              "      <td>christian</td>\n",
              "      <td>Cmentarz parafialny</td>\n",
              "      <td>POLYGON ((21.18862 49.63513, 21.18891 49.63523...</td>\n",
              "      <td>chrześcijanin</td>\n",
              "    </tr>\n",
              "    <tr>\n",
              "      <th>3</th>\n",
              "      <td>25487604</td>\n",
              "      <td>3100</td>\n",
              "      <td>christian</td>\n",
              "      <td>Kaplica pw. Chrystusa Odkupiciela w Krakowie</td>\n",
              "      <td>POLYGON ((19.98309 50.10132, 19.98329 50.10136...</td>\n",
              "      <td>chrześcijanin</td>\n",
              "    </tr>\n",
              "    <tr>\n",
              "      <th>4</th>\n",
              "      <td>26195267</td>\n",
              "      <td>3100</td>\n",
              "      <td>christian</td>\n",
              "      <td>Kościół pw. Wniebowzięcia Najświętszej Marii P...</td>\n",
              "      <td>POLYGON ((19.93883 50.06164, 19.93884 50.06165...</td>\n",
              "      <td>chrześcijanin</td>\n",
              "    </tr>\n",
              "  </tbody>\n",
              "</table>\n",
              "</div>"
            ],
            "text/plain": [
              "     osm_id  ...      fclass_PL\n",
              "0  23062762  ...  chrześcijanin\n",
              "1  23257702  ...  chrześcijanin\n",
              "2  24264572  ...  chrześcijanin\n",
              "3  25487604  ...  chrześcijanin\n",
              "4  26195267  ...  chrześcijanin\n",
              "\n",
              "[5 rows x 6 columns]"
            ]
          },
          "metadata": {
            "tags": []
          },
          "execution_count": 58
        }
      ]
    },
    {
      "cell_type": "code",
      "metadata": {
        "colab": {
          "base_uri": "https://localhost:8080/",
          "height": 288
        },
        "id": "sUx1eX3KDAxh",
        "outputId": "0a01919a-bbdb-4ce5-a9ad-42f6cb50d04a"
      },
      "source": [
        "label_counts = pofw_a[[\"fclass\",\"fclass_PL\"]].value_counts().to_frame().reset_index().rename(columns={0:\"value counts\"})\n",
        "label_counts"
      ],
      "execution_count": 59,
      "outputs": [
        {
          "output_type": "execute_result",
          "data": {
            "text/html": [
              "<div>\n",
              "<style scoped>\n",
              "    .dataframe tbody tr th:only-of-type {\n",
              "        vertical-align: middle;\n",
              "    }\n",
              "\n",
              "    .dataframe tbody tr th {\n",
              "        vertical-align: top;\n",
              "    }\n",
              "\n",
              "    .dataframe thead th {\n",
              "        text-align: right;\n",
              "    }\n",
              "</style>\n",
              "<table border=\"1\" class=\"dataframe\">\n",
              "  <thead>\n",
              "    <tr style=\"text-align: right;\">\n",
              "      <th></th>\n",
              "      <th>fclass</th>\n",
              "      <th>fclass_PL</th>\n",
              "      <th>value counts</th>\n",
              "    </tr>\n",
              "  </thead>\n",
              "  <tbody>\n",
              "    <tr>\n",
              "      <th>0</th>\n",
              "      <td>christian</td>\n",
              "      <td>chrześcijanin</td>\n",
              "      <td>3027</td>\n",
              "    </tr>\n",
              "    <tr>\n",
              "      <th>1</th>\n",
              "      <td>christian_catholic</td>\n",
              "      <td>Chrześcijański katolik</td>\n",
              "      <td>80</td>\n",
              "    </tr>\n",
              "    <tr>\n",
              "      <th>2</th>\n",
              "      <td>jewish</td>\n",
              "      <td>żydowski</td>\n",
              "      <td>66</td>\n",
              "    </tr>\n",
              "    <tr>\n",
              "      <th>3</th>\n",
              "      <td>christian_orthodox</td>\n",
              "      <td>christian_orthodox</td>\n",
              "      <td>29</td>\n",
              "    </tr>\n",
              "    <tr>\n",
              "      <th>4</th>\n",
              "      <td>christian_lutheran</td>\n",
              "      <td>christian_lutheran</td>\n",
              "      <td>6</td>\n",
              "    </tr>\n",
              "    <tr>\n",
              "      <th>5</th>\n",
              "      <td>christian_protestant</td>\n",
              "      <td>christian_protestant</td>\n",
              "      <td>3</td>\n",
              "    </tr>\n",
              "    <tr>\n",
              "      <th>6</th>\n",
              "      <td>christian_evangelical</td>\n",
              "      <td>christian_evangelical</td>\n",
              "      <td>2</td>\n",
              "    </tr>\n",
              "    <tr>\n",
              "      <th>7</th>\n",
              "      <td>hindu</td>\n",
              "      <td>Hindus</td>\n",
              "      <td>1</td>\n",
              "    </tr>\n",
              "  </tbody>\n",
              "</table>\n",
              "</div>"
            ],
            "text/plain": [
              "                  fclass               fclass_PL  value counts\n",
              "0              christian           chrześcijanin          3027\n",
              "1     christian_catholic  Chrześcijański katolik            80\n",
              "2                 jewish                żydowski            66\n",
              "3     christian_orthodox      christian_orthodox            29\n",
              "4     christian_lutheran      christian_lutheran             6\n",
              "5   christian_protestant    christian_protestant             3\n",
              "6  christian_evangelical   christian_evangelical             2\n",
              "7                  hindu                  Hindus             1"
            ]
          },
          "metadata": {
            "tags": []
          },
          "execution_count": 59
        }
      ]
    },
    {
      "cell_type": "code",
      "metadata": {
        "colab": {
          "base_uri": "https://localhost:8080/",
          "height": 69
        },
        "id": "PUXB_9j5DAxi",
        "outputId": "d5934e17-800f-4be2-cd2d-d10e82999594"
      },
      "source": [
        "label_counts.to_markdown()"
      ],
      "execution_count": 60,
      "outputs": [
        {
          "output_type": "execute_result",
          "data": {
            "application/vnd.google.colaboratory.intrinsic+json": {
              "type": "string"
            },
            "text/plain": [
              "'|    | fclass                | fclass_PL              |   value counts |\\n|---:|:----------------------|:-----------------------|---------------:|\\n|  0 | christian             | chrześcijanin          |           3027 |\\n|  1 | christian_catholic    | Chrześcijański katolik |             80 |\\n|  2 | jewish                | żydowski               |             66 |\\n|  3 | christian_orthodox    | christian_orthodox     |             29 |\\n|  4 | christian_lutheran    | christian_lutheran     |              6 |\\n|  5 | christian_protestant  | christian_protestant   |              3 |\\n|  6 | christian_evangelical | christian_evangelical  |              2 |\\n|  7 | hindu                 | Hindus                 |              1 |'"
            ]
          },
          "metadata": {
            "tags": []
          },
          "execution_count": 60
        }
      ]
    },
    {
      "cell_type": "markdown",
      "metadata": {
        "id": "LJTHXDwYAqmT"
      },
      "source": [
        "#pofw"
      ]
    },
    {
      "cell_type": "code",
      "metadata": {
        "colab": {
          "base_uri": "https://localhost:8080/",
          "height": 250
        },
        "id": "rDO_TKAxPhQr",
        "outputId": "e8218129-3a76-4006-f723-0a42622a4790"
      },
      "source": [
        "%time\n",
        "pofw = GeoDataFrame.from_file('maps/gis_osm_pofw_free_1.shp', encoding='utf-8')\n",
        "pofw[\"fclass_PL\"] = pofw[\"fclass\"].replace(fclass_eng_to_pl)\n",
        "print(pofw.shape)\n",
        "pofw.head()"
      ],
      "execution_count": 61,
      "outputs": [
        {
          "output_type": "stream",
          "text": [
            "CPU times: user 4 µs, sys: 1 µs, total: 5 µs\n",
            "Wall time: 9.06 µs\n",
            "(1718, 6)\n"
          ],
          "name": "stdout"
        },
        {
          "output_type": "execute_result",
          "data": {
            "text/html": [
              "<div>\n",
              "<style scoped>\n",
              "    .dataframe tbody tr th:only-of-type {\n",
              "        vertical-align: middle;\n",
              "    }\n",
              "\n",
              "    .dataframe tbody tr th {\n",
              "        vertical-align: top;\n",
              "    }\n",
              "\n",
              "    .dataframe thead th {\n",
              "        text-align: right;\n",
              "    }\n",
              "</style>\n",
              "<table border=\"1\" class=\"dataframe\">\n",
              "  <thead>\n",
              "    <tr style=\"text-align: right;\">\n",
              "      <th></th>\n",
              "      <th>osm_id</th>\n",
              "      <th>code</th>\n",
              "      <th>fclass</th>\n",
              "      <th>name</th>\n",
              "      <th>geometry</th>\n",
              "      <th>fclass_PL</th>\n",
              "    </tr>\n",
              "  </thead>\n",
              "  <tbody>\n",
              "    <tr>\n",
              "      <th>0</th>\n",
              "      <td>672084028</td>\n",
              "      <td>3100</td>\n",
              "      <td>christian</td>\n",
              "      <td>None</td>\n",
              "      <td>POINT (20.71168 49.41291)</td>\n",
              "      <td>chrześcijanin</td>\n",
              "    </tr>\n",
              "    <tr>\n",
              "      <th>1</th>\n",
              "      <td>672084039</td>\n",
              "      <td>3100</td>\n",
              "      <td>christian</td>\n",
              "      <td>None</td>\n",
              "      <td>POINT (20.72726 49.41456)</td>\n",
              "      <td>chrześcijanin</td>\n",
              "    </tr>\n",
              "    <tr>\n",
              "      <th>2</th>\n",
              "      <td>672084043</td>\n",
              "      <td>3100</td>\n",
              "      <td>christian</td>\n",
              "      <td>None</td>\n",
              "      <td>POINT (20.72149 49.41717)</td>\n",
              "      <td>chrześcijanin</td>\n",
              "    </tr>\n",
              "    <tr>\n",
              "      <th>3</th>\n",
              "      <td>672084046</td>\n",
              "      <td>3100</td>\n",
              "      <td>christian</td>\n",
              "      <td>None</td>\n",
              "      <td>POINT (20.69901 49.41636)</td>\n",
              "      <td>chrześcijanin</td>\n",
              "    </tr>\n",
              "    <tr>\n",
              "      <th>4</th>\n",
              "      <td>672084110</td>\n",
              "      <td>3100</td>\n",
              "      <td>christian</td>\n",
              "      <td>None</td>\n",
              "      <td>POINT (20.79427 49.33344)</td>\n",
              "      <td>chrześcijanin</td>\n",
              "    </tr>\n",
              "  </tbody>\n",
              "</table>\n",
              "</div>"
            ],
            "text/plain": [
              "      osm_id  code     fclass  name                   geometry      fclass_PL\n",
              "0  672084028  3100  christian  None  POINT (20.71168 49.41291)  chrześcijanin\n",
              "1  672084039  3100  christian  None  POINT (20.72726 49.41456)  chrześcijanin\n",
              "2  672084043  3100  christian  None  POINT (20.72149 49.41717)  chrześcijanin\n",
              "3  672084046  3100  christian  None  POINT (20.69901 49.41636)  chrześcijanin\n",
              "4  672084110  3100  christian  None  POINT (20.79427 49.33344)  chrześcijanin"
            ]
          },
          "metadata": {
            "tags": []
          },
          "execution_count": 61
        }
      ]
    },
    {
      "cell_type": "code",
      "metadata": {
        "colab": {
          "base_uri": "https://localhost:8080/",
          "height": 288
        },
        "id": "tmgV04Yk-qLo",
        "outputId": "42830374-4def-432e-a6af-1d31588fd194"
      },
      "source": [
        "label_counts = pofw[[\"fclass\",\"fclass_PL\"]].value_counts().to_frame().reset_index().rename(columns={0:\"value counts\"})\n",
        "label_counts"
      ],
      "execution_count": 62,
      "outputs": [
        {
          "output_type": "execute_result",
          "data": {
            "text/html": [
              "<div>\n",
              "<style scoped>\n",
              "    .dataframe tbody tr th:only-of-type {\n",
              "        vertical-align: middle;\n",
              "    }\n",
              "\n",
              "    .dataframe tbody tr th {\n",
              "        vertical-align: top;\n",
              "    }\n",
              "\n",
              "    .dataframe thead th {\n",
              "        text-align: right;\n",
              "    }\n",
              "</style>\n",
              "<table border=\"1\" class=\"dataframe\">\n",
              "  <thead>\n",
              "    <tr style=\"text-align: right;\">\n",
              "      <th></th>\n",
              "      <th>fclass</th>\n",
              "      <th>fclass_PL</th>\n",
              "      <th>value counts</th>\n",
              "    </tr>\n",
              "  </thead>\n",
              "  <tbody>\n",
              "    <tr>\n",
              "      <th>0</th>\n",
              "      <td>christian</td>\n",
              "      <td>chrześcijanin</td>\n",
              "      <td>1335</td>\n",
              "    </tr>\n",
              "    <tr>\n",
              "      <th>1</th>\n",
              "      <td>christian_catholic</td>\n",
              "      <td>Chrześcijański katolik</td>\n",
              "      <td>356</td>\n",
              "    </tr>\n",
              "    <tr>\n",
              "      <th>2</th>\n",
              "      <td>jewish</td>\n",
              "      <td>żydowski</td>\n",
              "      <td>10</td>\n",
              "    </tr>\n",
              "    <tr>\n",
              "      <th>3</th>\n",
              "      <td>christian_orthodox</td>\n",
              "      <td>christian_orthodox</td>\n",
              "      <td>10</td>\n",
              "    </tr>\n",
              "    <tr>\n",
              "      <th>4</th>\n",
              "      <td>christian_protestant</td>\n",
              "      <td>christian_protestant</td>\n",
              "      <td>4</td>\n",
              "    </tr>\n",
              "    <tr>\n",
              "      <th>5</th>\n",
              "      <td>muslim</td>\n",
              "      <td>muzułmański</td>\n",
              "      <td>1</td>\n",
              "    </tr>\n",
              "    <tr>\n",
              "      <th>6</th>\n",
              "      <td>christian_methodist</td>\n",
              "      <td>christian_methodist</td>\n",
              "      <td>1</td>\n",
              "    </tr>\n",
              "    <tr>\n",
              "      <th>7</th>\n",
              "      <td>christian_lutheran</td>\n",
              "      <td>christian_lutheran</td>\n",
              "      <td>1</td>\n",
              "    </tr>\n",
              "  </tbody>\n",
              "</table>\n",
              "</div>"
            ],
            "text/plain": [
              "                 fclass               fclass_PL  value counts\n",
              "0             christian           chrześcijanin          1335\n",
              "1    christian_catholic  Chrześcijański katolik           356\n",
              "2                jewish                żydowski            10\n",
              "3    christian_orthodox      christian_orthodox            10\n",
              "4  christian_protestant    christian_protestant             4\n",
              "5                muslim             muzułmański             1\n",
              "6   christian_methodist     christian_methodist             1\n",
              "7    christian_lutheran      christian_lutheran             1"
            ]
          },
          "metadata": {
            "tags": []
          },
          "execution_count": 62
        }
      ]
    },
    {
      "cell_type": "code",
      "metadata": {
        "colab": {
          "base_uri": "https://localhost:8080/",
          "height": 104
        },
        "id": "5tGuMkKV-qLz",
        "outputId": "9c1876dc-e983-498a-a23b-456b20e6b32d"
      },
      "source": [
        "label_counts.to_markdown()"
      ],
      "execution_count": 63,
      "outputs": [
        {
          "output_type": "execute_result",
          "data": {
            "application/vnd.google.colaboratory.intrinsic+json": {
              "type": "string"
            },
            "text/plain": [
              "'|    | fclass               | fclass_PL              |   value counts |\\n|---:|:---------------------|:-----------------------|---------------:|\\n|  0 | christian            | chrześcijanin          |           1335 |\\n|  1 | christian_catholic   | Chrześcijański katolik |            356 |\\n|  2 | jewish               | żydowski               |             10 |\\n|  3 | christian_orthodox   | christian_orthodox     |             10 |\\n|  4 | christian_protestant | christian_protestant   |              4 |\\n|  5 | muslim               | muzułmański            |              1 |\\n|  6 | christian_methodist  | christian_methodist    |              1 |\\n|  7 | christian_lutheran   | christian_lutheran     |              1 |'"
            ]
          },
          "metadata": {
            "tags": []
          },
          "execution_count": 63
        }
      ]
    },
    {
      "cell_type": "code",
      "metadata": {
        "id": "p9BGl1b8DAW8"
      },
      "source": [
        ""
      ],
      "execution_count": 63,
      "outputs": []
    },
    {
      "cell_type": "markdown",
      "metadata": {
        "id": "IBxR1AHIBBo-"
      },
      "source": [
        "#pois_a"
      ]
    },
    {
      "cell_type": "code",
      "metadata": {
        "colab": {
          "base_uri": "https://localhost:8080/",
          "height": 336
        },
        "id": "INotwttmRjyw",
        "outputId": "2bbbbe4a-1c51-4e1d-b9ff-e09fb64e41ee"
      },
      "source": [
        "%time\n",
        "pois_a = GeoDataFrame.from_file('maps/gis_osm_pois_a_free_1.shp', encoding='utf-8')\n",
        "pois_a[\"fclass_PL\"] = pois_a[\"fclass\"].replace(fclass_eng_to_pl)\n",
        "print(pois_a.shape)\n",
        "pois_a.head()"
      ],
      "execution_count": 64,
      "outputs": [
        {
          "output_type": "stream",
          "text": [
            "CPU times: user 4 µs, sys: 0 ns, total: 4 µs\n",
            "Wall time: 9.78 µs\n",
            "(16099, 6)\n"
          ],
          "name": "stdout"
        },
        {
          "output_type": "execute_result",
          "data": {
            "text/html": [
              "<div>\n",
              "<style scoped>\n",
              "    .dataframe tbody tr th:only-of-type {\n",
              "        vertical-align: middle;\n",
              "    }\n",
              "\n",
              "    .dataframe tbody tr th {\n",
              "        vertical-align: top;\n",
              "    }\n",
              "\n",
              "    .dataframe thead th {\n",
              "        text-align: right;\n",
              "    }\n",
              "</style>\n",
              "<table border=\"1\" class=\"dataframe\">\n",
              "  <thead>\n",
              "    <tr style=\"text-align: right;\">\n",
              "      <th></th>\n",
              "      <th>osm_id</th>\n",
              "      <th>code</th>\n",
              "      <th>fclass</th>\n",
              "      <th>name</th>\n",
              "      <th>geometry</th>\n",
              "      <th>fclass_PL</th>\n",
              "    </tr>\n",
              "  </thead>\n",
              "  <tbody>\n",
              "    <tr>\n",
              "      <th>0</th>\n",
              "      <td>19796313</td>\n",
              "      <td>2401</td>\n",
              "      <td>hotel</td>\n",
              "      <td>Hilton Garden Inn Krakow Airport</td>\n",
              "      <td>POLYGON ((19.80211 50.07165, 19.80322 50.07180...</td>\n",
              "      <td>hotel</td>\n",
              "    </tr>\n",
              "    <tr>\n",
              "      <th>1</th>\n",
              "      <td>19803351</td>\n",
              "      <td>2252</td>\n",
              "      <td>pitch</td>\n",
              "      <td>None</td>\n",
              "      <td>POLYGON ((20.05971 50.06508, 20.06070 50.06514...</td>\n",
              "      <td>smoła</td>\n",
              "    </tr>\n",
              "    <tr>\n",
              "      <th>2</th>\n",
              "      <td>19841872</td>\n",
              "      <td>2252</td>\n",
              "      <td>pitch</td>\n",
              "      <td>None</td>\n",
              "      <td>POLYGON ((19.90818 50.06320, 19.90840 50.06376...</td>\n",
              "      <td>smoła</td>\n",
              "    </tr>\n",
              "    <tr>\n",
              "      <th>3</th>\n",
              "      <td>19842194</td>\n",
              "      <td>2258</td>\n",
              "      <td>track</td>\n",
              "      <td>None</td>\n",
              "      <td>POLYGON ((19.91531 50.07965, 19.91535 50.07977...</td>\n",
              "      <td>tor</td>\n",
              "    </tr>\n",
              "    <tr>\n",
              "      <th>4</th>\n",
              "      <td>23062643</td>\n",
              "      <td>2204</td>\n",
              "      <td>park</td>\n",
              "      <td>None</td>\n",
              "      <td>POLYGON ((20.42388 49.96833, 20.42399 49.96837...</td>\n",
              "      <td>park</td>\n",
              "    </tr>\n",
              "  </tbody>\n",
              "</table>\n",
              "</div>"
            ],
            "text/plain": [
              "     osm_id  code  ...                                           geometry fclass_PL\n",
              "0  19796313  2401  ...  POLYGON ((19.80211 50.07165, 19.80322 50.07180...     hotel\n",
              "1  19803351  2252  ...  POLYGON ((20.05971 50.06508, 20.06070 50.06514...     smoła\n",
              "2  19841872  2252  ...  POLYGON ((19.90818 50.06320, 19.90840 50.06376...     smoła\n",
              "3  19842194  2258  ...  POLYGON ((19.91531 50.07965, 19.91535 50.07977...       tor\n",
              "4  23062643  2204  ...  POLYGON ((20.42388 49.96833, 20.42399 49.96837...      park\n",
              "\n",
              "[5 rows x 6 columns]"
            ]
          },
          "metadata": {
            "tags": []
          },
          "execution_count": 64
        }
      ]
    },
    {
      "cell_type": "code",
      "metadata": {
        "colab": {
          "base_uri": "https://localhost:8080/",
          "height": 407
        },
        "id": "v5qj5got_BjO",
        "outputId": "424bba40-2a28-4118-ea27-bd6198525f1c"
      },
      "source": [
        "label_counts = pois_a[[\"fclass\",\"fclass_PL\"]].value_counts().to_frame().reset_index().rename(columns={0:\"value counts\"})\n",
        "label_counts"
      ],
      "execution_count": 65,
      "outputs": [
        {
          "output_type": "execute_result",
          "data": {
            "text/html": [
              "<div>\n",
              "<style scoped>\n",
              "    .dataframe tbody tr th:only-of-type {\n",
              "        vertical-align: middle;\n",
              "    }\n",
              "\n",
              "    .dataframe tbody tr th {\n",
              "        vertical-align: top;\n",
              "    }\n",
              "\n",
              "    .dataframe thead th {\n",
              "        text-align: right;\n",
              "    }\n",
              "</style>\n",
              "<table border=\"1\" class=\"dataframe\">\n",
              "  <thead>\n",
              "    <tr style=\"text-align: right;\">\n",
              "      <th></th>\n",
              "      <th>fclass</th>\n",
              "      <th>fclass_PL</th>\n",
              "      <th>value counts</th>\n",
              "    </tr>\n",
              "  </thead>\n",
              "  <tbody>\n",
              "    <tr>\n",
              "      <th>0</th>\n",
              "      <td>pitch</td>\n",
              "      <td>smoła</td>\n",
              "      <td>3483</td>\n",
              "    </tr>\n",
              "    <tr>\n",
              "      <th>1</th>\n",
              "      <td>graveyard</td>\n",
              "      <td>cmentarz</td>\n",
              "      <td>1372</td>\n",
              "    </tr>\n",
              "    <tr>\n",
              "      <th>2</th>\n",
              "      <td>playground</td>\n",
              "      <td>plac zabaw</td>\n",
              "      <td>1322</td>\n",
              "    </tr>\n",
              "    <tr>\n",
              "      <th>3</th>\n",
              "      <td>school</td>\n",
              "      <td>szkoła</td>\n",
              "      <td>1082</td>\n",
              "    </tr>\n",
              "    <tr>\n",
              "      <th>4</th>\n",
              "      <td>shelter</td>\n",
              "      <td>schronienie</td>\n",
              "      <td>704</td>\n",
              "    </tr>\n",
              "    <tr>\n",
              "      <th>...</th>\n",
              "      <td>...</td>\n",
              "      <td>...</td>\n",
              "      <td>...</td>\n",
              "    </tr>\n",
              "    <tr>\n",
              "      <th>115</th>\n",
              "      <td>drinking_water</td>\n",
              "      <td>woda pitna</td>\n",
              "      <td>2</td>\n",
              "    </tr>\n",
              "    <tr>\n",
              "      <th>116</th>\n",
              "      <td>travel_agent</td>\n",
              "      <td>agent biura podróży</td>\n",
              "      <td>2</td>\n",
              "    </tr>\n",
              "    <tr>\n",
              "      <th>117</th>\n",
              "      <td>nightclub</td>\n",
              "      <td>Klub nocny</td>\n",
              "      <td>2</td>\n",
              "    </tr>\n",
              "    <tr>\n",
              "      <th>118</th>\n",
              "      <td>outdoor_shop</td>\n",
              "      <td>outdoor_shop</td>\n",
              "      <td>1</td>\n",
              "    </tr>\n",
              "    <tr>\n",
              "      <th>119</th>\n",
              "      <td>car_rental</td>\n",
              "      <td>wypożyczalnia samochodów</td>\n",
              "      <td>1</td>\n",
              "    </tr>\n",
              "  </tbody>\n",
              "</table>\n",
              "<p>120 rows × 3 columns</p>\n",
              "</div>"
            ],
            "text/plain": [
              "             fclass                 fclass_PL  value counts\n",
              "0             pitch                     smoła          3483\n",
              "1         graveyard                  cmentarz          1372\n",
              "2        playground                plac zabaw          1322\n",
              "3            school                    szkoła          1082\n",
              "4           shelter               schronienie           704\n",
              "..              ...                       ...           ...\n",
              "115  drinking_water                woda pitna             2\n",
              "116    travel_agent       agent biura podróży             2\n",
              "117       nightclub                Klub nocny             2\n",
              "118    outdoor_shop              outdoor_shop             1\n",
              "119      car_rental  wypożyczalnia samochodów             1\n",
              "\n",
              "[120 rows x 3 columns]"
            ]
          },
          "metadata": {
            "tags": []
          },
          "execution_count": 65
        }
      ]
    },
    {
      "cell_type": "code",
      "metadata": {
        "colab": {
          "base_uri": "https://localhost:8080/",
          "height": 138
        },
        "id": "Mp-zObH1_BjO",
        "outputId": "cd6e8eda-58dd-422a-e538-378c3b68d099"
      },
      "source": [
        "label_counts.to_markdown()"
      ],
      "execution_count": 66,
      "outputs": [
        {
          "output_type": "execute_result",
          "data": {
            "application/vnd.google.colaboratory.intrinsic+json": {
              "type": "string"
            },
            "text/plain": [
              "'|     | fclass            | fclass_PL                      |   value counts |\\n|----:|:------------------|:-------------------------------|---------------:|\\n|   0 | pitch             | smoła                          |           3483 |\\n|   1 | graveyard         | cmentarz                       |           1372 |\\n|   2 | playground        | plac zabaw                     |           1322 |\\n|   3 | school            | szkoła                         |           1082 |\\n|   4 | shelter           | schronienie                    |            704 |\\n|   5 | park              | park                           |            644 |\\n|   6 | fire_station      | stacja pożarowa                |            447 |\\n|   7 | convenience       | wygoda                         |            441 |\\n|   8 | supermarket       | supermarket                    |            403 |\\n|   9 | ruins             | gruzy                          |            348 |\\n|  10 | hotel             | hotel                          |            318 |\\n|  11 | kindergarten      | przedszkole                    |            314 |\\n|  12 | restaurant        | restauracja                    |            314 |\\n|  13 | attraction        | atrakcja                       |            270 |\\n|  14 | guesthouse        | domek gościnny                 |            269 |\\n|  15 | sports_centre     | Centrum sportowe               |            223 |\\n|  16 | swimming_pool     | basen                          |            196 |\\n|  17 | tower             | wieża                          |            175 |\\n|  18 | car_wash          | myjnia samochodowa             |            170 |\\n|  19 | doctors           | lekarzy                        |            131 |\\n|  20 | wastewater_plant  | wastewater_plant               |            126 |\\n|  21 | fast_food         | fast food                      |            125 |\\n|  22 | wayside_shrine    | wayside_shrine                 |            125 |\\n|  23 | kiosk             | kiosk                          |            124 |\\n|  24 | stadium           | stadion                        |            118 |\\n|  25 | track             | tor                            |            118 |\\n|  26 | mall              | centrum handlowe               |            107 |\\n|  27 | chalet            | szalet                         |             92 |\\n|  28 | doityourself      | Zrób to sam                    |             90 |\\n|  29 | car_dealership    | sprzedawca samochodow          |             89 |\\n|  30 | bakery            | piekarnia                      |             88 |\\n|  31 | clothes           | ubranie                        |             83 |\\n|  32 | museum            | muzeum                         |             82 |\\n|  33 | toilet            | toaleta                        |             81 |\\n|  34 | town_hall         | Ratusz                         |             81 |\\n|  35 | community_centre  | Ośrodek Kultury                |             72 |\\n|  36 | hospital          | szpital                        |             66 |\\n|  37 | florist           | kwiaciarz                      |             65 |\\n|  38 | fountain          | fontanna                       |             64 |\\n|  39 | public_building   | public_building                |             62 |\\n|  40 | water_works       | wodociąg                       |             61 |\\n|  41 | bench             | ławka                          |             59 |\\n|  42 | university        | Uniwersytet                    |             58 |\\n|  43 | police            | Policja                        |             54 |\\n|  44 | hostel            | schronisko                     |             50 |\\n|  45 | castle            | zamek                          |             48 |\\n|  46 | bank              | Bank                           |             48 |\\n|  47 | pharmacy          | Apteka                         |             45 |\\n|  48 | picnic_site       | picnic_site                    |             45 |\\n|  49 | cafe              | kawiarnia                      |             44 |\\n|  50 | post_office       | Poczta                         |             43 |\\n|  51 | camp_site         | obozowisko                     |             43 |\\n|  52 | alpine_hut        | alpine_hut                     |             42 |\\n|  53 | furniture_shop    | sklep meblowy                  |             39 |\\n|  54 | fort              | fort                           |             39 |\\n|  55 | greengrocer       | warzywniak                     |             39 |\\n|  56 | recycling         | recykling                      |             38 |\\n|  57 | library           | biblioteka                     |             36 |\\n|  58 | archaeological    | archeologiczny                 |             35 |\\n|  59 | garden_centre     | Centrum ogrodnicze             |             34 |\\n|  60 | beverages         | napoje                         |             33 |\\n|  61 | theatre           | teatr                          |             32 |\\n|  62 | memorial          | memoriał                       |             30 |\\n|  63 | water_well        | studnia                        |             29 |\\n|  64 | college           | Szkoła Wyższa                  |             28 |\\n|  65 | water_tower       | wieża ciśnień                  |             27 |\\n|  66 | hairdresser       | fryzjer                        |             25 |\\n|  67 | arts_centre       | arts_centre                    |             22 |\\n|  68 | theme_park        | Park rozrywki                  |             22 |\\n|  69 | dog_park          | Park dla psów                  |             21 |\\n|  70 | monument          | pomnik                         |             21 |\\n|  71 | veterinary        | weterynaryjny                  |             20 |\\n|  72 | courthouse        | Sąd                            |             20 |\\n|  73 | motel             | motel                          |             19 |\\n|  74 | butcher           | rzeźnik                        |             17 |\\n|  75 | biergarten        | biergarten                     |             17 |\\n|  76 | bicycle_shop      | sklep rowerowy                 |             17 |\\n|  77 | pub               | pub                            |             16 |\\n|  78 | department_store  | Dom towarowy                   |             16 |\\n|  79 | ice_rink          | lodowisko                      |             15 |\\n|  80 | bar               | bar                            |             15 |\\n|  81 | gift_shop         | sklep z prezentami             |             14 |\\n|  82 | tourist_info      | informacja_turystyczna         |             14 |\\n|  83 | beauty_shop       | beauty_shop                    |             13 |\\n|  84 | dentist           | dentysta                       |             13 |\\n|  85 | observation_tower | wieża obserwacyjna             |             12 |\\n|  86 | water_mill        | Młyn wodny                     |             12 |\\n|  87 | mobile_phone_shop | sklep z telefonami komórkowymi |             11 |\\n|  88 | shoe_shop         | sklep obuwniczy                |             11 |\\n|  89 | prison            | więzienie                      |             11 |\\n|  90 | newsagent         | kiosk                          |              9 |\\n|  91 | cinema            | kino                           |              9 |\\n|  92 | nursing_home      | Dom opieki                     |              9 |\\n|  93 | artwork           | grafika                        |              8 |\\n|  94 | comms_tower       | comms_tower                    |              8 |\\n|  95 | jeweller          | jubiler                        |              7 |\\n|  96 | viewpoint         | punkt widzenia                 |              7 |\\n|  97 | toy_shop          | sklep z zabawkami              |              7 |\\n|  98 | computer_shop     | sklep komputerowy              |              6 |\\n|  99 | food_court        | food_court                     |              6 |\\n| 100 | stationery        | materiały biurowe              |              6 |\\n| 101 | sports_shop       | sklep sportowy                 |              6 |\\n| 102 | optician          | optyk                          |              6 |\\n| 103 | zoo               | ogród zoologiczny              |              5 |\\n| 104 | bookshop          | księgarnia                     |              5 |\\n| 105 | recycling_glass   | recycling_glass                |              5 |\\n| 106 | caravan_site      | caravan_site                   |              4 |\\n| 107 | atm               | bankomat                       |              4 |\\n| 108 | chemist           | chemik                         |              3 |\\n| 109 | bicycle_rental    | wypożyczalnia rowerów          |              3 |\\n| 110 | hunting_stand     | hunting_stand                  |              3 |\\n| 111 | laundry           | pralnia                        |              2 |\\n| 112 | recycling_paper   | Makulatura                     |              2 |\\n| 113 | windmill          | wiatrak                        |              2 |\\n| 114 | golf_course       | golf_course                    |              2 |\\n| 115 | drinking_water    | woda pitna                     |              2 |\\n| 116 | travel_agent      | agent biura podróży            |              2 |\\n| 117 | nightclub         | Klub nocny                     |              2 |\\n| 118 | outdoor_shop      | outdoor_shop                   |              1 |\\n| 119 | car_rental        | wypożyczalnia samochodów       |              1 |'"
            ]
          },
          "metadata": {
            "tags": []
          },
          "execution_count": 66
        }
      ]
    },
    {
      "cell_type": "markdown",
      "metadata": {
        "id": "3N-napNYAyS-"
      },
      "source": [
        "#pois"
      ]
    },
    {
      "cell_type": "code",
      "metadata": {
        "colab": {
          "base_uri": "https://localhost:8080/",
          "height": 250
        },
        "id": "GGKxfJ3QQQlV",
        "outputId": "f3e28e1b-c51b-4392-b5e0-05ef69b3da6c"
      },
      "source": [
        "%time\n",
        "pois = GeoDataFrame.from_file('maps/gis_osm_pois_free_1.shp', encoding='utf-8')\n",
        "pois[\"fclass_PL\"] = pois[\"fclass\"].replace(fclass_eng_to_pl)\n",
        "print(pois.shape)\n",
        "pois.head()"
      ],
      "execution_count": 67,
      "outputs": [
        {
          "output_type": "stream",
          "text": [
            "CPU times: user 5 µs, sys: 1e+03 ns, total: 6 µs\n",
            "Wall time: 11.4 µs\n",
            "(33844, 6)\n"
          ],
          "name": "stdout"
        },
        {
          "output_type": "execute_result",
          "data": {
            "text/html": [
              "<div>\n",
              "<style scoped>\n",
              "    .dataframe tbody tr th:only-of-type {\n",
              "        vertical-align: middle;\n",
              "    }\n",
              "\n",
              "    .dataframe tbody tr th {\n",
              "        vertical-align: top;\n",
              "    }\n",
              "\n",
              "    .dataframe thead th {\n",
              "        text-align: right;\n",
              "    }\n",
              "</style>\n",
              "<table border=\"1\" class=\"dataframe\">\n",
              "  <thead>\n",
              "    <tr style=\"text-align: right;\">\n",
              "      <th></th>\n",
              "      <th>osm_id</th>\n",
              "      <th>code</th>\n",
              "      <th>fclass</th>\n",
              "      <th>name</th>\n",
              "      <th>geometry</th>\n",
              "      <th>fclass_PL</th>\n",
              "    </tr>\n",
              "  </thead>\n",
              "  <tbody>\n",
              "    <tr>\n",
              "      <th>0</th>\n",
              "      <td>25606107</td>\n",
              "      <td>2701</td>\n",
              "      <td>tourist_info</td>\n",
              "      <td>Rysy</td>\n",
              "      <td>POINT (20.08808 49.17946)</td>\n",
              "      <td>informacja_turystyczna</td>\n",
              "    </tr>\n",
              "    <tr>\n",
              "      <th>1</th>\n",
              "      <td>26860250</td>\n",
              "      <td>2422</td>\n",
              "      <td>camp_site</td>\n",
              "      <td>Camp-Cup</td>\n",
              "      <td>POINT (19.62601 49.57885)</td>\n",
              "      <td>obozowisko</td>\n",
              "    </tr>\n",
              "    <tr>\n",
              "      <th>2</th>\n",
              "      <td>26860273</td>\n",
              "      <td>2422</td>\n",
              "      <td>camp_site</td>\n",
              "      <td>Harenda</td>\n",
              "      <td>POINT (19.98500 49.32417)</td>\n",
              "      <td>obozowisko</td>\n",
              "    </tr>\n",
              "    <tr>\n",
              "      <th>3</th>\n",
              "      <td>26860287</td>\n",
              "      <td>2422</td>\n",
              "      <td>camp_site</td>\n",
              "      <td>Krakowianka</td>\n",
              "      <td>POINT (19.92453 50.01552)</td>\n",
              "      <td>obozowisko</td>\n",
              "    </tr>\n",
              "    <tr>\n",
              "      <th>4</th>\n",
              "      <td>31944307</td>\n",
              "      <td>2404</td>\n",
              "      <td>guesthouse</td>\n",
              "      <td>Wawrzka</td>\n",
              "      <td>POINT (20.98333 49.58333)</td>\n",
              "      <td>domek gościnny</td>\n",
              "    </tr>\n",
              "  </tbody>\n",
              "</table>\n",
              "</div>"
            ],
            "text/plain": [
              "     osm_id  code  ...                   geometry               fclass_PL\n",
              "0  25606107  2701  ...  POINT (20.08808 49.17946)  informacja_turystyczna\n",
              "1  26860250  2422  ...  POINT (19.62601 49.57885)              obozowisko\n",
              "2  26860273  2422  ...  POINT (19.98500 49.32417)              obozowisko\n",
              "3  26860287  2422  ...  POINT (19.92453 50.01552)              obozowisko\n",
              "4  31944307  2404  ...  POINT (20.98333 49.58333)          domek gościnny\n",
              "\n",
              "[5 rows x 6 columns]"
            ]
          },
          "metadata": {
            "tags": []
          },
          "execution_count": 67
        }
      ]
    },
    {
      "cell_type": "code",
      "metadata": {
        "colab": {
          "base_uri": "https://localhost:8080/",
          "height": 407
        },
        "id": "V7Kpe8SJ-0_I",
        "outputId": "e3e572ce-4de6-4b95-c0fe-4ec69ef36b14"
      },
      "source": [
        "label_counts = pois[[\"fclass\",\"fclass_PL\"]].value_counts().to_frame().reset_index().rename(columns={0:\"value counts\"})\n",
        "label_counts"
      ],
      "execution_count": 68,
      "outputs": [
        {
          "output_type": "execute_result",
          "data": {
            "text/html": [
              "<div>\n",
              "<style scoped>\n",
              "    .dataframe tbody tr th:only-of-type {\n",
              "        vertical-align: middle;\n",
              "    }\n",
              "\n",
              "    .dataframe tbody tr th {\n",
              "        vertical-align: top;\n",
              "    }\n",
              "\n",
              "    .dataframe thead th {\n",
              "        text-align: right;\n",
              "    }\n",
              "</style>\n",
              "<table border=\"1\" class=\"dataframe\">\n",
              "  <thead>\n",
              "    <tr style=\"text-align: right;\">\n",
              "      <th></th>\n",
              "      <th>fclass</th>\n",
              "      <th>fclass_PL</th>\n",
              "      <th>value counts</th>\n",
              "    </tr>\n",
              "  </thead>\n",
              "  <tbody>\n",
              "    <tr>\n",
              "      <th>0</th>\n",
              "      <td>bench</td>\n",
              "      <td>ławka</td>\n",
              "      <td>5008</td>\n",
              "    </tr>\n",
              "    <tr>\n",
              "      <th>1</th>\n",
              "      <td>convenience</td>\n",
              "      <td>wygoda</td>\n",
              "      <td>2034</td>\n",
              "    </tr>\n",
              "    <tr>\n",
              "      <th>2</th>\n",
              "      <td>tourist_info</td>\n",
              "      <td>informacja_turystyczna</td>\n",
              "      <td>1726</td>\n",
              "    </tr>\n",
              "    <tr>\n",
              "      <th>3</th>\n",
              "      <td>wayside_shrine</td>\n",
              "      <td>wayside_shrine</td>\n",
              "      <td>1606</td>\n",
              "    </tr>\n",
              "    <tr>\n",
              "      <th>4</th>\n",
              "      <td>restaurant</td>\n",
              "      <td>restauracja</td>\n",
              "      <td>1481</td>\n",
              "    </tr>\n",
              "    <tr>\n",
              "      <th>...</th>\n",
              "      <td>...</td>\n",
              "      <td>...</td>\n",
              "      <td>...</td>\n",
              "    </tr>\n",
              "    <tr>\n",
              "      <th>127</th>\n",
              "      <td>track</td>\n",
              "      <td>tor</td>\n",
              "      <td>2</td>\n",
              "    </tr>\n",
              "    <tr>\n",
              "      <th>128</th>\n",
              "      <td>embassy</td>\n",
              "      <td>ambasada</td>\n",
              "      <td>1</td>\n",
              "    </tr>\n",
              "    <tr>\n",
              "      <th>129</th>\n",
              "      <td>prison</td>\n",
              "      <td>więzienie</td>\n",
              "      <td>1</td>\n",
              "    </tr>\n",
              "    <tr>\n",
              "      <th>130</th>\n",
              "      <td>water_mill</td>\n",
              "      <td>Młyn wodny</td>\n",
              "      <td>1</td>\n",
              "    </tr>\n",
              "    <tr>\n",
              "      <th>131</th>\n",
              "      <td>lighthouse</td>\n",
              "      <td>latarnia morska</td>\n",
              "      <td>1</td>\n",
              "    </tr>\n",
              "  </tbody>\n",
              "</table>\n",
              "<p>132 rows × 3 columns</p>\n",
              "</div>"
            ],
            "text/plain": [
              "             fclass               fclass_PL  value counts\n",
              "0             bench                   ławka          5008\n",
              "1       convenience                  wygoda          2034\n",
              "2      tourist_info  informacja_turystyczna          1726\n",
              "3    wayside_shrine          wayside_shrine          1606\n",
              "4        restaurant             restauracja          1481\n",
              "..              ...                     ...           ...\n",
              "127           track                     tor             2\n",
              "128         embassy                ambasada             1\n",
              "129          prison               więzienie             1\n",
              "130      water_mill              Młyn wodny             1\n",
              "131      lighthouse         latarnia morska             1\n",
              "\n",
              "[132 rows x 3 columns]"
            ]
          },
          "metadata": {
            "tags": []
          },
          "execution_count": 68
        }
      ]
    },
    {
      "cell_type": "code",
      "metadata": {
        "colab": {
          "base_uri": "https://localhost:8080/",
          "height": 138
        },
        "id": "lvIkht8y-0_J",
        "outputId": "86e15b6b-fa82-43bb-f0a6-c8754eee134d"
      },
      "source": [
        "label_counts.to_markdown()"
      ],
      "execution_count": 69,
      "outputs": [
        {
          "output_type": "execute_result",
          "data": {
            "application/vnd.google.colaboratory.intrinsic+json": {
              "type": "string"
            },
            "text/plain": [
              "'|     | fclass              | fclass_PL                      |   value counts |\\n|----:|:--------------------|:-------------------------------|---------------:|\\n|   0 | bench               | ławka                          |           5008 |\\n|   1 | convenience         | wygoda                         |           2034 |\\n|   2 | tourist_info        | informacja_turystyczna         |           1726 |\\n|   3 | wayside_shrine      | wayside_shrine                 |           1606 |\\n|   4 | restaurant          | restauracja                    |           1481 |\\n|   5 | atm                 | bankomat                       |           1016 |\\n|   6 | waste_basket        | kosz_odpadowy                  |            976 |\\n|   7 | pharmacy            | Apteka                         |            811 |\\n|   8 | wayside_cross       | wayside_cross                  |            707 |\\n|   9 | memorial            | memoriał                       |            696 |\\n|  10 | fire_station        | stacja pożarowa                |            621 |\\n|  11 | fast_food           | fast food                      |            610 |\\n|  12 | bank                | Bank                           |            579 |\\n|  13 | clothes             | ubranie                        |            560 |\\n|  14 | shelter             | schronienie                    |            544 |\\n|  15 | hairdresser         | fryzjer                        |            519 |\\n|  16 | supermarket         | supermarket                    |            487 |\\n|  17 | school              | szkoła                         |            481 |\\n|  18 | attraction          | atrakcja                       |            456 |\\n|  19 | recycling_glass     | recycling_glass                |            430 |\\n|  20 | bakery              | piekarnia                      |            418 |\\n|  21 | cafe                | kawiarnia                      |            410 |\\n|  22 | viewpoint           | punkt widzenia                 |            401 |\\n|  23 | vending_any         | vending_any                    |            390 |\\n|  24 | guesthouse          | domek gościnny                 |            389 |\\n|  25 | hotel               | hotel                          |            380 |\\n|  26 | vending_parking     | vending_parking                |            370 |\\n|  27 | hunting_stand       | hunting_stand                  |            359 |\\n|  28 | toilet              | toaleta                        |            342 |\\n|  29 | post_office         | Poczta                         |            319 |\\n|  30 | playground          | plac zabaw                     |            294 |\\n|  31 | doctors             | lekarzy                        |            275 |\\n|  32 | kindergarten        | przedszkole                    |            274 |\\n|  33 | florist             | kwiaciarz                      |            273 |\\n|  34 | pub                 | pub                            |            258 |\\n|  35 | post_box            | Skrzynka pocztowa              |            257 |\\n|  36 | recycling           | recykling                      |            250 |\\n|  37 | monument            | pomnik                         |            237 |\\n|  38 | camera_surveillance | camera_surveillance            |            230 |\\n|  39 | kiosk               | kiosk                          |            227 |\\n|  40 | library             | biblioteka                     |            220 |\\n|  41 | doityourself        | Zrób to sam                    |            220 |\\n|  42 | car_wash            | myjnia samochodowa             |            214 |\\n|  43 | artwork             | grafika                        |            214 |\\n|  44 | bicycle_rental      | wypożyczalnia rowerów          |            190 |\\n|  45 | dentist             | dentysta                       |            177 |\\n|  46 | water_well          | studnia                        |            172 |\\n|  47 | picnic_site         | picnic_site                    |            170 |\\n|  48 | bar                 | bar                            |            167 |\\n|  49 | beverages           | napoje                         |            165 |\\n|  50 | greengrocer         | warzywniak                     |            154 |\\n|  51 | hostel              | schronisko                     |            152 |\\n|  52 | butcher             | rzeźnik                        |            148 |\\n|  53 | chemist             | chemik                         |            140 |\\n|  54 | beauty_shop         | beauty_shop                    |            138 |\\n|  55 | drinking_water      | woda pitna                     |            134 |\\n|  56 | gift_shop           | sklep z prezentami             |            132 |\\n|  57 | bookshop            | księgarnia                     |            131 |\\n|  58 | fountain            | fontanna                       |            130 |\\n|  59 | museum              | muzeum                         |            130 |\\n|  60 | comms_tower         | comms_tower                    |            127 |\\n|  61 | shoe_shop           | sklep obuwniczy                |            123 |\\n|  62 | car_dealership      | sprzedawca samochodow          |            120 |\\n|  63 | mobile_phone_shop   | sklep z telefonami komórkowymi |            117 |\\n|  64 | pitch               | smoła                          |            111 |\\n|  65 | furniture_shop      | sklep meblowy                  |            109 |\\n|  66 | veterinary          | weterynaryjny                  |            102 |\\n|  67 | bicycle_shop        | sklep rowerowy                 |             91 |\\n|  68 | sports_centre       | Centrum sportowe               |             86 |\\n|  69 | town_hall           | Ratusz                         |             85 |\\n|  70 | optician            | optyk                          |             82 |\\n|  71 | computer_shop       | sklep komputerowy              |             81 |\\n|  72 | community_centre    | Ośrodek Kultury                |             76 |\\n|  73 | sports_shop         | sklep sportowy                 |             72 |\\n|  74 | jeweller            | jubiler                        |             72 |\\n|  75 | police              | Policja                        |             65 |\\n|  76 | travel_agent        | agent biura podróży            |             65 |\\n|  77 | tower               | wieża                          |             62 |\\n|  78 | university          | Uniwersytet                    |             60 |\\n|  79 | garden_centre       | Centrum ogrodnicze             |             60 |\\n|  80 | chalet              | szalet                         |             59 |\\n|  81 | recycling_paper     | Makulatura                     |             59 |\\n|  82 | stationery          | materiały biurowe              |             58 |\\n|  83 | arts_centre         | arts_centre                    |             50 |\\n|  84 | laundry             | pralnia                        |             49 |\\n|  85 | archaeological      | archeologiczny                 |             48 |\\n|  86 | motel               | motel                          |             46 |\\n|  87 | cinema              | kino                           |             46 |\\n|  88 | recycling_clothes   | odzież_recyklingowa            |             45 |\\n|  89 | observation_tower   | wieża obserwacyjna             |             42 |\\n|  90 | nightclub           | Klub nocny                     |             41 |\\n|  91 | hospital            | szpital                        |             39 |\\n|  92 | toy_shop            | sklep z zabawkami              |             38 |\\n|  93 | newsagent           | kiosk                          |             35 |\\n|  94 | ruins               | gruzy                          |             35 |\\n|  95 | theatre             | teatr                          |             32 |\\n|  96 | swimming_pool       | basen                          |             31 |\\n|  97 | vending_machine     | automat z jedzeniem            |             29 |\\n|  98 | outdoor_shop        | outdoor_shop                   |             29 |\\n|  99 | camp_site           | obozowisko                     |             28 |\\n| 100 | courthouse          | Sąd                            |             23 |\\n| 101 | public_building     | public_building                |             19 |\\n| 102 | department_store    | Dom towarowy                   |             18 |\\n| 103 | college             | Szkoła Wyższa                  |             14 |\\n| 104 | graveyard           | cmentarz                       |             14 |\\n| 105 | car_rental          | wypożyczalnia samochodów       |             14 |\\n| 106 | castle              | zamek                          |             13 |\\n| 107 | mall                | centrum handlowe               |             13 |\\n| 108 | biergarten          | biergarten                     |             11 |\\n| 109 | wastewater_plant    | wastewater_plant               |             10 |\\n| 110 | water_works         | wodociąg                       |              9 |\\n| 111 | water_tower         | wieża ciśnień                  |              7 |\\n| 112 | alpine_hut          | alpine_hut                     |              7 |\\n| 113 | park                | park                           |              7 |\\n| 114 | nursing_home        | Dom opieki                     |              7 |\\n| 115 | caravan_site        | caravan_site                   |              6 |\\n| 116 | theme_park          | Park rozrywki                  |              6 |\\n| 117 | stadium             | stadion                        |              6 |\\n| 118 | food_court          | food_court                     |              5 |\\n| 119 | recycling_metal     | recycling_metal                |              5 |\\n| 120 | telephone           | telefon                        |              5 |\\n| 121 | zoo                 | ogród zoologiczny              |              4 |\\n| 122 | video_shop          | video_shop                     |              3 |\\n| 123 | battlefield         | pole walki                     |              2 |\\n| 124 | dog_park            | Park dla psów                  |              2 |\\n| 125 | ice_rink            | lodowisko                      |              2 |\\n| 126 | windmill            | wiatrak                        |              2 |\\n| 127 | track               | tor                            |              2 |\\n| 128 | embassy             | ambasada                       |              1 |\\n| 129 | prison              | więzienie                      |              1 |\\n| 130 | water_mill          | Młyn wodny                     |              1 |\\n| 131 | lighthouse          | latarnia morska                |              1 |'"
            ]
          },
          "metadata": {
            "tags": []
          },
          "execution_count": 69
        }
      ]
    },
    {
      "cell_type": "markdown",
      "metadata": {
        "id": "9a2eht-_AujK"
      },
      "source": [
        "#railways"
      ]
    },
    {
      "cell_type": "code",
      "metadata": {
        "colab": {
          "base_uri": "https://localhost:8080/",
          "height": 336
        },
        "id": "9PsGR_R_QDoy",
        "outputId": "2fba2cf6-0507-4291-e8cd-da0e3bb1379e"
      },
      "source": [
        "%time\n",
        "railways = GeoDataFrame.from_file('maps/gis_osm_railways_free_1.shp', encoding='utf-8')\n",
        "railways[\"fclass_PL\"] = railways[\"fclass\"].replace(fclass_eng_to_pl)\n",
        "print(railways.shape)\n",
        "railways.head()"
      ],
      "execution_count": 73,
      "outputs": [
        {
          "output_type": "stream",
          "text": [
            "CPU times: user 4 µs, sys: 0 ns, total: 4 µs\n",
            "Wall time: 10 µs\n",
            "(6116, 9)\n"
          ],
          "name": "stdout"
        },
        {
          "output_type": "execute_result",
          "data": {
            "text/html": [
              "<div>\n",
              "<style scoped>\n",
              "    .dataframe tbody tr th:only-of-type {\n",
              "        vertical-align: middle;\n",
              "    }\n",
              "\n",
              "    .dataframe tbody tr th {\n",
              "        vertical-align: top;\n",
              "    }\n",
              "\n",
              "    .dataframe thead th {\n",
              "        text-align: right;\n",
              "    }\n",
              "</style>\n",
              "<table border=\"1\" class=\"dataframe\">\n",
              "  <thead>\n",
              "    <tr style=\"text-align: right;\">\n",
              "      <th></th>\n",
              "      <th>osm_id</th>\n",
              "      <th>code</th>\n",
              "      <th>fclass</th>\n",
              "      <th>name</th>\n",
              "      <th>layer</th>\n",
              "      <th>bridge</th>\n",
              "      <th>tunnel</th>\n",
              "      <th>geometry</th>\n",
              "      <th>fclass_PL</th>\n",
              "    </tr>\n",
              "  </thead>\n",
              "  <tbody>\n",
              "    <tr>\n",
              "      <th>0</th>\n",
              "      <td>4820685</td>\n",
              "      <td>6101</td>\n",
              "      <td>rail</td>\n",
              "      <td>None</td>\n",
              "      <td>0</td>\n",
              "      <td>F</td>\n",
              "      <td>F</td>\n",
              "      <td>LINESTRING (19.81982 50.10854, 19.83200 50.099...</td>\n",
              "      <td>szyna</td>\n",
              "    </tr>\n",
              "    <tr>\n",
              "      <th>1</th>\n",
              "      <td>5901391</td>\n",
              "      <td>6101</td>\n",
              "      <td>rail</td>\n",
              "      <td>None</td>\n",
              "      <td>0</td>\n",
              "      <td>F</td>\n",
              "      <td>F</td>\n",
              "      <td>LINESTRING (20.15380 50.02779, 20.15478 50.030...</td>\n",
              "      <td>szyna</td>\n",
              "    </tr>\n",
              "    <tr>\n",
              "      <th>2</th>\n",
              "      <td>5901548</td>\n",
              "      <td>6101</td>\n",
              "      <td>rail</td>\n",
              "      <td>None</td>\n",
              "      <td>0</td>\n",
              "      <td>F</td>\n",
              "      <td>F</td>\n",
              "      <td>LINESTRING (19.96535 50.04225, 19.96580 50.041...</td>\n",
              "      <td>szyna</td>\n",
              "    </tr>\n",
              "    <tr>\n",
              "      <th>3</th>\n",
              "      <td>5901574</td>\n",
              "      <td>6101</td>\n",
              "      <td>rail</td>\n",
              "      <td>None</td>\n",
              "      <td>0</td>\n",
              "      <td>F</td>\n",
              "      <td>F</td>\n",
              "      <td>LINESTRING (20.37067 49.98760, 20.38054 49.98492)</td>\n",
              "      <td>szyna</td>\n",
              "    </tr>\n",
              "    <tr>\n",
              "      <th>4</th>\n",
              "      <td>5901827</td>\n",
              "      <td>6101</td>\n",
              "      <td>rail</td>\n",
              "      <td>None</td>\n",
              "      <td>1</td>\n",
              "      <td>T</td>\n",
              "      <td>F</td>\n",
              "      <td>LINESTRING (20.15380 50.02779, 20.15373 50.02761)</td>\n",
              "      <td>szyna</td>\n",
              "    </tr>\n",
              "  </tbody>\n",
              "</table>\n",
              "</div>"
            ],
            "text/plain": [
              "    osm_id  code  ...                                           geometry fclass_PL\n",
              "0  4820685  6101  ...  LINESTRING (19.81982 50.10854, 19.83200 50.099...     szyna\n",
              "1  5901391  6101  ...  LINESTRING (20.15380 50.02779, 20.15478 50.030...     szyna\n",
              "2  5901548  6101  ...  LINESTRING (19.96535 50.04225, 19.96580 50.041...     szyna\n",
              "3  5901574  6101  ...  LINESTRING (20.37067 49.98760, 20.38054 49.98492)     szyna\n",
              "4  5901827  6101  ...  LINESTRING (20.15380 50.02779, 20.15373 50.02761)     szyna\n",
              "\n",
              "[5 rows x 9 columns]"
            ]
          },
          "metadata": {
            "tags": []
          },
          "execution_count": 73
        }
      ]
    },
    {
      "cell_type": "code",
      "metadata": {
        "colab": {
          "base_uri": "https://localhost:8080/",
          "height": 198
        },
        "id": "J7_vxmuu-w0s",
        "outputId": "9d96c386-013a-41aa-d07f-dc7a2067bc55"
      },
      "source": [
        "label_counts = railways[[\"fclass\",\"fclass_PL\"]].value_counts().to_frame().reset_index().rename(columns={0:\"value counts\"})\n",
        "label_counts"
      ],
      "execution_count": 74,
      "outputs": [
        {
          "output_type": "execute_result",
          "data": {
            "text/html": [
              "<div>\n",
              "<style scoped>\n",
              "    .dataframe tbody tr th:only-of-type {\n",
              "        vertical-align: middle;\n",
              "    }\n",
              "\n",
              "    .dataframe tbody tr th {\n",
              "        vertical-align: top;\n",
              "    }\n",
              "\n",
              "    .dataframe thead th {\n",
              "        text-align: right;\n",
              "    }\n",
              "</style>\n",
              "<table border=\"1\" class=\"dataframe\">\n",
              "  <thead>\n",
              "    <tr style=\"text-align: right;\">\n",
              "      <th></th>\n",
              "      <th>fclass</th>\n",
              "      <th>fclass_PL</th>\n",
              "      <th>value counts</th>\n",
              "    </tr>\n",
              "  </thead>\n",
              "  <tbody>\n",
              "    <tr>\n",
              "      <th>0</th>\n",
              "      <td>rail</td>\n",
              "      <td>szyna</td>\n",
              "      <td>5143</td>\n",
              "    </tr>\n",
              "    <tr>\n",
              "      <th>1</th>\n",
              "      <td>tram</td>\n",
              "      <td>tramwajowy</td>\n",
              "      <td>769</td>\n",
              "    </tr>\n",
              "    <tr>\n",
              "      <th>2</th>\n",
              "      <td>narrow_gauge</td>\n",
              "      <td>wąska szerokość</td>\n",
              "      <td>178</td>\n",
              "    </tr>\n",
              "    <tr>\n",
              "      <th>3</th>\n",
              "      <td>monorail</td>\n",
              "      <td>jednoszynowy</td>\n",
              "      <td>19</td>\n",
              "    </tr>\n",
              "    <tr>\n",
              "      <th>4</th>\n",
              "      <td>funicular</td>\n",
              "      <td>kolejka linowa</td>\n",
              "      <td>7</td>\n",
              "    </tr>\n",
              "  </tbody>\n",
              "</table>\n",
              "</div>"
            ],
            "text/plain": [
              "         fclass        fclass_PL  value counts\n",
              "0          rail            szyna          5143\n",
              "1          tram       tramwajowy           769\n",
              "2  narrow_gauge  wąska szerokość           178\n",
              "3      monorail     jednoszynowy            19\n",
              "4     funicular   kolejka linowa             7"
            ]
          },
          "metadata": {
            "tags": []
          },
          "execution_count": 74
        }
      ]
    },
    {
      "cell_type": "code",
      "metadata": {
        "colab": {
          "base_uri": "https://localhost:8080/",
          "height": 69
        },
        "id": "stf2DW4w-w0t",
        "outputId": "798d4164-ede8-421a-d320-ba714cd73e06"
      },
      "source": [
        "label_counts.to_markdown()"
      ],
      "execution_count": 75,
      "outputs": [
        {
          "output_type": "execute_result",
          "data": {
            "application/vnd.google.colaboratory.intrinsic+json": {
              "type": "string"
            },
            "text/plain": [
              "'|    | fclass       | fclass_PL       |   value counts |\\n|---:|:-------------|:----------------|---------------:|\\n|  0 | rail         | szyna           |           5143 |\\n|  1 | tram         | tramwajowy      |            769 |\\n|  2 | narrow_gauge | wąska szerokość |            178 |\\n|  3 | monorail     | jednoszynowy    |             19 |\\n|  4 | funicular    | kolejka linowa  |              7 |'"
            ]
          },
          "metadata": {
            "tags": []
          },
          "execution_count": 75
        }
      ]
    },
    {
      "cell_type": "code",
      "metadata": {
        "colab": {
          "base_uri": "https://localhost:8080/",
          "height": 198
        },
        "id": "4PHqHNSHEUTM",
        "outputId": "56f15b20-2199-489e-a6b6-5d125d67b405"
      },
      "source": [
        "label_counts = railways[\"layer\"].value_counts().to_frame().reset_index().rename(columns={0:\"value counts\"})\n",
        "label_counts"
      ],
      "execution_count": 76,
      "outputs": [
        {
          "output_type": "execute_result",
          "data": {
            "text/html": [
              "<div>\n",
              "<style scoped>\n",
              "    .dataframe tbody tr th:only-of-type {\n",
              "        vertical-align: middle;\n",
              "    }\n",
              "\n",
              "    .dataframe tbody tr th {\n",
              "        vertical-align: top;\n",
              "    }\n",
              "\n",
              "    .dataframe thead th {\n",
              "        text-align: right;\n",
              "    }\n",
              "</style>\n",
              "<table border=\"1\" class=\"dataframe\">\n",
              "  <thead>\n",
              "    <tr style=\"text-align: right;\">\n",
              "      <th></th>\n",
              "      <th>index</th>\n",
              "      <th>layer</th>\n",
              "    </tr>\n",
              "  </thead>\n",
              "  <tbody>\n",
              "    <tr>\n",
              "      <th>0</th>\n",
              "      <td>0</td>\n",
              "      <td>5133</td>\n",
              "    </tr>\n",
              "    <tr>\n",
              "      <th>1</th>\n",
              "      <td>1</td>\n",
              "      <td>898</td>\n",
              "    </tr>\n",
              "    <tr>\n",
              "      <th>2</th>\n",
              "      <td>-1</td>\n",
              "      <td>43</td>\n",
              "    </tr>\n",
              "    <tr>\n",
              "      <th>3</th>\n",
              "      <td>2</td>\n",
              "      <td>40</td>\n",
              "    </tr>\n",
              "    <tr>\n",
              "      <th>4</th>\n",
              "      <td>-2</td>\n",
              "      <td>2</td>\n",
              "    </tr>\n",
              "  </tbody>\n",
              "</table>\n",
              "</div>"
            ],
            "text/plain": [
              "   index  layer\n",
              "0      0   5133\n",
              "1      1    898\n",
              "2     -1     43\n",
              "3      2     40\n",
              "4     -2      2"
            ]
          },
          "metadata": {
            "tags": []
          },
          "execution_count": 76
        }
      ]
    },
    {
      "cell_type": "code",
      "metadata": {
        "colab": {
          "base_uri": "https://localhost:8080/",
          "height": 52
        },
        "id": "_be7fzfvEUTN",
        "outputId": "3cc19cb5-1448-49d0-e957-be03cb85523c"
      },
      "source": [
        "label_counts.to_markdown()"
      ],
      "execution_count": 77,
      "outputs": [
        {
          "output_type": "execute_result",
          "data": {
            "application/vnd.google.colaboratory.intrinsic+json": {
              "type": "string"
            },
            "text/plain": [
              "'|    |   index |   layer |\\n|---:|--------:|--------:|\\n|  0 |       0 |    5133 |\\n|  1 |       1 |     898 |\\n|  2 |      -1 |      43 |\\n|  3 |       2 |      40 |\\n|  4 |      -2 |       2 |'"
            ]
          },
          "metadata": {
            "tags": []
          },
          "execution_count": 77
        }
      ]
    },
    {
      "cell_type": "code",
      "metadata": {
        "colab": {
          "base_uri": "https://localhost:8080/",
          "height": 108
        },
        "id": "_q8IsQc6EJ_Y",
        "outputId": "946ed6d2-5a26-4abb-f2e0-a637de6e1a4c"
      },
      "source": [
        "label_counts = railways[\"bridge\"].value_counts().to_frame().reset_index().rename(columns={0:\"value counts\"})\n",
        "label_counts"
      ],
      "execution_count": 78,
      "outputs": [
        {
          "output_type": "execute_result",
          "data": {
            "text/html": [
              "<div>\n",
              "<style scoped>\n",
              "    .dataframe tbody tr th:only-of-type {\n",
              "        vertical-align: middle;\n",
              "    }\n",
              "\n",
              "    .dataframe tbody tr th {\n",
              "        vertical-align: top;\n",
              "    }\n",
              "\n",
              "    .dataframe thead th {\n",
              "        text-align: right;\n",
              "    }\n",
              "</style>\n",
              "<table border=\"1\" class=\"dataframe\">\n",
              "  <thead>\n",
              "    <tr style=\"text-align: right;\">\n",
              "      <th></th>\n",
              "      <th>index</th>\n",
              "      <th>bridge</th>\n",
              "    </tr>\n",
              "  </thead>\n",
              "  <tbody>\n",
              "    <tr>\n",
              "      <th>0</th>\n",
              "      <td>F</td>\n",
              "      <td>5267</td>\n",
              "    </tr>\n",
              "    <tr>\n",
              "      <th>1</th>\n",
              "      <td>T</td>\n",
              "      <td>849</td>\n",
              "    </tr>\n",
              "  </tbody>\n",
              "</table>\n",
              "</div>"
            ],
            "text/plain": [
              "  index  bridge\n",
              "0     F    5267\n",
              "1     T     849"
            ]
          },
          "metadata": {
            "tags": []
          },
          "execution_count": 78
        }
      ]
    },
    {
      "cell_type": "code",
      "metadata": {
        "colab": {
          "base_uri": "https://localhost:8080/",
          "height": 35
        },
        "id": "za7spv3BEQ0J",
        "outputId": "c1083cb2-ea0b-41cf-b5cd-50d0a8604474"
      },
      "source": [
        "label_counts.to_markdown()"
      ],
      "execution_count": 79,
      "outputs": [
        {
          "output_type": "execute_result",
          "data": {
            "application/vnd.google.colaboratory.intrinsic+json": {
              "type": "string"
            },
            "text/plain": [
              "'|    | index   |   bridge |\\n|---:|:--------|---------:|\\n|  0 | F       |     5267 |\\n|  1 | T       |      849 |'"
            ]
          },
          "metadata": {
            "tags": []
          },
          "execution_count": 79
        }
      ]
    },
    {
      "cell_type": "code",
      "metadata": {
        "colab": {
          "base_uri": "https://localhost:8080/",
          "height": 108
        },
        "id": "OqYrBuf4EP48",
        "outputId": "377268b9-1020-4493-f976-0c466a91306d"
      },
      "source": [
        "label_counts = railways[\"tunnel\"].value_counts().to_frame().reset_index().rename(columns={0:\"value counts\"})\n",
        "label_counts"
      ],
      "execution_count": 80,
      "outputs": [
        {
          "output_type": "execute_result",
          "data": {
            "text/html": [
              "<div>\n",
              "<style scoped>\n",
              "    .dataframe tbody tr th:only-of-type {\n",
              "        vertical-align: middle;\n",
              "    }\n",
              "\n",
              "    .dataframe tbody tr th {\n",
              "        vertical-align: top;\n",
              "    }\n",
              "\n",
              "    .dataframe thead th {\n",
              "        text-align: right;\n",
              "    }\n",
              "</style>\n",
              "<table border=\"1\" class=\"dataframe\">\n",
              "  <thead>\n",
              "    <tr style=\"text-align: right;\">\n",
              "      <th></th>\n",
              "      <th>index</th>\n",
              "      <th>tunnel</th>\n",
              "    </tr>\n",
              "  </thead>\n",
              "  <tbody>\n",
              "    <tr>\n",
              "      <th>0</th>\n",
              "      <td>F</td>\n",
              "      <td>6073</td>\n",
              "    </tr>\n",
              "    <tr>\n",
              "      <th>1</th>\n",
              "      <td>T</td>\n",
              "      <td>43</td>\n",
              "    </tr>\n",
              "  </tbody>\n",
              "</table>\n",
              "</div>"
            ],
            "text/plain": [
              "  index  tunnel\n",
              "0     F    6073\n",
              "1     T      43"
            ]
          },
          "metadata": {
            "tags": []
          },
          "execution_count": 80
        }
      ]
    },
    {
      "cell_type": "code",
      "metadata": {
        "colab": {
          "base_uri": "https://localhost:8080/",
          "height": 35
        },
        "id": "leuWyfjzERXy",
        "outputId": "2ff1f72d-b6b6-4a89-db06-0dc3d780053f"
      },
      "source": [
        "label_counts.to_markdown()"
      ],
      "execution_count": 81,
      "outputs": [
        {
          "output_type": "execute_result",
          "data": {
            "application/vnd.google.colaboratory.intrinsic+json": {
              "type": "string"
            },
            "text/plain": [
              "'|    | index   |   tunnel |\\n|---:|:--------|---------:|\\n|  0 | F       |     6073 |\\n|  1 | T       |       43 |'"
            ]
          },
          "metadata": {
            "tags": []
          },
          "execution_count": 81
        }
      ]
    },
    {
      "cell_type": "markdown",
      "metadata": {
        "id": "1QCwu6xk7N-J"
      },
      "source": [
        "#roads"
      ]
    },
    {
      "cell_type": "code",
      "metadata": {
        "colab": {
          "base_uri": "https://localhost:8080/",
          "height": 615
        },
        "id": "vZYfj631uupU",
        "outputId": "c0ea2925-d009-442a-f0a3-ce31852a5243"
      },
      "source": [
        "%time\n",
        "roads = GeoDataFrame.from_file('maps/gis_osm_roads_free_1.shp', encoding='utf-8')\n",
        "roads[\"fclass_PL\"] = roads[\"fclass\"].replace(fclass_eng_to_pl)\n",
        "print(roads.shape)\n",
        "roads.head()"
      ],
      "execution_count": 82,
      "outputs": [
        {
          "output_type": "stream",
          "text": [
            "CPU times: user 4 µs, sys: 1 µs, total: 5 µs\n",
            "Wall time: 9.54 µs\n",
            "(372824, 12)\n"
          ],
          "name": "stdout"
        },
        {
          "output_type": "execute_result",
          "data": {
            "text/html": [
              "<div>\n",
              "<style scoped>\n",
              "    .dataframe tbody tr th:only-of-type {\n",
              "        vertical-align: middle;\n",
              "    }\n",
              "\n",
              "    .dataframe tbody tr th {\n",
              "        vertical-align: top;\n",
              "    }\n",
              "\n",
              "    .dataframe thead th {\n",
              "        text-align: right;\n",
              "    }\n",
              "</style>\n",
              "<table border=\"1\" class=\"dataframe\">\n",
              "  <thead>\n",
              "    <tr style=\"text-align: right;\">\n",
              "      <th></th>\n",
              "      <th>osm_id</th>\n",
              "      <th>code</th>\n",
              "      <th>fclass</th>\n",
              "      <th>name</th>\n",
              "      <th>ref</th>\n",
              "      <th>oneway</th>\n",
              "      <th>maxspeed</th>\n",
              "      <th>layer</th>\n",
              "      <th>bridge</th>\n",
              "      <th>tunnel</th>\n",
              "      <th>geometry</th>\n",
              "      <th>fclass_PL</th>\n",
              "    </tr>\n",
              "  </thead>\n",
              "  <tbody>\n",
              "    <tr>\n",
              "      <th>0</th>\n",
              "      <td>2954554</td>\n",
              "      <td>5122</td>\n",
              "      <td>residential</td>\n",
              "      <td>Ignacego Mościckiego</td>\n",
              "      <td>None</td>\n",
              "      <td>B</td>\n",
              "      <td>40</td>\n",
              "      <td>0</td>\n",
              "      <td>F</td>\n",
              "      <td>F</td>\n",
              "      <td>LINESTRING (20.03436 50.08068, 20.03452 50.080...</td>\n",
              "      <td>osiedle mieszkaniowe</td>\n",
              "    </tr>\n",
              "    <tr>\n",
              "      <th>1</th>\n",
              "      <td>2954556</td>\n",
              "      <td>5115</td>\n",
              "      <td>tertiary</td>\n",
              "      <td>Stefana Żeromskiego</td>\n",
              "      <td>None</td>\n",
              "      <td>B</td>\n",
              "      <td>50</td>\n",
              "      <td>0</td>\n",
              "      <td>F</td>\n",
              "      <td>F</td>\n",
              "      <td>LINESTRING (20.03605 50.07939, 20.03626 50.079...</td>\n",
              "      <td>trzeciorzędowy</td>\n",
              "    </tr>\n",
              "    <tr>\n",
              "      <th>2</th>\n",
              "      <td>2954557</td>\n",
              "      <td>5122</td>\n",
              "      <td>residential</td>\n",
              "      <td>None</td>\n",
              "      <td>None</td>\n",
              "      <td>B</td>\n",
              "      <td>30</td>\n",
              "      <td>0</td>\n",
              "      <td>F</td>\n",
              "      <td>F</td>\n",
              "      <td>LINESTRING (20.03550 50.07982, 20.03566 50.079...</td>\n",
              "      <td>osiedle mieszkaniowe</td>\n",
              "    </tr>\n",
              "    <tr>\n",
              "      <th>3</th>\n",
              "      <td>2954558</td>\n",
              "      <td>5122</td>\n",
              "      <td>residential</td>\n",
              "      <td>None</td>\n",
              "      <td>None</td>\n",
              "      <td>B</td>\n",
              "      <td>30</td>\n",
              "      <td>0</td>\n",
              "      <td>F</td>\n",
              "      <td>F</td>\n",
              "      <td>LINESTRING (20.03484 50.08193, 20.03516 50.081...</td>\n",
              "      <td>osiedle mieszkaniowe</td>\n",
              "    </tr>\n",
              "    <tr>\n",
              "      <th>4</th>\n",
              "      <td>3989492</td>\n",
              "      <td>5124</td>\n",
              "      <td>pedestrian</td>\n",
              "      <td>Floriańska</td>\n",
              "      <td>None</td>\n",
              "      <td>F</td>\n",
              "      <td>20</td>\n",
              "      <td>0</td>\n",
              "      <td>F</td>\n",
              "      <td>F</td>\n",
              "      <td>LINESTRING (19.94134 50.06483, 19.94133 50.064...</td>\n",
              "      <td>pieszy</td>\n",
              "    </tr>\n",
              "  </tbody>\n",
              "</table>\n",
              "</div>"
            ],
            "text/plain": [
              "    osm_id  ...             fclass_PL\n",
              "0  2954554  ...  osiedle mieszkaniowe\n",
              "1  2954556  ...        trzeciorzędowy\n",
              "2  2954557  ...  osiedle mieszkaniowe\n",
              "3  2954558  ...  osiedle mieszkaniowe\n",
              "4  3989492  ...                pieszy\n",
              "\n",
              "[5 rows x 12 columns]"
            ]
          },
          "metadata": {
            "tags": []
          },
          "execution_count": 82
        }
      ]
    },
    {
      "cell_type": "code",
      "metadata": {
        "colab": {
          "base_uri": "https://localhost:8080/",
          "height": 828
        },
        "id": "C4TSf_jpWL8o",
        "outputId": "dab4d07a-05e6-4f0d-a79a-96cd4c61d28d"
      },
      "source": [
        "label_counts = roads[[\"fclass\",\"fclass_PL\"]].value_counts().to_frame().reset_index().rename(columns={0:\"value counts\"})\n",
        "label_counts"
      ],
      "execution_count": 83,
      "outputs": [
        {
          "output_type": "execute_result",
          "data": {
            "text/html": [
              "<div>\n",
              "<style scoped>\n",
              "    .dataframe tbody tr th:only-of-type {\n",
              "        vertical-align: middle;\n",
              "    }\n",
              "\n",
              "    .dataframe tbody tr th {\n",
              "        vertical-align: top;\n",
              "    }\n",
              "\n",
              "    .dataframe thead th {\n",
              "        text-align: right;\n",
              "    }\n",
              "</style>\n",
              "<table border=\"1\" class=\"dataframe\">\n",
              "  <thead>\n",
              "    <tr style=\"text-align: right;\">\n",
              "      <th></th>\n",
              "      <th>fclass</th>\n",
              "      <th>fclass_PL</th>\n",
              "      <th>value counts</th>\n",
              "    </tr>\n",
              "  </thead>\n",
              "  <tbody>\n",
              "    <tr>\n",
              "      <th>0</th>\n",
              "      <td>service</td>\n",
              "      <td>usługa</td>\n",
              "      <td>135933</td>\n",
              "    </tr>\n",
              "    <tr>\n",
              "      <th>1</th>\n",
              "      <td>footway</td>\n",
              "      <td>chodnik</td>\n",
              "      <td>59029</td>\n",
              "    </tr>\n",
              "    <tr>\n",
              "      <th>2</th>\n",
              "      <td>track</td>\n",
              "      <td>tor</td>\n",
              "      <td>53065</td>\n",
              "    </tr>\n",
              "    <tr>\n",
              "      <th>3</th>\n",
              "      <td>residential</td>\n",
              "      <td>osiedle mieszkaniowe</td>\n",
              "      <td>46687</td>\n",
              "    </tr>\n",
              "    <tr>\n",
              "      <th>4</th>\n",
              "      <td>path</td>\n",
              "      <td>ścieżka</td>\n",
              "      <td>15276</td>\n",
              "    </tr>\n",
              "    <tr>\n",
              "      <th>5</th>\n",
              "      <td>tertiary</td>\n",
              "      <td>trzeciorzędowy</td>\n",
              "      <td>12251</td>\n",
              "    </tr>\n",
              "    <tr>\n",
              "      <th>6</th>\n",
              "      <td>unclassified</td>\n",
              "      <td>niesklasyfikowane</td>\n",
              "      <td>7740</td>\n",
              "    </tr>\n",
              "    <tr>\n",
              "      <th>7</th>\n",
              "      <td>primary</td>\n",
              "      <td>podstawowa</td>\n",
              "      <td>5410</td>\n",
              "    </tr>\n",
              "    <tr>\n",
              "      <th>8</th>\n",
              "      <td>secondary</td>\n",
              "      <td>wtórny</td>\n",
              "      <td>5386</td>\n",
              "    </tr>\n",
              "    <tr>\n",
              "      <th>9</th>\n",
              "      <td>steps</td>\n",
              "      <td>kroki</td>\n",
              "      <td>5351</td>\n",
              "    </tr>\n",
              "    <tr>\n",
              "      <th>10</th>\n",
              "      <td>track_grade5</td>\n",
              "      <td>track_grade5</td>\n",
              "      <td>4269</td>\n",
              "    </tr>\n",
              "    <tr>\n",
              "      <th>11</th>\n",
              "      <td>cycleway</td>\n",
              "      <td>ścieżka rowerowa</td>\n",
              "      <td>4023</td>\n",
              "    </tr>\n",
              "    <tr>\n",
              "      <th>12</th>\n",
              "      <td>track_grade1</td>\n",
              "      <td>track_grade1</td>\n",
              "      <td>3947</td>\n",
              "    </tr>\n",
              "    <tr>\n",
              "      <th>13</th>\n",
              "      <td>track_grade4</td>\n",
              "      <td>track_grade4</td>\n",
              "      <td>3502</td>\n",
              "    </tr>\n",
              "    <tr>\n",
              "      <th>14</th>\n",
              "      <td>track_grade3</td>\n",
              "      <td>track_grade3</td>\n",
              "      <td>3317</td>\n",
              "    </tr>\n",
              "    <tr>\n",
              "      <th>15</th>\n",
              "      <td>track_grade2</td>\n",
              "      <td>track_grade2</td>\n",
              "      <td>2806</td>\n",
              "    </tr>\n",
              "    <tr>\n",
              "      <th>16</th>\n",
              "      <td>living_street</td>\n",
              "      <td>living_street</td>\n",
              "      <td>2197</td>\n",
              "    </tr>\n",
              "    <tr>\n",
              "      <th>17</th>\n",
              "      <td>pedestrian</td>\n",
              "      <td>pieszy</td>\n",
              "      <td>1004</td>\n",
              "    </tr>\n",
              "    <tr>\n",
              "      <th>18</th>\n",
              "      <td>motorway</td>\n",
              "      <td>Autostrada</td>\n",
              "      <td>540</td>\n",
              "    </tr>\n",
              "    <tr>\n",
              "      <th>19</th>\n",
              "      <td>motorway_link</td>\n",
              "      <td>motorway_link</td>\n",
              "      <td>293</td>\n",
              "    </tr>\n",
              "    <tr>\n",
              "      <th>20</th>\n",
              "      <td>primary_link</td>\n",
              "      <td>łącze_podstawowe</td>\n",
              "      <td>248</td>\n",
              "    </tr>\n",
              "    <tr>\n",
              "      <th>21</th>\n",
              "      <td>trunk</td>\n",
              "      <td>bagażnik samochodowy</td>\n",
              "      <td>180</td>\n",
              "    </tr>\n",
              "    <tr>\n",
              "      <th>22</th>\n",
              "      <td>tertiary_link</td>\n",
              "      <td>tertiary_link</td>\n",
              "      <td>147</td>\n",
              "    </tr>\n",
              "    <tr>\n",
              "      <th>23</th>\n",
              "      <td>secondary_link</td>\n",
              "      <td>link_dodatkowy</td>\n",
              "      <td>101</td>\n",
              "    </tr>\n",
              "    <tr>\n",
              "      <th>24</th>\n",
              "      <td>trunk_link</td>\n",
              "      <td>trunk_link</td>\n",
              "      <td>68</td>\n",
              "    </tr>\n",
              "    <tr>\n",
              "      <th>25</th>\n",
              "      <td>bridleway</td>\n",
              "      <td>Bridleway</td>\n",
              "      <td>54</td>\n",
              "    </tr>\n",
              "  </tbody>\n",
              "</table>\n",
              "</div>"
            ],
            "text/plain": [
              "            fclass             fclass_PL  value counts\n",
              "0          service                usługa        135933\n",
              "1          footway               chodnik         59029\n",
              "2            track                   tor         53065\n",
              "3      residential  osiedle mieszkaniowe         46687\n",
              "4             path               ścieżka         15276\n",
              "5         tertiary        trzeciorzędowy         12251\n",
              "6     unclassified     niesklasyfikowane          7740\n",
              "7          primary            podstawowa          5410\n",
              "8        secondary                wtórny          5386\n",
              "9            steps                 kroki          5351\n",
              "10    track_grade5          track_grade5          4269\n",
              "11        cycleway      ścieżka rowerowa          4023\n",
              "12    track_grade1          track_grade1          3947\n",
              "13    track_grade4          track_grade4          3502\n",
              "14    track_grade3          track_grade3          3317\n",
              "15    track_grade2          track_grade2          2806\n",
              "16   living_street         living_street          2197\n",
              "17      pedestrian                pieszy          1004\n",
              "18        motorway            Autostrada           540\n",
              "19   motorway_link         motorway_link           293\n",
              "20    primary_link      łącze_podstawowe           248\n",
              "21           trunk  bagażnik samochodowy           180\n",
              "22   tertiary_link         tertiary_link           147\n",
              "23  secondary_link        link_dodatkowy           101\n",
              "24      trunk_link            trunk_link            68\n",
              "25       bridleway             Bridleway            54"
            ]
          },
          "metadata": {
            "tags": []
          },
          "execution_count": 83
        }
      ]
    },
    {
      "cell_type": "code",
      "metadata": {
        "colab": {
          "base_uri": "https://localhost:8080/",
          "height": 138
        },
        "id": "MKszVLvm8Mfp",
        "outputId": "c0e16338-75b0-4ed2-a5fe-0e973e3529a6"
      },
      "source": [
        "label_counts.to_markdown()"
      ],
      "execution_count": 84,
      "outputs": [
        {
          "output_type": "execute_result",
          "data": {
            "application/vnd.google.colaboratory.intrinsic+json": {
              "type": "string"
            },
            "text/plain": [
              "'|    | fclass         | fclass_PL            |   value counts |\\n|---:|:---------------|:---------------------|---------------:|\\n|  0 | service        | usługa               |         135933 |\\n|  1 | footway        | chodnik              |          59029 |\\n|  2 | track          | tor                  |          53065 |\\n|  3 | residential    | osiedle mieszkaniowe |          46687 |\\n|  4 | path           | ścieżka              |          15276 |\\n|  5 | tertiary       | trzeciorzędowy       |          12251 |\\n|  6 | unclassified   | niesklasyfikowane    |           7740 |\\n|  7 | primary        | podstawowa           |           5410 |\\n|  8 | secondary      | wtórny               |           5386 |\\n|  9 | steps          | kroki                |           5351 |\\n| 10 | track_grade5   | track_grade5         |           4269 |\\n| 11 | cycleway       | ścieżka rowerowa     |           4023 |\\n| 12 | track_grade1   | track_grade1         |           3947 |\\n| 13 | track_grade4   | track_grade4         |           3502 |\\n| 14 | track_grade3   | track_grade3         |           3317 |\\n| 15 | track_grade2   | track_grade2         |           2806 |\\n| 16 | living_street  | living_street        |           2197 |\\n| 17 | pedestrian     | pieszy               |           1004 |\\n| 18 | motorway       | Autostrada           |            540 |\\n| 19 | motorway_link  | motorway_link        |            293 |\\n| 20 | primary_link   | łącze_podstawowe     |            248 |\\n| 21 | trunk          | bagażnik samochodowy |            180 |\\n| 22 | tertiary_link  | tertiary_link        |            147 |\\n| 23 | secondary_link | link_dodatkowy       |            101 |\\n| 24 | trunk_link     | trunk_link           |             68 |\\n| 25 | bridleway      | Bridleway            |             54 |'"
            ]
          },
          "metadata": {
            "tags": []
          },
          "execution_count": 84
        }
      ]
    },
    {
      "cell_type": "code",
      "metadata": {
        "colab": {
          "base_uri": "https://localhost:8080/",
          "height": 407
        },
        "id": "kwl4eJWZEqFK",
        "outputId": "3c26d2f6-7e8e-43a5-fd21-787a3f1a85d8"
      },
      "source": [
        "label_counts = roads[\"ref\"].value_counts().to_frame().reset_index().rename(columns={0:\"value counts\"})\n",
        "label_counts"
      ],
      "execution_count": 85,
      "outputs": [
        {
          "output_type": "execute_result",
          "data": {
            "text/html": [
              "<div>\n",
              "<style scoped>\n",
              "    .dataframe tbody tr th:only-of-type {\n",
              "        vertical-align: middle;\n",
              "    }\n",
              "\n",
              "    .dataframe tbody tr th {\n",
              "        vertical-align: top;\n",
              "    }\n",
              "\n",
              "    .dataframe thead th {\n",
              "        text-align: right;\n",
              "    }\n",
              "</style>\n",
              "<table border=\"1\" class=\"dataframe\">\n",
              "  <thead>\n",
              "    <tr style=\"text-align: right;\">\n",
              "      <th></th>\n",
              "      <th>index</th>\n",
              "      <th>ref</th>\n",
              "    </tr>\n",
              "  </thead>\n",
              "  <tbody>\n",
              "    <tr>\n",
              "      <th>0</th>\n",
              "      <td>28</td>\n",
              "      <td>778</td>\n",
              "    </tr>\n",
              "    <tr>\n",
              "      <th>1</th>\n",
              "      <td>94</td>\n",
              "      <td>668</td>\n",
              "    </tr>\n",
              "    <tr>\n",
              "      <th>2</th>\n",
              "      <td>7</td>\n",
              "      <td>636</td>\n",
              "    </tr>\n",
              "    <tr>\n",
              "      <th>3</th>\n",
              "      <td>79</td>\n",
              "      <td>537</td>\n",
              "    </tr>\n",
              "    <tr>\n",
              "      <th>4</th>\n",
              "      <td>75</td>\n",
              "      <td>411</td>\n",
              "    </tr>\n",
              "    <tr>\n",
              "      <th>...</th>\n",
              "      <td>...</td>\n",
              "      <td>...</td>\n",
              "    </tr>\n",
              "    <tr>\n",
              "      <th>164</th>\n",
              "      <td>P-36</td>\n",
              "      <td>1</td>\n",
              "    </tr>\n",
              "    <tr>\n",
              "      <th>165</th>\n",
              "      <td>2075k</td>\n",
              "      <td>1</td>\n",
              "    </tr>\n",
              "    <tr>\n",
              "      <th>166</th>\n",
              "      <td>44;781</td>\n",
              "      <td>1</td>\n",
              "    </tr>\n",
              "    <tr>\n",
              "      <th>167</th>\n",
              "      <td>3158</td>\n",
              "      <td>1</td>\n",
              "    </tr>\n",
              "    <tr>\n",
              "      <th>168</th>\n",
              "      <td>66</td>\n",
              "      <td>1</td>\n",
              "    </tr>\n",
              "  </tbody>\n",
              "</table>\n",
              "<p>169 rows × 2 columns</p>\n",
              "</div>"
            ],
            "text/plain": [
              "      index  ref\n",
              "0        28  778\n",
              "1        94  668\n",
              "2         7  636\n",
              "3        79  537\n",
              "4        75  411\n",
              "..      ...  ...\n",
              "164    P-36    1\n",
              "165   2075k    1\n",
              "166  44;781    1\n",
              "167    3158    1\n",
              "168      66    1\n",
              "\n",
              "[169 rows x 2 columns]"
            ]
          },
          "metadata": {
            "tags": []
          },
          "execution_count": 85
        }
      ]
    },
    {
      "cell_type": "code",
      "metadata": {
        "colab": {
          "base_uri": "https://localhost:8080/",
          "height": 138
        },
        "id": "nQP9zleyEqFK",
        "outputId": "d57904d1-3352-4380-989d-bbfaa011659d"
      },
      "source": [
        "label_counts.to_markdown()"
      ],
      "execution_count": 86,
      "outputs": [
        {
          "output_type": "execute_result",
          "data": {
            "application/vnd.google.colaboratory.intrinsic+json": {
              "type": "string"
            },
            "text/plain": [
              "'|     | index      |   ref |\\n|----:|:-----------|------:|\\n|   0 | 28         |   778 |\\n|   1 | 94         |   668 |\\n|   2 | 7          |   636 |\\n|   3 | 79         |   537 |\\n|   4 | 75         |   411 |\\n|   5 | A4         |   406 |\\n|   6 | 776        |   296 |\\n|   7 | 780        |   296 |\\n|   8 | 44         |   287 |\\n|   9 | 977        |   232 |\\n|  10 | 964        |   216 |\\n|  11 | 781        |   212 |\\n|  12 | 47         |   197 |\\n|  13 | 52         |   195 |\\n|  14 | 969        |   187 |\\n|  15 | 73         |   176 |\\n|  16 | 975        |   165 |\\n|  17 | S7         |   161 |\\n|  18 | 933        |   159 |\\n|  19 | 966        |   159 |\\n|  20 | 965        |   156 |\\n|  21 | 7;79       |   153 |\\n|  22 | 791        |   132 |\\n|  23 | 958        |   123 |\\n|  24 | 794        |   104 |\\n|  25 | 87         |   104 |\\n|  26 | 768        |   101 |\\n|  27 | 773        |    96 |\\n|  28 | 49         |    96 |\\n|  29 | 971        |    95 |\\n|  30 | 957        |    93 |\\n|  31 | 973        |    89 |\\n|  32 | 783        |    87 |\\n|  33 | 948        |    84 |\\n|  34 | 968        |    84 |\\n|  35 | 981        |    83 |\\n|  36 | A4;7       |    83 |\\n|  37 | 967        |    79 |\\n|  38 | 980        |    78 |\\n|  39 | 949        |    62 |\\n|  40 | 953        |    62 |\\n|  41 | 956        |    58 |\\n|  42 | 774        |    56 |\\n|  43 | A4;75      |    53 |\\n|  44 | 28;52      |    50 |\\n|  45 | 960        |    49 |\\n|  46 | 73;94      |    40 |\\n|  47 | 94;791     |    35 |\\n|  48 | 543        |    34 |\\n|  49 | 946        |    34 |\\n|  50 | 775        |    33 |\\n|  51 | 993        |    32 |\\n|  52 | 44;933     |    32 |\\n|  53 | 28;75      |    30 |\\n|  54 | 984        |    29 |\\n|  55 | 963        |    27 |\\n|  56 | 961        |    24 |\\n|  57 | S52;7      |    22 |\\n|  58 | 979        |    22 |\\n|  59 | 75;94      |    22 |\\n|  60 | 962        |    22 |\\n|  61 | 775;776    |    21 |\\n|  62 | 2071k      |    20 |\\n|  63 | 3109       |    19 |\\n|  64 | 975;980    |    17 |\\n|  65 | 77         |    17 |\\n|  66 | 955        |    15 |\\n|  67 | 973;975    |    15 |\\n|  68 | 903        |    15 |\\n|  69 | 52;948     |    14 |\\n|  70 | 28;781     |    13 |\\n|  71 | 79;973     |    12 |\\n|  72 | 966;967    |    12 |\\n|  73 | 780;933    |    12 |\\n|  74 | 945        |    11 |\\n|  75 | 959        |    11 |\\n|  76 | 780;781    |    11 |\\n|  77 | 783;794    |     9 |\\n|  78 | P-1        |     9 |\\n|  79 | 3148       |     7 |\\n|  80 | 948;949    |     7 |\\n|  81 | 7;28       |     7 |\\n|  82 | 68         |     7 |\\n|  83 | 3127       |     7 |\\n|  84 | 965;966    |     7 |\\n|  85 | P-4        |     6 |\\n|  86 | 28;977     |     6 |\\n|  87 | 3138       |     6 |\\n|  88 | 1447k      |     6 |\\n|  89 | 59         |     6 |\\n|  90 | P-13       |     6 |\\n|  91 | 992        |     5 |\\n|  92 | 3520       |     5 |\\n|  93 | 126        |     5 |\\n|  94 | 1          |     5 |\\n|  95 | 977;980    |     5 |\\n|  96 | P-43       |     5 |\\n|  97 | 28;968     |     4 |\\n|  98 | 3113       |     4 |\\n|  99 | 52;781     |     4 |\\n| 100 | P-32       |     4 |\\n| 101 | 982        |     4 |\\n| 102 | 77A        |     4 |\\n| 103 | 3142       |     4 |\\n| 104 | 78         |     4 |\\n| 105 | P-26       |     4 |\\n| 106 | 79;776     |     4 |\\n| 107 | 520        |     4 |\\n| 108 | 542        |     3 |\\n| 109 | P-2        |     3 |\\n| 110 | 3483A      |     3 |\\n| 111 | 3110       |     3 |\\n| 112 | S52        |     3 |\\n| 113 | P-46       |     3 |\\n| 114 | 3160       |     3 |\\n| 115 | 3078       |     3 |\\n| 116 | 1444k      |     3 |\\n| 117 | 70         |     3 |\\n| 118 | P-3        |     3 |\\n| 119 | 3483       |     2 |\\n| 120 | P-12       |     2 |\\n| 121 | P-77       |     2 |\\n| 122 | 220/102    |     2 |\\n| 123 | 7;957      |     2 |\\n| 124 | P-34       |     2 |\\n| 125 | 103        |     2 |\\n| 126 | P-11       |     2 |\\n| 127 | 2085k      |     2 |\\n| 128 | P-29       |     2 |\\n| 129 | Słowiańska |     2 |\\n| 130 | P-44       |     2 |\\n| 131 | 545        |     2 |\\n| 132 | Szlak      |     1 |\\n| 133 | 7;783      |     1 |\\n| 134 | P-22       |     1 |\\n| 135 | P-15       |     1 |\\n| 136 | 220/295    |     1 |\\n| 137 | 3519       |     1 |\\n| 138 | 773;794    |     1 |\\n| 139 | P-8        |     1 |\\n| 140 | 3143       |     1 |\\n| 141 | 971;981    |     1 |\\n| 142 | 28;981     |     1 |\\n| 143 | 3485       |     1 |\\n| 144 | 2276       |     1 |\\n| 145 | 964;967    |     1 |\\n| 146 | 79;768     |     1 |\\n| 147 | 768;964    |     1 |\\n| 148 | 220/491    |     1 |\\n| 149 | 2          |     1 |\\n| 150 | 79;775     |     1 |\\n| 151 | S4807      |     1 |\\n| 152 | EV11       |     1 |\\n| 153 | P-45       |     1 |\\n| 154 | 73;975     |     1 |\\n| 155 | 220/625    |     1 |\\n| 156 | 1864R      |     1 |\\n| 157 | 3161       |     1 |\\n| 158 | P-21       |     1 |\\n| 159 | P-13a      |     1 |\\n| 160 | 2095k      |     1 |\\n| 161 | P-26d      |     1 |\\n| 162 | P-58       |     1 |\\n| 163 | 1619k      |     1 |\\n| 164 | P-36       |     1 |\\n| 165 | 2075k      |     1 |\\n| 166 | 44;781     |     1 |\\n| 167 | 3158       |     1 |\\n| 168 | 66         |     1 |'"
            ]
          },
          "metadata": {
            "tags": []
          },
          "execution_count": 86
        }
      ]
    },
    {
      "cell_type": "code",
      "metadata": {
        "colab": {
          "base_uri": "https://localhost:8080/",
          "height": 138
        },
        "id": "EvSi5I2BEpr9",
        "outputId": "2aa473be-b84e-4324-81ce-990e637fd3e4"
      },
      "source": [
        "label_counts = roads[\"oneway\"].value_counts().to_frame().reset_index().rename(columns={0:\"value counts\"})\n",
        "label_counts"
      ],
      "execution_count": 87,
      "outputs": [
        {
          "output_type": "execute_result",
          "data": {
            "text/html": [
              "<div>\n",
              "<style scoped>\n",
              "    .dataframe tbody tr th:only-of-type {\n",
              "        vertical-align: middle;\n",
              "    }\n",
              "\n",
              "    .dataframe tbody tr th {\n",
              "        vertical-align: top;\n",
              "    }\n",
              "\n",
              "    .dataframe thead th {\n",
              "        text-align: right;\n",
              "    }\n",
              "</style>\n",
              "<table border=\"1\" class=\"dataframe\">\n",
              "  <thead>\n",
              "    <tr style=\"text-align: right;\">\n",
              "      <th></th>\n",
              "      <th>index</th>\n",
              "      <th>oneway</th>\n",
              "    </tr>\n",
              "  </thead>\n",
              "  <tbody>\n",
              "    <tr>\n",
              "      <th>0</th>\n",
              "      <td>B</td>\n",
              "      <td>358344</td>\n",
              "    </tr>\n",
              "    <tr>\n",
              "      <th>1</th>\n",
              "      <td>F</td>\n",
              "      <td>14463</td>\n",
              "    </tr>\n",
              "    <tr>\n",
              "      <th>2</th>\n",
              "      <td>T</td>\n",
              "      <td>17</td>\n",
              "    </tr>\n",
              "  </tbody>\n",
              "</table>\n",
              "</div>"
            ],
            "text/plain": [
              "  index  oneway\n",
              "0     B  358344\n",
              "1     F   14463\n",
              "2     T      17"
            ]
          },
          "metadata": {
            "tags": []
          },
          "execution_count": 87
        }
      ]
    },
    {
      "cell_type": "code",
      "metadata": {
        "colab": {
          "base_uri": "https://localhost:8080/",
          "height": 35
        },
        "id": "Yb1hoaIIEpr_",
        "outputId": "d23a61d2-56ca-4825-f3cb-7f496b4882a3"
      },
      "source": [
        "label_counts.to_markdown()"
      ],
      "execution_count": 88,
      "outputs": [
        {
          "output_type": "execute_result",
          "data": {
            "application/vnd.google.colaboratory.intrinsic+json": {
              "type": "string"
            },
            "text/plain": [
              "'|    | index   |   oneway |\\n|---:|:--------|---------:|\\n|  0 | B       |   358344 |\\n|  1 | F       |    14463 |\\n|  2 | T       |       17 |'"
            ]
          },
          "metadata": {
            "tags": []
          },
          "execution_count": 88
        }
      ]
    },
    {
      "cell_type": "code",
      "metadata": {
        "colab": {
          "base_uri": "https://localhost:8080/",
          "height": 588
        },
        "id": "NLircA6mEvBs",
        "outputId": "436c8dc1-9602-40b3-a82f-93d5844b364f"
      },
      "source": [
        "label_counts = roads[\"maxspeed\"].value_counts().to_frame().reset_index().rename(columns={0:\"value counts\"})\n",
        "label_counts"
      ],
      "execution_count": 89,
      "outputs": [
        {
          "output_type": "execute_result",
          "data": {
            "text/html": [
              "<div>\n",
              "<style scoped>\n",
              "    .dataframe tbody tr th:only-of-type {\n",
              "        vertical-align: middle;\n",
              "    }\n",
              "\n",
              "    .dataframe tbody tr th {\n",
              "        vertical-align: top;\n",
              "    }\n",
              "\n",
              "    .dataframe thead th {\n",
              "        text-align: right;\n",
              "    }\n",
              "</style>\n",
              "<table border=\"1\" class=\"dataframe\">\n",
              "  <thead>\n",
              "    <tr style=\"text-align: right;\">\n",
              "      <th></th>\n",
              "      <th>index</th>\n",
              "      <th>maxspeed</th>\n",
              "    </tr>\n",
              "  </thead>\n",
              "  <tbody>\n",
              "    <tr>\n",
              "      <th>0</th>\n",
              "      <td>0</td>\n",
              "      <td>347930</td>\n",
              "    </tr>\n",
              "    <tr>\n",
              "      <th>1</th>\n",
              "      <td>50</td>\n",
              "      <td>11407</td>\n",
              "    </tr>\n",
              "    <tr>\n",
              "      <th>2</th>\n",
              "      <td>30</td>\n",
              "      <td>3988</td>\n",
              "    </tr>\n",
              "    <tr>\n",
              "      <th>3</th>\n",
              "      <td>40</td>\n",
              "      <td>2134</td>\n",
              "    </tr>\n",
              "    <tr>\n",
              "      <th>4</th>\n",
              "      <td>20</td>\n",
              "      <td>2017</td>\n",
              "    </tr>\n",
              "    <tr>\n",
              "      <th>5</th>\n",
              "      <td>90</td>\n",
              "      <td>1879</td>\n",
              "    </tr>\n",
              "    <tr>\n",
              "      <th>6</th>\n",
              "      <td>70</td>\n",
              "      <td>1844</td>\n",
              "    </tr>\n",
              "    <tr>\n",
              "      <th>7</th>\n",
              "      <td>140</td>\n",
              "      <td>553</td>\n",
              "    </tr>\n",
              "    <tr>\n",
              "      <th>8</th>\n",
              "      <td>60</td>\n",
              "      <td>414</td>\n",
              "    </tr>\n",
              "    <tr>\n",
              "      <th>9</th>\n",
              "      <td>100</td>\n",
              "      <td>315</td>\n",
              "    </tr>\n",
              "    <tr>\n",
              "      <th>10</th>\n",
              "      <td>120</td>\n",
              "      <td>128</td>\n",
              "    </tr>\n",
              "    <tr>\n",
              "      <th>11</th>\n",
              "      <td>10</td>\n",
              "      <td>93</td>\n",
              "    </tr>\n",
              "    <tr>\n",
              "      <th>12</th>\n",
              "      <td>80</td>\n",
              "      <td>53</td>\n",
              "    </tr>\n",
              "    <tr>\n",
              "      <th>13</th>\n",
              "      <td>5</td>\n",
              "      <td>43</td>\n",
              "    </tr>\n",
              "    <tr>\n",
              "      <th>14</th>\n",
              "      <td>15</td>\n",
              "      <td>18</td>\n",
              "    </tr>\n",
              "    <tr>\n",
              "      <th>15</th>\n",
              "      <td>25</td>\n",
              "      <td>6</td>\n",
              "    </tr>\n",
              "    <tr>\n",
              "      <th>16</th>\n",
              "      <td>110</td>\n",
              "      <td>1</td>\n",
              "    </tr>\n",
              "    <tr>\n",
              "      <th>17</th>\n",
              "      <td>130</td>\n",
              "      <td>1</td>\n",
              "    </tr>\n",
              "  </tbody>\n",
              "</table>\n",
              "</div>"
            ],
            "text/plain": [
              "    index  maxspeed\n",
              "0       0    347930\n",
              "1      50     11407\n",
              "2      30      3988\n",
              "3      40      2134\n",
              "4      20      2017\n",
              "5      90      1879\n",
              "6      70      1844\n",
              "7     140       553\n",
              "8      60       414\n",
              "9     100       315\n",
              "10    120       128\n",
              "11     10        93\n",
              "12     80        53\n",
              "13      5        43\n",
              "14     15        18\n",
              "15     25         6\n",
              "16    110         1\n",
              "17    130         1"
            ]
          },
          "metadata": {
            "tags": []
          },
          "execution_count": 89
        }
      ]
    },
    {
      "cell_type": "code",
      "metadata": {
        "colab": {
          "base_uri": "https://localhost:8080/",
          "height": 104
        },
        "id": "miOGr9gZEvBt",
        "outputId": "247248e4-9955-49f6-d9c5-2dc3b42f62b3"
      },
      "source": [
        "label_counts.to_markdown()"
      ],
      "execution_count": 90,
      "outputs": [
        {
          "output_type": "execute_result",
          "data": {
            "application/vnd.google.colaboratory.intrinsic+json": {
              "type": "string"
            },
            "text/plain": [
              "'|    |   index |   maxspeed |\\n|---:|--------:|-----------:|\\n|  0 |       0 |     347930 |\\n|  1 |      50 |      11407 |\\n|  2 |      30 |       3988 |\\n|  3 |      40 |       2134 |\\n|  4 |      20 |       2017 |\\n|  5 |      90 |       1879 |\\n|  6 |      70 |       1844 |\\n|  7 |     140 |        553 |\\n|  8 |      60 |        414 |\\n|  9 |     100 |        315 |\\n| 10 |     120 |        128 |\\n| 11 |      10 |         93 |\\n| 12 |      80 |         53 |\\n| 13 |       5 |         43 |\\n| 14 |      15 |         18 |\\n| 15 |      25 |          6 |\\n| 16 |     110 |          1 |\\n| 17 |     130 |          1 |'"
            ]
          },
          "metadata": {
            "tags": []
          },
          "execution_count": 90
        }
      ]
    },
    {
      "cell_type": "code",
      "metadata": {
        "colab": {
          "base_uri": "https://localhost:8080/",
          "height": 348
        },
        "id": "mVpGQnGmEfOk",
        "outputId": "aca650ee-ef45-4e14-acd5-420cca815571"
      },
      "source": [
        "label_counts = roads[\"layer\"].value_counts().to_frame().reset_index().rename(columns={0:\"value counts\"})\n",
        "label_counts"
      ],
      "execution_count": 91,
      "outputs": [
        {
          "output_type": "execute_result",
          "data": {
            "text/html": [
              "<div>\n",
              "<style scoped>\n",
              "    .dataframe tbody tr th:only-of-type {\n",
              "        vertical-align: middle;\n",
              "    }\n",
              "\n",
              "    .dataframe tbody tr th {\n",
              "        vertical-align: top;\n",
              "    }\n",
              "\n",
              "    .dataframe thead th {\n",
              "        text-align: right;\n",
              "    }\n",
              "</style>\n",
              "<table border=\"1\" class=\"dataframe\">\n",
              "  <thead>\n",
              "    <tr style=\"text-align: right;\">\n",
              "      <th></th>\n",
              "      <th>index</th>\n",
              "      <th>layer</th>\n",
              "    </tr>\n",
              "  </thead>\n",
              "  <tbody>\n",
              "    <tr>\n",
              "      <th>0</th>\n",
              "      <td>0</td>\n",
              "      <td>364203</td>\n",
              "    </tr>\n",
              "    <tr>\n",
              "      <th>1</th>\n",
              "      <td>1</td>\n",
              "      <td>7632</td>\n",
              "    </tr>\n",
              "    <tr>\n",
              "      <th>2</th>\n",
              "      <td>-1</td>\n",
              "      <td>774</td>\n",
              "    </tr>\n",
              "    <tr>\n",
              "      <th>3</th>\n",
              "      <td>-2</td>\n",
              "      <td>94</td>\n",
              "    </tr>\n",
              "    <tr>\n",
              "      <th>4</th>\n",
              "      <td>2</td>\n",
              "      <td>93</td>\n",
              "    </tr>\n",
              "    <tr>\n",
              "      <th>5</th>\n",
              "      <td>3</td>\n",
              "      <td>21</td>\n",
              "    </tr>\n",
              "    <tr>\n",
              "      <th>6</th>\n",
              "      <td>5</td>\n",
              "      <td>3</td>\n",
              "    </tr>\n",
              "    <tr>\n",
              "      <th>7</th>\n",
              "      <td>-5</td>\n",
              "      <td>2</td>\n",
              "    </tr>\n",
              "    <tr>\n",
              "      <th>8</th>\n",
              "      <td>-3</td>\n",
              "      <td>1</td>\n",
              "    </tr>\n",
              "    <tr>\n",
              "      <th>9</th>\n",
              "      <td>4</td>\n",
              "      <td>1</td>\n",
              "    </tr>\n",
              "  </tbody>\n",
              "</table>\n",
              "</div>"
            ],
            "text/plain": [
              "   index   layer\n",
              "0      0  364203\n",
              "1      1    7632\n",
              "2     -1     774\n",
              "3     -2      94\n",
              "4      2      93\n",
              "5      3      21\n",
              "6      5       3\n",
              "7     -5       2\n",
              "8     -3       1\n",
              "9      4       1"
            ]
          },
          "metadata": {
            "tags": []
          },
          "execution_count": 91
        }
      ]
    },
    {
      "cell_type": "code",
      "metadata": {
        "colab": {
          "base_uri": "https://localhost:8080/",
          "height": 69
        },
        "id": "ZpFY_QkREfOl",
        "outputId": "bf4530e9-79cd-4e78-f341-27b5a7329b96"
      },
      "source": [
        "label_counts.to_markdown()"
      ],
      "execution_count": 92,
      "outputs": [
        {
          "output_type": "execute_result",
          "data": {
            "application/vnd.google.colaboratory.intrinsic+json": {
              "type": "string"
            },
            "text/plain": [
              "'|    |   index |   layer |\\n|---:|--------:|--------:|\\n|  0 |       0 |  364203 |\\n|  1 |       1 |    7632 |\\n|  2 |      -1 |     774 |\\n|  3 |      -2 |      94 |\\n|  4 |       2 |      93 |\\n|  5 |       3 |      21 |\\n|  6 |       5 |       3 |\\n|  7 |      -5 |       2 |\\n|  8 |      -3 |       1 |\\n|  9 |       4 |       1 |'"
            ]
          },
          "metadata": {
            "tags": []
          },
          "execution_count": 92
        }
      ]
    },
    {
      "cell_type": "code",
      "metadata": {
        "colab": {
          "base_uri": "https://localhost:8080/",
          "height": 108
        },
        "id": "g88QMtPIEfOl",
        "outputId": "6b6b840f-e2e3-4ab7-f397-d8dc520c9181"
      },
      "source": [
        "label_counts = roads[\"bridge\"].value_counts().to_frame().reset_index().rename(columns={0:\"value counts\"})\n",
        "label_counts"
      ],
      "execution_count": 93,
      "outputs": [
        {
          "output_type": "execute_result",
          "data": {
            "text/html": [
              "<div>\n",
              "<style scoped>\n",
              "    .dataframe tbody tr th:only-of-type {\n",
              "        vertical-align: middle;\n",
              "    }\n",
              "\n",
              "    .dataframe tbody tr th {\n",
              "        vertical-align: top;\n",
              "    }\n",
              "\n",
              "    .dataframe thead th {\n",
              "        text-align: right;\n",
              "    }\n",
              "</style>\n",
              "<table border=\"1\" class=\"dataframe\">\n",
              "  <thead>\n",
              "    <tr style=\"text-align: right;\">\n",
              "      <th></th>\n",
              "      <th>index</th>\n",
              "      <th>bridge</th>\n",
              "    </tr>\n",
              "  </thead>\n",
              "  <tbody>\n",
              "    <tr>\n",
              "      <th>0</th>\n",
              "      <td>F</td>\n",
              "      <td>365303</td>\n",
              "    </tr>\n",
              "    <tr>\n",
              "      <th>1</th>\n",
              "      <td>T</td>\n",
              "      <td>7521</td>\n",
              "    </tr>\n",
              "  </tbody>\n",
              "</table>\n",
              "</div>"
            ],
            "text/plain": [
              "  index  bridge\n",
              "0     F  365303\n",
              "1     T    7521"
            ]
          },
          "metadata": {
            "tags": []
          },
          "execution_count": 93
        }
      ]
    },
    {
      "cell_type": "code",
      "metadata": {
        "colab": {
          "base_uri": "https://localhost:8080/",
          "height": 35
        },
        "id": "Hc8TbGbeEfOm",
        "outputId": "d2e94d43-be94-46fd-94ae-79b4ba0e8e1c"
      },
      "source": [
        "label_counts.to_markdown()"
      ],
      "execution_count": 94,
      "outputs": [
        {
          "output_type": "execute_result",
          "data": {
            "application/vnd.google.colaboratory.intrinsic+json": {
              "type": "string"
            },
            "text/plain": [
              "'|    | index   |   bridge |\\n|---:|:--------|---------:|\\n|  0 | F       |   365303 |\\n|  1 | T       |     7521 |'"
            ]
          },
          "metadata": {
            "tags": []
          },
          "execution_count": 94
        }
      ]
    },
    {
      "cell_type": "code",
      "metadata": {
        "colab": {
          "base_uri": "https://localhost:8080/",
          "height": 108
        },
        "id": "xpWv2kxdEfOm",
        "outputId": "084c1feb-f4fb-4e51-9ec2-461fcb2a82d1"
      },
      "source": [
        "label_counts = roads[\"tunnel\"].value_counts().to_frame().reset_index().rename(columns={0:\"value counts\"})\n",
        "label_counts"
      ],
      "execution_count": 95,
      "outputs": [
        {
          "output_type": "execute_result",
          "data": {
            "text/html": [
              "<div>\n",
              "<style scoped>\n",
              "    .dataframe tbody tr th:only-of-type {\n",
              "        vertical-align: middle;\n",
              "    }\n",
              "\n",
              "    .dataframe tbody tr th {\n",
              "        vertical-align: top;\n",
              "    }\n",
              "\n",
              "    .dataframe thead th {\n",
              "        text-align: right;\n",
              "    }\n",
              "</style>\n",
              "<table border=\"1\" class=\"dataframe\">\n",
              "  <thead>\n",
              "    <tr style=\"text-align: right;\">\n",
              "      <th></th>\n",
              "      <th>index</th>\n",
              "      <th>tunnel</th>\n",
              "    </tr>\n",
              "  </thead>\n",
              "  <tbody>\n",
              "    <tr>\n",
              "      <th>0</th>\n",
              "      <td>F</td>\n",
              "      <td>370948</td>\n",
              "    </tr>\n",
              "    <tr>\n",
              "      <th>1</th>\n",
              "      <td>T</td>\n",
              "      <td>1876</td>\n",
              "    </tr>\n",
              "  </tbody>\n",
              "</table>\n",
              "</div>"
            ],
            "text/plain": [
              "  index  tunnel\n",
              "0     F  370948\n",
              "1     T    1876"
            ]
          },
          "metadata": {
            "tags": []
          },
          "execution_count": 95
        }
      ]
    },
    {
      "cell_type": "code",
      "metadata": {
        "colab": {
          "base_uri": "https://localhost:8080/",
          "height": 35
        },
        "id": "1jOkWYWUEfOn",
        "outputId": "84dc69a3-9e35-4986-ca17-a5328c4f59bf"
      },
      "source": [
        "label_counts.to_markdown()"
      ],
      "execution_count": 96,
      "outputs": [
        {
          "output_type": "execute_result",
          "data": {
            "application/vnd.google.colaboratory.intrinsic+json": {
              "type": "string"
            },
            "text/plain": [
              "'|    | index   |   tunnel |\\n|---:|:--------|---------:|\\n|  0 | F       |   370948 |\\n|  1 | T       |     1876 |'"
            ]
          },
          "metadata": {
            "tags": []
          },
          "execution_count": 96
        }
      ]
    },
    {
      "cell_type": "markdown",
      "metadata": {
        "id": "RlBsDWIiA8rZ"
      },
      "source": [
        "#traffic_a"
      ]
    },
    {
      "cell_type": "code",
      "metadata": {
        "colab": {
          "base_uri": "https://localhost:8080/",
          "height": 336
        },
        "id": "HL4HDjlYRY3L",
        "outputId": "4e300452-d5fe-40ad-a712-6c178180b564"
      },
      "source": [
        "%time\n",
        "traffic_a = GeoDataFrame.from_file('maps/gis_osm_traffic_a_free_1.shp', encoding='utf-8')\n",
        "traffic_a[\"fclass_PL\"] = traffic_a[\"fclass\"].replace(fclass_eng_to_pl)\n",
        "print(traffic_a.shape)\n",
        "traffic_a.head()"
      ],
      "execution_count": 97,
      "outputs": [
        {
          "output_type": "stream",
          "text": [
            "CPU times: user 4 µs, sys: 0 ns, total: 4 µs\n",
            "Wall time: 9.3 µs\n",
            "(11744, 6)\n"
          ],
          "name": "stdout"
        },
        {
          "output_type": "execute_result",
          "data": {
            "text/html": [
              "<div>\n",
              "<style scoped>\n",
              "    .dataframe tbody tr th:only-of-type {\n",
              "        vertical-align: middle;\n",
              "    }\n",
              "\n",
              "    .dataframe tbody tr th {\n",
              "        vertical-align: top;\n",
              "    }\n",
              "\n",
              "    .dataframe thead th {\n",
              "        text-align: right;\n",
              "    }\n",
              "</style>\n",
              "<table border=\"1\" class=\"dataframe\">\n",
              "  <thead>\n",
              "    <tr style=\"text-align: right;\">\n",
              "      <th></th>\n",
              "      <th>osm_id</th>\n",
              "      <th>code</th>\n",
              "      <th>fclass</th>\n",
              "      <th>name</th>\n",
              "      <th>geometry</th>\n",
              "      <th>fclass_PL</th>\n",
              "    </tr>\n",
              "  </thead>\n",
              "  <tbody>\n",
              "    <tr>\n",
              "      <th>0</th>\n",
              "      <td>22787855</td>\n",
              "      <td>5260</td>\n",
              "      <td>parking</td>\n",
              "      <td>None</td>\n",
              "      <td>POLYGON ((19.65908 49.25882, 19.65908 49.25910...</td>\n",
              "      <td>parking</td>\n",
              "    </tr>\n",
              "    <tr>\n",
              "      <th>1</th>\n",
              "      <td>23068881</td>\n",
              "      <td>5260</td>\n",
              "      <td>parking</td>\n",
              "      <td>None</td>\n",
              "      <td>POLYGON ((20.43310 49.97005, 20.43326 49.97006...</td>\n",
              "      <td>parking</td>\n",
              "    </tr>\n",
              "    <tr>\n",
              "      <th>2</th>\n",
              "      <td>25042802</td>\n",
              "      <td>5332</td>\n",
              "      <td>weir</td>\n",
              "      <td>Stopień Wodny Przewóz</td>\n",
              "      <td>POLYGON ((20.09762 50.04161, 20.09763 50.04163...</td>\n",
              "      <td>jaz</td>\n",
              "    </tr>\n",
              "    <tr>\n",
              "      <th>3</th>\n",
              "      <td>25091288</td>\n",
              "      <td>5260</td>\n",
              "      <td>parking</td>\n",
              "      <td>None</td>\n",
              "      <td>POLYGON ((21.16171 49.65080, 21.16187 49.65093...</td>\n",
              "      <td>parking</td>\n",
              "    </tr>\n",
              "    <tr>\n",
              "      <th>4</th>\n",
              "      <td>25123245</td>\n",
              "      <td>5260</td>\n",
              "      <td>parking</td>\n",
              "      <td>None</td>\n",
              "      <td>POLYGON ((19.93655 50.06769, 19.93739 50.06780...</td>\n",
              "      <td>parking</td>\n",
              "    </tr>\n",
              "  </tbody>\n",
              "</table>\n",
              "</div>"
            ],
            "text/plain": [
              "     osm_id  code  ...                                           geometry fclass_PL\n",
              "0  22787855  5260  ...  POLYGON ((19.65908 49.25882, 19.65908 49.25910...   parking\n",
              "1  23068881  5260  ...  POLYGON ((20.43310 49.97005, 20.43326 49.97006...   parking\n",
              "2  25042802  5332  ...  POLYGON ((20.09762 50.04161, 20.09763 50.04163...       jaz\n",
              "3  25091288  5260  ...  POLYGON ((21.16171 49.65080, 21.16187 49.65093...   parking\n",
              "4  25123245  5260  ...  POLYGON ((19.93655 50.06769, 19.93739 50.06780...   parking\n",
              "\n",
              "[5 rows x 6 columns]"
            ]
          },
          "metadata": {
            "tags": []
          },
          "execution_count": 97
        }
      ]
    },
    {
      "cell_type": "code",
      "metadata": {
        "colab": {
          "base_uri": "https://localhost:8080/",
          "height": 378
        },
        "id": "MUa7IABB-_qd",
        "outputId": "10f6f84a-5ffa-4e08-a16f-452157dd58a3"
      },
      "source": [
        "label_counts = traffic_a[[\"fclass\",\"fclass_PL\"]].value_counts().to_frame().reset_index().rename(columns={0:\"value counts\"})\n",
        "label_counts"
      ],
      "execution_count": 98,
      "outputs": [
        {
          "output_type": "execute_result",
          "data": {
            "text/html": [
              "<div>\n",
              "<style scoped>\n",
              "    .dataframe tbody tr th:only-of-type {\n",
              "        vertical-align: middle;\n",
              "    }\n",
              "\n",
              "    .dataframe tbody tr th {\n",
              "        vertical-align: top;\n",
              "    }\n",
              "\n",
              "    .dataframe thead th {\n",
              "        text-align: right;\n",
              "    }\n",
              "</style>\n",
              "<table border=\"1\" class=\"dataframe\">\n",
              "  <thead>\n",
              "    <tr style=\"text-align: right;\">\n",
              "      <th></th>\n",
              "      <th>fclass</th>\n",
              "      <th>fclass_PL</th>\n",
              "      <th>value counts</th>\n",
              "    </tr>\n",
              "  </thead>\n",
              "  <tbody>\n",
              "    <tr>\n",
              "      <th>0</th>\n",
              "      <td>parking</td>\n",
              "      <td>parking</td>\n",
              "      <td>11211</td>\n",
              "    </tr>\n",
              "    <tr>\n",
              "      <th>1</th>\n",
              "      <td>fuel</td>\n",
              "      <td>paliwo</td>\n",
              "      <td>254</td>\n",
              "    </tr>\n",
              "    <tr>\n",
              "      <th>2</th>\n",
              "      <td>parking_bicycle</td>\n",
              "      <td>parking_bicycle</td>\n",
              "      <td>109</td>\n",
              "    </tr>\n",
              "    <tr>\n",
              "      <th>3</th>\n",
              "      <td>pier</td>\n",
              "      <td>molo</td>\n",
              "      <td>67</td>\n",
              "    </tr>\n",
              "    <tr>\n",
              "      <th>4</th>\n",
              "      <td>dam</td>\n",
              "      <td>zapora</td>\n",
              "      <td>46</td>\n",
              "    </tr>\n",
              "    <tr>\n",
              "      <th>5</th>\n",
              "      <td>parking_multistorey</td>\n",
              "      <td>parking_multistorey</td>\n",
              "      <td>22</td>\n",
              "    </tr>\n",
              "    <tr>\n",
              "      <th>6</th>\n",
              "      <td>service</td>\n",
              "      <td>usługa</td>\n",
              "      <td>11</td>\n",
              "    </tr>\n",
              "    <tr>\n",
              "      <th>7</th>\n",
              "      <td>marina</td>\n",
              "      <td>przystań</td>\n",
              "      <td>11</td>\n",
              "    </tr>\n",
              "    <tr>\n",
              "      <th>8</th>\n",
              "      <td>parking_underground</td>\n",
              "      <td>parking_underground</td>\n",
              "      <td>10</td>\n",
              "    </tr>\n",
              "    <tr>\n",
              "      <th>9</th>\n",
              "      <td>slipway</td>\n",
              "      <td>pochylnia</td>\n",
              "      <td>2</td>\n",
              "    </tr>\n",
              "    <tr>\n",
              "      <th>10</th>\n",
              "      <td>weir</td>\n",
              "      <td>jaz</td>\n",
              "      <td>1</td>\n",
              "    </tr>\n",
              "  </tbody>\n",
              "</table>\n",
              "</div>"
            ],
            "text/plain": [
              "                 fclass            fclass_PL  value counts\n",
              "0               parking              parking         11211\n",
              "1                  fuel               paliwo           254\n",
              "2       parking_bicycle      parking_bicycle           109\n",
              "3                  pier                 molo            67\n",
              "4                   dam               zapora            46\n",
              "5   parking_multistorey  parking_multistorey            22\n",
              "6               service               usługa            11\n",
              "7                marina             przystań            11\n",
              "8   parking_underground  parking_underground            10\n",
              "9               slipway            pochylnia             2\n",
              "10                 weir                  jaz             1"
            ]
          },
          "metadata": {
            "tags": []
          },
          "execution_count": 98
        }
      ]
    },
    {
      "cell_type": "code",
      "metadata": {
        "colab": {
          "base_uri": "https://localhost:8080/",
          "height": 121
        },
        "id": "5V2BTBwF-_qd",
        "outputId": "12baf544-95fe-4f50-923f-190e33855975"
      },
      "source": [
        "label_counts.to_markdown()"
      ],
      "execution_count": 99,
      "outputs": [
        {
          "output_type": "execute_result",
          "data": {
            "application/vnd.google.colaboratory.intrinsic+json": {
              "type": "string"
            },
            "text/plain": [
              "'|    | fclass              | fclass_PL           |   value counts |\\n|---:|:--------------------|:--------------------|---------------:|\\n|  0 | parking             | parking             |          11211 |\\n|  1 | fuel                | paliwo              |            254 |\\n|  2 | parking_bicycle     | parking_bicycle     |            109 |\\n|  3 | pier                | molo                |             67 |\\n|  4 | dam                 | zapora              |             46 |\\n|  5 | parking_multistorey | parking_multistorey |             22 |\\n|  6 | service             | usługa              |             11 |\\n|  7 | marina              | przystań            |             11 |\\n|  8 | parking_underground | parking_underground |             10 |\\n|  9 | slipway             | pochylnia           |              2 |\\n| 10 | weir                | jaz                 |              1 |'"
            ]
          },
          "metadata": {
            "tags": []
          },
          "execution_count": 99
        }
      ]
    },
    {
      "cell_type": "markdown",
      "metadata": {
        "id": "Yw-pVmt6A2CR"
      },
      "source": [
        "#traffic"
      ]
    },
    {
      "cell_type": "code",
      "metadata": {
        "colab": {
          "base_uri": "https://localhost:8080/",
          "height": 250
        },
        "id": "xli5w_vnQtJX",
        "outputId": "325c0e99-87db-4955-d734-ee9e92d2ab23"
      },
      "source": [
        "%time\n",
        "traffic = GeoDataFrame.from_file('maps/gis_osm_traffic_free_1.shp', encoding='utf-8')\n",
        "traffic[\"fclass_PL\"] = traffic[\"fclass\"].replace(fclass_eng_to_pl)\n",
        "print(traffic.shape)\n",
        "traffic.head()"
      ],
      "execution_count": 100,
      "outputs": [
        {
          "output_type": "stream",
          "text": [
            "CPU times: user 15 µs, sys: 1e+03 ns, total: 16 µs\n",
            "Wall time: 20.3 µs\n",
            "(30026, 6)\n"
          ],
          "name": "stdout"
        },
        {
          "output_type": "execute_result",
          "data": {
            "text/html": [
              "<div>\n",
              "<style scoped>\n",
              "    .dataframe tbody tr th:only-of-type {\n",
              "        vertical-align: middle;\n",
              "    }\n",
              "\n",
              "    .dataframe tbody tr th {\n",
              "        vertical-align: top;\n",
              "    }\n",
              "\n",
              "    .dataframe thead th {\n",
              "        text-align: right;\n",
              "    }\n",
              "</style>\n",
              "<table border=\"1\" class=\"dataframe\">\n",
              "  <thead>\n",
              "    <tr style=\"text-align: right;\">\n",
              "      <th></th>\n",
              "      <th>osm_id</th>\n",
              "      <th>code</th>\n",
              "      <th>fclass</th>\n",
              "      <th>name</th>\n",
              "      <th>geometry</th>\n",
              "      <th>fclass_PL</th>\n",
              "    </tr>\n",
              "  </thead>\n",
              "  <tbody>\n",
              "    <tr>\n",
              "      <th>0</th>\n",
              "      <td>29782991</td>\n",
              "      <td>5201</td>\n",
              "      <td>traffic_signals</td>\n",
              "      <td>None</td>\n",
              "      <td>POINT (20.03122 50.07678)</td>\n",
              "      <td>traffic_signals</td>\n",
              "    </tr>\n",
              "    <tr>\n",
              "      <th>1</th>\n",
              "      <td>29782993</td>\n",
              "      <td>5204</td>\n",
              "      <td>crossing</td>\n",
              "      <td>None</td>\n",
              "      <td>POINT (20.02799 50.07927)</td>\n",
              "      <td>przejście</td>\n",
              "    </tr>\n",
              "    <tr>\n",
              "      <th>2</th>\n",
              "      <td>29782996</td>\n",
              "      <td>5201</td>\n",
              "      <td>traffic_signals</td>\n",
              "      <td>None</td>\n",
              "      <td>POINT (20.02795 50.07986)</td>\n",
              "      <td>traffic_signals</td>\n",
              "    </tr>\n",
              "    <tr>\n",
              "      <th>3</th>\n",
              "      <td>30375883</td>\n",
              "      <td>5204</td>\n",
              "      <td>crossing</td>\n",
              "      <td>None</td>\n",
              "      <td>POINT (19.94247 50.06449)</td>\n",
              "      <td>przejście</td>\n",
              "    </tr>\n",
              "    <tr>\n",
              "      <th>4</th>\n",
              "      <td>30376964</td>\n",
              "      <td>5201</td>\n",
              "      <td>traffic_signals</td>\n",
              "      <td>None</td>\n",
              "      <td>POINT (19.90412 50.04919)</td>\n",
              "      <td>traffic_signals</td>\n",
              "    </tr>\n",
              "  </tbody>\n",
              "</table>\n",
              "</div>"
            ],
            "text/plain": [
              "     osm_id  code  ...                   geometry        fclass_PL\n",
              "0  29782991  5201  ...  POINT (20.03122 50.07678)  traffic_signals\n",
              "1  29782993  5204  ...  POINT (20.02799 50.07927)        przejście\n",
              "2  29782996  5201  ...  POINT (20.02795 50.07986)  traffic_signals\n",
              "3  30375883  5204  ...  POINT (19.94247 50.06449)        przejście\n",
              "4  30376964  5201  ...  POINT (19.90412 50.04919)  traffic_signals\n",
              "\n",
              "[5 rows x 6 columns]"
            ]
          },
          "metadata": {
            "tags": []
          },
          "execution_count": 100
        }
      ]
    },
    {
      "cell_type": "code",
      "metadata": {
        "colab": {
          "base_uri": "https://localhost:8080/",
          "height": 648
        },
        "id": "SQHOShue-5jY",
        "outputId": "4426162c-12f3-4542-e53f-98de863c5be8"
      },
      "source": [
        "label_counts = traffic[[\"fclass\",\"fclass_PL\"]].value_counts().to_frame().reset_index().rename(columns={0:\"value counts\"})\n",
        "label_counts"
      ],
      "execution_count": 101,
      "outputs": [
        {
          "output_type": "execute_result",
          "data": {
            "text/html": [
              "<div>\n",
              "<style scoped>\n",
              "    .dataframe tbody tr th:only-of-type {\n",
              "        vertical-align: middle;\n",
              "    }\n",
              "\n",
              "    .dataframe tbody tr th {\n",
              "        vertical-align: top;\n",
              "    }\n",
              "\n",
              "    .dataframe thead th {\n",
              "        text-align: right;\n",
              "    }\n",
              "</style>\n",
              "<table border=\"1\" class=\"dataframe\">\n",
              "  <thead>\n",
              "    <tr style=\"text-align: right;\">\n",
              "      <th></th>\n",
              "      <th>fclass</th>\n",
              "      <th>fclass_PL</th>\n",
              "      <th>value counts</th>\n",
              "    </tr>\n",
              "  </thead>\n",
              "  <tbody>\n",
              "    <tr>\n",
              "      <th>0</th>\n",
              "      <td>crossing</td>\n",
              "      <td>przejście</td>\n",
              "      <td>16711</td>\n",
              "    </tr>\n",
              "    <tr>\n",
              "      <th>1</th>\n",
              "      <td>street_lamp</td>\n",
              "      <td>lampa uliczna</td>\n",
              "      <td>6422</td>\n",
              "    </tr>\n",
              "    <tr>\n",
              "      <th>2</th>\n",
              "      <td>parking_bicycle</td>\n",
              "      <td>parking_bicycle</td>\n",
              "      <td>2294</td>\n",
              "    </tr>\n",
              "    <tr>\n",
              "      <th>3</th>\n",
              "      <td>parking</td>\n",
              "      <td>parking</td>\n",
              "      <td>1372</td>\n",
              "    </tr>\n",
              "    <tr>\n",
              "      <th>4</th>\n",
              "      <td>traffic_signals</td>\n",
              "      <td>traffic_signals</td>\n",
              "      <td>1289</td>\n",
              "    </tr>\n",
              "    <tr>\n",
              "      <th>5</th>\n",
              "      <td>stop</td>\n",
              "      <td>zatrzymać</td>\n",
              "      <td>544</td>\n",
              "    </tr>\n",
              "    <tr>\n",
              "      <th>6</th>\n",
              "      <td>turning_circle</td>\n",
              "      <td>Obracające się koło</td>\n",
              "      <td>436</td>\n",
              "    </tr>\n",
              "    <tr>\n",
              "      <th>7</th>\n",
              "      <td>fuel</td>\n",
              "      <td>paliwo</td>\n",
              "      <td>391</td>\n",
              "    </tr>\n",
              "    <tr>\n",
              "      <th>8</th>\n",
              "      <td>weir</td>\n",
              "      <td>jaz</td>\n",
              "      <td>280</td>\n",
              "    </tr>\n",
              "    <tr>\n",
              "      <th>9</th>\n",
              "      <td>motorway_junction</td>\n",
              "      <td>motorway_junction</td>\n",
              "      <td>63</td>\n",
              "    </tr>\n",
              "    <tr>\n",
              "      <th>10</th>\n",
              "      <td>waterfall</td>\n",
              "      <td>wodospad</td>\n",
              "      <td>52</td>\n",
              "    </tr>\n",
              "    <tr>\n",
              "      <th>11</th>\n",
              "      <td>speed_camera</td>\n",
              "      <td>fotoradar</td>\n",
              "      <td>43</td>\n",
              "    </tr>\n",
              "    <tr>\n",
              "      <th>12</th>\n",
              "      <td>parking_underground</td>\n",
              "      <td>parking_underground</td>\n",
              "      <td>25</td>\n",
              "    </tr>\n",
              "    <tr>\n",
              "      <th>13</th>\n",
              "      <td>marina</td>\n",
              "      <td>przystań</td>\n",
              "      <td>24</td>\n",
              "    </tr>\n",
              "    <tr>\n",
              "      <th>14</th>\n",
              "      <td>slipway</td>\n",
              "      <td>pochylnia</td>\n",
              "      <td>22</td>\n",
              "    </tr>\n",
              "    <tr>\n",
              "      <th>15</th>\n",
              "      <td>mini_roundabout</td>\n",
              "      <td>mini_roundabout</td>\n",
              "      <td>20</td>\n",
              "    </tr>\n",
              "    <tr>\n",
              "      <th>16</th>\n",
              "      <td>dam</td>\n",
              "      <td>zapora</td>\n",
              "      <td>20</td>\n",
              "    </tr>\n",
              "    <tr>\n",
              "      <th>17</th>\n",
              "      <td>lock_gate</td>\n",
              "      <td>lock_gate</td>\n",
              "      <td>14</td>\n",
              "    </tr>\n",
              "    <tr>\n",
              "      <th>18</th>\n",
              "      <td>pier</td>\n",
              "      <td>molo</td>\n",
              "      <td>2</td>\n",
              "    </tr>\n",
              "    <tr>\n",
              "      <th>19</th>\n",
              "      <td>parking_multistorey</td>\n",
              "      <td>parking_multistorey</td>\n",
              "      <td>2</td>\n",
              "    </tr>\n",
              "  </tbody>\n",
              "</table>\n",
              "</div>"
            ],
            "text/plain": [
              "                 fclass            fclass_PL  value counts\n",
              "0              crossing            przejście         16711\n",
              "1           street_lamp        lampa uliczna          6422\n",
              "2       parking_bicycle      parking_bicycle          2294\n",
              "3               parking              parking          1372\n",
              "4       traffic_signals      traffic_signals          1289\n",
              "5                  stop            zatrzymać           544\n",
              "6        turning_circle  Obracające się koło           436\n",
              "7                  fuel               paliwo           391\n",
              "8                  weir                  jaz           280\n",
              "9     motorway_junction    motorway_junction            63\n",
              "10            waterfall             wodospad            52\n",
              "11         speed_camera            fotoradar            43\n",
              "12  parking_underground  parking_underground            25\n",
              "13               marina             przystań            24\n",
              "14              slipway            pochylnia            22\n",
              "15      mini_roundabout      mini_roundabout            20\n",
              "16                  dam               zapora            20\n",
              "17            lock_gate            lock_gate            14\n",
              "18                 pier                 molo             2\n",
              "19  parking_multistorey  parking_multistorey             2"
            ]
          },
          "metadata": {
            "tags": []
          },
          "execution_count": 101
        }
      ]
    },
    {
      "cell_type": "code",
      "metadata": {
        "colab": {
          "base_uri": "https://localhost:8080/",
          "height": 138
        },
        "id": "OKjq7cQ5-5ja",
        "outputId": "318cdd88-41cc-466e-a2ff-d680e9700eec"
      },
      "source": [
        "label_counts.to_markdown()"
      ],
      "execution_count": 102,
      "outputs": [
        {
          "output_type": "execute_result",
          "data": {
            "application/vnd.google.colaboratory.intrinsic+json": {
              "type": "string"
            },
            "text/plain": [
              "'|    | fclass              | fclass_PL           |   value counts |\\n|---:|:--------------------|:--------------------|---------------:|\\n|  0 | crossing            | przejście           |          16711 |\\n|  1 | street_lamp         | lampa uliczna       |           6422 |\\n|  2 | parking_bicycle     | parking_bicycle     |           2294 |\\n|  3 | parking             | parking             |           1372 |\\n|  4 | traffic_signals     | traffic_signals     |           1289 |\\n|  5 | stop                | zatrzymać           |            544 |\\n|  6 | turning_circle      | Obracające się koło |            436 |\\n|  7 | fuel                | paliwo              |            391 |\\n|  8 | weir                | jaz                 |            280 |\\n|  9 | motorway_junction   | motorway_junction   |             63 |\\n| 10 | waterfall           | wodospad            |             52 |\\n| 11 | speed_camera        | fotoradar           |             43 |\\n| 12 | parking_underground | parking_underground |             25 |\\n| 13 | marina              | przystań            |             24 |\\n| 14 | slipway             | pochylnia           |             22 |\\n| 15 | mini_roundabout     | mini_roundabout     |             20 |\\n| 16 | dam                 | zapora              |             20 |\\n| 17 | lock_gate           | lock_gate           |             14 |\\n| 18 | pier                | molo                |              2 |\\n| 19 | parking_multistorey | parking_multistorey |              2 |'"
            ]
          },
          "metadata": {
            "tags": []
          },
          "execution_count": 102
        }
      ]
    },
    {
      "cell_type": "markdown",
      "metadata": {
        "id": "7c1ZKyx4Awa2"
      },
      "source": [
        "#transport_a"
      ]
    },
    {
      "cell_type": "code",
      "metadata": {
        "colab": {
          "base_uri": "https://localhost:8080/",
          "height": 336
        },
        "id": "I06gMyeyQKwz",
        "outputId": "28811a1f-ef8f-40e4-bd3c-cd69fc71fb1e"
      },
      "source": [
        "%time\n",
        "transport_a = GeoDataFrame.from_file('maps/gis_osm_transport_a_free_1.shp', encoding='utf-8')\n",
        "transport_a[\"fclass_PL\"] = transport_a[\"fclass\"].replace(fclass_eng_to_pl)\n",
        "print(transport_a.shape)\n",
        "transport_a.head()"
      ],
      "execution_count": 103,
      "outputs": [
        {
          "output_type": "stream",
          "text": [
            "CPU times: user 3 µs, sys: 0 ns, total: 3 µs\n",
            "Wall time: 9.06 µs\n",
            "(638, 6)\n"
          ],
          "name": "stdout"
        },
        {
          "output_type": "execute_result",
          "data": {
            "text/html": [
              "<div>\n",
              "<style scoped>\n",
              "    .dataframe tbody tr th:only-of-type {\n",
              "        vertical-align: middle;\n",
              "    }\n",
              "\n",
              "    .dataframe tbody tr th {\n",
              "        vertical-align: top;\n",
              "    }\n",
              "\n",
              "    .dataframe thead th {\n",
              "        text-align: right;\n",
              "    }\n",
              "</style>\n",
              "<table border=\"1\" class=\"dataframe\">\n",
              "  <thead>\n",
              "    <tr style=\"text-align: right;\">\n",
              "      <th></th>\n",
              "      <th>osm_id</th>\n",
              "      <th>code</th>\n",
              "      <th>fclass</th>\n",
              "      <th>name</th>\n",
              "      <th>geometry</th>\n",
              "      <th>fclass_PL</th>\n",
              "    </tr>\n",
              "  </thead>\n",
              "  <tbody>\n",
              "    <tr>\n",
              "      <th>0</th>\n",
              "      <td>19796272</td>\n",
              "      <td>5656</td>\n",
              "      <td>apron</td>\n",
              "      <td>None</td>\n",
              "      <td>POLYGON ((19.78131 50.07318, 19.78147 50.07336...</td>\n",
              "      <td>Fartuch</td>\n",
              "    </tr>\n",
              "    <tr>\n",
              "      <th>1</th>\n",
              "      <td>26424475</td>\n",
              "      <td>5656</td>\n",
              "      <td>apron</td>\n",
              "      <td>None</td>\n",
              "      <td>POLYGON ((20.19613 50.08498, 20.19929 50.08502...</td>\n",
              "      <td>Fartuch</td>\n",
              "    </tr>\n",
              "    <tr>\n",
              "      <th>2</th>\n",
              "      <td>39272551</td>\n",
              "      <td>5622</td>\n",
              "      <td>bus_station</td>\n",
              "      <td>Azory</td>\n",
              "      <td>POLYGON ((19.90876 50.08659, 19.90877 50.08663...</td>\n",
              "      <td>Dworzec autobusowy</td>\n",
              "    </tr>\n",
              "    <tr>\n",
              "      <th>3</th>\n",
              "      <td>43457434</td>\n",
              "      <td>5622</td>\n",
              "      <td>bus_station</td>\n",
              "      <td>Dworzec Autobusowy</td>\n",
              "      <td>POLYGON ((20.69748 49.61713, 20.69845 49.61749...</td>\n",
              "      <td>Dworzec autobusowy</td>\n",
              "    </tr>\n",
              "    <tr>\n",
              "      <th>4</th>\n",
              "      <td>49156766</td>\n",
              "      <td>5621</td>\n",
              "      <td>bus_stop</td>\n",
              "      <td>Prokocim Szpital</td>\n",
              "      <td>POLYGON ((20.00093 50.01492, 20.00142 50.01518...</td>\n",
              "      <td>przystanek autobusowy</td>\n",
              "    </tr>\n",
              "  </tbody>\n",
              "</table>\n",
              "</div>"
            ],
            "text/plain": [
              "     osm_id  ...              fclass_PL\n",
              "0  19796272  ...                Fartuch\n",
              "1  26424475  ...                Fartuch\n",
              "2  39272551  ...     Dworzec autobusowy\n",
              "3  43457434  ...     Dworzec autobusowy\n",
              "4  49156766  ...  przystanek autobusowy\n",
              "\n",
              "[5 rows x 6 columns]"
            ]
          },
          "metadata": {
            "tags": []
          },
          "execution_count": 103
        }
      ]
    },
    {
      "cell_type": "code",
      "metadata": {
        "colab": {
          "base_uri": "https://localhost:8080/",
          "height": 318
        },
        "id": "usLYZxVi-ysg",
        "outputId": "aa71a4ba-5b44-4352-b011-fee32f3e6bf0"
      },
      "source": [
        "label_counts = transport_a[[\"fclass\",\"fclass_PL\"]].value_counts().to_frame().reset_index().rename(columns={0:\"value counts\"})\n",
        "label_counts"
      ],
      "execution_count": 104,
      "outputs": [
        {
          "output_type": "execute_result",
          "data": {
            "text/html": [
              "<div>\n",
              "<style scoped>\n",
              "    .dataframe tbody tr th:only-of-type {\n",
              "        vertical-align: middle;\n",
              "    }\n",
              "\n",
              "    .dataframe tbody tr th {\n",
              "        vertical-align: top;\n",
              "    }\n",
              "\n",
              "    .dataframe thead th {\n",
              "        text-align: right;\n",
              "    }\n",
              "</style>\n",
              "<table border=\"1\" class=\"dataframe\">\n",
              "  <thead>\n",
              "    <tr style=\"text-align: right;\">\n",
              "      <th></th>\n",
              "      <th>fclass</th>\n",
              "      <th>fclass_PL</th>\n",
              "      <th>value counts</th>\n",
              "    </tr>\n",
              "  </thead>\n",
              "  <tbody>\n",
              "    <tr>\n",
              "      <th>0</th>\n",
              "      <td>bus_stop</td>\n",
              "      <td>przystanek autobusowy</td>\n",
              "      <td>523</td>\n",
              "    </tr>\n",
              "    <tr>\n",
              "      <th>1</th>\n",
              "      <td>helipad</td>\n",
              "      <td>lądowisko dla helikopterów</td>\n",
              "      <td>42</td>\n",
              "    </tr>\n",
              "    <tr>\n",
              "      <th>2</th>\n",
              "      <td>bus_station</td>\n",
              "      <td>Dworzec autobusowy</td>\n",
              "      <td>35</td>\n",
              "    </tr>\n",
              "    <tr>\n",
              "      <th>3</th>\n",
              "      <td>taxi</td>\n",
              "      <td>Taxi</td>\n",
              "      <td>16</td>\n",
              "    </tr>\n",
              "    <tr>\n",
              "      <th>4</th>\n",
              "      <td>apron</td>\n",
              "      <td>Fartuch</td>\n",
              "      <td>9</td>\n",
              "    </tr>\n",
              "    <tr>\n",
              "      <th>5</th>\n",
              "      <td>airport</td>\n",
              "      <td>Lotnisko</td>\n",
              "      <td>8</td>\n",
              "    </tr>\n",
              "    <tr>\n",
              "      <th>6</th>\n",
              "      <td>tram_stop</td>\n",
              "      <td>przystanek tramwajowy</td>\n",
              "      <td>2</td>\n",
              "    </tr>\n",
              "    <tr>\n",
              "      <th>7</th>\n",
              "      <td>railway_station</td>\n",
              "      <td>stacja kolejowa</td>\n",
              "      <td>2</td>\n",
              "    </tr>\n",
              "    <tr>\n",
              "      <th>8</th>\n",
              "      <td>airfield</td>\n",
              "      <td>lotnisko</td>\n",
              "      <td>1</td>\n",
              "    </tr>\n",
              "  </tbody>\n",
              "</table>\n",
              "</div>"
            ],
            "text/plain": [
              "            fclass                   fclass_PL  value counts\n",
              "0         bus_stop       przystanek autobusowy           523\n",
              "1          helipad  lądowisko dla helikopterów            42\n",
              "2      bus_station          Dworzec autobusowy            35\n",
              "3             taxi                        Taxi            16\n",
              "4            apron                     Fartuch             9\n",
              "5          airport                    Lotnisko             8\n",
              "6        tram_stop       przystanek tramwajowy             2\n",
              "7  railway_station             stacja kolejowa             2\n",
              "8         airfield                    lotnisko             1"
            ]
          },
          "metadata": {
            "tags": []
          },
          "execution_count": 104
        }
      ]
    },
    {
      "cell_type": "code",
      "metadata": {
        "colab": {
          "base_uri": "https://localhost:8080/",
          "height": 121
        },
        "id": "xPcBElaX-ysh",
        "outputId": "6fb85080-f302-4f8f-df19-3030820adf4c"
      },
      "source": [
        "label_counts.to_markdown()"
      ],
      "execution_count": 105,
      "outputs": [
        {
          "output_type": "execute_result",
          "data": {
            "application/vnd.google.colaboratory.intrinsic+json": {
              "type": "string"
            },
            "text/plain": [
              "'|    | fclass          | fclass_PL                  |   value counts |\\n|---:|:----------------|:---------------------------|---------------:|\\n|  0 | bus_stop        | przystanek autobusowy      |            523 |\\n|  1 | helipad         | lądowisko dla helikopterów |             42 |\\n|  2 | bus_station     | Dworzec autobusowy         |             35 |\\n|  3 | taxi            | Taxi                       |             16 |\\n|  4 | apron           | Fartuch                    |              9 |\\n|  5 | airport         | Lotnisko                   |              8 |\\n|  6 | tram_stop       | przystanek tramwajowy      |              2 |\\n|  7 | railway_station | stacja kolejowa            |              2 |\\n|  8 | airfield        | lotnisko                   |              1 |'"
            ]
          },
          "metadata": {
            "tags": []
          },
          "execution_count": 105
        }
      ]
    },
    {
      "cell_type": "markdown",
      "metadata": {
        "id": "Rx7RB0V8A3-r"
      },
      "source": [
        "#transport"
      ]
    },
    {
      "cell_type": "code",
      "metadata": {
        "colab": {
          "base_uri": "https://localhost:8080/",
          "height": 250
        },
        "id": "vpBbQgDxQ5fs",
        "outputId": "8d21699f-46f3-4f9a-bcaf-a95bbb4ab243"
      },
      "source": [
        "%time\n",
        "transport = GeoDataFrame.from_file('maps/gis_osm_transport_free_1.shp', encoding='utf-8')\n",
        "transport[\"fclass_PL\"] = transport[\"fclass\"].replace(fclass_eng_to_pl)\n",
        "print(transport.shape)\n",
        "transport.head()"
      ],
      "execution_count": 106,
      "outputs": [
        {
          "output_type": "stream",
          "text": [
            "CPU times: user 5 µs, sys: 0 ns, total: 5 µs\n",
            "Wall time: 9.78 µs\n",
            "(10107, 6)\n"
          ],
          "name": "stdout"
        },
        {
          "output_type": "execute_result",
          "data": {
            "text/html": [
              "<div>\n",
              "<style scoped>\n",
              "    .dataframe tbody tr th:only-of-type {\n",
              "        vertical-align: middle;\n",
              "    }\n",
              "\n",
              "    .dataframe tbody tr th {\n",
              "        vertical-align: top;\n",
              "    }\n",
              "\n",
              "    .dataframe thead th {\n",
              "        text-align: right;\n",
              "    }\n",
              "</style>\n",
              "<table border=\"1\" class=\"dataframe\">\n",
              "  <thead>\n",
              "    <tr style=\"text-align: right;\">\n",
              "      <th></th>\n",
              "      <th>osm_id</th>\n",
              "      <th>code</th>\n",
              "      <th>fclass</th>\n",
              "      <th>name</th>\n",
              "      <th>geometry</th>\n",
              "      <th>fclass_PL</th>\n",
              "    </tr>\n",
              "  </thead>\n",
              "  <tbody>\n",
              "    <tr>\n",
              "      <th>0</th>\n",
              "      <td>41943557</td>\n",
              "      <td>5601</td>\n",
              "      <td>railway_station</td>\n",
              "      <td>Kraków Mydlniki</td>\n",
              "      <td>POINT (19.85970 50.08360)</td>\n",
              "      <td>stacja kolejowa</td>\n",
              "    </tr>\n",
              "    <tr>\n",
              "      <th>1</th>\n",
              "      <td>48267476</td>\n",
              "      <td>5601</td>\n",
              "      <td>railway_station</td>\n",
              "      <td>Bochnia</td>\n",
              "      <td>POINT (20.43151 49.97729)</td>\n",
              "      <td>stacja kolejowa</td>\n",
              "    </tr>\n",
              "    <tr>\n",
              "      <th>2</th>\n",
              "      <td>48522023</td>\n",
              "      <td>5601</td>\n",
              "      <td>railway_station</td>\n",
              "      <td>Kraków Batowice</td>\n",
              "      <td>POINT (19.99547 50.10753)</td>\n",
              "      <td>stacja kolejowa</td>\n",
              "    </tr>\n",
              "    <tr>\n",
              "      <th>3</th>\n",
              "      <td>48523754</td>\n",
              "      <td>5601</td>\n",
              "      <td>railway_station</td>\n",
              "      <td>Kraków Nowa Huta</td>\n",
              "      <td>POINT (20.12950 50.09058)</td>\n",
              "      <td>stacja kolejowa</td>\n",
              "    </tr>\n",
              "    <tr>\n",
              "      <th>4</th>\n",
              "      <td>48526714</td>\n",
              "      <td>5602</td>\n",
              "      <td>railway_halt</td>\n",
              "      <td>Słomniki Miasto</td>\n",
              "      <td>POINT (20.07637 50.23587)</td>\n",
              "      <td>Railway_halt</td>\n",
              "    </tr>\n",
              "  </tbody>\n",
              "</table>\n",
              "</div>"
            ],
            "text/plain": [
              "     osm_id  code  ...                   geometry        fclass_PL\n",
              "0  41943557  5601  ...  POINT (19.85970 50.08360)  stacja kolejowa\n",
              "1  48267476  5601  ...  POINT (20.43151 49.97729)  stacja kolejowa\n",
              "2  48522023  5601  ...  POINT (19.99547 50.10753)  stacja kolejowa\n",
              "3  48523754  5601  ...  POINT (20.12950 50.09058)  stacja kolejowa\n",
              "4  48526714  5602  ...  POINT (20.07637 50.23587)     Railway_halt\n",
              "\n",
              "[5 rows x 6 columns]"
            ]
          },
          "metadata": {
            "tags": []
          },
          "execution_count": 106
        }
      ]
    },
    {
      "cell_type": "code",
      "metadata": {
        "colab": {
          "base_uri": "https://localhost:8080/",
          "height": 318
        },
        "id": "-ltVrGBR-7Qy",
        "outputId": "6a4f7057-40c2-46d5-9d30-032caa33ee17"
      },
      "source": [
        "label_counts = transport[[\"fclass\",\"fclass_PL\"]].value_counts().to_frame().reset_index().rename(columns={0:\"value counts\"})\n",
        "label_counts"
      ],
      "execution_count": 107,
      "outputs": [
        {
          "output_type": "execute_result",
          "data": {
            "text/html": [
              "<div>\n",
              "<style scoped>\n",
              "    .dataframe tbody tr th:only-of-type {\n",
              "        vertical-align: middle;\n",
              "    }\n",
              "\n",
              "    .dataframe tbody tr th {\n",
              "        vertical-align: top;\n",
              "    }\n",
              "\n",
              "    .dataframe thead th {\n",
              "        text-align: right;\n",
              "    }\n",
              "</style>\n",
              "<table border=\"1\" class=\"dataframe\">\n",
              "  <thead>\n",
              "    <tr style=\"text-align: right;\">\n",
              "      <th></th>\n",
              "      <th>fclass</th>\n",
              "      <th>fclass_PL</th>\n",
              "      <th>value counts</th>\n",
              "    </tr>\n",
              "  </thead>\n",
              "  <tbody>\n",
              "    <tr>\n",
              "      <th>0</th>\n",
              "      <td>bus_stop</td>\n",
              "      <td>przystanek autobusowy</td>\n",
              "      <td>9391</td>\n",
              "    </tr>\n",
              "    <tr>\n",
              "      <th>1</th>\n",
              "      <td>tram_stop</td>\n",
              "      <td>przystanek tramwajowy</td>\n",
              "      <td>365</td>\n",
              "    </tr>\n",
              "    <tr>\n",
              "      <th>2</th>\n",
              "      <td>railway_halt</td>\n",
              "      <td>Railway_halt</td>\n",
              "      <td>123</td>\n",
              "    </tr>\n",
              "    <tr>\n",
              "      <th>3</th>\n",
              "      <td>railway_station</td>\n",
              "      <td>stacja kolejowa</td>\n",
              "      <td>91</td>\n",
              "    </tr>\n",
              "    <tr>\n",
              "      <th>4</th>\n",
              "      <td>taxi</td>\n",
              "      <td>Taxi</td>\n",
              "      <td>79</td>\n",
              "    </tr>\n",
              "    <tr>\n",
              "      <th>5</th>\n",
              "      <td>bus_station</td>\n",
              "      <td>Dworzec autobusowy</td>\n",
              "      <td>30</td>\n",
              "    </tr>\n",
              "    <tr>\n",
              "      <th>6</th>\n",
              "      <td>ferry_terminal</td>\n",
              "      <td>terminal_promowy</td>\n",
              "      <td>21</td>\n",
              "    </tr>\n",
              "    <tr>\n",
              "      <th>7</th>\n",
              "      <td>helipad</td>\n",
              "      <td>lądowisko dla helikopterów</td>\n",
              "      <td>6</td>\n",
              "    </tr>\n",
              "    <tr>\n",
              "      <th>8</th>\n",
              "      <td>airport</td>\n",
              "      <td>Lotnisko</td>\n",
              "      <td>1</td>\n",
              "    </tr>\n",
              "  </tbody>\n",
              "</table>\n",
              "</div>"
            ],
            "text/plain": [
              "            fclass                   fclass_PL  value counts\n",
              "0         bus_stop       przystanek autobusowy          9391\n",
              "1        tram_stop       przystanek tramwajowy           365\n",
              "2     railway_halt                Railway_halt           123\n",
              "3  railway_station             stacja kolejowa            91\n",
              "4             taxi                        Taxi            79\n",
              "5      bus_station          Dworzec autobusowy            30\n",
              "6   ferry_terminal            terminal_promowy            21\n",
              "7          helipad  lądowisko dla helikopterów             6\n",
              "8          airport                    Lotnisko             1"
            ]
          },
          "metadata": {
            "tags": []
          },
          "execution_count": 107
        }
      ]
    },
    {
      "cell_type": "code",
      "metadata": {
        "colab": {
          "base_uri": "https://localhost:8080/",
          "height": 121
        },
        "id": "cGgUYyJN-7Qy",
        "outputId": "546debba-570c-4e22-b918-a3f6e1bc0a20"
      },
      "source": [
        "label_counts.to_markdown()"
      ],
      "execution_count": 108,
      "outputs": [
        {
          "output_type": "execute_result",
          "data": {
            "application/vnd.google.colaboratory.intrinsic+json": {
              "type": "string"
            },
            "text/plain": [
              "'|    | fclass          | fclass_PL                  |   value counts |\\n|---:|:----------------|:---------------------------|---------------:|\\n|  0 | bus_stop        | przystanek autobusowy      |           9391 |\\n|  1 | tram_stop       | przystanek tramwajowy      |            365 |\\n|  2 | railway_halt    | Railway_halt               |            123 |\\n|  3 | railway_station | stacja kolejowa            |             91 |\\n|  4 | taxi            | Taxi                       |             79 |\\n|  5 | bus_station     | Dworzec autobusowy         |             30 |\\n|  6 | ferry_terminal  | terminal_promowy           |             21 |\\n|  7 | helipad         | lądowisko dla helikopterów |              6 |\\n|  8 | airport         | Lotnisko                   |              1 |'"
            ]
          },
          "metadata": {
            "tags": []
          },
          "execution_count": 108
        }
      ]
    },
    {
      "cell_type": "markdown",
      "metadata": {
        "id": "lWiEkmUhBM5T"
      },
      "source": [
        "#water_a"
      ]
    },
    {
      "cell_type": "code",
      "metadata": {
        "colab": {
          "base_uri": "https://localhost:8080/",
          "height": 336
        },
        "id": "KqTKHK33SBMd",
        "outputId": "062ec235-ce7d-4b2b-bd14-615b229b4d33"
      },
      "source": [
        "%time\n",
        "water_a = GeoDataFrame.from_file('maps/gis_osm_water_a_free_1.shp', encoding='utf-8')\n",
        "water_a[\"fclass_PL\"] = water_a[\"fclass\"].replace(fclass_eng_to_pl)\n",
        "print(water_a.shape)\n",
        "water_a.head()"
      ],
      "execution_count": 109,
      "outputs": [
        {
          "output_type": "stream",
          "text": [
            "CPU times: user 4 µs, sys: 0 ns, total: 4 µs\n",
            "Wall time: 9.06 µs\n",
            "(8792, 6)\n"
          ],
          "name": "stdout"
        },
        {
          "output_type": "execute_result",
          "data": {
            "text/html": [
              "<div>\n",
              "<style scoped>\n",
              "    .dataframe tbody tr th:only-of-type {\n",
              "        vertical-align: middle;\n",
              "    }\n",
              "\n",
              "    .dataframe tbody tr th {\n",
              "        vertical-align: top;\n",
              "    }\n",
              "\n",
              "    .dataframe thead th {\n",
              "        text-align: right;\n",
              "    }\n",
              "</style>\n",
              "<table border=\"1\" class=\"dataframe\">\n",
              "  <thead>\n",
              "    <tr style=\"text-align: right;\">\n",
              "      <th></th>\n",
              "      <th>osm_id</th>\n",
              "      <th>code</th>\n",
              "      <th>fclass</th>\n",
              "      <th>name</th>\n",
              "      <th>geometry</th>\n",
              "      <th>fclass_PL</th>\n",
              "    </tr>\n",
              "  </thead>\n",
              "  <tbody>\n",
              "    <tr>\n",
              "      <th>0</th>\n",
              "      <td>5909396</td>\n",
              "      <td>8201</td>\n",
              "      <td>reservoir</td>\n",
              "      <td>Jezioro Klimkowskie</td>\n",
              "      <td>POLYGON ((21.07813 49.55540, 21.07818 49.55546...</td>\n",
              "      <td>zbiornik</td>\n",
              "    </tr>\n",
              "    <tr>\n",
              "      <th>1</th>\n",
              "      <td>5909432</td>\n",
              "      <td>8202</td>\n",
              "      <td>river</td>\n",
              "      <td>Dunajec</td>\n",
              "      <td>POLYGON ((20.66969 49.60742, 20.67004 49.60778...</td>\n",
              "      <td>rzeka</td>\n",
              "    </tr>\n",
              "    <tr>\n",
              "      <th>2</th>\n",
              "      <td>7628519</td>\n",
              "      <td>8200</td>\n",
              "      <td>water</td>\n",
              "      <td>None</td>\n",
              "      <td>POLYGON ((20.64521 49.79566, 20.64539 49.79588...</td>\n",
              "      <td>woda</td>\n",
              "    </tr>\n",
              "    <tr>\n",
              "      <th>3</th>\n",
              "      <td>19796883</td>\n",
              "      <td>8200</td>\n",
              "      <td>water</td>\n",
              "      <td>None</td>\n",
              "      <td>POLYGON ((19.81997 50.08815, 19.82002 50.08827...</td>\n",
              "      <td>woda</td>\n",
              "    </tr>\n",
              "    <tr>\n",
              "      <th>4</th>\n",
              "      <td>19796886</td>\n",
              "      <td>8200</td>\n",
              "      <td>water</td>\n",
              "      <td>None</td>\n",
              "      <td>POLYGON ((19.82254 50.09034, 19.82400 50.09111...</td>\n",
              "      <td>woda</td>\n",
              "    </tr>\n",
              "  </tbody>\n",
              "</table>\n",
              "</div>"
            ],
            "text/plain": [
              "     osm_id  code  ...                                           geometry fclass_PL\n",
              "0   5909396  8201  ...  POLYGON ((21.07813 49.55540, 21.07818 49.55546...  zbiornik\n",
              "1   5909432  8202  ...  POLYGON ((20.66969 49.60742, 20.67004 49.60778...     rzeka\n",
              "2   7628519  8200  ...  POLYGON ((20.64521 49.79566, 20.64539 49.79588...      woda\n",
              "3  19796883  8200  ...  POLYGON ((19.81997 50.08815, 19.82002 50.08827...      woda\n",
              "4  19796886  8200  ...  POLYGON ((19.82254 50.09034, 19.82400 50.09111...      woda\n",
              "\n",
              "[5 rows x 6 columns]"
            ]
          },
          "metadata": {
            "tags": []
          },
          "execution_count": 109
        }
      ]
    },
    {
      "cell_type": "code",
      "metadata": {
        "colab": {
          "base_uri": "https://localhost:8080/",
          "height": 258
        },
        "id": "CbxbS2Gj_dXR",
        "outputId": "d3b0c52a-1ccd-48ab-ee34-e9855cd3e39b"
      },
      "source": [
        "label_counts = water_a[[\"fclass\",\"fclass_PL\"]].value_counts().to_frame().reset_index().rename(columns={0:\"value counts\"})\n",
        "label_counts"
      ],
      "execution_count": 110,
      "outputs": [
        {
          "output_type": "execute_result",
          "data": {
            "text/html": [
              "<div>\n",
              "<style scoped>\n",
              "    .dataframe tbody tr th:only-of-type {\n",
              "        vertical-align: middle;\n",
              "    }\n",
              "\n",
              "    .dataframe tbody tr th {\n",
              "        vertical-align: top;\n",
              "    }\n",
              "\n",
              "    .dataframe thead th {\n",
              "        text-align: right;\n",
              "    }\n",
              "</style>\n",
              "<table border=\"1\" class=\"dataframe\">\n",
              "  <thead>\n",
              "    <tr style=\"text-align: right;\">\n",
              "      <th></th>\n",
              "      <th>fclass</th>\n",
              "      <th>fclass_PL</th>\n",
              "      <th>value counts</th>\n",
              "    </tr>\n",
              "  </thead>\n",
              "  <tbody>\n",
              "    <tr>\n",
              "      <th>0</th>\n",
              "      <td>water</td>\n",
              "      <td>woda</td>\n",
              "      <td>6712</td>\n",
              "    </tr>\n",
              "    <tr>\n",
              "      <th>1</th>\n",
              "      <td>wetland</td>\n",
              "      <td>teren podmokły</td>\n",
              "      <td>981</td>\n",
              "    </tr>\n",
              "    <tr>\n",
              "      <th>2</th>\n",
              "      <td>reservoir</td>\n",
              "      <td>zbiornik</td>\n",
              "      <td>734</td>\n",
              "    </tr>\n",
              "    <tr>\n",
              "      <th>3</th>\n",
              "      <td>riverbank</td>\n",
              "      <td>Brzeg rzeki</td>\n",
              "      <td>231</td>\n",
              "    </tr>\n",
              "    <tr>\n",
              "      <th>4</th>\n",
              "      <td>river</td>\n",
              "      <td>rzeka</td>\n",
              "      <td>120</td>\n",
              "    </tr>\n",
              "    <tr>\n",
              "      <th>5</th>\n",
              "      <td>glacier</td>\n",
              "      <td>lodowiec</td>\n",
              "      <td>12</td>\n",
              "    </tr>\n",
              "    <tr>\n",
              "      <th>6</th>\n",
              "      <td>dock</td>\n",
              "      <td>dok</td>\n",
              "      <td>2</td>\n",
              "    </tr>\n",
              "  </tbody>\n",
              "</table>\n",
              "</div>"
            ],
            "text/plain": [
              "      fclass       fclass_PL  value counts\n",
              "0      water            woda          6712\n",
              "1    wetland  teren podmokły           981\n",
              "2  reservoir        zbiornik           734\n",
              "3  riverbank     Brzeg rzeki           231\n",
              "4      river           rzeka           120\n",
              "5    glacier        lodowiec            12\n",
              "6       dock             dok             2"
            ]
          },
          "metadata": {
            "tags": []
          },
          "execution_count": 110
        }
      ]
    },
    {
      "cell_type": "code",
      "metadata": {
        "colab": {
          "base_uri": "https://localhost:8080/",
          "height": 86
        },
        "id": "nswjItrb_dXS",
        "outputId": "a10915e6-fa8e-45ac-f1c2-f89c306e05cd"
      },
      "source": [
        "label_counts.to_markdown()"
      ],
      "execution_count": 111,
      "outputs": [
        {
          "output_type": "execute_result",
          "data": {
            "application/vnd.google.colaboratory.intrinsic+json": {
              "type": "string"
            },
            "text/plain": [
              "'|    | fclass    | fclass_PL      |   value counts |\\n|---:|:----------|:---------------|---------------:|\\n|  0 | water     | woda           |           6712 |\\n|  1 | wetland   | teren podmokły |            981 |\\n|  2 | reservoir | zbiornik       |            734 |\\n|  3 | riverbank | Brzeg rzeki    |            231 |\\n|  4 | river     | rzeka          |            120 |\\n|  5 | glacier   | lodowiec       |             12 |\\n|  6 | dock      | dok            |              2 |'"
            ]
          },
          "metadata": {
            "tags": []
          },
          "execution_count": 111
        }
      ]
    },
    {
      "cell_type": "markdown",
      "metadata": {
        "id": "UVazqzUoAstz"
      },
      "source": [
        "#waterways"
      ]
    },
    {
      "cell_type": "code",
      "metadata": {
        "colab": {
          "base_uri": "https://localhost:8080/",
          "height": 250
        },
        "id": "_AgNV9IZPtnS",
        "outputId": "103bf5f5-319a-4ce0-8fc6-f7da28d3fc50"
      },
      "source": [
        "%time\n",
        "waterways = GeoDataFrame.from_file('maps/gis_osm_waterways_free_1.shp', encoding='utf-8')\n",
        "waterways[\"fclass_PL\"] = waterways[\"fclass\"].replace(fclass_eng_to_pl)\n",
        "print(waterways.shape)\n",
        "waterways.head()"
      ],
      "execution_count": 112,
      "outputs": [
        {
          "output_type": "stream",
          "text": [
            "CPU times: user 4 µs, sys: 0 ns, total: 4 µs\n",
            "Wall time: 8.58 µs\n",
            "(46602, 7)\n"
          ],
          "name": "stdout"
        },
        {
          "output_type": "execute_result",
          "data": {
            "text/html": [
              "<div>\n",
              "<style scoped>\n",
              "    .dataframe tbody tr th:only-of-type {\n",
              "        vertical-align: middle;\n",
              "    }\n",
              "\n",
              "    .dataframe tbody tr th {\n",
              "        vertical-align: top;\n",
              "    }\n",
              "\n",
              "    .dataframe thead th {\n",
              "        text-align: right;\n",
              "    }\n",
              "</style>\n",
              "<table border=\"1\" class=\"dataframe\">\n",
              "  <thead>\n",
              "    <tr style=\"text-align: right;\">\n",
              "      <th></th>\n",
              "      <th>osm_id</th>\n",
              "      <th>code</th>\n",
              "      <th>fclass</th>\n",
              "      <th>width</th>\n",
              "      <th>name</th>\n",
              "      <th>geometry</th>\n",
              "      <th>fclass_PL</th>\n",
              "    </tr>\n",
              "  </thead>\n",
              "  <tbody>\n",
              "    <tr>\n",
              "      <th>0</th>\n",
              "      <td>5819083</td>\n",
              "      <td>8101</td>\n",
              "      <td>river</td>\n",
              "      <td>0</td>\n",
              "      <td>Biała</td>\n",
              "      <td>LINESTRING (21.06901 49.44025, 21.06736 49.440...</td>\n",
              "      <td>rzeka</td>\n",
              "    </tr>\n",
              "    <tr>\n",
              "      <th>1</th>\n",
              "      <td>5819592</td>\n",
              "      <td>8101</td>\n",
              "      <td>river</td>\n",
              "      <td>0</td>\n",
              "      <td>Dunajec</td>\n",
              "      <td>LINESTRING (20.68030 49.80995, 20.68049 49.810...</td>\n",
              "      <td>rzeka</td>\n",
              "    </tr>\n",
              "    <tr>\n",
              "      <th>2</th>\n",
              "      <td>5909314</td>\n",
              "      <td>8101</td>\n",
              "      <td>river</td>\n",
              "      <td>0</td>\n",
              "      <td>Ropa</td>\n",
              "      <td>LINESTRING (21.04776 49.60824, 21.04990 49.609...</td>\n",
              "      <td>rzeka</td>\n",
              "    </tr>\n",
              "    <tr>\n",
              "      <th>3</th>\n",
              "      <td>5909428</td>\n",
              "      <td>8101</td>\n",
              "      <td>river</td>\n",
              "      <td>0</td>\n",
              "      <td>Dunajec</td>\n",
              "      <td>LINESTRING (20.65635 49.69135, 20.66124 49.693...</td>\n",
              "      <td>rzeka</td>\n",
              "    </tr>\n",
              "    <tr>\n",
              "      <th>4</th>\n",
              "      <td>5909630</td>\n",
              "      <td>8101</td>\n",
              "      <td>river</td>\n",
              "      <td>0</td>\n",
              "      <td>Dunajec</td>\n",
              "      <td>LINESTRING (20.47315 49.53902, 20.47866 49.537...</td>\n",
              "      <td>rzeka</td>\n",
              "    </tr>\n",
              "  </tbody>\n",
              "</table>\n",
              "</div>"
            ],
            "text/plain": [
              "    osm_id  code  ...                                           geometry  fclass_PL\n",
              "0  5819083  8101  ...  LINESTRING (21.06901 49.44025, 21.06736 49.440...      rzeka\n",
              "1  5819592  8101  ...  LINESTRING (20.68030 49.80995, 20.68049 49.810...      rzeka\n",
              "2  5909314  8101  ...  LINESTRING (21.04776 49.60824, 21.04990 49.609...      rzeka\n",
              "3  5909428  8101  ...  LINESTRING (20.65635 49.69135, 20.66124 49.693...      rzeka\n",
              "4  5909630  8101  ...  LINESTRING (20.47315 49.53902, 20.47866 49.537...      rzeka\n",
              "\n",
              "[5 rows x 7 columns]"
            ]
          },
          "metadata": {
            "tags": []
          },
          "execution_count": 112
        }
      ]
    },
    {
      "cell_type": "code",
      "metadata": {
        "colab": {
          "base_uri": "https://localhost:8080/",
          "height": 168
        },
        "id": "c-D3fD6h-scq",
        "outputId": "e8b55759-7b0d-4219-a1a0-fc9e4e4d1a23"
      },
      "source": [
        "label_counts = waterways[[\"fclass\",\"fclass_PL\"]].value_counts().to_frame().reset_index().rename(columns={0:\"value counts\"})\n",
        "label_counts"
      ],
      "execution_count": 113,
      "outputs": [
        {
          "output_type": "execute_result",
          "data": {
            "text/html": [
              "<div>\n",
              "<style scoped>\n",
              "    .dataframe tbody tr th:only-of-type {\n",
              "        vertical-align: middle;\n",
              "    }\n",
              "\n",
              "    .dataframe tbody tr th {\n",
              "        vertical-align: top;\n",
              "    }\n",
              "\n",
              "    .dataframe thead th {\n",
              "        text-align: right;\n",
              "    }\n",
              "</style>\n",
              "<table border=\"1\" class=\"dataframe\">\n",
              "  <thead>\n",
              "    <tr style=\"text-align: right;\">\n",
              "      <th></th>\n",
              "      <th>fclass</th>\n",
              "      <th>fclass_PL</th>\n",
              "      <th>value counts</th>\n",
              "    </tr>\n",
              "  </thead>\n",
              "  <tbody>\n",
              "    <tr>\n",
              "      <th>0</th>\n",
              "      <td>stream</td>\n",
              "      <td>strumień</td>\n",
              "      <td>43523</td>\n",
              "    </tr>\n",
              "    <tr>\n",
              "      <th>1</th>\n",
              "      <td>river</td>\n",
              "      <td>rzeka</td>\n",
              "      <td>1582</td>\n",
              "    </tr>\n",
              "    <tr>\n",
              "      <th>2</th>\n",
              "      <td>drain</td>\n",
              "      <td>drenaż</td>\n",
              "      <td>1300</td>\n",
              "    </tr>\n",
              "    <tr>\n",
              "      <th>3</th>\n",
              "      <td>canal</td>\n",
              "      <td>kanał</td>\n",
              "      <td>197</td>\n",
              "    </tr>\n",
              "  </tbody>\n",
              "</table>\n",
              "</div>"
            ],
            "text/plain": [
              "   fclass fclass_PL  value counts\n",
              "0  stream  strumień         43523\n",
              "1   river     rzeka          1582\n",
              "2   drain    drenaż          1300\n",
              "3   canal     kanał           197"
            ]
          },
          "metadata": {
            "tags": []
          },
          "execution_count": 113
        }
      ]
    },
    {
      "cell_type": "code",
      "metadata": {
        "colab": {
          "base_uri": "https://localhost:8080/",
          "height": 52
        },
        "id": "FvyliMlG-scq",
        "outputId": "de86845b-1c18-4c12-f573-4ea09a650bb3"
      },
      "source": [
        "label_counts.to_markdown()"
      ],
      "execution_count": 114,
      "outputs": [
        {
          "output_type": "execute_result",
          "data": {
            "application/vnd.google.colaboratory.intrinsic+json": {
              "type": "string"
            },
            "text/plain": [
              "'|    | fclass   | fclass_PL   |   value counts |\\n|---:|:---------|:------------|---------------:|\\n|  0 | stream   | strumień    |          43523 |\\n|  1 | river    | rzeka       |           1582 |\\n|  2 | drain    | drenaż      |           1300 |\\n|  3 | canal    | kanał       |            197 |'"
            ]
          },
          "metadata": {
            "tags": []
          },
          "execution_count": 114
        }
      ]
    },
    {
      "cell_type": "markdown",
      "metadata": {
        "id": "qnLdM9wrE6eX"
      },
      "source": [
        "#maps"
      ]
    },
    {
      "cell_type": "code",
      "metadata": {
        "id": "_6g4BXEuSK97"
      },
      "source": [
        "# m = folium.Map([50.05,19.95], zoom_start=13,\n",
        "#                tiles=\"cartodbpositron\"\n",
        "#                )\n",
        "\n",
        "# folium.GeoJson(water_a).add_to(m)\n",
        "\n",
        "# m"
      ],
      "execution_count": 115,
      "outputs": []
    },
    {
      "cell_type": "code",
      "metadata": {
        "id": "VZm92DYeU1Rv"
      },
      "source": [
        "# m = folium.Map([50.05,19.95], zoom_start=13,\n",
        "#                tiles=\"cartodbpositron\"\n",
        "#                )\n",
        "\n",
        "# folium.GeoJson(natural).add_to(m)\n",
        "\n",
        "# m"
      ],
      "execution_count": 116,
      "outputs": []
    }
  ]
}
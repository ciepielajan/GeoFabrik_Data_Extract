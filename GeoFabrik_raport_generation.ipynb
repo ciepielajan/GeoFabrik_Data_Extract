{
  "nbformat": 4,
  "nbformat_minor": 0,
  "metadata": {
    "colab": {
      "name": "GeoFabrik - raport generation - hurtowy raport zawartości tablic / generator ",
      "provenance": [],
      "authorship_tag": "ABX9TyOcUmNWkG+Do76alBqeJ7kb",
      "include_colab_link": true
    },
    "kernelspec": {
      "name": "python3",
      "display_name": "Python 3"
    },
    "language_info": {
      "name": "python"
    }
  },
  "cells": [
    {
      "cell_type": "markdown",
      "metadata": {
        "id": "view-in-github",
        "colab_type": "text"
      },
      "source": [
        "<a href=\"https://colab.research.google.com/github/ciepielajan/GeoFabrik_Data_Extract/blob/main/GeoFabrik_raport_generation.ipynb\" target=\"_parent\"><img src=\"https://colab.research.google.com/assets/colab-badge.svg\" alt=\"Open In Colab\"/></a>"
      ]
    },
    {
      "cell_type": "code",
      "metadata": {
        "colab": {
          "base_uri": "https://localhost:8080/"
        },
        "id": "IV-I-x170DkC",
        "outputId": "748ee912-3d21-4953-edad-4567c95d2171"
      },
      "source": [
        "import folium\n",
        "import pandas as pd\n",
        "from plotnine import *\n",
        "!pip -q install geopandas\n",
        "from geopandas import GeoDataFrame\n",
        "\n",
        "%matplotlib inline"
      ],
      "execution_count": 1,
      "outputs": [
        {
          "output_type": "stream",
          "text": [
            "\u001b[K     |████████████████████████████████| 1.0MB 5.8MB/s \n",
            "\u001b[K     |████████████████████████████████| 14.8MB 269kB/s \n",
            "\u001b[K     |████████████████████████████████| 6.5MB 41.8MB/s \n",
            "\u001b[?25h"
          ],
          "name": "stdout"
        }
      ]
    },
    {
      "cell_type": "code",
      "metadata": {
        "id": "DFpNk-9aG4RZ"
      },
      "source": [
        "link = \"http://download.geofabrik.de/europe/poland/mazowieckie-latest-free.shp.zip\""
      ],
      "execution_count": 2,
      "outputs": []
    },
    {
      "cell_type": "code",
      "metadata": {
        "colab": {
          "base_uri": "https://localhost:8080/"
        },
        "id": "sDlIhJ8b0Fex",
        "outputId": "be01edd1-4cde-44f2-808c-97d9cc3735c9"
      },
      "source": [
        "!wget $link  -O map.shp.zip"
      ],
      "execution_count": 3,
      "outputs": [
        {
          "output_type": "stream",
          "text": [
            "--2021-04-06 09:08:52--  http://download.geofabrik.de/europe/poland/mazowieckie-latest-free.shp.zip\n",
            "Resolving download.geofabrik.de (download.geofabrik.de)... 138.201.219.183, 116.202.112.212, 88.99.142.44\n",
            "Connecting to download.geofabrik.de (download.geofabrik.de)|138.201.219.183|:80... connected.\n",
            "HTTP request sent, awaiting response... 200 OK\n",
            "Length: 339381802 (324M) [application/zip]\n",
            "Saving to: ‘map.shp.zip’\n",
            "\n",
            "map.shp.zip         100%[===================>] 323.66M  20.6MB/s    in 19s     \n",
            "\n",
            "2021-04-06 09:09:11 (17.1 MB/s) - ‘map.shp.zip’ saved [339381802/339381802]\n",
            "\n"
          ],
          "name": "stdout"
        }
      ]
    },
    {
      "cell_type": "code",
      "metadata": {
        "id": "zcSgtIim0Hn7"
      },
      "source": [
        "!unzip -q map.shp.zip -d /content/maps"
      ],
      "execution_count": 4,
      "outputs": []
    },
    {
      "cell_type": "code",
      "metadata": {
        "colab": {
          "base_uri": "https://localhost:8080/"
        },
        "id": "rMZlizwl0URw",
        "outputId": "5f45c51d-f97b-4cac-d9fa-72d73d02204f"
      },
      "source": [
        "from os import listdir\n",
        "\n",
        "files_dir =  listdir(\"/content/maps\")\n",
        "files_list = []\n",
        "for names in files_dir:\n",
        "    if names.endswith(\".shp\"):\n",
        "        files_list.append(names)\n",
        "        \n",
        "files_list = sorted(files_list)\n",
        "\n",
        "#podgląd\n",
        "print(pd.Series(files_list))"
      ],
      "execution_count": 5,
      "outputs": [
        {
          "output_type": "stream",
          "text": [
            "0     gis_osm_buildings_a_free_1.shp\n",
            "1       gis_osm_landuse_a_free_1.shp\n",
            "2       gis_osm_natural_a_free_1.shp\n",
            "3         gis_osm_natural_free_1.shp\n",
            "4        gis_osm_places_a_free_1.shp\n",
            "5          gis_osm_places_free_1.shp\n",
            "6          gis_osm_pofw_a_free_1.shp\n",
            "7            gis_osm_pofw_free_1.shp\n",
            "8          gis_osm_pois_a_free_1.shp\n",
            "9            gis_osm_pois_free_1.shp\n",
            "10       gis_osm_railways_free_1.shp\n",
            "11          gis_osm_roads_free_1.shp\n",
            "12      gis_osm_traffic_a_free_1.shp\n",
            "13        gis_osm_traffic_free_1.shp\n",
            "14    gis_osm_transport_a_free_1.shp\n",
            "15      gis_osm_transport_free_1.shp\n",
            "16        gis_osm_water_a_free_1.shp\n",
            "17      gis_osm_waterways_free_1.shp\n",
            "dtype: object\n"
          ],
          "name": "stdout"
        }
      ]
    },
    {
      "cell_type": "code",
      "metadata": {
        "id": "_8vdDtX91UZA",
        "outputId": "7e6862ef-9346-469e-a6ee-f722f4cccb03",
        "colab": {
          "base_uri": "https://localhost:8080/"
        }
      },
      "source": [
        "%time\n",
        "data_frames = {}\n",
        "for name in files_list:\n",
        "  name_df = name.split(\".\")[0]\n",
        "  data_frames[name_df] = GeoDataFrame.from_file(f'maps/{name}', encoding='utf-8')"
      ],
      "execution_count": 6,
      "outputs": [
        {
          "output_type": "stream",
          "text": [
            "CPU times: user 5 µs, sys: 1 µs, total: 6 µs\n",
            "Wall time: 11.2 µs\n"
          ],
          "name": "stdout"
        }
      ]
    },
    {
      "cell_type": "code",
      "metadata": {
        "colab": {
          "base_uri": "https://localhost:8080/"
        },
        "id": "vHRdBWY_1jjW",
        "outputId": "33144d84-0b48-42cf-9670-dfe9227c02bb"
      },
      "source": [
        "#podgląd\n",
        "data_frames.keys()"
      ],
      "execution_count": 7,
      "outputs": [
        {
          "output_type": "execute_result",
          "data": {
            "text/plain": [
              "dict_keys(['gis_osm_buildings_a_free_1', 'gis_osm_landuse_a_free_1', 'gis_osm_natural_a_free_1', 'gis_osm_natural_free_1', 'gis_osm_places_a_free_1', 'gis_osm_places_free_1', 'gis_osm_pofw_a_free_1', 'gis_osm_pofw_free_1', 'gis_osm_pois_a_free_1', 'gis_osm_pois_free_1', 'gis_osm_railways_free_1', 'gis_osm_roads_free_1', 'gis_osm_traffic_a_free_1', 'gis_osm_traffic_free_1', 'gis_osm_transport_a_free_1', 'gis_osm_transport_free_1', 'gis_osm_water_a_free_1', 'gis_osm_waterways_free_1'])"
            ]
          },
          "metadata": {
            "tags": []
          },
          "execution_count": 7
        }
      ]
    },
    {
      "cell_type": "code",
      "metadata": {
        "colab": {
          "base_uri": "https://localhost:8080/",
          "height": 86
        },
        "id": "gVdKXcd6611B",
        "outputId": "acc2bee9-e231-4a9d-cf26-d23400f8dd37"
      },
      "source": [
        "region = \" - \".join(link.split(\"http://download.geofabrik.de/\")[1].split(\"-latest\")[0].split(\"/\")).upper()\n",
        "\n",
        "raport = \"\"\n",
        "raport += f\"# Raport region: {region}\"\n",
        "raport += \"\\n\\n\"\n",
        "\n",
        "for name in data_frames:\n",
        "  title = name.split(\"gis_osm_\")[1].split(\"_free_1\")[0].upper()\n",
        "  raport += f\"## {title}\"\n",
        "  raport += \"\\n\"\n",
        "  raport += f\"Nazwa plik: {name}.shp\"\n",
        "  raport += \"\\n\\n\"\n",
        "  raport += f\"Ilość rekordów: {data_frames.get(name).shape[0]} \"\n",
        "  raport += \"\\n\\n\"\n",
        "  raport += \"Sample index \"\n",
        "  raport += \"\\n\"\n",
        "  raport += data_frames.get(name).sample(1).to_markdown()\n",
        "  raport += \"\\n\\n\"\n",
        "  raport += \"Value counts for fclass\"\n",
        "  raport += \"\\n\"\n",
        "  raport += data_frames.get(name)[\"fclass\"].value_counts().to_markdown()\n",
        "  raport += \"\\n\\n\"\n",
        "\n",
        "raport"
      ],
      "execution_count": 8,
      "outputs": [
        {
          "output_type": "execute_result",
          "data": {
            "application/vnd.google.colaboratory.intrinsic+json": {
              "type": "string"
            },
            "text/plain": [
              "'# Raport region: EUROPE - POLAND - MAZOWIECKIE\\n\\n## BUILDINGS_A\\nNazwa plik: gis_osm_buildings_a_free_1.shp\\n\\nIlość rekordów: 1881692 \\n\\nSample index \\n|         |    osm_id |   code | fclass   | name   | type     | geometry                                                                                                                     |\\n|--------:|----------:|-------:|:---------|:-------|:---------|:-----------------------------------------------------------------------------------------------------------------------------|\\n| 1838277 | 921453246 |   1500 | building |        | bungalow | POLYGON ((20.3717179 51.9040274, 20.371729 51.9040646, 20.3718541 51.9040502, 20.3718429 51.9040131, 20.3717179 51.9040274)) |\\n\\nValue counts for fclass\\n|          |      fclass |\\n|:---------|------------:|\\n| building | 1.88169e+06 |\\n\\n## LANDUSE_A\\nNazwa plik: gis_osm_landuse_a_free_1.shp\\n\\nIlość rekordów: 362124 \\n\\nSample index \\n|        |    osm_id |   code | fclass   | name   | geometry                                                                                                                                                                                                                                                                                                                                                                                                                                                                                                                                                                                                                                                                                                                                                                                                         |\\n|-------:|----------:|-------:|:---------|:-------|:-----------------------------------------------------------------------------------------------------------------------------------------------------------------------------------------------------------------------------------------------------------------------------------------------------------------------------------------------------------------------------------------------------------------------------------------------------------------------------------------------------------------------------------------------------------------------------------------------------------------------------------------------------------------------------------------------------------------------------------------------------------------------------------------------------------------|\\n| 154695 | 607526565 |   7229 | farmland |        | POLYGON ((20.8879113 53.0540569, 20.888447 53.0539482, 20.894569 53.0522212, 20.8928854 53.0498794, 20.8918906 53.048583, 20.8915219 53.0480393, 20.8912019 53.0481063, 20.8902836 53.0484366, 20.8901236 53.0484492, 20.8892122 53.0483572, 20.8890522 53.0483864, 20.8885096 53.0486583, 20.8884192 53.0487837, 20.8883844 53.0489217, 20.8884609 53.0492145, 20.8884679 53.0495532, 20.8886418 53.0495992, 20.888767 53.0497498, 20.8914732 53.049181, 20.892155 53.0500132, 20.8917654 53.0500969, 20.8912436 53.0501554, 20.8911045 53.0501596, 20.8899705 53.0499547, 20.8889688 53.0501554, 20.8886487 53.0497539, 20.8884679 53.0497958, 20.8883774 53.0505485, 20.88828 53.0508245, 20.8880505 53.0515019, 20.8879739 53.0521794, 20.8880644 53.0529697, 20.8880922 53.0536053, 20.8879113 53.0540569)) |\\n\\nValue counts for fclass\\n|                   |   fclass |\\n|:------------------|---------:|\\n| farmland          |   126108 |\\n| grass             |    67596 |\\n| forest            |    58948 |\\n| residential       |    46922 |\\n| orchard           |    20112 |\\n| scrub             |    12984 |\\n| meadow            |     7703 |\\n| farmyard          |     7465 |\\n| cemetery          |     3832 |\\n| industrial        |     3373 |\\n| retail            |     1987 |\\n| park              |     1359 |\\n| nature_reserve    |     1167 |\\n| commercial        |     1123 |\\n| allotments        |      689 |\\n| recreation_ground |      284 |\\n| quarry            |      186 |\\n| military          |      152 |\\n| heath             |       90 |\\n| vineyard          |       44 |\\n\\n## NATURAL_A\\nNazwa plik: gis_osm_natural_a_free_1.shp\\n\\nIlość rekordów: 233 \\n\\nSample index \\n|    |    osm_id |   code | fclass   | name   | geometry                                                                                                                                                                                                                                                                                                          |\\n|---:|----------:|-------:|:---------|:-------|:------------------------------------------------------------------------------------------------------------------------------------------------------------------------------------------------------------------------------------------------------------------------------------------------------------------|\\n| 66 | 358631199 |   4141 | beach    |        | POLYGON ((19.3220831 52.5247772, 19.3221107 52.5248992, 19.3222406 52.524936, 19.3226585 52.5252685, 19.3227673 52.5253243, 19.3229189 52.5252669, 19.322707 52.5251559, 19.3225354 52.5249905, 19.3223699 52.5248508, 19.3222766 52.5246763, 19.3221767 52.524435, 19.322128 52.5245333, 19.3220831 52.5247772)) |\\n\\nValue counts for fclass\\n|               |   fclass |\\n|:--------------|---------:|\\n| beach         |      226 |\\n| cliff         |        3 |\\n| tree          |        2 |\\n| cave_entrance |        1 |\\n| spring        |        1 |\\n\\n## NATURAL\\nNazwa plik: gis_osm_natural_free_1.shp\\n\\nIlość rekordów: 77464 \\n\\nSample index \\n|       |     osm_id |   code | fclass   | name   | geometry                      |\\n|------:|-----------:|-------:|:---------|:-------|:------------------------------|\\n| 76430 | 8570024465 |   4121 | tree     |        | POINT (21.1097033 51.3732136) |\\n\\nValue counts for fclass\\n|               |   fclass |\\n|:--------------|---------:|\\n| tree          |    77228 |\\n| peak          |      197 |\\n| spring        |       25 |\\n| beach         |        9 |\\n| cave_entrance |        4 |\\n| cliff         |        1 |\\n\\n## PLACES_A\\nNazwa plik: gis_osm_places_a_free_1.shp\\n\\nIlość rekordów: 90 \\n\\nSample index \\n|    |   osm_id |   code | fclass   |   population | name   | geometry                                                                                                                                                                                                                                                               |\\n|---:|---------:|-------:|:---------|-------------:|:-------|:-----------------------------------------------------------------------------------------------------------------------------------------------------------------------------------------------------------------------------------------------------------------------|\\n|  5 | 30775343 |   1020 | island   |            0 |        | POLYGON ((20.4930815 52.4210334, 20.4948571 52.4218431, 20.4957862 52.4222383, 20.4967057 52.4225236, 20.4975634 52.4224591, 20.4986015 52.4226221, 20.4984212 52.4223283, 20.4965792 52.4216738, 20.4955872 52.4214708, 20.494171 52.4211172, 20.4930815 52.4210334)) |\\n\\nValue counts for fclass\\n|          |   fclass |\\n|:---------|---------:|\\n| island   |       72 |\\n| locality |       10 |\\n| hamlet   |        4 |\\n| suburb   |        2 |\\n| farm     |        1 |\\n| village  |        1 |\\n\\n## PLACES\\nNazwa plik: gis_osm_places_free_1.shp\\n\\nIlość rekordów: 15511 \\n\\nSample index \\n|     |   osm_id |   code | fclass   |   population | name     | geometry                      |\\n|----:|---------:|-------:|:---------|-------------:|:---------|:------------------------------|\\n| 941 | 31598975 |   1003 | village  |            0 | Setropie | POINT (19.9971116 52.6998793) |\\n\\nValue counts for fclass\\n|                  |   fclass |\\n|:-----------------|---------:|\\n| village          |     8725 |\\n| hamlet           |     6301 |\\n| locality         |      249 |\\n| suburb           |      139 |\\n| town             |       92 |\\n| city             |        4 |\\n| national_capital |        1 |\\n\\n## POFW_A\\nNazwa plik: gis_osm_pofw_a_free_1.shp\\n\\nIlość rekordów: 2773 \\n\\nSample index \\n|      |    osm_id |   code | fclass    | name                 | geometry                                                                                                                                                                   |\\n|-----:|----------:|-------:|:----------|:---------------------|:---------------------------------------------------------------------------------------------------------------------------------------------------------------------------|\\n| 1216 | 278749641 |   3100 | christian | Klasztor Bonifratrów | POLYGON ((21.0005837 52.2533535, 21.0006859 52.2533907, 21.0006928 52.2533835, 21.0007296 52.2533453, 21.000805 52.2532672, 21.0007028 52.2532301, 21.0005837 52.2533535)) |\\n\\nValue counts for fclass\\n|                       |   fclass |\\n|:----------------------|---------:|\\n| christian             |     2522 |\\n| christian_catholic    |      118 |\\n| jewish                |       48 |\\n| christian_lutheran    |       37 |\\n| christian_orthodox    |       25 |\\n| christian_evangelical |        9 |\\n| christian_protestant  |        6 |\\n| buddhist              |        3 |\\n| muslim                |        3 |\\n| muslim_sunni          |        2 |\\n\\n## POFW\\nNazwa plik: gis_osm_pofw_free_1.shp\\n\\nIlość rekordów: 974 \\n\\nSample index \\n|     |     osm_id |   code | fclass             | name   | geometry                      |\\n|----:|-----------:|-------:|:-------------------|:-------|:------------------------------|\\n| 863 | 8298279280 |   3102 | christian_catholic |        | POINT (21.1997506 51.3638138) |\\n\\nValue counts for fclass\\n|                       |   fclass |\\n|:----------------------|---------:|\\n| christian             |      508 |\\n| christian_catholic    |      448 |\\n| christian_orthodox    |        7 |\\n| jewish                |        5 |\\n| buddhist              |        2 |\\n| christian_evangelical |        2 |\\n| hindu                 |        1 |\\n| christian_methodist   |        1 |\\n\\n## POIS_A\\nNazwa plik: gis_osm_pois_a_free_1.shp\\n\\nIlość rekordów: 24662 \\n\\nSample index \\n|      |    osm_id |   code | fclass   | name                     | geometry                                                                                                                                                                                                                                                                                                                                |\\n|-----:|----------:|-------:|:---------|:-------------------------|:----------------------------------------------------------------------------------------------------------------------------------------------------------------------------------------------------------------------------------------------------------------------------------------------------------------------------------------|\\n| 5157 | 221574197 |   2082 | school   | Zespół Szkół w Wołominie | POLYGON ((21.2429229 52.3360427, 21.2436226 52.336064, 21.2436513 52.3357115, 21.2437839 52.3357156, 21.2437901 52.33564, 21.2435503 52.3356327, 21.2435478 52.3356627, 21.2434176 52.3356588, 21.2433945 52.3359412, 21.243079 52.3359316, 21.243141 52.3351707, 21.2429943 52.3351662, 21.2429798 52.3353444, 21.2429229 52.3360427)) |\\n\\nValue counts for fclass\\n|                   |   fclass |\\n|:------------------|---------:|\\n| pitch             |     4579 |\\n| graveyard         |     3832 |\\n| playground        |     3040 |\\n| school            |     1572 |\\n| park              |     1244 |\\n| kindergarten      |      744 |\\n| supermarket       |      668 |\\n| convenience       |      613 |\\n| shelter           |      602 |\\n| fire_station      |      483 |\\n| attraction        |      343 |\\n| track             |      319 |\\n| sports_centre     |      317 |\\n| restaurant        |      312 |\\n| car_wash          |      281 |\\n| kiosk             |      275 |\\n| hotel             |      266 |\\n| mall              |      198 |\\n| car_dealership    |      194 |\\n| fast_food         |      189 |\\n| swimming_pool     |      177 |\\n| doctors           |      175 |\\n| town_hall         |      167 |\\n| doityourself      |      147 |\\n| police            |      147 |\\n| university        |      141 |\\n| hospital          |      139 |\\n| stadium           |      133 |\\n| fountain          |      130 |\\n| public_building   |      118 |\\n| florist           |      112 |\\n| bank              |      111 |\\n| toilet            |      107 |\\n| tower             |      104 |\\n| wastewater_plant  |      100 |\\n| post_office       |      100 |\\n| library           |       95 |\\n| greengrocer       |       93 |\\n| museum            |       92 |\\n| bakery            |       91 |\\n| community_centre  |       87 |\\n| memorial          |       82 |\\n| arts_centre       |       82 |\\n| pharmacy          |       78 |\\n| ruins             |       74 |\\n| recycling         |       73 |\\n| guesthouse        |       60 |\\n| garden_centre     |       58 |\\n| cafe              |       58 |\\n| beverages         |       57 |\\n| clothes           |       57 |\\n| furniture_shop    |       56 |\\n| hairdresser       |       53 |\\n| fort              |       53 |\\n| courthouse        |       49 |\\n| water_works       |       48 |\\n| drinking_water    |       48 |\\n| college           |       47 |\\n| theatre           |       44 |\\n| veterinary        |       40 |\\n| castle            |       38 |\\n| bar               |       38 |\\n| bench             |       36 |\\n| bicycle_rental    |       34 |\\n| newsagent         |       31 |\\n| wayside_shrine    |       30 |\\n| water_tower       |       29 |\\n| food_court        |       29 |\\n| dog_park          |       29 |\\n| butcher           |       29 |\\n| chalet            |       29 |\\n| chemist           |       28 |\\n| pub               |       26 |\\n| hostel            |       24 |\\n| camp_site         |       24 |\\n| water_well        |       22 |\\n| bicycle_shop      |       22 |\\n| picnic_site       |       22 |\\n| dentist           |       21 |\\n| beauty_shop       |       19 |\\n| monument          |       18 |\\n| artwork           |       18 |\\n| stationery        |       17 |\\n| windmill          |       16 |\\n| biergarten        |       16 |\\n| motel             |       15 |\\n| department_store  |       15 |\\n| water_mill        |       13 |\\n| prison            |       13 |\\n| observation_tower |       11 |\\n| ice_rink          |       11 |\\n| laundry           |       11 |\\n| golf_course       |       11 |\\n| archaeological    |       11 |\\n| nightclub         |       10 |\\n| bookshop          |       10 |\\n| sports_shop       |       10 |\\n| theme_park        |       10 |\\n| comms_tower       |        9 |\\n| tourist_info      |        9 |\\n| cinema            |        9 |\\n| computer_shop     |        8 |\\n| mobile_phone_shop |        7 |\\n| recycling_glass   |        7 |\\n| car_rental        |        6 |\\n| optician          |        5 |\\n| recycling_metal   |        5 |\\n| nursing_home      |        5 |\\n| recycling_paper   |        5 |\\n| gift_shop         |        5 |\\n| jeweller          |        4 |\\n| viewpoint         |        4 |\\n| waste_basket      |        4 |\\n| zoo               |        4 |\\n| shoe_shop         |        4 |\\n| battlefield       |        3 |\\n| atm               |        2 |\\n| toy_shop          |        2 |\\n| travel_agent      |        1 |\\n| wayside_cross     |        1 |\\n| vending_machine   |        1 |\\n| hunting_stand     |        1 |\\n| outdoor_shop      |        1 |\\n\\n## POIS\\nNazwa plik: gis_osm_pois_free_1.shp\\n\\nIlość rekordów: 45880 \\n\\nSample index \\n|       |     osm_id |   code | fclass   | name   | geometry                      |\\n|------:|-----------:|-------:|:---------|:-------|:------------------------------|\\n| 21274 | 4535022386 |   2303 | cafe     | Costa  | POINT (20.9530084 52.3178651) |\\n\\nValue counts for fclass\\n|                     |   fclass |\\n|:--------------------|---------:|\\n| bench               |     7845 |\\n| waste_basket        |     3111 |\\n| convenience         |     2661 |\\n| restaurant          |     2227 |\\n| memorial            |     1592 |\\n| atm                 |     1479 |\\n| pharmacy            |     1219 |\\n| wayside_shrine      |     1206 |\\n| clothes             |     1139 |\\n| tourist_info        |     1033 |\\n| fast_food           |     1030 |\\n| wayside_cross       |     1024 |\\n| shelter             |      931 |\\n| bank                |      910 |\\n| hairdresser         |      733 |\\n| cafe                |      702 |\\n| supermarket         |      667 |\\n| vending_any         |      642 |\\n| bakery              |      571 |\\n| bicycle_rental      |      511 |\\n| doctors             |      483 |\\n| post_office         |      452 |\\n| beauty_shop         |      439 |\\n| playground          |      431 |\\n| post_box            |      417 |\\n| dentist             |      405 |\\n| recycling           |      394 |\\n| florist             |      394 |\\n| artwork             |      390 |\\n| attraction          |      370 |\\n| school              |      368 |\\n| library             |      362 |\\n| kindergarten        |      335 |\\n| kiosk               |      325 |\\n| toilet              |      320 |\\n| beverages           |      309 |\\n| fire_station        |      300 |\\n| butcher             |      295 |\\n| chemist             |      291 |\\n| bar                 |      270 |\\n| ruins               |      264 |\\n| camera_surveillance |      261 |\\n| car_wash            |      244 |\\n| doityourself        |      229 |\\n| hotel               |      226 |\\n| shoe_shop           |      221 |\\n| fountain            |      218 |\\n| vending_parking     |      217 |\\n| bookshop            |      204 |\\n| pub                 |      203 |\\n| optician            |      199 |\\n| bicycle_shop        |      199 |\\n| comms_tower         |      199 |\\n| veterinary          |      196 |\\n| greengrocer         |      171 |\\n| jeweller            |      169 |\\n| viewpoint           |      169 |\\n| tower               |      162 |\\n| furniture_shop      |      156 |\\n| mobile_phone_shop   |      154 |\\n| laundry             |      137 |\\n| drinking_water      |      124 |\\n| museum              |      121 |\\n| computer_shop       |      117 |\\n| picnic_site         |      115 |\\n| car_dealership      |      113 |\\n| pitch               |      109 |\\n| town_hall           |      106 |\\n| monument            |      101 |\\n| sports_shop         |      100 |\\n| sports_centre       |       96 |\\n| police              |       93 |\\n| guesthouse          |       91 |\\n| toy_shop            |       90 |\\n| community_centre    |       89 |\\n| travel_agent        |       89 |\\n| archaeological      |       87 |\\n| stationery          |       86 |\\n| hunting_stand       |       81 |\\n| newsagent           |       78 |\\n| hostel              |       73 |\\n| water_well          |       70 |\\n| arts_centre         |       66 |\\n| nightclub           |       61 |\\n| hospital            |       57 |\\n| garden_centre       |       56 |\\n| gift_shop           |       53 |\\n| chalet              |       51 |\\n| recycling_glass     |       51 |\\n| cinema              |       48 |\\n| theatre             |       47 |\\n| recycling_clothes   |       45 |\\n| swimming_pool       |       37 |\\n| university          |       36 |\\n| motel               |       34 |\\n| car_rental          |       31 |\\n| public_building     |       29 |\\n| mall                |       28 |\\n| vending_machine     |       28 |\\n| department_store    |       25 |\\n| wastewater_plant    |       24 |\\n| outdoor_shop        |       24 |\\n| castle              |       23 |\\n| observation_tower   |       22 |\\n| college             |       20 |\\n| biergarten          |       17 |\\n| camp_site           |       16 |\\n| graveyard           |       14 |\\n| water_works         |       14 |\\n| courthouse          |       12 |\\n| food_court          |       11 |\\n| recycling_paper     |       10 |\\n| battlefield         |        8 |\\n| caravan_site        |        8 |\\n| theme_park          |        8 |\\n| video_shop          |        7 |\\n| water_tower         |        7 |\\n| nursing_home        |        7 |\\n| water_mill          |        6 |\\n| windmill            |        6 |\\n| stadium             |        5 |\\n| fort                |        5 |\\n| recycling_metal     |        4 |\\n| track               |        3 |\\n| golf_course         |        2 |\\n| prison              |        1 |\\n| zoo                 |        1 |\\n| car_sharing         |        1 |\\n| alpine_hut          |        1 |\\n\\n## RAILWAYS\\nNazwa plik: gis_osm_railways_free_1.shp\\n\\nIlość rekordów: 6806 \\n\\nSample index \\n|      |    osm_id |   code | fclass   | name   |   layer | bridge   | tunnel   | geometry                                                                                                                                                                                                                                                                                                                                                                                                                                                                                                                                                                                                                                                                                                                                                                                                                                                                                                         |\\n|-----:|----------:|-------:|:---------|:-------|--------:|:---------|:---------|:-----------------------------------------------------------------------------------------------------------------------------------------------------------------------------------------------------------------------------------------------------------------------------------------------------------------------------------------------------------------------------------------------------------------------------------------------------------------------------------------------------------------------------------------------------------------------------------------------------------------------------------------------------------------------------------------------------------------------------------------------------------------------------------------------------------------------------------------------------------------------------------------------------------------|\\n| 3701 | 314013102 |   6104 | tram     |        |       0 | F        | F        | LINESTRING (20.941714 52.3327441, 20.9416955 52.3325899, 20.9416874 52.3325379, 20.9416683 52.3323722, 20.9416538 52.3322767, 20.9416417 52.3321964, 20.9416376 52.332158, 20.9414316 52.3307706, 20.9414271 52.3307406, 20.9414232 52.3307131, 20.941208 52.3291944, 20.9412027 52.3291603, 20.9410047 52.3278511, 20.9409826 52.327692, 20.9409768 52.3276499, 20.9409654 52.327578, 20.9409524 52.3274898, 20.9409429 52.3274141, 20.9409332 52.3273375, 20.9409283 52.3272985, 20.9408963 52.3270899, 20.9408161 52.3265057, 20.9408044 52.3262285, 20.9408292 52.3259277, 20.9408942 52.3256374, 20.9409536 52.3254441, 20.9410012 52.3253026, 20.9410823 52.3251177, 20.9411937 52.3249127, 20.9413232 52.3247117, 20.9414489 52.3245353, 20.9416366 52.3243129, 20.9417365 52.3241996, 20.9418457 52.3240899, 20.9420925 52.3238739, 20.9425466 52.3235481, 20.9427668 52.3234086, 20.9430218 52.3232632) |\\n\\nValue counts for fclass\\n|              |   fclass |\\n|:-------------|---------:|\\n| rail         |     5382 |\\n| tram         |     1180 |\\n| subway       |      138 |\\n| narrow_gauge |      106 |\\n\\n## ROADS\\nNazwa plik: gis_osm_roads_free_1.shp\\n\\nIlość rekordów: 461690 \\n\\nSample index \\n|        |    osm_id |   code | fclass    | name      |   ref | oneway   |   maxspeed |   layer | bridge   | tunnel   | geometry                                                                        |\\n|-------:|----------:|-------:|:----------|:----------|------:|:---------|-----------:|--------:|:---------|:---------|:--------------------------------------------------------------------------------|\\n| 191617 | 336410994 |   5114 | secondary | Słoneczna |   721 | B        |         40 |       0 | F        | F        | LINESTRING (20.9478986 52.0861043, 20.9480309 52.0860733, 20.948534 52.0859542) |\\n\\nValue counts for fclass\\n|                |   fclass |\\n|:---------------|---------:|\\n| footway        |   120891 |\\n| service        |    88777 |\\n| track          |    68340 |\\n| residential    |    63226 |\\n| path           |    22831 |\\n| tertiary       |    19977 |\\n| unclassified   |    12015 |\\n| secondary      |    11333 |\\n| cycleway       |     8483 |\\n| primary        |     7658 |\\n| living_street  |     6838 |\\n| steps          |     6808 |\\n| track_grade4   |     4236 |\\n| track_grade3   |     4079 |\\n| track_grade5   |     3891 |\\n| track_grade2   |     3045 |\\n| track_grade1   |     2255 |\\n| pedestrian     |     1861 |\\n| trunk          |     1718 |\\n| trunk_link     |     1075 |\\n| primary_link   |      791 |\\n| secondary_link |      649 |\\n| tertiary_link  |      432 |\\n| motorway       |      254 |\\n| motorway_link  |      130 |\\n| bridleway      |       96 |\\n| unknown        |        1 |\\n\\n## TRAFFIC_A\\nNazwa plik: gis_osm_traffic_a_free_1.shp\\n\\nIlość rekordów: 21875 \\n\\nSample index \\n|      |    osm_id |   code | fclass   | name   | geometry                                                                                                                      |\\n|-----:|----------:|-------:|:---------|:-------|:------------------------------------------------------------------------------------------------------------------------------|\\n| 7450 | 352174419 |   5260 | parking  |        | POLYGON ((20.9407629 52.2786398, 20.9407742 52.2786758, 20.9412042 52.2786251, 20.9411928 52.2785891, 20.9407629 52.2786398)) |\\n\\nValue counts for fclass\\n|                     |   fclass |\\n|:--------------------|---------:|\\n| parking             |    21000 |\\n| fuel                |      465 |\\n| parking_bicycle     |      125 |\\n| pier                |       84 |\\n| parking_multistorey |       78 |\\n| service             |       47 |\\n| parking_underground |       32 |\\n| marina              |       29 |\\n| dam                 |       14 |\\n| weir                |        1 |\\n\\n## TRAFFIC\\nNazwa plik: gis_osm_traffic_free_1.shp\\n\\nIlość rekordów: 68579 \\n\\nSample index \\n|       |     osm_id |   code | fclass   | name   | geometry                      |\\n|------:|-----------:|-------:|:---------|:-------|:------------------------------|\\n| 51318 | 6509556399 |   5204 | crossing |        | POINT (21.0924439 52.8653054) |\\n\\nValue counts for fclass\\n|                     |   fclass |\\n|:--------------------|---------:|\\n| crossing            |    45884 |\\n| street_lamp         |    12526 |\\n| traffic_signals     |     3359 |\\n| turning_circle      |     2394 |\\n| parking_bicycle     |     1776 |\\n| parking             |      952 |\\n| fuel                |      649 |\\n| stop                |      411 |\\n| motorway_junction   |      237 |\\n| speed_camera        |      113 |\\n| weir                |       85 |\\n| mini_roundabout     |       48 |\\n| parking_underground |       39 |\\n| slipway             |       32 |\\n| marina              |       25 |\\n| dam                 |       22 |\\n| lock_gate           |       14 |\\n| parking_multistorey |        9 |\\n| waterfall           |        4 |\\n\\n## TRANSPORT_A\\nNazwa plik: gis_osm_transport_a_free_1.shp\\n\\nIlość rekordów: 246 \\n\\nSample index \\n|    |   osm_id |   code | fclass   | name            | geometry                                                                                                                                                                                                                                                                                                                                                                                                                                     |\\n|---:|---------:|-------:|:---------|:----------------|:---------------------------------------------------------------------------------------------------------------------------------------------------------------------------------------------------------------------------------------------------------------------------------------------------------------------------------------------------------------------------------------------------------------------------------------------|\\n| 95 |  4424550 |   5651 | airport  | Lądowisko Gassy | MULTIPOLYGON (((21.1824925 52.0782646, 21.1832777 52.078262, 21.1927896 52.0748341, 21.1927242 52.0746851, 21.1925813 52.0743604, 21.1924985 52.0741629, 21.1834508 52.077423, 21.18432 52.0758524, 21.1838533 52.0759363, 21.1837251 52.0760059, 21.1824925 52.0782646)), ((21.1829858 52.0750389, 21.1832373 52.0759717, 21.183823 52.075844, 21.1852628 52.0755549, 21.1853574 52.075482, 21.1851659 52.0746978, 21.1829858 52.0750389))) |\\n\\nValue counts for fclass\\n|                 |   fclass |\\n|:----------------|---------:|\\n| apron           |       67 |\\n| taxi            |       52 |\\n| helipad         |       46 |\\n| bus_station     |       32 |\\n| airport         |       27 |\\n| bus_stop        |       16 |\\n| airfield        |        3 |\\n| railway_station |        2 |\\n| railway_halt    |        1 |\\n\\n## TRANSPORT\\nNazwa plik: gis_osm_transport_free_1.shp\\n\\nIlość rekordów: 13792 \\n\\nSample index \\n|      |     osm_id |   code | fclass   | name       | geometry                      |\\n|-----:|-----------:|-------:|:---------|:-----------|:------------------------------|\\n| 6177 | 2862650794 |   5621 | bus_stop | Nadziei 01 | POINT (21.0508954 52.0918562) |\\n\\nValue counts for fclass\\n|                 |   fclass |\\n|:----------------|---------:|\\n| bus_stop        |    12582 |\\n| tram_stop       |      592 |\\n| railway_halt    |      235 |\\n| railway_station |      144 |\\n| taxi            |      127 |\\n| bus_station     |       47 |\\n| helipad         |       36 |\\n| ferry_terminal  |       23 |\\n| airport         |        5 |\\n| airfield        |        1 |\\n\\n## WATER_A\\nNazwa plik: gis_osm_water_a_free_1.shp\\n\\nIlość rekordów: 26757 \\n\\nSample index \\n|      |    osm_id |   code | fclass   | name   | geometry                                                                                                                                                                                                                                                                                                                                                                                                                                                                      |\\n|-----:|----------:|-------:|:---------|:-------|:------------------------------------------------------------------------------------------------------------------------------------------------------------------------------------------------------------------------------------------------------------------------------------------------------------------------------------------------------------------------------------------------------------------------------------------------------------------------------|\\n| 5135 | 262826217 |   8200 | water    |        | POLYGON ((21.2496171 51.973926, 21.2497233 51.9739423, 21.2498401 51.973939, 21.2499197 51.97389, 21.2503869 51.9736284, 21.250647 51.9733537, 21.2508434 51.9731771, 21.2508646 51.973079, 21.2507638 51.9730234, 21.2505992 51.9730169, 21.250493 51.9730332, 21.250424 51.9731869, 21.2504134 51.9733112, 21.2503232 51.9734256, 21.2502382 51.9735205, 21.2500896 51.9736316, 21.2499516 51.9736938, 21.2498295 51.9737755, 21.2496702 51.9738475, 21.2496171 51.973926)) |\\n\\nValue counts for fclass\\n|           |   fclass |\\n|:----------|---------:|\\n| water     |    18881 |\\n| reservoir |     4756 |\\n| wetland   |     2620 |\\n| riverbank |      255 |\\n| river     |      245 |\\n\\n## WATERWAYS\\nNazwa plik: gis_osm_waterways_free_1.shp\\n\\nIlość rekordów: 15713 \\n\\nSample index \\n|      |    osm_id |   code | fclass   |   width | name   | geometry                                                  |\\n|-----:|----------:|-------:|:---------|--------:|:-------|:----------------------------------------------------------|\\n| 8785 | 676215311 |   8102 | stream   |       0 |        | LINESTRING (20.6002941 51.3089528, 20.6006464 51.3087783) |\\n\\nValue counts for fclass\\n|        |   fclass |\\n|:-------|---------:|\\n| drain  |     6950 |\\n| stream |     6559 |\\n| river  |     1587 |\\n| canal  |      617 |\\n\\n'"
            ]
          },
          "metadata": {
            "tags": []
          },
          "execution_count": 8
        }
      ]
    },
    {
      "cell_type": "code",
      "metadata": {
        "id": "SyP4MvxJIRoa"
      },
      "source": [
        "file_name= region.lower().replace(\" \",\"\")\n",
        "file_name = f\"raport-{file_name}.md\"\n",
        "f = open(file_name, \"a\")\n",
        "f.write(raport)\n",
        "f.close()\n",
        "\n",
        "#auto-run download to local\n",
        "from google.colab import files\n",
        "files.download(file_name)"
      ],
      "execution_count": 11,
      "outputs": []
    }
  ]
}
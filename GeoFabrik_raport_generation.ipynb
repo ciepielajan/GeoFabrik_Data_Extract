{
  "nbformat": 4,
  "nbformat_minor": 0,
  "metadata": {
    "colab": {
      "name": "GeoFabrik - raport generation - hurtowy raport zawartości tablic / generator ",
      "provenance": [],
      "authorship_tag": "ABX9TyNQs8MQp+WjMAi3giwrVME5",
      "include_colab_link": true
    },
    "kernelspec": {
      "name": "python3",
      "display_name": "Python 3"
    },
    "language_info": {
      "name": "python"
    }
  },
  "cells": [
    {
      "cell_type": "markdown",
      "metadata": {
        "id": "view-in-github",
        "colab_type": "text"
      },
      "source": [
        "<a href=\"https://colab.research.google.com/github/ciepielajan/GeoFabrik_Data_Extract/blob/main/GeoFabrik_raport_generation.ipynb\" target=\"_parent\"><img src=\"https://colab.research.google.com/assets/colab-badge.svg\" alt=\"Open In Colab\"/></a>"
      ]
    },
    {
      "cell_type": "code",
      "metadata": {
        "colab": {
          "base_uri": "https://localhost:8080/"
        },
        "id": "IV-I-x170DkC",
        "outputId": "70d2de59-5019-4b95-998a-bb381f39482d"
      },
      "source": [
        "import folium\n",
        "import pandas as pd\n",
        "from plotnine import *\n",
        "!pip -q install geopandas\n",
        "from geopandas import GeoDataFrame\n",
        "\n",
        "%matplotlib inline"
      ],
      "execution_count": 1,
      "outputs": [
        {
          "output_type": "stream",
          "text": [
            "\u001b[K     |████████████████████████████████| 1.0MB 4.4MB/s \n",
            "\u001b[K     |████████████████████████████████| 6.5MB 11.5MB/s \n",
            "\u001b[K     |████████████████████████████████| 14.8MB 278kB/s \n",
            "\u001b[?25h"
          ],
          "name": "stdout"
        }
      ]
    },
    {
      "cell_type": "code",
      "metadata": {
        "id": "DFpNk-9aG4RZ"
      },
      "source": [
        "link = \"http://download.geofabrik.de/europe/poland/malopolskie-latest-free.shp.zip\""
      ],
      "execution_count": 101,
      "outputs": []
    },
    {
      "cell_type": "code",
      "metadata": {
        "colab": {
          "base_uri": "https://localhost:8080/"
        },
        "id": "sDlIhJ8b0Fex",
        "outputId": "576a5ff7-f14e-433f-d101-cb67de27a749"
      },
      "source": [
        "!wget $link  -O map.shp.zip"
      ],
      "execution_count": 80,
      "outputs": [
        {
          "output_type": "stream",
          "text": [
            "--2021-04-06 07:35:53--  http://download.geofabrik.de/europe/poland/malopolskie-latest-free.shp.zip\n",
            "Resolving download.geofabrik.de (download.geofabrik.de)... 88.99.142.44, 116.202.112.212, 138.201.219.183\n",
            "Connecting to download.geofabrik.de (download.geofabrik.de)|88.99.142.44|:80... connected.\n",
            "HTTP request sent, awaiting response... 200 OK\n",
            "Length: 232350136 (222M) [application/zip]\n",
            "Saving to: ‘map.shp.zip’\n",
            "\n",
            "map.shp.zip         100%[===================>] 221.59M  28.9MB/s    in 8.5s    \n",
            "\n",
            "2021-04-06 07:36:02 (26.2 MB/s) - ‘map.shp.zip’ saved [232350136/232350136]\n",
            "\n"
          ],
          "name": "stdout"
        }
      ]
    },
    {
      "cell_type": "code",
      "metadata": {
        "id": "zcSgtIim0Hn7"
      },
      "source": [
        "!unzip -q map.shp.zip -d /content/maps"
      ],
      "execution_count": 3,
      "outputs": []
    },
    {
      "cell_type": "code",
      "metadata": {
        "colab": {
          "base_uri": "https://localhost:8080/"
        },
        "id": "rMZlizwl0URw",
        "outputId": "5e752ece-1218-4c17-a66b-30936001cd32"
      },
      "source": [
        "from os import listdir\n",
        "\n",
        "files_dir =  listdir(\"/content/maps\")\n",
        "files_list = []\n",
        "for names in files_dir:\n",
        "    if names.endswith(\".shp\"):\n",
        "        files_list.append(names)\n",
        "        \n",
        "files_list = sorted(files_list)\n",
        "\n",
        "#podgląd\n",
        "print(pd.Series(files_list))"
      ],
      "execution_count": 4,
      "outputs": [
        {
          "output_type": "stream",
          "text": [
            "0     gis_osm_buildings_a_free_1.shp\n",
            "1       gis_osm_landuse_a_free_1.shp\n",
            "2       gis_osm_natural_a_free_1.shp\n",
            "3         gis_osm_natural_free_1.shp\n",
            "4        gis_osm_places_a_free_1.shp\n",
            "5          gis_osm_places_free_1.shp\n",
            "6          gis_osm_pofw_a_free_1.shp\n",
            "7            gis_osm_pofw_free_1.shp\n",
            "8          gis_osm_pois_a_free_1.shp\n",
            "9            gis_osm_pois_free_1.shp\n",
            "10       gis_osm_railways_free_1.shp\n",
            "11          gis_osm_roads_free_1.shp\n",
            "12      gis_osm_traffic_a_free_1.shp\n",
            "13        gis_osm_traffic_free_1.shp\n",
            "14    gis_osm_transport_a_free_1.shp\n",
            "15      gis_osm_transport_free_1.shp\n",
            "16        gis_osm_water_a_free_1.shp\n",
            "17      gis_osm_waterways_free_1.shp\n",
            "dtype: object\n"
          ],
          "name": "stdout"
        }
      ]
    },
    {
      "cell_type": "code",
      "metadata": {
        "id": "_8vdDtX91UZA"
      },
      "source": [
        "data_frames = {}\n",
        "for name in files_list:\n",
        "  name_df = name.split(\".\")[0]\n",
        "  data_frames[name_df] = GeoDataFrame.from_file(f'maps/{name}', encoding='utf-8')"
      ],
      "execution_count": 5,
      "outputs": []
    },
    {
      "cell_type": "code",
      "metadata": {
        "colab": {
          "base_uri": "https://localhost:8080/"
        },
        "id": "vHRdBWY_1jjW",
        "outputId": "e6f698c9-5b90-437e-c9f2-1325063679ce"
      },
      "source": [
        "#podgląd\n",
        "data_frames.keys()"
      ],
      "execution_count": 6,
      "outputs": [
        {
          "output_type": "execute_result",
          "data": {
            "text/plain": [
              "dict_keys(['gis_osm_buildings_a_free_1', 'gis_osm_landuse_a_free_1', 'gis_osm_natural_a_free_1', 'gis_osm_natural_free_1', 'gis_osm_places_a_free_1', 'gis_osm_places_free_1', 'gis_osm_pofw_a_free_1', 'gis_osm_pofw_free_1', 'gis_osm_pois_a_free_1', 'gis_osm_pois_free_1', 'gis_osm_railways_free_1', 'gis_osm_roads_free_1', 'gis_osm_traffic_a_free_1', 'gis_osm_traffic_free_1', 'gis_osm_transport_a_free_1', 'gis_osm_transport_free_1', 'gis_osm_water_a_free_1', 'gis_osm_waterways_free_1'])"
            ]
          },
          "metadata": {
            "tags": []
          },
          "execution_count": 6
        }
      ]
    },
    {
      "cell_type": "code",
      "metadata": {
        "colab": {
          "base_uri": "https://localhost:8080/",
          "height": 155
        },
        "id": "gVdKXcd6611B",
        "outputId": "085dbab5-9d43-4289-a72d-fd4c65bc8364"
      },
      "source": [
        "region = \" - \".join(link.split(\"http://download.geofabrik.de/\")[1].split(\"-latest\")[0].split(\"/\")).upper()\n",
        "\n",
        "raport = \"\"\n",
        "raport += f\"# Raport region: {region}\"\n",
        "raport += \"\\n\\n\"\n",
        "\n",
        "for name in data_frames:\n",
        "  title = name.split(\"gis_osm_\")[1].split(\"_free_1\")[0].upper()\n",
        "  raport += f\"## {title}\"\n",
        "  raport += \"\\n\"\n",
        "  raport += f\"Nazwa plik: {name}.shp\"\n",
        "  raport += \"\\n\\n\"\n",
        "  raport += f\"Ilość rekordów: {data_frames.get(name).shape[0]} \"\n",
        "  raport += \"\\n\\n\"\n",
        "  raport += \"Sample index \"\n",
        "  raport += \"\\n\"\n",
        "  raport += data_frames.get(name).sample(1).to_markdown()\n",
        "  raport += \"\\n\\n\"\n",
        "  raport += \"Value counts for fclass\"\n",
        "  raport += \"\\n\"\n",
        "  raport += data_frames.get(name)[\"fclass\"].value_counts().to_markdown()\n",
        "  raport += \"\\n\\n\"\n",
        "\n",
        "raport"
      ],
      "execution_count": 104,
      "outputs": [
        {
          "output_type": "execute_result",
          "data": {
            "application/vnd.google.colaboratory.intrinsic+json": {
              "type": "string"
            },
            "text/plain": [
              "'# Raport region: EUROPE - POLAND - MALOPOLSKIE\\n\\n## BUILDINGS_A\\nNazwa plik: gis_osm_buildings_a_free_1.shp\\n\\nIlość rekordów: 1349206 \\n\\nSample index \\n|        |    osm_id |   code | fclass   | name   | type   | geometry                                                                                                                   |\\n|-------:|----------:|-------:|:---------|:-------|:-------|:---------------------------------------------------------------------------------------------------------------------------|\\n| 685074 | 392589632 |   1500 | building |        |        | POLYGON ((21.0339745 49.9985188, 21.034015 49.9985936, 21.0341334 49.998567, 21.034093 49.9984922, 21.0339745 49.9985188)) |\\n\\nValue counts for fclass\\n|          |      fclass |\\n|:---------|------------:|\\n| building | 1.34921e+06 |\\n\\n## LANDUSE_A\\nNazwa plik: gis_osm_landuse_a_free_1.shp\\n\\nIlość rekordów: 182468 \\n\\nSample index \\n|       |    osm_id |   code | fclass   | name   | geometry                                                                                                                                            |\\n|------:|----------:|-------:|:---------|:-------|:----------------------------------------------------------------------------------------------------------------------------------------------------|\\n| 91411 | 680449703 |   7201 | forest   |        | POLYGON ((19.4189358 49.8536614, 19.4193515 49.8539952, 19.4195822 49.8539294, 19.4195393 49.853824, 19.4191611 49.8535732, 19.4189358 49.8536614)) |\\n\\nValue counts for fclass\\n|                   |   fclass |\\n|:------------------|---------:|\\n| forest            |    49419 |\\n| residential       |    32980 |\\n| farmland          |    27607 |\\n| scrub             |    21751 |\\n| meadow            |    17954 |\\n| grass             |    16517 |\\n| orchard           |     7339 |\\n| farmyard          |     2345 |\\n| industrial        |     1818 |\\n| cemetery          |     1372 |\\n| retail            |      900 |\\n| commercial        |      686 |\\n| park              |      679 |\\n| allotments        |      513 |\\n| recreation_ground |      175 |\\n| nature_reserve    |      155 |\\n| quarry            |      151 |\\n| vineyard          |       49 |\\n| military          |       31 |\\n| heath             |       27 |\\n\\n## NATURAL_A\\nNazwa plik: gis_osm_natural_a_free_1.shp\\n\\nIlość rekordów: 110 \\n\\nSample index \\n|    |    osm_id |   code | fclass   | name   | geometry                                                                                                                                                                                                                                                                                                                                                                                                                                                                                                                                                                       |\\n|---:|----------:|-------:|:---------|:-------|:-------------------------------------------------------------------------------------------------------------------------------------------------------------------------------------------------------------------------------------------------------------------------------------------------------------------------------------------------------------------------------------------------------------------------------------------------------------------------------------------------------------------------------------------------------------------------------|\\n| 61 | 514828034 |   4141 | beach    |        | POLYGON ((19.4694747 50.2607388, 19.4695771 50.2608273, 19.4696074 50.2608928, 19.469579 50.2609231, 19.4696511 50.2609716, 19.4696757 50.2610322, 19.4696586 50.2610965, 19.4696305 50.2611569, 19.4697898 50.2612106, 19.4698142 50.2610722, 19.4702921 50.261111, 19.4703471 50.2610492, 19.4702466 50.2610261, 19.4701916 50.2609655, 19.4702447 50.2609291, 19.4702902 50.2609146, 19.4702712 50.2607982, 19.470184 50.2606927, 19.4699678 50.2606042, 19.4695961 50.2605836, 19.469524 50.2605666, 19.4694885 50.2606231, 19.4695107 50.2606466, 19.4694747 50.2607388)) |\\n\\nValue counts for fclass\\n|         |   fclass |\\n|:--------|---------:|\\n| beach   |       75 |\\n| cliff   |       21 |\\n| glacier |       12 |\\n| spring  |        2 |\\n\\n## NATURAL\\nNazwa plik: gis_osm_natural_free_1.shp\\n\\nIlość rekordów: 51267 \\n\\nSample index \\n|       |     osm_id |   code | fclass   | name   | geometry                      |\\n|------:|-----------:|-------:|:---------|:-------|:------------------------------|\\n| 50007 | 8508232053 |   4121 | tree     |        | POINT (21.2657471 49.5101384) |\\n\\nValue counts for fclass\\n|               |   fclass |\\n|:--------------|---------:|\\n| tree          |    48271 |\\n| peak          |     2324 |\\n| cave_entrance |      415 |\\n| spring        |      238 |\\n| cliff         |       18 |\\n| beach         |        1 |\\n\\n## PLACES_A\\nNazwa plik: gis_osm_places_a_free_1.shp\\n\\nIlość rekordów: 34 \\n\\nSample index \\n|    |   osm_id |   code | fclass   |   population | name       | geometry                                                                                                                                                                                                                                                                                                                                                                                                                                                                                                                                                                                                                                                                                                                                                                                                                                                                                                                                                                                                                                                                                                                                                                                                                                                                                                                                                                                                                                                                                                                                                                                                                                                                                                                                                                                                                                                                                                                                                                                                                                                                                                                                                                                                                                                                                                                                                                                                                                                                                                                                                                                                                                                                                                                                                                                                                                                                                                                                                                                                                                                                                                                                                                                                                                                                                                                                                                                                                                                                                                                                                                                                                                                                                                                                                                                                                                                                                                                                                                                                                                                                                                                                                                                                                                                                                                                                                   |\\n|---:|---------:|-------:|:---------|-------------:|:-----------|:-----------------------------------------------------------------------------------------------------------------------------------------------------------------------------------------------------------------------------------------------------------------------------------------------------------------------------------------------------------------------------------------------------------------------------------------------------------------------------------------------------------------------------------------------------------------------------------------------------------------------------------------------------------------------------------------------------------------------------------------------------------------------------------------------------------------------------------------------------------------------------------------------------------------------------------------------------------------------------------------------------------------------------------------------------------------------------------------------------------------------------------------------------------------------------------------------------------------------------------------------------------------------------------------------------------------------------------------------------------------------------------------------------------------------------------------------------------------------------------------------------------------------------------------------------------------------------------------------------------------------------------------------------------------------------------------------------------------------------------------------------------------------------------------------------------------------------------------------------------------------------------------------------------------------------------------------------------------------------------------------------------------------------------------------------------------------------------------------------------------------------------------------------------------------------------------------------------------------------------------------------------------------------------------------------------------------------------------------------------------------------------------------------------------------------------------------------------------------------------------------------------------------------------------------------------------------------------------------------------------------------------------------------------------------------------------------------------------------------------------------------------------------------------------------------------------------------------------------------------------------------------------------------------------------------------------------------------------------------------------------------------------------------------------------------------------------------------------------------------------------------------------------------------------------------------------------------------------------------------------------------------------------------------------------------------------------------------------------------------------------------------------------------------------------------------------------------------------------------------------------------------------------------------------------------------------------------------------------------------------------------------------------------------------------------------------------------------------------------------------------------------------------------------------------------------------------------------------------------------------------------------------------------------------------------------------------------------------------------------------------------------------------------------------------------------------------------------------------------------------------------------------------------------------------------------------------------------------------------------------------------------------------------------------------------------------------------------------------------------|\\n|  9 |  3238030 |   1010 | suburb   |            0 | Grzegórzki | POLYGON ((19.9473454 50.0583908, 19.9474232 50.0584153, 19.9478122 50.0584931, 19.9480992 50.0585526, 19.9484228 50.0586121, 19.9490781 50.0586765, 19.9498377 50.0587183, 19.9506316 50.0587648, 19.9507975 50.0587649, 19.9522256 50.0586702, 19.9534185 50.0585829, 19.954075 50.0608479, 19.9540167 50.0625595, 19.9536344 50.0633848, 19.9550763 50.063718, 19.9566912 50.0620555, 19.9599121 50.0632813, 19.959556 50.0644441, 19.9592954 50.0649452, 19.9589455 50.0655564, 19.958646 50.0658811, 19.9597001 50.0659363, 19.9598337 50.065943, 19.9607888 50.0659868, 19.9613321 50.0660607, 19.9621191 50.0661669, 19.9630036 50.0662861, 19.9641132 50.0664149, 19.9651087 50.0665298, 19.9664131 50.0665149, 19.9674993 50.0665028, 19.9684803 50.0664915, 19.9692497 50.0664835, 19.9692435 50.0665607, 19.9692128 50.0669933, 19.9692128 50.0670699, 19.9692121 50.0674361, 19.9692108 50.0677483, 19.9692087 50.0682811, 19.9692063 50.0687864, 19.9691215 50.0688603, 19.9686099 50.0689293, 19.9685748 50.0695632, 19.9685324 50.070344, 19.9685167 50.0706092, 19.9687203 50.0707526, 19.9692621 50.0712379, 19.9702473 50.0719706, 19.9710143 50.0725408, 19.9718581 50.0732363, 19.9718967 50.0736391, 19.9722782 50.0733365, 19.9724672 50.0731655, 19.9731649 50.0724866, 19.9739995 50.0715456, 19.9745383 50.0707892, 19.9746389 50.0706124, 19.9751855 50.069658, 19.9757476 50.0686718, 19.9761294 50.0680015, 19.9765205 50.067479, 19.9767201 50.0672917, 19.9765744 50.0672105, 19.9762562 50.0670938, 19.9761972 50.0670717, 19.976181 50.0670576, 19.9759513 50.0669327, 19.9759846 50.0667468, 19.9761026 50.0660889, 19.9761429 50.0655956, 19.9761894 50.0650135, 19.9761695 50.0645001, 19.9761486 50.063988, 19.9761455 50.0639521, 19.9760504 50.0634182, 19.975959 50.0629119, 19.9758691 50.0623985, 19.9758498 50.062328, 19.9756983 50.0618109, 19.9755458 50.0612831, 19.9755343 50.0612633, 19.9752631 50.0607663, 19.9751743 50.0605858, 19.9748505 50.0599315, 19.9745527 50.0593235, 19.9743056 50.0589559, 19.9737755 50.058142, 19.9735079 50.0577647, 19.9732733 50.0574162, 19.9731668 50.0572763, 19.9727442 50.0567142, 19.972506 50.0563969, 19.9719856 50.055701, 19.9715855 50.0551674, 19.9711038 50.0545264, 19.9707089 50.0539955, 19.9702879 50.0534229, 19.9697635 50.0527119, 19.9696231 50.0525211, 19.9694882 50.0523375, 19.9692278 50.0523881, 19.9681416 50.0525977, 19.9672088 50.0527342, 19.9668186 50.0527655, 19.9656854 50.0528533, 19.965396 50.0528566, 19.9642418 50.0528673, 19.9627876 50.0528096, 19.9613892 50.0526156, 19.9613403 50.0526051, 19.9609572 50.0525273, 19.9600914 50.0523561, 19.9593754 50.052118, 19.9587359 50.0519049, 19.9585865 50.0518503, 19.9580326 50.0516515, 19.9576403 50.0515095, 19.9573654 50.0514044, 19.9569002 50.0512268, 19.9563713 50.051026, 19.955695 50.0506617, 19.954889 50.0502274, 19.9546645 50.0501079, 19.9541574 50.0506137, 19.9538185 50.0508616, 19.9536918 50.0507906, 19.9536775 50.0507816, 19.9536377 50.0507564, 19.9536013 50.0507331, 19.9534373 50.0506281, 19.9533837 50.0506734, 19.9533449 50.050652, 19.953166 50.050782, 19.9531556 50.0507993, 19.9531168 50.0508585, 19.9530849 50.0509025, 19.9530931 50.0509093, 19.9520821 50.0517374, 19.9496027 50.0537707, 19.9494623 50.0538237, 19.9493217 50.0539053, 19.9491994 50.0539582, 19.9489245 50.0540737, 19.9490525 50.0544106, 19.9486428 50.0549783, 19.948485 50.0552323, 19.9483582 50.0554339, 19.9483395 50.0554721, 19.9482541 50.0554803, 19.948228 50.0554761, 19.9480582 50.055495, 19.9480337 50.0554828, 19.9480178 50.0554989, 19.9478797 50.0555139, 19.9478544 50.0555337, 19.9478554 50.0555384, 19.9478617 50.0555412, 19.9478862 50.0556677, 19.9479083 50.0557646, 19.9479693 50.0559915, 19.9479919 50.0560898, 19.9479319 50.0562843, 19.9479268 50.05629, 19.9479056 50.0563806, 19.9479036 50.0563835, 19.9478772 50.056467, 19.9478708 50.0564737, 19.9478662 50.0565244, 19.9478338 50.0566136, 19.9477665 50.0568432, 19.9476094 50.0572531, 19.947603 50.0572697, 19.94757 50.0573453, 19.9475185 50.0574631, 19.9474559 50.0576206, 19.9474425 50.0576192, 19.9474344 50.0577195, 19.947445 50.0577164, 19.9474472 50.0577829, 19.9474521 50.0578157, 19.9474668 50.0579259, 19.9473991 50.0579497, 19.9473454 50.0583908)) |\\n\\nValue counts for fclass\\n|          |   fclass |\\n|:---------|---------:|\\n| island   |       15 |\\n| locality |        9 |\\n| suburb   |        8 |\\n| village  |        1 |\\n| farm     |        1 |\\n\\n## PLACES\\nNazwa plik: gis_osm_places_free_1.shp\\n\\nIlość rekordów: 18002 \\n\\nSample index \\n|      |     osm_id |   code | fclass   |   population | name    | geometry                      |\\n|-----:|-----------:|-------:|:---------|-------------:|:--------|:------------------------------|\\n| 7134 | 3009708549 |   1004 | hamlet   |            0 | Hamajdy | POINT (19.7515781 49.5485509) |\\n\\nValue counts for fclass\\n|          |   fclass |\\n|:---------|---------:|\\n| hamlet   |    14849 |\\n| village  |     1976 |\\n| locality |     1065 |\\n| town     |       62 |\\n| suburb   |       45 |\\n| city     |        3 |\\n| island   |        1 |\\n| farm     |        1 |\\n\\n## POFW_A\\nNazwa plik: gis_osm_pofw_a_free_1.shp\\n\\nIlość rekordów: 3214 \\n\\nSample index \\n|      |    osm_id |   code | fclass    | name              | geometry                                                                                                                                                                                                                                                                                     |\\n|-----:|----------:|-------:|:----------|:------------------|:---------------------------------------------------------------------------------------------------------------------------------------------------------------------------------------------------------------------------------------------------------------------------------------------|\\n| 2717 | 378120050 |   3100 | christian | Kaplica cmentarna | POLYGON ((19.2771984 49.8761249, 19.2772075 49.8761527, 19.2772177 49.8761839, 19.2773084 49.8761714, 19.2773072 49.8761684, 19.277398 49.876156, 19.2773848 49.8761161, 19.2773508 49.8761208, 19.2773466 49.8761076, 19.2772886 49.8761155, 19.2772877 49.8761126, 19.2771984 49.8761249)) |\\n\\nValue counts for fclass\\n|                       |   fclass |\\n|:----------------------|---------:|\\n| christian             |     3027 |\\n| christian_catholic    |       80 |\\n| jewish                |       66 |\\n| christian_orthodox    |       29 |\\n| christian_lutheran    |        6 |\\n| christian_protestant  |        3 |\\n| christian_evangelical |        2 |\\n| hindu                 |        1 |\\n\\n## POFW\\nNazwa plik: gis_osm_pofw_free_1.shp\\n\\nIlość rekordów: 1718 \\n\\nSample index \\n|     |     osm_id |   code | fclass    | name   | geometry                      |\\n|----:|-----------:|-------:|:----------|:-------|:------------------------------|\\n| 603 | 4233294003 |   3100 | christian |        | POINT (21.0227336 49.3993934) |\\n\\nValue counts for fclass\\n|                      |   fclass |\\n|:---------------------|---------:|\\n| christian            |     1335 |\\n| christian_catholic   |      356 |\\n| christian_orthodox   |       10 |\\n| jewish               |       10 |\\n| christian_protestant |        4 |\\n| muslim               |        1 |\\n| christian_methodist  |        1 |\\n| christian_lutheran   |        1 |\\n\\n## POIS_A\\nNazwa plik: gis_osm_pois_a_free_1.shp\\n\\nIlość rekordów: 16103 \\n\\nSample index \\n|      |    osm_id |   code | fclass   | name   | geometry                                                                                                                                                                                                                                                                                                                                                                                                                                                                                                                                                                                                                  |\\n|-----:|----------:|-------:|:---------|:-------|:--------------------------------------------------------------------------------------------------------------------------------------------------------------------------------------------------------------------------------------------------------------------------------------------------------------------------------------------------------------------------------------------------------------------------------------------------------------------------------------------------------------------------------------------------------------------------------------------------------------------------|\\n| 2960 | 217906425 |   2904 | fountain |        | POLYGON ((19.9981798 50.0892585, 19.9981798 50.0892636, 19.9981812 50.0892676, 19.9981855 50.089273, 19.998191 50.0892767, 19.9981976 50.0892795, 19.9982052 50.0892811, 19.9982132 50.0892814, 19.9982211 50.0892805, 19.9982283 50.0892783, 19.9982344 50.089275, 19.9982391 50.0892709, 19.9982421 50.0892661, 19.9982431 50.089261, 19.998242 50.0892559, 19.9982391 50.0892512, 19.9982344 50.0892471, 19.9982282 50.0892438, 19.998221 50.0892417, 19.9982132 50.0892407, 19.9982052 50.0892411, 19.9981977 50.0892426, 19.998191 50.0892454, 19.9981856 50.0892491, 19.9981818 50.0892535, 19.9981798 50.0892585)) |\\n\\nValue counts for fclass\\n|                   |   fclass |\\n|:------------------|---------:|\\n| pitch             |     3483 |\\n| graveyard         |     1372 |\\n| playground        |     1322 |\\n| school            |     1082 |\\n| shelter           |      706 |\\n| park              |      644 |\\n| fire_station      |      447 |\\n| convenience       |      441 |\\n| supermarket       |      403 |\\n| ruins             |      348 |\\n| hotel             |      318 |\\n| kindergarten      |      315 |\\n| restaurant        |      315 |\\n| attraction        |      270 |\\n| guesthouse        |      269 |\\n| sports_centre     |      223 |\\n| swimming_pool     |      196 |\\n| tower             |      175 |\\n| car_wash          |      170 |\\n| doctors           |      131 |\\n| wastewater_plant  |      126 |\\n| wayside_shrine    |      125 |\\n| fast_food         |      125 |\\n| kiosk             |      124 |\\n| track             |      118 |\\n| stadium           |      118 |\\n| mall              |      107 |\\n| chalet            |       92 |\\n| doityourself      |       90 |\\n| car_dealership    |       89 |\\n| bakery            |       88 |\\n| clothes           |       83 |\\n| museum            |       82 |\\n| town_hall         |       81 |\\n| toilet            |       81 |\\n| community_centre  |       72 |\\n| hospital          |       66 |\\n| florist           |       65 |\\n| fountain          |       64 |\\n| public_building   |       62 |\\n| water_works       |       61 |\\n| bench             |       59 |\\n| university        |       58 |\\n| police            |       54 |\\n| hostel            |       50 |\\n| castle            |       48 |\\n| bank              |       48 |\\n| pharmacy          |       45 |\\n| picnic_site       |       45 |\\n| cafe              |       44 |\\n| post_office       |       43 |\\n| camp_site         |       43 |\\n| alpine_hut        |       42 |\\n| fort              |       39 |\\n| furniture_shop    |       39 |\\n| greengrocer       |       39 |\\n| recycling         |       38 |\\n| library           |       36 |\\n| archaeological    |       35 |\\n| garden_centre     |       34 |\\n| beverages         |       33 |\\n| theatre           |       32 |\\n| memorial          |       30 |\\n| water_well        |       29 |\\n| college           |       28 |\\n| water_tower       |       27 |\\n| hairdresser       |       25 |\\n| theme_park        |       22 |\\n| arts_centre       |       22 |\\n| monument          |       21 |\\n| dog_park          |       21 |\\n| courthouse        |       20 |\\n| veterinary        |       20 |\\n| motel             |       19 |\\n| butcher           |       17 |\\n| bicycle_shop      |       17 |\\n| biergarten        |       17 |\\n| department_store  |       16 |\\n| pub               |       16 |\\n| ice_rink          |       15 |\\n| bar               |       15 |\\n| tourist_info      |       14 |\\n| gift_shop         |       14 |\\n| dentist           |       13 |\\n| beauty_shop       |       13 |\\n| water_mill        |       12 |\\n| observation_tower |       12 |\\n| shoe_shop         |       11 |\\n| prison            |       11 |\\n| mobile_phone_shop |       11 |\\n| nursing_home      |        9 |\\n| cinema            |        9 |\\n| newsagent         |        9 |\\n| comms_tower       |        8 |\\n| artwork           |        8 |\\n| jeweller          |        7 |\\n| toy_shop          |        7 |\\n| viewpoint         |        7 |\\n| optician          |        6 |\\n| sports_shop       |        6 |\\n| computer_shop     |        6 |\\n| food_court        |        6 |\\n| stationery        |        6 |\\n| recycling_glass   |        5 |\\n| bookshop          |        5 |\\n| zoo               |        5 |\\n| caravan_site      |        4 |\\n| atm               |        4 |\\n| bicycle_rental    |        3 |\\n| chemist           |        3 |\\n| hunting_stand     |        3 |\\n| drinking_water    |        2 |\\n| nightclub         |        2 |\\n| golf_course       |        2 |\\n| travel_agent      |        2 |\\n| laundry           |        2 |\\n| windmill          |        2 |\\n| recycling_paper   |        2 |\\n| outdoor_shop      |        1 |\\n| car_rental        |        1 |\\n\\n## POIS\\nNazwa plik: gis_osm_pois_free_1.shp\\n\\nIlość rekordów: 33872 \\n\\nSample index \\n|       |     osm_id |   code | fclass   | name   | geometry                     |\\n|------:|-----------:|-------:|:---------|:-------|:-----------------------------|\\n| 11223 | 3076867899 |   2902 | bench    |        | POINT (19.9172888 50.048967) |\\n\\nValue counts for fclass\\n|                     |   fclass |\\n|:--------------------|---------:|\\n| bench               |     5019 |\\n| convenience         |     2036 |\\n| tourist_info        |     1731 |\\n| wayside_shrine      |     1606 |\\n| restaurant          |     1481 |\\n| atm                 |     1016 |\\n| waste_basket        |      982 |\\n| pharmacy            |      811 |\\n| wayside_cross       |      707 |\\n| memorial            |      695 |\\n| fire_station        |      621 |\\n| fast_food           |      610 |\\n| bank                |      580 |\\n| clothes             |      560 |\\n| shelter             |      545 |\\n| hairdresser         |      519 |\\n| supermarket         |      487 |\\n| school              |      481 |\\n| attraction          |      459 |\\n| recycling_glass     |      430 |\\n| bakery              |      418 |\\n| cafe                |      410 |\\n| viewpoint           |      402 |\\n| vending_any         |      390 |\\n| guesthouse          |      389 |\\n| hotel               |      380 |\\n| vending_parking     |      370 |\\n| hunting_stand       |      359 |\\n| toilet              |      342 |\\n| post_office         |      319 |\\n| playground          |      294 |\\n| doctors             |      275 |\\n| kindergarten        |      274 |\\n| florist             |      273 |\\n| pub                 |      258 |\\n| post_box            |      257 |\\n| recycling           |      250 |\\n| monument            |      237 |\\n| camera_surveillance |      230 |\\n| kiosk               |      227 |\\n| library             |      220 |\\n| doityourself        |      220 |\\n| artwork             |      214 |\\n| car_wash            |      214 |\\n| bicycle_rental      |      190 |\\n| dentist             |      177 |\\n| water_well          |      172 |\\n| picnic_site         |      170 |\\n| bar                 |      167 |\\n| beverages           |      164 |\\n| greengrocer         |      154 |\\n| hostel              |      152 |\\n| butcher             |      148 |\\n| chemist             |      140 |\\n| beauty_shop         |      138 |\\n| drinking_water      |      134 |\\n| gift_shop           |      132 |\\n| bookshop            |      131 |\\n| fountain            |      130 |\\n| museum              |      130 |\\n| comms_tower         |      127 |\\n| shoe_shop           |      123 |\\n| car_dealership      |      120 |\\n| mobile_phone_shop   |      117 |\\n| pitch               |      111 |\\n| furniture_shop      |      109 |\\n| veterinary          |      102 |\\n| bicycle_shop        |       91 |\\n| sports_centre       |       86 |\\n| town_hall           |       85 |\\n| optician            |       82 |\\n| computer_shop       |       81 |\\n| community_centre    |       76 |\\n| jeweller            |       72 |\\n| sports_shop         |       72 |\\n| police              |       65 |\\n| travel_agent        |       65 |\\n| tower               |       62 |\\n| garden_centre       |       60 |\\n| university          |       60 |\\n| recycling_paper     |       59 |\\n| chalet              |       59 |\\n| stationery          |       58 |\\n| arts_centre         |       50 |\\n| laundry             |       49 |\\n| archaeological      |       48 |\\n| motel               |       46 |\\n| cinema              |       46 |\\n| recycling_clothes   |       45 |\\n| observation_tower   |       42 |\\n| nightclub           |       41 |\\n| hospital            |       39 |\\n| toy_shop            |       38 |\\n| ruins               |       35 |\\n| newsagent           |       35 |\\n| theatre             |       32 |\\n| swimming_pool       |       31 |\\n| outdoor_shop        |       29 |\\n| vending_machine     |       29 |\\n| camp_site           |       28 |\\n| courthouse          |       23 |\\n| public_building     |       19 |\\n| department_store    |       18 |\\n| graveyard           |       14 |\\n| car_rental          |       14 |\\n| college             |       14 |\\n| mall                |       13 |\\n| castle              |       13 |\\n| biergarten          |       11 |\\n| wastewater_plant    |       10 |\\n| water_works         |        9 |\\n| park                |        7 |\\n| water_tower         |        7 |\\n| nursing_home        |        7 |\\n| alpine_hut          |        7 |\\n| stadium             |        6 |\\n| theme_park          |        6 |\\n| caravan_site        |        6 |\\n| telephone           |        5 |\\n| recycling_metal     |        5 |\\n| food_court          |        5 |\\n| zoo                 |        4 |\\n| video_shop          |        3 |\\n| dog_park            |        2 |\\n| ice_rink            |        2 |\\n| windmill            |        2 |\\n| battlefield         |        2 |\\n| track               |        2 |\\n| prison              |        1 |\\n| lighthouse          |        1 |\\n| embassy             |        1 |\\n| water_mill          |        1 |\\n\\n## RAILWAYS\\nNazwa plik: gis_osm_railways_free_1.shp\\n\\nIlość rekordów: 6116 \\n\\nSample index \\n|      |    osm_id |   code | fclass   | name   |   layer | bridge   | tunnel   | geometry                                                  |\\n|-----:|----------:|-------:|:---------|:-------|--------:|:---------|:---------|:----------------------------------------------------------|\\n| 3177 | 328490072 |   6101 | rail     |        |       0 | F        | F        | LINESTRING (20.7030272 49.6047073, 20.7029966 49.6046967) |\\n\\nValue counts for fclass\\n|              |   fclass |\\n|:-------------|---------:|\\n| rail         |     5143 |\\n| tram         |      769 |\\n| narrow_gauge |      178 |\\n| monorail     |       19 |\\n| funicular    |        7 |\\n\\n## ROADS\\nNazwa plik: gis_osm_roads_free_1.shp\\n\\nIlość rekordów: 372934 \\n\\nSample index \\n|        |    osm_id |   code | fclass   | name   | ref   | oneway   |   maxspeed |   layer | bridge   | tunnel   | geometry                                                                                                                                                                                                                                                                                                                                     |\\n|-------:|----------:|-------:|:---------|:-------|:------|:---------|-----------:|--------:|:---------|:---------|:---------------------------------------------------------------------------------------------------------------------------------------------------------------------------------------------------------------------------------------------------------------------------------------------------------------------------------------------|\\n| 190567 | 403449720 |   5153 | footway  |        |       | B        |          0 |       0 | F        | F        | LINESTRING (21.1558033 49.6514083, 21.1557695 49.6513754, 21.1557466 49.6513538, 21.1557116 49.6513583, 21.1556752 49.6513586, 21.1556458 49.6513516, 21.1555487 49.6512737, 21.1554781 49.651217, 21.1551136 49.6509122, 21.1549621 49.6507879, 21.1547997 49.6506542, 21.1545779 49.6504698, 21.1544663 49.6503738, 21.1543425 49.6502674) |\\n\\nValue counts for fclass\\n|                |   fclass |\\n|:---------------|---------:|\\n| service        |   135973 |\\n| footway        |    59027 |\\n| track          |    53065 |\\n| residential    |    46690 |\\n| path           |    15282 |\\n| tertiary       |    12252 |\\n| unclassified   |     7741 |\\n| primary        |     5410 |\\n| secondary      |     5386 |\\n| steps          |     5351 |\\n| track_grade5   |     4274 |\\n| cycleway       |     4067 |\\n| track_grade1   |     3949 |\\n| track_grade4   |     3504 |\\n| track_grade3   |     3321 |\\n| track_grade2   |     2807 |\\n| living_street  |     2201 |\\n| pedestrian     |     1003 |\\n| motorway       |      540 |\\n| motorway_link  |      293 |\\n| primary_link   |      248 |\\n| trunk          |      180 |\\n| tertiary_link  |      147 |\\n| secondary_link |      101 |\\n| trunk_link     |       68 |\\n| bridleway      |       54 |\\n\\n## TRAFFIC_A\\nNazwa plik: gis_osm_traffic_a_free_1.shp\\n\\nIlość rekordów: 11745 \\n\\nSample index \\n|       |    osm_id |   code | fclass   | name   | geometry                                                                                                                                                                                                               |\\n|------:|----------:|-------:|:---------|:-------|:-----------------------------------------------------------------------------------------------------------------------------------------------------------------------------------------------------------------------|\\n| 10396 | 799712719 |   5260 | parking  |        | POLYGON ((21.1782044 49.6701885, 21.178426 49.6702816, 21.1785335 49.6701431, 21.178363 49.6700658, 21.1783208 49.6701112, 21.1782893 49.6701016, 21.178263 49.6701278, 21.1782552 49.6701359, 21.1782044 49.6701885)) |\\n\\nValue counts for fclass\\n|                     |   fclass |\\n|:--------------------|---------:|\\n| parking             |    11212 |\\n| fuel                |      254 |\\n| parking_bicycle     |      109 |\\n| pier                |       67 |\\n| dam                 |       46 |\\n| parking_multistorey |       22 |\\n| service             |       11 |\\n| marina              |       11 |\\n| parking_underground |       10 |\\n| slipway             |        2 |\\n| weir                |        1 |\\n\\n## TRAFFIC\\nNazwa plik: gis_osm_traffic_free_1.shp\\n\\nIlość rekordów: 30169 \\n\\nSample index \\n|       |     osm_id |   code | fclass   | name   | geometry                     |\\n|------:|-----------:|-------:|:---------|:-------|:-----------------------------|\\n| 15533 | 3626700900 |   5204 | crossing |        | POINT (20.9742953 50.159473) |\\n\\nValue counts for fclass\\n|                     |   fclass |\\n|:--------------------|---------:|\\n| crossing            |    16686 |\\n| street_lamp         |     6588 |\\n| parking_bicycle     |     2296 |\\n| parking             |     1372 |\\n| traffic_signals     |     1289 |\\n| stop                |      544 |\\n| turning_circle      |      436 |\\n| fuel                |      391 |\\n| weir                |      280 |\\n| motorway_junction   |       63 |\\n| waterfall           |       52 |\\n| speed_camera        |       43 |\\n| parking_underground |       25 |\\n| marina              |       24 |\\n| slipway             |       22 |\\n| dam                 |       20 |\\n| mini_roundabout     |       20 |\\n| lock_gate           |       14 |\\n| pier                |        2 |\\n| parking_multistorey |        2 |\\n\\n## TRANSPORT_A\\nNazwa plik: gis_osm_transport_a_free_1.shp\\n\\nIlość rekordów: 638 \\n\\nSample index \\n|     |    osm_id |   code | fclass   | name              | geometry                                                                                                                      |\\n|----:|----------:|-------:|:---------|:------------------|:------------------------------------------------------------------------------------------------------------------------------|\\n| 182 | 234469472 |   5621 | bus_stop | Rondo Hipokratesa | POLYGON ((20.0236452 50.0900577, 20.0236574 50.0900814, 20.0241139 50.0899842, 20.0241017 50.0899606, 20.0236452 50.0900577)) |\\n\\nValue counts for fclass\\n|                 |   fclass |\\n|:----------------|---------:|\\n| bus_stop        |      523 |\\n| helipad         |       42 |\\n| bus_station     |       35 |\\n| taxi            |       16 |\\n| apron           |        9 |\\n| airport         |        8 |\\n| tram_stop       |        2 |\\n| railway_station |        2 |\\n| airfield        |        1 |\\n\\n## TRANSPORT\\nNazwa plik: gis_osm_transport_free_1.shp\\n\\nIlość rekordów: 10107 \\n\\nSample index \\n|      |     osm_id |   code | fclass   | name             | geometry                      |\\n|-----:|-----------:|-------:|:---------|:-----------------|:------------------------------|\\n| 7984 | 5274117943 |   5621 | bus_stop | Muzeum / Parking | POINT (19.2047265 50.0298315) |\\n\\nValue counts for fclass\\n|                 |   fclass |\\n|:----------------|---------:|\\n| bus_stop        |     9391 |\\n| tram_stop       |      365 |\\n| railway_halt    |      123 |\\n| railway_station |       91 |\\n| taxi            |       79 |\\n| bus_station     |       30 |\\n| ferry_terminal  |       21 |\\n| helipad         |        6 |\\n| airport         |        1 |\\n\\n## WATER_A\\nNazwa plik: gis_osm_water_a_free_1.shp\\n\\nIlość rekordów: 8806 \\n\\nSample index \\n|      |    osm_id |   code | fclass   | name   | geometry                                                                                                                      |\\n|-----:|----------:|-------:|:---------|:-------|:------------------------------------------------------------------------------------------------------------------------------|\\n| 4156 | 518134755 |   8200 | water    |        | POLYGON ((19.1692692 50.0330677, 19.1692695 50.0331857, 19.1697309 50.0331851, 19.1697305 50.0330671, 19.1692692 50.0330677)) |\\n\\nValue counts for fclass\\n|           |   fclass |\\n|:----------|---------:|\\n| water     |     6712 |\\n| wetland   |      995 |\\n| reservoir |      734 |\\n| riverbank |      231 |\\n| river     |      120 |\\n| glacier   |       12 |\\n| dock      |        2 |\\n\\n## WATERWAYS\\nNazwa plik: gis_osm_waterways_free_1.shp\\n\\nIlość rekordów: 46616 \\n\\nSample index \\n|       |    osm_id |   code | fclass   |   width | name   | geometry                                                                                                                                                                                           |\\n|------:|----------:|-------:|:---------|--------:|:-------|:---------------------------------------------------------------------------------------------------------------------------------------------------------------------------------------------------|\\n| 29171 | 796595113 |   8102 | stream   |       0 |        | LINESTRING (21.1308542 49.4298403, 21.1309826 49.4293056, 21.1311076 49.4288472, 21.1312257 49.428316, 21.1313299 49.4277396, 21.1313299 49.4276875, 21.1312462 49.4272186, 21.1312235 49.4270917) |\\n\\nValue counts for fclass\\n|        |   fclass |\\n|:-------|---------:|\\n| stream |    43537 |\\n| river  |     1582 |\\n| drain  |     1300 |\\n| canal  |      197 |\\n\\n'"
            ]
          },
          "metadata": {
            "tags": []
          },
          "execution_count": 104
        }
      ]
    },
    {
      "cell_type": "code",
      "metadata": {
        "id": "SyP4MvxJIRoa"
      },
      "source": [
        "file_name= region.lower().replace(\" \",\"\")\n",
        "f = open(f\"raport-{file_name}.md\", \"a\")\n",
        "f.write(raport)\n",
        "f.close()"
      ],
      "execution_count": 111,
      "outputs": []
    }
  ]
}
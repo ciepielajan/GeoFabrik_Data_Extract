{
  "nbformat": 4,
  "nbformat_minor": 0,
  "metadata": {
    "colab": {
      "name": "GeoFabrik - raport generation - hurtowy raport zawartości tablic / generator ",
      "provenance": [],
      "authorship_tag": "ABX9TyMSRslKqY/4M6o4QM7ZG77R",
      "include_colab_link": true
    },
    "kernelspec": {
      "name": "python3",
      "display_name": "Python 3"
    },
    "language_info": {
      "name": "python"
    }
  },
  "cells": [
    {
      "cell_type": "markdown",
      "metadata": {
        "id": "view-in-github",
        "colab_type": "text"
      },
      "source": [
        "<a href=\"https://colab.research.google.com/github/ciepielajan/GeoFabrik_Data_Extract/blob/main/GeoFabrik_extract_values.ipynb\" target=\"_parent\"><img src=\"https://colab.research.google.com/assets/colab-badge.svg\" alt=\"Open In Colab\"/></a>"
      ]
    },
    {
      "cell_type": "code",
      "metadata": {
        "colab": {
          "base_uri": "https://localhost:8080/"
        },
        "id": "IV-I-x170DkC",
        "outputId": "eb403eb3-c8c3-4ff8-81e7-70a8cab7c29e"
      },
      "source": [
        "import folium\n",
        "import pandas as pd\n",
        "from plotnine import *\n",
        "!pip -q install geopandas\n",
        "from geopandas import GeoDataFrame\n",
        "\n",
        "%matplotlib inline"
      ],
      "execution_count": 1,
      "outputs": [
        {
          "output_type": "stream",
          "text": [
            "\u001b[K     |████████████████████████████████| 1.0MB 6.1MB/s \n",
            "\u001b[K     |████████████████████████████████| 14.8MB 253kB/s \n",
            "\u001b[K     |████████████████████████████████| 6.5MB 32.5MB/s \n",
            "\u001b[?25h"
          ],
          "name": "stdout"
        }
      ]
    },
    {
      "cell_type": "code",
      "metadata": {
        "id": "DFpNk-9aG4RZ"
      },
      "source": [
        "link = \"https://download.geofabrik.de/europe/poland/mazowieckie-latest-free.shp.zip\""
      ],
      "execution_count": 2,
      "outputs": []
    },
    {
      "cell_type": "code",
      "metadata": {
        "colab": {
          "base_uri": "https://localhost:8080/"
        },
        "id": "sDlIhJ8b0Fex",
        "outputId": "1f5617a6-35ad-49fe-8ef4-fcb78d640667"
      },
      "source": [
        "!wget $link  -O map.shp.zip"
      ],
      "execution_count": 3,
      "outputs": [
        {
          "output_type": "stream",
          "text": [
            "--2021-04-07 05:53:27--  https://download.geofabrik.de/europe/poland/mazowieckie-latest-free.shp.zip\n",
            "Resolving download.geofabrik.de (download.geofabrik.de)... 88.99.142.44, 116.202.112.212, 138.201.219.183\n",
            "Connecting to download.geofabrik.de (download.geofabrik.de)|88.99.142.44|:443... connected.\n",
            "HTTP request sent, awaiting response... 200 OK\n",
            "Length: 339787382 (324M) [application/zip]\n",
            "Saving to: ‘map.shp.zip’\n",
            "\n",
            "map.shp.zip         100%[===================>] 324.05M  24.7MB/s    in 14s     \n",
            "\n",
            "2021-04-07 05:53:42 (23.4 MB/s) - ‘map.shp.zip’ saved [339787382/339787382]\n",
            "\n"
          ],
          "name": "stdout"
        }
      ]
    },
    {
      "cell_type": "code",
      "metadata": {
        "id": "zcSgtIim0Hn7"
      },
      "source": [
        "!unzip -q map.shp.zip -d /content/maps"
      ],
      "execution_count": 4,
      "outputs": []
    },
    {
      "cell_type": "code",
      "metadata": {
        "id": "yrFevmpwkWxE"
      },
      "source": [
        "df = GeoDataFrame.from_file(f'maps/gis_osm_railways_free_1.shp', encoding='utf-8')"
      ],
      "execution_count": 77,
      "outputs": []
    },
    {
      "cell_type": "code",
      "metadata": {
        "id": "wPoOQYQAfqKW"
      },
      "source": [
        "import re\n",
        "warunek = df[\"fclass\"].str.contains(\"subway\", flags=re.IGNORECASE, regex=True, na=False) "
      ],
      "execution_count": 78,
      "outputs": []
    },
    {
      "cell_type": "code",
      "metadata": {
        "id": "PcS-TmEq4VRA",
        "outputId": "a2b8f975-6f1b-4a07-ae63-26bec00c3c42",
        "colab": {
          "base_uri": "https://localhost:8080/",
          "height": 407
        }
      },
      "source": [
        "df = df[warunek]\n",
        "df"
      ],
      "execution_count": 79,
      "outputs": [
        {
          "output_type": "execute_result",
          "data": {
            "text/html": [
              "<div>\n",
              "<style scoped>\n",
              "    .dataframe tbody tr th:only-of-type {\n",
              "        vertical-align: middle;\n",
              "    }\n",
              "\n",
              "    .dataframe tbody tr th {\n",
              "        vertical-align: top;\n",
              "    }\n",
              "\n",
              "    .dataframe thead th {\n",
              "        text-align: right;\n",
              "    }\n",
              "</style>\n",
              "<table border=\"1\" class=\"dataframe\">\n",
              "  <thead>\n",
              "    <tr style=\"text-align: right;\">\n",
              "      <th></th>\n",
              "      <th>osm_id</th>\n",
              "      <th>code</th>\n",
              "      <th>fclass</th>\n",
              "      <th>name</th>\n",
              "      <th>layer</th>\n",
              "      <th>bridge</th>\n",
              "      <th>tunnel</th>\n",
              "      <th>geometry</th>\n",
              "    </tr>\n",
              "  </thead>\n",
              "  <tbody>\n",
              "    <tr>\n",
              "      <th>33</th>\n",
              "      <td>5111165</td>\n",
              "      <td>6103</td>\n",
              "      <td>subway</td>\n",
              "      <td>Linia metra M1</td>\n",
              "      <td>-3</td>\n",
              "      <td>F</td>\n",
              "      <td>T</td>\n",
              "      <td>LINESTRING (20.92881 52.29117, 20.92979 52.290...</td>\n",
              "    </tr>\n",
              "    <tr>\n",
              "      <th>1296</th>\n",
              "      <td>173159217</td>\n",
              "      <td>6103</td>\n",
              "      <td>subway</td>\n",
              "      <td>Linia metra M2</td>\n",
              "      <td>-4</td>\n",
              "      <td>F</td>\n",
              "      <td>T</td>\n",
              "      <td>LINESTRING (21.00176 52.23376, 21.00356 52.234...</td>\n",
              "    </tr>\n",
              "    <tr>\n",
              "      <th>1915</th>\n",
              "      <td>220730440</td>\n",
              "      <td>6103</td>\n",
              "      <td>subway</td>\n",
              "      <td>None</td>\n",
              "      <td>0</td>\n",
              "      <td>F</td>\n",
              "      <td>F</td>\n",
              "      <td>LINESTRING (21.05628 52.12553, 21.05702 52.125...</td>\n",
              "    </tr>\n",
              "    <tr>\n",
              "      <th>1917</th>\n",
              "      <td>220730446</td>\n",
              "      <td>6103</td>\n",
              "      <td>subway</td>\n",
              "      <td>None</td>\n",
              "      <td>0</td>\n",
              "      <td>F</td>\n",
              "      <td>F</td>\n",
              "      <td>LINESTRING (21.05596 52.12593, 21.05611 52.125...</td>\n",
              "    </tr>\n",
              "    <tr>\n",
              "      <th>1918</th>\n",
              "      <td>220730447</td>\n",
              "      <td>6103</td>\n",
              "      <td>subway</td>\n",
              "      <td>None</td>\n",
              "      <td>0</td>\n",
              "      <td>F</td>\n",
              "      <td>F</td>\n",
              "      <td>LINESTRING (21.05546 52.12622, 21.05569 52.12606)</td>\n",
              "    </tr>\n",
              "    <tr>\n",
              "      <th>...</th>\n",
              "      <td>...</td>\n",
              "      <td>...</td>\n",
              "      <td>...</td>\n",
              "      <td>...</td>\n",
              "      <td>...</td>\n",
              "      <td>...</td>\n",
              "      <td>...</td>\n",
              "      <td>...</td>\n",
              "    </tr>\n",
              "    <tr>\n",
              "      <th>6340</th>\n",
              "      <td>725681123</td>\n",
              "      <td>6103</td>\n",
              "      <td>subway</td>\n",
              "      <td>Tory odstawcze przy stacji Kabaty</td>\n",
              "      <td>-3</td>\n",
              "      <td>F</td>\n",
              "      <td>T</td>\n",
              "      <td>LINESTRING (21.06625 52.13094, 21.06612 52.13108)</td>\n",
              "    </tr>\n",
              "    <tr>\n",
              "      <th>6341</th>\n",
              "      <td>725681124</td>\n",
              "      <td>6103</td>\n",
              "      <td>subway</td>\n",
              "      <td>Tory odstawcze przy stacji Kabaty</td>\n",
              "      <td>-3</td>\n",
              "      <td>F</td>\n",
              "      <td>T</td>\n",
              "      <td>LINESTRING (21.06871 52.12831, 21.06784 52.129...</td>\n",
              "    </tr>\n",
              "    <tr>\n",
              "      <th>6342</th>\n",
              "      <td>725681125</td>\n",
              "      <td>6103</td>\n",
              "      <td>subway</td>\n",
              "      <td>Tory odstawcze przy stacji Kabaty</td>\n",
              "      <td>-3</td>\n",
              "      <td>F</td>\n",
              "      <td>T</td>\n",
              "      <td>LINESTRING (21.06625 52.13094, 21.06674 52.130...</td>\n",
              "    </tr>\n",
              "    <tr>\n",
              "      <th>6730</th>\n",
              "      <td>894901651</td>\n",
              "      <td>6103</td>\n",
              "      <td>subway</td>\n",
              "      <td>Linia metra M2</td>\n",
              "      <td>-4</td>\n",
              "      <td>F</td>\n",
              "      <td>T</td>\n",
              "      <td>LINESTRING (20.98203 52.22984, 20.98289 52.229...</td>\n",
              "    </tr>\n",
              "    <tr>\n",
              "      <th>6731</th>\n",
              "      <td>894901652</td>\n",
              "      <td>6103</td>\n",
              "      <td>subway</td>\n",
              "      <td>Linia metra M2</td>\n",
              "      <td>-4</td>\n",
              "      <td>F</td>\n",
              "      <td>T</td>\n",
              "      <td>LINESTRING (20.98377 52.23031, 20.98281 52.230...</td>\n",
              "    </tr>\n",
              "  </tbody>\n",
              "</table>\n",
              "<p>138 rows × 8 columns</p>\n",
              "</div>"
            ],
            "text/plain": [
              "         osm_id  code  ... tunnel                                           geometry\n",
              "33      5111165  6103  ...      T  LINESTRING (20.92881 52.29117, 20.92979 52.290...\n",
              "1296  173159217  6103  ...      T  LINESTRING (21.00176 52.23376, 21.00356 52.234...\n",
              "1915  220730440  6103  ...      F  LINESTRING (21.05628 52.12553, 21.05702 52.125...\n",
              "1917  220730446  6103  ...      F  LINESTRING (21.05596 52.12593, 21.05611 52.125...\n",
              "1918  220730447  6103  ...      F  LINESTRING (21.05546 52.12622, 21.05569 52.12606)\n",
              "...         ...   ...  ...    ...                                                ...\n",
              "6340  725681123  6103  ...      T  LINESTRING (21.06625 52.13094, 21.06612 52.13108)\n",
              "6341  725681124  6103  ...      T  LINESTRING (21.06871 52.12831, 21.06784 52.129...\n",
              "6342  725681125  6103  ...      T  LINESTRING (21.06625 52.13094, 21.06674 52.130...\n",
              "6730  894901651  6103  ...      T  LINESTRING (20.98203 52.22984, 20.98289 52.229...\n",
              "6731  894901652  6103  ...      T  LINESTRING (20.98377 52.23031, 20.98281 52.230...\n",
              "\n",
              "[138 rows x 8 columns]"
            ]
          },
          "metadata": {
            "tags": []
          },
          "execution_count": 79
        }
      ]
    },
    {
      "cell_type": "code",
      "metadata": {
        "id": "GgYY_xCFDGs9",
        "outputId": "a70c327d-080d-4821-f1e8-c3491f69538d",
        "colab": {
          "base_uri": "https://localhost:8080/"
        }
      },
      "source": [
        "df.shape"
      ],
      "execution_count": 80,
      "outputs": [
        {
          "output_type": "execute_result",
          "data": {
            "text/plain": [
              "(138, 8)"
            ]
          },
          "metadata": {
            "tags": []
          },
          "execution_count": 80
        }
      ]
    },
    {
      "cell_type": "code",
      "metadata": {
        "id": "eoALQSLm6I_a",
        "outputId": "607a8d4c-4e82-4aba-c809-4f4eecd7108e",
        "colab": {
          "base_uri": "https://localhost:8080/",
          "height": 35
        }
      },
      "source": [
        "df['geometry'].loc[33].geom_type"
      ],
      "execution_count": 81,
      "outputs": [
        {
          "output_type": "execute_result",
          "data": {
            "application/vnd.google.colaboratory.intrinsic+json": {
              "type": "string"
            },
            "text/plain": [
              "'LineString'"
            ]
          },
          "metadata": {
            "tags": []
          },
          "execution_count": 81
        }
      ]
    },
    {
      "cell_type": "code",
      "metadata": {
        "id": "BXUcik8qLdfI",
        "colab": {
          "base_uri": "https://localhost:8080/",
          "height": 78
        },
        "outputId": "cd2ad430-350d-440f-eab9-21b9bf364749"
      },
      "source": [
        "#zamiana POLYGON  i LINESTRING na point żeby obliczyć najbardziej skrajne koordynaty\n",
        "from shapely.geometry import Point\n",
        "\n",
        "nodes = GeoDataFrame(columns=[\"geometry\"])\n",
        "\n",
        "for i in df.index.to_list():\n",
        "  if df['geometry'].loc[i].geom_type=='Polygon':\n",
        "    for j in df.loc[i][\"geometry\"].exterior.coords:\n",
        "      nodes = nodes.append({'geometry': Point(j) },ignore_index=True)\n",
        "\n",
        "  elif df['geometry'].loc[i].geom_type=='LineString':\n",
        "    for j in df.loc[i][\"geometry\"].coords:\n",
        "      nodes = nodes.append({'geometry': Point(j) },ignore_index=True)\n",
        "\n",
        "  elif df['geometry'].loc[i].geom_type=='Point':\n",
        "    nodes = nodes.append({'geometry': df['geometry'].loc[i] },ignore_index=True)\n",
        "\n",
        "#podgląd losowego indexu\n",
        "nodes.sample()"
      ],
      "execution_count": 22,
      "outputs": [
        {
          "output_type": "execute_result",
          "data": {
            "text/html": [
              "<div>\n",
              "<style scoped>\n",
              "    .dataframe tbody tr th:only-of-type {\n",
              "        vertical-align: middle;\n",
              "    }\n",
              "\n",
              "    .dataframe tbody tr th {\n",
              "        vertical-align: top;\n",
              "    }\n",
              "\n",
              "    .dataframe thead th {\n",
              "        text-align: right;\n",
              "    }\n",
              "</style>\n",
              "<table border=\"1\" class=\"dataframe\">\n",
              "  <thead>\n",
              "    <tr style=\"text-align: right;\">\n",
              "      <th></th>\n",
              "      <th>geometry</th>\n",
              "    </tr>\n",
              "  </thead>\n",
              "  <tbody>\n",
              "    <tr>\n",
              "      <th>1287</th>\n",
              "      <td>POINT (21.01466 52.21653)</td>\n",
              "    </tr>\n",
              "  </tbody>\n",
              "</table>\n",
              "</div>"
            ],
            "text/plain": [
              "                       geometry\n",
              "1287  POINT (21.01466 52.21653)"
            ]
          },
          "metadata": {
            "tags": []
          },
          "execution_count": 22
        }
      ]
    },
    {
      "cell_type": "code",
      "metadata": {
        "id": "EZNuFvdK5tSn",
        "colab": {
          "base_uri": "https://localhost:8080/",
          "height": 992
        },
        "outputId": "dc113526-0f26-4a8a-9c2b-fad8be17a060"
      },
      "source": [
        "m = folium.Map(location=[nodes[\"geometry\"].y.mean() , nodes[\"geometry\"].x.mean()], \n",
        "               tiles=\"cartodbpositron\"\n",
        "               )\n",
        "\n",
        "folium.GeoJson(df).add_to(m)\n",
        "\n",
        "\n",
        "x_min = nodes[\"geometry\"].x.min()\n",
        "x_max = nodes[\"geometry\"].x.max()\n",
        "y_min = nodes[\"geometry\"].y.min()\n",
        "y_max = nodes[\"geometry\"].y.max()\n",
        "\n",
        "# szukanie lewego górnego rogu i dolnego prawego\n",
        "m.fit_bounds([[y_max , x_min], [y_min , x_max]]) \n",
        "\n",
        "m"
      ],
      "execution_count": 75,
      "outputs": [
        {
          "output_type": "execute_result",
          "data": {
            "text/html": [
              "<div style=\"width:100%;\"><div style=\"position:relative;width:100%;height:0;padding-bottom:60%;\"><span style=\"color:#565656\">Make this Notebook Trusted to load map: File -> Trust Notebook</span><iframe src=\"about:blank\" style=\"position:absolute;width:100%;height:100%;left:0;top:0;border:none !important;\" data-html=%3C%21DOCTYPE%20html%3E%0A%3Chead%3E%20%20%20%20%0A%20%20%20%20%3Cmeta%20http-equiv%3D%22content-type%22%20content%3D%22text/html%3B%20charset%3DUTF-8%22%20/%3E%0A%20%20%20%20%3Cscript%3EL_PREFER_CANVAS%3Dfalse%3B%20L_NO_TOUCH%3Dfalse%3B%20L_DISABLE_3D%3Dfalse%3B%3C/script%3E%0A%20%20%20%20%3Cscript%20src%3D%22https%3A//cdn.jsdelivr.net/npm/leaflet%401.4.0/dist/leaflet.js%22%3E%3C/script%3E%0A%20%20%20%20%3Cscript%20src%3D%22https%3A//code.jquery.com/jquery-1.12.4.min.js%22%3E%3C/script%3E%0A%20%20%20%20%3Cscript%20src%3D%22https%3A//maxcdn.bootstrapcdn.com/bootstrap/3.2.0/js/bootstrap.min.js%22%3E%3C/script%3E%0A%20%20%20%20%3Cscript%20src%3D%22https%3A//cdnjs.cloudflare.com/ajax/libs/Leaflet.awesome-markers/2.0.2/leaflet.awesome-markers.js%22%3E%3C/script%3E%0A%20%20%20%20%3Clink%20rel%3D%22stylesheet%22%20href%3D%22https%3A//cdn.jsdelivr.net/npm/leaflet%401.4.0/dist/leaflet.css%22/%3E%0A%20%20%20%20%3Clink%20rel%3D%22stylesheet%22%20href%3D%22https%3A//maxcdn.bootstrapcdn.com/bootstrap/3.2.0/css/bootstrap.min.css%22/%3E%0A%20%20%20%20%3Clink%20rel%3D%22stylesheet%22%20href%3D%22https%3A//maxcdn.bootstrapcdn.com/bootstrap/3.2.0/css/bootstrap-theme.min.css%22/%3E%0A%20%20%20%20%3Clink%20rel%3D%22stylesheet%22%20href%3D%22https%3A//maxcdn.bootstrapcdn.com/font-awesome/4.6.3/css/font-awesome.min.css%22/%3E%0A%20%20%20%20%3Clink%20rel%3D%22stylesheet%22%20href%3D%22https%3A//cdnjs.cloudflare.com/ajax/libs/Leaflet.awesome-markers/2.0.2/leaflet.awesome-markers.css%22/%3E%0A%20%20%20%20%3Clink%20rel%3D%22stylesheet%22%20href%3D%22https%3A//rawcdn.githack.com/python-visualization/folium/master/folium/templates/leaflet.awesome.rotate.css%22/%3E%0A%20%20%20%20%3Cstyle%3Ehtml%2C%20body%20%7Bwidth%3A%20100%25%3Bheight%3A%20100%25%3Bmargin%3A%200%3Bpadding%3A%200%3B%7D%3C/style%3E%0A%20%20%20%20%3Cstyle%3E%23map%20%7Bposition%3Aabsolute%3Btop%3A0%3Bbottom%3A0%3Bright%3A0%3Bleft%3A0%3B%7D%3C/style%3E%0A%20%20%20%20%0A%20%20%20%20%3Cmeta%20name%3D%22viewport%22%20content%3D%22width%3Ddevice-width%2C%0A%20%20%20%20%20%20%20%20initial-scale%3D1.0%2C%20maximum-scale%3D1.0%2C%20user-scalable%3Dno%22%20/%3E%0A%20%20%20%20%3Cstyle%3E%23map_854be3b2d08b4e8ba1a17f0b4cdcfe9e%20%7B%0A%20%20%20%20%20%20%20%20position%3A%20relative%3B%0A%20%20%20%20%20%20%20%20width%3A%20100.0%25%3B%0A%20%20%20%20%20%20%20%20height%3A%20100.0%25%3B%0A%20%20%20%20%20%20%20%20left%3A%200.0%25%3B%0A%20%20%20%20%20%20%20%20top%3A%200.0%25%3B%0A%20%20%20%20%20%20%20%20%7D%0A%20%20%20%20%3C/style%3E%0A%3C/head%3E%0A%3Cbody%3E%20%20%20%20%0A%20%20%20%20%0A%20%20%20%20%3Cdiv%20class%3D%22folium-map%22%20id%3D%22map_854be3b2d08b4e8ba1a17f0b4cdcfe9e%22%20%3E%3C/div%3E%0A%3C/body%3E%0A%3Cscript%3E%20%20%20%20%0A%20%20%20%20%0A%20%20%20%20%0A%20%20%20%20%20%20%20%20var%20bounds%20%3D%20null%3B%0A%20%20%20%20%0A%0A%20%20%20%20var%20map_854be3b2d08b4e8ba1a17f0b4cdcfe9e%20%3D%20L.map%28%0A%20%20%20%20%20%20%20%20%27map_854be3b2d08b4e8ba1a17f0b4cdcfe9e%27%2C%20%7B%0A%20%20%20%20%20%20%20%20center%3A%20%5B52.19167069210728%2C%2021.031042492256166%5D%2C%0A%20%20%20%20%20%20%20%20zoom%3A%2010%2C%0A%20%20%20%20%20%20%20%20maxBounds%3A%20bounds%2C%0A%20%20%20%20%20%20%20%20layers%3A%20%5B%5D%2C%0A%20%20%20%20%20%20%20%20worldCopyJump%3A%20false%2C%0A%20%20%20%20%20%20%20%20crs%3A%20L.CRS.EPSG3857%2C%0A%20%20%20%20%20%20%20%20zoomControl%3A%20true%2C%0A%20%20%20%20%20%20%20%20%7D%29%3B%0A%0A%0A%20%20%20%20%0A%20%20%20%20var%20tile_layer_9e109c0283ae406e9a1170bcb70cf30a%20%3D%20L.tileLayer%28%0A%20%20%20%20%20%20%20%20%27https%3A//cartodb-basemaps-%7Bs%7D.global.ssl.fastly.net/light_all/%7Bz%7D/%7Bx%7D/%7By%7D.png%27%2C%0A%20%20%20%20%20%20%20%20%7B%0A%20%20%20%20%20%20%20%20%22attribution%22%3A%20null%2C%0A%20%20%20%20%20%20%20%20%22detectRetina%22%3A%20false%2C%0A%20%20%20%20%20%20%20%20%22maxNativeZoom%22%3A%2018%2C%0A%20%20%20%20%20%20%20%20%22maxZoom%22%3A%2018%2C%0A%20%20%20%20%20%20%20%20%22minZoom%22%3A%200%2C%0A%20%20%20%20%20%20%20%20%22noWrap%22%3A%20false%2C%0A%20%20%20%20%20%20%20%20%22opacity%22%3A%201%2C%0A%20%20%20%20%20%20%20%20%22subdomains%22%3A%20%22abc%22%2C%0A%20%20%20%20%20%20%20%20%22tms%22%3A%20false%0A%7D%29.addTo%28map_854be3b2d08b4e8ba1a17f0b4cdcfe9e%29%3B%0A%20%20%20%20%0A%20%20%20%20%20%20%20%20var%20geo_json_185f76a2b4974831bcf2c8fdb2151aff%20%3D%20L.geoJson%28%0A%20%20%20%20%20%20%20%20%20%20%20%20%7B%22bbox%22%3A%20%5B20.925314%2C%2052.1246827%2C%2021.0729117%2C%2052.2929426%5D%2C%20%22features%22%3A%20%5B%7B%22bbox%22%3A%20%5B20.9288146%2C%2052.1320569%2C%2021.0649742%2C%2052.2911704%5D%2C%20%22geometry%22%3A%20%7B%22coordinates%22%3A%20%5B%5B20.9288146%2C%2052.2911704%5D%2C%20%5B20.9297924%2C%2052.2907196%5D%2C%20%5B20.936118%2C%2052.2878034%5D%2C%20%5B20.9393747%2C%2052.2863268%5D%2C%20%5B20.9436938%2C%2052.2843683%5D%2C%20%5B20.949353%2C%2052.2817144%5D%2C%20%5B20.9507219%2C%2052.2810724%5D%2C%20%5B20.9575475%2C%2052.2779447%5D%2C%20%5B20.9579616%2C%2052.277755%5D%2C%20%5B20.9599766%2C%2052.2768499%5D%2C%20%5B20.9603193%2C%2052.2766959%5D%2C%20%5B20.9613472%2C%2052.2761972%5D%2C%20%5B20.9622979%2C%2052.2757253%5D%2C%20%5B20.963157%2C%2052.2751522%5D%2C%20%5B20.9644899%2C%2052.2741023%5D%2C%20%5B20.9649083%2C%2052.27382%5D%2C%20%5B20.9652826%2C%2052.2735987%5D%2C%20%5B20.9656844%2C%2052.2733881%5D%2C%20%5B20.9662787%2C%2052.2730999%5D%2C%20%5B20.9668829%2C%2052.2728452%5D%2C%20%5B20.9674484%2C%2052.2726392%5D%2C%20%5B20.9680267%2C%2052.2724502%5D%2C%20%5B20.96864%2C%2052.2722771%5D%2C%20%5B20.9692565%2C%2052.2721232%5D%2C%20%5B20.9704557%2C%2052.2718623%5D%2C%20%5B20.9717037%2C%2052.2716073%5D%2C%20%5B20.973994%2C%2052.2713308%5D%2C%20%5B20.9742232%2C%2052.2712984%5D%2C%20%5B20.9769666%2C%2052.2708%5D%2C%20%5B20.9798318%2C%2052.270215%5D%2C%20%5B20.9832793%2C%2052.2694508%5D%2C%20%5B20.9843601%2C%2052.2692032%5D%2C%20%5B20.9858085%2C%2052.2689015%5D%2C%20%5B20.9860059%2C%2052.2688446%5D%2C%20%5B20.9861097%2C%2052.2688135%5D%2C%20%5B20.9861969%2C%2052.2687815%5D%2C%20%5B20.9863014%2C%2052.2687322%5D%2C%20%5B20.9864042%2C%2052.2686864%5D%2C%20%5B20.986502%2C%2052.268626%5D%2C%20%5B20.986585%2C%2052.2685656%5D%2C%20%5B20.9869605%2C%2052.2681526%5D%2C%20%5B20.9905945%2C%2052.2640996%5D%2C%20%5B20.9914796%2C%2052.2631836%5D%2C%20%5B20.9922775%2C%2052.2623579%5D%2C%20%5B20.9934952%2C%2052.2609286%5D%2C%20%5B20.9935802%2C%2052.2607638%5D%2C%20%5B20.9936124%2C%2052.2605832%5D%2C%20%5B20.9936339%2C%2052.2601925%5D%2C%20%5B20.9937333%2C%2052.2589034%5D%2C%20%5B20.9937815%2C%2052.2587568%5D%2C%20%5B20.9942661%2C%2052.2578592%5D%2C%20%5B20.9945673%2C%2052.2573391%5D%2C%20%5B20.994637%2C%2052.2572192%5D%2C%20%5B20.9947338%2C%2052.2571018%5D%2C%20%5B20.9948945%2C%2052.2569352%5D%2C%20%5B20.9950449%2C%2052.2567968%5D%2C%20%5B20.9970159%2C%2052.2550623%5D%2C%20%5B20.9972138%2C%2052.2548292%5D%2C%20%5B20.9973828%2C%2052.2545854%5D%2C%20%5B20.9975085%2C%2052.2543334%5D%2C%20%5B20.9975905%2C%2052.2540749%5D%2C%20%5B20.9981715%2C%2052.2517809%5D%2C%20%5B20.9991081%2C%2052.2483883%5D%2C%20%5B20.9994513%2C%2052.2474032%5D%2C%20%5B20.9998764%2C%2052.2465902%5D%2C%20%5B21.0004082%2C%2052.2458307%5D%2C%20%5B21.0010486%2C%2052.2449743%5D%2C%20%5B21.0022677%2C%2052.2435033%5D%2C%20%5B21.0036463%2C%2052.2420908%5D%2C%20%5B21.0041101%2C%2052.2414328%5D%2C%20%5B21.0043962%2C%2052.2408901%5D%2C%20%5B21.0063745%2C%2052.2374982%5D%2C%20%5B21.0073717%2C%2052.2358133%5D%2C%20%5B21.007794%2C%2052.2350624%5D%2C%20%5B21.0089717%2C%2052.2330256%5D%2C%20%5B21.009245%2C%2052.2325419%5D%2C%20%5B21.0092958%2C%2052.2324457%5D%2C%20%5B21.00943%2C%2052.232192%5D%2C%20%5B21.0097048%2C%2052.2316724%5D%2C%20%5B21.0099946%2C%2052.2311473%5D%2C%20%5B21.0104714%2C%2052.2305218%5D%2C%20%5B21.0114665%2C%2052.2293898%5D%2C%20%5B21.0121662%2C%2052.2285752%5D%2C%20%5B21.0124594%2C%2052.228232%5D%2C%20%5B21.0127792%2C%2052.2278554%5D%2C%20%5B21.0155689%2C%2052.2232364%5D%2C%20%5B21.0158598%2C%2052.222501%5D%2C%20%5B21.0158957%2C%2052.2220067%5D%2C%20%5B21.0157502%2C%2052.2210256%5D%2C%20%5B21.0155901%2C%2052.219986%5D%2C%20%5B21.0154591%2C%2052.2192782%5D%2C%20%5B21.0152972%2C%2052.2184638%5D%2C%20%5B21.0149873%2C%2052.217555%5D%2C%20%5B21.0146029%2C%2052.2165357%5D%2C%20%5B21.0145197%2C%2052.2163987%5D%2C%20%5B21.0144147%2C%2052.2162791%5D%2C%20%5B21.0139927%2C%2052.2159497%5D%2C%20%5B21.0100658%2C%2052.212884%5D%2C%20%5B21.0085197%2C%2052.211704%5D%2C%20%5B21.0077245%2C%2052.2111424%5D%2C%20%5B21.0071297%2C%2052.2105048%5D%2C%20%5B21.0072169%2C%2052.2097199%5D%2C%20%5B21.007655%2C%2052.2085168%5D%2C%20%5B21.0115553%2C%2052.200057%5D%2C%20%5B21.0120868%2C%2052.1989544%5D%2C%20%5B21.0130358%2C%2052.1968022%5D%2C%20%5B21.0161296%2C%2052.1906302%5D%2C%20%5B21.0164923%2C%2052.1899213%5D%2C%20%5B21.0168165%2C%2052.189312%5D%2C%20%5B21.0172808%2C%2052.1884646%5D%2C%20%5B21.0182539%2C%2052.186818%5D%2C%20%5B21.0195236%2C%2052.1847504%5D%2C%20%5B21.0201895%2C%2052.1839189%5D%2C%20%5B21.0216336%2C%2052.1827627%5D%2C%20%5B21.0221928%2C%2052.1823149%5D%2C%20%5B21.0229949%2C%2052.1816693%5D%2C%20%5B21.0238353%2C%2052.1809913%5D%2C%20%5B21.0266603%2C%2052.1789844%5D%2C%20%5B21.0271425%2C%2052.17862%5D%2C%20%5B21.0273527%2C%2052.178288%5D%2C%20%5B21.0273781%2C%2052.1779378%5D%2C%20%5B21.0272788%2C%2052.1776731%5D%2C%20%5B21.0262035%2C%2052.1747185%5D%2C%20%5B21.0261301%2C%2052.1740199%5D%2C%20%5B21.0261626%2C%2052.1734385%5D%2C%20%5B21.0262192%2C%2052.1727599%5D%2C%20%5B21.0262605%2C%2052.1718516%5D%2C%20%5B21.0274544%2C%2052.1625742%5D%2C%20%5B21.0275445%2C%2052.1620294%5D%2C%20%5B21.0276543%2C%2052.1616497%5D%2C%20%5B21.0278307%2C%2052.1612268%5D%2C%20%5B21.0280965%2C%2052.1607514%5D%2C%20%5B21.0285282%2C%2052.1601831%5D%2C%20%5B21.0290483%2C%2052.1596639%5D%2C%20%5B21.0297725%2C%2052.1590765%5D%2C%20%5B21.0305312%2C%2052.1585376%5D%2C%20%5B21.0325913%2C%2052.1572929%5D%2C%20%5B21.0336177%2C%2052.156669%5D%2C%20%5B21.0346808%2C%2052.1560439%5D%2C%20%5B21.0356117%2C%2052.1555124%5D%2C%20%5B21.0369144%2C%2052.1547185%5D%2C%20%5B21.0373446%2C%2052.1544563%5D%2C%20%5B21.0384116%2C%2052.153806%5D%2C%20%5B21.045253%2C%2052.149735%5D%2C%20%5B21.0461042%2C%2052.1492285%5D%2C%20%5B21.0490425%2C%2052.1475432%5D%2C%20%5B21.0501459%2C%2052.1467603%5D%2C%20%5B21.0518633%2C%2052.145271%5D%2C%20%5B21.0521796%2C%2052.1450008%5D%2C%20%5B21.0522953%2C%2052.144902%5D%2C%20%5B21.0553527%2C%2052.1420424%5D%2C%20%5B21.0563547%2C%2052.141079%5D%2C%20%5B21.0571889%2C%2052.1402768%5D%2C%20%5B21.0578679%2C%2052.1395735%5D%2C%20%5B21.0613965%2C%2052.1358522%5D%2C%20%5B21.06276%2C%2052.1344027%5D%2C%20%5B21.0649742%2C%2052.1320569%5D%5D%2C%20%22type%22%3A%20%22LineString%22%7D%2C%20%22id%22%3A%20%2233%22%2C%20%22properties%22%3A%20%7B%22bridge%22%3A%20%22F%22%2C%20%22code%22%3A%206103%2C%20%22fclass%22%3A%20%22subway%22%2C%20%22highlight%22%3A%20%7B%7D%2C%20%22layer%22%3A%20-3%2C%20%22name%22%3A%20%22Linia%20metra%20M1%22%2C%20%22osm_id%22%3A%20%225111165%22%2C%20%22style%22%3A%20%7B%7D%2C%20%22tunnel%22%3A%20%22T%22%7D%2C%20%22type%22%3A%20%22Feature%22%7D%2C%20%7B%22bbox%22%3A%20%5B21.0017576%2C%2052.2337552%2C%2021.0429806%2C%2052.2546238%5D%2C%20%22geometry%22%3A%20%7B%22coordinates%22%3A%20%5B%5B21.0017576%2C%2052.2337552%5D%2C%20%5B21.0035578%2C%2052.2341168%5D%2C%20%5B21.0082318%2C%2052.2350702%5D%2C%20%5B21.0089942%2C%2052.2352207%5D%2C%20%5B21.0099167%2C%2052.2354028%5D%2C%20%5B21.015993%2C%2052.2365906%5D%2C%20%5B21.0168489%2C%2052.2367518%5D%2C%20%5B21.0177663%2C%2052.2369245%5D%2C%20%5B21.0222938%2C%2052.237699%5D%2C%20%5B21.0258724%2C%2052.2383111%5D%2C%20%5B21.0273734%2C%2052.2385469%5D%2C%20%5B21.0289062%2C%2052.2388754%5D%2C%20%5B21.029922%2C%2052.2391648%5D%2C%20%5B21.0318692%2C%2052.2398479%5D%2C%20%5B21.0394058%2C%2052.2428835%5D%2C%20%5B21.0406138%2C%2052.2433686%5D%2C%20%5B21.0412698%2C%2052.2436438%5D%2C%20%5B21.0416954%2C%2052.2438853%5D%2C%20%5B21.0420141%2C%2052.2441325%5D%2C%20%5B21.0422887%2C%2052.2443806%5D%2C%20%5B21.042546%2C%2052.2446968%5D%2C%20%5B21.042738%2C%2052.2450327%5D%2C%20%5B21.0429079%2C%2052.2454681%5D%2C%20%5B21.0429699%2C%2052.2458926%5D%2C%20%5B21.0429747%2C%2052.2460668%5D%2C%20%5B21.0429806%2C%2052.2462839%5D%2C%20%5B21.0429622%2C%2052.24698%5D%2C%20%5B21.0429476%2C%2052.2475953%5D%2C%20%5B21.0429119%2C%2052.2479996%5D%2C%20%5B21.0428289%2C%2052.2484082%5D%2C%20%5B21.0426953%2C%2052.2488312%5D%2C%20%5B21.0425091%2C%2052.2491342%5D%2C%20%5B21.0422408%2C%2052.2494835%5D%2C%20%5B21.0419399%2C%2052.2497892%5D%2C%20%5B21.041517%2C%2052.2500864%5D%2C%20%5B21.0408878%2C%2052.2504175%5D%2C%20%5B21.0400562%2C%2052.2508548%5D%2C%20%5B21.0392597%2C%2052.2512653%5D%2C%20%5B21.0385041%2C%2052.2516708%5D%2C%20%5B21.0377747%2C%2052.2521511%5D%2C%20%5B21.0373478%2C%2052.2524915%5D%2C%20%5B21.0369696%2C%2052.2528189%5D%2C%20%5B21.0363962%2C%2052.2533617%5D%2C%20%5B21.0355917%2C%2052.2541024%5D%2C%20%5B21.035031%2C%2052.2546238%5D%5D%2C%20%22type%22%3A%20%22LineString%22%7D%2C%20%22id%22%3A%20%221296%22%2C%20%22properties%22%3A%20%7B%22bridge%22%3A%20%22F%22%2C%20%22code%22%3A%206103%2C%20%22fclass%22%3A%20%22subway%22%2C%20%22highlight%22%3A%20%7B%7D%2C%20%22layer%22%3A%20-4%2C%20%22name%22%3A%20%22Linia%20metra%20M2%22%2C%20%22osm_id%22%3A%20%22173159217%22%2C%20%22style%22%3A%20%7B%7D%2C%20%22tunnel%22%3A%20%22T%22%7D%2C%20%22type%22%3A%20%22Feature%22%7D%2C%20%7B%22bbox%22%3A%20%5B21.0562834%2C%2052.1246827%2C%2021.0729117%2C%2052.125525%5D%2C%20%22geometry%22%3A%20%7B%22coordinates%22%3A%20%5B%5B21.0562834%2C%2052.125525%5D%2C%20%5B21.0570243%2C%2052.1254742%5D%2C%20%5B21.057436%2C%2052.1254425%5D%2C%20%5B21.0589327%2C%2052.1253518%5D%2C%20%5B21.0619714%2C%2052.1252076%5D%2C%20%5B21.0635217%2C%2052.1251467%5D%2C%20%5B21.0650693%2C%2052.1250792%5D%2C%20%5B21.0665472%2C%2052.1250117%5D%2C%20%5B21.0672875%2C%2052.1249689%5D%2C%20%5B21.0684275%2C%2052.124875%5D%2C%20%5B21.0691853%2C%2052.124841%5D%2C%20%5B21.0703184%2C%2052.1247861%5D%2C%20%5B21.0713645%2C%2052.1247459%5D%2C%20%5B21.0729117%2C%2052.1246827%5D%5D%2C%20%22type%22%3A%20%22LineString%22%7D%2C%20%22id%22%3A%20%221915%22%2C%20%22properties%22%3A%20%7B%22bridge%22%3A%20%22F%22%2C%20%22code%22%3A%206103%2C%20%22fclass%22%3A%20%22subway%22%2C%20%22highlight%22%3A%20%7B%7D%2C%20%22layer%22%3A%200%2C%20%22name%22%3A%20null%2C%20%22osm_id%22%3A%20%22220730440%22%2C%20%22style%22%3A%20%7B%7D%2C%20%22tunnel%22%3A%20%22F%22%7D%2C%20%22type%22%3A%20%22Feature%22%7D%2C%20%7B%22bbox%22%3A%20%5B21.055957%2C%2052.1254742%2C%2021.0570243%2C%2052.1259315%5D%2C%20%22geometry%22%3A%20%7B%22coordinates%22%3A%20%5B%5B21.055957%2C%2052.1259315%5D%2C%20%5B21.0561104%2C%2052.1258136%5D%2C%20%5B21.0562936%2C%2052.1256885%5D%2C%20%5B21.056463%2C%2052.1256093%5D%2C%20%5B21.0566615%2C%2052.1255491%5D%2C%20%5B21.0570243%2C%2052.1254742%5D%5D%2C%20%22type%22%3A%20%22LineString%22%7D%2C%20%22id%22%3A%20%221917%22%2C%20%22properties%22%3A%20%7B%22bridge%22%3A%20%22F%22%2C%20%22code%22%3A%206103%2C%20%22fclass%22%3A%20%22subway%22%2C%20%22highlight%22%3A%20%7B%7D%2C%20%22layer%22%3A%200%2C%20%22name%22%3A%20null%2C%20%22osm_id%22%3A%20%22220730446%22%2C%20%22style%22%3A%20%7B%7D%2C%20%22tunnel%22%3A%20%22F%22%7D%2C%20%22type%22%3A%20%22Feature%22%7D%2C%20%7B%22bbox%22%3A%20%5B21.0554583%2C%2052.1260577%2C%2021.0556869%2C%2052.1262218%5D%2C%20%22geometry%22%3A%20%7B%22coordinates%22%3A%20%5B%5B21.0554583%2C%2052.1262218%5D%2C%20%5B21.0556869%2C%2052.1260577%5D%5D%2C%20%22type%22%3A%20%22LineString%22%7D%2C%20%22id%22%3A%20%221918%22%2C%20%22properties%22%3A%20%7B%22bridge%22%3A%20%22F%22%2C%20%22code%22%3A%206103%2C%20%22fclass%22%3A%20%22subway%22%2C%20%22highlight%22%3A%20%7B%7D%2C%20%22layer%22%3A%200%2C%20%22name%22%3A%20null%2C%20%22osm_id%22%3A%20%22220730447%22%2C%20%22style%22%3A%20%7B%7D%2C%20%22tunnel%22%3A%20%22F%22%7D%2C%20%22type%22%3A%20%22Feature%22%7D%2C%20%7B%22bbox%22%3A%20%5B21.0528171%2C%2052.1272304%2C%2021.0533166%2C%2052.1275149%5D%2C%20%22geometry%22%3A%20%7B%22coordinates%22%3A%20%5B%5B21.0528171%2C%2052.1275149%5D%2C%20%5B21.0533166%2C%2052.1272304%5D%5D%2C%20%22type%22%3A%20%22LineString%22%7D%2C%20%22id%22%3A%20%221924%22%2C%20%22properties%22%3A%20%7B%22bridge%22%3A%20%22F%22%2C%20%22code%22%3A%206103%2C%20%22fclass%22%3A%20%22subway%22%2C%20%22highlight%22%3A%20%7B%7D%2C%20%22layer%22%3A%200%2C%20%22name%22%3A%20null%2C%20%22osm_id%22%3A%20%22220734455%22%2C%20%22style%22%3A%20%7B%7D%2C%20%22tunnel%22%3A%20%22F%22%7D%2C%20%22type%22%3A%20%22Feature%22%7D%2C%20%7B%22bbox%22%3A%20%5B21.0500364%2C%2052.127908%2C%2021.0519964%2C%2052.128745%5D%2C%20%22geometry%22%3A%20%7B%22coordinates%22%3A%20%5B%5B21.0500364%2C%2052.128745%5D%2C%20%5B21.0508005%2C%2052.1284671%5D%2C%20%5B21.0510677%2C%2052.1283722%5D%2C%20%5B21.0512616%2C%2052.1282953%5D%2C%20%5B21.0517811%2C%2052.12806%5D%2C%20%5B21.0519964%2C%2052.127908%5D%5D%2C%20%22type%22%3A%20%22LineString%22%7D%2C%20%22id%22%3A%20%221925%22%2C%20%22properties%22%3A%20%7B%22bridge%22%3A%20%22F%22%2C%20%22code%22%3A%206103%2C%20%22fclass%22%3A%20%22subway%22%2C%20%22highlight%22%3A%20%7B%7D%2C%20%22layer%22%3A%200%2C%20%22name%22%3A%20null%2C%20%22osm_id%22%3A%20%22220735012%22%2C%20%22style%22%3A%20%7B%7D%2C%20%22tunnel%22%3A%20%22F%22%7D%2C%20%22type%22%3A%20%22Feature%22%7D%2C%20%7B%22bbox%22%3A%20%5B21.0557525%2C%2052.1260481%2C%2021.062337%2C%2052.1266414%5D%2C%20%22geometry%22%3A%20%7B%22coordinates%22%3A%20%5B%5B21.062337%2C%2052.1260481%5D%2C%20%5B21.0620231%2C%2052.1261234%5D%2C%20%5B21.0615074%2C%2052.1262121%5D%2C%20%5B21.0612921%2C%2052.1262283%5D%2C%20%5B21.0611809%2C%2052.1262366%5D%2C%20%5B21.0573234%2C%2052.1265273%5D%2C%20%5B21.0572202%2C%2052.1265344%5D%2C%20%5B21.0557525%2C%2052.1266414%5D%5D%2C%20%22type%22%3A%20%22LineString%22%7D%2C%20%22id%22%3A%20%221940%22%2C%20%22properties%22%3A%20%7B%22bridge%22%3A%20%22F%22%2C%20%22code%22%3A%206103%2C%20%22fclass%22%3A%20%22subway%22%2C%20%22highlight%22%3A%20%7B%7D%2C%20%22layer%22%3A%200%2C%20%22name%22%3A%20null%2C%20%22osm_id%22%3A%20%22220740626%22%2C%20%22style%22%3A%20%7B%7D%2C%20%22tunnel%22%3A%20%22F%22%7D%2C%20%22type%22%3A%20%22Feature%22%7D%2C%20%7B%22bbox%22%3A%20%5B21.0562094%2C%2052.1259255%2C%2021.0627217%2C%2052.1265548%5D%2C%20%22geometry%22%3A%20%7B%22coordinates%22%3A%20%5B%5B21.0627217%2C%2052.1259255%5D%2C%20%5B21.062312%2C%2052.1260082%5D%2C%20%5B21.0620099%2C%2052.1260692%5D%2C%20%5B21.0615744%2C%2052.1261495%5D%2C%20%5B21.0613491%2C%2052.1261742%5D%2C%20%5B21.0612807%2C%2052.1261799%5D%2C%20%5B21.0611717%2C%2052.1261891%5D%2C%20%5B21.057313%2C%2052.1264735%5D%2C%20%5B21.0572117%2C%2052.1264805%5D%2C%20%5B21.0562094%2C%2052.1265548%5D%5D%2C%20%22type%22%3A%20%22LineString%22%7D%2C%20%22id%22%3A%20%221941%22%2C%20%22properties%22%3A%20%7B%22bridge%22%3A%20%22F%22%2C%20%22code%22%3A%206103%2C%20%22fclass%22%3A%20%22subway%22%2C%20%22highlight%22%3A%20%7B%7D%2C%20%22layer%22%3A%200%2C%20%22name%22%3A%20null%2C%20%22osm_id%22%3A%20%22220740628%22%2C%20%22style%22%3A%20%7B%7D%2C%20%22tunnel%22%3A%20%22F%22%7D%2C%20%22type%22%3A%20%22Feature%22%7D%2C%20%7B%22bbox%22%3A%20%5B21.0547727%2C%2052.1266927%2C%2021.0567971%2C%2052.1268381%5D%2C%20%22geometry%22%3A%20%7B%22coordinates%22%3A%20%5B%5B21.0547727%2C%2052.1268381%5D%2C%20%5B21.0567971%2C%2052.1266927%5D%5D%2C%20%22type%22%3A%20%22LineString%22%7D%2C%20%22id%22%3A%20%221942%22%2C%20%22properties%22%3A%20%7B%22bridge%22%3A%20%22F%22%2C%20%22code%22%3A%206103%2C%20%22fclass%22%3A%20%22subway%22%2C%20%22highlight%22%3A%20%7B%7D%2C%20%22layer%22%3A%200%2C%20%22name%22%3A%20null%2C%20%22osm_id%22%3A%20%22220741917%22%2C%20%22style%22%3A%20%7B%7D%2C%20%22tunnel%22%3A%20%22F%22%7D%2C%20%22type%22%3A%20%22Feature%22%7D%2C%20%7B%22bbox%22%3A%20%5B21.0544154%2C%2052.1267397%2C%2021.0568064%2C%2052.1269108%5D%2C%20%22geometry%22%3A%20%7B%22coordinates%22%3A%20%5B%5B21.0544154%2C%2052.1269108%5D%2C%20%5B21.0568064%2C%2052.1267397%5D%5D%2C%20%22type%22%3A%20%22LineString%22%7D%2C%20%22id%22%3A%20%221943%22%2C%20%22properties%22%3A%20%7B%22bridge%22%3A%20%22F%22%2C%20%22code%22%3A%206103%2C%20%22fclass%22%3A%20%22subway%22%2C%20%22highlight%22%3A%20%7B%7D%2C%20%22layer%22%3A%200%2C%20%22name%22%3A%20null%2C%20%22osm_id%22%3A%20%22220741918%22%2C%20%22style%22%3A%20%7B%7D%2C%20%22tunnel%22%3A%20%22F%22%7D%2C%20%22type%22%3A%20%22Feature%22%7D%2C%20%7B%22bbox%22%3A%20%5B21.0548746%2C%2052.1257862%2C%2021.0631413%2C%2052.126699%5D%2C%20%22geometry%22%3A%20%7B%22coordinates%22%3A%20%5B%5B21.0631413%2C%2052.1257862%5D%2C%20%5B21.0628351%2C%2052.1258383%5D%2C%20%5B21.062481%2C%2052.1259058%5D%2C%20%5B21.0622048%2C%2052.1259668%5D%2C%20%5B21.0618266%2C%2052.1260326%5D%2C%20%5B21.0613143%2C%2052.1260705%5D%2C%20%5B21.0612558%2C%2052.1260746%5D%2C%20%5B21.0611509%2C%2052.126082%5D%2C%20%5B21.0572926%2C%2052.1263686%5D%2C%20%5B21.0571949%2C%2052.1263751%5D%2C%20%5B21.0562395%2C%2052.126446%5D%2C%20%5B21.0560669%2C%2052.1264655%5D%2C%20%5B21.0548746%2C%2052.126699%5D%5D%2C%20%22type%22%3A%20%22LineString%22%7D%2C%20%22id%22%3A%20%221944%22%2C%20%22properties%22%3A%20%7B%22bridge%22%3A%20%22F%22%2C%20%22code%22%3A%206103%2C%20%22fclass%22%3A%20%22subway%22%2C%20%22highlight%22%3A%20%7B%7D%2C%20%22layer%22%3A%200%2C%20%22name%22%3A%20null%2C%20%22osm_id%22%3A%20%22220741919%22%2C%20%22style%22%3A%20%7B%7D%2C%20%22tunnel%22%3A%20%22F%22%7D%2C%20%22type%22%3A%20%22Feature%22%7D%2C%20%7B%22bbox%22%3A%20%5B21.0563619%2C%2052.1259058%2C%2021.062481%2C%2052.1263566%5D%2C%20%22geometry%22%3A%20%7B%22coordinates%22%3A%20%5B%5B21.0563619%2C%2052.1263566%5D%2C%20%5B21.0571821%2C%2052.126295%5D%2C%20%5B21.0572771%2C%2052.1262888%5D%2C%20%5B21.0611345%2C%2052.1259979%5D%2C%20%5B21.0612361%2C%2052.1259913%5D%2C%20%5B21.0613089%2C%2052.1259865%5D%2C%20%5B21.062481%2C%2052.1259058%5D%5D%2C%20%22type%22%3A%20%22LineString%22%7D%2C%20%22id%22%3A%20%221945%22%2C%20%22properties%22%3A%20%7B%22bridge%22%3A%20%22F%22%2C%20%22code%22%3A%206103%2C%20%22fclass%22%3A%20%22subway%22%2C%20%22highlight%22%3A%20%7B%7D%2C%20%22layer%22%3A%200%2C%20%22name%22%3A%20null%2C%20%22osm_id%22%3A%20%22220741920%22%2C%20%22style%22%3A%20%7B%7D%2C%20%22tunnel%22%3A%20%22F%22%7D%2C%20%22type%22%3A%20%22Feature%22%7D%2C%20%7B%22bbox%22%3A%20%5B21.0539794%2C%2052.1260692%2C%2021.0620099%2C%2052.1270011%5D%2C%20%22geometry%22%3A%20%7B%22coordinates%22%3A%20%5B%5B21.0620099%2C%2052.1260692%5D%2C%20%5B21.0612674%2C%2052.1261235%5D%2C%20%5B21.0611605%2C%2052.1261313%5D%2C%20%5B21.0573029%2C%2052.1264215%5D%2C%20%5B21.0572033%2C%2052.1264278%5D%2C%20%5B21.0566888%2C%2052.1264651%5D%2C%20%5B21.0565494%2C%2052.1264823%5D%2C%20%5B21.0562094%2C%2052.1265548%5D%2C%20%5B21.0557525%2C%2052.1266414%5D%2C%20%5B21.0553569%2C%2052.1267226%5D%2C%20%5B21.0547727%2C%2052.1268381%5D%2C%20%5B21.0544154%2C%2052.1269108%5D%2C%20%5B21.0539794%2C%2052.1270011%5D%5D%2C%20%22type%22%3A%20%22LineString%22%7D%2C%20%22id%22%3A%20%221946%22%2C%20%22properties%22%3A%20%7B%22bridge%22%3A%20%22F%22%2C%20%22code%22%3A%206103%2C%20%22fclass%22%3A%20%22subway%22%2C%20%22highlight%22%3A%20%7B%7D%2C%20%22layer%22%3A%200%2C%20%22name%22%3A%20null%2C%20%22osm_id%22%3A%20%22220741921%22%2C%20%22style%22%3A%20%7B%7D%2C%20%22tunnel%22%3A%20%22F%22%7D%2C%20%22type%22%3A%20%22Feature%22%7D%2C%20%7B%22bbox%22%3A%20%5B21.0564605%2C%2052.1256885%2C%2021.0624354%2C%2052.1261906%5D%2C%20%22geometry%22%3A%20%7B%22coordinates%22%3A%20%5B%5B21.0564605%2C%2052.1261906%5D%2C%20%5B21.0567458%2C%2052.1261377%5D%2C%20%5B21.0569306%2C%2052.1260997%5D%2C%20%5B21.0571484%2C%2052.1260835%5D%2C%20%5B21.0572354%2C%2052.1260744%5D%2C%20%5B21.0610929%2C%2052.1257841%5D%2C%20%5B21.0611856%2C%2052.1257778%5D%2C%20%5B21.0612633%2C%2052.1257725%5D%2C%20%5B21.0624354%2C%2052.1256885%5D%5D%2C%20%22type%22%3A%20%22LineString%22%7D%2C%20%22id%22%3A%20%221947%22%2C%20%22properties%22%3A%20%7B%22bridge%22%3A%20%22F%22%2C%20%22code%22%3A%206103%2C%20%22fclass%22%3A%20%22subway%22%2C%20%22highlight%22%3A%20%7B%7D%2C%20%22layer%22%3A%200%2C%20%22name%22%3A%20null%2C%20%22osm_id%22%3A%20%22220741922%22%2C%20%22style%22%3A%20%7B%7D%2C%20%22tunnel%22%3A%20%22F%22%7D%2C%20%22type%22%3A%20%22Feature%22%7D%2C%20%7B%22bbox%22%3A%20%5B21.0558291%2C%2052.1256737%2C%2021.0670079%2C%2052.1263627%5D%2C%20%22geometry%22%3A%20%7B%22coordinates%22%3A%20%5B%5B21.0558291%2C%2052.1263627%5D%2C%20%5B21.056156%2C%2052.1262961%5D%2C%20%5B21.0564605%2C%2052.1261906%5D%2C%20%5B21.0566649%2C%2052.1261193%5D%2C%20%5B21.0568591%2C%2052.1260724%5D%2C%20%5B21.056974%2C%2052.1260536%5D%2C%20%5B21.0571418%2C%2052.1260424%5D%2C%20%5B21.0572274%2C%2052.1260333%5D%2C%20%5B21.0610852%2C%2052.1257443%5D%2C%20%5B21.0611763%2C%2052.1257385%5D%2C%20%5B21.0612633%2C%2052.1257329%5D%2C%20%5B21.062068%2C%2052.1256737%5D%2C%20%5B21.0624354%2C%2052.1256885%5D%2C%20%5B21.0627668%2C%2052.1257144%5D%2C%20%5B21.0631114%2C%2052.1257311%5D%2C%20%5B21.0635366%2C%2052.1257546%5D%2C%20%5B21.0638719%2C%2052.1257695%5D%2C%20%5B21.0641091%2C%2052.1257796%5D%2C%20%5B21.0651025%2C%2052.1258275%5D%2C%20%5B21.0652839%2C%2052.1258367%5D%2C%20%5B21.0656326%2C%2052.1258515%5D%2C%20%5B21.0663965%2C%2052.1258942%5D%2C%20%5B21.0670079%2C%2052.1259249%5D%5D%2C%20%22type%22%3A%20%22LineString%22%7D%2C%20%22id%22%3A%20%221948%22%2C%20%22properties%22%3A%20%7B%22bridge%22%3A%20%22F%22%2C%20%22code%22%3A%206103%2C%20%22fclass%22%3A%20%22subway%22%2C%20%22highlight%22%3A%20%7B%7D%2C%20%22layer%22%3A%200%2C%20%22name%22%3A%20null%2C%20%22osm_id%22%3A%20%22220741923%22%2C%20%22style%22%3A%20%7B%7D%2C%20%22tunnel%22%3A%20%22F%22%7D%2C%20%22type%22%3A%20%22Feature%22%7D%2C%20%7B%22bbox%22%3A%20%5B21.0566534%2C%2052.1258383%2C%2021.0628351%2C%2052.1262946%5D%2C%20%22geometry%22%3A%20%7B%22coordinates%22%3A%20%5B%5B21.0566534%2C%2052.1262946%5D%2C%20%5B21.0571755%2C%2052.1262537%5D%2C%20%5B21.057269%2C%2052.1262472%5D%2C%20%5B21.0611262%2C%2052.1259553%5D%2C%20%5B21.0612262%2C%2052.1259495%5D%2C%20%5B21.0612982%2C%2052.1259454%5D%2C%20%5B21.0628351%2C%2052.1258383%5D%5D%2C%20%22type%22%3A%20%22LineString%22%7D%2C%20%22id%22%3A%20%221949%22%2C%20%22properties%22%3A%20%7B%22bridge%22%3A%20%22F%22%2C%20%22code%22%3A%206103%2C%20%22fclass%22%3A%20%22subway%22%2C%20%22highlight%22%3A%20%7B%7D%2C%20%22layer%22%3A%200%2C%20%22name%22%3A%20null%2C%20%22osm_id%22%3A%20%22220741924%22%2C%20%22style%22%3A%20%7B%7D%2C%20%22tunnel%22%3A%20%22F%22%7D%2C%20%22type%22%3A%20%22Feature%22%7D%2C%20%7B%22bbox%22%3A%20%5B21.0560409%2C%2052.1259668%2C%2021.0622048%2C%2052.126422%5D%2C%20%22geometry%22%3A%20%7B%22coordinates%22%3A%20%5B%5B21.0622048%2C%2052.1259668%5D%2C%20%5B21.0613223%2C%2052.1260244%5D%2C%20%5B21.0612453%2C%2052.12603%5D%2C%20%5B21.0611422%2C%2052.1260376%5D%2C%20%5B21.0572847%2C%2052.1263279%5D%2C%20%5B21.0571884%2C%2052.1263346%5D%2C%20%5B21.0560409%2C%2052.126422%5D%5D%2C%20%22type%22%3A%20%22LineString%22%7D%2C%20%22id%22%3A%20%221950%22%2C%20%22properties%22%3A%20%7B%22bridge%22%3A%20%22F%22%2C%20%22code%22%3A%206103%2C%20%22fclass%22%3A%20%22subway%22%2C%20%22highlight%22%3A%20%7B%7D%2C%20%22layer%22%3A%200%2C%20%22name%22%3A%20null%2C%20%22osm_id%22%3A%20%22220741925%22%2C%20%22style%22%3A%20%7B%7D%2C%20%22tunnel%22%3A%20%22F%22%7D%2C%20%22type%22%3A%20%22Feature%22%7D%2C%20%7B%22bbox%22%3A%20%5B21.0551676%2C%2052.1257546%2C%2021.0635366%2C%2052.1265909%5D%2C%20%22geometry%22%3A%20%7B%22coordinates%22%3A%20%5B%5B21.0551676%2C%2052.1265909%5D%2C%20%5B21.0560409%2C%2052.126422%5D%2C%20%5B21.0563619%2C%2052.1263566%5D%2C%20%5B21.0566534%2C%2052.1262946%5D%2C%20%5B21.0569129%2C%2052.126242%5D%2C%20%5B21.0571696%2C%2052.1262167%5D%2C%20%5B21.0572613%2C%2052.1262076%5D%2C%20%5B21.0611192%2C%2052.125919%5D%2C%20%5B21.0612172%2C%2052.1259114%5D%2C%20%5B21.0612901%2C%2052.1259058%5D%2C%20%5B21.0631413%2C%2052.1257862%5D%2C%20%5B21.0635366%2C%2052.1257546%5D%5D%2C%20%22type%22%3A%20%22LineString%22%7D%2C%20%22id%22%3A%20%221951%22%2C%20%22properties%22%3A%20%7B%22bridge%22%3A%20%22F%22%2C%20%22code%22%3A%206103%2C%20%22fclass%22%3A%20%22subway%22%2C%20%22highlight%22%3A%20%7B%7D%2C%20%22layer%22%3A%200%2C%20%22name%22%3A%20null%2C%20%22osm_id%22%3A%20%22220741926%22%2C%20%22style%22%3A%20%7B%7D%2C%20%22tunnel%22%3A%20%22F%22%7D%2C%20%22type%22%3A%20%22Feature%22%7D%2C%20%7B%22bbox%22%3A%20%5B21.056156%2C%2052.1257144%2C%2021.0627668%2C%2052.1262961%5D%2C%20%22geometry%22%3A%20%7B%22coordinates%22%3A%20%5B%5B21.056156%2C%2052.1262961%5D%2C%20%5B21.0566256%2C%2052.1262024%5D%2C%20%5B21.0569677%2C%2052.126139%5D%2C%20%5B21.0571545%2C%2052.1261222%5D%2C%20%5B21.0572431%2C%2052.1261142%5D%2C%20%5B21.0611006%2C%2052.1258234%5D%2C%20%5B21.0611948%2C%2052.1258164%5D%2C%20%5B21.0612767%2C%2052.1258103%5D%2C%20%5B21.0627668%2C%2052.1257144%5D%5D%2C%20%22type%22%3A%20%22LineString%22%7D%2C%20%22id%22%3A%20%221952%22%2C%20%22properties%22%3A%20%7B%22bridge%22%3A%20%22F%22%2C%20%22code%22%3A%206103%2C%20%22fclass%22%3A%20%22subway%22%2C%20%22highlight%22%3A%20%7B%7D%2C%20%22layer%22%3A%200%2C%20%22name%22%3A%20null%2C%20%22osm_id%22%3A%20%22220741928%22%2C%20%22style%22%3A%20%7B%7D%2C%20%22tunnel%22%3A%20%22F%22%7D%2C%20%22type%22%3A%20%22Feature%22%7D%2C%20%7B%22bbox%22%3A%20%5B21.0566256%2C%2052.1257311%2C%2021.0631114%2C%2052.1262024%5D%2C%20%22geometry%22%3A%20%7B%22coordinates%22%3A%20%5B%5B21.0566256%2C%2052.1262024%5D%2C%20%5B21.0571611%2C%2052.1261632%5D%2C%20%5B21.0572514%2C%2052.1261566%5D%2C%20%5B21.0611086%2C%2052.1258646%5D%2C%20%5B21.0612044%2C%2052.125857%5D%2C%20%5B21.061274%2C%2052.1258515%5D%2C%20%5B21.0631114%2C%2052.1257311%5D%5D%2C%20%22type%22%3A%20%22LineString%22%7D%2C%20%22id%22%3A%20%221953%22%2C%20%22properties%22%3A%20%7B%22bridge%22%3A%20%22F%22%2C%20%22code%22%3A%206103%2C%20%22fclass%22%3A%20%22subway%22%2C%20%22highlight%22%3A%20%7B%7D%2C%20%22layer%22%3A%200%2C%20%22name%22%3A%20null%2C%20%22osm_id%22%3A%20%22220741929%22%2C%20%22style%22%3A%20%7B%7D%2C%20%22tunnel%22%3A%20%22F%22%7D%2C%20%22type%22%3A%20%22Feature%22%7D%2C%20%7B%22bbox%22%3A%20%5B21.055044%2C%2052.1258571%2C%2021.0562703%2C%2052.1265719%5D%2C%20%22geometry%22%3A%20%7B%22coordinates%22%3A%20%5B%5B21.055044%2C%2052.1265719%5D%2C%20%5B21.0552568%2C%2052.1264506%5D%2C%20%5B21.0555359%2C%2052.1263059%5D%2C%20%5B21.0558236%2C%2052.1261266%5D%2C%20%5B21.0560993%2C%2052.1259552%5D%2C%20%5B21.0562703%2C%2052.1258571%5D%5D%2C%20%22type%22%3A%20%22LineString%22%7D%2C%20%22id%22%3A%20%221954%22%2C%20%22properties%22%3A%20%7B%22bridge%22%3A%20%22F%22%2C%20%22code%22%3A%206103%2C%20%22fclass%22%3A%20%22subway%22%2C%20%22highlight%22%3A%20%7B%7D%2C%20%22layer%22%3A%200%2C%20%22name%22%3A%20null%2C%20%22osm_id%22%3A%20%22220742889%22%2C%20%22style%22%3A%20%7B%7D%2C%20%22tunnel%22%3A%20%22F%22%7D%2C%20%22type%22%3A%20%22Feature%22%7D%2C%20%7B%22bbox%22%3A%20%5B21.0558901%2C%2052.1255271%2C%2021.0617568%2C%2052.1262792%5D%2C%20%22geometry%22%3A%20%7B%22coordinates%22%3A%20%5B%5B21.0558901%2C%2052.1262792%5D%2C%20%5B21.0560759%2C%2052.126171%5D%2C%20%5B21.0563697%2C%2052.126029%5D%2C%20%5B21.0564577%2C%2052.1259898%5D%2C%20%5B21.0565703%2C%2052.1259506%5D%2C%20%5B21.0566876%2C%2052.125919%5D%2C%20%5B21.0568282%2C%2052.1258937%5D%2C%20%5B21.0570186%2C%2052.1258763%5D%2C%20%5B21.0571142%2C%2052.125869%5D%2C%20%5B21.0571942%2C%2052.1258628%5D%2C%20%5B21.0610513%2C%2052.1255699%5D%2C%20%5B21.0611352%2C%2052.1255646%5D%2C%20%5B21.0612338%2C%2052.1255584%5D%2C%20%5B21.0617568%2C%2052.1255271%5D%5D%2C%20%22type%22%3A%20%22LineString%22%7D%2C%20%22id%22%3A%20%221955%22%2C%20%22properties%22%3A%20%7B%22bridge%22%3A%20%22F%22%2C%20%22code%22%3A%206103%2C%20%22fclass%22%3A%20%22subway%22%2C%20%22highlight%22%3A%20%7B%7D%2C%20%22layer%22%3A%200%2C%20%22name%22%3A%20null%2C%20%22osm_id%22%3A%20%22220742892%22%2C%20%22style%22%3A%20%7B%7D%2C%20%22tunnel%22%3A%20%22F%22%7D%2C%20%22type%22%3A%20%22Feature%22%7D%2C%20%7B%22bbox%22%3A%20%5B21.0553343%2C%2052.1254695%2C%2021.0627519%2C%2052.126472%5D%2C%20%22geometry%22%3A%20%7B%22coordinates%22%3A%20%5B%5B21.0553343%2C%2052.126472%5D%2C%20%5B21.0561269%2C%2052.1260376%5D%2C%20%5B21.0563918%2C%2052.1259217%5D%2C%20%5B21.0564939%2C%2052.1258837%5D%2C%20%5B21.0566447%2C%2052.1258468%5D%2C%20%5B21.0567512%2C%2052.1258238%5D%2C%20%5B21.0569126%2C%2052.1258023%5D%2C%20%5B21.0571012%2C%2052.1257874%5D%2C%20%5B21.0571784%2C%2052.1257813%5D%2C%20%5B21.0610359%2C%2052.1254908%5D%2C%20%5B21.0611143%2C%2052.1254851%5D%2C%20%5B21.061215%2C%2052.1254777%5D%2C%20%5B21.0614645%2C%2052.1254695%5D%2C%20%5B21.06162%2C%2052.1254761%5D%2C%20%5B21.0620545%2C%2052.1255419%5D%2C%20%5B21.0624059%2C%2052.1256045%5D%2C%20%5B21.0627519%2C%2052.1256621%5D%5D%2C%20%22type%22%3A%20%22LineString%22%7D%2C%20%22id%22%3A%20%221956%22%2C%20%22properties%22%3A%20%7B%22bridge%22%3A%20%22F%22%2C%20%22code%22%3A%206103%2C%20%22fclass%22%3A%20%22subway%22%2C%20%22highlight%22%3A%20%7B%7D%2C%20%22layer%22%3A%200%2C%20%22name%22%3A%20null%2C%20%22osm_id%22%3A%20%22220742894%22%2C%20%22style%22%3A%20%7B%7D%2C%20%22tunnel%22%3A%20%22F%22%7D%2C%20%22type%22%3A%20%22Feature%22%7D%2C%20%7B%22bbox%22%3A%20%5B21.0539994%2C%2052.1255831%2C%2021.0620894%2C%2052.1269032%5D%2C%20%22geometry%22%3A%20%7B%22coordinates%22%3A%20%5B%5B21.0539994%2C%2052.1269032%5D%2C%20%5B21.0544103%2C%2052.1267786%5D%2C%20%5B21.055044%2C%2052.1265719%5D%2C%20%5B21.0553343%2C%2052.126472%5D%2C%20%5B21.0556109%2C%2052.1263757%5D%2C%20%5B21.0558901%2C%2052.1262792%5D%2C%20%5B21.0562042%2C%2052.1261717%5D%2C%20%5B21.0566565%2C%2052.1260156%5D%2C%20%5B21.0567369%2C%2052.1259953%5D%2C%20%5B21.0568481%2C%2052.1259747%5D%2C%20%5B21.0569538%2C%2052.1259621%5D%2C%20%5B21.0570455%2C%2052.1259563%5D%2C%20%5B21.0571271%2C%2052.12595%5D%2C%20%5B21.05721%2C%2052.1259437%5D%2C%20%5B21.0610677%2C%2052.1256541%5D%2C%20%5B21.0611548%2C%2052.1256475%5D%2C%20%5B21.0612445%2C%2052.1256407%5D%2C%20%5B21.0620894%2C%2052.1255831%5D%5D%2C%20%22type%22%3A%20%22LineString%22%7D%2C%20%22id%22%3A%20%221957%22%2C%20%22properties%22%3A%20%7B%22bridge%22%3A%20%22F%22%2C%20%22code%22%3A%206103%2C%20%22fclass%22%3A%20%22subway%22%2C%20%22highlight%22%3A%20%7B%7D%2C%20%22layer%22%3A%200%2C%20%22name%22%3A%20null%2C%20%22osm_id%22%3A%20%22220742896%22%2C%20%22style%22%3A%20%7B%7D%2C%20%22tunnel%22%3A%20%22F%22%7D%2C%20%22type%22%3A%20%22Feature%22%7D%2C%20%7B%22bbox%22%3A%20%5B21.0562042%2C%2052.1255683%2C%2021.0624059%2C%2052.1261717%5D%2C%20%22geometry%22%3A%20%7B%22coordinates%22%3A%20%5B%5B21.0562042%2C%2052.1261717%5D%2C%20%5B21.0563366%2C%2052.1261014%5D%2C%20%5B21.0564083%2C%2052.1260609%5D%2C%20%5B21.0565119%2C%2052.126017%5D%2C%20%5B21.0565961%2C%2052.1259894%5D%2C%20%5B21.0566957%2C%2052.1259634%5D%2C%20%5B21.05684%2C%2052.1259332%5D%2C%20%5B21.0571209%2C%2052.1259109%5D%2C%20%5B21.0572023%2C%2052.1259044%5D%2C%20%5B21.0610596%2C%2052.1256127%5D%2C%20%5B21.0611452%2C%2052.1256067%5D%2C%20%5B21.0612472%2C%2052.1255996%5D%2C%20%5B21.0616898%2C%2052.1255683%5D%2C%20%5B21.0619231%2C%2052.1255749%5D%2C%20%5B21.0620894%2C%2052.1255831%5D%2C%20%5B21.0624059%2C%2052.1256045%5D%5D%2C%20%22type%22%3A%20%22LineString%22%7D%2C%20%22id%22%3A%20%221958%22%2C%20%22properties%22%3A%20%7B%22bridge%22%3A%20%22F%22%2C%20%22code%22%3A%206103%2C%20%22fclass%22%3A%20%22subway%22%2C%20%22highlight%22%3A%20%7B%7D%2C%20%22layer%22%3A%200%2C%20%22name%22%3A%20null%2C%20%22osm_id%22%3A%20%22220742899%22%2C%20%22style%22%3A%20%7B%7D%2C%20%22tunnel%22%3A%20%22F%22%7D%2C%20%22type%22%3A%20%22Feature%22%7D%2C%20%7B%22bbox%22%3A%20%5B21.0556109%2C%2052.125509%2C%2021.0620545%2C%2052.1263757%5D%2C%20%22geometry%22%3A%20%7B%22coordinates%22%3A%20%5B%5B21.0556109%2C%2052.1263757%5D%2C%20%5B21.0563578%2C%2052.1259856%5D%2C%20%5B21.0564297%2C%2052.125953%5D%2C%20%5B21.0565342%2C%2052.1259174%5D%2C%20%5B21.0567075%2C%2052.1258714%5D%2C%20%5B21.056848%2C%2052.1258508%5D%2C%20%5B21.0569986%2C%2052.1258386%5D%2C%20%5B21.0571079%2C%2052.1258293%5D%2C%20%5B21.0571864%2C%2052.1258227%5D%2C%20%5B21.061044%2C%2052.1255322%5D%2C%20%5B21.061126%2C%2052.1255254%5D%2C%20%5B21.0612257%2C%2052.1255172%5D%2C%20%5B21.0614162%2C%2052.125509%5D%2C%20%5B21.0617568%2C%2052.1255271%5D%2C%20%5B21.0620545%2C%2052.1255419%5D%5D%2C%20%22type%22%3A%20%22LineString%22%7D%2C%20%22id%22%3A%20%221959%22%2C%20%22properties%22%3A%20%7B%22bridge%22%3A%20%22F%22%2C%20%22code%22%3A%206103%2C%20%22fclass%22%3A%20%22subway%22%2C%20%22highlight%22%3A%20%7B%7D%2C%20%22layer%22%3A%200%2C%20%22name%22%3A%20null%2C%20%22osm_id%22%3A%20%22220742901%22%2C%20%22style%22%3A%20%7B%7D%2C%20%22tunnel%22%3A%20%22F%22%7D%2C%20%22type%22%3A%20%22Feature%22%7D%2C%20%7B%22bbox%22%3A%20%5B21.0652839%2C%2052.1258145%2C%2021.0656492%2C%2052.1258367%5D%2C%20%22geometry%22%3A%20%7B%22coordinates%22%3A%20%5B%5B21.0652839%2C%2052.1258367%5D%2C%20%5B21.0656492%2C%2052.1258145%5D%5D%2C%20%22type%22%3A%20%22LineString%22%7D%2C%20%22id%22%3A%20%221960%22%2C%20%22properties%22%3A%20%7B%22bridge%22%3A%20%22F%22%2C%20%22code%22%3A%206103%2C%20%22fclass%22%3A%20%22subway%22%2C%20%22highlight%22%3A%20%7B%7D%2C%20%22layer%22%3A%200%2C%20%22name%22%3A%20null%2C%20%22osm_id%22%3A%20%22220744708%22%2C%20%22style%22%3A%20%7B%7D%2C%20%22tunnel%22%3A%20%22F%22%7D%2C%20%22type%22%3A%20%22Feature%22%7D%2C%20%7B%22bbox%22%3A%20%5B21.0659029%2C%2052.1258261%2C%2021.0663965%2C%2052.1258942%5D%2C%20%22geometry%22%3A%20%7B%22coordinates%22%3A%20%5B%5B21.0659029%2C%2052.1258261%5D%2C%20%5B21.0660486%2C%2052.125843%5D%2C%20%5B21.0662391%2C%2052.1258759%5D%2C%20%5B21.0663965%2C%2052.1258942%5D%5D%2C%20%22type%22%3A%20%22LineString%22%7D%2C%20%22id%22%3A%20%221961%22%2C%20%22properties%22%3A%20%7B%22bridge%22%3A%20%22F%22%2C%20%22code%22%3A%206103%2C%20%22fclass%22%3A%20%22subway%22%2C%20%22highlight%22%3A%20%7B%7D%2C%20%22layer%22%3A%200%2C%20%22name%22%3A%20null%2C%20%22osm_id%22%3A%20%22220744709%22%2C%20%22style%22%3A%20%7B%7D%2C%20%22tunnel%22%3A%20%22F%22%7D%2C%20%22type%22%3A%20%22Feature%22%7D%2C%20%7B%22bbox%22%3A%20%5B21.0642315%2C%2052.1256917%2C%2021.0649352%2C%2052.1257774%5D%2C%20%22geometry%22%3A%20%7B%22coordinates%22%3A%20%5B%5B21.0649352%2C%2052.1257774%5D%2C%20%5B21.0642315%2C%2052.1256917%5D%5D%2C%20%22type%22%3A%20%22LineString%22%7D%2C%20%22id%22%3A%20%221962%22%2C%20%22properties%22%3A%20%7B%22bridge%22%3A%20%22F%22%2C%20%22code%22%3A%206103%2C%20%22fclass%22%3A%20%22subway%22%2C%20%22highlight%22%3A%20%7B%7D%2C%20%22layer%22%3A%200%2C%20%22name%22%3A%20null%2C%20%22osm_id%22%3A%20%22220744710%22%2C%20%22style%22%3A%20%7B%7D%2C%20%22tunnel%22%3A%20%22F%22%7D%2C%20%22type%22%3A%20%22Feature%22%7D%2C%20%7B%22bbox%22%3A%20%5B21.0645001%2C%2052.1258275%2C%2021.0651025%2C%2052.1258532%5D%2C%20%22geometry%22%3A%20%7B%22coordinates%22%3A%20%5B%5B21.0651025%2C%2052.1258275%5D%2C%20%5B21.0649111%2C%2052.125834%5D%2C%20%5B21.0646809%2C%2052.1258508%5D%2C%20%5B21.0645001%2C%2052.1258532%5D%5D%2C%20%22type%22%3A%20%22LineString%22%7D%2C%20%22id%22%3A%20%221963%22%2C%20%22properties%22%3A%20%7B%22bridge%22%3A%20%22F%22%2C%20%22code%22%3A%206103%2C%20%22fclass%22%3A%20%22subway%22%2C%20%22highlight%22%3A%20%7B%7D%2C%20%22layer%22%3A%200%2C%20%22name%22%3A%20null%2C%20%22osm_id%22%3A%20%22220744711%22%2C%20%22style%22%3A%20%7B%7D%2C%20%22tunnel%22%3A%20%22F%22%7D%2C%20%22type%22%3A%20%22Feature%22%7D%2C%20%7B%22bbox%22%3A%20%5B21.0641091%2C%2052.125761%2C%2021.0646134%2C%2052.1257796%5D%2C%20%22geometry%22%3A%20%7B%22coordinates%22%3A%20%5B%5B21.0641091%2C%2052.1257796%5D%2C%20%5B21.0642707%2C%2052.1257763%5D%2C%20%5B21.0644509%2C%2052.1257635%5D%2C%20%5B21.0646134%2C%2052.125761%5D%5D%2C%20%22type%22%3A%20%22LineString%22%7D%2C%20%22id%22%3A%20%221964%22%2C%20%22properties%22%3A%20%7B%22bridge%22%3A%20%22F%22%2C%20%22code%22%3A%206103%2C%20%22fclass%22%3A%20%22subway%22%2C%20%22highlight%22%3A%20%7B%7D%2C%20%22layer%22%3A%200%2C%20%22name%22%3A%20null%2C%20%22osm_id%22%3A%20%22220744712%22%2C%20%22style%22%3A%20%7B%7D%2C%20%22tunnel%22%3A%20%22F%22%7D%2C%20%22type%22%3A%20%22Feature%22%7D%2C%20%7B%22bbox%22%3A%20%5B21.0635488%2C%2052.1257095%2C%2021.0638719%2C%2052.1257695%5D%2C%20%22geometry%22%3A%20%7B%22coordinates%22%3A%20%5B%5B21.0635488%2C%2052.1257095%5D%2C%20%5B21.0638719%2C%2052.1257695%5D%5D%2C%20%22type%22%3A%20%22LineString%22%7D%2C%20%22id%22%3A%20%221965%22%2C%20%22properties%22%3A%20%7B%22bridge%22%3A%20%22F%22%2C%20%22code%22%3A%206103%2C%20%22fclass%22%3A%20%22subway%22%2C%20%22highlight%22%3A%20%7B%7D%2C%20%22layer%22%3A%200%2C%20%22name%22%3A%20null%2C%20%22osm_id%22%3A%20%22220744812%22%2C%20%22style%22%3A%20%7B%7D%2C%20%22tunnel%22%3A%20%22F%22%7D%2C%20%22type%22%3A%20%22Feature%22%7D%2C%20%7B%22bbox%22%3A%20%5B21.0656326%2C%2052.1258515%2C%2021.0661535%2C%2052.1259363%5D%2C%20%22geometry%22%3A%20%7B%22coordinates%22%3A%20%5B%5B21.0656326%2C%2052.1258515%5D%2C%20%5B21.0661535%2C%2052.1259363%5D%5D%2C%20%22type%22%3A%20%22LineString%22%7D%2C%20%22id%22%3A%20%221966%22%2C%20%22properties%22%3A%20%7B%22bridge%22%3A%20%22F%22%2C%20%22code%22%3A%206103%2C%20%22fclass%22%3A%20%22subway%22%2C%20%22highlight%22%3A%20%7B%7D%2C%20%22layer%22%3A%200%2C%20%22name%22%3A%20null%2C%20%22osm_id%22%3A%20%22220744813%22%2C%20%22style%22%3A%20%7B%7D%2C%20%22tunnel%22%3A%20%22F%22%7D%2C%20%22type%22%3A%20%22Feature%22%7D%2C%20%7B%22bbox%22%3A%20%5B21.0501033%2C%2052.1256308%2C%2021.067015%2C%2052.128667%5D%2C%20%22geometry%22%3A%20%7B%22coordinates%22%3A%20%5B%5B21.067015%2C%2052.1258799%5D%2C%20%5B21.0663154%2C%2052.125844%5D%2C%20%5B21.0659029%2C%2052.1258261%5D%2C%20%5B21.0656492%2C%2052.1258145%5D%2C%20%5B21.0649352%2C%2052.1257774%5D%2C%20%5B21.0646134%2C%2052.125761%5D%2C%20%5B21.0635488%2C%2052.1257095%5D%2C%20%5B21.0632025%2C%2052.1256852%5D%2C%20%5B21.0627519%2C%2052.1256621%5D%2C%20%5B21.0621055%2C%2052.1256308%5D%2C%20%5B21.0612606%2C%2052.1256918%5D%2C%20%5B21.0611669%2C%2052.1256987%5D%2C%20%5B21.0610776%2C%2052.1257052%5D%2C%20%5B21.05722%2C%2052.1259951%5D%2C%20%5B21.0571352%2C%2052.1260009%5D%2C%20%5B21.0569959%2C%2052.1260105%5D%2C%20%5B21.0567733%2C%2052.1260443%5D%2C%20%5B21.0566674%2C%2052.1260712%5D%2C%20%5B21.0565584%2C%2052.1261078%5D%2C%20%5B21.0561566%2C%2052.1262448%5D%2C%20%5B21.0558291%2C%2052.1263627%5D%2C%20%5B21.0551676%2C%2052.1265909%5D%2C%20%5B21.0548746%2C%2052.126699%5D%2C%20%5B21.0543593%2C%2052.1268576%5D%2C%20%5B21.0539794%2C%2052.1270011%5D%2C%20%5B21.0538521%2C%2052.1270393%5D%2C%20%5B21.0537599%2C%2052.1270759%5D%2C%20%5B21.0528171%2C%2052.1275149%5D%2C%20%5B21.0523693%2C%2052.1277279%5D%2C%20%5B21.0519964%2C%2052.127908%5D%2C%20%5B21.0513599%2C%2052.1281982%5D%2C%20%5B21.051278%2C%2052.1282365%5D%2C%20%5B21.051183%2C%2052.1282745%5D%2C%20%5B21.0510077%2C%2052.1283386%5D%2C%20%5B21.0501033%2C%2052.128667%5D%5D%2C%20%22type%22%3A%20%22LineString%22%7D%2C%20%22id%22%3A%20%221967%22%2C%20%22properties%22%3A%20%7B%22bridge%22%3A%20%22F%22%2C%20%22code%22%3A%206103%2C%20%22fclass%22%3A%20%22subway%22%2C%20%22highlight%22%3A%20%7B%7D%2C%20%22layer%22%3A%200%2C%20%22name%22%3A%20null%2C%20%22osm_id%22%3A%20%22220746303%22%2C%20%22style%22%3A%20%7B%7D%2C%20%22tunnel%22%3A%20%22F%22%7D%2C%20%22type%22%3A%20%22Feature%22%7D%2C%20%7B%22bbox%22%3A%20%5B21.0524312%2C%2052.1253532%2C%2021.0632025%2C%2052.1276409%5D%2C%20%22geometry%22%3A%20%7B%22coordinates%22%3A%20%5B%5B21.0524312%2C%2052.1276409%5D%2C%20%5B21.0533166%2C%2052.1272304%5D%2C%20%5B21.0539994%2C%2052.1269032%5D%2C%20%5B21.0547723%2C%2052.126525%5D%2C%20%5B21.0554583%2C%2052.1262218%5D%2C%20%5B21.0562703%2C%2052.1258571%5D%2C%20%5B21.0564083%2C%2052.1257939%5D%2C%20%5B21.0565628%2C%2052.125743%5D%2C%20%5B21.0568006%2C%2052.1256817%5D%2C%20%5B21.0569444%2C%2052.1256537%5D%2C%20%5B21.0570888%2C%2052.1256325%5D%2C%20%5B21.0579785%2C%2052.1255698%5D%2C%20%5B21.0608735%2C%2052.1253574%5D%2C%20%5B21.0609956%2C%2052.1253532%5D%2C%20%5B21.0610946%2C%2052.1253544%5D%2C%20%5B21.0613206%2C%2052.1253666%5D%2C%20%5B21.0618051%2C%2052.1254382%5D%2C%20%5B21.0627689%2C%2052.1256156%5D%2C%20%5B21.0632025%2C%2052.1256852%5D%5D%2C%20%22type%22%3A%20%22LineString%22%7D%2C%20%22id%22%3A%20%221968%22%2C%20%22properties%22%3A%20%7B%22bridge%22%3A%20%22F%22%2C%20%22code%22%3A%206103%2C%20%22fclass%22%3A%20%22subway%22%2C%20%22highlight%22%3A%20%7B%7D%2C%20%22layer%22%3A%200%2C%20%22name%22%3A%20null%2C%20%22osm_id%22%3A%20%22220746304%22%2C%20%22style%22%3A%20%7B%7D%2C%20%22tunnel%22%3A%20%22F%22%7D%2C%20%22type%22%3A%20%22Feature%22%7D%2C%20%7B%22bbox%22%3A%20%5B21.067015%2C%2052.1258799%2C%2021.0693508%2C%2052.1283359%5D%2C%20%22geometry%22%3A%20%7B%22coordinates%22%3A%20%5B%5B21.067015%2C%2052.1258799%5D%2C%20%5B21.0673808%2C%2052.1259075%5D%2C%20%5B21.0676634%2C%2052.1259495%5D%2C%20%5B21.0679487%2C%2052.1260055%5D%2C%20%5B21.0682068%2C%2052.1260893%5D%2C%20%5B21.0684697%2C%2052.1261951%5D%2C%20%5B21.0687754%2C%2052.126341%5D%2C%20%5B21.0689834%2C%2052.126465%5D%2C%20%5B21.0691537%2C%2052.1266433%5D%2C%20%5B21.0693211%2C%2052.1269052%5D%2C%20%5B21.0693508%2C%2052.1270693%5D%2C%20%5B21.0693437%2C%2052.1272301%5D%2C%20%5B21.0693222%2C%2052.1274451%5D%2C%20%5B21.0692604%2C%2052.1276511%5D%2C%20%5B21.0690676%2C%2052.1280186%5D%2C%20%5B21.0688317%2C%2052.1283359%5D%5D%2C%20%22type%22%3A%20%22LineString%22%7D%2C%20%22id%22%3A%20%221969%22%2C%20%22properties%22%3A%20%7B%22bridge%22%3A%20%22F%22%2C%20%22code%22%3A%206103%2C%20%22fclass%22%3A%20%22subway%22%2C%20%22highlight%22%3A%20%7B%7D%2C%20%22layer%22%3A%20-3%2C%20%22name%22%3A%20null%2C%20%22osm_id%22%3A%20%22220750372%22%2C%20%22style%22%3A%20%7B%7D%2C%20%22tunnel%22%3A%20%22T%22%7D%2C%20%22type%22%3A%20%22Feature%22%7D%2C%20%7B%22bbox%22%3A%20%5B20.9398379%2C%2052.2288578%2C%2020.9783903%2C%2052.2396745%5D%2C%20%22geometry%22%3A%20%7B%22coordinates%22%3A%20%5B%5B20.9783903%2C%2052.2294156%5D%2C%20%5B20.9780716%2C%2052.229392%5D%2C%20%5B20.9756551%2C%2052.2291773%5D%2C%20%5B20.9708446%2C%2052.2288578%5D%2C%20%5B20.970412%2C%2052.2288813%5D%2C%20%5B20.9699966%2C%2052.2289395%5D%2C%20%5B20.9696288%2C%2052.2290161%5D%2C%20%5B20.9692788%2C%2052.2291234%5D%2C%20%5B20.9687743%2C%2052.2293158%5D%2C%20%5B20.9685182%2C%2052.2294649%5D%2C%20%5B20.9680275%2C%2052.2297686%5D%2C%20%5B20.967621%2C%2052.2301151%5D%2C%20%5B20.9673586%2C%2052.2303338%5D%2C%20%5B20.9670915%2C%2052.2306387%5D%2C%20%5B20.966911%2C%2052.2309532%5D%2C%20%5B20.9664675%2C%2052.232299%5D%2C%20%5B20.966243%2C%2052.2330463%5D%2C%20%5B20.9661429%2C%2052.2333793%5D%2C%20%5B20.965438%2C%2052.2351782%5D%2C%20%5B20.965232%2C%2052.2355347%5D%2C%20%5B20.9649611%2C%2052.2359668%5D%2C%20%5B20.9644609%2C%2052.2364773%5D%2C%20%5B20.9640608%2C%2052.2367613%5D%2C%20%5B20.9636876%2C%2052.2369602%5D%2C%20%5B20.9633774%2C%2052.237123%5D%2C%20%5B20.9630319%2C%2052.237281%5D%2C%20%5B20.9628906%2C%2052.2373408%5D%2C%20%5B20.962682%2C%2052.2374165%5D%2C%20%5B20.9622921%2C%2052.2375672%5D%2C%20%5B20.9618553%2C%2052.2376929%5D%2C%20%5B20.9614045%2C%2052.2377785%5D%2C%20%5B20.9601715%2C%2052.2378794%5D%2C%20%5B20.959241%2C%2052.2379581%5D%2C%20%5B20.958836%2C%2052.2379923%5D%2C%20%5B20.9572857%2C%2052.2380702%5D%2C%20%5B20.9542315%2C%2052.2382797%5D%2C%20%5B20.9510463%2C%2052.2385667%5D%2C%20%5B20.9448806%2C%2052.2392017%5D%2C%20%5B20.9424692%2C%2052.2394278%5D%2C%20%5B20.9398379%2C%2052.2396745%5D%5D%2C%20%22type%22%3A%20%22LineString%22%7D%2C%20%22id%22%3A%20%222520%22%2C%20%22properties%22%3A%20%7B%22bridge%22%3A%20%22F%22%2C%20%22code%22%3A%206103%2C%20%22fclass%22%3A%20%22subway%22%2C%20%22highlight%22%3A%20%7B%7D%2C%20%22layer%22%3A%20-4%2C%20%22name%22%3A%20%22Linia%20metra%20M2%22%2C%20%22osm_id%22%3A%20%22244400999%22%2C%20%22style%22%3A%20%7B%7D%2C%20%22tunnel%22%3A%20%22T%22%7D%2C%20%22type%22%3A%20%22Feature%22%7D%2C%20%7B%22bbox%22%3A%20%5B21.0332546%2C%2052.256231%2C%2021.0561473%2C%2052.2758731%5D%2C%20%22geometry%22%3A%20%7B%22coordinates%22%3A%20%5B%5B21.0561473%2C%2052.2758731%5D%2C%20%5B21.0553884%2C%2052.2753772%5D%2C%20%5B21.0549966%2C%2052.2751212%5D%2C%20%5B21.0541791%2C%2052.2746087%5D%2C%20%5B21.0538547%2C%2052.2743808%5D%2C%20%5B21.0531364%2C%2052.2737005%5D%2C%20%5B21.0523706%2C%2052.2728833%5D%2C%20%5B21.0518264%2C%2052.2720462%5D%2C%20%5B21.0517152%2C%2052.2717942%5D%2C%20%5B21.0515564%2C%2052.2713352%5D%2C%20%5B21.0515381%2C%2052.2712655%5D%2C%20%5B21.0515246%2C%2052.2711954%5D%2C%20%5B21.0514736%2C%2052.2707833%5D%2C%20%5B21.05144%2C%2052.2704593%5D%2C%20%5B21.0513233%2C%2052.2695907%5D%2C%20%5B21.0512126%2C%2052.2687629%5D%2C%20%5B21.0510958%2C%2052.267825%5D%2C%20%5B21.0509473%2C%2052.2671889%5D%2C%20%5B21.0507653%2C%2052.2667883%5D%2C%20%5B21.0499577%2C%2052.2658234%5D%2C%20%5B21.0495886%2C%2052.2655576%5D%2C%20%5B21.0485435%2C%2052.2649434%5D%2C%20%5B21.0471112%2C%2052.2643061%5D%2C%20%5B21.0452792%2C%2052.2635015%5D%2C%20%5B21.0448625%2C%2052.2633185%5D%2C%20%5B21.043456%2C%2052.2627265%5D%2C%20%5B21.042238%2C%2052.2622031%5D%2C%20%5B21.0417521%2C%2052.2620043%5D%2C%20%5B21.0401932%2C%2052.2614244%5D%2C%20%5B21.0382054%2C%2052.260761%5D%2C%20%5B21.0360342%2C%2052.2599212%5D%2C%20%5B21.0355034%2C%2052.259618%5D%2C%20%5B21.03502%2C%2052.2592959%5D%2C%20%5B21.0344285%2C%2052.2588192%5D%2C%20%5B21.0337985%2C%2052.258029%5D%2C%20%5B21.0334284%2C%2052.2573757%5D%2C%20%5B21.0332928%2C%2052.2569868%5D%2C%20%5B21.0332546%2C%2052.256777%5D%2C%20%5B21.0332704%2C%2052.2566072%5D%2C%20%5B21.0332865%2C%2052.2564733%5D%2C%20%5B21.0333748%2C%2052.256231%5D%5D%2C%20%22type%22%3A%20%22LineString%22%7D%2C%20%22id%22%3A%20%222523%22%2C%20%22properties%22%3A%20%7B%22bridge%22%3A%20%22F%22%2C%20%22code%22%3A%206103%2C%20%22fclass%22%3A%20%22subway%22%2C%20%22highlight%22%3A%20%7B%7D%2C%20%22layer%22%3A%20-4%2C%20%22name%22%3A%20%22Linia%20metra%20M2%22%2C%20%22osm_id%22%3A%20%22247886195%22%2C%20%22style%22%3A%20%7B%7D%2C%20%22tunnel%22%3A%20%22T%22%7D%2C%20%22type%22%3A%20%22Feature%22%7D%2C%20%7B%22bbox%22%3A%20%5B21.067001%2C%2052.125976%2C%2021.0691317%2C%2052.12828%5D%2C%20%22geometry%22%3A%20%7B%22coordinates%22%3A%20%5B%5B21.067001%2C%2052.125976%5D%2C%20%5B21.0673504%2C%2052.126002%5D%2C%20%5B21.0676126%2C%2052.1260382%5D%2C%20%5B21.0678831%2C%2052.1260989%5D%2C%20%5B21.068124%2C%2052.1261784%5D%2C%20%5B21.0683571%2C%2052.1262771%5D%2C%20%5B21.0684852%2C%2052.1263355%5D%2C%20%5B21.0686439%2C%2052.1264257%5D%2C%20%5B21.0688187%2C%2052.1265441%5D%2C%20%5B21.0689449%2C%2052.1266888%5D%2C%20%5B21.0690924%2C%2052.126944%5D%2C%20%5B21.0691317%2C%2052.1270781%5D%2C%20%5B21.0691272%2C%2052.1272305%5D%2C%20%5B21.0690959%2C%2052.1274173%5D%2C%20%5B21.0690226%2C%2052.1276141%5D%2C%20%5B21.0688361%2C%2052.1279769%5D%2C%20%5B21.0686029%2C%2052.12828%5D%5D%2C%20%22type%22%3A%20%22LineString%22%7D%2C%20%22id%22%3A%20%222528%22%2C%20%22properties%22%3A%20%7B%22bridge%22%3A%20%22F%22%2C%20%22code%22%3A%206103%2C%20%22fclass%22%3A%20%22subway%22%2C%20%22highlight%22%3A%20%7B%7D%2C%20%22layer%22%3A%20-3%2C%20%22name%22%3A%20null%2C%20%22osm_id%22%3A%20%22248543396%22%2C%20%22style%22%3A%20%7B%7D%2C%20%22tunnel%22%3A%20%22T%22%7D%2C%20%22type%22%3A%20%22Feature%22%7D%2C%20%7B%22bbox%22%3A%20%5B21.0553569%2C%2052.1258109%2C%2021.067001%2C%2052.1267226%5D%2C%20%22geometry%22%3A%20%7B%22coordinates%22%3A%20%5B%5B21.067001%2C%2052.125976%5D%2C%20%5B21.0663563%2C%2052.1259441%5D%2C%20%5B21.0661535%2C%2052.1259363%5D%2C%20%5B21.0651428%2C%2052.1258863%5D%2C%20%5B21.0645001%2C%2052.1258532%5D%2C%20%5B21.0643728%2C%2052.125846%5D%2C%20%5B21.0640383%2C%2052.1258296%5D%2C%20%5B21.0638104%2C%2052.1258185%5D%2C%20%5B21.0635971%2C%2052.1258109%5D%2C%20%5B21.0633609%2C%2052.1258203%5D%2C%20%5B21.063131%2C%2052.1258468%5D%2C%20%5B21.0627217%2C%2052.1259255%5D%2C%20%5B21.062337%2C%2052.1260481%5D%2C%20%5B21.062039%2C%2052.1261517%5D%2C%20%5B21.0616656%2C%2052.12625%5D%2C%20%5B21.0613759%2C%2052.1262829%5D%2C%20%5B21.0613062%2C%2052.126288%5D%2C%20%5B21.0611925%2C%2052.1262962%5D%2C%20%5B21.0573342%2C%2052.1265824%5D%2C%20%5B21.057229%2C%2052.1265897%5D%2C%20%5B21.0553569%2C%2052.1267226%5D%5D%2C%20%22type%22%3A%20%22LineString%22%7D%2C%20%22id%22%3A%20%222529%22%2C%20%22properties%22%3A%20%7B%22bridge%22%3A%20%22F%22%2C%20%22code%22%3A%206103%2C%20%22fclass%22%3A%20%22subway%22%2C%20%22highlight%22%3A%20%7B%7D%2C%20%22layer%22%3A%200%2C%20%22name%22%3A%20null%2C%20%22osm_id%22%3A%20%22248543399%22%2C%20%22style%22%3A%20%7B%7D%2C%20%22tunnel%22%3A%20%22F%22%7D%2C%20%22type%22%3A%20%22Feature%22%7D%2C%20%7B%22bbox%22%3A%20%5B20.9289447%2C%2052.1320899%2C%2021.0651548%2C%2052.2912902%5D%2C%20%22geometry%22%3A%20%7B%22coordinates%22%3A%20%5B%5B21.0651548%2C%2052.1320899%5D%2C%20%5B21.0628972%2C%2052.1344361%5D%2C%20%5B21.0616079%2C%2052.1358623%5D%2C%20%5B21.0580595%2C%2052.1396154%5D%2C%20%5B21.0573533%2C%2052.1403492%5D%2C%20%5B21.0565392%2C%2052.1411142%5D%2C%20%5B21.0554971%2C%2052.1420935%5D%2C%20%5B21.0519644%2C%2052.1453193%5D%2C%20%5B21.0502703%2C%2052.146801%5D%2C%20%5B21.0491697%2C%2052.1475604%5D%2C%20%5B21.0461775%2C%2052.1493113%5D%2C%20%5B21.0453606%2C%2052.149801%5D%2C%20%5B21.0385497%2C%2052.153884%5D%2C%20%5B21.037464%2C%2052.154528%5D%2C%20%5B21.0370146%2C%2052.1547964%5D%2C%20%5B21.0357159%2C%2052.1555721%5D%2C%20%5B21.0348241%2C%2052.156103%5D%2C%20%5B21.0337561%2C%2052.1567291%5D%2C%20%5B21.0326963%2C%2052.1573412%5D%2C%20%5B21.0307021%2C%2052.1585868%5D%2C%20%5B21.0298991%2C%2052.1591262%5D%2C%20%5B21.0291915%2C%2052.1596858%5D%2C%20%5B21.028667%2C%2052.1602363%5D%2C%20%5B21.0282638%2C%2052.1607661%5D%2C%20%5B21.0280005%2C%2052.1612353%5D%2C%20%5B21.0278381%2C%2052.1616526%5D%2C%20%5B21.0277181%2C%2052.1620211%5D%2C%20%5B21.0276324%2C%2052.1625801%5D%2C%20%5B21.0264576%2C%2052.1718679%5D%2C%20%5B21.0263943%2C%2052.1727627%5D%2C%20%5B21.0263473%2C%2052.1734274%5D%2C%20%5B21.0263102%2C%2052.1740183%5D%2C%20%5B21.0263993%2C%2052.1746918%5D%2C%20%5B21.0276172%2C%2052.1779493%5D%2C%20%5B21.0275991%2C%2052.1783108%5D%2C%20%5B21.0273935%2C%2052.1786542%5D%2C%20%5B21.0269296%2C%2052.1790518%5D%2C%20%5B21.0240515%2C%2052.1810998%5D%2C%20%5B21.0232569%2C%2052.181727%5D%2C%20%5B21.0223613%2C%2052.1824273%5D%2C%20%5B21.0204235%2C%2052.1839429%5D%2C%20%5B21.0196557%2C%2052.184795%5D%2C%20%5B21.0184279%2C%2052.1868545%5D%2C%20%5B21.0175094%2C%2052.1885142%5D%2C%20%5B21.0171813%2C%2052.1891126%5D%2C%20%5B21.0170455%2C%2052.1893602%5D%2C%20%5B21.0167269%2C%2052.1899615%5D%2C%20%5B21.0163458%2C%2052.190681%5D%2C%20%5B21.0144091%2C%2052.194597%5D%2C%20%5B21.0133064%2C%2052.1968264%5D%2C%20%5B21.0122935%2C%2052.1989471%5D%2C%20%5B21.0117478%2C%2052.2000736%5D%2C%20%5B21.0087409%2C%2052.2066981%5D%2C%20%5B21.0079119%2C%2052.2085413%5D%2C%20%5B21.0074415%2C%2052.2097418%5D%2C%20%5B21.0073369%2C%2052.2105067%5D%2C%20%5B21.0079014%2C%2052.2110809%5D%2C%20%5B21.0086583%2C%2052.2116285%5D%2C%20%5B21.0101777%2C%2052.2128197%5D%2C%20%5B21.0141242%2C%2052.2158754%5D%2C%20%5B21.0145824%2C%2052.2162301%5D%2C%20%5B21.0146946%2C%2052.2163517%5D%2C%20%5B21.0147777%2C%2052.2165046%5D%2C%20%5B21.0151424%2C%2052.2175327%5D%2C%20%5B21.0154371%2C%2052.2184483%5D%2C%20%5B21.0156071%2C%2052.2192632%5D%2C%20%5B21.0157201%2C%2052.2199735%5D%2C%20%5B21.0158715%2C%2052.2210262%5D%2C%20%5B21.0160275%2C%2052.2220147%5D%2C%20%5B21.0159772%2C%2052.2224943%5D%2C%20%5B21.0156829%2C%2052.2232692%5D%2C%20%5B21.0129568%2C%2052.2278804%5D%2C%20%5B21.0126491%2C%2052.228279%5D%2C%20%5B21.0123204%2C%2052.228609%5D%2C%20%5B21.0115684%2C%2052.2293969%5D%2C%20%5B21.010613%2C%2052.2305515%5D%2C%20%5B21.0101299%2C%2052.2311687%5D%2C%20%5B21.009857%2C%2052.231691%5D%2C%20%5B21.0095729%2C%2052.2322175%5D%2C%20%5B21.0094383%2C%2052.2324669%5D%2C%20%5B21.0093884%2C%2052.2325594%5D%2C%20%5B21.0091199%2C%2052.2330569%5D%2C%20%5B21.0079994%2C%2052.2351051%5D%2C%20%5B21.0075583%2C%2052.2358419%5D%2C%20%5B21.0065814%2C%2052.2375348%5D%2C%20%5B21.0046189%2C%2052.240939%5D%2C%20%5B21.0042333%2C%2052.2415635%5D%2C%20%5B21.0038119%2C%2052.2421603%5D%2C%20%5B21.0024131%2C%2052.2435504%5D%2C%20%5B21.0016224%2C%2052.2445508%5D%2C%20%5B21.0012683%2C%2052.24502%5D%2C%20%5B21.0006149%2C%2052.2458857%5D%2C%20%5B21.0000869%2C%2052.2466184%5D%2C%20%5B20.9996369%2C%2052.2474357%5D%2C%20%5B20.999309%2C%2052.2483871%5D%2C%20%5B20.9992985%2C%2052.2484175%5D%2C%20%5B20.9983264%2C%2052.2518057%5D%2C%20%5B20.9978214%2C%2052.2541044%5D%2C%20%5B20.9977468%2C%2052.2543761%5D%2C%20%5B20.9976264%2C%2052.2546412%5D%2C%20%5B20.9974617%2C%2052.2548964%5D%2C%20%5B20.9972565%2C%2052.2551376%5D%2C%20%5B20.9951781%2C%2052.2568555%5D%2C%20%5B20.9950327%2C%2052.2569903%5D%2C%20%5B20.9948757%2C%2052.2571524%5D%2C%20%5B20.9947905%2C%2052.2572535%5D%2C%20%5B20.9947268%2C%2052.2573656%5D%2C%20%5B20.9944243%2C%2052.2578906%5D%2C%20%5B20.9939727%2C%2052.2587993%5D%2C%20%5B20.9939326%2C%2052.2589168%5D%2C%20%5B20.9938484%2C%2052.2601958%5D%2C%20%5B20.9938163%2C%2052.2605701%5D%2C%20%5B20.9937894%2C%2052.2607835%5D%2C%20%5B20.9937183%2C%2052.2609762%5D%2C%20%5B20.9925374%2C%2052.2624083%5D%2C%20%5B20.9910682%2C%2052.2639008%5D%2C%20%5B20.9908024%2C%2052.2641696%5D%2C%20%5B20.9897697%2C%2052.2652886%5D%2C%20%5B20.987106%2C%2052.2681731%5D%2C%20%5B20.9867332%2C%2052.2685865%5D%2C%20%5B20.9866478%2C%2052.2686608%5D%2C%20%5B20.9865459%2C%2052.2687255%5D%2C%20%5B20.9864441%2C%2052.2687817%5D%2C%20%5B20.9863327%2C%2052.2688358%5D%2C%20%5B20.9861666%2C%2052.2689033%5D%2C%20%5B20.9859925%2C%2052.2689586%5D%2C%20%5B20.9843978%2C%2052.2692869%5D%2C%20%5B20.9833202%2C%2052.2695288%5D%2C%20%5B20.9798844%2C%2052.270305%5D%2C%20%5B20.9770076%2C%2052.2708959%5D%2C%20%5B20.9742925%2C%2052.2714026%5D%2C%20%5B20.9717354%2C%2052.2717157%5D%2C%20%5B20.9705007%2C%2052.2719659%5D%2C%20%5B20.9693257%2C%2052.2722315%5D%2C%20%5B20.9687048%2C%2052.2723845%5D%2C%20%5B20.9681076%2C%2052.2725536%5D%2C%20%5B20.9675491%2C%2052.2727397%5D%2C%20%5B20.9669674%2C%2052.2729509%5D%2C%20%5B20.966392%2C%2052.2731997%5D%2C%20%5B20.9658036%2C%2052.2734796%5D%2C%20%5B20.9653884%2C%2052.2737036%5D%2C%20%5B20.9650216%2C%2052.2739228%5D%2C%20%5B20.9646325%2C%2052.2741728%5D%2C%20%5B20.9632387%2C%2052.2751746%5D%2C%20%5B20.9623712%2C%2052.2757745%5D%2C%20%5B20.9614427%2C%2052.2762934%5D%2C%20%5B20.9604466%2C%2052.2767804%5D%2C%20%5B20.9600879%2C%2052.2769405%5D%2C%20%5B20.9592584%2C%2052.2773109%5D%2C%20%5B20.9580882%2C%2052.2778568%5D%2C%20%5B20.957672%2C%2052.2780491%5D%2C%20%5B20.9539601%2C%2052.279764%5D%2C%20%5B20.9494637%2C%2052.2818699%5D%2C%20%5B20.9468527%2C%2052.2830673%5D%2C%20%5B20.9432934%2C%2052.2847108%5D%2C%20%5B20.9398474%2C%2052.2862802%5D%2C%20%5B20.9394984%2C%2052.286442%5D%2C%20%5B20.9353338%2C%2052.2883735%5D%2C%20%5B20.9335977%2C%2052.2891786%5D%2C%20%5B20.9299074%2C%2052.2908533%5D%2C%20%5B20.9289447%2C%2052.2912902%5D%5D%2C%20%22type%22%3A%20%22LineString%22%7D%2C%20%22id%22%3A%20%223566%22%2C%20%22properties%22%3A%20%7B%22bridge%22%3A%20%22F%22%2C%20%22code%22%3A%206103%2C%20%22fclass%22%3A%20%22subway%22%2C%20%22highlight%22%3A%20%7B%7D%2C%20%22layer%22%3A%20-3%2C%20%22name%22%3A%20%22Linia%20metra%20M1%22%2C%20%22osm_id%22%3A%20%22303176651%22%2C%20%22style%22%3A%20%7B%7D%2C%20%22tunnel%22%3A%20%22T%22%7D%2C%20%22type%22%3A%20%22Feature%22%7D%2C%20%7B%22bbox%22%3A%20%5B21.0670079%2C%2052.1259249%2C%2021.0692364%2C%2052.1283081%5D%2C%20%22geometry%22%3A%20%7B%22coordinates%22%3A%20%5B%5B21.0687126%2C%2052.1283081%5D%2C%20%5B21.0689506%2C%2052.1279966%5D%2C%20%5B21.0691335%2C%2052.127633%5D%2C%20%5B21.0691983%2C%2052.1274392%5D%2C%20%5B21.0692324%2C%2052.1272274%5D%2C%20%5B21.0692364%2C%2052.1270766%5D%2C%20%5B21.0692084%2C%2052.1269178%5D%2C%20%5B21.0690412%2C%2052.1266621%5D%2C%20%5B21.0688953%2C%2052.1265071%5D%2C%20%5B21.0687098%2C%2052.1263845%5D%2C%20%5B21.0684124%2C%2052.1262367%5D%2C%20%5B21.0681701%2C%2052.1261347%5D%2C%20%5B21.0679191%2C%2052.1260502%5D%2C%20%5B21.0676429%2C%2052.1259938%5D%2C%20%5B21.0673655%2C%2052.125953%5D%2C%20%5B21.0670079%2C%2052.1259249%5D%5D%2C%20%22type%22%3A%20%22LineString%22%7D%2C%20%22id%22%3A%20%223567%22%2C%20%22properties%22%3A%20%7B%22bridge%22%3A%20%22F%22%2C%20%22code%22%3A%206103%2C%20%22fclass%22%3A%20%22subway%22%2C%20%22highlight%22%3A%20%7B%7D%2C%20%22layer%22%3A%20-3%2C%20%22name%22%3A%20null%2C%20%22osm_id%22%3A%20%22303176663%22%2C%20%22style%22%3A%20%7B%7D%2C%20%22tunnel%22%3A%20%22T%22%7D%2C%20%22type%22%3A%20%22Feature%22%7D%2C%20%7B%22bbox%22%3A%20%5B21.001676%2C%2052.2339056%2C%2021.0427296%2C%2052.2545559%5D%2C%20%22geometry%22%3A%20%7B%22coordinates%22%3A%20%5B%5B21.0348144%2C%2052.2545559%5D%2C%20%5B21.0351808%2C%2052.2542162%5D%2C%20%5B21.0353936%2C%2052.2540206%5D%2C%20%5B21.0367791%2C%2052.2527416%5D%2C%20%5B21.0371388%2C%2052.2524236%5D%2C%20%5B21.0376142%2C%2052.2520493%5D%2C%20%5B21.0378602%2C%2052.2518917%5D%2C%20%5B21.0383731%2C%2052.2515902%5D%2C%20%5B21.0391374%2C%2052.2511665%5D%2C%20%5B21.0398969%2C%2052.2507594%5D%2C%20%5B21.0407441%2C%2052.250303%5D%2C%20%5B21.041345%2C%2052.2499946%5D%2C%20%5B21.0417524%2C%2052.2497167%5D%2C%20%5B21.0420538%2C%2052.2494241%5D%2C%20%5B21.0422875%2C%2052.2490842%5D%2C%20%5B21.0424617%2C%2052.2488047%5D%2C%20%5B21.0425935%2C%2052.2483809%5D%2C%20%5B21.0426941%2C%2052.2479921%5D%2C%20%5B21.0427231%2C%2052.2475917%5D%2C%20%5B21.0427272%2C%2052.2469757%5D%2C%20%5B21.0427296%2C%2052.2458954%5D%2C%20%5B21.0427153%2C%2052.2456016%5D%2C%20%5B21.0426038%2C%2052.2452495%5D%2C%20%5B21.042461%2C%2052.2449097%5D%2C%20%5B21.0421957%2C%2052.2445788%5D%2C%20%5B21.0419825%2C%2052.244352%5D%2C%20%5B21.0416211%2C%2052.244055%5D%2C%20%5B21.0411912%2C%2052.2437899%5D%2C%20%5B21.0405352%2C%2052.2435147%5D%2C%20%5B21.0393272%2C%2052.2430296%5D%2C%20%5B21.031713%2C%2052.2399653%5D%2C%20%5B21.0298434%2C%2052.239311%5D%2C%20%5B21.0288276%2C%2052.2390215%5D%2C%20%5B21.0272948%2C%2052.238693%5D%2C%20%5B21.0257938%2C%2052.2384573%5D%2C%20%5B21.0176877%2C%2052.2370707%5D%2C%20%5B21.0167703%2C%2052.236898%5D%2C%20%5B21.0159144%2C%2052.2367368%5D%2C%20%5B21.0098381%2C%2052.235549%5D%2C%20%5B21.0089156%2C%2052.2353669%5D%2C%20%5B21.0081532%2C%2052.2352163%5D%2C%20%5B21.001676%2C%2052.2339056%5D%5D%2C%20%22type%22%3A%20%22LineString%22%7D%2C%20%22id%22%3A%20%223722%22%2C%20%22properties%22%3A%20%7B%22bridge%22%3A%20%22F%22%2C%20%22code%22%3A%206103%2C%20%22fclass%22%3A%20%22subway%22%2C%20%22highlight%22%3A%20%7B%7D%2C%20%22layer%22%3A%20-4%2C%20%22name%22%3A%20%22Linia%20metra%20M2%22%2C%20%22osm_id%22%3A%20%22314852984%22%2C%20%22style%22%3A%20%7B%7D%2C%20%22tunnel%22%3A%20%22T%22%7D%2C%20%22type%22%3A%20%22Feature%22%7D%2C%20%7B%22bbox%22%3A%20%5B21.0070674%2C%2052.2325419%2C%2021.009245%2C%2052.2338809%5D%2C%20%22geometry%22%3A%20%7B%22coordinates%22%3A%20%5B%5B21.009245%2C%2052.2325419%5D%2C%20%5B21.0089386%2C%2052.2328192%5D%2C%20%5B21.0086426%2C%2052.233078%5D%2C%20%5B21.0083035%2C%2052.2333162%5D%2C%20%5B21.007925%2C%2052.2335309%5D%2C%20%5B21.0075114%2C%2052.2337199%5D%2C%20%5B21.0070674%2C%2052.2338809%5D%5D%2C%20%22type%22%3A%20%22LineString%22%7D%2C%20%22id%22%3A%20%223723%22%2C%20%22properties%22%3A%20%7B%22bridge%22%3A%20%22F%22%2C%20%22code%22%3A%206103%2C%20%22fclass%22%3A%20%22subway%22%2C%20%22highlight%22%3A%20%7B%7D%2C%20%22layer%22%3A%20-3%2C%20%22name%22%3A%20%22%5Cu0141%5Cu0105cznik%20linii%20M1%20i%20M2%22%2C%20%22osm_id%22%3A%20%22314852985%22%2C%20%22style%22%3A%20%7B%7D%2C%20%22tunnel%22%3A%20%22T%22%7D%2C%20%22type%22%3A%20%22Feature%22%7D%2C%20%7B%22bbox%22%3A%20%5B20.9992661%2C%2052.233418%2C%2021.001676%2C%2052.2339056%5D%2C%20%22geometry%22%3A%20%7B%22coordinates%22%3A%20%5B%5B21.001676%2C%2052.2339056%5D%2C%20%5B20.9992661%2C%2052.233418%5D%5D%2C%20%22type%22%3A%20%22LineString%22%7D%2C%20%22id%22%3A%20%225559%22%2C%20%22properties%22%3A%20%7B%22bridge%22%3A%20%22F%22%2C%20%22code%22%3A%206103%2C%20%22fclass%22%3A%20%22subway%22%2C%20%22highlight%22%3A%20%7B%7D%2C%20%22layer%22%3A%20-4%2C%20%22name%22%3A%20%22Linia%20metra%20M2%22%2C%20%22osm_id%22%3A%20%22450271112%22%2C%20%22style%22%3A%20%7B%7D%2C%20%22tunnel%22%3A%20%22T%22%7D%2C%20%22type%22%3A%20%22Feature%22%7D%2C%20%7B%22bbox%22%3A%20%5B20.9993428%2C%2052.2332701%2C%2021.0017576%2C%2052.2337552%5D%2C%20%22geometry%22%3A%20%7B%22coordinates%22%3A%20%5B%5B20.9993428%2C%2052.2332701%5D%2C%20%5B21.0017576%2C%2052.2337552%5D%5D%2C%20%22type%22%3A%20%22LineString%22%7D%2C%20%22id%22%3A%20%225560%22%2C%20%22properties%22%3A%20%7B%22bridge%22%3A%20%22F%22%2C%20%22code%22%3A%206103%2C%20%22fclass%22%3A%20%22subway%22%2C%20%22highlight%22%3A%20%7B%7D%2C%20%22layer%22%3A%20-4%2C%20%22name%22%3A%20%22Linia%20metra%20M2%22%2C%20%22osm_id%22%3A%20%22450271113%22%2C%20%22style%22%3A%20%7B%7D%2C%20%22tunnel%22%3A%20%22T%22%7D%2C%20%22type%22%3A%20%22Feature%22%7D%2C%20%7B%22bbox%22%3A%20%5B20.9784557%2C%2052.2292627%2C%2020.9820277%2C%2052.2298414%5D%2C%20%22geometry%22%3A%20%7B%22coordinates%22%3A%20%5B%5B20.9784557%2C%2052.2292627%5D%2C%20%5B20.9820277%2C%2052.2298414%5D%5D%2C%20%22type%22%3A%20%22LineString%22%7D%2C%20%22id%22%3A%20%225561%22%2C%20%22properties%22%3A%20%7B%22bridge%22%3A%20%22F%22%2C%20%22code%22%3A%206103%2C%20%22fclass%22%3A%20%22subway%22%2C%20%22highlight%22%3A%20%7B%7D%2C%20%22layer%22%3A%20-4%2C%20%22name%22%3A%20%22Linia%20metra%20M2%22%2C%20%22osm_id%22%3A%20%22450271114%22%2C%20%22style%22%3A%20%7B%7D%2C%20%22tunnel%22%3A%20%22T%22%7D%2C%20%22type%22%3A%20%22Feature%22%7D%2C%20%7B%22bbox%22%3A%20%5B20.9783903%2C%2052.2294156%2C%2020.9819801%2C%2052.2299817%5D%2C%20%22geometry%22%3A%20%7B%22coordinates%22%3A%20%5B%5B20.9819801%2C%2052.2299817%5D%2C%20%5B20.9783903%2C%2052.2294156%5D%5D%2C%20%22type%22%3A%20%22LineString%22%7D%2C%20%22id%22%3A%20%225562%22%2C%20%22properties%22%3A%20%7B%22bridge%22%3A%20%22F%22%2C%20%22code%22%3A%206103%2C%20%22fclass%22%3A%20%22subway%22%2C%20%22highlight%22%3A%20%7B%7D%2C%20%22layer%22%3A%20-4%2C%20%22name%22%3A%20%22Linia%20metra%20M2%22%2C%20%22osm_id%22%3A%20%22450271116%22%2C%20%22style%22%3A%20%7B%7D%2C%20%22tunnel%22%3A%20%22T%22%7D%2C%20%22type%22%3A%20%22Feature%22%7D%2C%20%7B%22bbox%22%3A%20%5B21.0336026%2C%2052.2546238%2C%2021.035031%2C%2052.2562651%5D%2C%20%22geometry%22%3A%20%7B%22coordinates%22%3A%20%5B%5B21.035031%2C%2052.2546238%5D%2C%20%5B21.0342653%2C%2052.2553358%5D%2C%20%5B21.0339801%2C%2052.2556461%5D%2C%20%5B21.0337879%2C%2052.2558909%5D%2C%20%5B21.0336026%2C%2052.2562651%5D%5D%2C%20%22type%22%3A%20%22LineString%22%7D%2C%20%22id%22%3A%20%225563%22%2C%20%22properties%22%3A%20%7B%22bridge%22%3A%20%22F%22%2C%20%22code%22%3A%206103%2C%20%22fclass%22%3A%20%22subway%22%2C%20%22highlight%22%3A%20%7B%7D%2C%20%22layer%22%3A%20-4%2C%20%22name%22%3A%20%22Linia%20metra%20M2%22%2C%20%22osm_id%22%3A%20%22450271118%22%2C%20%22style%22%3A%20%7B%7D%2C%20%22tunnel%22%3A%20%22T%22%7D%2C%20%22type%22%3A%20%22Feature%22%7D%2C%20%7B%22bbox%22%3A%20%5B21.0333748%2C%2052.2545559%2C%2021.0348144%2C%2052.256231%5D%2C%20%22geometry%22%3A%20%7B%22coordinates%22%3A%20%5B%5B21.0333748%2C%2052.256231%5D%2C%20%5B21.0335647%2C%2052.2558462%5D%2C%20%5B21.0337641%2C%2052.255564%5D%2C%20%5B21.0340638%2C%2052.2552519%5D%2C%20%5B21.0348144%2C%2052.2545559%5D%5D%2C%20%22type%22%3A%20%22LineString%22%7D%2C%20%22id%22%3A%20%225564%22%2C%20%22properties%22%3A%20%7B%22bridge%22%3A%20%22F%22%2C%20%22code%22%3A%206103%2C%20%22fclass%22%3A%20%22subway%22%2C%20%22highlight%22%3A%20%7B%7D%2C%20%22layer%22%3A%20-4%2C%20%22name%22%3A%20%22Linia%20metra%20M2%22%2C%20%22osm_id%22%3A%20%22450271119%22%2C%20%22style%22%3A%20%7B%7D%2C%20%22tunnel%22%3A%20%22T%22%7D%2C%20%22type%22%3A%20%22Feature%22%7D%2C%20%7B%22bbox%22%3A%20%5B20.9838412%2C%2052.2301667%2C%2020.9993428%2C%2052.2332701%5D%2C%20%22geometry%22%3A%20%7B%22coordinates%22%3A%20%5B%5B20.9838412%2C%2052.2301667%5D%2C%20%5B20.9847816%2C%2052.2303519%5D%2C%20%5B20.9896296%2C%2052.2312926%5D%2C%20%5B20.9924831%2C%2052.2318622%5D%2C%20%5B20.9953506%2C%2052.2324347%5D%2C%20%5B20.9983088%2C%2052.2330604%5D%2C%20%5B20.9985048%2C%2052.2331018%5D%2C%20%5B20.9993428%2C%2052.2332701%5D%5D%2C%20%22type%22%3A%20%22LineString%22%7D%2C%20%22id%22%3A%20%225565%22%2C%20%22properties%22%3A%20%7B%22bridge%22%3A%20%22F%22%2C%20%22code%22%3A%206103%2C%20%22fclass%22%3A%20%22subway%22%2C%20%22highlight%22%3A%20%7B%7D%2C%20%22layer%22%3A%20-4%2C%20%22name%22%3A%20%22Linia%20metra%20M2%22%2C%20%22osm_id%22%3A%20%22450271120%22%2C%20%22style%22%3A%20%7B%7D%2C%20%22tunnel%22%3A%20%22T%22%7D%2C%20%22type%22%3A%20%22Feature%22%7D%2C%20%7B%22bbox%22%3A%20%5B20.9837703%2C%2052.2303144%2C%2020.9992661%2C%2052.233418%5D%2C%20%22geometry%22%3A%20%7B%22coordinates%22%3A%20%5B%5B20.9992661%2C%2052.233418%5D%2C%20%5B20.9984262%2C%2052.233248%5D%2C%20%5B20.9982302%2C%2052.2332065%5D%2C%20%5B20.995272%2C%2052.2325809%5D%2C%20%5B20.9923946%2C%2052.2320065%5D%2C%20%5B20.989551%2C%2052.2314388%5D%2C%20%5B20.984703%2C%2052.2304981%5D%2C%20%5B20.9837703%2C%2052.2303144%5D%5D%2C%20%22type%22%3A%20%22LineString%22%7D%2C%20%22id%22%3A%20%225566%22%2C%20%22properties%22%3A%20%7B%22bridge%22%3A%20%22F%22%2C%20%22code%22%3A%206103%2C%20%22fclass%22%3A%20%22subway%22%2C%20%22highlight%22%3A%20%7B%7D%2C%20%22layer%22%3A%20-4%2C%20%22name%22%3A%20%22Linia%20metra%20M2%22%2C%20%22osm_id%22%3A%20%22450271121%22%2C%20%22style%22%3A%20%7B%7D%2C%20%22tunnel%22%3A%20%22T%22%7D%2C%20%22type%22%3A%20%22Feature%22%7D%2C%20%7B%22bbox%22%3A%20%5B21.034663%2C%2052.254708%2C%2021.0347452%2C%2052.2548882%5D%2C%20%22geometry%22%3A%20%7B%22coordinates%22%3A%20%5B%5B21.034663%2C%2052.2548882%5D%2C%20%5B21.0347092%2C%2052.2547869%5D%2C%20%5B21.0347452%2C%2052.254708%5D%5D%2C%20%22type%22%3A%20%22LineString%22%7D%2C%20%22id%22%3A%20%225567%22%2C%20%22properties%22%3A%20%7B%22bridge%22%3A%20%22F%22%2C%20%22code%22%3A%206103%2C%20%22fclass%22%3A%20%22subway%22%2C%20%22highlight%22%3A%20%7B%7D%2C%20%22layer%22%3A%20-4%2C%20%22name%22%3A%20%22Tory%20odstawcze%20przy%20stacji%20Dworzec%20Wile%5Cu0144ski%22%2C%20%22osm_id%22%3A%20%22450271122%22%2C%20%22style%22%3A%20%7B%7D%2C%20%22tunnel%22%3A%20%22T%22%7D%2C%20%22type%22%3A%20%22Feature%22%7D%2C%20%7B%22bbox%22%3A%20%5B21.0345831%2C%2052.2547361%2C%2021.0348094%2C%2052.2548508%5D%2C%20%22geometry%22%3A%20%7B%22coordinates%22%3A%20%5B%5B21.0345831%2C%2052.2548508%5D%2C%20%5B21.0347092%2C%2052.2547869%5D%2C%20%5B21.0348094%2C%2052.2547361%5D%5D%2C%20%22type%22%3A%20%22LineString%22%7D%2C%20%22id%22%3A%20%225568%22%2C%20%22properties%22%3A%20%7B%22bridge%22%3A%20%22F%22%2C%20%22code%22%3A%206103%2C%20%22fclass%22%3A%20%22subway%22%2C%20%22highlight%22%3A%20%7B%7D%2C%20%22layer%22%3A%20-4%2C%20%22name%22%3A%20%22Tory%20odstawcze%20przy%20stacji%20Dworzec%20Wile%5Cu0144ski%22%2C%20%22osm_id%22%3A%20%22450271123%22%2C%20%22style%22%3A%20%7B%7D%2C%20%22tunnel%22%3A%20%22T%22%7D%2C%20%22type%22%3A%20%22Feature%22%7D%2C%20%7B%22bbox%22%3A%20%5B21.0334602%2C%2052.2545559%2C%2021.0348144%2C%2052.2562422%5D%2C%20%22geometry%22%3A%20%7B%22coordinates%22%3A%20%5B%5B21.0334602%2C%2052.2562422%5D%2C%20%5B21.0336405%2C%2052.255858%5D%2C%20%5B21.0338548%2C%2052.2555783%5D%2C%20%5B21.0345831%2C%2052.2548508%5D%2C%20%5B21.0347452%2C%2052.254708%5D%2C%20%5B21.0348144%2C%2052.2545559%5D%5D%2C%20%22type%22%3A%20%22LineString%22%7D%2C%20%22id%22%3A%20%225569%22%2C%20%22properties%22%3A%20%7B%22bridge%22%3A%20%22F%22%2C%20%22code%22%3A%206103%2C%20%22fclass%22%3A%20%22subway%22%2C%20%22highlight%22%3A%20%7B%7D%2C%20%22layer%22%3A%20-4%2C%20%22name%22%3A%20%22Tory%20odstawcze%20przy%20stacji%20Dworzec%20Wile%5Cu0144ski%22%2C%20%22osm_id%22%3A%20%22450271124%22%2C%20%22style%22%3A%20%7B%7D%2C%20%22tunnel%22%3A%20%22T%22%7D%2C%20%22type%22%3A%20%22Feature%22%7D%2C%20%7B%22bbox%22%3A%20%5B21.0335431%2C%2052.2546238%2C%2021.035031%2C%2052.256255%5D%2C%20%22geometry%22%3A%20%7B%22coordinates%22%3A%20%5B%5B21.0335431%2C%2052.256255%5D%2C%20%5B21.0337146%2C%2052.2558753%5D%2C%20%5B21.0339201%2C%2052.255619%5D%2C%20%5B21.034663%2C%2052.2548882%5D%2C%20%5B21.0348094%2C%2052.2547361%5D%2C%20%5B21.035031%2C%2052.2546238%5D%5D%2C%20%22type%22%3A%20%22LineString%22%7D%2C%20%22id%22%3A%20%225570%22%2C%20%22properties%22%3A%20%7B%22bridge%22%3A%20%22F%22%2C%20%22code%22%3A%206103%2C%20%22fclass%22%3A%20%22subway%22%2C%20%22highlight%22%3A%20%7B%7D%2C%20%22layer%22%3A%20-4%2C%20%22name%22%3A%20%22Tory%20odstawcze%20przy%20stacji%20Dworzec%20Wile%5Cu0144ski%22%2C%20%22osm_id%22%3A%20%22450271125%22%2C%20%22style%22%3A%20%7B%7D%2C%20%22tunnel%22%3A%20%22T%22%7D%2C%20%22type%22%3A%20%22Feature%22%7D%2C%20%7B%22bbox%22%3A%20%5B20.9784415%2C%2052.2293107%2C%2020.9808119%2C%2052.2296965%5D%2C%20%22geometry%22%3A%20%7B%22coordinates%22%3A%20%5B%5B20.9784415%2C%2052.2293107%5D%2C%20%5B20.9808119%2C%2052.2296965%5D%5D%2C%20%22type%22%3A%20%22LineString%22%7D%2C%20%22id%22%3A%20%225571%22%2C%20%22properties%22%3A%20%7B%22bridge%22%3A%20%22F%22%2C%20%22code%22%3A%206103%2C%20%22fclass%22%3A%20%22subway%22%2C%20%22highlight%22%3A%20%7B%7D%2C%20%22layer%22%3A%20-4%2C%20%22name%22%3A%20%22Tory%20odstawcze%20przy%20stacji%20Rondo%20Daszy%5Cu0144skiego%22%2C%20%22osm_id%22%3A%20%22450271126%22%2C%20%22style%22%3A%20%7B%7D%2C%20%22tunnel%22%3A%20%22T%22%7D%2C%20%22type%22%3A%20%22Feature%22%7D%2C%20%7B%22bbox%22%3A%20%5B20.981326%2C%2052.2298328%2C%2020.9819801%2C%2052.2299817%5D%2C%20%22geometry%22%3A%20%7B%22coordinates%22%3A%20%5B%5B20.9819801%2C%2052.2299817%5D%2C%20%5B20.981326%2C%2052.2298328%5D%5D%2C%20%22type%22%3A%20%22LineString%22%7D%2C%20%22id%22%3A%20%225572%22%2C%20%22properties%22%3A%20%7B%22bridge%22%3A%20%22F%22%2C%20%22code%22%3A%206103%2C%20%22fclass%22%3A%20%22subway%22%2C%20%22highlight%22%3A%20%7B%7D%2C%20%22layer%22%3A%20-4%2C%20%22name%22%3A%20%22Tory%20odstawcze%20przy%20stacji%20Rondo%20Daszy%5Cu0144skiego%22%2C%20%22osm_id%22%3A%20%22450271127%22%2C%20%22style%22%3A%20%7B%7D%2C%20%22tunnel%22%3A%20%22T%22%7D%2C%20%22type%22%3A%20%22Feature%22%7D%2C%20%7B%22bbox%22%3A%20%5B20.9808119%2C%2052.2296965%2C%2020.98135%2C%2052.2297901%5D%2C%20%22geometry%22%3A%20%7B%22coordinates%22%3A%20%5B%5B20.9808119%2C%2052.2296965%5D%2C%20%5B20.98135%2C%2052.2297901%5D%5D%2C%20%22type%22%3A%20%22LineString%22%7D%2C%20%22id%22%3A%20%225573%22%2C%20%22properties%22%3A%20%7B%22bridge%22%3A%20%22F%22%2C%20%22code%22%3A%206103%2C%20%22fclass%22%3A%20%22subway%22%2C%20%22highlight%22%3A%20%7B%7D%2C%20%22layer%22%3A%20-4%2C%20%22name%22%3A%20%22Tory%20odstawcze%20przy%20stacji%20Rondo%20Daszy%5Cu0144skiego%22%2C%20%22osm_id%22%3A%20%22450271128%22%2C%20%22style%22%3A%20%7B%7D%2C%20%22tunnel%22%3A%20%22T%22%7D%2C%20%22type%22%3A%20%22Feature%22%7D%2C%20%7B%22bbox%22%3A%20%5B20.9807926%2C%2052.2297473%2C%2020.981326%2C%2052.2298328%5D%2C%20%22geometry%22%3A%20%7B%22coordinates%22%3A%20%5B%5B20.9807926%2C%2052.2297473%5D%2C%20%5B20.981326%2C%2052.2298328%5D%5D%2C%20%22type%22%3A%20%22LineString%22%7D%2C%20%22id%22%3A%20%225574%22%2C%20%22properties%22%3A%20%7B%22bridge%22%3A%20%22F%22%2C%20%22code%22%3A%206103%2C%20%22fclass%22%3A%20%22subway%22%2C%20%22highlight%22%3A%20%7B%7D%2C%20%22layer%22%3A%20-4%2C%20%22name%22%3A%20%22Tory%20odstawcze%20przy%20stacji%20Rondo%20Daszy%5Cu0144skiego%22%2C%20%22osm_id%22%3A%20%22450271129%22%2C%20%22style%22%3A%20%7B%7D%2C%20%22tunnel%22%3A%20%22T%22%7D%2C%20%22type%22%3A%20%22Feature%22%7D%2C%20%7B%22bbox%22%3A%20%5B20.98135%2C%2052.2297901%2C%2020.9820277%2C%2052.2298414%5D%2C%20%22geometry%22%3A%20%7B%22coordinates%22%3A%20%5B%5B20.98135%2C%2052.2297901%5D%2C%20%5B20.9820277%2C%2052.2298414%5D%5D%2C%20%22type%22%3A%20%22LineString%22%7D%2C%20%22id%22%3A%20%225575%22%2C%20%22properties%22%3A%20%7B%22bridge%22%3A%20%22F%22%2C%20%22code%22%3A%206103%2C%20%22fclass%22%3A%20%22subway%22%2C%20%22highlight%22%3A%20%7B%7D%2C%20%22layer%22%3A%20-4%2C%20%22name%22%3A%20%22Tory%20odstawcze%20przy%20stacji%20Rondo%20Daszy%5Cu0144skiego%22%2C%20%22osm_id%22%3A%20%22450271130%22%2C%20%22style%22%3A%20%7B%7D%2C%20%22tunnel%22%3A%20%22T%22%7D%2C%20%22type%22%3A%20%22Feature%22%7D%2C%20%7B%22bbox%22%3A%20%5B20.9807926%2C%2052.2297473%2C%2020.98135%2C%2052.2297901%5D%2C%20%22geometry%22%3A%20%7B%22coordinates%22%3A%20%5B%5B20.9807926%2C%2052.2297473%5D%2C%20%5B20.98135%2C%2052.2297901%5D%5D%2C%20%22type%22%3A%20%22LineString%22%7D%2C%20%22id%22%3A%20%225576%22%2C%20%22properties%22%3A%20%7B%22bridge%22%3A%20%22F%22%2C%20%22code%22%3A%206103%2C%20%22fclass%22%3A%20%22subway%22%2C%20%22highlight%22%3A%20%7B%7D%2C%20%22layer%22%3A%20-4%2C%20%22name%22%3A%20%22Tory%20odstawcze%20przy%20stacji%20Rondo%20Daszy%5Cu0144skiego%22%2C%20%22osm_id%22%3A%20%22450271131%22%2C%20%22style%22%3A%20%7B%7D%2C%20%22tunnel%22%3A%20%22T%22%7D%2C%20%22type%22%3A%20%22Feature%22%7D%2C%20%7B%22bbox%22%3A%20%5B20.9808119%2C%2052.2296965%2C%2020.981326%2C%2052.2298328%5D%2C%20%22geometry%22%3A%20%7B%22coordinates%22%3A%20%5B%5B20.9808119%2C%2052.2296965%5D%2C%20%5B20.981326%2C%2052.2298328%5D%5D%2C%20%22type%22%3A%20%22LineString%22%7D%2C%20%22id%22%3A%20%225577%22%2C%20%22properties%22%3A%20%7B%22bridge%22%3A%20%22F%22%2C%20%22code%22%3A%206103%2C%20%22fclass%22%3A%20%22subway%22%2C%20%22highlight%22%3A%20%7B%7D%2C%20%22layer%22%3A%20-4%2C%20%22name%22%3A%20%22Tory%20odstawcze%20przy%20stacji%20Rondo%20Daszy%5Cu0144skiego%22%2C%20%22osm_id%22%3A%20%22450271132%22%2C%20%22style%22%3A%20%7B%7D%2C%20%22tunnel%22%3A%20%22T%22%7D%2C%20%22type%22%3A%20%22Feature%22%7D%2C%20%7B%22bbox%22%3A%20%5B20.9784201%2C%2052.2293573%2C%2020.9807926%2C%2052.2297473%5D%2C%20%22geometry%22%3A%20%7B%22coordinates%22%3A%20%5B%5B20.9784201%2C%2052.2293573%5D%2C%20%5B20.9807926%2C%2052.2297473%5D%5D%2C%20%22type%22%3A%20%22LineString%22%7D%2C%20%22id%22%3A%20%225578%22%2C%20%22properties%22%3A%20%7B%22bridge%22%3A%20%22F%22%2C%20%22code%22%3A%206103%2C%20%22fclass%22%3A%20%22subway%22%2C%20%22highlight%22%3A%20%7B%7D%2C%20%22layer%22%3A%20-4%2C%20%22name%22%3A%20%22Tory%20odstawcze%20przy%20stacji%20Rondo%20Daszy%5Cu0144skiego%22%2C%20%22osm_id%22%3A%20%22450271133%22%2C%20%22style%22%3A%20%7B%7D%2C%20%22tunnel%22%3A%20%22T%22%7D%2C%20%22type%22%3A%20%22Feature%22%7D%2C%20%7B%22bbox%22%3A%20%5B21.0429747%2C%2052.2456816%2C%2021.0432047%2C%2052.2460668%5D%2C%20%22geometry%22%3A%20%7B%22coordinates%22%3A%20%5B%5B21.0429747%2C%2052.2460668%5D%2C%20%5B21.0432047%2C%2052.2456816%5D%5D%2C%20%22type%22%3A%20%22LineString%22%7D%2C%20%22id%22%3A%20%225579%22%2C%20%22properties%22%3A%20%7B%22bridge%22%3A%20%22F%22%2C%20%22code%22%3A%206103%2C%20%22fclass%22%3A%20%22subway%22%2C%20%22highlight%22%3A%20%7B%7D%2C%20%22layer%22%3A%20-4%2C%20%22name%22%3A%20null%2C%20%22osm_id%22%3A%20%22450271134%22%2C%20%22style%22%3A%20%7B%7D%2C%20%22tunnel%22%3A%20%22T%22%7D%2C%20%22type%22%3A%20%22Feature%22%7D%2C%20%7B%22bbox%22%3A%20%5B21.0432228%2C%2052.2433665%2C%2021.0432644%2C%2052.2458024%5D%2C%20%22geometry%22%3A%20%7B%22coordinates%22%3A%20%5B%5B21.0432228%2C%2052.2433665%5D%2C%20%5B21.0432616%2C%2052.2456706%5D%2C%20%5B21.0432644%2C%2052.2458024%5D%5D%2C%20%22type%22%3A%20%22LineString%22%7D%2C%20%22id%22%3A%20%225580%22%2C%20%22properties%22%3A%20%7B%22bridge%22%3A%20%22F%22%2C%20%22code%22%3A%206103%2C%20%22fclass%22%3A%20%22subway%22%2C%20%22highlight%22%3A%20%7B%7D%2C%20%22layer%22%3A%20-4%2C%20%22name%22%3A%20%22Tory%20odstawcze%20przy%20stacji%20Stadion%20Narodowy%22%2C%20%22osm_id%22%3A%20%22450271135%22%2C%20%22style%22%3A%20%7B%7D%2C%20%22tunnel%22%3A%20%22T%22%7D%2C%20%22type%22%3A%20%22Feature%22%7D%2C%20%7B%22bbox%22%3A%20%5B21.0432808%2C%2052.2433659%2C%2021.0433458%2C%2052.2458027%5D%2C%20%22geometry%22%3A%20%7B%22coordinates%22%3A%20%5B%5B21.0432808%2C%2052.2433659%5D%2C%20%5B21.0433416%2C%2052.2456714%5D%2C%20%5B21.0433458%2C%2052.2458027%5D%5D%2C%20%22type%22%3A%20%22LineString%22%7D%2C%20%22id%22%3A%20%225581%22%2C%20%22properties%22%3A%20%7B%22bridge%22%3A%20%22F%22%2C%20%22code%22%3A%206103%2C%20%22fclass%22%3A%20%22subway%22%2C%20%22highlight%22%3A%20%7B%7D%2C%20%22layer%22%3A%20-4%2C%20%22name%22%3A%20%22Tory%20odstawcze%20przy%20stacji%20Stadion%20Narodowy%22%2C%20%22osm_id%22%3A%20%22450271136%22%2C%20%22style%22%3A%20%7B%7D%2C%20%22tunnel%22%3A%20%22T%22%7D%2C%20%22type%22%3A%20%22Feature%22%7D%2C%20%7B%22bbox%22%3A%20%5B21.0432026%2C%2052.2455779%2C%2021.0434022%2C%2052.2458913%5D%2C%20%22geometry%22%3A%20%7B%22coordinates%22%3A%20%5B%5B21.0432026%2C%2052.2455779%5D%2C%20%5B21.0432616%2C%2052.2456706%5D%2C%20%5B21.0433034%2C%2052.2457362%5D%2C%20%5B21.0433458%2C%2052.2458027%5D%2C%20%5B21.0434022%2C%2052.2458913%5D%5D%2C%20%22type%22%3A%20%22LineString%22%7D%2C%20%22id%22%3A%20%225582%22%2C%20%22properties%22%3A%20%7B%22bridge%22%3A%20%22F%22%2C%20%22code%22%3A%206103%2C%20%22fclass%22%3A%20%22subway%22%2C%20%22highlight%22%3A%20%7B%7D%2C%20%22layer%22%3A%20-4%2C%20%22name%22%3A%20%22Tory%20odstawcze%20przy%20stacji%20Stadion%20Narodowy%22%2C%20%22osm_id%22%3A%20%22450271137%22%2C%20%22style%22%3A%20%7B%7D%2C%20%22tunnel%22%3A%20%22T%22%7D%2C%20%22type%22%3A%20%22Feature%22%7D%2C%20%7B%22bbox%22%3A%20%5B21.0432091%2C%2052.2455785%2C%2021.0433964%2C%2052.2458963%5D%2C%20%22geometry%22%3A%20%7B%22coordinates%22%3A%20%5B%5B21.0432091%2C%2052.2458963%5D%2C%20%5B21.0432644%2C%2052.2458024%5D%2C%20%5B21.0433034%2C%2052.2457362%5D%2C%20%5B21.0433416%2C%2052.2456714%5D%2C%20%5B21.0433964%2C%2052.2455785%5D%5D%2C%20%22type%22%3A%20%22LineString%22%7D%2C%20%22id%22%3A%20%225583%22%2C%20%22properties%22%3A%20%7B%22bridge%22%3A%20%22F%22%2C%20%22code%22%3A%206103%2C%20%22fclass%22%3A%20%22subway%22%2C%20%22highlight%22%3A%20%7B%7D%2C%20%22layer%22%3A%20-4%2C%20%22name%22%3A%20%22Tory%20odstawcze%20przy%20stacji%20Stadion%20Narodowy%22%2C%20%22osm_id%22%3A%20%22450271138%22%2C%20%22style%22%3A%20%7B%7D%2C%20%22tunnel%22%3A%20%22T%22%7D%2C%20%22type%22%3A%20%22Feature%22%7D%2C%20%7B%22bbox%22%3A%20%5B21.0433548%2C%2052.2433629%2C%2021.043434%2C%2052.2475836%5D%2C%20%22geometry%22%3A%20%7B%22coordinates%22%3A%20%5B%5B21.0433548%2C%2052.2433629%5D%2C%20%5B21.0433964%2C%2052.2455785%5D%2C%20%5B21.0434022%2C%2052.2458913%5D%2C%20%5B21.043434%2C%2052.2475836%5D%5D%2C%20%22type%22%3A%20%22LineString%22%7D%2C%20%22id%22%3A%20%225584%22%2C%20%22properties%22%3A%20%7B%22bridge%22%3A%20%22F%22%2C%20%22code%22%3A%206103%2C%20%22fclass%22%3A%20%22subway%22%2C%20%22highlight%22%3A%20%7B%7D%2C%20%22layer%22%3A%20-4%2C%20%22name%22%3A%20%22Tory%20odstawcze%20przy%20stacji%20Stadion%20Narodowy%22%2C%20%22osm_id%22%3A%20%22450271139%22%2C%20%22style%22%3A%20%7B%7D%2C%20%22tunnel%22%3A%20%22T%22%7D%2C%20%22type%22%3A%20%22Feature%22%7D%2C%20%7B%22bbox%22%3A%20%5B21.0431573%2C%2052.2433648%2C%2021.0432437%2C%2052.2475886%5D%2C%20%22geometry%22%3A%20%7B%22coordinates%22%3A%20%5B%5B21.0432437%2C%2052.2475886%5D%2C%20%5B21.0432091%2C%2052.2458963%5D%2C%20%5B21.0432047%2C%2052.2456816%5D%2C%20%5B21.0432026%2C%2052.2455779%5D%2C%20%5B21.0431573%2C%2052.2433648%5D%5D%2C%20%22type%22%3A%20%22LineString%22%7D%2C%20%22id%22%3A%20%225585%22%2C%20%22properties%22%3A%20%7B%22bridge%22%3A%20%22F%22%2C%20%22code%22%3A%206103%2C%20%22fclass%22%3A%20%22subway%22%2C%20%22highlight%22%3A%20%7B%7D%2C%20%22layer%22%3A%20-4%2C%20%22name%22%3A%20%22Tory%20odstawcze%20przy%20stacji%20Stadion%20Narodowy%22%2C%20%22osm_id%22%3A%20%22450271140%22%2C%20%22style%22%3A%20%7B%7D%2C%20%22tunnel%22%3A%20%22T%22%7D%2C%20%22type%22%3A%20%22Feature%22%7D%2C%20%7B%22bbox%22%3A%20%5B20.9992661%2C%2052.233418%2C%2021.0017576%2C%2052.2337552%5D%2C%20%22geometry%22%3A%20%7B%22coordinates%22%3A%20%5B%5B21.0017576%2C%2052.2337552%5D%2C%20%5B20.9992661%2C%2052.233418%5D%5D%2C%20%22type%22%3A%20%22LineString%22%7D%2C%20%22id%22%3A%20%225586%22%2C%20%22properties%22%3A%20%7B%22bridge%22%3A%20%22F%22%2C%20%22code%22%3A%206103%2C%20%22fclass%22%3A%20%22subway%22%2C%20%22highlight%22%3A%20%7B%7D%2C%20%22layer%22%3A%20-4%2C%20%22name%22%3A%20null%2C%20%22osm_id%22%3A%20%22450271141%22%2C%20%22style%22%3A%20%7B%7D%2C%20%22tunnel%22%3A%20%22T%22%7D%2C%20%22type%22%3A%20%22Feature%22%7D%2C%20%7B%22bbox%22%3A%20%5B20.9993428%2C%2052.2332701%2C%2021.001676%2C%2052.2339056%5D%2C%20%22geometry%22%3A%20%7B%22coordinates%22%3A%20%5B%5B20.9993428%2C%2052.2332701%5D%2C%20%5B21.001676%2C%2052.2339056%5D%5D%2C%20%22type%22%3A%20%22LineString%22%7D%2C%20%22id%22%3A%20%225587%22%2C%20%22properties%22%3A%20%7B%22bridge%22%3A%20%22F%22%2C%20%22code%22%3A%206103%2C%20%22fclass%22%3A%20%22subway%22%2C%20%22highlight%22%3A%20%7B%7D%2C%20%22layer%22%3A%20-4%2C%20%22name%22%3A%20null%2C%20%22osm_id%22%3A%20%22450271142%22%2C%20%22style%22%3A%20%7B%7D%2C%20%22tunnel%22%3A%20%22T%22%7D%2C%20%22type%22%3A%20%22Feature%22%7D%2C%20%7B%22bbox%22%3A%20%5B20.9398007%2C%2052.2287345%2C%2020.9784557%2C%2052.2395053%5D%2C%20%22geometry%22%3A%20%7B%22coordinates%22%3A%20%5B%5B20.9398007%2C%2052.2395053%5D%2C%20%5B20.9424263%2C%2052.2392559%5D%2C%20%5B20.948543%2C%2052.2386763%5D%2C%20%5B20.9547506%2C%2052.2380987%5D%2C%20%5B20.9572327%2C%2052.2379179%5D%2C%20%5B20.958799%2C%2052.2378428%5D%2C%20%5B20.9592189%2C%2052.2378105%5D%2C%20%5B20.961191%2C%2052.2376589%5D%2C%20%5B20.9616564%2C%2052.2375869%5D%2C%20%5B20.9620392%2C%2052.2374904%5D%2C%20%5B20.9626847%2C%2052.2372391%5D%2C%20%5B20.9632277%2C%2052.2370001%5D%2C%20%5B20.9638707%2C%2052.2366492%5D%2C%20%5B20.964166%2C%2052.2364301%5D%2C%20%5B20.9644487%2C%2052.2361818%5D%2C%20%5B20.9646739%2C%2052.2359351%5D%2C%20%5B20.9649917%2C%2052.2355475%5D%2C%20%5B20.9652259%2C%2052.2351623%5D%2C%20%5B20.9653692%2C%2052.234814%5D%2C%20%5B20.9655712%2C%2052.2342536%5D%2C%20%5B20.9659007%2C%2052.2333546%5D%2C%20%5B20.966014%2C%2052.2330176%5D%2C%20%5B20.9667164%2C%2052.2309287%5D%2C%20%5B20.966854%2C%2052.2306651%5D%2C%20%5B20.967123%2C%2052.2303127%5D%2C%20%5B20.9673944%2C%2052.2300736%5D%2C%20%5B20.9678561%2C%2052.229702%5D%2C%20%5B20.9683552%2C%2052.2293725%5D%2C%20%5B20.9686668%2C%2052.2292054%5D%2C%20%5B20.9688694%2C%2052.2291173%5D%2C%20%5B20.9695175%2C%2052.2289127%5D%2C%20%5B20.9699165%2C%2052.228823%5D%2C%20%5B20.9703594%2C%2052.2287587%5D%2C%20%5B20.9707779%2C%2052.2287345%5D%2C%20%5B20.9718881%2C%2052.2288112%5D%2C%20%5B20.9757097%2C%2052.2290178%5D%2C%20%5B20.9784557%2C%2052.2292627%5D%5D%2C%20%22type%22%3A%20%22LineString%22%7D%2C%20%22id%22%3A%20%225783%22%2C%20%22properties%22%3A%20%7B%22bridge%22%3A%20%22F%22%2C%20%22code%22%3A%206103%2C%20%22fclass%22%3A%20%22subway%22%2C%20%22highlight%22%3A%20%7B%7D%2C%20%22layer%22%3A%20-4%2C%20%22name%22%3A%20%22Linia%20metra%20M2%22%2C%20%22osm_id%22%3A%20%22468867055%22%2C%20%22style%22%3A%20%7B%7D%2C%20%22tunnel%22%3A%20%22T%22%7D%2C%20%22type%22%3A%20%22Feature%22%7D%2C%20%7B%22bbox%22%3A%20%5B21.0663154%2C%2052.1257691%2C%2021.0718926%2C%2052.1261282%5D%2C%20%22geometry%22%3A%20%7B%22coordinates%22%3A%20%5B%5B21.0718926%2C%2052.1260392%5D%2C%20%5B21.0700398%2C%2052.1261147%5D%2C%20%5B21.0699911%2C%2052.1261166%5D%2C%20%5B21.0699156%2C%2052.1261194%5D%2C%20%5B21.0696796%2C%2052.1261282%5D%2C%20%5B21.0695274%2C%2052.1261223%5D%2C%20%5B21.0693758%2C%2052.126105%5D%2C%20%5B21.0692396%2C%2052.1260802%5D%2C%20%5B21.0683236%2C%2052.1258415%5D%2C%20%5B21.0681088%2C%2052.1258132%5D%2C%20%5B21.0679654%2C%2052.1257962%5D%2C%20%5B21.0678338%2C%2052.125781%5D%2C%20%5B21.0676738%2C%2052.1257693%5D%2C%20%5B21.0676197%2C%2052.1257691%5D%2C%20%5B21.0671944%2C%2052.1257888%5D%2C%20%5B21.0669695%2C%2052.1257968%5D%2C%20%5B21.066566%2C%2052.1258264%5D%2C%20%5B21.0663154%2C%2052.125844%5D%5D%2C%20%22type%22%3A%20%22LineString%22%7D%2C%20%22id%22%3A%20%225849%22%2C%20%22properties%22%3A%20%7B%22bridge%22%3A%20%22F%22%2C%20%22code%22%3A%206103%2C%20%22fclass%22%3A%20%22subway%22%2C%20%22highlight%22%3A%20%7B%7D%2C%20%22layer%22%3A%200%2C%20%22name%22%3A%20null%2C%20%22osm_id%22%3A%20%22498008178%22%2C%20%22style%22%3A%20%7B%7D%2C%20%22tunnel%22%3A%20%22F%22%7D%2C%20%22type%22%3A%20%22Feature%22%7D%2C%20%7B%22bbox%22%3A%20%5B21.0627689%2C%2052.1255256%2C%2021.071832%2C%2052.1257757%5D%2C%20%22geometry%22%3A%20%7B%22coordinates%22%3A%20%5B%5B21.071832%2C%2052.1255256%5D%2C%20%5B21.0699803%2C%2052.1256064%5D%2C%20%5B21.0699285%2C%2052.1256086%5D%2C%20%5B21.0698576%2C%2052.1256116%5D%2C%20%5B21.0681236%2C%2052.1256881%5D%2C%20%5B21.0677229%2C%2052.1257039%5D%2C%20%5B21.0669936%2C%2052.1257391%5D%2C%20%5B21.0666764%2C%2052.1257499%5D%2C%20%5B21.0662369%2C%2052.1257727%5D%2C%20%5B21.0661247%2C%2052.1257749%5D%2C%20%5B21.0659654%2C%2052.1257757%5D%2C%20%5B21.0654563%2C%2052.125748%5D%2C%20%5B21.0650384%2C%2052.1257313%5D%2C%20%5B21.0642315%2C%2052.1256917%5D%2C%20%5B21.063803%2C%2052.1256689%5D%2C%20%5B21.0627689%2C%2052.1256156%5D%5D%2C%20%22type%22%3A%20%22LineString%22%7D%2C%20%22id%22%3A%20%225850%22%2C%20%22properties%22%3A%20%7B%22bridge%22%3A%20%22F%22%2C%20%22code%22%3A%206103%2C%20%22fclass%22%3A%20%22subway%22%2C%20%22highlight%22%3A%20%7B%7D%2C%20%22layer%22%3A%200%2C%20%22name%22%3A%20null%2C%20%22osm_id%22%3A%20%22498008179%22%2C%20%22style%22%3A%20%7B%7D%2C%20%22tunnel%22%3A%20%22F%22%7D%2C%20%22type%22%3A%20%22Feature%22%7D%2C%20%7B%22bbox%22%3A%20%5B21.0681236%2C%2052.1256811%2C%2021.0718504%2C%2052.1257888%5D%2C%20%22geometry%22%3A%20%7B%22coordinates%22%3A%20%5B%5B21.0681236%2C%2052.1256881%5D%2C%20%5B21.0684716%2C%2052.1257109%5D%2C%20%5B21.0688289%2C%2052.125738%5D%2C%20%5B21.0691359%2C%2052.1257646%5D%2C%20%5B21.0692823%2C%2052.1257793%5D%2C%20%5B21.0694365%2C%2052.1257888%5D%2C%20%5B21.0696668%2C%2052.1257789%5D%2C%20%5B21.0698756%2C%2052.1257696%5D%2C%20%5B21.0699478%2C%2052.1257656%5D%2C%20%5B21.0699988%2C%2052.125764%5D%2C%20%5B21.0718504%2C%2052.1256811%5D%5D%2C%20%22type%22%3A%20%22LineString%22%7D%2C%20%22id%22%3A%20%225851%22%2C%20%22properties%22%3A%20%7B%22bridge%22%3A%20%22F%22%2C%20%22code%22%3A%206103%2C%20%22fclass%22%3A%20%22subway%22%2C%20%22highlight%22%3A%20%7B%7D%2C%20%22layer%22%3A%200%2C%20%22name%22%3A%20null%2C%20%22osm_id%22%3A%20%22500661057%22%2C%20%22style%22%3A%20%7B%7D%2C%20%22tunnel%22%3A%20%22F%22%7D%2C%20%22type%22%3A%20%22Feature%22%7D%2C%20%7B%22bbox%22%3A%20%5B21.0693538%2C%2052.1257197%2C%2021.0718549%2C%2052.1258323%5D%2C%20%22geometry%22%3A%20%7B%22coordinates%22%3A%20%5B%5B21.0718549%2C%2052.1257197%5D%2C%20%5B21.0700032%2C%2052.1258056%5D%2C%20%5B21.069953%2C%2052.1258076%5D%2C%20%5B21.0698802%2C%2052.1258094%5D%2C%20%5B21.0693538%2C%2052.1258323%5D%5D%2C%20%22type%22%3A%20%22LineString%22%7D%2C%20%22id%22%3A%20%225852%22%2C%20%22properties%22%3A%20%7B%22bridge%22%3A%20%22F%22%2C%20%22code%22%3A%206103%2C%20%22fclass%22%3A%20%22subway%22%2C%20%22highlight%22%3A%20%7B%7D%2C%20%22layer%22%3A%200%2C%20%22name%22%3A%20null%2C%20%22osm_id%22%3A%20%22500663003%22%2C%20%22style%22%3A%20%7B%7D%2C%20%22tunnel%22%3A%20%22F%22%7D%2C%20%22type%22%3A%20%22Feature%22%7D%2C%20%7B%22bbox%22%3A%20%5B21.0688289%2C%2052.1255953%2C%2021.0718402%2C%2052.125738%5D%2C%20%22geometry%22%3A%20%7B%22coordinates%22%3A%20%5B%5B21.0718402%2C%2052.1255953%5D%2C%20%5B21.0699883%2C%2052.1256748%5D%2C%20%5B21.0699369%2C%2052.1256771%5D%2C%20%5B21.0698654%2C%2052.1256804%5D%2C%20%5B21.0688289%2C%2052.125738%5D%5D%2C%20%22type%22%3A%20%22LineString%22%7D%2C%20%22id%22%3A%20%225853%22%2C%20%22properties%22%3A%20%7B%22bridge%22%3A%20%22F%22%2C%20%22code%22%3A%206103%2C%20%22fclass%22%3A%20%22subway%22%2C%20%22highlight%22%3A%20%7B%7D%2C%20%22layer%22%3A%200%2C%20%22name%22%3A%20null%2C%20%22osm_id%22%3A%20%22500663005%22%2C%20%22style%22%3A%20%7B%7D%2C%20%22tunnel%22%3A%20%22F%22%7D%2C%20%22type%22%3A%20%22Feature%22%7D%2C%20%7B%22bbox%22%3A%20%5B21.0684716%2C%2052.1255589%2C%2021.071836%2C%2052.1257109%5D%2C%20%22geometry%22%3A%20%7B%22coordinates%22%3A%20%5B%5B21.071836%2C%2052.1255589%5D%2C%20%5B21.069984%2C%2052.1256379%5D%2C%20%5B21.0699324%2C%2052.1256403%5D%2C%20%5B21.0698612%2C%2052.1256437%5D%2C%20%5B21.0684716%2C%2052.1257109%5D%5D%2C%20%22type%22%3A%20%22LineString%22%7D%2C%20%22id%22%3A%20%225854%22%2C%20%22properties%22%3A%20%7B%22bridge%22%3A%20%22F%22%2C%20%22code%22%3A%206103%2C%20%22fclass%22%3A%20%22subway%22%2C%20%22highlight%22%3A%20%7B%7D%2C%20%22layer%22%3A%200%2C%20%22name%22%3A%20null%2C%20%22osm_id%22%3A%20%22500663006%22%2C%20%22style%22%3A%20%7B%7D%2C%20%22tunnel%22%3A%20%22F%22%7D%2C%20%22type%22%3A%20%22Feature%22%7D%2C%20%7B%22bbox%22%3A%20%5B21.069128%2C%2052.1258347%2C%2021.0718685%2C%2052.1259353%5D%2C%20%22geometry%22%3A%20%7B%22coordinates%22%3A%20%5B%5B21.0718685%2C%2052.1258347%5D%2C%20%5B21.0700172%2C%2052.1259213%5D%2C%20%5B21.0699673%2C%2052.1259236%5D%2C%20%5B21.0698936%2C%2052.1259268%5D%2C%20%5B21.0697312%2C%2052.1259341%5D%2C%20%5B21.0695725%2C%2052.1259353%5D%2C%20%5B21.0694202%2C%2052.1259177%5D%2C%20%5B21.069128%2C%2052.1258559%5D%5D%2C%20%22type%22%3A%20%22LineString%22%7D%2C%20%22id%22%3A%20%225855%22%2C%20%22properties%22%3A%20%7B%22bridge%22%3A%20%22F%22%2C%20%22code%22%3A%206103%2C%20%22fclass%22%3A%20%22subway%22%2C%20%22highlight%22%3A%20%7B%7D%2C%20%22layer%22%3A%200%2C%20%22name%22%3A%20null%2C%20%22osm_id%22%3A%20%22500663007%22%2C%20%22style%22%3A%20%7B%7D%2C%20%22tunnel%22%3A%20%22F%22%7D%2C%20%22type%22%3A%20%22Feature%22%7D%2C%20%7B%22bbox%22%3A%20%5B21.068531%2C%2052.1257714%2C%2021.0718737%2C%2052.1259752%5D%2C%20%22geometry%22%3A%20%7B%22coordinates%22%3A%20%5B%5B21.0718737%2C%2052.1258786%5D%2C%20%5B21.070022%2C%2052.1259623%5D%2C%20%5B21.0699724%2C%2052.1259647%5D%2C%20%5B21.0698984%2C%2052.1259684%5D%2C%20%5B21.0697624%2C%2052.1259752%5D%2C%20%5B21.0695626%2C%2052.1259736%5D%2C%20%5B21.0693932%2C%2052.1259545%5D%2C%20%5B21.068531%2C%2052.1257714%5D%5D%2C%20%22type%22%3A%20%22LineString%22%7D%2C%20%22id%22%3A%20%225856%22%2C%20%22properties%22%3A%20%7B%22bridge%22%3A%20%22F%22%2C%20%22code%22%3A%206103%2C%20%22fclass%22%3A%20%22subway%22%2C%20%22highlight%22%3A%20%7B%7D%2C%20%22layer%22%3A%200%2C%20%22name%22%3A%20null%2C%20%22osm_id%22%3A%20%22500663008%22%2C%20%22style%22%3A%20%7B%7D%2C%20%22tunnel%22%3A%20%22F%22%7D%2C%20%22type%22%3A%20%22Feature%22%7D%2C%20%7B%22bbox%22%3A%20%5B21.0689176%2C%2052.1259261%2C%2021.0718823%2C%2052.1260561%5D%2C%20%22geometry%22%3A%20%7B%22coordinates%22%3A%20%5B%5B21.0718823%2C%2052.1259514%5D%2C%20%5B21.070031%2C%2052.1260394%5D%2C%20%5B21.0699819%2C%2052.1260422%5D%2C%20%5B21.0699073%2C%2052.1260464%5D%2C%20%5B21.069737%2C%2052.1260561%5D%2C%20%5B21.0695954%2C%2052.1260551%5D%2C%20%5B21.0694465%2C%2052.1260457%5D%2C%20%5B21.0693109%2C%2052.126024%5D%2C%20%5B21.0689176%2C%2052.1259261%5D%5D%2C%20%22type%22%3A%20%22LineString%22%7D%2C%20%22id%22%3A%20%225857%22%2C%20%22properties%22%3A%20%7B%22bridge%22%3A%20%22F%22%2C%20%22code%22%3A%206103%2C%20%22fclass%22%3A%20%22subway%22%2C%20%22highlight%22%3A%20%7B%7D%2C%20%22layer%22%3A%200%2C%20%22name%22%3A%20null%2C%20%22osm_id%22%3A%20%22500663009%22%2C%20%22style%22%3A%20%7B%7D%2C%20%22tunnel%22%3A%20%22F%22%7D%2C%20%22type%22%3A%20%22Feature%22%7D%2C%20%7B%22bbox%22%3A%20%5B21.0686517%2C%2052.1258874%2C%2021.0718871%2C%2052.1260917%5D%2C%20%22geometry%22%3A%20%7B%22coordinates%22%3A%20%5B%5B21.0718871%2C%2052.1259924%5D%2C%20%5B21.0700352%2C%2052.1260751%5D%2C%20%5B21.0699863%2C%2052.1260774%5D%2C%20%5B21.0699112%2C%2052.1260808%5D%2C%20%5B21.0696784%2C%2052.1260917%5D%2C%20%5B21.0695465%2C%2052.1260865%5D%2C%20%5B21.0693986%2C%2052.1260746%5D%2C%20%5B21.0692587%2C%2052.1260458%5D%2C%20%5B21.0690434%2C%2052.1259898%5D%2C%20%5B21.0686517%2C%2052.1258874%5D%5D%2C%20%22type%22%3A%20%22LineString%22%7D%2C%20%22id%22%3A%20%225858%22%2C%20%22properties%22%3A%20%7B%22bridge%22%3A%20%22F%22%2C%20%22code%22%3A%206103%2C%20%22fclass%22%3A%20%22subway%22%2C%20%22highlight%22%3A%20%7B%7D%2C%20%22layer%22%3A%200%2C%20%22name%22%3A%20null%2C%20%22osm_id%22%3A%20%22500663010%22%2C%20%22style%22%3A%20%7B%7D%2C%20%22tunnel%22%3A%20%22F%22%7D%2C%20%22type%22%3A%20%22Feature%22%7D%2C%20%7B%22bbox%22%3A%20%5B21.0683236%2C%2052.1258415%2C%2021.0718785%2C%2052.1260155%5D%2C%20%22geometry%22%3A%20%7B%22coordinates%22%3A%20%5B%5B21.0718785%2C%2052.1259192%5D%2C%20%5B21.0700266%2C%2052.1260017%5D%2C%20%5B21.0699772%2C%2052.126004%5D%2C%20%5B21.0699028%2C%2052.1260075%5D%2C%20%5B21.0697353%2C%2052.1260155%5D%2C%20%5B21.0695896%2C%2052.1260116%5D%2C%20%5B21.0694439%2C%2052.1259977%5D%2C%20%5B21.0689176%2C%2052.1259261%5D%2C%20%5B21.0686517%2C%2052.1258874%5D%2C%20%5B21.0683236%2C%2052.1258415%5D%5D%2C%20%22type%22%3A%20%22LineString%22%7D%2C%20%22id%22%3A%20%225859%22%2C%20%22properties%22%3A%20%7B%22bridge%22%3A%20%22F%22%2C%20%22code%22%3A%206103%2C%20%22fclass%22%3A%20%22subway%22%2C%20%22highlight%22%3A%20%7B%7D%2C%20%22layer%22%3A%200%2C%20%22name%22%3A%20null%2C%20%22osm_id%22%3A%20%22500663619%22%2C%20%22style%22%3A%20%7B%7D%2C%20%22tunnel%22%3A%20%22F%22%7D%2C%20%22type%22%3A%20%22Feature%22%7D%2C%20%7B%22bbox%22%3A%20%5B21.0691359%2C%2052.1256361%2C%2021.0718451%2C%2052.1257646%5D%2C%20%22geometry%22%3A%20%7B%22coordinates%22%3A%20%5B%5B21.0718451%2C%2052.1256361%5D%2C%20%5B21.0699928%2C%2052.1257235%5D%2C%20%5B21.0699429%2C%2052.1257257%5D%2C%20%5B21.0698708%2C%2052.1257275%5D%2C%20%5B21.0691359%2C%2052.1257646%5D%5D%2C%20%22type%22%3A%20%22LineString%22%7D%2C%20%22id%22%3A%20%225860%22%2C%20%22properties%22%3A%20%7B%22bridge%22%3A%20%22F%22%2C%20%22code%22%3A%206103%2C%20%22fclass%22%3A%20%22subway%22%2C%20%22highlight%22%3A%20%7B%7D%2C%20%22layer%22%3A%200%2C%20%22name%22%3A%20null%2C%20%22osm_id%22%3A%20%22500663620%22%2C%20%22style%22%3A%20%7B%7D%2C%20%22tunnel%22%3A%20%22F%22%7D%2C%20%22type%22%3A%20%22Feature%22%7D%2C%20%7B%22bbox%22%3A%20%5B21.0335062%2C%2052.2562651%2C%2021.0562559%2C%2052.2758012%5D%2C%20%22geometry%22%3A%20%7B%22coordinates%22%3A%20%5B%5B21.0336026%2C%2052.2562651%5D%2C%20%5B21.0335723%2C%2052.2563353%5D%2C%20%5B21.0335264%2C%2052.2564775%5D%2C%20%5B21.033523%2C%2052.2566056%5D%2C%20%5B21.0335062%2C%2052.2567825%5D%2C%20%5B21.0335304%2C%2052.2570009%5D%2C%20%5B21.0336202%2C%2052.2572783%5D%2C%20%5B21.0336551%2C%2052.2573883%5D%2C%20%5B21.0339609%2C%2052.2580319%5D%2C%20%5B21.0345697%2C%2052.2587855%5D%2C%20%5B21.0347046%2C%2052.2588991%5D%2C%20%5B21.0350767%2C%2052.2592124%5D%2C%20%5B21.0356078%2C%2052.2595686%5D%2C%20%5B21.0361093%2C%2052.259851%5D%2C%20%5B21.0363588%2C%2052.2599462%5D%2C%20%5B21.038239%2C%2052.2606833%5D%2C%20%5B21.0402265%2C%2052.2613729%5D%2C%20%5B21.040995%2C%2052.2616519%5D%2C%20%5B21.0417996%2C%2052.2619507%5D%2C%20%5B21.0440084%2C%2052.2628553%5D%2C%20%5B21.044919%2C%2052.2632353%5D%2C%20%5B21.0453572%2C%2052.2634264%5D%2C%20%5B21.0472056%2C%2052.2642326%5D%2C%20%5B21.0487184%2C%2052.2648761%5D%2C%20%5B21.049751%2C%2052.2654736%5D%2C%20%5B21.0501276%2C%2052.2657674%5D%2C%20%5B21.0505316%2C%2052.2661999%5D%2C%20%5B21.0509205%2C%2052.266749%5D%2C%20%5B21.0511082%2C%2052.2671725%5D%2C%20%5B21.0512848%2C%2052.2678222%5D%2C%20%5B21.0514008%2C%2052.2687634%5D%2C%20%5B21.051449%2C%2052.2693231%5D%2C%20%5B21.0514818%2C%2052.2695822%5D%2C%20%5B21.0515921%2C%2052.2704528%5D%2C%20%5B21.0516524%2C%2052.2707843%5D%2C%20%5B21.0517364%2C%2052.2713194%5D%2C%20%5B21.0519045%2C%2052.2717798%5D%2C%20%5B21.0520271%2C%2052.2720391%5D%2C%20%5B21.0524628%2C%2052.2727728%5D%2C%20%5B21.0529321%2C%2052.2733079%5D%2C%20%5B21.0532325%2C%2052.2736312%5D%2C%20%5B21.0540388%2C%2052.2743366%5D%2C%20%5B21.0547028%2C%2052.2747911%5D%2C%20%5B21.0550883%2C%2052.275053%5D%2C%20%5B21.0555037%2C%2052.2753192%5D%2C%20%5B21.0562559%2C%2052.2758012%5D%5D%2C%20%22type%22%3A%20%22LineString%22%7D%2C%20%22id%22%3A%20%225868%22%2C%20%22properties%22%3A%20%7B%22bridge%22%3A%20%22F%22%2C%20%22code%22%3A%206103%2C%20%22fclass%22%3A%20%22subway%22%2C%20%22highlight%22%3A%20%7B%7D%2C%20%22layer%22%3A%20-4%2C%20%22name%22%3A%20%22Linia%20metra%20M2%22%2C%20%22osm_id%22%3A%20%22502664109%22%2C%20%22style%22%3A%20%7B%7D%2C%20%22tunnel%22%3A%20%22T%22%7D%2C%20%22type%22%3A%20%22Feature%22%7D%2C%20%7B%22bbox%22%3A%20%5B21.0651548%2C%2052.1283703%2C%2021.0689567%2C%2052.1320899%5D%2C%20%22geometry%22%3A%20%7B%22coordinates%22%3A%20%5B%5B21.0689567%2C%2052.1283703%5D%2C%20%5B21.0675868%2C%2052.1297255%5D%2C%20%5B21.0668191%2C%2052.130511%5D%2C%20%5B21.0660989%2C%2052.1311483%5D%2C%20%5B21.0651548%2C%2052.1320899%5D%5D%2C%20%22type%22%3A%20%22LineString%22%7D%2C%20%22id%22%3A%20%225922%22%2C%20%22properties%22%3A%20%7B%22bridge%22%3A%20%22F%22%2C%20%22code%22%3A%206103%2C%20%22fclass%22%3A%20%22subway%22%2C%20%22highlight%22%3A%20%7B%7D%2C%20%22layer%22%3A%20-3%2C%20%22name%22%3A%20%22Tory%20odstawcze%20przy%20stacji%20Kabaty%22%2C%20%22osm_id%22%3A%20%22543021168%22%2C%20%22style%22%3A%20%7B%7D%2C%20%22tunnel%22%3A%20%22T%22%7D%2C%20%22type%22%3A%20%22Feature%22%7D%2C%20%7B%22bbox%22%3A%20%5B21.0677229%2C%2052.1257039%2C%2021.0681637%2C%2052.1257434%5D%2C%20%22geometry%22%3A%20%7B%22coordinates%22%3A%20%5B%5B21.0677229%2C%2052.1257039%5D%2C%20%5B21.0681637%2C%2052.1257434%5D%5D%2C%20%22type%22%3A%20%22LineString%22%7D%2C%20%22id%22%3A%20%225959%22%2C%20%22properties%22%3A%20%7B%22bridge%22%3A%20%22F%22%2C%20%22code%22%3A%206103%2C%20%22fclass%22%3A%20%22subway%22%2C%20%22highlight%22%3A%20%7B%7D%2C%20%22layer%22%3A%200%2C%20%22name%22%3A%20null%2C%20%22osm_id%22%3A%20%22554094101%22%2C%20%22style%22%3A%20%7B%7D%2C%20%22tunnel%22%3A%20%22F%22%7D%2C%20%22type%22%3A%20%22Feature%22%7D%2C%20%7B%22bbox%22%3A%20%5B21.0676738%2C%2052.1257434%2C%2021.0718594%2C%2052.1258579%5D%2C%20%22geometry%22%3A%20%7B%22coordinates%22%3A%20%5B%5B21.0676738%2C%2052.1257693%5D%2C%20%5B21.0678459%2C%2052.1257602%5D%2C%20%5B21.0681637%2C%2052.1257434%5D%2C%20%5B21.068531%2C%2052.1257714%5D%2C%20%5B21.0688489%2C%2052.1257989%5D%2C%20%5B21.0693538%2C%2052.1258323%5D%2C%20%5B21.06955%2C%2052.1258556%5D%2C%20%5B21.0697025%2C%2052.1258579%5D%2C%20%5B21.0698847%2C%2052.125849%5D%2C%20%5B21.0699577%2C%2052.1258455%5D%2C%20%5B21.070008%2C%2052.125843%5D%2C%20%5B21.0718594%2C%2052.1257575%5D%5D%2C%20%22type%22%3A%20%22LineString%22%7D%2C%20%22id%22%3A%20%225960%22%2C%20%22properties%22%3A%20%7B%22bridge%22%3A%20%22F%22%2C%20%22code%22%3A%206103%2C%20%22fclass%22%3A%20%22subway%22%2C%20%22highlight%22%3A%20%7B%7D%2C%20%22layer%22%3A%200%2C%20%22name%22%3A%20null%2C%20%22osm_id%22%3A%20%22554096843%22%2C%20%22style%22%3A%20%7B%7D%2C%20%22tunnel%22%3A%20%22F%22%7D%2C%20%22type%22%3A%20%22Feature%22%7D%2C%20%7B%22bbox%22%3A%20%5B21.0688489%2C%2052.1257981%2C%2021.0718642%2C%2052.1258965%5D%2C%20%22geometry%22%3A%20%7B%22coordinates%22%3A%20%5B%5B21.0688489%2C%2052.1257989%5D%2C%20%5B21.069128%2C%2052.1258559%5D%2C%20%5B21.0695213%2C%2052.1258965%5D%2C%20%5B21.0697337%2C%2052.1258953%5D%2C%20%5B21.0698892%2C%2052.1258887%5D%2C%20%5B21.0699626%2C%2052.1258855%5D%2C%20%5B21.0700127%2C%2052.1258834%5D%2C%20%5B21.0718642%2C%2052.1257981%5D%5D%2C%20%22type%22%3A%20%22LineString%22%7D%2C%20%22id%22%3A%20%226218%22%2C%20%22properties%22%3A%20%7B%22bridge%22%3A%20%22F%22%2C%20%22code%22%3A%206103%2C%20%22fclass%22%3A%20%22subway%22%2C%20%22highlight%22%3A%20%7B%7D%2C%20%22layer%22%3A%200%2C%20%22name%22%3A%20null%2C%20%22osm_id%22%3A%20%22667731622%22%2C%20%22style%22%3A%20%7B%7D%2C%20%22tunnel%22%3A%20%22F%22%7D%2C%20%22type%22%3A%20%22Feature%22%7D%2C%20%7B%22bbox%22%3A%20%5B21.05144%2C%2052.2704593%2C%2021.0516524%2C%2052.2707843%5D%2C%20%22geometry%22%3A%20%7B%22coordinates%22%3A%20%5B%5B21.05144%2C%2052.2704593%5D%2C%20%5B21.0516524%2C%2052.2707843%5D%5D%2C%20%22type%22%3A%20%22LineString%22%7D%2C%20%22id%22%3A%20%226299%22%2C%20%22properties%22%3A%20%7B%22bridge%22%3A%20%22F%22%2C%20%22code%22%3A%206103%2C%20%22fclass%22%3A%20%22subway%22%2C%20%22highlight%22%3A%20%7B%7D%2C%20%22layer%22%3A%20-4%2C%20%22name%22%3A%20null%2C%20%22osm_id%22%3A%20%22724715859%22%2C%20%22style%22%3A%20%7B%7D%2C%20%22tunnel%22%3A%20%22T%22%7D%2C%20%22type%22%3A%20%22Feature%22%7D%2C%20%7B%22bbox%22%3A%20%5B21.0514736%2C%2052.2704528%2C%2021.0515921%2C%2052.2707833%5D%2C%20%22geometry%22%3A%20%7B%22coordinates%22%3A%20%5B%5B21.0514736%2C%2052.2707833%5D%2C%20%5B21.0515921%2C%2052.2704528%5D%5D%2C%20%22type%22%3A%20%22LineString%22%7D%2C%20%22id%22%3A%20%226300%22%2C%20%22properties%22%3A%20%7B%22bridge%22%3A%20%22F%22%2C%20%22code%22%3A%206103%2C%20%22fclass%22%3A%20%22subway%22%2C%20%22highlight%22%3A%20%7B%7D%2C%20%22layer%22%3A%20-4%2C%20%22name%22%3A%20null%2C%20%22osm_id%22%3A%20%22724715860%22%2C%20%22style%22%3A%20%7B%7D%2C%20%22tunnel%22%3A%20%22T%22%7D%2C%20%22type%22%3A%20%22Feature%22%7D%2C%20%7B%22bbox%22%3A%20%5B21.0561473%2C%2052.2758731%2C%2021.0585244%2C%2052.2773633%5D%2C%20%22geometry%22%3A%20%7B%22coordinates%22%3A%20%5B%5B21.0561473%2C%2052.2758731%5D%2C%20%5B21.0563273%2C%2052.2759453%5D%2C%20%5B21.0564908%2C%2052.2760452%5D%2C%20%5B21.0585244%2C%2052.2773633%5D%5D%2C%20%22type%22%3A%20%22LineString%22%7D%2C%20%22id%22%3A%20%226301%22%2C%20%22properties%22%3A%20%7B%22bridge%22%3A%20%22F%22%2C%20%22code%22%3A%206103%2C%20%22fclass%22%3A%20%22subway%22%2C%20%22highlight%22%3A%20%7B%7D%2C%20%22layer%22%3A%20-4%2C%20%22name%22%3A%20%22Tory%20odstawcze%20przy%20stacji%20Trocka%22%2C%20%22osm_id%22%3A%20%22724715861%22%2C%20%22style%22%3A%20%7B%7D%2C%20%22tunnel%22%3A%20%22T%22%7D%2C%20%22type%22%3A%20%22Feature%22%7D%2C%20%7B%22bbox%22%3A%20%5B21.0562559%2C%2052.2758012%2C%2021.0585807%2C%2052.2773367%5D%2C%20%22geometry%22%3A%20%7B%22coordinates%22%3A%20%5B%5B21.0562559%2C%2052.2758012%5D%2C%20%5B21.0563811%2C%2052.2759278%5D%2C%20%5B21.0565318%2C%2052.2760221%5D%2C%20%5B21.0585807%2C%2052.2773367%5D%5D%2C%20%22type%22%3A%20%22LineString%22%7D%2C%20%22id%22%3A%20%226302%22%2C%20%22properties%22%3A%20%7B%22bridge%22%3A%20%22F%22%2C%20%22code%22%3A%206103%2C%20%22fclass%22%3A%20%22subway%22%2C%20%22highlight%22%3A%20%7B%7D%2C%20%22layer%22%3A%20-4%2C%20%22name%22%3A%20%22Tory%20odstawcze%20przy%20stacji%20Trocka%22%2C%20%22osm_id%22%3A%20%22724715862%22%2C%20%22style%22%3A%20%7B%7D%2C%20%22tunnel%22%3A%20%22T%22%7D%2C%20%22type%22%3A%20%22Feature%22%7D%2C%20%7B%22bbox%22%3A%20%5B21.0563811%2C%2052.2759278%2C%2021.0564908%2C%2052.2760452%5D%2C%20%22geometry%22%3A%20%7B%22coordinates%22%3A%20%5B%5B21.0563811%2C%2052.2759278%5D%2C%20%5B21.0564908%2C%2052.2760452%5D%5D%2C%20%22type%22%3A%20%22LineString%22%7D%2C%20%22id%22%3A%20%226303%22%2C%20%22properties%22%3A%20%7B%22bridge%22%3A%20%22F%22%2C%20%22code%22%3A%206103%2C%20%22fclass%22%3A%20%22subway%22%2C%20%22highlight%22%3A%20%7B%7D%2C%20%22layer%22%3A%20-4%2C%20%22name%22%3A%20%22Tory%20odstawcze%20przy%20stacji%20Trocka%22%2C%20%22osm_id%22%3A%20%22724715863%22%2C%20%22style%22%3A%20%7B%7D%2C%20%22tunnel%22%3A%20%22T%22%7D%2C%20%22type%22%3A%20%22Feature%22%7D%2C%20%7B%22bbox%22%3A%20%5B21.0563273%2C%2052.2759453%2C%2021.0565318%2C%2052.2760221%5D%2C%20%22geometry%22%3A%20%7B%22coordinates%22%3A%20%5B%5B21.0563273%2C%2052.2759453%5D%2C%20%5B21.0565318%2C%2052.2760221%5D%5D%2C%20%22type%22%3A%20%22LineString%22%7D%2C%20%22id%22%3A%20%226304%22%2C%20%22properties%22%3A%20%7B%22bridge%22%3A%20%22F%22%2C%20%22code%22%3A%206103%2C%20%22fclass%22%3A%20%22subway%22%2C%20%22highlight%22%3A%20%7B%7D%2C%20%22layer%22%3A%20-4%2C%20%22name%22%3A%20%22Tory%20odstawcze%20przy%20stacji%20Trocka%22%2C%20%22osm_id%22%3A%20%22724715864%22%2C%20%22style%22%3A%20%7B%7D%2C%20%22tunnel%22%3A%20%22T%22%7D%2C%20%22type%22%3A%20%22Feature%22%7D%2C%20%7B%22bbox%22%3A%20%5B21.0561473%2C%2052.2758731%2C%2021.0584514%2C%2052.2774205%5D%2C%20%22geometry%22%3A%20%7B%22coordinates%22%3A%20%5B%5B21.0584514%2C%2052.2774205%5D%2C%20%5B21.0564664%2C%2052.2760885%5D%2C%20%5B21.0561473%2C%2052.2758731%5D%5D%2C%20%22type%22%3A%20%22LineString%22%7D%2C%20%22id%22%3A%20%226305%22%2C%20%22properties%22%3A%20%7B%22bridge%22%3A%20%22F%22%2C%20%22code%22%3A%206103%2C%20%22fclass%22%3A%20%22subway%22%2C%20%22highlight%22%3A%20%7B%7D%2C%20%22layer%22%3A%20-4%2C%20%22name%22%3A%20%22Tory%20odstawcze%20przy%20stacji%20Trocka%22%2C%20%22osm_id%22%3A%20%22725681088%22%2C%20%22style%22%3A%20%7B%7D%2C%20%22tunnel%22%3A%20%22T%22%7D%2C%20%22type%22%3A%20%22Feature%22%7D%2C%20%7B%22bbox%22%3A%20%5B21.0562559%2C%2052.2758012%2C%2021.0586747%2C%2052.2773102%5D%2C%20%22geometry%22%3A%20%7B%22coordinates%22%3A%20%5B%5B21.0562559%2C%2052.2758012%5D%2C%20%5B21.0586747%2C%2052.2773102%5D%5D%2C%20%22type%22%3A%20%22LineString%22%7D%2C%20%22id%22%3A%20%226306%22%2C%20%22properties%22%3A%20%7B%22bridge%22%3A%20%22F%22%2C%20%22code%22%3A%206103%2C%20%22fclass%22%3A%20%22subway%22%2C%20%22highlight%22%3A%20%7B%7D%2C%20%22layer%22%3A%20-4%2C%20%22name%22%3A%20%22Tory%20odstawcze%20przy%20stacji%20Trocka%22%2C%20%22osm_id%22%3A%20%22725681089%22%2C%20%22style%22%3A%20%7B%7D%2C%20%22tunnel%22%3A%20%22T%22%7D%2C%20%22type%22%3A%20%22Feature%22%7D%2C%20%7B%22bbox%22%3A%20%5B20.925314%2C%2052.2915029%2C%2020.9281574%2C%2052.2926899%5D%2C%20%22geometry%22%3A%20%7B%22coordinates%22%3A%20%5B%5B20.9281574%2C%2052.2915029%5D%2C%20%5B20.9277052%2C%2052.2916071%5D%2C%20%5B20.925314%2C%2052.2926899%5D%5D%2C%20%22type%22%3A%20%22LineString%22%7D%2C%20%22id%22%3A%20%226307%22%2C%20%22properties%22%3A%20%7B%22bridge%22%3A%20%22F%22%2C%20%22code%22%3A%206103%2C%20%22fclass%22%3A%20%22subway%22%2C%20%22highlight%22%3A%20%7B%7D%2C%20%22layer%22%3A%20-3%2C%20%22name%22%3A%20%22Tory%20odstawcze%20przy%20stacji%20M%5Cu0142ociny%22%2C%20%22osm_id%22%3A%20%22725681090%22%2C%20%22style%22%3A%20%7B%7D%2C%20%22tunnel%22%3A%20%22T%22%7D%2C%20%22type%22%3A%20%22Feature%22%7D%2C%20%7B%22bbox%22%3A%20%5B20.9256064%2C%2052.2916054%2C%2020.9282747%2C%2052.2929426%5D%2C%20%22geometry%22%3A%20%7B%22coordinates%22%3A%20%5B%5B20.9282747%2C%2052.2916054%5D%2C%20%5B20.9280324%2C%2052.2918483%5D%2C%20%5B20.9256064%2C%2052.2929426%5D%5D%2C%20%22type%22%3A%20%22LineString%22%7D%2C%20%22id%22%3A%20%226308%22%2C%20%22properties%22%3A%20%7B%22bridge%22%3A%20%22F%22%2C%20%22code%22%3A%206103%2C%20%22fclass%22%3A%20%22subway%22%2C%20%22highlight%22%3A%20%7B%7D%2C%20%22layer%22%3A%20-3%2C%20%22name%22%3A%20%22Tory%20odstawcze%20przy%20stacji%20M%5Cu0142ociny%22%2C%20%22osm_id%22%3A%20%22725681091%22%2C%20%22style%22%3A%20%7B%7D%2C%20%22tunnel%22%3A%20%22T%22%7D%2C%20%22type%22%3A%20%22Feature%22%7D%2C%20%7B%22bbox%22%3A%20%5B20.9284859%2C%2052.2911704%2C%2020.9288146%2C%2052.2915061%5D%2C%20%22geometry%22%3A%20%7B%22coordinates%22%3A%20%5B%5B20.9288146%2C%2052.2911704%5D%2C%20%5B20.9286362%2C%2052.2913526%5D%2C%20%5B20.9284859%2C%2052.2915061%5D%5D%2C%20%22type%22%3A%20%22LineString%22%7D%2C%20%22id%22%3A%20%226309%22%2C%20%22properties%22%3A%20%7B%22bridge%22%3A%20%22F%22%2C%20%22code%22%3A%206103%2C%20%22fclass%22%3A%20%22subway%22%2C%20%22highlight%22%3A%20%7B%7D%2C%20%22layer%22%3A%20-3%2C%20%22name%22%3A%20%22Tory%20odstawcze%20przy%20stacji%20M%5Cu0142ociny%22%2C%20%22osm_id%22%3A%20%22725681092%22%2C%20%22style%22%3A%20%7B%7D%2C%20%22tunnel%22%3A%20%22T%22%7D%2C%20%22type%22%3A%20%22Feature%22%7D%2C%20%7B%22bbox%22%3A%20%5B20.9283567%2C%2052.2912902%2C%2020.9289447%2C%2052.2914092%5D%2C%20%22geometry%22%3A%20%7B%22coordinates%22%3A%20%5B%5B20.9289447%2C%2052.2912902%5D%2C%20%5B20.9286362%2C%2052.2913526%5D%2C%20%5B20.9283567%2C%2052.2914092%5D%5D%2C%20%22type%22%3A%20%22LineString%22%7D%2C%20%22id%22%3A%20%226310%22%2C%20%22properties%22%3A%20%7B%22bridge%22%3A%20%22F%22%2C%20%22code%22%3A%206103%2C%20%22fclass%22%3A%20%22subway%22%2C%20%22highlight%22%3A%20%7B%7D%2C%20%22layer%22%3A%20-3%2C%20%22name%22%3A%20%22Tory%20odstawcze%20przy%20stacji%20M%5Cu0142ociny%22%2C%20%22osm_id%22%3A%20%22725681093%22%2C%20%22style%22%3A%20%7B%7D%2C%20%22tunnel%22%3A%20%22T%22%7D%2C%20%22type%22%3A%20%22Feature%22%7D%2C%20%7B%22bbox%22%3A%20%5B20.9254191%2C%2052.2911704%2C%2020.9288146%2C%2052.2927807%5D%2C%20%22geometry%22%3A%20%7B%22coordinates%22%3A%20%5B%5B20.9288146%2C%2052.2911704%5D%2C%20%5B20.9283567%2C%2052.2914092%5D%2C%20%5B20.9281574%2C%2052.2915029%5D%2C%20%5B20.9277749%2C%2052.2916826%5D%2C%20%5B20.9254191%2C%2052.2927807%5D%5D%2C%20%22type%22%3A%20%22LineString%22%7D%2C%20%22id%22%3A%20%226311%22%2C%20%22properties%22%3A%20%7B%22bridge%22%3A%20%22F%22%2C%20%22code%22%3A%206103%2C%20%22fclass%22%3A%20%22subway%22%2C%20%22highlight%22%3A%20%7B%7D%2C%20%22layer%22%3A%20-3%2C%20%22name%22%3A%20%22Tory%20odstawcze%20przy%20stacji%20M%5Cu0142ociny%22%2C%20%22osm_id%22%3A%20%22725681094%22%2C%20%22style%22%3A%20%7B%7D%2C%20%22tunnel%22%3A%20%22T%22%7D%2C%20%22type%22%3A%20%22Feature%22%7D%2C%20%7B%22bbox%22%3A%20%5B20.9255199%2C%2052.2912902%2C%2020.9289447%2C%2052.2928679%5D%2C%20%22geometry%22%3A%20%7B%22coordinates%22%3A%20%5B%5B20.9289447%2C%2052.2912902%5D%2C%20%5B20.9284859%2C%2052.2915061%5D%2C%20%5B20.9282747%2C%2052.2916054%5D%2C%20%5B20.9278876%2C%2052.2917876%5D%2C%20%5B20.9255199%2C%2052.2928679%5D%5D%2C%20%22type%22%3A%20%22LineString%22%7D%2C%20%22id%22%3A%20%226312%22%2C%20%22properties%22%3A%20%7B%22bridge%22%3A%20%22F%22%2C%20%22code%22%3A%206103%2C%20%22fclass%22%3A%20%22subway%22%2C%20%22highlight%22%3A%20%7B%7D%2C%20%22layer%22%3A%20-3%2C%20%22name%22%3A%20%22Tory%20odstawcze%20przy%20stacji%20M%5Cu0142ociny%22%2C%20%22osm_id%22%3A%20%22725681095%22%2C%20%22style%22%3A%20%7B%7D%2C%20%22tunnel%22%3A%20%22T%22%7D%2C%20%22type%22%3A%20%22Feature%22%7D%2C%20%7B%22bbox%22%3A%20%5B20.957672%2C%2052.277755%2C%2020.9579616%2C%2052.2780491%5D%2C%20%22geometry%22%3A%20%7B%22coordinates%22%3A%20%5B%5B20.9579616%2C%2052.277755%5D%2C%20%5B20.957672%2C%2052.2780491%5D%5D%2C%20%22type%22%3A%20%22LineString%22%7D%2C%20%22id%22%3A%20%226313%22%2C%20%22properties%22%3A%20%7B%22bridge%22%3A%20%22F%22%2C%20%22code%22%3A%206103%2C%20%22fclass%22%3A%20%22subway%22%2C%20%22highlight%22%3A%20%7B%7D%2C%20%22layer%22%3A%20-3%2C%20%22name%22%3A%20null%2C%20%22osm_id%22%3A%20%22725681096%22%2C%20%22style%22%3A%20%7B%7D%2C%20%22tunnel%22%3A%20%22T%22%7D%2C%20%22type%22%3A%20%22Feature%22%7D%2C%20%7B%22bbox%22%3A%20%5B20.9830861%2C%2052.269532%2C%2020.9831875%2C%2052.2695534%5D%2C%20%22geometry%22%3A%20%7B%22coordinates%22%3A%20%5B%5B20.9830861%2C%2052.2695534%5D%2C%20%5B20.9831875%2C%2052.269532%5D%5D%2C%20%22type%22%3A%20%22LineString%22%7D%2C%20%22id%22%3A%20%226314%22%2C%20%22properties%22%3A%20%7B%22bridge%22%3A%20%22F%22%2C%20%22code%22%3A%206103%2C%20%22fclass%22%3A%20%22subway%22%2C%20%22highlight%22%3A%20%7B%7D%2C%20%22layer%22%3A%20-3%2C%20%22name%22%3A%20%22Tory%20odstawcze%20przy%20stacji%20Plac%20Wilsona%22%2C%20%22osm_id%22%3A%20%22725681097%22%2C%20%22style%22%3A%20%7B%7D%2C%20%22tunnel%22%3A%20%22T%22%7D%2C%20%22type%22%3A%20%22Feature%22%7D%2C%20%7B%22bbox%22%3A%20%5B20.9830747%2C%2052.2695084%2C%2020.9831734%2C%2052.269532%5D%2C%20%22geometry%22%3A%20%7B%22coordinates%22%3A%20%5B%5B20.9830747%2C%2052.269532%5D%2C%20%5B20.9831734%2C%2052.2695084%5D%5D%2C%20%22type%22%3A%20%22LineString%22%7D%2C%20%22id%22%3A%20%226315%22%2C%20%22properties%22%3A%20%7B%22bridge%22%3A%20%22F%22%2C%20%22code%22%3A%206103%2C%20%22fclass%22%3A%20%22subway%22%2C%20%22highlight%22%3A%20%7B%7D%2C%20%22layer%22%3A%20-3%2C%20%22name%22%3A%20%22Tory%20odstawcze%20przy%20stacji%20Plac%20Wilsona%22%2C%20%22osm_id%22%3A%20%22725681098%22%2C%20%22style%22%3A%20%7B%7D%2C%20%22tunnel%22%3A%20%22T%22%7D%2C%20%22type%22%3A%20%22Feature%22%7D%2C%20%7B%22bbox%22%3A%20%5B20.980255%2C%2052.2695534%2C%2020.9830861%2C%2052.2701919%5D%2C%20%22geometry%22%3A%20%7B%22coordinates%22%3A%20%5B%5B20.9830861%2C%2052.2695534%5D%2C%20%5B20.980255%2C%2052.2701919%5D%5D%2C%20%22type%22%3A%20%22LineString%22%7D%2C%20%22id%22%3A%20%226316%22%2C%20%22properties%22%3A%20%7B%22bridge%22%3A%20%22F%22%2C%20%22code%22%3A%206103%2C%20%22fclass%22%3A%20%22subway%22%2C%20%22highlight%22%3A%20%7B%7D%2C%20%22layer%22%3A%20-3%2C%20%22name%22%3A%20%22Tory%20odstawcze%20przy%20stacji%20Plac%20Wilsona%22%2C%20%22osm_id%22%3A%20%22725681099%22%2C%20%22style%22%3A%20%7B%7D%2C%20%22tunnel%22%3A%20%22T%22%7D%2C%20%22type%22%3A%20%22Feature%22%7D%2C%20%7B%22bbox%22%3A%20%5B20.9802309%2C%2052.269532%2C%2020.9830747%2C%2052.2701644%5D%2C%20%22geometry%22%3A%20%7B%22coordinates%22%3A%20%5B%5B20.9830747%2C%2052.269532%5D%2C%20%5B20.9802309%2C%2052.2701644%5D%5D%2C%20%22type%22%3A%20%22LineString%22%7D%2C%20%22id%22%3A%20%226317%22%2C%20%22properties%22%3A%20%7B%22bridge%22%3A%20%22F%22%2C%20%22code%22%3A%206103%2C%20%22fclass%22%3A%20%22subway%22%2C%20%22highlight%22%3A%20%7B%7D%2C%20%22layer%22%3A%20-3%2C%20%22name%22%3A%20%22Tory%20odstawcze%20przy%20stacji%20Plac%20Wilsona%22%2C%20%22osm_id%22%3A%20%22725681100%22%2C%20%22style%22%3A%20%7B%7D%2C%20%22tunnel%22%3A%20%22T%22%7D%2C%20%22type%22%3A%20%22Feature%22%7D%2C%20%7B%22bbox%22%3A%20%5B20.9830747%2C%2052.2695288%2C%2020.9833202%2C%2052.269532%5D%2C%20%22geometry%22%3A%20%7B%22coordinates%22%3A%20%5B%5B20.9833202%2C%2052.2695288%5D%2C%20%5B20.9831875%2C%2052.269532%5D%2C%20%5B20.9830747%2C%2052.269532%5D%5D%2C%20%22type%22%3A%20%22LineString%22%7D%2C%20%22id%22%3A%20%226318%22%2C%20%22properties%22%3A%20%7B%22bridge%22%3A%20%22F%22%2C%20%22code%22%3A%206103%2C%20%22fclass%22%3A%20%22subway%22%2C%20%22highlight%22%3A%20%7B%7D%2C%20%22layer%22%3A%20-3%2C%20%22name%22%3A%20%22Tory%20odstawcze%20przy%20stacji%20Plac%20Wilsona%22%2C%20%22osm_id%22%3A%20%22725681101%22%2C%20%22style%22%3A%20%7B%7D%2C%20%22tunnel%22%3A%20%22T%22%7D%2C%20%22type%22%3A%20%22Feature%22%7D%2C%20%7B%22bbox%22%3A%20%5B20.9830861%2C%2052.2694508%2C%2020.9832793%2C%2052.2695534%5D%2C%20%22geometry%22%3A%20%7B%22coordinates%22%3A%20%5B%5B20.9832793%2C%2052.2694508%5D%2C%20%5B20.9831734%2C%2052.2695084%5D%2C%20%5B20.9830861%2C%2052.2695534%5D%5D%2C%20%22type%22%3A%20%22LineString%22%7D%2C%20%22id%22%3A%20%226319%22%2C%20%22properties%22%3A%20%7B%22bridge%22%3A%20%22F%22%2C%20%22code%22%3A%206103%2C%20%22fclass%22%3A%20%22subway%22%2C%20%22highlight%22%3A%20%7B%7D%2C%20%22layer%22%3A%20-3%2C%20%22name%22%3A%20%22Tory%20odstawcze%20przy%20stacji%20Plac%20Wilsona%22%2C%20%22osm_id%22%3A%20%22725681102%22%2C%20%22style%22%3A%20%7B%7D%2C%20%22tunnel%22%3A%20%22T%22%7D%2C%20%22type%22%3A%20%22Feature%22%7D%2C%20%7B%22bbox%22%3A%20%5B20.9947905%2C%2052.2569352%2C%2020.9948945%2C%2052.2572535%5D%2C%20%22geometry%22%3A%20%7B%22coordinates%22%3A%20%5B%5B20.9948945%2C%2052.2569352%5D%2C%20%5B20.9947905%2C%2052.2572535%5D%5D%2C%20%22type%22%3A%20%22LineString%22%7D%2C%20%22id%22%3A%20%226320%22%2C%20%22properties%22%3A%20%7B%22bridge%22%3A%20%22F%22%2C%20%22code%22%3A%206103%2C%20%22fclass%22%3A%20%22subway%22%2C%20%22highlight%22%3A%20%7B%7D%2C%20%22layer%22%3A%20-3%2C%20%22name%22%3A%20null%2C%20%22osm_id%22%3A%20%22725681103%22%2C%20%22style%22%3A%20%7B%7D%2C%20%22tunnel%22%3A%20%22T%22%7D%2C%20%22type%22%3A%20%22Feature%22%7D%2C%20%7B%22bbox%22%3A%20%5B21.0035578%2C%2052.2338809%2C%2021.0070674%2C%2052.2342151%5D%2C%20%22geometry%22%3A%20%7B%22coordinates%22%3A%20%5B%5B21.0070674%2C%2052.2338809%5D%2C%20%5B21.006598%2C%2052.2340121%5D%2C%20%5B21.0061086%2C%2052.2341121%5D%2C%20%5B21.0056045%2C%2052.2341797%5D%2C%20%5B21.0050916%2C%2052.2342142%5D%2C%20%5B21.0045757%2C%2052.2342151%5D%2C%20%5B21.0040624%2C%2052.2341826%5D%2C%20%5B21.0035578%2C%2052.2341168%5D%5D%2C%20%22type%22%3A%20%22LineString%22%7D%2C%20%22id%22%3A%20%226321%22%2C%20%22properties%22%3A%20%7B%22bridge%22%3A%20%22F%22%2C%20%22code%22%3A%206103%2C%20%22fclass%22%3A%20%22subway%22%2C%20%22highlight%22%3A%20%7B%7D%2C%20%22layer%22%3A%20-4%2C%20%22name%22%3A%20%22%5Cu0141%5Cu0105cznik%20linii%20M1%20i%20M2%22%2C%20%22osm_id%22%3A%20%22725681104%22%2C%20%22style%22%3A%20%7B%7D%2C%20%22tunnel%22%3A%20%22T%22%7D%2C%20%22type%22%3A%20%22Feature%22%7D%2C%20%7B%22bbox%22%3A%20%5B21.0092958%2C%2052.2322175%2C%2021.0095729%2C%2052.2324457%5D%2C%20%22geometry%22%3A%20%7B%22coordinates%22%3A%20%5B%5B21.0092958%2C%2052.2324457%5D%2C%20%5B21.0095729%2C%2052.2322175%5D%5D%2C%20%22type%22%3A%20%22LineString%22%7D%2C%20%22id%22%3A%20%226322%22%2C%20%22properties%22%3A%20%7B%22bridge%22%3A%20%22F%22%2C%20%22code%22%3A%206103%2C%20%22fclass%22%3A%20%22subway%22%2C%20%22highlight%22%3A%20%7B%7D%2C%20%22layer%22%3A%20-3%2C%20%22name%22%3A%20null%2C%20%22osm_id%22%3A%20%22725681105%22%2C%20%22style%22%3A%20%7B%7D%2C%20%22tunnel%22%3A%20%22T%22%7D%2C%20%22type%22%3A%20%22Feature%22%7D%2C%20%7B%22bbox%22%3A%20%5B21.0149829%2C%2052.2173953%2C%2021.0150112%2C%2052.217484%5D%2C%20%22geometry%22%3A%20%7B%22coordinates%22%3A%20%5B%5B21.0149829%2C%2052.2173953%5D%2C%20%5B21.0150112%2C%2052.217484%5D%5D%2C%20%22type%22%3A%20%22LineString%22%7D%2C%20%22id%22%3A%20%226323%22%2C%20%22properties%22%3A%20%7B%22bridge%22%3A%20%22F%22%2C%20%22code%22%3A%206103%2C%20%22fclass%22%3A%20%22subway%22%2C%20%22highlight%22%3A%20%7B%7D%2C%20%22layer%22%3A%20-3%2C%20%22name%22%3A%20%22Tory%20odstawcze%20przy%20stacji%20Politechnika%22%2C%20%22osm_id%22%3A%20%22725681106%22%2C%20%22style%22%3A%20%7B%7D%2C%20%22tunnel%22%3A%20%22T%22%7D%2C%20%22type%22%3A%20%22Feature%22%7D%2C%20%7B%22bbox%22%3A%20%5B21.0150446%2C%2052.2173858%2C%2021.0150811%2C%2052.2174758%5D%2C%20%22geometry%22%3A%20%7B%22coordinates%22%3A%20%5B%5B21.0150446%2C%2052.2173858%5D%2C%20%5B21.0150811%2C%2052.2174758%5D%5D%2C%20%22type%22%3A%20%22LineString%22%7D%2C%20%22id%22%3A%20%226324%22%2C%20%22properties%22%3A%20%7B%22bridge%22%3A%20%22F%22%2C%20%22code%22%3A%206103%2C%20%22fclass%22%3A%20%22subway%22%2C%20%22highlight%22%3A%20%7B%7D%2C%20%22layer%22%3A%20-3%2C%20%22name%22%3A%20%22Tory%20odstawcze%20przy%20stacji%20Politechnika%22%2C%20%22osm_id%22%3A%20%22725681107%22%2C%20%22style%22%3A%20%7B%7D%2C%20%22tunnel%22%3A%20%22T%22%7D%2C%20%22type%22%3A%20%22Feature%22%7D%2C%20%7B%22bbox%22%3A%20%5B21.0149829%2C%2052.2173953%2C%2021.0151424%2C%2052.2175327%5D%2C%20%22geometry%22%3A%20%7B%22coordinates%22%3A%20%5B%5B21.0149829%2C%2052.2173953%5D%2C%20%5B21.0150286%2C%2052.2174328%5D%2C%20%5B21.0150811%2C%2052.2174758%5D%2C%20%5B21.0151424%2C%2052.2175327%5D%5D%2C%20%22type%22%3A%20%22LineString%22%7D%2C%20%22id%22%3A%20%226325%22%2C%20%22properties%22%3A%20%7B%22bridge%22%3A%20%22F%22%2C%20%22code%22%3A%206103%2C%20%22fclass%22%3A%20%22subway%22%2C%20%22highlight%22%3A%20%7B%7D%2C%20%22layer%22%3A%20-3%2C%20%22name%22%3A%20%22Tory%20odstawcze%20przy%20stacji%20Politechnika%22%2C%20%22osm_id%22%3A%20%22725681108%22%2C%20%22style%22%3A%20%7B%7D%2C%20%22tunnel%22%3A%20%22T%22%7D%2C%20%22type%22%3A%20%22Feature%22%7D%2C%20%7B%22bbox%22%3A%20%5B21.0149873%2C%2052.2173858%2C%2021.0150446%2C%2052.217555%5D%2C%20%22geometry%22%3A%20%7B%22coordinates%22%3A%20%5B%5B21.0149873%2C%2052.217555%5D%2C%20%5B21.0150112%2C%2052.217484%5D%2C%20%5B21.0150286%2C%2052.2174328%5D%2C%20%5B21.0150446%2C%2052.2173858%5D%5D%2C%20%22type%22%3A%20%22LineString%22%7D%2C%20%22id%22%3A%20%226326%22%2C%20%22properties%22%3A%20%7B%22bridge%22%3A%20%22F%22%2C%20%22code%22%3A%206103%2C%20%22fclass%22%3A%20%22subway%22%2C%20%22highlight%22%3A%20%7B%7D%2C%20%22layer%22%3A%20-3%2C%20%22name%22%3A%20%22Tory%20odstawcze%20przy%20stacji%20Politechnika%22%2C%20%22osm_id%22%3A%20%22725681109%22%2C%20%22style%22%3A%20%7B%7D%2C%20%22tunnel%22%3A%20%22T%22%7D%2C%20%22type%22%3A%20%22Feature%22%7D%2C%20%7B%22bbox%22%3A%20%5B21.0140307%2C%2052.2159237%2C%2021.0149829%2C%2052.2173953%5D%2C%20%22geometry%22%3A%20%7B%22coordinates%22%3A%20%5B%5B21.0140307%2C%2052.2159237%5D%2C%20%5B21.0144813%2C%2052.2162794%5D%2C%20%5B21.0145806%2C%2052.2163813%5D%2C%20%5B21.0146624%2C%2052.2165251%5D%2C%20%5B21.0149829%2C%2052.2173953%5D%5D%2C%20%22type%22%3A%20%22LineString%22%7D%2C%20%22id%22%3A%20%226327%22%2C%20%22properties%22%3A%20%7B%22bridge%22%3A%20%22F%22%2C%20%22code%22%3A%206103%2C%20%22fclass%22%3A%20%22subway%22%2C%20%22highlight%22%3A%20%7B%7D%2C%20%22layer%22%3A%20-3%2C%20%22name%22%3A%20%22Tory%20odstawcze%20przy%20stacji%20Politechnika%22%2C%20%22osm_id%22%3A%20%22725681110%22%2C%20%22style%22%3A%20%7B%7D%2C%20%22tunnel%22%3A%20%22T%22%7D%2C%20%22type%22%3A%20%22Feature%22%7D%2C%20%7B%22bbox%22%3A%20%5B21.014083%2C%2052.2158982%2C%2021.0150446%2C%2052.2173858%5D%2C%20%22geometry%22%3A%20%7B%22coordinates%22%3A%20%5B%5B21.0150446%2C%2052.2173858%5D%2C%20%5B21.0147241%2C%2052.2165095%5D%2C%20%5B21.0146409%2C%2052.2163682%5D%2C%20%5B21.0145336%2C%2052.2162581%5D%2C%20%5B21.014083%2C%2052.2158982%5D%5D%2C%20%22type%22%3A%20%22LineString%22%7D%2C%20%22id%22%3A%20%226328%22%2C%20%22properties%22%3A%20%7B%22bridge%22%3A%20%22F%22%2C%20%22code%22%3A%206103%2C%20%22fclass%22%3A%20%22subway%22%2C%20%22highlight%22%3A%20%7B%7D%2C%20%22layer%22%3A%20-3%2C%20%22name%22%3A%20%22Tory%20odstawcze%20przy%20stacji%20Politechnika%22%2C%20%22osm_id%22%3A%20%22725681111%22%2C%20%22style%22%3A%20%7B%7D%2C%20%22tunnel%22%3A%20%22T%22%7D%2C%20%22type%22%3A%20%22Feature%22%7D%2C%20%7B%22bbox%22%3A%20%5B21.0243452%2C%2052.179029%2C%2021.0268316%2C%2052.1808102%5D%2C%20%22geometry%22%3A%20%7B%22coordinates%22%3A%20%5B%5B21.0268316%2C%2052.179029%5D%2C%20%5B21.0243452%2C%2052.1808102%5D%5D%2C%20%22type%22%3A%20%22LineString%22%7D%2C%20%22id%22%3A%20%226329%22%2C%20%22properties%22%3A%20%7B%22bridge%22%3A%20%22F%22%2C%20%22code%22%3A%206103%2C%20%22fclass%22%3A%20%22subway%22%2C%20%22highlight%22%3A%20%7B%7D%2C%20%22layer%22%3A%20-3%2C%20%22name%22%3A%20%22Tory%20odstawcze%20przy%20stacji%20Wilanowska%22%2C%20%22osm_id%22%3A%20%22725681112%22%2C%20%22style%22%3A%20%7B%7D%2C%20%22tunnel%22%3A%20%22T%22%7D%2C%20%22type%22%3A%20%22Feature%22%7D%2C%20%7B%22bbox%22%3A%20%5B21.0242674%2C%2052.1789928%2C%2021.0267591%2C%2052.1807641%5D%2C%20%22geometry%22%3A%20%7B%22coordinates%22%3A%20%5B%5B21.0242674%2C%2052.1807641%5D%2C%20%5B21.0267591%2C%2052.1789928%5D%5D%2C%20%22type%22%3A%20%22LineString%22%7D%2C%20%22id%22%3A%20%226330%22%2C%20%22properties%22%3A%20%7B%22bridge%22%3A%20%22F%22%2C%20%22code%22%3A%206103%2C%20%22fclass%22%3A%20%22subway%22%2C%20%22highlight%22%3A%20%7B%7D%2C%20%22layer%22%3A%20-3%2C%20%22name%22%3A%20%22Tory%20odstawcze%20przy%20stacji%20Wilanowska%22%2C%20%22osm_id%22%3A%20%22725681113%22%2C%20%22style%22%3A%20%7B%7D%2C%20%22tunnel%22%3A%20%22T%22%7D%2C%20%22type%22%3A%20%22Feature%22%7D%2C%20%7B%22bbox%22%3A%20%5B21.0241549%2C%2052.1808102%2C%2021.0243452%2C%2052.180939%5D%2C%20%22geometry%22%3A%20%7B%22coordinates%22%3A%20%5B%5B21.0243452%2C%2052.1808102%5D%2C%20%5B21.0241549%2C%2052.180939%5D%5D%2C%20%22type%22%3A%20%22LineString%22%7D%2C%20%22id%22%3A%20%226331%22%2C%20%22properties%22%3A%20%7B%22bridge%22%3A%20%22F%22%2C%20%22code%22%3A%206103%2C%20%22fclass%22%3A%20%22subway%22%2C%20%22highlight%22%3A%20%7B%7D%2C%20%22layer%22%3A%20-3%2C%20%22name%22%3A%20%22Tory%20odstawcze%20przy%20stacji%20Kabaty%22%2C%20%22osm_id%22%3A%20%22725681114%22%2C%20%22style%22%3A%20%7B%7D%2C%20%22tunnel%22%3A%20%22T%22%7D%2C%20%22type%22%3A%20%22Feature%22%7D%2C%20%7B%22bbox%22%3A%20%5B21.0240674%2C%2052.1807641%2C%2021.0242674%2C%2052.180903%5D%2C%20%22geometry%22%3A%20%7B%22coordinates%22%3A%20%5B%5B21.0242674%2C%2052.1807641%5D%2C%20%5B21.0240674%2C%2052.180903%5D%5D%2C%20%22type%22%3A%20%22LineString%22%7D%2C%20%22id%22%3A%20%226332%22%2C%20%22properties%22%3A%20%7B%22bridge%22%3A%20%22F%22%2C%20%22code%22%3A%206103%2C%20%22fclass%22%3A%20%22subway%22%2C%20%22highlight%22%3A%20%7B%7D%2C%20%22layer%22%3A%20-3%2C%20%22name%22%3A%20%22Tory%20odstawcze%20przy%20stacji%20Kabaty%22%2C%20%22osm_id%22%3A%20%22725681115%22%2C%20%22style%22%3A%20%7B%7D%2C%20%22tunnel%22%3A%20%22T%22%7D%2C%20%22type%22%3A%20%22Feature%22%7D%2C%20%7B%22bbox%22%3A%20%5B21.0240515%2C%2052.1807641%2C%2021.0242674%2C%2052.1810998%5D%2C%20%22geometry%22%3A%20%7B%22coordinates%22%3A%20%5B%5B21.0240515%2C%2052.1810998%5D%2C%20%5B21.0241549%2C%2052.180939%5D%2C%20%5B21.0242674%2C%2052.1807641%5D%5D%2C%20%22type%22%3A%20%22LineString%22%7D%2C%20%22id%22%3A%20%226333%22%2C%20%22properties%22%3A%20%7B%22bridge%22%3A%20%22F%22%2C%20%22code%22%3A%206103%2C%20%22fclass%22%3A%20%22subway%22%2C%20%22highlight%22%3A%20%7B%7D%2C%20%22layer%22%3A%20-3%2C%20%22name%22%3A%20%22Tory%20odstawcze%20przy%20stacji%20Wilanowska%22%2C%20%22osm_id%22%3A%20%22725681116%22%2C%20%22style%22%3A%20%7B%7D%2C%20%22tunnel%22%3A%20%22T%22%7D%2C%20%22type%22%3A%20%22Feature%22%7D%2C%20%7B%22bbox%22%3A%20%5B21.0238353%2C%2052.1808102%2C%2021.0243452%2C%2052.1809913%5D%2C%20%22geometry%22%3A%20%7B%22coordinates%22%3A%20%5B%5B21.0243452%2C%2052.1808102%5D%2C%20%5B21.0240674%2C%2052.180903%5D%2C%20%5B21.0238353%2C%2052.1809913%5D%5D%2C%20%22type%22%3A%20%22LineString%22%7D%2C%20%22id%22%3A%20%226334%22%2C%20%22properties%22%3A%20%7B%22bridge%22%3A%20%22F%22%2C%20%22code%22%3A%206103%2C%20%22fclass%22%3A%20%22subway%22%2C%20%22highlight%22%3A%20%7B%7D%2C%20%22layer%22%3A%20-3%2C%20%22name%22%3A%20%22Tory%20odstawcze%20przy%20stacji%20Wilanowska%22%2C%20%22osm_id%22%3A%20%22725681117%22%2C%20%22style%22%3A%20%7B%7D%2C%20%22tunnel%22%3A%20%22T%22%7D%2C%20%22type%22%3A%20%22Feature%22%7D%2C%20%7B%22bbox%22%3A%20%5B21.0370146%2C%2052.1544563%2C%2021.0373446%2C%2052.1547964%5D%2C%20%22geometry%22%3A%20%7B%22coordinates%22%3A%20%5B%5B21.0373446%2C%2052.1544563%5D%2C%20%5B21.0370146%2C%2052.1547964%5D%5D%2C%20%22type%22%3A%20%22LineString%22%7D%2C%20%22id%22%3A%20%226335%22%2C%20%22properties%22%3A%20%7B%22bridge%22%3A%20%22F%22%2C%20%22code%22%3A%206103%2C%20%22fclass%22%3A%20%22subway%22%2C%20%22highlight%22%3A%20%7B%7D%2C%20%22layer%22%3A%20-3%2C%20%22name%22%3A%20null%2C%20%22osm_id%22%3A%20%22725681118%22%2C%20%22style%22%3A%20%7B%7D%2C%20%22tunnel%22%3A%20%22T%22%7D%2C%20%22type%22%3A%20%22Feature%22%7D%2C%20%7B%22bbox%22%3A%20%5B21.0649742%2C%2052.12828%2C%2021.0686029%2C%2052.1320569%5D%2C%20%22geometry%22%3A%20%7B%22coordinates%22%3A%20%5B%5B21.0686029%2C%2052.12828%5D%2C%20%5B21.0673125%2C%2052.1296436%5D%2C%20%5B21.0665713%2C%2052.1304267%5D%2C%20%5B21.0659341%2C%2052.1311%5D%2C%20%5B21.0649742%2C%2052.1320569%5D%5D%2C%20%22type%22%3A%20%22LineString%22%7D%2C%20%22id%22%3A%20%226336%22%2C%20%22properties%22%3A%20%7B%22bridge%22%3A%20%22F%22%2C%20%22code%22%3A%206103%2C%20%22fclass%22%3A%20%22subway%22%2C%20%22highlight%22%3A%20%7B%7D%2C%20%22layer%22%3A%20-3%2C%20%22name%22%3A%20%22Tory%20odstawcze%20przy%20stacji%20Kabaty%22%2C%20%22osm_id%22%3A%20%22725681119%22%2C%20%22style%22%3A%20%7B%7D%2C%20%22tunnel%22%3A%20%22T%22%7D%2C%20%22type%22%3A%20%22Feature%22%7D%2C%20%7B%22bbox%22%3A%20%5B21.0660482%2C%2052.1309232%2C%2021.0661678%2C%2052.1310433%5D%2C%20%22geometry%22%3A%20%7B%22coordinates%22%3A%20%5B%5B21.0661678%2C%2052.1309232%5D%2C%20%5B21.0660482%2C%2052.1310433%5D%5D%2C%20%22type%22%3A%20%22LineString%22%7D%2C%20%22id%22%3A%20%226337%22%2C%20%22properties%22%3A%20%7B%22bridge%22%3A%20%22F%22%2C%20%22code%22%3A%206103%2C%20%22fclass%22%3A%20%22subway%22%2C%20%22highlight%22%3A%20%7B%7D%2C%20%22layer%22%3A%20-3%2C%20%22name%22%3A%20%22Tory%20odstawcze%20przy%20stacji%20Kabaty%22%2C%20%22osm_id%22%3A%20%22725681120%22%2C%20%22style%22%3A%20%7B%7D%2C%20%22tunnel%22%3A%20%22T%22%7D%2C%20%22type%22%3A%20%22Feature%22%7D%2C%20%7B%22bbox%22%3A%20%5B21.0659341%2C%2052.130943%2C%2021.0662499%2C%2052.1311%5D%2C%20%22geometry%22%3A%20%7B%22coordinates%22%3A%20%5B%5B21.0659341%2C%2052.1311%5D%2C%20%5B21.0660482%2C%2052.1310433%5D%2C%20%5B21.0661459%2C%2052.1309947%5D%2C%20%5B21.0662499%2C%2052.130943%5D%5D%2C%20%22type%22%3A%20%22LineString%22%7D%2C%20%22id%22%3A%20%226338%22%2C%20%22properties%22%3A%20%7B%22bridge%22%3A%20%22F%22%2C%20%22code%22%3A%206103%2C%20%22fclass%22%3A%20%22subway%22%2C%20%22highlight%22%3A%20%7B%7D%2C%20%22layer%22%3A%20-3%2C%20%22name%22%3A%20%22Tory%20odstawcze%20przy%20stacji%20Kabaty%22%2C%20%22osm_id%22%3A%20%22725681121%22%2C%20%22style%22%3A%20%7B%7D%2C%20%22tunnel%22%3A%20%22T%22%7D%2C%20%22type%22%3A%20%22Feature%22%7D%2C%20%7B%22bbox%22%3A%20%5B21.0660989%2C%2052.1309232%2C%2021.0661678%2C%2052.1311483%5D%2C%20%22geometry%22%3A%20%7B%22coordinates%22%3A%20%5B%5B21.0661678%2C%2052.1309232%5D%2C%20%5B21.0661459%2C%2052.1309947%5D%2C%20%5B21.066121%2C%2052.1310761%5D%2C%20%5B21.0660989%2C%2052.1311483%5D%5D%2C%20%22type%22%3A%20%22LineString%22%7D%2C%20%22id%22%3A%20%226339%22%2C%20%22properties%22%3A%20%7B%22bridge%22%3A%20%22F%22%2C%20%22code%22%3A%206103%2C%20%22fclass%22%3A%20%22subway%22%2C%20%22highlight%22%3A%20%7B%7D%2C%20%22layer%22%3A%20-3%2C%20%22name%22%3A%20%22Tory%20odstawcze%20przy%20stacji%20Kabaty%22%2C%20%22osm_id%22%3A%20%22725681122%22%2C%20%22style%22%3A%20%7B%7D%2C%20%22tunnel%22%3A%20%22T%22%7D%2C%20%22type%22%3A%20%22Feature%22%7D%2C%20%7B%22bbox%22%3A%20%5B21.066121%2C%2052.130943%2C%2021.0662499%2C%2052.1310761%5D%2C%20%22geometry%22%3A%20%7B%22coordinates%22%3A%20%5B%5B21.0662499%2C%2052.130943%5D%2C%20%5B21.066121%2C%2052.1310761%5D%5D%2C%20%22type%22%3A%20%22LineString%22%7D%2C%20%22id%22%3A%20%226340%22%2C%20%22properties%22%3A%20%7B%22bridge%22%3A%20%22F%22%2C%20%22code%22%3A%206103%2C%20%22fclass%22%3A%20%22subway%22%2C%20%22highlight%22%3A%20%7B%7D%2C%20%22layer%22%3A%20-3%2C%20%22name%22%3A%20%22Tory%20odstawcze%20przy%20stacji%20Kabaty%22%2C%20%22osm_id%22%3A%20%22725681123%22%2C%20%22style%22%3A%20%7B%7D%2C%20%22tunnel%22%3A%20%22T%22%7D%2C%20%22type%22%3A%20%22Feature%22%7D%2C%20%7B%22bbox%22%3A%20%5B21.0661678%2C%2052.1283081%2C%2021.0687126%2C%2052.1309232%5D%2C%20%22geometry%22%3A%20%7B%22coordinates%22%3A%20%5B%5B21.0687126%2C%2052.1283081%5D%2C%20%5B21.0678432%2C%2052.1292068%5D%2C%20%5B21.0674145%2C%2052.1296776%5D%2C%20%5B21.0666643%2C%2052.1304554%5D%2C%20%5B21.0661678%2C%2052.1309232%5D%5D%2C%20%22type%22%3A%20%22LineString%22%7D%2C%20%22id%22%3A%20%226341%22%2C%20%22properties%22%3A%20%7B%22bridge%22%3A%20%22F%22%2C%20%22code%22%3A%206103%2C%20%22fclass%22%3A%20%22subway%22%2C%20%22highlight%22%3A%20%7B%7D%2C%20%22layer%22%3A%20-3%2C%20%22name%22%3A%20%22Tory%20odstawcze%20przy%20stacji%20Kabaty%22%2C%20%22osm_id%22%3A%20%22725681124%22%2C%20%22style%22%3A%20%7B%7D%2C%20%22tunnel%22%3A%20%22T%22%7D%2C%20%22type%22%3A%20%22Feature%22%7D%2C%20%7B%22bbox%22%3A%20%5B21.0662499%2C%2052.1283359%2C%2021.0688317%2C%2052.130943%5D%2C%20%22geometry%22%3A%20%7B%22coordinates%22%3A%20%5B%5B21.0662499%2C%2052.130943%5D%2C%20%5B21.0667405%2C%2052.1304817%5D%2C%20%5B21.0674991%2C%2052.1297025%5D%2C%20%5B21.0679313%2C%2052.1292639%5D%2C%20%5B21.0688317%2C%2052.1283359%5D%5D%2C%20%22type%22%3A%20%22LineString%22%7D%2C%20%22id%22%3A%20%226342%22%2C%20%22properties%22%3A%20%7B%22bridge%22%3A%20%22F%22%2C%20%22code%22%3A%206103%2C%20%22fclass%22%3A%20%22subway%22%2C%20%22highlight%22%3A%20%7B%7D%2C%20%22layer%22%3A%20-3%2C%20%22name%22%3A%20%22Tory%20odstawcze%20przy%20stacji%20Kabaty%22%2C%20%22osm_id%22%3A%20%22725681125%22%2C%20%22style%22%3A%20%7B%7D%2C%20%22tunnel%22%3A%20%22T%22%7D%2C%20%22type%22%3A%20%22Feature%22%7D%2C%20%7B%22bbox%22%3A%20%5B20.9820277%2C%2052.2298414%2C%2020.9838412%2C%2052.2301667%5D%2C%20%22geometry%22%3A%20%7B%22coordinates%22%3A%20%5B%5B20.9820277%2C%2052.2298414%5D%2C%20%5B20.9828873%2C%2052.2299789%5D%2C%20%5B20.9838412%2C%2052.2301667%5D%5D%2C%20%22type%22%3A%20%22LineString%22%7D%2C%20%22id%22%3A%20%226730%22%2C%20%22properties%22%3A%20%7B%22bridge%22%3A%20%22F%22%2C%20%22code%22%3A%206103%2C%20%22fclass%22%3A%20%22subway%22%2C%20%22highlight%22%3A%20%7B%7D%2C%20%22layer%22%3A%20-4%2C%20%22name%22%3A%20%22Linia%20metra%20M2%22%2C%20%22osm_id%22%3A%20%22894901651%22%2C%20%22style%22%3A%20%7B%7D%2C%20%22tunnel%22%3A%20%22T%22%7D%2C%20%22type%22%3A%20%22Feature%22%7D%2C%20%7B%22bbox%22%3A%20%5B20.9819801%2C%2052.2299817%2C%2020.9837703%2C%2052.2303144%5D%2C%20%22geometry%22%3A%20%7B%22coordinates%22%3A%20%5B%5B20.9837703%2C%2052.2303144%5D%2C%20%5B20.9828087%2C%2052.2301251%5D%2C%20%5B20.9819801%2C%2052.2299817%5D%5D%2C%20%22type%22%3A%20%22LineString%22%7D%2C%20%22id%22%3A%20%226731%22%2C%20%22properties%22%3A%20%7B%22bridge%22%3A%20%22F%22%2C%20%22code%22%3A%206103%2C%20%22fclass%22%3A%20%22subway%22%2C%20%22highlight%22%3A%20%7B%7D%2C%20%22layer%22%3A%20-4%2C%20%22name%22%3A%20%22Linia%20metra%20M2%22%2C%20%22osm_id%22%3A%20%22894901652%22%2C%20%22style%22%3A%20%7B%7D%2C%20%22tunnel%22%3A%20%22T%22%7D%2C%20%22type%22%3A%20%22Feature%22%7D%5D%2C%20%22type%22%3A%20%22FeatureCollection%22%7D%2C%0A%20%20%20%20%20%20%20%20%20%20%20%20%7B%0A%20%20%20%20%20%20%20%20%20%20%20%20%7D%0A%20%20%20%20%20%20%20%20%29.addTo%28map_854be3b2d08b4e8ba1a17f0b4cdcfe9e%20%29%3B%0A%20%20%20%20%20%20%20%20geo_json_185f76a2b4974831bcf2c8fdb2151aff.setStyle%28function%28feature%29%20%7Breturn%20feature.properties.style%3B%7D%29%3B%0A%20%20%20%20%20%20%20%20%0A%20%20%20%20%0A%20%20%20%20%20%20%20%20%20%20%20%20%20%20%20%20%0A%0A%20%20%20%20%20%20%20%20%20%20%20%20%20%20%20%20map_854be3b2d08b4e8ba1a17f0b4cdcfe9e.fitBounds%28%0A%20%20%20%20%20%20%20%20%20%20%20%20%20%20%20%20%20%20%20%20%5B%5B52.2929426%2C%2020.925314%5D%2C%20%5B52.1246827%2C%2021.0729117%5D%5D%2C%0A%20%20%20%20%20%20%20%20%20%20%20%20%20%20%20%20%20%20%20%20%7B%7D%0A%20%20%20%20%20%20%20%20%20%20%20%20%20%20%20%20%20%20%20%20%29%3B%0A%20%20%20%20%20%20%20%20%20%20%20%20%0A%3C/script%3E onload=\"this.contentDocument.open();this.contentDocument.write(    decodeURIComponent(this.getAttribute('data-html')));this.contentDocument.close();\" allowfullscreen webkitallowfullscreen mozallowfullscreen></iframe></div></div>"
            ],
            "text/plain": [
              "<folium.folium.Map at 0x7fc79367e310>"
            ]
          },
          "metadata": {
            "tags": []
          },
          "execution_count": 75
        }
      ]
    },
    {
      "cell_type": "code",
      "metadata": {
        "id": "V32YHIUn7qUS",
        "outputId": "a61ba12e-a49a-40ef-db80-94ec3ffdd4a3",
        "colab": {
          "base_uri": "https://localhost:8080/",
          "height": 121
        }
      },
      "source": [
        "df[\"geometry\"].loc[33]"
      ],
      "execution_count": 82,
      "outputs": [
        {
          "output_type": "execute_result",
          "data": {
            "text/plain": [
              "<shapely.geometry.linestring.LineString at 0x7fc7933a5910>"
            ],
            "image/svg+xml": "<svg xmlns=\"http://www.w3.org/2000/svg\" xmlns:xlink=\"http://www.w3.org/1999/xlink\" width=\"100.0\" height=\"100.0\" viewBox=\"20.92245006 52.12569236 0.14888868000000244 0.1718425799999963\" preserveAspectRatio=\"xMinYMin meet\"><g transform=\"matrix(1,0,0,-1,0,104.42322730000001)\"><polyline fill=\"none\" stroke=\"#66cc99\" stroke-width=\"0.003436851599999926\" points=\"20.9288146,52.2911704 20.9297924,52.2907196 20.936118,52.2878034 20.9393747,52.2863268 20.9436938,52.2843683 20.949353,52.2817144 20.9507219,52.2810724 20.9575475,52.2779447 20.9579616,52.277755 20.9599766,52.2768499 20.9603193,52.2766959 20.9613472,52.2761972 20.9622979,52.2757253 20.963157,52.2751522 20.9644899,52.2741023 20.9649083,52.27382 20.9652826,52.2735987 20.9656844,52.2733881 20.9662787,52.2730999 20.9668829,52.2728452 20.9674484,52.2726392 20.9680267,52.2724502 20.96864,52.2722771 20.9692565,52.2721232 20.9704557,52.2718623 20.9717037,52.2716073 20.973994,52.2713308 20.9742232,52.2712984 20.9769666,52.2708 20.9798318,52.270215 20.9832793,52.2694508 20.9843601,52.2692032 20.9858085,52.2689015 20.9860059,52.2688446 20.9861097,52.2688135 20.9861969,52.2687815 20.9863014,52.2687322 20.9864042,52.2686864 20.986502,52.268626 20.986585,52.2685656 20.9869605,52.2681526 20.9905945,52.2640996 20.9914796,52.2631836 20.9922775,52.2623579 20.9934952,52.2609286 20.9935802,52.2607638 20.9936124,52.2605832 20.9936339,52.2601925 20.9937333,52.2589034 20.9937815,52.2587568 20.9942661,52.2578592 20.9945673,52.2573391 20.994637,52.2572192 20.9947338,52.2571018 20.9948945,52.2569352 20.9950449,52.2567968 20.9970159,52.2550623 20.9972138,52.2548292 20.9973828,52.2545854 20.9975085,52.2543334 20.9975905,52.2540749 20.9981715,52.2517809 20.9991081,52.2483883 20.9994513,52.2474032 20.9998764,52.2465902 21.0004082,52.2458307 21.0010486,52.2449743 21.0022677,52.2435033 21.0036463,52.2420908 21.0041101,52.2414328 21.0043962,52.2408901 21.0063745,52.2374982 21.0073717,52.2358133 21.007794,52.2350624 21.0089717,52.2330256 21.009245,52.2325419 21.0092958,52.2324457 21.00943,52.232192 21.0097048,52.2316724 21.0099946,52.2311473 21.0104714,52.2305218 21.0114665,52.2293898 21.0121662,52.2285752 21.0124594,52.228232 21.0127792,52.2278554 21.0155689,52.2232364 21.0158598,52.222501 21.0158957,52.2220067 21.0157502,52.2210256 21.0155901,52.219986 21.0154591,52.2192782 21.0152972,52.2184638 21.0149873,52.217555 21.0146029,52.2165357 21.0145197,52.2163987 21.0144147,52.2162791 21.0139927,52.2159497 21.0100658,52.212884 21.0085197,52.211704 21.0077245,52.2111424 21.0071297,52.2105048 21.0072169,52.2097199 21.007655,52.2085168 21.0115553,52.200057 21.0120868,52.1989544 21.0130358,52.1968022 21.0161296,52.1906302 21.0164923,52.1899213 21.0168165,52.189312 21.0172808,52.1884646 21.0182539,52.186818 21.0195236,52.1847504 21.0201895,52.1839189 21.0216336,52.1827627 21.0221928,52.1823149 21.0229949,52.1816693 21.0238353,52.1809913 21.0266603,52.1789844 21.0271425,52.17862 21.0273527,52.178288 21.0273781,52.1779378 21.0272788,52.1776731 21.0262035,52.1747185 21.0261301,52.1740199 21.0261626,52.1734385 21.0262192,52.1727599 21.0262605,52.1718516 21.0274544,52.1625742 21.0275445,52.1620294 21.0276543,52.1616497 21.0278307,52.1612268 21.0280965,52.1607514 21.0285282,52.1601831 21.0290483,52.1596639 21.0297725,52.1590765 21.0305312,52.1585376 21.0325913,52.1572929 21.0336177,52.156669 21.0346808,52.1560439 21.0356117,52.1555124 21.0369144,52.1547185 21.0373446,52.1544563 21.0384116,52.153806 21.045253,52.149735 21.0461042,52.1492285 21.0490425,52.1475432 21.0501459,52.1467603 21.0518633,52.145271 21.0521796,52.1450008 21.0522953,52.144902 21.0553527,52.1420424 21.0563547,52.141079 21.0571889,52.1402768 21.0578679,52.1395735 21.0613965,52.1358522 21.06276,52.1344027 21.0649742,52.1320569\" opacity=\"0.8\" /></g></svg>"
          },
          "metadata": {
            "tags": []
          },
          "execution_count": 82
        }
      ]
    },
    {
      "cell_type": "code",
      "metadata": {
        "id": "kqYB41S1l4Xa",
        "outputId": "3c8f4296-254f-4ce5-ce3a-ad9f4c88d999",
        "colab": {
          "base_uri": "https://localhost:8080/",
          "height": 992
        }
      },
      "source": [
        "m = folium.Map(location=[nodes[\"geometry\"].y.mean() , nodes[\"geometry\"].x.mean()], \n",
        "               tiles=\"cartodbpositron\"\n",
        "               )\n",
        "\n",
        "folium.GeoJson(df).add_to(m)\n",
        "\n",
        "\n",
        "x_min = nodes[\"geometry\"].x.min()\n",
        "x_max = nodes[\"geometry\"].x.max()\n",
        "y_min = nodes[\"geometry\"].y.min()\n",
        "y_max = nodes[\"geometry\"].y.max()\n",
        "\n",
        "# szukanie lewego górnego rogu i dolnego prawego\n",
        "m.fit_bounds([[y_max , x_min], [y_min , x_max]]) \n",
        "\n",
        "m"
      ],
      "execution_count": 29,
      "outputs": [
        {
          "output_type": "execute_result",
          "data": {
            "text/html": [
              "<div style=\"width:100%;\"><div style=\"position:relative;width:100%;height:0;padding-bottom:60%;\"><span style=\"color:#565656\">Make this Notebook Trusted to load map: File -> Trust Notebook</span><iframe src=\"about:blank\" style=\"position:absolute;width:100%;height:100%;left:0;top:0;border:none !important;\" data-html=%3C%21DOCTYPE%20html%3E%0A%3Chead%3E%20%20%20%20%0A%20%20%20%20%3Cmeta%20http-equiv%3D%22content-type%22%20content%3D%22text/html%3B%20charset%3DUTF-8%22%20/%3E%0A%20%20%20%20%3Cscript%3EL_PREFER_CANVAS%3Dfalse%3B%20L_NO_TOUCH%3Dfalse%3B%20L_DISABLE_3D%3Dfalse%3B%3C/script%3E%0A%20%20%20%20%3Cscript%20src%3D%22https%3A//cdn.jsdelivr.net/npm/leaflet%401.4.0/dist/leaflet.js%22%3E%3C/script%3E%0A%20%20%20%20%3Cscript%20src%3D%22https%3A//code.jquery.com/jquery-1.12.4.min.js%22%3E%3C/script%3E%0A%20%20%20%20%3Cscript%20src%3D%22https%3A//maxcdn.bootstrapcdn.com/bootstrap/3.2.0/js/bootstrap.min.js%22%3E%3C/script%3E%0A%20%20%20%20%3Cscript%20src%3D%22https%3A//cdnjs.cloudflare.com/ajax/libs/Leaflet.awesome-markers/2.0.2/leaflet.awesome-markers.js%22%3E%3C/script%3E%0A%20%20%20%20%3Clink%20rel%3D%22stylesheet%22%20href%3D%22https%3A//cdn.jsdelivr.net/npm/leaflet%401.4.0/dist/leaflet.css%22/%3E%0A%20%20%20%20%3Clink%20rel%3D%22stylesheet%22%20href%3D%22https%3A//maxcdn.bootstrapcdn.com/bootstrap/3.2.0/css/bootstrap.min.css%22/%3E%0A%20%20%20%20%3Clink%20rel%3D%22stylesheet%22%20href%3D%22https%3A//maxcdn.bootstrapcdn.com/bootstrap/3.2.0/css/bootstrap-theme.min.css%22/%3E%0A%20%20%20%20%3Clink%20rel%3D%22stylesheet%22%20href%3D%22https%3A//maxcdn.bootstrapcdn.com/font-awesome/4.6.3/css/font-awesome.min.css%22/%3E%0A%20%20%20%20%3Clink%20rel%3D%22stylesheet%22%20href%3D%22https%3A//cdnjs.cloudflare.com/ajax/libs/Leaflet.awesome-markers/2.0.2/leaflet.awesome-markers.css%22/%3E%0A%20%20%20%20%3Clink%20rel%3D%22stylesheet%22%20href%3D%22https%3A//rawcdn.githack.com/python-visualization/folium/master/folium/templates/leaflet.awesome.rotate.css%22/%3E%0A%20%20%20%20%3Cstyle%3Ehtml%2C%20body%20%7Bwidth%3A%20100%25%3Bheight%3A%20100%25%3Bmargin%3A%200%3Bpadding%3A%200%3B%7D%3C/style%3E%0A%20%20%20%20%3Cstyle%3E%23map%20%7Bposition%3Aabsolute%3Btop%3A0%3Bbottom%3A0%3Bright%3A0%3Bleft%3A0%3B%7D%3C/style%3E%0A%20%20%20%20%0A%20%20%20%20%3Cmeta%20name%3D%22viewport%22%20content%3D%22width%3Ddevice-width%2C%0A%20%20%20%20%20%20%20%20initial-scale%3D1.0%2C%20maximum-scale%3D1.0%2C%20user-scalable%3Dno%22%20/%3E%0A%20%20%20%20%3Cstyle%3E%23map_b844ede74d564c7e913dcf03d40d50c6%20%7B%0A%20%20%20%20%20%20%20%20position%3A%20relative%3B%0A%20%20%20%20%20%20%20%20width%3A%20100.0%25%3B%0A%20%20%20%20%20%20%20%20height%3A%20100.0%25%3B%0A%20%20%20%20%20%20%20%20left%3A%200.0%25%3B%0A%20%20%20%20%20%20%20%20top%3A%200.0%25%3B%0A%20%20%20%20%20%20%20%20%7D%0A%20%20%20%20%3C/style%3E%0A%3C/head%3E%0A%3Cbody%3E%20%20%20%20%0A%20%20%20%20%0A%20%20%20%20%3Cdiv%20class%3D%22folium-map%22%20id%3D%22map_b844ede74d564c7e913dcf03d40d50c6%22%20%3E%3C/div%3E%0A%3C/body%3E%0A%3Cscript%3E%20%20%20%20%0A%20%20%20%20%0A%20%20%20%20%0A%20%20%20%20%20%20%20%20var%20bounds%20%3D%20null%3B%0A%20%20%20%20%0A%0A%20%20%20%20var%20map_b844ede74d564c7e913dcf03d40d50c6%20%3D%20L.map%28%0A%20%20%20%20%20%20%20%20%27map_b844ede74d564c7e913dcf03d40d50c6%27%2C%20%7B%0A%20%20%20%20%20%20%20%20center%3A%20%5B52.19167069210728%2C%2021.031042492256166%5D%2C%0A%20%20%20%20%20%20%20%20zoom%3A%2010%2C%0A%20%20%20%20%20%20%20%20maxBounds%3A%20bounds%2C%0A%20%20%20%20%20%20%20%20layers%3A%20%5B%5D%2C%0A%20%20%20%20%20%20%20%20worldCopyJump%3A%20false%2C%0A%20%20%20%20%20%20%20%20crs%3A%20L.CRS.EPSG3857%2C%0A%20%20%20%20%20%20%20%20zoomControl%3A%20true%2C%0A%20%20%20%20%20%20%20%20%7D%29%3B%0A%0A%0A%20%20%20%20%0A%20%20%20%20var%20tile_layer_e7e57f1b18a34643a4bf37a469476b18%20%3D%20L.tileLayer%28%0A%20%20%20%20%20%20%20%20%27https%3A//cartodb-basemaps-%7Bs%7D.global.ssl.fastly.net/light_all/%7Bz%7D/%7Bx%7D/%7By%7D.png%27%2C%0A%20%20%20%20%20%20%20%20%7B%0A%20%20%20%20%20%20%20%20%22attribution%22%3A%20null%2C%0A%20%20%20%20%20%20%20%20%22detectRetina%22%3A%20false%2C%0A%20%20%20%20%20%20%20%20%22maxNativeZoom%22%3A%2018%2C%0A%20%20%20%20%20%20%20%20%22maxZoom%22%3A%2018%2C%0A%20%20%20%20%20%20%20%20%22minZoom%22%3A%200%2C%0A%20%20%20%20%20%20%20%20%22noWrap%22%3A%20false%2C%0A%20%20%20%20%20%20%20%20%22opacity%22%3A%201%2C%0A%20%20%20%20%20%20%20%20%22subdomains%22%3A%20%22abc%22%2C%0A%20%20%20%20%20%20%20%20%22tms%22%3A%20false%0A%7D%29.addTo%28map_b844ede74d564c7e913dcf03d40d50c6%29%3B%0A%20%20%20%20%0A%20%20%20%20%20%20%20%20var%20geo_json_e22d6cc56b1d480292dadcfaf9f4efa3%20%3D%20L.geoJson%28%0A%20%20%20%20%20%20%20%20%20%20%20%20%7B%22features%22%3A%20%5B%7B%22geometry%22%3A%20%7B%22coordinates%22%3A%20%5B%5B20.9288146%2C%2052.2911704%5D%2C%20%5B20.9297924%2C%2052.2907196%5D%2C%20%5B20.936118%2C%2052.2878034%5D%2C%20%5B20.9393747%2C%2052.2863268%5D%2C%20%5B20.9436938%2C%2052.2843683%5D%2C%20%5B20.949353%2C%2052.2817144%5D%2C%20%5B20.9507219%2C%2052.2810724%5D%2C%20%5B20.9575475%2C%2052.2779447%5D%2C%20%5B20.9579616%2C%2052.277755%5D%2C%20%5B20.9599766%2C%2052.2768499%5D%2C%20%5B20.9603193%2C%2052.2766959%5D%2C%20%5B20.9613472%2C%2052.2761972%5D%2C%20%5B20.9622979%2C%2052.2757253%5D%2C%20%5B20.963157%2C%2052.2751522%5D%2C%20%5B20.9644899%2C%2052.2741023%5D%2C%20%5B20.9649083%2C%2052.27382%5D%2C%20%5B20.9652826%2C%2052.2735987%5D%2C%20%5B20.9656844%2C%2052.2733881%5D%2C%20%5B20.9662787%2C%2052.2730999%5D%2C%20%5B20.9668829%2C%2052.2728452%5D%2C%20%5B20.9674484%2C%2052.2726392%5D%2C%20%5B20.9680267%2C%2052.2724502%5D%2C%20%5B20.96864%2C%2052.2722771%5D%2C%20%5B20.9692565%2C%2052.2721232%5D%2C%20%5B20.9704557%2C%2052.2718623%5D%2C%20%5B20.9717037%2C%2052.2716073%5D%2C%20%5B20.973994%2C%2052.2713308%5D%2C%20%5B20.9742232%2C%2052.2712984%5D%2C%20%5B20.9769666%2C%2052.2708%5D%2C%20%5B20.9798318%2C%2052.270215%5D%2C%20%5B20.9832793%2C%2052.2694508%5D%2C%20%5B20.9843601%2C%2052.2692032%5D%2C%20%5B20.9858085%2C%2052.2689015%5D%2C%20%5B20.9860059%2C%2052.2688446%5D%2C%20%5B20.9861097%2C%2052.2688135%5D%2C%20%5B20.9861969%2C%2052.2687815%5D%2C%20%5B20.9863014%2C%2052.2687322%5D%2C%20%5B20.9864042%2C%2052.2686864%5D%2C%20%5B20.986502%2C%2052.268626%5D%2C%20%5B20.986585%2C%2052.2685656%5D%2C%20%5B20.9869605%2C%2052.2681526%5D%2C%20%5B20.9905945%2C%2052.2640996%5D%2C%20%5B20.9914796%2C%2052.2631836%5D%2C%20%5B20.9922775%2C%2052.2623579%5D%2C%20%5B20.9934952%2C%2052.2609286%5D%2C%20%5B20.9935802%2C%2052.2607638%5D%2C%20%5B20.9936124%2C%2052.2605832%5D%2C%20%5B20.9936339%2C%2052.2601925%5D%2C%20%5B20.9937333%2C%2052.2589034%5D%2C%20%5B20.9937815%2C%2052.2587568%5D%2C%20%5B20.9942661%2C%2052.2578592%5D%2C%20%5B20.9945673%2C%2052.2573391%5D%2C%20%5B20.994637%2C%2052.2572192%5D%2C%20%5B20.9947338%2C%2052.2571018%5D%2C%20%5B20.9948945%2C%2052.2569352%5D%2C%20%5B20.9950449%2C%2052.2567968%5D%2C%20%5B20.9970159%2C%2052.2550623%5D%2C%20%5B20.9972138%2C%2052.2548292%5D%2C%20%5B20.9973828%2C%2052.2545854%5D%2C%20%5B20.9975085%2C%2052.2543334%5D%2C%20%5B20.9975905%2C%2052.2540749%5D%2C%20%5B20.9981715%2C%2052.2517809%5D%2C%20%5B20.9991081%2C%2052.2483883%5D%2C%20%5B20.9994513%2C%2052.2474032%5D%2C%20%5B20.9998764%2C%2052.2465902%5D%2C%20%5B21.0004082%2C%2052.2458307%5D%2C%20%5B21.0010486%2C%2052.2449743%5D%2C%20%5B21.0022677%2C%2052.2435033%5D%2C%20%5B21.0036463%2C%2052.2420908%5D%2C%20%5B21.0041101%2C%2052.2414328%5D%2C%20%5B21.0043962%2C%2052.2408901%5D%2C%20%5B21.0063745%2C%2052.2374982%5D%2C%20%5B21.0073717%2C%2052.2358133%5D%2C%20%5B21.007794%2C%2052.2350624%5D%2C%20%5B21.0089717%2C%2052.2330256%5D%2C%20%5B21.009245%2C%2052.2325419%5D%2C%20%5B21.0092958%2C%2052.2324457%5D%2C%20%5B21.00943%2C%2052.232192%5D%2C%20%5B21.0097048%2C%2052.2316724%5D%2C%20%5B21.0099946%2C%2052.2311473%5D%2C%20%5B21.0104714%2C%2052.2305218%5D%2C%20%5B21.0114665%2C%2052.2293898%5D%2C%20%5B21.0121662%2C%2052.2285752%5D%2C%20%5B21.0124594%2C%2052.228232%5D%2C%20%5B21.0127792%2C%2052.2278554%5D%2C%20%5B21.0155689%2C%2052.2232364%5D%2C%20%5B21.0158598%2C%2052.222501%5D%2C%20%5B21.0158957%2C%2052.2220067%5D%2C%20%5B21.0157502%2C%2052.2210256%5D%2C%20%5B21.0155901%2C%2052.219986%5D%2C%20%5B21.0154591%2C%2052.2192782%5D%2C%20%5B21.0152972%2C%2052.2184638%5D%2C%20%5B21.0149873%2C%2052.217555%5D%2C%20%5B21.0146029%2C%2052.2165357%5D%2C%20%5B21.0145197%2C%2052.2163987%5D%2C%20%5B21.0144147%2C%2052.2162791%5D%2C%20%5B21.0139927%2C%2052.2159497%5D%2C%20%5B21.0100658%2C%2052.212884%5D%2C%20%5B21.0085197%2C%2052.211704%5D%2C%20%5B21.0077245%2C%2052.2111424%5D%2C%20%5B21.0071297%2C%2052.2105048%5D%2C%20%5B21.0072169%2C%2052.2097199%5D%2C%20%5B21.007655%2C%2052.2085168%5D%2C%20%5B21.0115553%2C%2052.200057%5D%2C%20%5B21.0120868%2C%2052.1989544%5D%2C%20%5B21.0130358%2C%2052.1968022%5D%2C%20%5B21.0161296%2C%2052.1906302%5D%2C%20%5B21.0164923%2C%2052.1899213%5D%2C%20%5B21.0168165%2C%2052.189312%5D%2C%20%5B21.0172808%2C%2052.1884646%5D%2C%20%5B21.0182539%2C%2052.186818%5D%2C%20%5B21.0195236%2C%2052.1847504%5D%2C%20%5B21.0201895%2C%2052.1839189%5D%2C%20%5B21.0216336%2C%2052.1827627%5D%2C%20%5B21.0221928%2C%2052.1823149%5D%2C%20%5B21.0229949%2C%2052.1816693%5D%2C%20%5B21.0238353%2C%2052.1809913%5D%2C%20%5B21.0266603%2C%2052.1789844%5D%2C%20%5B21.0271425%2C%2052.17862%5D%2C%20%5B21.0273527%2C%2052.178288%5D%2C%20%5B21.0273781%2C%2052.1779378%5D%2C%20%5B21.0272788%2C%2052.1776731%5D%2C%20%5B21.0262035%2C%2052.1747185%5D%2C%20%5B21.0261301%2C%2052.1740199%5D%2C%20%5B21.0261626%2C%2052.1734385%5D%2C%20%5B21.0262192%2C%2052.1727599%5D%2C%20%5B21.0262605%2C%2052.1718516%5D%2C%20%5B21.0274544%2C%2052.1625742%5D%2C%20%5B21.0275445%2C%2052.1620294%5D%2C%20%5B21.0276543%2C%2052.1616497%5D%2C%20%5B21.0278307%2C%2052.1612268%5D%2C%20%5B21.0280965%2C%2052.1607514%5D%2C%20%5B21.0285282%2C%2052.1601831%5D%2C%20%5B21.0290483%2C%2052.1596639%5D%2C%20%5B21.0297725%2C%2052.1590765%5D%2C%20%5B21.0305312%2C%2052.1585376%5D%2C%20%5B21.0325913%2C%2052.1572929%5D%2C%20%5B21.0336177%2C%2052.156669%5D%2C%20%5B21.0346808%2C%2052.1560439%5D%2C%20%5B21.0356117%2C%2052.1555124%5D%2C%20%5B21.0369144%2C%2052.1547185%5D%2C%20%5B21.0373446%2C%2052.1544563%5D%2C%20%5B21.0384116%2C%2052.153806%5D%2C%20%5B21.045253%2C%2052.149735%5D%2C%20%5B21.0461042%2C%2052.1492285%5D%2C%20%5B21.0490425%2C%2052.1475432%5D%2C%20%5B21.0501459%2C%2052.1467603%5D%2C%20%5B21.0518633%2C%2052.145271%5D%2C%20%5B21.0521796%2C%2052.1450008%5D%2C%20%5B21.0522953%2C%2052.144902%5D%2C%20%5B21.0553527%2C%2052.1420424%5D%2C%20%5B21.0563547%2C%2052.141079%5D%2C%20%5B21.0571889%2C%2052.1402768%5D%2C%20%5B21.0578679%2C%2052.1395735%5D%2C%20%5B21.0613965%2C%2052.1358522%5D%2C%20%5B21.06276%2C%2052.1344027%5D%2C%20%5B21.0649742%2C%2052.1320569%5D%5D%2C%20%22type%22%3A%20%22LineString%22%7D%2C%20%22properties%22%3A%20%7B%22highlight%22%3A%20%7B%7D%2C%20%22style%22%3A%20%7B%7D%7D%2C%20%22type%22%3A%20%22Feature%22%7D%5D%2C%20%22type%22%3A%20%22FeatureCollection%22%7D%2C%0A%20%20%20%20%20%20%20%20%20%20%20%20%7B%0A%20%20%20%20%20%20%20%20%20%20%20%20%7D%0A%20%20%20%20%20%20%20%20%29.addTo%28map_b844ede74d564c7e913dcf03d40d50c6%20%29%3B%0A%20%20%20%20%20%20%20%20geo_json_e22d6cc56b1d480292dadcfaf9f4efa3.setStyle%28function%28feature%29%20%7Breturn%20feature.properties.style%3B%7D%29%3B%0A%20%20%20%20%20%20%20%20%0A%20%20%20%20%0A%20%20%20%20%20%20%20%20%20%20%20%20%20%20%20%20%0A%0A%20%20%20%20%20%20%20%20%20%20%20%20%20%20%20%20map_b844ede74d564c7e913dcf03d40d50c6.fitBounds%28%0A%20%20%20%20%20%20%20%20%20%20%20%20%20%20%20%20%20%20%20%20%5B%5B52.2929426%2C%2020.925314%5D%2C%20%5B52.1246827%2C%2021.0729117%5D%5D%2C%0A%20%20%20%20%20%20%20%20%20%20%20%20%20%20%20%20%20%20%20%20%7B%7D%0A%20%20%20%20%20%20%20%20%20%20%20%20%20%20%20%20%20%20%20%20%29%3B%0A%20%20%20%20%20%20%20%20%20%20%20%20%0A%3C/script%3E onload=\"this.contentDocument.open();this.contentDocument.write(    decodeURIComponent(this.getAttribute('data-html')));this.contentDocument.close();\" allowfullscreen webkitallowfullscreen mozallowfullscreen></iframe></div></div>"
            ],
            "text/plain": [
              "<folium.folium.Map at 0x7fc793aada10>"
            ]
          },
          "metadata": {
            "tags": []
          },
          "execution_count": 29
        }
      ]
    },
    {
      "cell_type": "code",
      "metadata": {
        "id": "OPYh9k1nAchC"
      },
      "source": [
        "stacje_metra = GeoDataFrame(columns=[\"geometry\"])\n",
        "for i in df['geometry'].loc[33].coords:\n",
        "  stacje_metra = stacje_metra.append({'geometry': Point(i) },ignore_index=True)"
      ],
      "execution_count": 101,
      "outputs": []
    },
    {
      "cell_type": "code",
      "metadata": {
        "id": "bci8duHjAyyP",
        "colab": {
          "base_uri": "https://localhost:8080/"
        },
        "outputId": "149cb3c1-2f98-4225-fd92-6135833646bc"
      },
      "source": [
        "len(stacje_metra)"
      ],
      "execution_count": null,
      "outputs": [
        {
          "output_type": "execute_result",
          "data": {
            "text/plain": [
              "157"
            ]
          },
          "metadata": {
            "tags": []
          },
          "execution_count": 90
        }
      ]
    },
    {
      "cell_type": "code",
      "metadata": {
        "id": "m6fSGUcYBVnz",
        "outputId": "44ca4816-41c4-451a-b6ed-00a1e9ee4172",
        "colab": {
          "base_uri": "https://localhost:8080/",
          "height": 407
        }
      },
      "source": [
        "stacje_metra"
      ],
      "execution_count": 102,
      "outputs": [
        {
          "output_type": "execute_result",
          "data": {
            "text/html": [
              "<div>\n",
              "<style scoped>\n",
              "    .dataframe tbody tr th:only-of-type {\n",
              "        vertical-align: middle;\n",
              "    }\n",
              "\n",
              "    .dataframe tbody tr th {\n",
              "        vertical-align: top;\n",
              "    }\n",
              "\n",
              "    .dataframe thead th {\n",
              "        text-align: right;\n",
              "    }\n",
              "</style>\n",
              "<table border=\"1\" class=\"dataframe\">\n",
              "  <thead>\n",
              "    <tr style=\"text-align: right;\">\n",
              "      <th></th>\n",
              "      <th>geometry</th>\n",
              "    </tr>\n",
              "  </thead>\n",
              "  <tbody>\n",
              "    <tr>\n",
              "      <th>0</th>\n",
              "      <td>POINT (20.92881 52.29117)</td>\n",
              "    </tr>\n",
              "    <tr>\n",
              "      <th>1</th>\n",
              "      <td>POINT (20.92979 52.29072)</td>\n",
              "    </tr>\n",
              "    <tr>\n",
              "      <th>2</th>\n",
              "      <td>POINT (20.93612 52.28780)</td>\n",
              "    </tr>\n",
              "    <tr>\n",
              "      <th>3</th>\n",
              "      <td>POINT (20.93937 52.28633)</td>\n",
              "    </tr>\n",
              "    <tr>\n",
              "      <th>4</th>\n",
              "      <td>POINT (20.94369 52.28437)</td>\n",
              "    </tr>\n",
              "    <tr>\n",
              "      <th>...</th>\n",
              "      <td>...</td>\n",
              "    </tr>\n",
              "    <tr>\n",
              "      <th>152</th>\n",
              "      <td>POINT (21.05719 52.14028)</td>\n",
              "    </tr>\n",
              "    <tr>\n",
              "      <th>153</th>\n",
              "      <td>POINT (21.05787 52.13957)</td>\n",
              "    </tr>\n",
              "    <tr>\n",
              "      <th>154</th>\n",
              "      <td>POINT (21.06140 52.13585)</td>\n",
              "    </tr>\n",
              "    <tr>\n",
              "      <th>155</th>\n",
              "      <td>POINT (21.06276 52.13440)</td>\n",
              "    </tr>\n",
              "    <tr>\n",
              "      <th>156</th>\n",
              "      <td>POINT (21.06497 52.13206)</td>\n",
              "    </tr>\n",
              "  </tbody>\n",
              "</table>\n",
              "<p>157 rows × 1 columns</p>\n",
              "</div>"
            ],
            "text/plain": [
              "                      geometry\n",
              "0    POINT (20.92881 52.29117)\n",
              "1    POINT (20.92979 52.29072)\n",
              "2    POINT (20.93612 52.28780)\n",
              "3    POINT (20.93937 52.28633)\n",
              "4    POINT (20.94369 52.28437)\n",
              "..                         ...\n",
              "152  POINT (21.05719 52.14028)\n",
              "153  POINT (21.05787 52.13957)\n",
              "154  POINT (21.06140 52.13585)\n",
              "155  POINT (21.06276 52.13440)\n",
              "156  POINT (21.06497 52.13206)\n",
              "\n",
              "[157 rows x 1 columns]"
            ]
          },
          "metadata": {
            "tags": []
          },
          "execution_count": 102
        }
      ]
    },
    {
      "cell_type": "code",
      "metadata": {
        "id": "FE4iOWT7CAtP"
      },
      "source": [
        "stacje_metra.crs = \"epsg:4326\"  # nie wiem co to robi ale bez tego nie działało"
      ],
      "execution_count": 104,
      "outputs": []
    },
    {
      "cell_type": "code",
      "metadata": {
        "id": "pk51oOhNBMIc",
        "outputId": "39f72963-fec5-49ac-db5b-06573a01fffc",
        "colab": {
          "base_uri": "https://localhost:8080/",
          "height": 992
        }
      },
      "source": [
        "m = folium.Map(location=[nodes[\"geometry\"].y.mean() , nodes[\"geometry\"].x.mean()], \n",
        "               tiles=\"cartodbpositron\"\n",
        "               )\n",
        "\n",
        "folium.GeoJson(\n",
        "    stacje_metra\n",
        "    ).add_to(m)\n",
        "\n",
        "\n",
        "x_min = nodes[\"geometry\"].x.min()\n",
        "x_max = nodes[\"geometry\"].x.max()\n",
        "y_min = nodes[\"geometry\"].y.min()\n",
        "y_max = nodes[\"geometry\"].y.max()\n",
        "\n",
        "# szukanie lewego górnego rogu i dolnego prawego\n",
        "m.fit_bounds([[y_max , x_min], [y_min , x_max]]) \n",
        "\n",
        "m"
      ],
      "execution_count": 105,
      "outputs": [
        {
          "output_type": "execute_result",
          "data": {
            "text/html": [
              "<div style=\"width:100%;\"><div style=\"position:relative;width:100%;height:0;padding-bottom:60%;\"><span style=\"color:#565656\">Make this Notebook Trusted to load map: File -> Trust Notebook</span><iframe src=\"about:blank\" style=\"position:absolute;width:100%;height:100%;left:0;top:0;border:none !important;\" data-html=%3C%21DOCTYPE%20html%3E%0A%3Chead%3E%20%20%20%20%0A%20%20%20%20%3Cmeta%20http-equiv%3D%22content-type%22%20content%3D%22text/html%3B%20charset%3DUTF-8%22%20/%3E%0A%20%20%20%20%3Cscript%3EL_PREFER_CANVAS%3Dfalse%3B%20L_NO_TOUCH%3Dfalse%3B%20L_DISABLE_3D%3Dfalse%3B%3C/script%3E%0A%20%20%20%20%3Cscript%20src%3D%22https%3A//cdn.jsdelivr.net/npm/leaflet%401.4.0/dist/leaflet.js%22%3E%3C/script%3E%0A%20%20%20%20%3Cscript%20src%3D%22https%3A//code.jquery.com/jquery-1.12.4.min.js%22%3E%3C/script%3E%0A%20%20%20%20%3Cscript%20src%3D%22https%3A//maxcdn.bootstrapcdn.com/bootstrap/3.2.0/js/bootstrap.min.js%22%3E%3C/script%3E%0A%20%20%20%20%3Cscript%20src%3D%22https%3A//cdnjs.cloudflare.com/ajax/libs/Leaflet.awesome-markers/2.0.2/leaflet.awesome-markers.js%22%3E%3C/script%3E%0A%20%20%20%20%3Clink%20rel%3D%22stylesheet%22%20href%3D%22https%3A//cdn.jsdelivr.net/npm/leaflet%401.4.0/dist/leaflet.css%22/%3E%0A%20%20%20%20%3Clink%20rel%3D%22stylesheet%22%20href%3D%22https%3A//maxcdn.bootstrapcdn.com/bootstrap/3.2.0/css/bootstrap.min.css%22/%3E%0A%20%20%20%20%3Clink%20rel%3D%22stylesheet%22%20href%3D%22https%3A//maxcdn.bootstrapcdn.com/bootstrap/3.2.0/css/bootstrap-theme.min.css%22/%3E%0A%20%20%20%20%3Clink%20rel%3D%22stylesheet%22%20href%3D%22https%3A//maxcdn.bootstrapcdn.com/font-awesome/4.6.3/css/font-awesome.min.css%22/%3E%0A%20%20%20%20%3Clink%20rel%3D%22stylesheet%22%20href%3D%22https%3A//cdnjs.cloudflare.com/ajax/libs/Leaflet.awesome-markers/2.0.2/leaflet.awesome-markers.css%22/%3E%0A%20%20%20%20%3Clink%20rel%3D%22stylesheet%22%20href%3D%22https%3A//rawcdn.githack.com/python-visualization/folium/master/folium/templates/leaflet.awesome.rotate.css%22/%3E%0A%20%20%20%20%3Cstyle%3Ehtml%2C%20body%20%7Bwidth%3A%20100%25%3Bheight%3A%20100%25%3Bmargin%3A%200%3Bpadding%3A%200%3B%7D%3C/style%3E%0A%20%20%20%20%3Cstyle%3E%23map%20%7Bposition%3Aabsolute%3Btop%3A0%3Bbottom%3A0%3Bright%3A0%3Bleft%3A0%3B%7D%3C/style%3E%0A%20%20%20%20%0A%20%20%20%20%3Cmeta%20name%3D%22viewport%22%20content%3D%22width%3Ddevice-width%2C%0A%20%20%20%20%20%20%20%20initial-scale%3D1.0%2C%20maximum-scale%3D1.0%2C%20user-scalable%3Dno%22%20/%3E%0A%20%20%20%20%3Cstyle%3E%23map_884eede192eb4ba99f891899a33eda9f%20%7B%0A%20%20%20%20%20%20%20%20position%3A%20relative%3B%0A%20%20%20%20%20%20%20%20width%3A%20100.0%25%3B%0A%20%20%20%20%20%20%20%20height%3A%20100.0%25%3B%0A%20%20%20%20%20%20%20%20left%3A%200.0%25%3B%0A%20%20%20%20%20%20%20%20top%3A%200.0%25%3B%0A%20%20%20%20%20%20%20%20%7D%0A%20%20%20%20%3C/style%3E%0A%3C/head%3E%0A%3Cbody%3E%20%20%20%20%0A%20%20%20%20%0A%20%20%20%20%3Cdiv%20class%3D%22folium-map%22%20id%3D%22map_884eede192eb4ba99f891899a33eda9f%22%20%3E%3C/div%3E%0A%3C/body%3E%0A%3Cscript%3E%20%20%20%20%0A%20%20%20%20%0A%20%20%20%20%0A%20%20%20%20%20%20%20%20var%20bounds%20%3D%20null%3B%0A%20%20%20%20%0A%0A%20%20%20%20var%20map_884eede192eb4ba99f891899a33eda9f%20%3D%20L.map%28%0A%20%20%20%20%20%20%20%20%27map_884eede192eb4ba99f891899a33eda9f%27%2C%20%7B%0A%20%20%20%20%20%20%20%20center%3A%20%5B52.19167069210728%2C%2021.031042492256166%5D%2C%0A%20%20%20%20%20%20%20%20zoom%3A%2010%2C%0A%20%20%20%20%20%20%20%20maxBounds%3A%20bounds%2C%0A%20%20%20%20%20%20%20%20layers%3A%20%5B%5D%2C%0A%20%20%20%20%20%20%20%20worldCopyJump%3A%20false%2C%0A%20%20%20%20%20%20%20%20crs%3A%20L.CRS.EPSG3857%2C%0A%20%20%20%20%20%20%20%20zoomControl%3A%20true%2C%0A%20%20%20%20%20%20%20%20%7D%29%3B%0A%0A%0A%20%20%20%20%0A%20%20%20%20var%20tile_layer_3219a931425c4cf2b244566c1a894bcf%20%3D%20L.tileLayer%28%0A%20%20%20%20%20%20%20%20%27https%3A//cartodb-basemaps-%7Bs%7D.global.ssl.fastly.net/light_all/%7Bz%7D/%7Bx%7D/%7By%7D.png%27%2C%0A%20%20%20%20%20%20%20%20%7B%0A%20%20%20%20%20%20%20%20%22attribution%22%3A%20null%2C%0A%20%20%20%20%20%20%20%20%22detectRetina%22%3A%20false%2C%0A%20%20%20%20%20%20%20%20%22maxNativeZoom%22%3A%2018%2C%0A%20%20%20%20%20%20%20%20%22maxZoom%22%3A%2018%2C%0A%20%20%20%20%20%20%20%20%22minZoom%22%3A%200%2C%0A%20%20%20%20%20%20%20%20%22noWrap%22%3A%20false%2C%0A%20%20%20%20%20%20%20%20%22opacity%22%3A%201%2C%0A%20%20%20%20%20%20%20%20%22subdomains%22%3A%20%22abc%22%2C%0A%20%20%20%20%20%20%20%20%22tms%22%3A%20false%0A%7D%29.addTo%28map_884eede192eb4ba99f891899a33eda9f%29%3B%0A%20%20%20%20%0A%20%20%20%20%20%20%20%20var%20geo_json_854413fb84184308aa85a34ef260172d%20%3D%20L.geoJson%28%0A%20%20%20%20%20%20%20%20%20%20%20%20%7B%22bbox%22%3A%20%5B20.9288146%2C%2052.1320569%2C%2021.0649742%2C%2052.2911704%5D%2C%20%22features%22%3A%20%5B%7B%22bbox%22%3A%20%5B20.9288146%2C%2052.2911704%2C%2020.9288146%2C%2052.2911704%5D%2C%20%22geometry%22%3A%20%7B%22coordinates%22%3A%20%5B20.9288146%2C%2052.2911704%5D%2C%20%22type%22%3A%20%22Point%22%7D%2C%20%22id%22%3A%20%220%22%2C%20%22properties%22%3A%20%7B%22highlight%22%3A%20%7B%7D%2C%20%22style%22%3A%20%7B%7D%7D%2C%20%22type%22%3A%20%22Feature%22%7D%2C%20%7B%22bbox%22%3A%20%5B20.9297924%2C%2052.2907196%2C%2020.9297924%2C%2052.2907196%5D%2C%20%22geometry%22%3A%20%7B%22coordinates%22%3A%20%5B20.9297924%2C%2052.2907196%5D%2C%20%22type%22%3A%20%22Point%22%7D%2C%20%22id%22%3A%20%221%22%2C%20%22properties%22%3A%20%7B%22highlight%22%3A%20%7B%7D%2C%20%22style%22%3A%20%7B%7D%7D%2C%20%22type%22%3A%20%22Feature%22%7D%2C%20%7B%22bbox%22%3A%20%5B20.936118%2C%2052.2878034%2C%2020.936118%2C%2052.2878034%5D%2C%20%22geometry%22%3A%20%7B%22coordinates%22%3A%20%5B20.936118%2C%2052.2878034%5D%2C%20%22type%22%3A%20%22Point%22%7D%2C%20%22id%22%3A%20%222%22%2C%20%22properties%22%3A%20%7B%22highlight%22%3A%20%7B%7D%2C%20%22style%22%3A%20%7B%7D%7D%2C%20%22type%22%3A%20%22Feature%22%7D%2C%20%7B%22bbox%22%3A%20%5B20.9393747%2C%2052.2863268%2C%2020.9393747%2C%2052.2863268%5D%2C%20%22geometry%22%3A%20%7B%22coordinates%22%3A%20%5B20.9393747%2C%2052.2863268%5D%2C%20%22type%22%3A%20%22Point%22%7D%2C%20%22id%22%3A%20%223%22%2C%20%22properties%22%3A%20%7B%22highlight%22%3A%20%7B%7D%2C%20%22style%22%3A%20%7B%7D%7D%2C%20%22type%22%3A%20%22Feature%22%7D%2C%20%7B%22bbox%22%3A%20%5B20.9436938%2C%2052.2843683%2C%2020.9436938%2C%2052.2843683%5D%2C%20%22geometry%22%3A%20%7B%22coordinates%22%3A%20%5B20.9436938%2C%2052.2843683%5D%2C%20%22type%22%3A%20%22Point%22%7D%2C%20%22id%22%3A%20%224%22%2C%20%22properties%22%3A%20%7B%22highlight%22%3A%20%7B%7D%2C%20%22style%22%3A%20%7B%7D%7D%2C%20%22type%22%3A%20%22Feature%22%7D%2C%20%7B%22bbox%22%3A%20%5B20.949353%2C%2052.2817144%2C%2020.949353%2C%2052.2817144%5D%2C%20%22geometry%22%3A%20%7B%22coordinates%22%3A%20%5B20.949353%2C%2052.2817144%5D%2C%20%22type%22%3A%20%22Point%22%7D%2C%20%22id%22%3A%20%225%22%2C%20%22properties%22%3A%20%7B%22highlight%22%3A%20%7B%7D%2C%20%22style%22%3A%20%7B%7D%7D%2C%20%22type%22%3A%20%22Feature%22%7D%2C%20%7B%22bbox%22%3A%20%5B20.9507219%2C%2052.2810724%2C%2020.9507219%2C%2052.2810724%5D%2C%20%22geometry%22%3A%20%7B%22coordinates%22%3A%20%5B20.9507219%2C%2052.2810724%5D%2C%20%22type%22%3A%20%22Point%22%7D%2C%20%22id%22%3A%20%226%22%2C%20%22properties%22%3A%20%7B%22highlight%22%3A%20%7B%7D%2C%20%22style%22%3A%20%7B%7D%7D%2C%20%22type%22%3A%20%22Feature%22%7D%2C%20%7B%22bbox%22%3A%20%5B20.9575475%2C%2052.2779447%2C%2020.9575475%2C%2052.2779447%5D%2C%20%22geometry%22%3A%20%7B%22coordinates%22%3A%20%5B20.9575475%2C%2052.2779447%5D%2C%20%22type%22%3A%20%22Point%22%7D%2C%20%22id%22%3A%20%227%22%2C%20%22properties%22%3A%20%7B%22highlight%22%3A%20%7B%7D%2C%20%22style%22%3A%20%7B%7D%7D%2C%20%22type%22%3A%20%22Feature%22%7D%2C%20%7B%22bbox%22%3A%20%5B20.9579616%2C%2052.277755%2C%2020.9579616%2C%2052.277755%5D%2C%20%22geometry%22%3A%20%7B%22coordinates%22%3A%20%5B20.9579616%2C%2052.277755%5D%2C%20%22type%22%3A%20%22Point%22%7D%2C%20%22id%22%3A%20%228%22%2C%20%22properties%22%3A%20%7B%22highlight%22%3A%20%7B%7D%2C%20%22style%22%3A%20%7B%7D%7D%2C%20%22type%22%3A%20%22Feature%22%7D%2C%20%7B%22bbox%22%3A%20%5B20.9599766%2C%2052.2768499%2C%2020.9599766%2C%2052.2768499%5D%2C%20%22geometry%22%3A%20%7B%22coordinates%22%3A%20%5B20.9599766%2C%2052.2768499%5D%2C%20%22type%22%3A%20%22Point%22%7D%2C%20%22id%22%3A%20%229%22%2C%20%22properties%22%3A%20%7B%22highlight%22%3A%20%7B%7D%2C%20%22style%22%3A%20%7B%7D%7D%2C%20%22type%22%3A%20%22Feature%22%7D%2C%20%7B%22bbox%22%3A%20%5B20.9603193%2C%2052.2766959%2C%2020.9603193%2C%2052.2766959%5D%2C%20%22geometry%22%3A%20%7B%22coordinates%22%3A%20%5B20.9603193%2C%2052.2766959%5D%2C%20%22type%22%3A%20%22Point%22%7D%2C%20%22id%22%3A%20%2210%22%2C%20%22properties%22%3A%20%7B%22highlight%22%3A%20%7B%7D%2C%20%22style%22%3A%20%7B%7D%7D%2C%20%22type%22%3A%20%22Feature%22%7D%2C%20%7B%22bbox%22%3A%20%5B20.9613472%2C%2052.2761972%2C%2020.9613472%2C%2052.2761972%5D%2C%20%22geometry%22%3A%20%7B%22coordinates%22%3A%20%5B20.9613472%2C%2052.2761972%5D%2C%20%22type%22%3A%20%22Point%22%7D%2C%20%22id%22%3A%20%2211%22%2C%20%22properties%22%3A%20%7B%22highlight%22%3A%20%7B%7D%2C%20%22style%22%3A%20%7B%7D%7D%2C%20%22type%22%3A%20%22Feature%22%7D%2C%20%7B%22bbox%22%3A%20%5B20.9622979%2C%2052.2757253%2C%2020.9622979%2C%2052.2757253%5D%2C%20%22geometry%22%3A%20%7B%22coordinates%22%3A%20%5B20.9622979%2C%2052.2757253%5D%2C%20%22type%22%3A%20%22Point%22%7D%2C%20%22id%22%3A%20%2212%22%2C%20%22properties%22%3A%20%7B%22highlight%22%3A%20%7B%7D%2C%20%22style%22%3A%20%7B%7D%7D%2C%20%22type%22%3A%20%22Feature%22%7D%2C%20%7B%22bbox%22%3A%20%5B20.963157%2C%2052.2751522%2C%2020.963157%2C%2052.2751522%5D%2C%20%22geometry%22%3A%20%7B%22coordinates%22%3A%20%5B20.963157%2C%2052.2751522%5D%2C%20%22type%22%3A%20%22Point%22%7D%2C%20%22id%22%3A%20%2213%22%2C%20%22properties%22%3A%20%7B%22highlight%22%3A%20%7B%7D%2C%20%22style%22%3A%20%7B%7D%7D%2C%20%22type%22%3A%20%22Feature%22%7D%2C%20%7B%22bbox%22%3A%20%5B20.9644899%2C%2052.2741023%2C%2020.9644899%2C%2052.2741023%5D%2C%20%22geometry%22%3A%20%7B%22coordinates%22%3A%20%5B20.9644899%2C%2052.2741023%5D%2C%20%22type%22%3A%20%22Point%22%7D%2C%20%22id%22%3A%20%2214%22%2C%20%22properties%22%3A%20%7B%22highlight%22%3A%20%7B%7D%2C%20%22style%22%3A%20%7B%7D%7D%2C%20%22type%22%3A%20%22Feature%22%7D%2C%20%7B%22bbox%22%3A%20%5B20.9649083%2C%2052.27382%2C%2020.9649083%2C%2052.27382%5D%2C%20%22geometry%22%3A%20%7B%22coordinates%22%3A%20%5B20.9649083%2C%2052.27382%5D%2C%20%22type%22%3A%20%22Point%22%7D%2C%20%22id%22%3A%20%2215%22%2C%20%22properties%22%3A%20%7B%22highlight%22%3A%20%7B%7D%2C%20%22style%22%3A%20%7B%7D%7D%2C%20%22type%22%3A%20%22Feature%22%7D%2C%20%7B%22bbox%22%3A%20%5B20.9652826%2C%2052.2735987%2C%2020.9652826%2C%2052.2735987%5D%2C%20%22geometry%22%3A%20%7B%22coordinates%22%3A%20%5B20.9652826%2C%2052.2735987%5D%2C%20%22type%22%3A%20%22Point%22%7D%2C%20%22id%22%3A%20%2216%22%2C%20%22properties%22%3A%20%7B%22highlight%22%3A%20%7B%7D%2C%20%22style%22%3A%20%7B%7D%7D%2C%20%22type%22%3A%20%22Feature%22%7D%2C%20%7B%22bbox%22%3A%20%5B20.9656844%2C%2052.2733881%2C%2020.9656844%2C%2052.2733881%5D%2C%20%22geometry%22%3A%20%7B%22coordinates%22%3A%20%5B20.9656844%2C%2052.2733881%5D%2C%20%22type%22%3A%20%22Point%22%7D%2C%20%22id%22%3A%20%2217%22%2C%20%22properties%22%3A%20%7B%22highlight%22%3A%20%7B%7D%2C%20%22style%22%3A%20%7B%7D%7D%2C%20%22type%22%3A%20%22Feature%22%7D%2C%20%7B%22bbox%22%3A%20%5B20.9662787%2C%2052.2730999%2C%2020.9662787%2C%2052.2730999%5D%2C%20%22geometry%22%3A%20%7B%22coordinates%22%3A%20%5B20.9662787%2C%2052.2730999%5D%2C%20%22type%22%3A%20%22Point%22%7D%2C%20%22id%22%3A%20%2218%22%2C%20%22properties%22%3A%20%7B%22highlight%22%3A%20%7B%7D%2C%20%22style%22%3A%20%7B%7D%7D%2C%20%22type%22%3A%20%22Feature%22%7D%2C%20%7B%22bbox%22%3A%20%5B20.9668829%2C%2052.2728452%2C%2020.9668829%2C%2052.2728452%5D%2C%20%22geometry%22%3A%20%7B%22coordinates%22%3A%20%5B20.9668829%2C%2052.2728452%5D%2C%20%22type%22%3A%20%22Point%22%7D%2C%20%22id%22%3A%20%2219%22%2C%20%22properties%22%3A%20%7B%22highlight%22%3A%20%7B%7D%2C%20%22style%22%3A%20%7B%7D%7D%2C%20%22type%22%3A%20%22Feature%22%7D%2C%20%7B%22bbox%22%3A%20%5B20.9674484%2C%2052.2726392%2C%2020.9674484%2C%2052.2726392%5D%2C%20%22geometry%22%3A%20%7B%22coordinates%22%3A%20%5B20.9674484%2C%2052.2726392%5D%2C%20%22type%22%3A%20%22Point%22%7D%2C%20%22id%22%3A%20%2220%22%2C%20%22properties%22%3A%20%7B%22highlight%22%3A%20%7B%7D%2C%20%22style%22%3A%20%7B%7D%7D%2C%20%22type%22%3A%20%22Feature%22%7D%2C%20%7B%22bbox%22%3A%20%5B20.9680267%2C%2052.2724502%2C%2020.9680267%2C%2052.2724502%5D%2C%20%22geometry%22%3A%20%7B%22coordinates%22%3A%20%5B20.9680267%2C%2052.2724502%5D%2C%20%22type%22%3A%20%22Point%22%7D%2C%20%22id%22%3A%20%2221%22%2C%20%22properties%22%3A%20%7B%22highlight%22%3A%20%7B%7D%2C%20%22style%22%3A%20%7B%7D%7D%2C%20%22type%22%3A%20%22Feature%22%7D%2C%20%7B%22bbox%22%3A%20%5B20.96864%2C%2052.2722771%2C%2020.96864%2C%2052.2722771%5D%2C%20%22geometry%22%3A%20%7B%22coordinates%22%3A%20%5B20.96864%2C%2052.2722771%5D%2C%20%22type%22%3A%20%22Point%22%7D%2C%20%22id%22%3A%20%2222%22%2C%20%22properties%22%3A%20%7B%22highlight%22%3A%20%7B%7D%2C%20%22style%22%3A%20%7B%7D%7D%2C%20%22type%22%3A%20%22Feature%22%7D%2C%20%7B%22bbox%22%3A%20%5B20.9692565%2C%2052.2721232%2C%2020.9692565%2C%2052.2721232%5D%2C%20%22geometry%22%3A%20%7B%22coordinates%22%3A%20%5B20.9692565%2C%2052.2721232%5D%2C%20%22type%22%3A%20%22Point%22%7D%2C%20%22id%22%3A%20%2223%22%2C%20%22properties%22%3A%20%7B%22highlight%22%3A%20%7B%7D%2C%20%22style%22%3A%20%7B%7D%7D%2C%20%22type%22%3A%20%22Feature%22%7D%2C%20%7B%22bbox%22%3A%20%5B20.9704557%2C%2052.2718623%2C%2020.9704557%2C%2052.2718623%5D%2C%20%22geometry%22%3A%20%7B%22coordinates%22%3A%20%5B20.9704557%2C%2052.2718623%5D%2C%20%22type%22%3A%20%22Point%22%7D%2C%20%22id%22%3A%20%2224%22%2C%20%22properties%22%3A%20%7B%22highlight%22%3A%20%7B%7D%2C%20%22style%22%3A%20%7B%7D%7D%2C%20%22type%22%3A%20%22Feature%22%7D%2C%20%7B%22bbox%22%3A%20%5B20.9717037%2C%2052.2716073%2C%2020.9717037%2C%2052.2716073%5D%2C%20%22geometry%22%3A%20%7B%22coordinates%22%3A%20%5B20.9717037%2C%2052.2716073%5D%2C%20%22type%22%3A%20%22Point%22%7D%2C%20%22id%22%3A%20%2225%22%2C%20%22properties%22%3A%20%7B%22highlight%22%3A%20%7B%7D%2C%20%22style%22%3A%20%7B%7D%7D%2C%20%22type%22%3A%20%22Feature%22%7D%2C%20%7B%22bbox%22%3A%20%5B20.973994%2C%2052.2713308%2C%2020.973994%2C%2052.2713308%5D%2C%20%22geometry%22%3A%20%7B%22coordinates%22%3A%20%5B20.973994%2C%2052.2713308%5D%2C%20%22type%22%3A%20%22Point%22%7D%2C%20%22id%22%3A%20%2226%22%2C%20%22properties%22%3A%20%7B%22highlight%22%3A%20%7B%7D%2C%20%22style%22%3A%20%7B%7D%7D%2C%20%22type%22%3A%20%22Feature%22%7D%2C%20%7B%22bbox%22%3A%20%5B20.9742232%2C%2052.2712984%2C%2020.9742232%2C%2052.2712984%5D%2C%20%22geometry%22%3A%20%7B%22coordinates%22%3A%20%5B20.9742232%2C%2052.2712984%5D%2C%20%22type%22%3A%20%22Point%22%7D%2C%20%22id%22%3A%20%2227%22%2C%20%22properties%22%3A%20%7B%22highlight%22%3A%20%7B%7D%2C%20%22style%22%3A%20%7B%7D%7D%2C%20%22type%22%3A%20%22Feature%22%7D%2C%20%7B%22bbox%22%3A%20%5B20.9769666%2C%2052.2708%2C%2020.9769666%2C%2052.2708%5D%2C%20%22geometry%22%3A%20%7B%22coordinates%22%3A%20%5B20.9769666%2C%2052.2708%5D%2C%20%22type%22%3A%20%22Point%22%7D%2C%20%22id%22%3A%20%2228%22%2C%20%22properties%22%3A%20%7B%22highlight%22%3A%20%7B%7D%2C%20%22style%22%3A%20%7B%7D%7D%2C%20%22type%22%3A%20%22Feature%22%7D%2C%20%7B%22bbox%22%3A%20%5B20.9798318%2C%2052.270215%2C%2020.9798318%2C%2052.270215%5D%2C%20%22geometry%22%3A%20%7B%22coordinates%22%3A%20%5B20.9798318%2C%2052.270215%5D%2C%20%22type%22%3A%20%22Point%22%7D%2C%20%22id%22%3A%20%2229%22%2C%20%22properties%22%3A%20%7B%22highlight%22%3A%20%7B%7D%2C%20%22style%22%3A%20%7B%7D%7D%2C%20%22type%22%3A%20%22Feature%22%7D%2C%20%7B%22bbox%22%3A%20%5B20.9832793%2C%2052.2694508%2C%2020.9832793%2C%2052.2694508%5D%2C%20%22geometry%22%3A%20%7B%22coordinates%22%3A%20%5B20.9832793%2C%2052.2694508%5D%2C%20%22type%22%3A%20%22Point%22%7D%2C%20%22id%22%3A%20%2230%22%2C%20%22properties%22%3A%20%7B%22highlight%22%3A%20%7B%7D%2C%20%22style%22%3A%20%7B%7D%7D%2C%20%22type%22%3A%20%22Feature%22%7D%2C%20%7B%22bbox%22%3A%20%5B20.9843601%2C%2052.2692032%2C%2020.9843601%2C%2052.2692032%5D%2C%20%22geometry%22%3A%20%7B%22coordinates%22%3A%20%5B20.9843601%2C%2052.2692032%5D%2C%20%22type%22%3A%20%22Point%22%7D%2C%20%22id%22%3A%20%2231%22%2C%20%22properties%22%3A%20%7B%22highlight%22%3A%20%7B%7D%2C%20%22style%22%3A%20%7B%7D%7D%2C%20%22type%22%3A%20%22Feature%22%7D%2C%20%7B%22bbox%22%3A%20%5B20.9858085%2C%2052.2689015%2C%2020.9858085%2C%2052.2689015%5D%2C%20%22geometry%22%3A%20%7B%22coordinates%22%3A%20%5B20.9858085%2C%2052.2689015%5D%2C%20%22type%22%3A%20%22Point%22%7D%2C%20%22id%22%3A%20%2232%22%2C%20%22properties%22%3A%20%7B%22highlight%22%3A%20%7B%7D%2C%20%22style%22%3A%20%7B%7D%7D%2C%20%22type%22%3A%20%22Feature%22%7D%2C%20%7B%22bbox%22%3A%20%5B20.9860059%2C%2052.2688446%2C%2020.9860059%2C%2052.2688446%5D%2C%20%22geometry%22%3A%20%7B%22coordinates%22%3A%20%5B20.9860059%2C%2052.2688446%5D%2C%20%22type%22%3A%20%22Point%22%7D%2C%20%22id%22%3A%20%2233%22%2C%20%22properties%22%3A%20%7B%22highlight%22%3A%20%7B%7D%2C%20%22style%22%3A%20%7B%7D%7D%2C%20%22type%22%3A%20%22Feature%22%7D%2C%20%7B%22bbox%22%3A%20%5B20.9861097%2C%2052.2688135%2C%2020.9861097%2C%2052.2688135%5D%2C%20%22geometry%22%3A%20%7B%22coordinates%22%3A%20%5B20.9861097%2C%2052.2688135%5D%2C%20%22type%22%3A%20%22Point%22%7D%2C%20%22id%22%3A%20%2234%22%2C%20%22properties%22%3A%20%7B%22highlight%22%3A%20%7B%7D%2C%20%22style%22%3A%20%7B%7D%7D%2C%20%22type%22%3A%20%22Feature%22%7D%2C%20%7B%22bbox%22%3A%20%5B20.9861969%2C%2052.2687815%2C%2020.9861969%2C%2052.2687815%5D%2C%20%22geometry%22%3A%20%7B%22coordinates%22%3A%20%5B20.9861969%2C%2052.2687815%5D%2C%20%22type%22%3A%20%22Point%22%7D%2C%20%22id%22%3A%20%2235%22%2C%20%22properties%22%3A%20%7B%22highlight%22%3A%20%7B%7D%2C%20%22style%22%3A%20%7B%7D%7D%2C%20%22type%22%3A%20%22Feature%22%7D%2C%20%7B%22bbox%22%3A%20%5B20.9863014%2C%2052.2687322%2C%2020.9863014%2C%2052.2687322%5D%2C%20%22geometry%22%3A%20%7B%22coordinates%22%3A%20%5B20.9863014%2C%2052.2687322%5D%2C%20%22type%22%3A%20%22Point%22%7D%2C%20%22id%22%3A%20%2236%22%2C%20%22properties%22%3A%20%7B%22highlight%22%3A%20%7B%7D%2C%20%22style%22%3A%20%7B%7D%7D%2C%20%22type%22%3A%20%22Feature%22%7D%2C%20%7B%22bbox%22%3A%20%5B20.9864042%2C%2052.2686864%2C%2020.9864042%2C%2052.2686864%5D%2C%20%22geometry%22%3A%20%7B%22coordinates%22%3A%20%5B20.9864042%2C%2052.2686864%5D%2C%20%22type%22%3A%20%22Point%22%7D%2C%20%22id%22%3A%20%2237%22%2C%20%22properties%22%3A%20%7B%22highlight%22%3A%20%7B%7D%2C%20%22style%22%3A%20%7B%7D%7D%2C%20%22type%22%3A%20%22Feature%22%7D%2C%20%7B%22bbox%22%3A%20%5B20.986502%2C%2052.268626%2C%2020.986502%2C%2052.268626%5D%2C%20%22geometry%22%3A%20%7B%22coordinates%22%3A%20%5B20.986502%2C%2052.268626%5D%2C%20%22type%22%3A%20%22Point%22%7D%2C%20%22id%22%3A%20%2238%22%2C%20%22properties%22%3A%20%7B%22highlight%22%3A%20%7B%7D%2C%20%22style%22%3A%20%7B%7D%7D%2C%20%22type%22%3A%20%22Feature%22%7D%2C%20%7B%22bbox%22%3A%20%5B20.986585%2C%2052.2685656%2C%2020.986585%2C%2052.2685656%5D%2C%20%22geometry%22%3A%20%7B%22coordinates%22%3A%20%5B20.986585%2C%2052.2685656%5D%2C%20%22type%22%3A%20%22Point%22%7D%2C%20%22id%22%3A%20%2239%22%2C%20%22properties%22%3A%20%7B%22highlight%22%3A%20%7B%7D%2C%20%22style%22%3A%20%7B%7D%7D%2C%20%22type%22%3A%20%22Feature%22%7D%2C%20%7B%22bbox%22%3A%20%5B20.9869605%2C%2052.2681526%2C%2020.9869605%2C%2052.2681526%5D%2C%20%22geometry%22%3A%20%7B%22coordinates%22%3A%20%5B20.9869605%2C%2052.2681526%5D%2C%20%22type%22%3A%20%22Point%22%7D%2C%20%22id%22%3A%20%2240%22%2C%20%22properties%22%3A%20%7B%22highlight%22%3A%20%7B%7D%2C%20%22style%22%3A%20%7B%7D%7D%2C%20%22type%22%3A%20%22Feature%22%7D%2C%20%7B%22bbox%22%3A%20%5B20.9905945%2C%2052.2640996%2C%2020.9905945%2C%2052.2640996%5D%2C%20%22geometry%22%3A%20%7B%22coordinates%22%3A%20%5B20.9905945%2C%2052.2640996%5D%2C%20%22type%22%3A%20%22Point%22%7D%2C%20%22id%22%3A%20%2241%22%2C%20%22properties%22%3A%20%7B%22highlight%22%3A%20%7B%7D%2C%20%22style%22%3A%20%7B%7D%7D%2C%20%22type%22%3A%20%22Feature%22%7D%2C%20%7B%22bbox%22%3A%20%5B20.9914796%2C%2052.2631836%2C%2020.9914796%2C%2052.2631836%5D%2C%20%22geometry%22%3A%20%7B%22coordinates%22%3A%20%5B20.9914796%2C%2052.2631836%5D%2C%20%22type%22%3A%20%22Point%22%7D%2C%20%22id%22%3A%20%2242%22%2C%20%22properties%22%3A%20%7B%22highlight%22%3A%20%7B%7D%2C%20%22style%22%3A%20%7B%7D%7D%2C%20%22type%22%3A%20%22Feature%22%7D%2C%20%7B%22bbox%22%3A%20%5B20.9922775%2C%2052.2623579%2C%2020.9922775%2C%2052.2623579%5D%2C%20%22geometry%22%3A%20%7B%22coordinates%22%3A%20%5B20.9922775%2C%2052.2623579%5D%2C%20%22type%22%3A%20%22Point%22%7D%2C%20%22id%22%3A%20%2243%22%2C%20%22properties%22%3A%20%7B%22highlight%22%3A%20%7B%7D%2C%20%22style%22%3A%20%7B%7D%7D%2C%20%22type%22%3A%20%22Feature%22%7D%2C%20%7B%22bbox%22%3A%20%5B20.9934952%2C%2052.2609286%2C%2020.9934952%2C%2052.2609286%5D%2C%20%22geometry%22%3A%20%7B%22coordinates%22%3A%20%5B20.9934952%2C%2052.2609286%5D%2C%20%22type%22%3A%20%22Point%22%7D%2C%20%22id%22%3A%20%2244%22%2C%20%22properties%22%3A%20%7B%22highlight%22%3A%20%7B%7D%2C%20%22style%22%3A%20%7B%7D%7D%2C%20%22type%22%3A%20%22Feature%22%7D%2C%20%7B%22bbox%22%3A%20%5B20.9935802%2C%2052.2607638%2C%2020.9935802%2C%2052.2607638%5D%2C%20%22geometry%22%3A%20%7B%22coordinates%22%3A%20%5B20.9935802%2C%2052.2607638%5D%2C%20%22type%22%3A%20%22Point%22%7D%2C%20%22id%22%3A%20%2245%22%2C%20%22properties%22%3A%20%7B%22highlight%22%3A%20%7B%7D%2C%20%22style%22%3A%20%7B%7D%7D%2C%20%22type%22%3A%20%22Feature%22%7D%2C%20%7B%22bbox%22%3A%20%5B20.9936124%2C%2052.2605832%2C%2020.9936124%2C%2052.2605832%5D%2C%20%22geometry%22%3A%20%7B%22coordinates%22%3A%20%5B20.9936124%2C%2052.2605832%5D%2C%20%22type%22%3A%20%22Point%22%7D%2C%20%22id%22%3A%20%2246%22%2C%20%22properties%22%3A%20%7B%22highlight%22%3A%20%7B%7D%2C%20%22style%22%3A%20%7B%7D%7D%2C%20%22type%22%3A%20%22Feature%22%7D%2C%20%7B%22bbox%22%3A%20%5B20.9936339%2C%2052.2601925%2C%2020.9936339%2C%2052.2601925%5D%2C%20%22geometry%22%3A%20%7B%22coordinates%22%3A%20%5B20.9936339%2C%2052.2601925%5D%2C%20%22type%22%3A%20%22Point%22%7D%2C%20%22id%22%3A%20%2247%22%2C%20%22properties%22%3A%20%7B%22highlight%22%3A%20%7B%7D%2C%20%22style%22%3A%20%7B%7D%7D%2C%20%22type%22%3A%20%22Feature%22%7D%2C%20%7B%22bbox%22%3A%20%5B20.9937333%2C%2052.2589034%2C%2020.9937333%2C%2052.2589034%5D%2C%20%22geometry%22%3A%20%7B%22coordinates%22%3A%20%5B20.9937333%2C%2052.2589034%5D%2C%20%22type%22%3A%20%22Point%22%7D%2C%20%22id%22%3A%20%2248%22%2C%20%22properties%22%3A%20%7B%22highlight%22%3A%20%7B%7D%2C%20%22style%22%3A%20%7B%7D%7D%2C%20%22type%22%3A%20%22Feature%22%7D%2C%20%7B%22bbox%22%3A%20%5B20.9937815%2C%2052.2587568%2C%2020.9937815%2C%2052.2587568%5D%2C%20%22geometry%22%3A%20%7B%22coordinates%22%3A%20%5B20.9937815%2C%2052.2587568%5D%2C%20%22type%22%3A%20%22Point%22%7D%2C%20%22id%22%3A%20%2249%22%2C%20%22properties%22%3A%20%7B%22highlight%22%3A%20%7B%7D%2C%20%22style%22%3A%20%7B%7D%7D%2C%20%22type%22%3A%20%22Feature%22%7D%2C%20%7B%22bbox%22%3A%20%5B20.9942661%2C%2052.2578592%2C%2020.9942661%2C%2052.2578592%5D%2C%20%22geometry%22%3A%20%7B%22coordinates%22%3A%20%5B20.9942661%2C%2052.2578592%5D%2C%20%22type%22%3A%20%22Point%22%7D%2C%20%22id%22%3A%20%2250%22%2C%20%22properties%22%3A%20%7B%22highlight%22%3A%20%7B%7D%2C%20%22style%22%3A%20%7B%7D%7D%2C%20%22type%22%3A%20%22Feature%22%7D%2C%20%7B%22bbox%22%3A%20%5B20.9945673%2C%2052.2573391%2C%2020.9945673%2C%2052.2573391%5D%2C%20%22geometry%22%3A%20%7B%22coordinates%22%3A%20%5B20.9945673%2C%2052.2573391%5D%2C%20%22type%22%3A%20%22Point%22%7D%2C%20%22id%22%3A%20%2251%22%2C%20%22properties%22%3A%20%7B%22highlight%22%3A%20%7B%7D%2C%20%22style%22%3A%20%7B%7D%7D%2C%20%22type%22%3A%20%22Feature%22%7D%2C%20%7B%22bbox%22%3A%20%5B20.994637%2C%2052.2572192%2C%2020.994637%2C%2052.2572192%5D%2C%20%22geometry%22%3A%20%7B%22coordinates%22%3A%20%5B20.994637%2C%2052.2572192%5D%2C%20%22type%22%3A%20%22Point%22%7D%2C%20%22id%22%3A%20%2252%22%2C%20%22properties%22%3A%20%7B%22highlight%22%3A%20%7B%7D%2C%20%22style%22%3A%20%7B%7D%7D%2C%20%22type%22%3A%20%22Feature%22%7D%2C%20%7B%22bbox%22%3A%20%5B20.9947338%2C%2052.2571018%2C%2020.9947338%2C%2052.2571018%5D%2C%20%22geometry%22%3A%20%7B%22coordinates%22%3A%20%5B20.9947338%2C%2052.2571018%5D%2C%20%22type%22%3A%20%22Point%22%7D%2C%20%22id%22%3A%20%2253%22%2C%20%22properties%22%3A%20%7B%22highlight%22%3A%20%7B%7D%2C%20%22style%22%3A%20%7B%7D%7D%2C%20%22type%22%3A%20%22Feature%22%7D%2C%20%7B%22bbox%22%3A%20%5B20.9948945%2C%2052.2569352%2C%2020.9948945%2C%2052.2569352%5D%2C%20%22geometry%22%3A%20%7B%22coordinates%22%3A%20%5B20.9948945%2C%2052.2569352%5D%2C%20%22type%22%3A%20%22Point%22%7D%2C%20%22id%22%3A%20%2254%22%2C%20%22properties%22%3A%20%7B%22highlight%22%3A%20%7B%7D%2C%20%22style%22%3A%20%7B%7D%7D%2C%20%22type%22%3A%20%22Feature%22%7D%2C%20%7B%22bbox%22%3A%20%5B20.9950449%2C%2052.2567968%2C%2020.9950449%2C%2052.2567968%5D%2C%20%22geometry%22%3A%20%7B%22coordinates%22%3A%20%5B20.9950449%2C%2052.2567968%5D%2C%20%22type%22%3A%20%22Point%22%7D%2C%20%22id%22%3A%20%2255%22%2C%20%22properties%22%3A%20%7B%22highlight%22%3A%20%7B%7D%2C%20%22style%22%3A%20%7B%7D%7D%2C%20%22type%22%3A%20%22Feature%22%7D%2C%20%7B%22bbox%22%3A%20%5B20.9970159%2C%2052.2550623%2C%2020.9970159%2C%2052.2550623%5D%2C%20%22geometry%22%3A%20%7B%22coordinates%22%3A%20%5B20.9970159%2C%2052.2550623%5D%2C%20%22type%22%3A%20%22Point%22%7D%2C%20%22id%22%3A%20%2256%22%2C%20%22properties%22%3A%20%7B%22highlight%22%3A%20%7B%7D%2C%20%22style%22%3A%20%7B%7D%7D%2C%20%22type%22%3A%20%22Feature%22%7D%2C%20%7B%22bbox%22%3A%20%5B20.9972138%2C%2052.2548292%2C%2020.9972138%2C%2052.2548292%5D%2C%20%22geometry%22%3A%20%7B%22coordinates%22%3A%20%5B20.9972138%2C%2052.2548292%5D%2C%20%22type%22%3A%20%22Point%22%7D%2C%20%22id%22%3A%20%2257%22%2C%20%22properties%22%3A%20%7B%22highlight%22%3A%20%7B%7D%2C%20%22style%22%3A%20%7B%7D%7D%2C%20%22type%22%3A%20%22Feature%22%7D%2C%20%7B%22bbox%22%3A%20%5B20.9973828%2C%2052.2545854%2C%2020.9973828%2C%2052.2545854%5D%2C%20%22geometry%22%3A%20%7B%22coordinates%22%3A%20%5B20.9973828%2C%2052.2545854%5D%2C%20%22type%22%3A%20%22Point%22%7D%2C%20%22id%22%3A%20%2258%22%2C%20%22properties%22%3A%20%7B%22highlight%22%3A%20%7B%7D%2C%20%22style%22%3A%20%7B%7D%7D%2C%20%22type%22%3A%20%22Feature%22%7D%2C%20%7B%22bbox%22%3A%20%5B20.9975085%2C%2052.2543334%2C%2020.9975085%2C%2052.2543334%5D%2C%20%22geometry%22%3A%20%7B%22coordinates%22%3A%20%5B20.9975085%2C%2052.2543334%5D%2C%20%22type%22%3A%20%22Point%22%7D%2C%20%22id%22%3A%20%2259%22%2C%20%22properties%22%3A%20%7B%22highlight%22%3A%20%7B%7D%2C%20%22style%22%3A%20%7B%7D%7D%2C%20%22type%22%3A%20%22Feature%22%7D%2C%20%7B%22bbox%22%3A%20%5B20.9975905%2C%2052.2540749%2C%2020.9975905%2C%2052.2540749%5D%2C%20%22geometry%22%3A%20%7B%22coordinates%22%3A%20%5B20.9975905%2C%2052.2540749%5D%2C%20%22type%22%3A%20%22Point%22%7D%2C%20%22id%22%3A%20%2260%22%2C%20%22properties%22%3A%20%7B%22highlight%22%3A%20%7B%7D%2C%20%22style%22%3A%20%7B%7D%7D%2C%20%22type%22%3A%20%22Feature%22%7D%2C%20%7B%22bbox%22%3A%20%5B20.9981715%2C%2052.2517809%2C%2020.9981715%2C%2052.2517809%5D%2C%20%22geometry%22%3A%20%7B%22coordinates%22%3A%20%5B20.9981715%2C%2052.2517809%5D%2C%20%22type%22%3A%20%22Point%22%7D%2C%20%22id%22%3A%20%2261%22%2C%20%22properties%22%3A%20%7B%22highlight%22%3A%20%7B%7D%2C%20%22style%22%3A%20%7B%7D%7D%2C%20%22type%22%3A%20%22Feature%22%7D%2C%20%7B%22bbox%22%3A%20%5B20.9991081%2C%2052.2483883%2C%2020.9991081%2C%2052.2483883%5D%2C%20%22geometry%22%3A%20%7B%22coordinates%22%3A%20%5B20.9991081%2C%2052.2483883%5D%2C%20%22type%22%3A%20%22Point%22%7D%2C%20%22id%22%3A%20%2262%22%2C%20%22properties%22%3A%20%7B%22highlight%22%3A%20%7B%7D%2C%20%22style%22%3A%20%7B%7D%7D%2C%20%22type%22%3A%20%22Feature%22%7D%2C%20%7B%22bbox%22%3A%20%5B20.9994513%2C%2052.2474032%2C%2020.9994513%2C%2052.2474032%5D%2C%20%22geometry%22%3A%20%7B%22coordinates%22%3A%20%5B20.9994513%2C%2052.2474032%5D%2C%20%22type%22%3A%20%22Point%22%7D%2C%20%22id%22%3A%20%2263%22%2C%20%22properties%22%3A%20%7B%22highlight%22%3A%20%7B%7D%2C%20%22style%22%3A%20%7B%7D%7D%2C%20%22type%22%3A%20%22Feature%22%7D%2C%20%7B%22bbox%22%3A%20%5B20.9998764%2C%2052.2465902%2C%2020.9998764%2C%2052.2465902%5D%2C%20%22geometry%22%3A%20%7B%22coordinates%22%3A%20%5B20.9998764%2C%2052.2465902%5D%2C%20%22type%22%3A%20%22Point%22%7D%2C%20%22id%22%3A%20%2264%22%2C%20%22properties%22%3A%20%7B%22highlight%22%3A%20%7B%7D%2C%20%22style%22%3A%20%7B%7D%7D%2C%20%22type%22%3A%20%22Feature%22%7D%2C%20%7B%22bbox%22%3A%20%5B21.0004082%2C%2052.2458307%2C%2021.0004082%2C%2052.2458307%5D%2C%20%22geometry%22%3A%20%7B%22coordinates%22%3A%20%5B21.0004082%2C%2052.2458307%5D%2C%20%22type%22%3A%20%22Point%22%7D%2C%20%22id%22%3A%20%2265%22%2C%20%22properties%22%3A%20%7B%22highlight%22%3A%20%7B%7D%2C%20%22style%22%3A%20%7B%7D%7D%2C%20%22type%22%3A%20%22Feature%22%7D%2C%20%7B%22bbox%22%3A%20%5B21.0010486%2C%2052.2449743%2C%2021.0010486%2C%2052.2449743%5D%2C%20%22geometry%22%3A%20%7B%22coordinates%22%3A%20%5B21.0010486%2C%2052.2449743%5D%2C%20%22type%22%3A%20%22Point%22%7D%2C%20%22id%22%3A%20%2266%22%2C%20%22properties%22%3A%20%7B%22highlight%22%3A%20%7B%7D%2C%20%22style%22%3A%20%7B%7D%7D%2C%20%22type%22%3A%20%22Feature%22%7D%2C%20%7B%22bbox%22%3A%20%5B21.0022677%2C%2052.2435033%2C%2021.0022677%2C%2052.2435033%5D%2C%20%22geometry%22%3A%20%7B%22coordinates%22%3A%20%5B21.0022677%2C%2052.2435033%5D%2C%20%22type%22%3A%20%22Point%22%7D%2C%20%22id%22%3A%20%2267%22%2C%20%22properties%22%3A%20%7B%22highlight%22%3A%20%7B%7D%2C%20%22style%22%3A%20%7B%7D%7D%2C%20%22type%22%3A%20%22Feature%22%7D%2C%20%7B%22bbox%22%3A%20%5B21.0036463%2C%2052.2420908%2C%2021.0036463%2C%2052.2420908%5D%2C%20%22geometry%22%3A%20%7B%22coordinates%22%3A%20%5B21.0036463%2C%2052.2420908%5D%2C%20%22type%22%3A%20%22Point%22%7D%2C%20%22id%22%3A%20%2268%22%2C%20%22properties%22%3A%20%7B%22highlight%22%3A%20%7B%7D%2C%20%22style%22%3A%20%7B%7D%7D%2C%20%22type%22%3A%20%22Feature%22%7D%2C%20%7B%22bbox%22%3A%20%5B21.0041101%2C%2052.2414328%2C%2021.0041101%2C%2052.2414328%5D%2C%20%22geometry%22%3A%20%7B%22coordinates%22%3A%20%5B21.0041101%2C%2052.2414328%5D%2C%20%22type%22%3A%20%22Point%22%7D%2C%20%22id%22%3A%20%2269%22%2C%20%22properties%22%3A%20%7B%22highlight%22%3A%20%7B%7D%2C%20%22style%22%3A%20%7B%7D%7D%2C%20%22type%22%3A%20%22Feature%22%7D%2C%20%7B%22bbox%22%3A%20%5B21.0043962%2C%2052.2408901%2C%2021.0043962%2C%2052.2408901%5D%2C%20%22geometry%22%3A%20%7B%22coordinates%22%3A%20%5B21.0043962%2C%2052.2408901%5D%2C%20%22type%22%3A%20%22Point%22%7D%2C%20%22id%22%3A%20%2270%22%2C%20%22properties%22%3A%20%7B%22highlight%22%3A%20%7B%7D%2C%20%22style%22%3A%20%7B%7D%7D%2C%20%22type%22%3A%20%22Feature%22%7D%2C%20%7B%22bbox%22%3A%20%5B21.0063745%2C%2052.2374982%2C%2021.0063745%2C%2052.2374982%5D%2C%20%22geometry%22%3A%20%7B%22coordinates%22%3A%20%5B21.0063745%2C%2052.2374982%5D%2C%20%22type%22%3A%20%22Point%22%7D%2C%20%22id%22%3A%20%2271%22%2C%20%22properties%22%3A%20%7B%22highlight%22%3A%20%7B%7D%2C%20%22style%22%3A%20%7B%7D%7D%2C%20%22type%22%3A%20%22Feature%22%7D%2C%20%7B%22bbox%22%3A%20%5B21.0073717%2C%2052.2358133%2C%2021.0073717%2C%2052.2358133%5D%2C%20%22geometry%22%3A%20%7B%22coordinates%22%3A%20%5B21.0073717%2C%2052.2358133%5D%2C%20%22type%22%3A%20%22Point%22%7D%2C%20%22id%22%3A%20%2272%22%2C%20%22properties%22%3A%20%7B%22highlight%22%3A%20%7B%7D%2C%20%22style%22%3A%20%7B%7D%7D%2C%20%22type%22%3A%20%22Feature%22%7D%2C%20%7B%22bbox%22%3A%20%5B21.007794%2C%2052.2350624%2C%2021.007794%2C%2052.2350624%5D%2C%20%22geometry%22%3A%20%7B%22coordinates%22%3A%20%5B21.007794%2C%2052.2350624%5D%2C%20%22type%22%3A%20%22Point%22%7D%2C%20%22id%22%3A%20%2273%22%2C%20%22properties%22%3A%20%7B%22highlight%22%3A%20%7B%7D%2C%20%22style%22%3A%20%7B%7D%7D%2C%20%22type%22%3A%20%22Feature%22%7D%2C%20%7B%22bbox%22%3A%20%5B21.0089717%2C%2052.2330256%2C%2021.0089717%2C%2052.2330256%5D%2C%20%22geometry%22%3A%20%7B%22coordinates%22%3A%20%5B21.0089717%2C%2052.2330256%5D%2C%20%22type%22%3A%20%22Point%22%7D%2C%20%22id%22%3A%20%2274%22%2C%20%22properties%22%3A%20%7B%22highlight%22%3A%20%7B%7D%2C%20%22style%22%3A%20%7B%7D%7D%2C%20%22type%22%3A%20%22Feature%22%7D%2C%20%7B%22bbox%22%3A%20%5B21.009245%2C%2052.2325419%2C%2021.009245%2C%2052.2325419%5D%2C%20%22geometry%22%3A%20%7B%22coordinates%22%3A%20%5B21.009245%2C%2052.2325419%5D%2C%20%22type%22%3A%20%22Point%22%7D%2C%20%22id%22%3A%20%2275%22%2C%20%22properties%22%3A%20%7B%22highlight%22%3A%20%7B%7D%2C%20%22style%22%3A%20%7B%7D%7D%2C%20%22type%22%3A%20%22Feature%22%7D%2C%20%7B%22bbox%22%3A%20%5B21.0092958%2C%2052.2324457%2C%2021.0092958%2C%2052.2324457%5D%2C%20%22geometry%22%3A%20%7B%22coordinates%22%3A%20%5B21.0092958%2C%2052.2324457%5D%2C%20%22type%22%3A%20%22Point%22%7D%2C%20%22id%22%3A%20%2276%22%2C%20%22properties%22%3A%20%7B%22highlight%22%3A%20%7B%7D%2C%20%22style%22%3A%20%7B%7D%7D%2C%20%22type%22%3A%20%22Feature%22%7D%2C%20%7B%22bbox%22%3A%20%5B21.00943%2C%2052.232192%2C%2021.00943%2C%2052.232192%5D%2C%20%22geometry%22%3A%20%7B%22coordinates%22%3A%20%5B21.00943%2C%2052.232192%5D%2C%20%22type%22%3A%20%22Point%22%7D%2C%20%22id%22%3A%20%2277%22%2C%20%22properties%22%3A%20%7B%22highlight%22%3A%20%7B%7D%2C%20%22style%22%3A%20%7B%7D%7D%2C%20%22type%22%3A%20%22Feature%22%7D%2C%20%7B%22bbox%22%3A%20%5B21.0097048%2C%2052.2316724%2C%2021.0097048%2C%2052.2316724%5D%2C%20%22geometry%22%3A%20%7B%22coordinates%22%3A%20%5B21.0097048%2C%2052.2316724%5D%2C%20%22type%22%3A%20%22Point%22%7D%2C%20%22id%22%3A%20%2278%22%2C%20%22properties%22%3A%20%7B%22highlight%22%3A%20%7B%7D%2C%20%22style%22%3A%20%7B%7D%7D%2C%20%22type%22%3A%20%22Feature%22%7D%2C%20%7B%22bbox%22%3A%20%5B21.0099946%2C%2052.2311473%2C%2021.0099946%2C%2052.2311473%5D%2C%20%22geometry%22%3A%20%7B%22coordinates%22%3A%20%5B21.0099946%2C%2052.2311473%5D%2C%20%22type%22%3A%20%22Point%22%7D%2C%20%22id%22%3A%20%2279%22%2C%20%22properties%22%3A%20%7B%22highlight%22%3A%20%7B%7D%2C%20%22style%22%3A%20%7B%7D%7D%2C%20%22type%22%3A%20%22Feature%22%7D%2C%20%7B%22bbox%22%3A%20%5B21.0104714%2C%2052.2305218%2C%2021.0104714%2C%2052.2305218%5D%2C%20%22geometry%22%3A%20%7B%22coordinates%22%3A%20%5B21.0104714%2C%2052.2305218%5D%2C%20%22type%22%3A%20%22Point%22%7D%2C%20%22id%22%3A%20%2280%22%2C%20%22properties%22%3A%20%7B%22highlight%22%3A%20%7B%7D%2C%20%22style%22%3A%20%7B%7D%7D%2C%20%22type%22%3A%20%22Feature%22%7D%2C%20%7B%22bbox%22%3A%20%5B21.0114665%2C%2052.2293898%2C%2021.0114665%2C%2052.2293898%5D%2C%20%22geometry%22%3A%20%7B%22coordinates%22%3A%20%5B21.0114665%2C%2052.2293898%5D%2C%20%22type%22%3A%20%22Point%22%7D%2C%20%22id%22%3A%20%2281%22%2C%20%22properties%22%3A%20%7B%22highlight%22%3A%20%7B%7D%2C%20%22style%22%3A%20%7B%7D%7D%2C%20%22type%22%3A%20%22Feature%22%7D%2C%20%7B%22bbox%22%3A%20%5B21.0121662%2C%2052.2285752%2C%2021.0121662%2C%2052.2285752%5D%2C%20%22geometry%22%3A%20%7B%22coordinates%22%3A%20%5B21.0121662%2C%2052.2285752%5D%2C%20%22type%22%3A%20%22Point%22%7D%2C%20%22id%22%3A%20%2282%22%2C%20%22properties%22%3A%20%7B%22highlight%22%3A%20%7B%7D%2C%20%22style%22%3A%20%7B%7D%7D%2C%20%22type%22%3A%20%22Feature%22%7D%2C%20%7B%22bbox%22%3A%20%5B21.0124594%2C%2052.228232%2C%2021.0124594%2C%2052.228232%5D%2C%20%22geometry%22%3A%20%7B%22coordinates%22%3A%20%5B21.0124594%2C%2052.228232%5D%2C%20%22type%22%3A%20%22Point%22%7D%2C%20%22id%22%3A%20%2283%22%2C%20%22properties%22%3A%20%7B%22highlight%22%3A%20%7B%7D%2C%20%22style%22%3A%20%7B%7D%7D%2C%20%22type%22%3A%20%22Feature%22%7D%2C%20%7B%22bbox%22%3A%20%5B21.0127792%2C%2052.2278554%2C%2021.0127792%2C%2052.2278554%5D%2C%20%22geometry%22%3A%20%7B%22coordinates%22%3A%20%5B21.0127792%2C%2052.2278554%5D%2C%20%22type%22%3A%20%22Point%22%7D%2C%20%22id%22%3A%20%2284%22%2C%20%22properties%22%3A%20%7B%22highlight%22%3A%20%7B%7D%2C%20%22style%22%3A%20%7B%7D%7D%2C%20%22type%22%3A%20%22Feature%22%7D%2C%20%7B%22bbox%22%3A%20%5B21.0155689%2C%2052.2232364%2C%2021.0155689%2C%2052.2232364%5D%2C%20%22geometry%22%3A%20%7B%22coordinates%22%3A%20%5B21.0155689%2C%2052.2232364%5D%2C%20%22type%22%3A%20%22Point%22%7D%2C%20%22id%22%3A%20%2285%22%2C%20%22properties%22%3A%20%7B%22highlight%22%3A%20%7B%7D%2C%20%22style%22%3A%20%7B%7D%7D%2C%20%22type%22%3A%20%22Feature%22%7D%2C%20%7B%22bbox%22%3A%20%5B21.0158598%2C%2052.222501%2C%2021.0158598%2C%2052.222501%5D%2C%20%22geometry%22%3A%20%7B%22coordinates%22%3A%20%5B21.0158598%2C%2052.222501%5D%2C%20%22type%22%3A%20%22Point%22%7D%2C%20%22id%22%3A%20%2286%22%2C%20%22properties%22%3A%20%7B%22highlight%22%3A%20%7B%7D%2C%20%22style%22%3A%20%7B%7D%7D%2C%20%22type%22%3A%20%22Feature%22%7D%2C%20%7B%22bbox%22%3A%20%5B21.0158957%2C%2052.2220067%2C%2021.0158957%2C%2052.2220067%5D%2C%20%22geometry%22%3A%20%7B%22coordinates%22%3A%20%5B21.0158957%2C%2052.2220067%5D%2C%20%22type%22%3A%20%22Point%22%7D%2C%20%22id%22%3A%20%2287%22%2C%20%22properties%22%3A%20%7B%22highlight%22%3A%20%7B%7D%2C%20%22style%22%3A%20%7B%7D%7D%2C%20%22type%22%3A%20%22Feature%22%7D%2C%20%7B%22bbox%22%3A%20%5B21.0157502%2C%2052.2210256%2C%2021.0157502%2C%2052.2210256%5D%2C%20%22geometry%22%3A%20%7B%22coordinates%22%3A%20%5B21.0157502%2C%2052.2210256%5D%2C%20%22type%22%3A%20%22Point%22%7D%2C%20%22id%22%3A%20%2288%22%2C%20%22properties%22%3A%20%7B%22highlight%22%3A%20%7B%7D%2C%20%22style%22%3A%20%7B%7D%7D%2C%20%22type%22%3A%20%22Feature%22%7D%2C%20%7B%22bbox%22%3A%20%5B21.0155901%2C%2052.219986%2C%2021.0155901%2C%2052.219986%5D%2C%20%22geometry%22%3A%20%7B%22coordinates%22%3A%20%5B21.0155901%2C%2052.219986%5D%2C%20%22type%22%3A%20%22Point%22%7D%2C%20%22id%22%3A%20%2289%22%2C%20%22properties%22%3A%20%7B%22highlight%22%3A%20%7B%7D%2C%20%22style%22%3A%20%7B%7D%7D%2C%20%22type%22%3A%20%22Feature%22%7D%2C%20%7B%22bbox%22%3A%20%5B21.0154591%2C%2052.2192782%2C%2021.0154591%2C%2052.2192782%5D%2C%20%22geometry%22%3A%20%7B%22coordinates%22%3A%20%5B21.0154591%2C%2052.2192782%5D%2C%20%22type%22%3A%20%22Point%22%7D%2C%20%22id%22%3A%20%2290%22%2C%20%22properties%22%3A%20%7B%22highlight%22%3A%20%7B%7D%2C%20%22style%22%3A%20%7B%7D%7D%2C%20%22type%22%3A%20%22Feature%22%7D%2C%20%7B%22bbox%22%3A%20%5B21.0152972%2C%2052.2184638%2C%2021.0152972%2C%2052.2184638%5D%2C%20%22geometry%22%3A%20%7B%22coordinates%22%3A%20%5B21.0152972%2C%2052.2184638%5D%2C%20%22type%22%3A%20%22Point%22%7D%2C%20%22id%22%3A%20%2291%22%2C%20%22properties%22%3A%20%7B%22highlight%22%3A%20%7B%7D%2C%20%22style%22%3A%20%7B%7D%7D%2C%20%22type%22%3A%20%22Feature%22%7D%2C%20%7B%22bbox%22%3A%20%5B21.0149873%2C%2052.217555%2C%2021.0149873%2C%2052.217555%5D%2C%20%22geometry%22%3A%20%7B%22coordinates%22%3A%20%5B21.0149873%2C%2052.217555%5D%2C%20%22type%22%3A%20%22Point%22%7D%2C%20%22id%22%3A%20%2292%22%2C%20%22properties%22%3A%20%7B%22highlight%22%3A%20%7B%7D%2C%20%22style%22%3A%20%7B%7D%7D%2C%20%22type%22%3A%20%22Feature%22%7D%2C%20%7B%22bbox%22%3A%20%5B21.0146029%2C%2052.2165357%2C%2021.0146029%2C%2052.2165357%5D%2C%20%22geometry%22%3A%20%7B%22coordinates%22%3A%20%5B21.0146029%2C%2052.2165357%5D%2C%20%22type%22%3A%20%22Point%22%7D%2C%20%22id%22%3A%20%2293%22%2C%20%22properties%22%3A%20%7B%22highlight%22%3A%20%7B%7D%2C%20%22style%22%3A%20%7B%7D%7D%2C%20%22type%22%3A%20%22Feature%22%7D%2C%20%7B%22bbox%22%3A%20%5B21.0145197%2C%2052.2163987%2C%2021.0145197%2C%2052.2163987%5D%2C%20%22geometry%22%3A%20%7B%22coordinates%22%3A%20%5B21.0145197%2C%2052.2163987%5D%2C%20%22type%22%3A%20%22Point%22%7D%2C%20%22id%22%3A%20%2294%22%2C%20%22properties%22%3A%20%7B%22highlight%22%3A%20%7B%7D%2C%20%22style%22%3A%20%7B%7D%7D%2C%20%22type%22%3A%20%22Feature%22%7D%2C%20%7B%22bbox%22%3A%20%5B21.0144147%2C%2052.2162791%2C%2021.0144147%2C%2052.2162791%5D%2C%20%22geometry%22%3A%20%7B%22coordinates%22%3A%20%5B21.0144147%2C%2052.2162791%5D%2C%20%22type%22%3A%20%22Point%22%7D%2C%20%22id%22%3A%20%2295%22%2C%20%22properties%22%3A%20%7B%22highlight%22%3A%20%7B%7D%2C%20%22style%22%3A%20%7B%7D%7D%2C%20%22type%22%3A%20%22Feature%22%7D%2C%20%7B%22bbox%22%3A%20%5B21.0139927%2C%2052.2159497%2C%2021.0139927%2C%2052.2159497%5D%2C%20%22geometry%22%3A%20%7B%22coordinates%22%3A%20%5B21.0139927%2C%2052.2159497%5D%2C%20%22type%22%3A%20%22Point%22%7D%2C%20%22id%22%3A%20%2296%22%2C%20%22properties%22%3A%20%7B%22highlight%22%3A%20%7B%7D%2C%20%22style%22%3A%20%7B%7D%7D%2C%20%22type%22%3A%20%22Feature%22%7D%2C%20%7B%22bbox%22%3A%20%5B21.0100658%2C%2052.212884%2C%2021.0100658%2C%2052.212884%5D%2C%20%22geometry%22%3A%20%7B%22coordinates%22%3A%20%5B21.0100658%2C%2052.212884%5D%2C%20%22type%22%3A%20%22Point%22%7D%2C%20%22id%22%3A%20%2297%22%2C%20%22properties%22%3A%20%7B%22highlight%22%3A%20%7B%7D%2C%20%22style%22%3A%20%7B%7D%7D%2C%20%22type%22%3A%20%22Feature%22%7D%2C%20%7B%22bbox%22%3A%20%5B21.0085197%2C%2052.211704%2C%2021.0085197%2C%2052.211704%5D%2C%20%22geometry%22%3A%20%7B%22coordinates%22%3A%20%5B21.0085197%2C%2052.211704%5D%2C%20%22type%22%3A%20%22Point%22%7D%2C%20%22id%22%3A%20%2298%22%2C%20%22properties%22%3A%20%7B%22highlight%22%3A%20%7B%7D%2C%20%22style%22%3A%20%7B%7D%7D%2C%20%22type%22%3A%20%22Feature%22%7D%2C%20%7B%22bbox%22%3A%20%5B21.0077245%2C%2052.2111424%2C%2021.0077245%2C%2052.2111424%5D%2C%20%22geometry%22%3A%20%7B%22coordinates%22%3A%20%5B21.0077245%2C%2052.2111424%5D%2C%20%22type%22%3A%20%22Point%22%7D%2C%20%22id%22%3A%20%2299%22%2C%20%22properties%22%3A%20%7B%22highlight%22%3A%20%7B%7D%2C%20%22style%22%3A%20%7B%7D%7D%2C%20%22type%22%3A%20%22Feature%22%7D%2C%20%7B%22bbox%22%3A%20%5B21.0071297%2C%2052.2105048%2C%2021.0071297%2C%2052.2105048%5D%2C%20%22geometry%22%3A%20%7B%22coordinates%22%3A%20%5B21.0071297%2C%2052.2105048%5D%2C%20%22type%22%3A%20%22Point%22%7D%2C%20%22id%22%3A%20%22100%22%2C%20%22properties%22%3A%20%7B%22highlight%22%3A%20%7B%7D%2C%20%22style%22%3A%20%7B%7D%7D%2C%20%22type%22%3A%20%22Feature%22%7D%2C%20%7B%22bbox%22%3A%20%5B21.0072169%2C%2052.2097199%2C%2021.0072169%2C%2052.2097199%5D%2C%20%22geometry%22%3A%20%7B%22coordinates%22%3A%20%5B21.0072169%2C%2052.2097199%5D%2C%20%22type%22%3A%20%22Point%22%7D%2C%20%22id%22%3A%20%22101%22%2C%20%22properties%22%3A%20%7B%22highlight%22%3A%20%7B%7D%2C%20%22style%22%3A%20%7B%7D%7D%2C%20%22type%22%3A%20%22Feature%22%7D%2C%20%7B%22bbox%22%3A%20%5B21.007655%2C%2052.2085168%2C%2021.007655%2C%2052.2085168%5D%2C%20%22geometry%22%3A%20%7B%22coordinates%22%3A%20%5B21.007655%2C%2052.2085168%5D%2C%20%22type%22%3A%20%22Point%22%7D%2C%20%22id%22%3A%20%22102%22%2C%20%22properties%22%3A%20%7B%22highlight%22%3A%20%7B%7D%2C%20%22style%22%3A%20%7B%7D%7D%2C%20%22type%22%3A%20%22Feature%22%7D%2C%20%7B%22bbox%22%3A%20%5B21.0115553%2C%2052.200057%2C%2021.0115553%2C%2052.200057%5D%2C%20%22geometry%22%3A%20%7B%22coordinates%22%3A%20%5B21.0115553%2C%2052.200057%5D%2C%20%22type%22%3A%20%22Point%22%7D%2C%20%22id%22%3A%20%22103%22%2C%20%22properties%22%3A%20%7B%22highlight%22%3A%20%7B%7D%2C%20%22style%22%3A%20%7B%7D%7D%2C%20%22type%22%3A%20%22Feature%22%7D%2C%20%7B%22bbox%22%3A%20%5B21.0120868%2C%2052.1989544%2C%2021.0120868%2C%2052.1989544%5D%2C%20%22geometry%22%3A%20%7B%22coordinates%22%3A%20%5B21.0120868%2C%2052.1989544%5D%2C%20%22type%22%3A%20%22Point%22%7D%2C%20%22id%22%3A%20%22104%22%2C%20%22properties%22%3A%20%7B%22highlight%22%3A%20%7B%7D%2C%20%22style%22%3A%20%7B%7D%7D%2C%20%22type%22%3A%20%22Feature%22%7D%2C%20%7B%22bbox%22%3A%20%5B21.0130358%2C%2052.1968022%2C%2021.0130358%2C%2052.1968022%5D%2C%20%22geometry%22%3A%20%7B%22coordinates%22%3A%20%5B21.0130358%2C%2052.1968022%5D%2C%20%22type%22%3A%20%22Point%22%7D%2C%20%22id%22%3A%20%22105%22%2C%20%22properties%22%3A%20%7B%22highlight%22%3A%20%7B%7D%2C%20%22style%22%3A%20%7B%7D%7D%2C%20%22type%22%3A%20%22Feature%22%7D%2C%20%7B%22bbox%22%3A%20%5B21.0161296%2C%2052.1906302%2C%2021.0161296%2C%2052.1906302%5D%2C%20%22geometry%22%3A%20%7B%22coordinates%22%3A%20%5B21.0161296%2C%2052.1906302%5D%2C%20%22type%22%3A%20%22Point%22%7D%2C%20%22id%22%3A%20%22106%22%2C%20%22properties%22%3A%20%7B%22highlight%22%3A%20%7B%7D%2C%20%22style%22%3A%20%7B%7D%7D%2C%20%22type%22%3A%20%22Feature%22%7D%2C%20%7B%22bbox%22%3A%20%5B21.0164923%2C%2052.1899213%2C%2021.0164923%2C%2052.1899213%5D%2C%20%22geometry%22%3A%20%7B%22coordinates%22%3A%20%5B21.0164923%2C%2052.1899213%5D%2C%20%22type%22%3A%20%22Point%22%7D%2C%20%22id%22%3A%20%22107%22%2C%20%22properties%22%3A%20%7B%22highlight%22%3A%20%7B%7D%2C%20%22style%22%3A%20%7B%7D%7D%2C%20%22type%22%3A%20%22Feature%22%7D%2C%20%7B%22bbox%22%3A%20%5B21.0168165%2C%2052.189312%2C%2021.0168165%2C%2052.189312%5D%2C%20%22geometry%22%3A%20%7B%22coordinates%22%3A%20%5B21.0168165%2C%2052.189312%5D%2C%20%22type%22%3A%20%22Point%22%7D%2C%20%22id%22%3A%20%22108%22%2C%20%22properties%22%3A%20%7B%22highlight%22%3A%20%7B%7D%2C%20%22style%22%3A%20%7B%7D%7D%2C%20%22type%22%3A%20%22Feature%22%7D%2C%20%7B%22bbox%22%3A%20%5B21.0172808%2C%2052.1884646%2C%2021.0172808%2C%2052.1884646%5D%2C%20%22geometry%22%3A%20%7B%22coordinates%22%3A%20%5B21.0172808%2C%2052.1884646%5D%2C%20%22type%22%3A%20%22Point%22%7D%2C%20%22id%22%3A%20%22109%22%2C%20%22properties%22%3A%20%7B%22highlight%22%3A%20%7B%7D%2C%20%22style%22%3A%20%7B%7D%7D%2C%20%22type%22%3A%20%22Feature%22%7D%2C%20%7B%22bbox%22%3A%20%5B21.0182539%2C%2052.186818%2C%2021.0182539%2C%2052.186818%5D%2C%20%22geometry%22%3A%20%7B%22coordinates%22%3A%20%5B21.0182539%2C%2052.186818%5D%2C%20%22type%22%3A%20%22Point%22%7D%2C%20%22id%22%3A%20%22110%22%2C%20%22properties%22%3A%20%7B%22highlight%22%3A%20%7B%7D%2C%20%22style%22%3A%20%7B%7D%7D%2C%20%22type%22%3A%20%22Feature%22%7D%2C%20%7B%22bbox%22%3A%20%5B21.0195236%2C%2052.1847504%2C%2021.0195236%2C%2052.1847504%5D%2C%20%22geometry%22%3A%20%7B%22coordinates%22%3A%20%5B21.0195236%2C%2052.1847504%5D%2C%20%22type%22%3A%20%22Point%22%7D%2C%20%22id%22%3A%20%22111%22%2C%20%22properties%22%3A%20%7B%22highlight%22%3A%20%7B%7D%2C%20%22style%22%3A%20%7B%7D%7D%2C%20%22type%22%3A%20%22Feature%22%7D%2C%20%7B%22bbox%22%3A%20%5B21.0201895%2C%2052.1839189%2C%2021.0201895%2C%2052.1839189%5D%2C%20%22geometry%22%3A%20%7B%22coordinates%22%3A%20%5B21.0201895%2C%2052.1839189%5D%2C%20%22type%22%3A%20%22Point%22%7D%2C%20%22id%22%3A%20%22112%22%2C%20%22properties%22%3A%20%7B%22highlight%22%3A%20%7B%7D%2C%20%22style%22%3A%20%7B%7D%7D%2C%20%22type%22%3A%20%22Feature%22%7D%2C%20%7B%22bbox%22%3A%20%5B21.0216336%2C%2052.1827627%2C%2021.0216336%2C%2052.1827627%5D%2C%20%22geometry%22%3A%20%7B%22coordinates%22%3A%20%5B21.0216336%2C%2052.1827627%5D%2C%20%22type%22%3A%20%22Point%22%7D%2C%20%22id%22%3A%20%22113%22%2C%20%22properties%22%3A%20%7B%22highlight%22%3A%20%7B%7D%2C%20%22style%22%3A%20%7B%7D%7D%2C%20%22type%22%3A%20%22Feature%22%7D%2C%20%7B%22bbox%22%3A%20%5B21.0221928%2C%2052.1823149%2C%2021.0221928%2C%2052.1823149%5D%2C%20%22geometry%22%3A%20%7B%22coordinates%22%3A%20%5B21.0221928%2C%2052.1823149%5D%2C%20%22type%22%3A%20%22Point%22%7D%2C%20%22id%22%3A%20%22114%22%2C%20%22properties%22%3A%20%7B%22highlight%22%3A%20%7B%7D%2C%20%22style%22%3A%20%7B%7D%7D%2C%20%22type%22%3A%20%22Feature%22%7D%2C%20%7B%22bbox%22%3A%20%5B21.0229949%2C%2052.1816693%2C%2021.0229949%2C%2052.1816693%5D%2C%20%22geometry%22%3A%20%7B%22coordinates%22%3A%20%5B21.0229949%2C%2052.1816693%5D%2C%20%22type%22%3A%20%22Point%22%7D%2C%20%22id%22%3A%20%22115%22%2C%20%22properties%22%3A%20%7B%22highlight%22%3A%20%7B%7D%2C%20%22style%22%3A%20%7B%7D%7D%2C%20%22type%22%3A%20%22Feature%22%7D%2C%20%7B%22bbox%22%3A%20%5B21.0238353%2C%2052.1809913%2C%2021.0238353%2C%2052.1809913%5D%2C%20%22geometry%22%3A%20%7B%22coordinates%22%3A%20%5B21.0238353%2C%2052.1809913%5D%2C%20%22type%22%3A%20%22Point%22%7D%2C%20%22id%22%3A%20%22116%22%2C%20%22properties%22%3A%20%7B%22highlight%22%3A%20%7B%7D%2C%20%22style%22%3A%20%7B%7D%7D%2C%20%22type%22%3A%20%22Feature%22%7D%2C%20%7B%22bbox%22%3A%20%5B21.0266603%2C%2052.1789844%2C%2021.0266603%2C%2052.1789844%5D%2C%20%22geometry%22%3A%20%7B%22coordinates%22%3A%20%5B21.0266603%2C%2052.1789844%5D%2C%20%22type%22%3A%20%22Point%22%7D%2C%20%22id%22%3A%20%22117%22%2C%20%22properties%22%3A%20%7B%22highlight%22%3A%20%7B%7D%2C%20%22style%22%3A%20%7B%7D%7D%2C%20%22type%22%3A%20%22Feature%22%7D%2C%20%7B%22bbox%22%3A%20%5B21.0271425%2C%2052.17862%2C%2021.0271425%2C%2052.17862%5D%2C%20%22geometry%22%3A%20%7B%22coordinates%22%3A%20%5B21.0271425%2C%2052.17862%5D%2C%20%22type%22%3A%20%22Point%22%7D%2C%20%22id%22%3A%20%22118%22%2C%20%22properties%22%3A%20%7B%22highlight%22%3A%20%7B%7D%2C%20%22style%22%3A%20%7B%7D%7D%2C%20%22type%22%3A%20%22Feature%22%7D%2C%20%7B%22bbox%22%3A%20%5B21.0273527%2C%2052.178288%2C%2021.0273527%2C%2052.178288%5D%2C%20%22geometry%22%3A%20%7B%22coordinates%22%3A%20%5B21.0273527%2C%2052.178288%5D%2C%20%22type%22%3A%20%22Point%22%7D%2C%20%22id%22%3A%20%22119%22%2C%20%22properties%22%3A%20%7B%22highlight%22%3A%20%7B%7D%2C%20%22style%22%3A%20%7B%7D%7D%2C%20%22type%22%3A%20%22Feature%22%7D%2C%20%7B%22bbox%22%3A%20%5B21.0273781%2C%2052.1779378%2C%2021.0273781%2C%2052.1779378%5D%2C%20%22geometry%22%3A%20%7B%22coordinates%22%3A%20%5B21.0273781%2C%2052.1779378%5D%2C%20%22type%22%3A%20%22Point%22%7D%2C%20%22id%22%3A%20%22120%22%2C%20%22properties%22%3A%20%7B%22highlight%22%3A%20%7B%7D%2C%20%22style%22%3A%20%7B%7D%7D%2C%20%22type%22%3A%20%22Feature%22%7D%2C%20%7B%22bbox%22%3A%20%5B21.0272788%2C%2052.1776731%2C%2021.0272788%2C%2052.1776731%5D%2C%20%22geometry%22%3A%20%7B%22coordinates%22%3A%20%5B21.0272788%2C%2052.1776731%5D%2C%20%22type%22%3A%20%22Point%22%7D%2C%20%22id%22%3A%20%22121%22%2C%20%22properties%22%3A%20%7B%22highlight%22%3A%20%7B%7D%2C%20%22style%22%3A%20%7B%7D%7D%2C%20%22type%22%3A%20%22Feature%22%7D%2C%20%7B%22bbox%22%3A%20%5B21.0262035%2C%2052.1747185%2C%2021.0262035%2C%2052.1747185%5D%2C%20%22geometry%22%3A%20%7B%22coordinates%22%3A%20%5B21.0262035%2C%2052.1747185%5D%2C%20%22type%22%3A%20%22Point%22%7D%2C%20%22id%22%3A%20%22122%22%2C%20%22properties%22%3A%20%7B%22highlight%22%3A%20%7B%7D%2C%20%22style%22%3A%20%7B%7D%7D%2C%20%22type%22%3A%20%22Feature%22%7D%2C%20%7B%22bbox%22%3A%20%5B21.0261301%2C%2052.1740199%2C%2021.0261301%2C%2052.1740199%5D%2C%20%22geometry%22%3A%20%7B%22coordinates%22%3A%20%5B21.0261301%2C%2052.1740199%5D%2C%20%22type%22%3A%20%22Point%22%7D%2C%20%22id%22%3A%20%22123%22%2C%20%22properties%22%3A%20%7B%22highlight%22%3A%20%7B%7D%2C%20%22style%22%3A%20%7B%7D%7D%2C%20%22type%22%3A%20%22Feature%22%7D%2C%20%7B%22bbox%22%3A%20%5B21.0261626%2C%2052.1734385%2C%2021.0261626%2C%2052.1734385%5D%2C%20%22geometry%22%3A%20%7B%22coordinates%22%3A%20%5B21.0261626%2C%2052.1734385%5D%2C%20%22type%22%3A%20%22Point%22%7D%2C%20%22id%22%3A%20%22124%22%2C%20%22properties%22%3A%20%7B%22highlight%22%3A%20%7B%7D%2C%20%22style%22%3A%20%7B%7D%7D%2C%20%22type%22%3A%20%22Feature%22%7D%2C%20%7B%22bbox%22%3A%20%5B21.0262192%2C%2052.1727599%2C%2021.0262192%2C%2052.1727599%5D%2C%20%22geometry%22%3A%20%7B%22coordinates%22%3A%20%5B21.0262192%2C%2052.1727599%5D%2C%20%22type%22%3A%20%22Point%22%7D%2C%20%22id%22%3A%20%22125%22%2C%20%22properties%22%3A%20%7B%22highlight%22%3A%20%7B%7D%2C%20%22style%22%3A%20%7B%7D%7D%2C%20%22type%22%3A%20%22Feature%22%7D%2C%20%7B%22bbox%22%3A%20%5B21.0262605%2C%2052.1718516%2C%2021.0262605%2C%2052.1718516%5D%2C%20%22geometry%22%3A%20%7B%22coordinates%22%3A%20%5B21.0262605%2C%2052.1718516%5D%2C%20%22type%22%3A%20%22Point%22%7D%2C%20%22id%22%3A%20%22126%22%2C%20%22properties%22%3A%20%7B%22highlight%22%3A%20%7B%7D%2C%20%22style%22%3A%20%7B%7D%7D%2C%20%22type%22%3A%20%22Feature%22%7D%2C%20%7B%22bbox%22%3A%20%5B21.0274544%2C%2052.1625742%2C%2021.0274544%2C%2052.1625742%5D%2C%20%22geometry%22%3A%20%7B%22coordinates%22%3A%20%5B21.0274544%2C%2052.1625742%5D%2C%20%22type%22%3A%20%22Point%22%7D%2C%20%22id%22%3A%20%22127%22%2C%20%22properties%22%3A%20%7B%22highlight%22%3A%20%7B%7D%2C%20%22style%22%3A%20%7B%7D%7D%2C%20%22type%22%3A%20%22Feature%22%7D%2C%20%7B%22bbox%22%3A%20%5B21.0275445%2C%2052.1620294%2C%2021.0275445%2C%2052.1620294%5D%2C%20%22geometry%22%3A%20%7B%22coordinates%22%3A%20%5B21.0275445%2C%2052.1620294%5D%2C%20%22type%22%3A%20%22Point%22%7D%2C%20%22id%22%3A%20%22128%22%2C%20%22properties%22%3A%20%7B%22highlight%22%3A%20%7B%7D%2C%20%22style%22%3A%20%7B%7D%7D%2C%20%22type%22%3A%20%22Feature%22%7D%2C%20%7B%22bbox%22%3A%20%5B21.0276543%2C%2052.1616497%2C%2021.0276543%2C%2052.1616497%5D%2C%20%22geometry%22%3A%20%7B%22coordinates%22%3A%20%5B21.0276543%2C%2052.1616497%5D%2C%20%22type%22%3A%20%22Point%22%7D%2C%20%22id%22%3A%20%22129%22%2C%20%22properties%22%3A%20%7B%22highlight%22%3A%20%7B%7D%2C%20%22style%22%3A%20%7B%7D%7D%2C%20%22type%22%3A%20%22Feature%22%7D%2C%20%7B%22bbox%22%3A%20%5B21.0278307%2C%2052.1612268%2C%2021.0278307%2C%2052.1612268%5D%2C%20%22geometry%22%3A%20%7B%22coordinates%22%3A%20%5B21.0278307%2C%2052.1612268%5D%2C%20%22type%22%3A%20%22Point%22%7D%2C%20%22id%22%3A%20%22130%22%2C%20%22properties%22%3A%20%7B%22highlight%22%3A%20%7B%7D%2C%20%22style%22%3A%20%7B%7D%7D%2C%20%22type%22%3A%20%22Feature%22%7D%2C%20%7B%22bbox%22%3A%20%5B21.0280965%2C%2052.1607514%2C%2021.0280965%2C%2052.1607514%5D%2C%20%22geometry%22%3A%20%7B%22coordinates%22%3A%20%5B21.0280965%2C%2052.1607514%5D%2C%20%22type%22%3A%20%22Point%22%7D%2C%20%22id%22%3A%20%22131%22%2C%20%22properties%22%3A%20%7B%22highlight%22%3A%20%7B%7D%2C%20%22style%22%3A%20%7B%7D%7D%2C%20%22type%22%3A%20%22Feature%22%7D%2C%20%7B%22bbox%22%3A%20%5B21.0285282%2C%2052.1601831%2C%2021.0285282%2C%2052.1601831%5D%2C%20%22geometry%22%3A%20%7B%22coordinates%22%3A%20%5B21.0285282%2C%2052.1601831%5D%2C%20%22type%22%3A%20%22Point%22%7D%2C%20%22id%22%3A%20%22132%22%2C%20%22properties%22%3A%20%7B%22highlight%22%3A%20%7B%7D%2C%20%22style%22%3A%20%7B%7D%7D%2C%20%22type%22%3A%20%22Feature%22%7D%2C%20%7B%22bbox%22%3A%20%5B21.0290483%2C%2052.1596639%2C%2021.0290483%2C%2052.1596639%5D%2C%20%22geometry%22%3A%20%7B%22coordinates%22%3A%20%5B21.0290483%2C%2052.1596639%5D%2C%20%22type%22%3A%20%22Point%22%7D%2C%20%22id%22%3A%20%22133%22%2C%20%22properties%22%3A%20%7B%22highlight%22%3A%20%7B%7D%2C%20%22style%22%3A%20%7B%7D%7D%2C%20%22type%22%3A%20%22Feature%22%7D%2C%20%7B%22bbox%22%3A%20%5B21.0297725%2C%2052.1590765%2C%2021.0297725%2C%2052.1590765%5D%2C%20%22geometry%22%3A%20%7B%22coordinates%22%3A%20%5B21.0297725%2C%2052.1590765%5D%2C%20%22type%22%3A%20%22Point%22%7D%2C%20%22id%22%3A%20%22134%22%2C%20%22properties%22%3A%20%7B%22highlight%22%3A%20%7B%7D%2C%20%22style%22%3A%20%7B%7D%7D%2C%20%22type%22%3A%20%22Feature%22%7D%2C%20%7B%22bbox%22%3A%20%5B21.0305312%2C%2052.1585376%2C%2021.0305312%2C%2052.1585376%5D%2C%20%22geometry%22%3A%20%7B%22coordinates%22%3A%20%5B21.0305312%2C%2052.1585376%5D%2C%20%22type%22%3A%20%22Point%22%7D%2C%20%22id%22%3A%20%22135%22%2C%20%22properties%22%3A%20%7B%22highlight%22%3A%20%7B%7D%2C%20%22style%22%3A%20%7B%7D%7D%2C%20%22type%22%3A%20%22Feature%22%7D%2C%20%7B%22bbox%22%3A%20%5B21.0325913%2C%2052.1572929%2C%2021.0325913%2C%2052.1572929%5D%2C%20%22geometry%22%3A%20%7B%22coordinates%22%3A%20%5B21.0325913%2C%2052.1572929%5D%2C%20%22type%22%3A%20%22Point%22%7D%2C%20%22id%22%3A%20%22136%22%2C%20%22properties%22%3A%20%7B%22highlight%22%3A%20%7B%7D%2C%20%22style%22%3A%20%7B%7D%7D%2C%20%22type%22%3A%20%22Feature%22%7D%2C%20%7B%22bbox%22%3A%20%5B21.0336177%2C%2052.156669%2C%2021.0336177%2C%2052.156669%5D%2C%20%22geometry%22%3A%20%7B%22coordinates%22%3A%20%5B21.0336177%2C%2052.156669%5D%2C%20%22type%22%3A%20%22Point%22%7D%2C%20%22id%22%3A%20%22137%22%2C%20%22properties%22%3A%20%7B%22highlight%22%3A%20%7B%7D%2C%20%22style%22%3A%20%7B%7D%7D%2C%20%22type%22%3A%20%22Feature%22%7D%2C%20%7B%22bbox%22%3A%20%5B21.0346808%2C%2052.1560439%2C%2021.0346808%2C%2052.1560439%5D%2C%20%22geometry%22%3A%20%7B%22coordinates%22%3A%20%5B21.0346808%2C%2052.1560439%5D%2C%20%22type%22%3A%20%22Point%22%7D%2C%20%22id%22%3A%20%22138%22%2C%20%22properties%22%3A%20%7B%22highlight%22%3A%20%7B%7D%2C%20%22style%22%3A%20%7B%7D%7D%2C%20%22type%22%3A%20%22Feature%22%7D%2C%20%7B%22bbox%22%3A%20%5B21.0356117%2C%2052.1555124%2C%2021.0356117%2C%2052.1555124%5D%2C%20%22geometry%22%3A%20%7B%22coordinates%22%3A%20%5B21.0356117%2C%2052.1555124%5D%2C%20%22type%22%3A%20%22Point%22%7D%2C%20%22id%22%3A%20%22139%22%2C%20%22properties%22%3A%20%7B%22highlight%22%3A%20%7B%7D%2C%20%22style%22%3A%20%7B%7D%7D%2C%20%22type%22%3A%20%22Feature%22%7D%2C%20%7B%22bbox%22%3A%20%5B21.0369144%2C%2052.1547185%2C%2021.0369144%2C%2052.1547185%5D%2C%20%22geometry%22%3A%20%7B%22coordinates%22%3A%20%5B21.0369144%2C%2052.1547185%5D%2C%20%22type%22%3A%20%22Point%22%7D%2C%20%22id%22%3A%20%22140%22%2C%20%22properties%22%3A%20%7B%22highlight%22%3A%20%7B%7D%2C%20%22style%22%3A%20%7B%7D%7D%2C%20%22type%22%3A%20%22Feature%22%7D%2C%20%7B%22bbox%22%3A%20%5B21.0373446%2C%2052.1544563%2C%2021.0373446%2C%2052.1544563%5D%2C%20%22geometry%22%3A%20%7B%22coordinates%22%3A%20%5B21.0373446%2C%2052.1544563%5D%2C%20%22type%22%3A%20%22Point%22%7D%2C%20%22id%22%3A%20%22141%22%2C%20%22properties%22%3A%20%7B%22highlight%22%3A%20%7B%7D%2C%20%22style%22%3A%20%7B%7D%7D%2C%20%22type%22%3A%20%22Feature%22%7D%2C%20%7B%22bbox%22%3A%20%5B21.0384116%2C%2052.153806%2C%2021.0384116%2C%2052.153806%5D%2C%20%22geometry%22%3A%20%7B%22coordinates%22%3A%20%5B21.0384116%2C%2052.153806%5D%2C%20%22type%22%3A%20%22Point%22%7D%2C%20%22id%22%3A%20%22142%22%2C%20%22properties%22%3A%20%7B%22highlight%22%3A%20%7B%7D%2C%20%22style%22%3A%20%7B%7D%7D%2C%20%22type%22%3A%20%22Feature%22%7D%2C%20%7B%22bbox%22%3A%20%5B21.045253%2C%2052.149735%2C%2021.045253%2C%2052.149735%5D%2C%20%22geometry%22%3A%20%7B%22coordinates%22%3A%20%5B21.045253%2C%2052.149735%5D%2C%20%22type%22%3A%20%22Point%22%7D%2C%20%22id%22%3A%20%22143%22%2C%20%22properties%22%3A%20%7B%22highlight%22%3A%20%7B%7D%2C%20%22style%22%3A%20%7B%7D%7D%2C%20%22type%22%3A%20%22Feature%22%7D%2C%20%7B%22bbox%22%3A%20%5B21.0461042%2C%2052.1492285%2C%2021.0461042%2C%2052.1492285%5D%2C%20%22geometry%22%3A%20%7B%22coordinates%22%3A%20%5B21.0461042%2C%2052.1492285%5D%2C%20%22type%22%3A%20%22Point%22%7D%2C%20%22id%22%3A%20%22144%22%2C%20%22properties%22%3A%20%7B%22highlight%22%3A%20%7B%7D%2C%20%22style%22%3A%20%7B%7D%7D%2C%20%22type%22%3A%20%22Feature%22%7D%2C%20%7B%22bbox%22%3A%20%5B21.0490425%2C%2052.1475432%2C%2021.0490425%2C%2052.1475432%5D%2C%20%22geometry%22%3A%20%7B%22coordinates%22%3A%20%5B21.0490425%2C%2052.1475432%5D%2C%20%22type%22%3A%20%22Point%22%7D%2C%20%22id%22%3A%20%22145%22%2C%20%22properties%22%3A%20%7B%22highlight%22%3A%20%7B%7D%2C%20%22style%22%3A%20%7B%7D%7D%2C%20%22type%22%3A%20%22Feature%22%7D%2C%20%7B%22bbox%22%3A%20%5B21.0501459%2C%2052.1467603%2C%2021.0501459%2C%2052.1467603%5D%2C%20%22geometry%22%3A%20%7B%22coordinates%22%3A%20%5B21.0501459%2C%2052.1467603%5D%2C%20%22type%22%3A%20%22Point%22%7D%2C%20%22id%22%3A%20%22146%22%2C%20%22properties%22%3A%20%7B%22highlight%22%3A%20%7B%7D%2C%20%22style%22%3A%20%7B%7D%7D%2C%20%22type%22%3A%20%22Feature%22%7D%2C%20%7B%22bbox%22%3A%20%5B21.0518633%2C%2052.145271%2C%2021.0518633%2C%2052.145271%5D%2C%20%22geometry%22%3A%20%7B%22coordinates%22%3A%20%5B21.0518633%2C%2052.145271%5D%2C%20%22type%22%3A%20%22Point%22%7D%2C%20%22id%22%3A%20%22147%22%2C%20%22properties%22%3A%20%7B%22highlight%22%3A%20%7B%7D%2C%20%22style%22%3A%20%7B%7D%7D%2C%20%22type%22%3A%20%22Feature%22%7D%2C%20%7B%22bbox%22%3A%20%5B21.0521796%2C%2052.1450008%2C%2021.0521796%2C%2052.1450008%5D%2C%20%22geometry%22%3A%20%7B%22coordinates%22%3A%20%5B21.0521796%2C%2052.1450008%5D%2C%20%22type%22%3A%20%22Point%22%7D%2C%20%22id%22%3A%20%22148%22%2C%20%22properties%22%3A%20%7B%22highlight%22%3A%20%7B%7D%2C%20%22style%22%3A%20%7B%7D%7D%2C%20%22type%22%3A%20%22Feature%22%7D%2C%20%7B%22bbox%22%3A%20%5B21.0522953%2C%2052.144902%2C%2021.0522953%2C%2052.144902%5D%2C%20%22geometry%22%3A%20%7B%22coordinates%22%3A%20%5B21.0522953%2C%2052.144902%5D%2C%20%22type%22%3A%20%22Point%22%7D%2C%20%22id%22%3A%20%22149%22%2C%20%22properties%22%3A%20%7B%22highlight%22%3A%20%7B%7D%2C%20%22style%22%3A%20%7B%7D%7D%2C%20%22type%22%3A%20%22Feature%22%7D%2C%20%7B%22bbox%22%3A%20%5B21.0553527%2C%2052.1420424%2C%2021.0553527%2C%2052.1420424%5D%2C%20%22geometry%22%3A%20%7B%22coordinates%22%3A%20%5B21.0553527%2C%2052.1420424%5D%2C%20%22type%22%3A%20%22Point%22%7D%2C%20%22id%22%3A%20%22150%22%2C%20%22properties%22%3A%20%7B%22highlight%22%3A%20%7B%7D%2C%20%22style%22%3A%20%7B%7D%7D%2C%20%22type%22%3A%20%22Feature%22%7D%2C%20%7B%22bbox%22%3A%20%5B21.0563547%2C%2052.141079%2C%2021.0563547%2C%2052.141079%5D%2C%20%22geometry%22%3A%20%7B%22coordinates%22%3A%20%5B21.0563547%2C%2052.141079%5D%2C%20%22type%22%3A%20%22Point%22%7D%2C%20%22id%22%3A%20%22151%22%2C%20%22properties%22%3A%20%7B%22highlight%22%3A%20%7B%7D%2C%20%22style%22%3A%20%7B%7D%7D%2C%20%22type%22%3A%20%22Feature%22%7D%2C%20%7B%22bbox%22%3A%20%5B21.0571889%2C%2052.1402768%2C%2021.0571889%2C%2052.1402768%5D%2C%20%22geometry%22%3A%20%7B%22coordinates%22%3A%20%5B21.0571889%2C%2052.1402768%5D%2C%20%22type%22%3A%20%22Point%22%7D%2C%20%22id%22%3A%20%22152%22%2C%20%22properties%22%3A%20%7B%22highlight%22%3A%20%7B%7D%2C%20%22style%22%3A%20%7B%7D%7D%2C%20%22type%22%3A%20%22Feature%22%7D%2C%20%7B%22bbox%22%3A%20%5B21.0578679%2C%2052.1395735%2C%2021.0578679%2C%2052.1395735%5D%2C%20%22geometry%22%3A%20%7B%22coordinates%22%3A%20%5B21.0578679%2C%2052.1395735%5D%2C%20%22type%22%3A%20%22Point%22%7D%2C%20%22id%22%3A%20%22153%22%2C%20%22properties%22%3A%20%7B%22highlight%22%3A%20%7B%7D%2C%20%22style%22%3A%20%7B%7D%7D%2C%20%22type%22%3A%20%22Feature%22%7D%2C%20%7B%22bbox%22%3A%20%5B21.0613965%2C%2052.1358522%2C%2021.0613965%2C%2052.1358522%5D%2C%20%22geometry%22%3A%20%7B%22coordinates%22%3A%20%5B21.0613965%2C%2052.1358522%5D%2C%20%22type%22%3A%20%22Point%22%7D%2C%20%22id%22%3A%20%22154%22%2C%20%22properties%22%3A%20%7B%22highlight%22%3A%20%7B%7D%2C%20%22style%22%3A%20%7B%7D%7D%2C%20%22type%22%3A%20%22Feature%22%7D%2C%20%7B%22bbox%22%3A%20%5B21.06276%2C%2052.1344027%2C%2021.06276%2C%2052.1344027%5D%2C%20%22geometry%22%3A%20%7B%22coordinates%22%3A%20%5B21.06276%2C%2052.1344027%5D%2C%20%22type%22%3A%20%22Point%22%7D%2C%20%22id%22%3A%20%22155%22%2C%20%22properties%22%3A%20%7B%22highlight%22%3A%20%7B%7D%2C%20%22style%22%3A%20%7B%7D%7D%2C%20%22type%22%3A%20%22Feature%22%7D%2C%20%7B%22bbox%22%3A%20%5B21.0649742%2C%2052.1320569%2C%2021.0649742%2C%2052.1320569%5D%2C%20%22geometry%22%3A%20%7B%22coordinates%22%3A%20%5B21.0649742%2C%2052.1320569%5D%2C%20%22type%22%3A%20%22Point%22%7D%2C%20%22id%22%3A%20%22156%22%2C%20%22properties%22%3A%20%7B%22highlight%22%3A%20%7B%7D%2C%20%22style%22%3A%20%7B%7D%7D%2C%20%22type%22%3A%20%22Feature%22%7D%5D%2C%20%22type%22%3A%20%22FeatureCollection%22%7D%2C%0A%20%20%20%20%20%20%20%20%20%20%20%20%7B%0A%20%20%20%20%20%20%20%20%20%20%20%20%7D%0A%20%20%20%20%20%20%20%20%29.addTo%28map_884eede192eb4ba99f891899a33eda9f%20%29%3B%0A%20%20%20%20%20%20%20%20geo_json_854413fb84184308aa85a34ef260172d.setStyle%28function%28feature%29%20%7Breturn%20feature.properties.style%3B%7D%29%3B%0A%20%20%20%20%20%20%20%20%0A%20%20%20%20%0A%20%20%20%20%20%20%20%20%20%20%20%20%20%20%20%20%0A%0A%20%20%20%20%20%20%20%20%20%20%20%20%20%20%20%20map_884eede192eb4ba99f891899a33eda9f.fitBounds%28%0A%20%20%20%20%20%20%20%20%20%20%20%20%20%20%20%20%20%20%20%20%5B%5B52.2929426%2C%2020.925314%5D%2C%20%5B52.1246827%2C%2021.0729117%5D%5D%2C%0A%20%20%20%20%20%20%20%20%20%20%20%20%20%20%20%20%20%20%20%20%7B%7D%0A%20%20%20%20%20%20%20%20%20%20%20%20%20%20%20%20%20%20%20%20%29%3B%0A%20%20%20%20%20%20%20%20%20%20%20%20%0A%3C/script%3E onload=\"this.contentDocument.open();this.contentDocument.write(    decodeURIComponent(this.getAttribute('data-html')));this.contentDocument.close();\" allowfullscreen webkitallowfullscreen mozallowfullscreen></iframe></div></div>"
            ],
            "text/plain": [
              "<folium.folium.Map at 0x7fc793447950>"
            ]
          },
          "metadata": {
            "tags": []
          },
          "execution_count": 105
        }
      ]
    },
    {
      "cell_type": "code",
      "metadata": {
        "id": "9dMTeRq3BMFp"
      },
      "source": [
        ""
      ],
      "execution_count": null,
      "outputs": []
    },
    {
      "cell_type": "code",
      "metadata": {
        "id": "FDYYsXVwBL-w"
      },
      "source": [
        ""
      ],
      "execution_count": null,
      "outputs": []
    },
    {
      "cell_type": "code",
      "metadata": {
        "id": "q5ixU_Gz8Ggd",
        "outputId": "f18f302d-12f3-4a07-f144-aedc5d59ef5b",
        "colab": {
          "base_uri": "https://localhost:8080/",
          "height": 407
        }
      },
      "source": [
        "df"
      ],
      "execution_count": 33,
      "outputs": [
        {
          "output_type": "execute_result",
          "data": {
            "text/html": [
              "<div>\n",
              "<style scoped>\n",
              "    .dataframe tbody tr th:only-of-type {\n",
              "        vertical-align: middle;\n",
              "    }\n",
              "\n",
              "    .dataframe tbody tr th {\n",
              "        vertical-align: top;\n",
              "    }\n",
              "\n",
              "    .dataframe thead th {\n",
              "        text-align: right;\n",
              "    }\n",
              "</style>\n",
              "<table border=\"1\" class=\"dataframe\">\n",
              "  <thead>\n",
              "    <tr style=\"text-align: right;\">\n",
              "      <th></th>\n",
              "      <th>osm_id</th>\n",
              "      <th>code</th>\n",
              "      <th>fclass</th>\n",
              "      <th>name</th>\n",
              "      <th>layer</th>\n",
              "      <th>bridge</th>\n",
              "      <th>tunnel</th>\n",
              "      <th>geometry</th>\n",
              "    </tr>\n",
              "  </thead>\n",
              "  <tbody>\n",
              "    <tr>\n",
              "      <th>33</th>\n",
              "      <td>5111165</td>\n",
              "      <td>6103</td>\n",
              "      <td>subway</td>\n",
              "      <td>Linia metra M1</td>\n",
              "      <td>-3</td>\n",
              "      <td>F</td>\n",
              "      <td>T</td>\n",
              "      <td>LINESTRING (20.92881 52.29117, 20.92979 52.290...</td>\n",
              "    </tr>\n",
              "    <tr>\n",
              "      <th>1296</th>\n",
              "      <td>173159217</td>\n",
              "      <td>6103</td>\n",
              "      <td>subway</td>\n",
              "      <td>Linia metra M2</td>\n",
              "      <td>-4</td>\n",
              "      <td>F</td>\n",
              "      <td>T</td>\n",
              "      <td>LINESTRING (21.00176 52.23376, 21.00356 52.234...</td>\n",
              "    </tr>\n",
              "    <tr>\n",
              "      <th>1915</th>\n",
              "      <td>220730440</td>\n",
              "      <td>6103</td>\n",
              "      <td>subway</td>\n",
              "      <td>None</td>\n",
              "      <td>0</td>\n",
              "      <td>F</td>\n",
              "      <td>F</td>\n",
              "      <td>LINESTRING (21.05628 52.12553, 21.05702 52.125...</td>\n",
              "    </tr>\n",
              "    <tr>\n",
              "      <th>1917</th>\n",
              "      <td>220730446</td>\n",
              "      <td>6103</td>\n",
              "      <td>subway</td>\n",
              "      <td>None</td>\n",
              "      <td>0</td>\n",
              "      <td>F</td>\n",
              "      <td>F</td>\n",
              "      <td>LINESTRING (21.05596 52.12593, 21.05611 52.125...</td>\n",
              "    </tr>\n",
              "    <tr>\n",
              "      <th>1918</th>\n",
              "      <td>220730447</td>\n",
              "      <td>6103</td>\n",
              "      <td>subway</td>\n",
              "      <td>None</td>\n",
              "      <td>0</td>\n",
              "      <td>F</td>\n",
              "      <td>F</td>\n",
              "      <td>LINESTRING (21.05546 52.12622, 21.05569 52.12606)</td>\n",
              "    </tr>\n",
              "    <tr>\n",
              "      <th>...</th>\n",
              "      <td>...</td>\n",
              "      <td>...</td>\n",
              "      <td>...</td>\n",
              "      <td>...</td>\n",
              "      <td>...</td>\n",
              "      <td>...</td>\n",
              "      <td>...</td>\n",
              "      <td>...</td>\n",
              "    </tr>\n",
              "    <tr>\n",
              "      <th>6340</th>\n",
              "      <td>725681123</td>\n",
              "      <td>6103</td>\n",
              "      <td>subway</td>\n",
              "      <td>Tory odstawcze przy stacji Kabaty</td>\n",
              "      <td>-3</td>\n",
              "      <td>F</td>\n",
              "      <td>T</td>\n",
              "      <td>LINESTRING (21.06625 52.13094, 21.06612 52.13108)</td>\n",
              "    </tr>\n",
              "    <tr>\n",
              "      <th>6341</th>\n",
              "      <td>725681124</td>\n",
              "      <td>6103</td>\n",
              "      <td>subway</td>\n",
              "      <td>Tory odstawcze przy stacji Kabaty</td>\n",
              "      <td>-3</td>\n",
              "      <td>F</td>\n",
              "      <td>T</td>\n",
              "      <td>LINESTRING (21.06871 52.12831, 21.06784 52.129...</td>\n",
              "    </tr>\n",
              "    <tr>\n",
              "      <th>6342</th>\n",
              "      <td>725681125</td>\n",
              "      <td>6103</td>\n",
              "      <td>subway</td>\n",
              "      <td>Tory odstawcze przy stacji Kabaty</td>\n",
              "      <td>-3</td>\n",
              "      <td>F</td>\n",
              "      <td>T</td>\n",
              "      <td>LINESTRING (21.06625 52.13094, 21.06674 52.130...</td>\n",
              "    </tr>\n",
              "    <tr>\n",
              "      <th>6730</th>\n",
              "      <td>894901651</td>\n",
              "      <td>6103</td>\n",
              "      <td>subway</td>\n",
              "      <td>Linia metra M2</td>\n",
              "      <td>-4</td>\n",
              "      <td>F</td>\n",
              "      <td>T</td>\n",
              "      <td>LINESTRING (20.98203 52.22984, 20.98289 52.229...</td>\n",
              "    </tr>\n",
              "    <tr>\n",
              "      <th>6731</th>\n",
              "      <td>894901652</td>\n",
              "      <td>6103</td>\n",
              "      <td>subway</td>\n",
              "      <td>Linia metra M2</td>\n",
              "      <td>-4</td>\n",
              "      <td>F</td>\n",
              "      <td>T</td>\n",
              "      <td>LINESTRING (20.98377 52.23031, 20.98281 52.230...</td>\n",
              "    </tr>\n",
              "  </tbody>\n",
              "</table>\n",
              "<p>138 rows × 8 columns</p>\n",
              "</div>"
            ],
            "text/plain": [
              "         osm_id  code  ... tunnel                                           geometry\n",
              "33      5111165  6103  ...      T  LINESTRING (20.92881 52.29117, 20.92979 52.290...\n",
              "1296  173159217  6103  ...      T  LINESTRING (21.00176 52.23376, 21.00356 52.234...\n",
              "1915  220730440  6103  ...      F  LINESTRING (21.05628 52.12553, 21.05702 52.125...\n",
              "1917  220730446  6103  ...      F  LINESTRING (21.05596 52.12593, 21.05611 52.125...\n",
              "1918  220730447  6103  ...      F  LINESTRING (21.05546 52.12622, 21.05569 52.12606)\n",
              "...         ...   ...  ...    ...                                                ...\n",
              "6340  725681123  6103  ...      T  LINESTRING (21.06625 52.13094, 21.06612 52.13108)\n",
              "6341  725681124  6103  ...      T  LINESTRING (21.06871 52.12831, 21.06784 52.129...\n",
              "6342  725681125  6103  ...      T  LINESTRING (21.06625 52.13094, 21.06674 52.130...\n",
              "6730  894901651  6103  ...      T  LINESTRING (20.98203 52.22984, 20.98289 52.229...\n",
              "6731  894901652  6103  ...      T  LINESTRING (20.98377 52.23031, 20.98281 52.230...\n",
              "\n",
              "[138 rows x 8 columns]"
            ]
          },
          "metadata": {
            "tags": []
          },
          "execution_count": 33
        }
      ]
    },
    {
      "cell_type": "code",
      "metadata": {
        "id": "91jIKp5ABHik"
      },
      "source": [
        ""
      ],
      "execution_count": null,
      "outputs": []
    },
    {
      "cell_type": "code",
      "metadata": {
        "id": "JEKIi6fK8c_w",
        "outputId": "7a58bd86-31e7-4bfa-d0c4-1a7369df82e2",
        "colab": {
          "base_uri": "https://localhost:8080/",
          "height": 48
        }
      },
      "source": [
        "df[df.name == \"Linia metra M2\"]"
      ],
      "execution_count": 70,
      "outputs": [
        {
          "output_type": "execute_result",
          "data": {
            "text/html": [
              "<div>\n",
              "<style scoped>\n",
              "    .dataframe tbody tr th:only-of-type {\n",
              "        vertical-align: middle;\n",
              "    }\n",
              "\n",
              "    .dataframe tbody tr th {\n",
              "        vertical-align: top;\n",
              "    }\n",
              "\n",
              "    .dataframe thead th {\n",
              "        text-align: right;\n",
              "    }\n",
              "</style>\n",
              "<table border=\"1\" class=\"dataframe\">\n",
              "  <thead>\n",
              "    <tr style=\"text-align: right;\">\n",
              "      <th></th>\n",
              "      <th>osm_id</th>\n",
              "      <th>code</th>\n",
              "      <th>fclass</th>\n",
              "      <th>name</th>\n",
              "      <th>layer</th>\n",
              "      <th>bridge</th>\n",
              "      <th>tunnel</th>\n",
              "      <th>geometry</th>\n",
              "    </tr>\n",
              "  </thead>\n",
              "  <tbody>\n",
              "  </tbody>\n",
              "</table>\n",
              "</div>"
            ],
            "text/plain": [
              "Empty GeoDataFrame\n",
              "Columns: [osm_id, code, fclass, name, layer, bridge, tunnel, geometry]\n",
              "Index: []"
            ]
          },
          "metadata": {
            "tags": []
          },
          "execution_count": 70
        }
      ]
    },
    {
      "cell_type": "code",
      "metadata": {
        "id": "cwmrZF3F_uga",
        "outputId": "06d5fb7a-4d53-45c4-96b7-a6dfbb28c265",
        "colab": {
          "base_uri": "https://localhost:8080/",
          "height": 536
        }
      },
      "source": [
        "df.loc[\"5563\"]"
      ],
      "execution_count": 69,
      "outputs": [
        {
          "output_type": "error",
          "ename": "KeyError",
          "evalue": "ignored",
          "traceback": [
            "\u001b[0;31m---------------------------------------------------------------------------\u001b[0m",
            "\u001b[0;31mKeyError\u001b[0m                                  Traceback (most recent call last)",
            "\u001b[0;32m/usr/local/lib/python3.7/dist-packages/pandas/core/indexes/base.py\u001b[0m in \u001b[0;36mget_loc\u001b[0;34m(self, key, method, tolerance)\u001b[0m\n\u001b[1;32m   2897\u001b[0m             \u001b[0;32mtry\u001b[0m\u001b[0;34m:\u001b[0m\u001b[0;34m\u001b[0m\u001b[0;34m\u001b[0m\u001b[0m\n\u001b[0;32m-> 2898\u001b[0;31m                 \u001b[0;32mreturn\u001b[0m \u001b[0mself\u001b[0m\u001b[0;34m.\u001b[0m\u001b[0m_engine\u001b[0m\u001b[0;34m.\u001b[0m\u001b[0mget_loc\u001b[0m\u001b[0;34m(\u001b[0m\u001b[0mcasted_key\u001b[0m\u001b[0;34m)\u001b[0m\u001b[0;34m\u001b[0m\u001b[0;34m\u001b[0m\u001b[0m\n\u001b[0m\u001b[1;32m   2899\u001b[0m             \u001b[0;32mexcept\u001b[0m \u001b[0mKeyError\u001b[0m \u001b[0;32mas\u001b[0m \u001b[0merr\u001b[0m\u001b[0;34m:\u001b[0m\u001b[0;34m\u001b[0m\u001b[0;34m\u001b[0m\u001b[0m\n",
            "\u001b[0;32mpandas/_libs/index.pyx\u001b[0m in \u001b[0;36mpandas._libs.index.IndexEngine.get_loc\u001b[0;34m()\u001b[0m\n",
            "\u001b[0;32mpandas/_libs/index.pyx\u001b[0m in \u001b[0;36mpandas._libs.index.IndexEngine.get_loc\u001b[0;34m()\u001b[0m\n",
            "\u001b[0;32mpandas/_libs/index_class_helper.pxi\u001b[0m in \u001b[0;36mpandas._libs.index.Int64Engine._check_type\u001b[0;34m()\u001b[0m\n",
            "\u001b[0;31mKeyError\u001b[0m: '5563'",
            "\nThe above exception was the direct cause of the following exception:\n",
            "\u001b[0;31mKeyError\u001b[0m                                  Traceback (most recent call last)",
            "\u001b[0;32m<ipython-input-69-4e101e7fb793>\u001b[0m in \u001b[0;36m<module>\u001b[0;34m()\u001b[0m\n\u001b[0;32m----> 1\u001b[0;31m \u001b[0mdf\u001b[0m\u001b[0;34m.\u001b[0m\u001b[0mloc\u001b[0m\u001b[0;34m[\u001b[0m\u001b[0;34m\"5563\"\u001b[0m\u001b[0;34m]\u001b[0m\u001b[0;34m\u001b[0m\u001b[0;34m\u001b[0m\u001b[0m\n\u001b[0m",
            "\u001b[0;32m/usr/local/lib/python3.7/dist-packages/pandas/core/indexing.py\u001b[0m in \u001b[0;36m__getitem__\u001b[0;34m(self, key)\u001b[0m\n\u001b[1;32m    877\u001b[0m \u001b[0;34m\u001b[0m\u001b[0m\n\u001b[1;32m    878\u001b[0m             \u001b[0mmaybe_callable\u001b[0m \u001b[0;34m=\u001b[0m \u001b[0mcom\u001b[0m\u001b[0;34m.\u001b[0m\u001b[0mapply_if_callable\u001b[0m\u001b[0;34m(\u001b[0m\u001b[0mkey\u001b[0m\u001b[0;34m,\u001b[0m \u001b[0mself\u001b[0m\u001b[0;34m.\u001b[0m\u001b[0mobj\u001b[0m\u001b[0;34m)\u001b[0m\u001b[0;34m\u001b[0m\u001b[0;34m\u001b[0m\u001b[0m\n\u001b[0;32m--> 879\u001b[0;31m             \u001b[0;32mreturn\u001b[0m \u001b[0mself\u001b[0m\u001b[0;34m.\u001b[0m\u001b[0m_getitem_axis\u001b[0m\u001b[0;34m(\u001b[0m\u001b[0mmaybe_callable\u001b[0m\u001b[0;34m,\u001b[0m \u001b[0maxis\u001b[0m\u001b[0;34m=\u001b[0m\u001b[0maxis\u001b[0m\u001b[0;34m)\u001b[0m\u001b[0;34m\u001b[0m\u001b[0;34m\u001b[0m\u001b[0m\n\u001b[0m\u001b[1;32m    880\u001b[0m \u001b[0;34m\u001b[0m\u001b[0m\n\u001b[1;32m    881\u001b[0m     \u001b[0;32mdef\u001b[0m \u001b[0m_is_scalar_access\u001b[0m\u001b[0;34m(\u001b[0m\u001b[0mself\u001b[0m\u001b[0;34m,\u001b[0m \u001b[0mkey\u001b[0m\u001b[0;34m:\u001b[0m \u001b[0mTuple\u001b[0m\u001b[0;34m)\u001b[0m\u001b[0;34m:\u001b[0m\u001b[0;34m\u001b[0m\u001b[0;34m\u001b[0m\u001b[0m\n",
            "\u001b[0;32m/usr/local/lib/python3.7/dist-packages/pandas/core/indexing.py\u001b[0m in \u001b[0;36m_getitem_axis\u001b[0;34m(self, key, axis)\u001b[0m\n\u001b[1;32m   1108\u001b[0m         \u001b[0;31m# fall thru to straight lookup\u001b[0m\u001b[0;34m\u001b[0m\u001b[0;34m\u001b[0m\u001b[0;34m\u001b[0m\u001b[0m\n\u001b[1;32m   1109\u001b[0m         \u001b[0mself\u001b[0m\u001b[0;34m.\u001b[0m\u001b[0m_validate_key\u001b[0m\u001b[0;34m(\u001b[0m\u001b[0mkey\u001b[0m\u001b[0;34m,\u001b[0m \u001b[0maxis\u001b[0m\u001b[0;34m)\u001b[0m\u001b[0;34m\u001b[0m\u001b[0;34m\u001b[0m\u001b[0m\n\u001b[0;32m-> 1110\u001b[0;31m         \u001b[0;32mreturn\u001b[0m \u001b[0mself\u001b[0m\u001b[0;34m.\u001b[0m\u001b[0m_get_label\u001b[0m\u001b[0;34m(\u001b[0m\u001b[0mkey\u001b[0m\u001b[0;34m,\u001b[0m \u001b[0maxis\u001b[0m\u001b[0;34m=\u001b[0m\u001b[0maxis\u001b[0m\u001b[0;34m)\u001b[0m\u001b[0;34m\u001b[0m\u001b[0;34m\u001b[0m\u001b[0m\n\u001b[0m\u001b[1;32m   1111\u001b[0m \u001b[0;34m\u001b[0m\u001b[0m\n\u001b[1;32m   1112\u001b[0m     \u001b[0;32mdef\u001b[0m \u001b[0m_get_slice_axis\u001b[0m\u001b[0;34m(\u001b[0m\u001b[0mself\u001b[0m\u001b[0;34m,\u001b[0m \u001b[0mslice_obj\u001b[0m\u001b[0;34m:\u001b[0m \u001b[0mslice\u001b[0m\u001b[0;34m,\u001b[0m \u001b[0maxis\u001b[0m\u001b[0;34m:\u001b[0m \u001b[0mint\u001b[0m\u001b[0;34m)\u001b[0m\u001b[0;34m:\u001b[0m\u001b[0;34m\u001b[0m\u001b[0;34m\u001b[0m\u001b[0m\n",
            "\u001b[0;32m/usr/local/lib/python3.7/dist-packages/pandas/core/indexing.py\u001b[0m in \u001b[0;36m_get_label\u001b[0;34m(self, label, axis)\u001b[0m\n\u001b[1;32m   1057\u001b[0m     \u001b[0;32mdef\u001b[0m \u001b[0m_get_label\u001b[0m\u001b[0;34m(\u001b[0m\u001b[0mself\u001b[0m\u001b[0;34m,\u001b[0m \u001b[0mlabel\u001b[0m\u001b[0;34m,\u001b[0m \u001b[0maxis\u001b[0m\u001b[0;34m:\u001b[0m \u001b[0mint\u001b[0m\u001b[0;34m)\u001b[0m\u001b[0;34m:\u001b[0m\u001b[0;34m\u001b[0m\u001b[0;34m\u001b[0m\u001b[0m\n\u001b[1;32m   1058\u001b[0m         \u001b[0;31m# GH#5667 this will fail if the label is not present in the axis.\u001b[0m\u001b[0;34m\u001b[0m\u001b[0;34m\u001b[0m\u001b[0;34m\u001b[0m\u001b[0m\n\u001b[0;32m-> 1059\u001b[0;31m         \u001b[0;32mreturn\u001b[0m \u001b[0mself\u001b[0m\u001b[0;34m.\u001b[0m\u001b[0mobj\u001b[0m\u001b[0;34m.\u001b[0m\u001b[0mxs\u001b[0m\u001b[0;34m(\u001b[0m\u001b[0mlabel\u001b[0m\u001b[0;34m,\u001b[0m \u001b[0maxis\u001b[0m\u001b[0;34m=\u001b[0m\u001b[0maxis\u001b[0m\u001b[0;34m)\u001b[0m\u001b[0;34m\u001b[0m\u001b[0;34m\u001b[0m\u001b[0m\n\u001b[0m\u001b[1;32m   1060\u001b[0m \u001b[0;34m\u001b[0m\u001b[0m\n\u001b[1;32m   1061\u001b[0m     \u001b[0;32mdef\u001b[0m \u001b[0m_handle_lowerdim_multi_index_axis0\u001b[0m\u001b[0;34m(\u001b[0m\u001b[0mself\u001b[0m\u001b[0;34m,\u001b[0m \u001b[0mtup\u001b[0m\u001b[0;34m:\u001b[0m \u001b[0mTuple\u001b[0m\u001b[0;34m)\u001b[0m\u001b[0;34m:\u001b[0m\u001b[0;34m\u001b[0m\u001b[0;34m\u001b[0m\u001b[0m\n",
            "\u001b[0;32m/usr/local/lib/python3.7/dist-packages/pandas/core/generic.py\u001b[0m in \u001b[0;36mxs\u001b[0;34m(self, key, axis, level, drop_level)\u001b[0m\n\u001b[1;32m   3491\u001b[0m             \u001b[0mloc\u001b[0m\u001b[0;34m,\u001b[0m \u001b[0mnew_index\u001b[0m \u001b[0;34m=\u001b[0m \u001b[0mself\u001b[0m\u001b[0;34m.\u001b[0m\u001b[0mindex\u001b[0m\u001b[0;34m.\u001b[0m\u001b[0mget_loc_level\u001b[0m\u001b[0;34m(\u001b[0m\u001b[0mkey\u001b[0m\u001b[0;34m,\u001b[0m \u001b[0mdrop_level\u001b[0m\u001b[0;34m=\u001b[0m\u001b[0mdrop_level\u001b[0m\u001b[0;34m)\u001b[0m\u001b[0;34m\u001b[0m\u001b[0;34m\u001b[0m\u001b[0m\n\u001b[1;32m   3492\u001b[0m         \u001b[0;32melse\u001b[0m\u001b[0;34m:\u001b[0m\u001b[0;34m\u001b[0m\u001b[0;34m\u001b[0m\u001b[0m\n\u001b[0;32m-> 3493\u001b[0;31m             \u001b[0mloc\u001b[0m \u001b[0;34m=\u001b[0m \u001b[0mself\u001b[0m\u001b[0;34m.\u001b[0m\u001b[0mindex\u001b[0m\u001b[0;34m.\u001b[0m\u001b[0mget_loc\u001b[0m\u001b[0;34m(\u001b[0m\u001b[0mkey\u001b[0m\u001b[0;34m)\u001b[0m\u001b[0;34m\u001b[0m\u001b[0;34m\u001b[0m\u001b[0m\n\u001b[0m\u001b[1;32m   3494\u001b[0m \u001b[0;34m\u001b[0m\u001b[0m\n\u001b[1;32m   3495\u001b[0m             \u001b[0;32mif\u001b[0m \u001b[0misinstance\u001b[0m\u001b[0;34m(\u001b[0m\u001b[0mloc\u001b[0m\u001b[0;34m,\u001b[0m \u001b[0mnp\u001b[0m\u001b[0;34m.\u001b[0m\u001b[0mndarray\u001b[0m\u001b[0;34m)\u001b[0m\u001b[0;34m:\u001b[0m\u001b[0;34m\u001b[0m\u001b[0;34m\u001b[0m\u001b[0m\n",
            "\u001b[0;32m/usr/local/lib/python3.7/dist-packages/pandas/core/indexes/base.py\u001b[0m in \u001b[0;36mget_loc\u001b[0;34m(self, key, method, tolerance)\u001b[0m\n\u001b[1;32m   2898\u001b[0m                 \u001b[0;32mreturn\u001b[0m \u001b[0mself\u001b[0m\u001b[0;34m.\u001b[0m\u001b[0m_engine\u001b[0m\u001b[0;34m.\u001b[0m\u001b[0mget_loc\u001b[0m\u001b[0;34m(\u001b[0m\u001b[0mcasted_key\u001b[0m\u001b[0;34m)\u001b[0m\u001b[0;34m\u001b[0m\u001b[0;34m\u001b[0m\u001b[0m\n\u001b[1;32m   2899\u001b[0m             \u001b[0;32mexcept\u001b[0m \u001b[0mKeyError\u001b[0m \u001b[0;32mas\u001b[0m \u001b[0merr\u001b[0m\u001b[0;34m:\u001b[0m\u001b[0;34m\u001b[0m\u001b[0;34m\u001b[0m\u001b[0m\n\u001b[0;32m-> 2900\u001b[0;31m                 \u001b[0;32mraise\u001b[0m \u001b[0mKeyError\u001b[0m\u001b[0;34m(\u001b[0m\u001b[0mkey\u001b[0m\u001b[0;34m)\u001b[0m \u001b[0;32mfrom\u001b[0m \u001b[0merr\u001b[0m\u001b[0;34m\u001b[0m\u001b[0;34m\u001b[0m\u001b[0m\n\u001b[0m\u001b[1;32m   2901\u001b[0m \u001b[0;34m\u001b[0m\u001b[0m\n\u001b[1;32m   2902\u001b[0m         \u001b[0;32mif\u001b[0m \u001b[0mtolerance\u001b[0m \u001b[0;32mis\u001b[0m \u001b[0;32mnot\u001b[0m \u001b[0;32mNone\u001b[0m\u001b[0;34m:\u001b[0m\u001b[0;34m\u001b[0m\u001b[0;34m\u001b[0m\u001b[0m\n",
            "\u001b[0;31mKeyError\u001b[0m: '5563'"
          ]
        }
      ]
    },
    {
      "cell_type": "code",
      "metadata": {
        "id": "yUwJO2G78OPi",
        "outputId": "d939e493-a586-4185-f942-e9bfd71c2710",
        "colab": {
          "base_uri": "https://localhost:8080/",
          "height": 992
        }
      },
      "source": [
        "m = folium.Map(location=[nodes[\"geometry\"].y.mean() , nodes[\"geometry\"].x.mean()], \n",
        "               tiles=\"cartodbpositron\"\n",
        "               )\n",
        "\n",
        "folium.GeoJson(\n",
        "    df[df.name == \"Linia metra M2\"]\n",
        ").add_to(m)\n",
        "\n",
        "\n",
        "x_min = nodes[\"geometry\"].x.min()\n",
        "x_max = nodes[\"geometry\"].x.max()\n",
        "y_min = nodes[\"geometry\"].y.min()\n",
        "y_max = nodes[\"geometry\"].y.max()\n",
        "\n",
        "# szukanie lewego górnego rogu i dolnego prawego\n",
        "m.fit_bounds([[y_max , x_min], [y_min , x_max]]) \n",
        "\n",
        "m"
      ],
      "execution_count": 38,
      "outputs": [
        {
          "output_type": "execute_result",
          "data": {
            "text/html": [
              "<div style=\"width:100%;\"><div style=\"position:relative;width:100%;height:0;padding-bottom:60%;\"><span style=\"color:#565656\">Make this Notebook Trusted to load map: File -> Trust Notebook</span><iframe src=\"about:blank\" style=\"position:absolute;width:100%;height:100%;left:0;top:0;border:none !important;\" data-html=%3C%21DOCTYPE%20html%3E%0A%3Chead%3E%20%20%20%20%0A%20%20%20%20%3Cmeta%20http-equiv%3D%22content-type%22%20content%3D%22text/html%3B%20charset%3DUTF-8%22%20/%3E%0A%20%20%20%20%3Cscript%3EL_PREFER_CANVAS%3Dfalse%3B%20L_NO_TOUCH%3Dfalse%3B%20L_DISABLE_3D%3Dfalse%3B%3C/script%3E%0A%20%20%20%20%3Cscript%20src%3D%22https%3A//cdn.jsdelivr.net/npm/leaflet%401.4.0/dist/leaflet.js%22%3E%3C/script%3E%0A%20%20%20%20%3Cscript%20src%3D%22https%3A//code.jquery.com/jquery-1.12.4.min.js%22%3E%3C/script%3E%0A%20%20%20%20%3Cscript%20src%3D%22https%3A//maxcdn.bootstrapcdn.com/bootstrap/3.2.0/js/bootstrap.min.js%22%3E%3C/script%3E%0A%20%20%20%20%3Cscript%20src%3D%22https%3A//cdnjs.cloudflare.com/ajax/libs/Leaflet.awesome-markers/2.0.2/leaflet.awesome-markers.js%22%3E%3C/script%3E%0A%20%20%20%20%3Clink%20rel%3D%22stylesheet%22%20href%3D%22https%3A//cdn.jsdelivr.net/npm/leaflet%401.4.0/dist/leaflet.css%22/%3E%0A%20%20%20%20%3Clink%20rel%3D%22stylesheet%22%20href%3D%22https%3A//maxcdn.bootstrapcdn.com/bootstrap/3.2.0/css/bootstrap.min.css%22/%3E%0A%20%20%20%20%3Clink%20rel%3D%22stylesheet%22%20href%3D%22https%3A//maxcdn.bootstrapcdn.com/bootstrap/3.2.0/css/bootstrap-theme.min.css%22/%3E%0A%20%20%20%20%3Clink%20rel%3D%22stylesheet%22%20href%3D%22https%3A//maxcdn.bootstrapcdn.com/font-awesome/4.6.3/css/font-awesome.min.css%22/%3E%0A%20%20%20%20%3Clink%20rel%3D%22stylesheet%22%20href%3D%22https%3A//cdnjs.cloudflare.com/ajax/libs/Leaflet.awesome-markers/2.0.2/leaflet.awesome-markers.css%22/%3E%0A%20%20%20%20%3Clink%20rel%3D%22stylesheet%22%20href%3D%22https%3A//rawcdn.githack.com/python-visualization/folium/master/folium/templates/leaflet.awesome.rotate.css%22/%3E%0A%20%20%20%20%3Cstyle%3Ehtml%2C%20body%20%7Bwidth%3A%20100%25%3Bheight%3A%20100%25%3Bmargin%3A%200%3Bpadding%3A%200%3B%7D%3C/style%3E%0A%20%20%20%20%3Cstyle%3E%23map%20%7Bposition%3Aabsolute%3Btop%3A0%3Bbottom%3A0%3Bright%3A0%3Bleft%3A0%3B%7D%3C/style%3E%0A%20%20%20%20%0A%20%20%20%20%3Cmeta%20name%3D%22viewport%22%20content%3D%22width%3Ddevice-width%2C%0A%20%20%20%20%20%20%20%20initial-scale%3D1.0%2C%20maximum-scale%3D1.0%2C%20user-scalable%3Dno%22%20/%3E%0A%20%20%20%20%3Cstyle%3E%23map_add7d311e28c41889e148ecaf9286b12%20%7B%0A%20%20%20%20%20%20%20%20position%3A%20relative%3B%0A%20%20%20%20%20%20%20%20width%3A%20100.0%25%3B%0A%20%20%20%20%20%20%20%20height%3A%20100.0%25%3B%0A%20%20%20%20%20%20%20%20left%3A%200.0%25%3B%0A%20%20%20%20%20%20%20%20top%3A%200.0%25%3B%0A%20%20%20%20%20%20%20%20%7D%0A%20%20%20%20%3C/style%3E%0A%3C/head%3E%0A%3Cbody%3E%20%20%20%20%0A%20%20%20%20%0A%20%20%20%20%3Cdiv%20class%3D%22folium-map%22%20id%3D%22map_add7d311e28c41889e148ecaf9286b12%22%20%3E%3C/div%3E%0A%3C/body%3E%0A%3Cscript%3E%20%20%20%20%0A%20%20%20%20%0A%20%20%20%20%0A%20%20%20%20%20%20%20%20var%20bounds%20%3D%20null%3B%0A%20%20%20%20%0A%0A%20%20%20%20var%20map_add7d311e28c41889e148ecaf9286b12%20%3D%20L.map%28%0A%20%20%20%20%20%20%20%20%27map_add7d311e28c41889e148ecaf9286b12%27%2C%20%7B%0A%20%20%20%20%20%20%20%20center%3A%20%5B52.19167069210728%2C%2021.031042492256166%5D%2C%0A%20%20%20%20%20%20%20%20zoom%3A%2010%2C%0A%20%20%20%20%20%20%20%20maxBounds%3A%20bounds%2C%0A%20%20%20%20%20%20%20%20layers%3A%20%5B%5D%2C%0A%20%20%20%20%20%20%20%20worldCopyJump%3A%20false%2C%0A%20%20%20%20%20%20%20%20crs%3A%20L.CRS.EPSG3857%2C%0A%20%20%20%20%20%20%20%20zoomControl%3A%20true%2C%0A%20%20%20%20%20%20%20%20%7D%29%3B%0A%0A%0A%20%20%20%20%0A%20%20%20%20var%20tile_layer_9778e1fdaa3f4539ad750278d711afaf%20%3D%20L.tileLayer%28%0A%20%20%20%20%20%20%20%20%27https%3A//cartodb-basemaps-%7Bs%7D.global.ssl.fastly.net/light_all/%7Bz%7D/%7Bx%7D/%7By%7D.png%27%2C%0A%20%20%20%20%20%20%20%20%7B%0A%20%20%20%20%20%20%20%20%22attribution%22%3A%20null%2C%0A%20%20%20%20%20%20%20%20%22detectRetina%22%3A%20false%2C%0A%20%20%20%20%20%20%20%20%22maxNativeZoom%22%3A%2018%2C%0A%20%20%20%20%20%20%20%20%22maxZoom%22%3A%2018%2C%0A%20%20%20%20%20%20%20%20%22minZoom%22%3A%200%2C%0A%20%20%20%20%20%20%20%20%22noWrap%22%3A%20false%2C%0A%20%20%20%20%20%20%20%20%22opacity%22%3A%201%2C%0A%20%20%20%20%20%20%20%20%22subdomains%22%3A%20%22abc%22%2C%0A%20%20%20%20%20%20%20%20%22tms%22%3A%20false%0A%7D%29.addTo%28map_add7d311e28c41889e148ecaf9286b12%29%3B%0A%20%20%20%20%0A%20%20%20%20%20%20%20%20var%20geo_json_3406dbb04de14c6ea3236265c8d90cbb%20%3D%20L.geoJson%28%0A%20%20%20%20%20%20%20%20%20%20%20%20%7B%22bbox%22%3A%20%5B20.9398007%2C%2052.2287345%2C%2021.0562559%2C%2052.2758731%5D%2C%20%22features%22%3A%20%5B%7B%22bbox%22%3A%20%5B21.0017576%2C%2052.2337552%2C%2021.0429806%2C%2052.2546238%5D%2C%20%22geometry%22%3A%20%7B%22coordinates%22%3A%20%5B%5B21.0017576%2C%2052.2337552%5D%2C%20%5B21.0035578%2C%2052.2341168%5D%2C%20%5B21.0082318%2C%2052.2350702%5D%2C%20%5B21.0089942%2C%2052.2352207%5D%2C%20%5B21.0099167%2C%2052.2354028%5D%2C%20%5B21.015993%2C%2052.2365906%5D%2C%20%5B21.0168489%2C%2052.2367518%5D%2C%20%5B21.0177663%2C%2052.2369245%5D%2C%20%5B21.0222938%2C%2052.237699%5D%2C%20%5B21.0258724%2C%2052.2383111%5D%2C%20%5B21.0273734%2C%2052.2385469%5D%2C%20%5B21.0289062%2C%2052.2388754%5D%2C%20%5B21.029922%2C%2052.2391648%5D%2C%20%5B21.0318692%2C%2052.2398479%5D%2C%20%5B21.0394058%2C%2052.2428835%5D%2C%20%5B21.0406138%2C%2052.2433686%5D%2C%20%5B21.0412698%2C%2052.2436438%5D%2C%20%5B21.0416954%2C%2052.2438853%5D%2C%20%5B21.0420141%2C%2052.2441325%5D%2C%20%5B21.0422887%2C%2052.2443806%5D%2C%20%5B21.042546%2C%2052.2446968%5D%2C%20%5B21.042738%2C%2052.2450327%5D%2C%20%5B21.0429079%2C%2052.2454681%5D%2C%20%5B21.0429699%2C%2052.2458926%5D%2C%20%5B21.0429747%2C%2052.2460668%5D%2C%20%5B21.0429806%2C%2052.2462839%5D%2C%20%5B21.0429622%2C%2052.24698%5D%2C%20%5B21.0429476%2C%2052.2475953%5D%2C%20%5B21.0429119%2C%2052.2479996%5D%2C%20%5B21.0428289%2C%2052.2484082%5D%2C%20%5B21.0426953%2C%2052.2488312%5D%2C%20%5B21.0425091%2C%2052.2491342%5D%2C%20%5B21.0422408%2C%2052.2494835%5D%2C%20%5B21.0419399%2C%2052.2497892%5D%2C%20%5B21.041517%2C%2052.2500864%5D%2C%20%5B21.0408878%2C%2052.2504175%5D%2C%20%5B21.0400562%2C%2052.2508548%5D%2C%20%5B21.0392597%2C%2052.2512653%5D%2C%20%5B21.0385041%2C%2052.2516708%5D%2C%20%5B21.0377747%2C%2052.2521511%5D%2C%20%5B21.0373478%2C%2052.2524915%5D%2C%20%5B21.0369696%2C%2052.2528189%5D%2C%20%5B21.0363962%2C%2052.2533617%5D%2C%20%5B21.0355917%2C%2052.2541024%5D%2C%20%5B21.035031%2C%2052.2546238%5D%5D%2C%20%22type%22%3A%20%22LineString%22%7D%2C%20%22id%22%3A%20%221296%22%2C%20%22properties%22%3A%20%7B%22bridge%22%3A%20%22F%22%2C%20%22code%22%3A%206103%2C%20%22fclass%22%3A%20%22subway%22%2C%20%22highlight%22%3A%20%7B%7D%2C%20%22layer%22%3A%20-4%2C%20%22name%22%3A%20%22Linia%20metra%20M2%22%2C%20%22osm_id%22%3A%20%22173159217%22%2C%20%22style%22%3A%20%7B%7D%2C%20%22tunnel%22%3A%20%22T%22%7D%2C%20%22type%22%3A%20%22Feature%22%7D%2C%20%7B%22bbox%22%3A%20%5B20.9398379%2C%2052.2288578%2C%2020.9783903%2C%2052.2396745%5D%2C%20%22geometry%22%3A%20%7B%22coordinates%22%3A%20%5B%5B20.9783903%2C%2052.2294156%5D%2C%20%5B20.9780716%2C%2052.229392%5D%2C%20%5B20.9756551%2C%2052.2291773%5D%2C%20%5B20.9708446%2C%2052.2288578%5D%2C%20%5B20.970412%2C%2052.2288813%5D%2C%20%5B20.9699966%2C%2052.2289395%5D%2C%20%5B20.9696288%2C%2052.2290161%5D%2C%20%5B20.9692788%2C%2052.2291234%5D%2C%20%5B20.9687743%2C%2052.2293158%5D%2C%20%5B20.9685182%2C%2052.2294649%5D%2C%20%5B20.9680275%2C%2052.2297686%5D%2C%20%5B20.967621%2C%2052.2301151%5D%2C%20%5B20.9673586%2C%2052.2303338%5D%2C%20%5B20.9670915%2C%2052.2306387%5D%2C%20%5B20.966911%2C%2052.2309532%5D%2C%20%5B20.9664675%2C%2052.232299%5D%2C%20%5B20.966243%2C%2052.2330463%5D%2C%20%5B20.9661429%2C%2052.2333793%5D%2C%20%5B20.965438%2C%2052.2351782%5D%2C%20%5B20.965232%2C%2052.2355347%5D%2C%20%5B20.9649611%2C%2052.2359668%5D%2C%20%5B20.9644609%2C%2052.2364773%5D%2C%20%5B20.9640608%2C%2052.2367613%5D%2C%20%5B20.9636876%2C%2052.2369602%5D%2C%20%5B20.9633774%2C%2052.237123%5D%2C%20%5B20.9630319%2C%2052.237281%5D%2C%20%5B20.9628906%2C%2052.2373408%5D%2C%20%5B20.962682%2C%2052.2374165%5D%2C%20%5B20.9622921%2C%2052.2375672%5D%2C%20%5B20.9618553%2C%2052.2376929%5D%2C%20%5B20.9614045%2C%2052.2377785%5D%2C%20%5B20.9601715%2C%2052.2378794%5D%2C%20%5B20.959241%2C%2052.2379581%5D%2C%20%5B20.958836%2C%2052.2379923%5D%2C%20%5B20.9572857%2C%2052.2380702%5D%2C%20%5B20.9542315%2C%2052.2382797%5D%2C%20%5B20.9510463%2C%2052.2385667%5D%2C%20%5B20.9448806%2C%2052.2392017%5D%2C%20%5B20.9424692%2C%2052.2394278%5D%2C%20%5B20.9398379%2C%2052.2396745%5D%5D%2C%20%22type%22%3A%20%22LineString%22%7D%2C%20%22id%22%3A%20%222520%22%2C%20%22properties%22%3A%20%7B%22bridge%22%3A%20%22F%22%2C%20%22code%22%3A%206103%2C%20%22fclass%22%3A%20%22subway%22%2C%20%22highlight%22%3A%20%7B%7D%2C%20%22layer%22%3A%20-4%2C%20%22name%22%3A%20%22Linia%20metra%20M2%22%2C%20%22osm_id%22%3A%20%22244400999%22%2C%20%22style%22%3A%20%7B%7D%2C%20%22tunnel%22%3A%20%22T%22%7D%2C%20%22type%22%3A%20%22Feature%22%7D%2C%20%7B%22bbox%22%3A%20%5B21.0332546%2C%2052.256231%2C%2021.0561473%2C%2052.2758731%5D%2C%20%22geometry%22%3A%20%7B%22coordinates%22%3A%20%5B%5B21.0561473%2C%2052.2758731%5D%2C%20%5B21.0553884%2C%2052.2753772%5D%2C%20%5B21.0549966%2C%2052.2751212%5D%2C%20%5B21.0541791%2C%2052.2746087%5D%2C%20%5B21.0538547%2C%2052.2743808%5D%2C%20%5B21.0531364%2C%2052.2737005%5D%2C%20%5B21.0523706%2C%2052.2728833%5D%2C%20%5B21.0518264%2C%2052.2720462%5D%2C%20%5B21.0517152%2C%2052.2717942%5D%2C%20%5B21.0515564%2C%2052.2713352%5D%2C%20%5B21.0515381%2C%2052.2712655%5D%2C%20%5B21.0515246%2C%2052.2711954%5D%2C%20%5B21.0514736%2C%2052.2707833%5D%2C%20%5B21.05144%2C%2052.2704593%5D%2C%20%5B21.0513233%2C%2052.2695907%5D%2C%20%5B21.0512126%2C%2052.2687629%5D%2C%20%5B21.0510958%2C%2052.267825%5D%2C%20%5B21.0509473%2C%2052.2671889%5D%2C%20%5B21.0507653%2C%2052.2667883%5D%2C%20%5B21.0499577%2C%2052.2658234%5D%2C%20%5B21.0495886%2C%2052.2655576%5D%2C%20%5B21.0485435%2C%2052.2649434%5D%2C%20%5B21.0471112%2C%2052.2643061%5D%2C%20%5B21.0452792%2C%2052.2635015%5D%2C%20%5B21.0448625%2C%2052.2633185%5D%2C%20%5B21.043456%2C%2052.2627265%5D%2C%20%5B21.042238%2C%2052.2622031%5D%2C%20%5B21.0417521%2C%2052.2620043%5D%2C%20%5B21.0401932%2C%2052.2614244%5D%2C%20%5B21.0382054%2C%2052.260761%5D%2C%20%5B21.0360342%2C%2052.2599212%5D%2C%20%5B21.0355034%2C%2052.259618%5D%2C%20%5B21.03502%2C%2052.2592959%5D%2C%20%5B21.0344285%2C%2052.2588192%5D%2C%20%5B21.0337985%2C%2052.258029%5D%2C%20%5B21.0334284%2C%2052.2573757%5D%2C%20%5B21.0332928%2C%2052.2569868%5D%2C%20%5B21.0332546%2C%2052.256777%5D%2C%20%5B21.0332704%2C%2052.2566072%5D%2C%20%5B21.0332865%2C%2052.2564733%5D%2C%20%5B21.0333748%2C%2052.256231%5D%5D%2C%20%22type%22%3A%20%22LineString%22%7D%2C%20%22id%22%3A%20%222523%22%2C%20%22properties%22%3A%20%7B%22bridge%22%3A%20%22F%22%2C%20%22code%22%3A%206103%2C%20%22fclass%22%3A%20%22subway%22%2C%20%22highlight%22%3A%20%7B%7D%2C%20%22layer%22%3A%20-4%2C%20%22name%22%3A%20%22Linia%20metra%20M2%22%2C%20%22osm_id%22%3A%20%22247886195%22%2C%20%22style%22%3A%20%7B%7D%2C%20%22tunnel%22%3A%20%22T%22%7D%2C%20%22type%22%3A%20%22Feature%22%7D%2C%20%7B%22bbox%22%3A%20%5B21.001676%2C%2052.2339056%2C%2021.0427296%2C%2052.2545559%5D%2C%20%22geometry%22%3A%20%7B%22coordinates%22%3A%20%5B%5B21.0348144%2C%2052.2545559%5D%2C%20%5B21.0351808%2C%2052.2542162%5D%2C%20%5B21.0353936%2C%2052.2540206%5D%2C%20%5B21.0367791%2C%2052.2527416%5D%2C%20%5B21.0371388%2C%2052.2524236%5D%2C%20%5B21.0376142%2C%2052.2520493%5D%2C%20%5B21.0378602%2C%2052.2518917%5D%2C%20%5B21.0383731%2C%2052.2515902%5D%2C%20%5B21.0391374%2C%2052.2511665%5D%2C%20%5B21.0398969%2C%2052.2507594%5D%2C%20%5B21.0407441%2C%2052.250303%5D%2C%20%5B21.041345%2C%2052.2499946%5D%2C%20%5B21.0417524%2C%2052.2497167%5D%2C%20%5B21.0420538%2C%2052.2494241%5D%2C%20%5B21.0422875%2C%2052.2490842%5D%2C%20%5B21.0424617%2C%2052.2488047%5D%2C%20%5B21.0425935%2C%2052.2483809%5D%2C%20%5B21.0426941%2C%2052.2479921%5D%2C%20%5B21.0427231%2C%2052.2475917%5D%2C%20%5B21.0427272%2C%2052.2469757%5D%2C%20%5B21.0427296%2C%2052.2458954%5D%2C%20%5B21.0427153%2C%2052.2456016%5D%2C%20%5B21.0426038%2C%2052.2452495%5D%2C%20%5B21.042461%2C%2052.2449097%5D%2C%20%5B21.0421957%2C%2052.2445788%5D%2C%20%5B21.0419825%2C%2052.244352%5D%2C%20%5B21.0416211%2C%2052.244055%5D%2C%20%5B21.0411912%2C%2052.2437899%5D%2C%20%5B21.0405352%2C%2052.2435147%5D%2C%20%5B21.0393272%2C%2052.2430296%5D%2C%20%5B21.031713%2C%2052.2399653%5D%2C%20%5B21.0298434%2C%2052.239311%5D%2C%20%5B21.0288276%2C%2052.2390215%5D%2C%20%5B21.0272948%2C%2052.238693%5D%2C%20%5B21.0257938%2C%2052.2384573%5D%2C%20%5B21.0176877%2C%2052.2370707%5D%2C%20%5B21.0167703%2C%2052.236898%5D%2C%20%5B21.0159144%2C%2052.2367368%5D%2C%20%5B21.0098381%2C%2052.235549%5D%2C%20%5B21.0089156%2C%2052.2353669%5D%2C%20%5B21.0081532%2C%2052.2352163%5D%2C%20%5B21.001676%2C%2052.2339056%5D%5D%2C%20%22type%22%3A%20%22LineString%22%7D%2C%20%22id%22%3A%20%223722%22%2C%20%22properties%22%3A%20%7B%22bridge%22%3A%20%22F%22%2C%20%22code%22%3A%206103%2C%20%22fclass%22%3A%20%22subway%22%2C%20%22highlight%22%3A%20%7B%7D%2C%20%22layer%22%3A%20-4%2C%20%22name%22%3A%20%22Linia%20metra%20M2%22%2C%20%22osm_id%22%3A%20%22314852984%22%2C%20%22style%22%3A%20%7B%7D%2C%20%22tunnel%22%3A%20%22T%22%7D%2C%20%22type%22%3A%20%22Feature%22%7D%2C%20%7B%22bbox%22%3A%20%5B20.9992661%2C%2052.233418%2C%2021.001676%2C%2052.2339056%5D%2C%20%22geometry%22%3A%20%7B%22coordinates%22%3A%20%5B%5B21.001676%2C%2052.2339056%5D%2C%20%5B20.9992661%2C%2052.233418%5D%5D%2C%20%22type%22%3A%20%22LineString%22%7D%2C%20%22id%22%3A%20%225559%22%2C%20%22properties%22%3A%20%7B%22bridge%22%3A%20%22F%22%2C%20%22code%22%3A%206103%2C%20%22fclass%22%3A%20%22subway%22%2C%20%22highlight%22%3A%20%7B%7D%2C%20%22layer%22%3A%20-4%2C%20%22name%22%3A%20%22Linia%20metra%20M2%22%2C%20%22osm_id%22%3A%20%22450271112%22%2C%20%22style%22%3A%20%7B%7D%2C%20%22tunnel%22%3A%20%22T%22%7D%2C%20%22type%22%3A%20%22Feature%22%7D%2C%20%7B%22bbox%22%3A%20%5B20.9993428%2C%2052.2332701%2C%2021.0017576%2C%2052.2337552%5D%2C%20%22geometry%22%3A%20%7B%22coordinates%22%3A%20%5B%5B20.9993428%2C%2052.2332701%5D%2C%20%5B21.0017576%2C%2052.2337552%5D%5D%2C%20%22type%22%3A%20%22LineString%22%7D%2C%20%22id%22%3A%20%225560%22%2C%20%22properties%22%3A%20%7B%22bridge%22%3A%20%22F%22%2C%20%22code%22%3A%206103%2C%20%22fclass%22%3A%20%22subway%22%2C%20%22highlight%22%3A%20%7B%7D%2C%20%22layer%22%3A%20-4%2C%20%22name%22%3A%20%22Linia%20metra%20M2%22%2C%20%22osm_id%22%3A%20%22450271113%22%2C%20%22style%22%3A%20%7B%7D%2C%20%22tunnel%22%3A%20%22T%22%7D%2C%20%22type%22%3A%20%22Feature%22%7D%2C%20%7B%22bbox%22%3A%20%5B20.9784557%2C%2052.2292627%2C%2020.9820277%2C%2052.2298414%5D%2C%20%22geometry%22%3A%20%7B%22coordinates%22%3A%20%5B%5B20.9784557%2C%2052.2292627%5D%2C%20%5B20.9820277%2C%2052.2298414%5D%5D%2C%20%22type%22%3A%20%22LineString%22%7D%2C%20%22id%22%3A%20%225561%22%2C%20%22properties%22%3A%20%7B%22bridge%22%3A%20%22F%22%2C%20%22code%22%3A%206103%2C%20%22fclass%22%3A%20%22subway%22%2C%20%22highlight%22%3A%20%7B%7D%2C%20%22layer%22%3A%20-4%2C%20%22name%22%3A%20%22Linia%20metra%20M2%22%2C%20%22osm_id%22%3A%20%22450271114%22%2C%20%22style%22%3A%20%7B%7D%2C%20%22tunnel%22%3A%20%22T%22%7D%2C%20%22type%22%3A%20%22Feature%22%7D%2C%20%7B%22bbox%22%3A%20%5B20.9783903%2C%2052.2294156%2C%2020.9819801%2C%2052.2299817%5D%2C%20%22geometry%22%3A%20%7B%22coordinates%22%3A%20%5B%5B20.9819801%2C%2052.2299817%5D%2C%20%5B20.9783903%2C%2052.2294156%5D%5D%2C%20%22type%22%3A%20%22LineString%22%7D%2C%20%22id%22%3A%20%225562%22%2C%20%22properties%22%3A%20%7B%22bridge%22%3A%20%22F%22%2C%20%22code%22%3A%206103%2C%20%22fclass%22%3A%20%22subway%22%2C%20%22highlight%22%3A%20%7B%7D%2C%20%22layer%22%3A%20-4%2C%20%22name%22%3A%20%22Linia%20metra%20M2%22%2C%20%22osm_id%22%3A%20%22450271116%22%2C%20%22style%22%3A%20%7B%7D%2C%20%22tunnel%22%3A%20%22T%22%7D%2C%20%22type%22%3A%20%22Feature%22%7D%2C%20%7B%22bbox%22%3A%20%5B21.0336026%2C%2052.2546238%2C%2021.035031%2C%2052.2562651%5D%2C%20%22geometry%22%3A%20%7B%22coordinates%22%3A%20%5B%5B21.035031%2C%2052.2546238%5D%2C%20%5B21.0342653%2C%2052.2553358%5D%2C%20%5B21.0339801%2C%2052.2556461%5D%2C%20%5B21.0337879%2C%2052.2558909%5D%2C%20%5B21.0336026%2C%2052.2562651%5D%5D%2C%20%22type%22%3A%20%22LineString%22%7D%2C%20%22id%22%3A%20%225563%22%2C%20%22properties%22%3A%20%7B%22bridge%22%3A%20%22F%22%2C%20%22code%22%3A%206103%2C%20%22fclass%22%3A%20%22subway%22%2C%20%22highlight%22%3A%20%7B%7D%2C%20%22layer%22%3A%20-4%2C%20%22name%22%3A%20%22Linia%20metra%20M2%22%2C%20%22osm_id%22%3A%20%22450271118%22%2C%20%22style%22%3A%20%7B%7D%2C%20%22tunnel%22%3A%20%22T%22%7D%2C%20%22type%22%3A%20%22Feature%22%7D%2C%20%7B%22bbox%22%3A%20%5B21.0333748%2C%2052.2545559%2C%2021.0348144%2C%2052.256231%5D%2C%20%22geometry%22%3A%20%7B%22coordinates%22%3A%20%5B%5B21.0333748%2C%2052.256231%5D%2C%20%5B21.0335647%2C%2052.2558462%5D%2C%20%5B21.0337641%2C%2052.255564%5D%2C%20%5B21.0340638%2C%2052.2552519%5D%2C%20%5B21.0348144%2C%2052.2545559%5D%5D%2C%20%22type%22%3A%20%22LineString%22%7D%2C%20%22id%22%3A%20%225564%22%2C%20%22properties%22%3A%20%7B%22bridge%22%3A%20%22F%22%2C%20%22code%22%3A%206103%2C%20%22fclass%22%3A%20%22subway%22%2C%20%22highlight%22%3A%20%7B%7D%2C%20%22layer%22%3A%20-4%2C%20%22name%22%3A%20%22Linia%20metra%20M2%22%2C%20%22osm_id%22%3A%20%22450271119%22%2C%20%22style%22%3A%20%7B%7D%2C%20%22tunnel%22%3A%20%22T%22%7D%2C%20%22type%22%3A%20%22Feature%22%7D%2C%20%7B%22bbox%22%3A%20%5B20.9838412%2C%2052.2301667%2C%2020.9993428%2C%2052.2332701%5D%2C%20%22geometry%22%3A%20%7B%22coordinates%22%3A%20%5B%5B20.9838412%2C%2052.2301667%5D%2C%20%5B20.9847816%2C%2052.2303519%5D%2C%20%5B20.9896296%2C%2052.2312926%5D%2C%20%5B20.9924831%2C%2052.2318622%5D%2C%20%5B20.9953506%2C%2052.2324347%5D%2C%20%5B20.9983088%2C%2052.2330604%5D%2C%20%5B20.9985048%2C%2052.2331018%5D%2C%20%5B20.9993428%2C%2052.2332701%5D%5D%2C%20%22type%22%3A%20%22LineString%22%7D%2C%20%22id%22%3A%20%225565%22%2C%20%22properties%22%3A%20%7B%22bridge%22%3A%20%22F%22%2C%20%22code%22%3A%206103%2C%20%22fclass%22%3A%20%22subway%22%2C%20%22highlight%22%3A%20%7B%7D%2C%20%22layer%22%3A%20-4%2C%20%22name%22%3A%20%22Linia%20metra%20M2%22%2C%20%22osm_id%22%3A%20%22450271120%22%2C%20%22style%22%3A%20%7B%7D%2C%20%22tunnel%22%3A%20%22T%22%7D%2C%20%22type%22%3A%20%22Feature%22%7D%2C%20%7B%22bbox%22%3A%20%5B20.9837703%2C%2052.2303144%2C%2020.9992661%2C%2052.233418%5D%2C%20%22geometry%22%3A%20%7B%22coordinates%22%3A%20%5B%5B20.9992661%2C%2052.233418%5D%2C%20%5B20.9984262%2C%2052.233248%5D%2C%20%5B20.9982302%2C%2052.2332065%5D%2C%20%5B20.995272%2C%2052.2325809%5D%2C%20%5B20.9923946%2C%2052.2320065%5D%2C%20%5B20.989551%2C%2052.2314388%5D%2C%20%5B20.984703%2C%2052.2304981%5D%2C%20%5B20.9837703%2C%2052.2303144%5D%5D%2C%20%22type%22%3A%20%22LineString%22%7D%2C%20%22id%22%3A%20%225566%22%2C%20%22properties%22%3A%20%7B%22bridge%22%3A%20%22F%22%2C%20%22code%22%3A%206103%2C%20%22fclass%22%3A%20%22subway%22%2C%20%22highlight%22%3A%20%7B%7D%2C%20%22layer%22%3A%20-4%2C%20%22name%22%3A%20%22Linia%20metra%20M2%22%2C%20%22osm_id%22%3A%20%22450271121%22%2C%20%22style%22%3A%20%7B%7D%2C%20%22tunnel%22%3A%20%22T%22%7D%2C%20%22type%22%3A%20%22Feature%22%7D%2C%20%7B%22bbox%22%3A%20%5B20.9398007%2C%2052.2287345%2C%2020.9784557%2C%2052.2395053%5D%2C%20%22geometry%22%3A%20%7B%22coordinates%22%3A%20%5B%5B20.9398007%2C%2052.2395053%5D%2C%20%5B20.9424263%2C%2052.2392559%5D%2C%20%5B20.948543%2C%2052.2386763%5D%2C%20%5B20.9547506%2C%2052.2380987%5D%2C%20%5B20.9572327%2C%2052.2379179%5D%2C%20%5B20.958799%2C%2052.2378428%5D%2C%20%5B20.9592189%2C%2052.2378105%5D%2C%20%5B20.961191%2C%2052.2376589%5D%2C%20%5B20.9616564%2C%2052.2375869%5D%2C%20%5B20.9620392%2C%2052.2374904%5D%2C%20%5B20.9626847%2C%2052.2372391%5D%2C%20%5B20.9632277%2C%2052.2370001%5D%2C%20%5B20.9638707%2C%2052.2366492%5D%2C%20%5B20.964166%2C%2052.2364301%5D%2C%20%5B20.9644487%2C%2052.2361818%5D%2C%20%5B20.9646739%2C%2052.2359351%5D%2C%20%5B20.9649917%2C%2052.2355475%5D%2C%20%5B20.9652259%2C%2052.2351623%5D%2C%20%5B20.9653692%2C%2052.234814%5D%2C%20%5B20.9655712%2C%2052.2342536%5D%2C%20%5B20.9659007%2C%2052.2333546%5D%2C%20%5B20.966014%2C%2052.2330176%5D%2C%20%5B20.9667164%2C%2052.2309287%5D%2C%20%5B20.966854%2C%2052.2306651%5D%2C%20%5B20.967123%2C%2052.2303127%5D%2C%20%5B20.9673944%2C%2052.2300736%5D%2C%20%5B20.9678561%2C%2052.229702%5D%2C%20%5B20.9683552%2C%2052.2293725%5D%2C%20%5B20.9686668%2C%2052.2292054%5D%2C%20%5B20.9688694%2C%2052.2291173%5D%2C%20%5B20.9695175%2C%2052.2289127%5D%2C%20%5B20.9699165%2C%2052.228823%5D%2C%20%5B20.9703594%2C%2052.2287587%5D%2C%20%5B20.9707779%2C%2052.2287345%5D%2C%20%5B20.9718881%2C%2052.2288112%5D%2C%20%5B20.9757097%2C%2052.2290178%5D%2C%20%5B20.9784557%2C%2052.2292627%5D%5D%2C%20%22type%22%3A%20%22LineString%22%7D%2C%20%22id%22%3A%20%225783%22%2C%20%22properties%22%3A%20%7B%22bridge%22%3A%20%22F%22%2C%20%22code%22%3A%206103%2C%20%22fclass%22%3A%20%22subway%22%2C%20%22highlight%22%3A%20%7B%7D%2C%20%22layer%22%3A%20-4%2C%20%22name%22%3A%20%22Linia%20metra%20M2%22%2C%20%22osm_id%22%3A%20%22468867055%22%2C%20%22style%22%3A%20%7B%7D%2C%20%22tunnel%22%3A%20%22T%22%7D%2C%20%22type%22%3A%20%22Feature%22%7D%2C%20%7B%22bbox%22%3A%20%5B21.0335062%2C%2052.2562651%2C%2021.0562559%2C%2052.2758012%5D%2C%20%22geometry%22%3A%20%7B%22coordinates%22%3A%20%5B%5B21.0336026%2C%2052.2562651%5D%2C%20%5B21.0335723%2C%2052.2563353%5D%2C%20%5B21.0335264%2C%2052.2564775%5D%2C%20%5B21.033523%2C%2052.2566056%5D%2C%20%5B21.0335062%2C%2052.2567825%5D%2C%20%5B21.0335304%2C%2052.2570009%5D%2C%20%5B21.0336202%2C%2052.2572783%5D%2C%20%5B21.0336551%2C%2052.2573883%5D%2C%20%5B21.0339609%2C%2052.2580319%5D%2C%20%5B21.0345697%2C%2052.2587855%5D%2C%20%5B21.0347046%2C%2052.2588991%5D%2C%20%5B21.0350767%2C%2052.2592124%5D%2C%20%5B21.0356078%2C%2052.2595686%5D%2C%20%5B21.0361093%2C%2052.259851%5D%2C%20%5B21.0363588%2C%2052.2599462%5D%2C%20%5B21.038239%2C%2052.2606833%5D%2C%20%5B21.0402265%2C%2052.2613729%5D%2C%20%5B21.040995%2C%2052.2616519%5D%2C%20%5B21.0417996%2C%2052.2619507%5D%2C%20%5B21.0440084%2C%2052.2628553%5D%2C%20%5B21.044919%2C%2052.2632353%5D%2C%20%5B21.0453572%2C%2052.2634264%5D%2C%20%5B21.0472056%2C%2052.2642326%5D%2C%20%5B21.0487184%2C%2052.2648761%5D%2C%20%5B21.049751%2C%2052.2654736%5D%2C%20%5B21.0501276%2C%2052.2657674%5D%2C%20%5B21.0505316%2C%2052.2661999%5D%2C%20%5B21.0509205%2C%2052.266749%5D%2C%20%5B21.0511082%2C%2052.2671725%5D%2C%20%5B21.0512848%2C%2052.2678222%5D%2C%20%5B21.0514008%2C%2052.2687634%5D%2C%20%5B21.051449%2C%2052.2693231%5D%2C%20%5B21.0514818%2C%2052.2695822%5D%2C%20%5B21.0515921%2C%2052.2704528%5D%2C%20%5B21.0516524%2C%2052.2707843%5D%2C%20%5B21.0517364%2C%2052.2713194%5D%2C%20%5B21.0519045%2C%2052.2717798%5D%2C%20%5B21.0520271%2C%2052.2720391%5D%2C%20%5B21.0524628%2C%2052.2727728%5D%2C%20%5B21.0529321%2C%2052.2733079%5D%2C%20%5B21.0532325%2C%2052.2736312%5D%2C%20%5B21.0540388%2C%2052.2743366%5D%2C%20%5B21.0547028%2C%2052.2747911%5D%2C%20%5B21.0550883%2C%2052.275053%5D%2C%20%5B21.0555037%2C%2052.2753192%5D%2C%20%5B21.0562559%2C%2052.2758012%5D%5D%2C%20%22type%22%3A%20%22LineString%22%7D%2C%20%22id%22%3A%20%225868%22%2C%20%22properties%22%3A%20%7B%22bridge%22%3A%20%22F%22%2C%20%22code%22%3A%206103%2C%20%22fclass%22%3A%20%22subway%22%2C%20%22highlight%22%3A%20%7B%7D%2C%20%22layer%22%3A%20-4%2C%20%22name%22%3A%20%22Linia%20metra%20M2%22%2C%20%22osm_id%22%3A%20%22502664109%22%2C%20%22style%22%3A%20%7B%7D%2C%20%22tunnel%22%3A%20%22T%22%7D%2C%20%22type%22%3A%20%22Feature%22%7D%2C%20%7B%22bbox%22%3A%20%5B20.9820277%2C%2052.2298414%2C%2020.9838412%2C%2052.2301667%5D%2C%20%22geometry%22%3A%20%7B%22coordinates%22%3A%20%5B%5B20.9820277%2C%2052.2298414%5D%2C%20%5B20.9828873%2C%2052.2299789%5D%2C%20%5B20.9838412%2C%2052.2301667%5D%5D%2C%20%22type%22%3A%20%22LineString%22%7D%2C%20%22id%22%3A%20%226730%22%2C%20%22properties%22%3A%20%7B%22bridge%22%3A%20%22F%22%2C%20%22code%22%3A%206103%2C%20%22fclass%22%3A%20%22subway%22%2C%20%22highlight%22%3A%20%7B%7D%2C%20%22layer%22%3A%20-4%2C%20%22name%22%3A%20%22Linia%20metra%20M2%22%2C%20%22osm_id%22%3A%20%22894901651%22%2C%20%22style%22%3A%20%7B%7D%2C%20%22tunnel%22%3A%20%22T%22%7D%2C%20%22type%22%3A%20%22Feature%22%7D%2C%20%7B%22bbox%22%3A%20%5B20.9819801%2C%2052.2299817%2C%2020.9837703%2C%2052.2303144%5D%2C%20%22geometry%22%3A%20%7B%22coordinates%22%3A%20%5B%5B20.9837703%2C%2052.2303144%5D%2C%20%5B20.9828087%2C%2052.2301251%5D%2C%20%5B20.9819801%2C%2052.2299817%5D%5D%2C%20%22type%22%3A%20%22LineString%22%7D%2C%20%22id%22%3A%20%226731%22%2C%20%22properties%22%3A%20%7B%22bridge%22%3A%20%22F%22%2C%20%22code%22%3A%206103%2C%20%22fclass%22%3A%20%22subway%22%2C%20%22highlight%22%3A%20%7B%7D%2C%20%22layer%22%3A%20-4%2C%20%22name%22%3A%20%22Linia%20metra%20M2%22%2C%20%22osm_id%22%3A%20%22894901652%22%2C%20%22style%22%3A%20%7B%7D%2C%20%22tunnel%22%3A%20%22T%22%7D%2C%20%22type%22%3A%20%22Feature%22%7D%5D%2C%20%22type%22%3A%20%22FeatureCollection%22%7D%2C%0A%20%20%20%20%20%20%20%20%20%20%20%20%7B%0A%20%20%20%20%20%20%20%20%20%20%20%20%7D%0A%20%20%20%20%20%20%20%20%29.addTo%28map_add7d311e28c41889e148ecaf9286b12%20%29%3B%0A%20%20%20%20%20%20%20%20geo_json_3406dbb04de14c6ea3236265c8d90cbb.setStyle%28function%28feature%29%20%7Breturn%20feature.properties.style%3B%7D%29%3B%0A%20%20%20%20%20%20%20%20%0A%20%20%20%20%0A%20%20%20%20%20%20%20%20%20%20%20%20%20%20%20%20%0A%0A%20%20%20%20%20%20%20%20%20%20%20%20%20%20%20%20map_add7d311e28c41889e148ecaf9286b12.fitBounds%28%0A%20%20%20%20%20%20%20%20%20%20%20%20%20%20%20%20%20%20%20%20%5B%5B52.2929426%2C%2020.925314%5D%2C%20%5B52.1246827%2C%2021.0729117%5D%5D%2C%0A%20%20%20%20%20%20%20%20%20%20%20%20%20%20%20%20%20%20%20%20%7B%7D%0A%20%20%20%20%20%20%20%20%20%20%20%20%20%20%20%20%20%20%20%20%29%3B%0A%20%20%20%20%20%20%20%20%20%20%20%20%0A%3C/script%3E onload=\"this.contentDocument.open();this.contentDocument.write(    decodeURIComponent(this.getAttribute('data-html')));this.contentDocument.close();\" allowfullscreen webkitallowfullscreen mozallowfullscreen></iframe></div></div>"
            ],
            "text/plain": [
              "<folium.folium.Map at 0x7fc793a987d0>"
            ]
          },
          "metadata": {
            "tags": []
          },
          "execution_count": 38
        }
      ]
    },
    {
      "cell_type": "code",
      "metadata": {
        "id": "io3VXM9z82sF",
        "outputId": "1d08c069-750e-4cdd-e11a-b6cfae04391d",
        "colab": {
          "base_uri": "https://localhost:8080/",
          "height": 381
        }
      },
      "source": [
        "m = folium.Map(location=[nodes[\"geometry\"].y.mean() , nodes[\"geometry\"].x.mean()], \n",
        "               tiles=\"cartodbpositron\"\n",
        "               )\n",
        "\n",
        "folium.GeoJson(\n",
        "    df[df.name == \"Linia metra M2\"].loc[[5560, 5561, 5562, 5563]]\n",
        ").add_to(m)\n",
        "\n",
        "\n",
        "x_min = nodes[\"geometry\"].x.min()\n",
        "x_max = nodes[\"geometry\"].x.max()\n",
        "y_min = nodes[\"geometry\"].y.min()\n",
        "y_max = nodes[\"geometry\"].y.max()\n",
        "\n",
        "# szukanie lewego górnego rogu i dolnego prawego\n",
        "m.fit_bounds([[y_max , x_min], [y_min , x_max]]) \n",
        "\n",
        "m"
      ],
      "execution_count": 63,
      "outputs": [
        {
          "output_type": "error",
          "ename": "KeyError",
          "evalue": "ignored",
          "traceback": [
            "\u001b[0;31m---------------------------------------------------------------------------\u001b[0m",
            "\u001b[0;31mKeyError\u001b[0m                                  Traceback (most recent call last)",
            "\u001b[0;32m<ipython-input-63-47f386bc88c4>\u001b[0m in \u001b[0;36m<module>\u001b[0;34m()\u001b[0m\n\u001b[1;32m      4\u001b[0m \u001b[0;34m\u001b[0m\u001b[0m\n\u001b[1;32m      5\u001b[0m folium.GeoJson(\n\u001b[0;32m----> 6\u001b[0;31m     \u001b[0mdf\u001b[0m\u001b[0;34m[\u001b[0m\u001b[0mdf\u001b[0m\u001b[0;34m.\u001b[0m\u001b[0mname\u001b[0m \u001b[0;34m==\u001b[0m \u001b[0;34m\"Linia metra M2\"\u001b[0m\u001b[0;34m]\u001b[0m\u001b[0;34m.\u001b[0m\u001b[0mloc\u001b[0m\u001b[0;34m[\u001b[0m\u001b[0;34m[\u001b[0m\u001b[0;36m5560\u001b[0m\u001b[0;34m,\u001b[0m \u001b[0;36m5561\u001b[0m\u001b[0;34m,\u001b[0m \u001b[0;36m5562\u001b[0m\u001b[0;34m,\u001b[0m \u001b[0;36m5563\u001b[0m\u001b[0;34m]\u001b[0m\u001b[0;34m]\u001b[0m\u001b[0;34m\u001b[0m\u001b[0;34m\u001b[0m\u001b[0m\n\u001b[0m\u001b[1;32m      7\u001b[0m ).add_to(m)\n\u001b[1;32m      8\u001b[0m \u001b[0;34m\u001b[0m\u001b[0m\n",
            "\u001b[0;32m/usr/local/lib/python3.7/dist-packages/pandas/core/indexing.py\u001b[0m in \u001b[0;36m__getitem__\u001b[0;34m(self, key)\u001b[0m\n\u001b[1;32m    877\u001b[0m \u001b[0;34m\u001b[0m\u001b[0m\n\u001b[1;32m    878\u001b[0m             \u001b[0mmaybe_callable\u001b[0m \u001b[0;34m=\u001b[0m \u001b[0mcom\u001b[0m\u001b[0;34m.\u001b[0m\u001b[0mapply_if_callable\u001b[0m\u001b[0;34m(\u001b[0m\u001b[0mkey\u001b[0m\u001b[0;34m,\u001b[0m \u001b[0mself\u001b[0m\u001b[0;34m.\u001b[0m\u001b[0mobj\u001b[0m\u001b[0;34m)\u001b[0m\u001b[0;34m\u001b[0m\u001b[0;34m\u001b[0m\u001b[0m\n\u001b[0;32m--> 879\u001b[0;31m             \u001b[0;32mreturn\u001b[0m \u001b[0mself\u001b[0m\u001b[0;34m.\u001b[0m\u001b[0m_getitem_axis\u001b[0m\u001b[0;34m(\u001b[0m\u001b[0mmaybe_callable\u001b[0m\u001b[0;34m,\u001b[0m \u001b[0maxis\u001b[0m\u001b[0;34m=\u001b[0m\u001b[0maxis\u001b[0m\u001b[0;34m)\u001b[0m\u001b[0;34m\u001b[0m\u001b[0;34m\u001b[0m\u001b[0m\n\u001b[0m\u001b[1;32m    880\u001b[0m \u001b[0;34m\u001b[0m\u001b[0m\n\u001b[1;32m    881\u001b[0m     \u001b[0;32mdef\u001b[0m \u001b[0m_is_scalar_access\u001b[0m\u001b[0;34m(\u001b[0m\u001b[0mself\u001b[0m\u001b[0;34m,\u001b[0m \u001b[0mkey\u001b[0m\u001b[0;34m:\u001b[0m \u001b[0mTuple\u001b[0m\u001b[0;34m)\u001b[0m\u001b[0;34m:\u001b[0m\u001b[0;34m\u001b[0m\u001b[0;34m\u001b[0m\u001b[0m\n",
            "\u001b[0;32m/usr/local/lib/python3.7/dist-packages/pandas/core/indexing.py\u001b[0m in \u001b[0;36m_getitem_axis\u001b[0;34m(self, key, axis)\u001b[0m\n\u001b[1;32m   1097\u001b[0m                     \u001b[0;32mraise\u001b[0m \u001b[0mValueError\u001b[0m\u001b[0;34m(\u001b[0m\u001b[0;34m\"Cannot index with multidimensional key\"\u001b[0m\u001b[0;34m)\u001b[0m\u001b[0;34m\u001b[0m\u001b[0;34m\u001b[0m\u001b[0m\n\u001b[1;32m   1098\u001b[0m \u001b[0;34m\u001b[0m\u001b[0m\n\u001b[0;32m-> 1099\u001b[0;31m                 \u001b[0;32mreturn\u001b[0m \u001b[0mself\u001b[0m\u001b[0;34m.\u001b[0m\u001b[0m_getitem_iterable\u001b[0m\u001b[0;34m(\u001b[0m\u001b[0mkey\u001b[0m\u001b[0;34m,\u001b[0m \u001b[0maxis\u001b[0m\u001b[0;34m=\u001b[0m\u001b[0maxis\u001b[0m\u001b[0;34m)\u001b[0m\u001b[0;34m\u001b[0m\u001b[0;34m\u001b[0m\u001b[0m\n\u001b[0m\u001b[1;32m   1100\u001b[0m \u001b[0;34m\u001b[0m\u001b[0m\n\u001b[1;32m   1101\u001b[0m             \u001b[0;31m# nested tuple slicing\u001b[0m\u001b[0;34m\u001b[0m\u001b[0;34m\u001b[0m\u001b[0;34m\u001b[0m\u001b[0m\n",
            "\u001b[0;32m/usr/local/lib/python3.7/dist-packages/pandas/core/indexing.py\u001b[0m in \u001b[0;36m_getitem_iterable\u001b[0;34m(self, key, axis)\u001b[0m\n\u001b[1;32m   1035\u001b[0m \u001b[0;34m\u001b[0m\u001b[0m\n\u001b[1;32m   1036\u001b[0m         \u001b[0;31m# A collection of keys\u001b[0m\u001b[0;34m\u001b[0m\u001b[0;34m\u001b[0m\u001b[0;34m\u001b[0m\u001b[0m\n\u001b[0;32m-> 1037\u001b[0;31m         \u001b[0mkeyarr\u001b[0m\u001b[0;34m,\u001b[0m \u001b[0mindexer\u001b[0m \u001b[0;34m=\u001b[0m \u001b[0mself\u001b[0m\u001b[0;34m.\u001b[0m\u001b[0m_get_listlike_indexer\u001b[0m\u001b[0;34m(\u001b[0m\u001b[0mkey\u001b[0m\u001b[0;34m,\u001b[0m \u001b[0maxis\u001b[0m\u001b[0;34m,\u001b[0m \u001b[0mraise_missing\u001b[0m\u001b[0;34m=\u001b[0m\u001b[0;32mFalse\u001b[0m\u001b[0;34m)\u001b[0m\u001b[0;34m\u001b[0m\u001b[0;34m\u001b[0m\u001b[0m\n\u001b[0m\u001b[1;32m   1038\u001b[0m         return self.obj._reindex_with_indexers(\n\u001b[1;32m   1039\u001b[0m             \u001b[0;34m{\u001b[0m\u001b[0maxis\u001b[0m\u001b[0;34m:\u001b[0m \u001b[0;34m[\u001b[0m\u001b[0mkeyarr\u001b[0m\u001b[0;34m,\u001b[0m \u001b[0mindexer\u001b[0m\u001b[0;34m]\u001b[0m\u001b[0;34m}\u001b[0m\u001b[0;34m,\u001b[0m \u001b[0mcopy\u001b[0m\u001b[0;34m=\u001b[0m\u001b[0;32mTrue\u001b[0m\u001b[0;34m,\u001b[0m \u001b[0mallow_dups\u001b[0m\u001b[0;34m=\u001b[0m\u001b[0;32mTrue\u001b[0m\u001b[0;34m\u001b[0m\u001b[0;34m\u001b[0m\u001b[0m\n",
            "\u001b[0;32m/usr/local/lib/python3.7/dist-packages/pandas/core/indexing.py\u001b[0m in \u001b[0;36m_get_listlike_indexer\u001b[0;34m(self, key, axis, raise_missing)\u001b[0m\n\u001b[1;32m   1252\u001b[0m             \u001b[0mkeyarr\u001b[0m\u001b[0;34m,\u001b[0m \u001b[0mindexer\u001b[0m\u001b[0;34m,\u001b[0m \u001b[0mnew_indexer\u001b[0m \u001b[0;34m=\u001b[0m \u001b[0max\u001b[0m\u001b[0;34m.\u001b[0m\u001b[0m_reindex_non_unique\u001b[0m\u001b[0;34m(\u001b[0m\u001b[0mkeyarr\u001b[0m\u001b[0;34m)\u001b[0m\u001b[0;34m\u001b[0m\u001b[0;34m\u001b[0m\u001b[0m\n\u001b[1;32m   1253\u001b[0m \u001b[0;34m\u001b[0m\u001b[0m\n\u001b[0;32m-> 1254\u001b[0;31m         \u001b[0mself\u001b[0m\u001b[0;34m.\u001b[0m\u001b[0m_validate_read_indexer\u001b[0m\u001b[0;34m(\u001b[0m\u001b[0mkeyarr\u001b[0m\u001b[0;34m,\u001b[0m \u001b[0mindexer\u001b[0m\u001b[0;34m,\u001b[0m \u001b[0maxis\u001b[0m\u001b[0;34m,\u001b[0m \u001b[0mraise_missing\u001b[0m\u001b[0;34m=\u001b[0m\u001b[0mraise_missing\u001b[0m\u001b[0;34m)\u001b[0m\u001b[0;34m\u001b[0m\u001b[0;34m\u001b[0m\u001b[0m\n\u001b[0m\u001b[1;32m   1255\u001b[0m         \u001b[0;32mreturn\u001b[0m \u001b[0mkeyarr\u001b[0m\u001b[0;34m,\u001b[0m \u001b[0mindexer\u001b[0m\u001b[0;34m\u001b[0m\u001b[0;34m\u001b[0m\u001b[0m\n\u001b[1;32m   1256\u001b[0m \u001b[0;34m\u001b[0m\u001b[0m\n",
            "\u001b[0;32m/usr/local/lib/python3.7/dist-packages/pandas/core/indexing.py\u001b[0m in \u001b[0;36m_validate_read_indexer\u001b[0;34m(self, key, indexer, axis, raise_missing)\u001b[0m\n\u001b[1;32m   1296\u001b[0m             \u001b[0;32mif\u001b[0m \u001b[0mmissing\u001b[0m \u001b[0;34m==\u001b[0m \u001b[0mlen\u001b[0m\u001b[0;34m(\u001b[0m\u001b[0mindexer\u001b[0m\u001b[0;34m)\u001b[0m\u001b[0;34m:\u001b[0m\u001b[0;34m\u001b[0m\u001b[0;34m\u001b[0m\u001b[0m\n\u001b[1;32m   1297\u001b[0m                 \u001b[0maxis_name\u001b[0m \u001b[0;34m=\u001b[0m \u001b[0mself\u001b[0m\u001b[0;34m.\u001b[0m\u001b[0mobj\u001b[0m\u001b[0;34m.\u001b[0m\u001b[0m_get_axis_name\u001b[0m\u001b[0;34m(\u001b[0m\u001b[0maxis\u001b[0m\u001b[0;34m)\u001b[0m\u001b[0;34m\u001b[0m\u001b[0;34m\u001b[0m\u001b[0m\n\u001b[0;32m-> 1298\u001b[0;31m                 \u001b[0;32mraise\u001b[0m \u001b[0mKeyError\u001b[0m\u001b[0;34m(\u001b[0m\u001b[0;34mf\"None of [{key}] are in the [{axis_name}]\"\u001b[0m\u001b[0;34m)\u001b[0m\u001b[0;34m\u001b[0m\u001b[0;34m\u001b[0m\u001b[0m\n\u001b[0m\u001b[1;32m   1299\u001b[0m \u001b[0;34m\u001b[0m\u001b[0m\n\u001b[1;32m   1300\u001b[0m             \u001b[0;31m# We (temporarily) allow for some missing keys with .loc, except in\u001b[0m\u001b[0;34m\u001b[0m\u001b[0;34m\u001b[0m\u001b[0;34m\u001b[0m\u001b[0m\n",
            "\u001b[0;31mKeyError\u001b[0m: \"None of [Int64Index([5560, 5561, 5562, 5563], dtype='int64')] are in the [index]\""
          ]
        }
      ]
    },
    {
      "cell_type": "code",
      "metadata": {
        "id": "wChE-G9h8-lD",
        "outputId": "e09062ce-51d1-4929-9d8d-ab67ded770d9",
        "colab": {
          "base_uri": "https://localhost:8080/",
          "height": 407
        }
      },
      "source": [
        "df = GeoDataFrame.from_file(f'maps/gis_osm_transport_free_1.shp', encoding='utf-8')\n",
        "df"
      ],
      "execution_count": 46,
      "outputs": [
        {
          "output_type": "execute_result",
          "data": {
            "text/html": [
              "<div>\n",
              "<style scoped>\n",
              "    .dataframe tbody tr th:only-of-type {\n",
              "        vertical-align: middle;\n",
              "    }\n",
              "\n",
              "    .dataframe tbody tr th {\n",
              "        vertical-align: top;\n",
              "    }\n",
              "\n",
              "    .dataframe thead th {\n",
              "        text-align: right;\n",
              "    }\n",
              "</style>\n",
              "<table border=\"1\" class=\"dataframe\">\n",
              "  <thead>\n",
              "    <tr style=\"text-align: right;\">\n",
              "      <th></th>\n",
              "      <th>osm_id</th>\n",
              "      <th>code</th>\n",
              "      <th>fclass</th>\n",
              "      <th>name</th>\n",
              "      <th>geometry</th>\n",
              "    </tr>\n",
              "  </thead>\n",
              "  <tbody>\n",
              "    <tr>\n",
              "      <th>0</th>\n",
              "      <td>26405535</td>\n",
              "      <td>5621</td>\n",
              "      <td>bus_stop</td>\n",
              "      <td>Lamina 03</td>\n",
              "      <td>POINT (21.02257 52.08243)</td>\n",
              "    </tr>\n",
              "    <tr>\n",
              "      <th>1</th>\n",
              "      <td>29886621</td>\n",
              "      <td>5621</td>\n",
              "      <td>bus_stop</td>\n",
              "      <td>Wola Pasikońska 02</td>\n",
              "      <td>POINT (20.38094 52.26599)</td>\n",
              "    </tr>\n",
              "    <tr>\n",
              "      <th>2</th>\n",
              "      <td>29886652</td>\n",
              "      <td>5621</td>\n",
              "      <td>bus_stop</td>\n",
              "      <td>Żelazowa Wola 02</td>\n",
              "      <td>POINT (20.30745 52.25894)</td>\n",
              "    </tr>\n",
              "    <tr>\n",
              "      <th>3</th>\n",
              "      <td>31156649</td>\n",
              "      <td>5621</td>\n",
              "      <td>bus_stop</td>\n",
              "      <td>PKP Koło 05</td>\n",
              "      <td>POINT (20.95753 52.24665)</td>\n",
              "    </tr>\n",
              "    <tr>\n",
              "      <th>4</th>\n",
              "      <td>31156960</td>\n",
              "      <td>5621</td>\n",
              "      <td>bus_stop</td>\n",
              "      <td>Górki 02</td>\n",
              "      <td>POINT (21.22077 52.10887)</td>\n",
              "    </tr>\n",
              "    <tr>\n",
              "      <th>...</th>\n",
              "      <td>...</td>\n",
              "      <td>...</td>\n",
              "      <td>...</td>\n",
              "      <td>...</td>\n",
              "      <td>...</td>\n",
              "    </tr>\n",
              "    <tr>\n",
              "      <th>13787</th>\n",
              "      <td>8578746714</td>\n",
              "      <td>5621</td>\n",
              "      <td>bus_stop</td>\n",
              "      <td>Mińsk Mazowiecki Dworzec Autobusowy</td>\n",
              "      <td>POINT (21.55489 52.17616)</td>\n",
              "    </tr>\n",
              "    <tr>\n",
              "      <th>13788</th>\n",
              "      <td>8578875467</td>\n",
              "      <td>5621</td>\n",
              "      <td>bus_stop</td>\n",
              "      <td>Nieczatów</td>\n",
              "      <td>POINT (21.05217 51.43747)</td>\n",
              "    </tr>\n",
              "    <tr>\n",
              "      <th>13789</th>\n",
              "      <td>8582702755</td>\n",
              "      <td>5621</td>\n",
              "      <td>bus_stop</td>\n",
              "      <td>Augustówka Kolejowa</td>\n",
              "      <td>POINT (21.49284 51.98581)</td>\n",
              "    </tr>\n",
              "    <tr>\n",
              "      <th>13790</th>\n",
              "      <td>8582705685</td>\n",
              "      <td>5621</td>\n",
              "      <td>bus_stop</td>\n",
              "      <td>Augustówka Kołbielska</td>\n",
              "      <td>POINT (21.48445 51.98348)</td>\n",
              "    </tr>\n",
              "    <tr>\n",
              "      <th>13791</th>\n",
              "      <td>8582705686</td>\n",
              "      <td>5621</td>\n",
              "      <td>bus_stop</td>\n",
              "      <td>None</td>\n",
              "      <td>POINT (21.48454 51.98364)</td>\n",
              "    </tr>\n",
              "  </tbody>\n",
              "</table>\n",
              "<p>13792 rows × 5 columns</p>\n",
              "</div>"
            ],
            "text/plain": [
              "           osm_id  ...                   geometry\n",
              "0        26405535  ...  POINT (21.02257 52.08243)\n",
              "1        29886621  ...  POINT (20.38094 52.26599)\n",
              "2        29886652  ...  POINT (20.30745 52.25894)\n",
              "3        31156649  ...  POINT (20.95753 52.24665)\n",
              "4        31156960  ...  POINT (21.22077 52.10887)\n",
              "...           ...  ...                        ...\n",
              "13787  8578746714  ...  POINT (21.55489 52.17616)\n",
              "13788  8578875467  ...  POINT (21.05217 51.43747)\n",
              "13789  8582702755  ...  POINT (21.49284 51.98581)\n",
              "13790  8582705685  ...  POINT (21.48445 51.98348)\n",
              "13791  8582705686  ...  POINT (21.48454 51.98364)\n",
              "\n",
              "[13792 rows x 5 columns]"
            ]
          },
          "metadata": {
            "tags": []
          },
          "execution_count": 46
        }
      ]
    },
    {
      "cell_type": "code",
      "metadata": {
        "id": "BoWufqfA-Ket",
        "outputId": "43d3b6fe-33d4-4c43-fe8c-ffec762789db",
        "colab": {
          "base_uri": "https://localhost:8080/"
        }
      },
      "source": [
        "df.fclass.value_counts()"
      ],
      "execution_count": 48,
      "outputs": [
        {
          "output_type": "execute_result",
          "data": {
            "text/plain": [
              "bus_stop           12582\n",
              "tram_stop            592\n",
              "railway_halt         235\n",
              "railway_station      144\n",
              "taxi                 127\n",
              "bus_station           47\n",
              "helipad               36\n",
              "ferry_terminal        23\n",
              "airport                5\n",
              "airfield               1\n",
              "Name: fclass, dtype: int64"
            ]
          },
          "metadata": {
            "tags": []
          },
          "execution_count": 48
        }
      ]
    },
    {
      "cell_type": "code",
      "metadata": {
        "id": "olLZPEcI93Ey"
      },
      "source": [
        "df[df.name == \"Linia metra M2\"]"
      ],
      "execution_count": null,
      "outputs": []
    },
    {
      "cell_type": "code",
      "metadata": {
        "id": "CA07Cx4W-FKB",
        "outputId": "f222e365-d30c-4724-bb6b-50dbfe61c1f4",
        "colab": {
          "base_uri": "https://localhost:8080/",
          "height": 407
        }
      },
      "source": [
        "warunek = df[\"name\"].str.contains(\"metro\", flags=re.IGNORECASE, regex=True, na=False) \n",
        "df[warunek]"
      ],
      "execution_count": 53,
      "outputs": [
        {
          "output_type": "execute_result",
          "data": {
            "text/html": [
              "<div>\n",
              "<style scoped>\n",
              "    .dataframe tbody tr th:only-of-type {\n",
              "        vertical-align: middle;\n",
              "    }\n",
              "\n",
              "    .dataframe tbody tr th {\n",
              "        vertical-align: top;\n",
              "    }\n",
              "\n",
              "    .dataframe thead th {\n",
              "        text-align: right;\n",
              "    }\n",
              "</style>\n",
              "<table border=\"1\" class=\"dataframe\">\n",
              "  <thead>\n",
              "    <tr style=\"text-align: right;\">\n",
              "      <th></th>\n",
              "      <th>osm_id</th>\n",
              "      <th>code</th>\n",
              "      <th>fclass</th>\n",
              "      <th>name</th>\n",
              "      <th>geometry</th>\n",
              "    </tr>\n",
              "  </thead>\n",
              "  <tbody>\n",
              "    <tr>\n",
              "      <th>12</th>\n",
              "      <td>32597790</td>\n",
              "      <td>5621</td>\n",
              "      <td>bus_stop</td>\n",
              "      <td>Metro Ratusz Arsenał 06</td>\n",
              "      <td>POINT (21.00215 52.24486)</td>\n",
              "    </tr>\n",
              "    <tr>\n",
              "      <th>85</th>\n",
              "      <td>247488490</td>\n",
              "      <td>5603</td>\n",
              "      <td>tram_stop</td>\n",
              "      <td>Metro Pole Mokotowskie 03</td>\n",
              "      <td>POINT (21.00783 52.20833)</td>\n",
              "    </tr>\n",
              "    <tr>\n",
              "      <th>86</th>\n",
              "      <td>247488491</td>\n",
              "      <td>5603</td>\n",
              "      <td>tram_stop</td>\n",
              "      <td>Metro Pole Mokotowskie 04</td>\n",
              "      <td>POINT (21.00762 52.20905)</td>\n",
              "    </tr>\n",
              "    <tr>\n",
              "      <th>92</th>\n",
              "      <td>248059657</td>\n",
              "      <td>5603</td>\n",
              "      <td>tram_stop</td>\n",
              "      <td>Metro Ratusz Arsenał 04</td>\n",
              "      <td>POINT (21.00075 52.24500)</td>\n",
              "    </tr>\n",
              "    <tr>\n",
              "      <th>116</th>\n",
              "      <td>249327910</td>\n",
              "      <td>5603</td>\n",
              "      <td>tram_stop</td>\n",
              "      <td>Metro Wierzbno 04</td>\n",
              "      <td>POINT (21.01818 52.18913)</td>\n",
              "    </tr>\n",
              "    <tr>\n",
              "      <th>...</th>\n",
              "      <td>...</td>\n",
              "      <td>...</td>\n",
              "      <td>...</td>\n",
              "      <td>...</td>\n",
              "      <td>...</td>\n",
              "    </tr>\n",
              "    <tr>\n",
              "      <th>12063</th>\n",
              "      <td>7179728405</td>\n",
              "      <td>5621</td>\n",
              "      <td>bus_stop</td>\n",
              "      <td>Metro Wawrzyszew 01</td>\n",
              "      <td>POINT (20.93700 52.28719)</td>\n",
              "    </tr>\n",
              "    <tr>\n",
              "      <th>12221</th>\n",
              "      <td>7371526542</td>\n",
              "      <td>5621</td>\n",
              "      <td>bus_stop</td>\n",
              "      <td>Metro Młynów 05</td>\n",
              "      <td>POINT (20.96013 52.23754)</td>\n",
              "    </tr>\n",
              "    <tr>\n",
              "      <th>12222</th>\n",
              "      <td>7371526543</td>\n",
              "      <td>5621</td>\n",
              "      <td>bus_stop</td>\n",
              "      <td>Metro Młynów 06</td>\n",
              "      <td>POINT (20.96045 52.23780)</td>\n",
              "    </tr>\n",
              "    <tr>\n",
              "      <th>12223</th>\n",
              "      <td>7371526547</td>\n",
              "      <td>5621</td>\n",
              "      <td>bus_stop</td>\n",
              "      <td>Metro Księcia Janusza 04</td>\n",
              "      <td>POINT (20.94294 52.23885)</td>\n",
              "    </tr>\n",
              "    <tr>\n",
              "      <th>13424</th>\n",
              "      <td>8423706269</td>\n",
              "      <td>5621</td>\n",
              "      <td>bus_stop</td>\n",
              "      <td>Metro Stadion Narodowy 15</td>\n",
              "      <td>POINT (21.04452 52.24674)</td>\n",
              "    </tr>\n",
              "  </tbody>\n",
              "</table>\n",
              "<p>184 rows × 5 columns</p>\n",
              "</div>"
            ],
            "text/plain": [
              "           osm_id  code  ...                       name                   geometry\n",
              "12       32597790  5621  ...    Metro Ratusz Arsenał 06  POINT (21.00215 52.24486)\n",
              "85      247488490  5603  ...  Metro Pole Mokotowskie 03  POINT (21.00783 52.20833)\n",
              "86      247488491  5603  ...  Metro Pole Mokotowskie 04  POINT (21.00762 52.20905)\n",
              "92      248059657  5603  ...    Metro Ratusz Arsenał 04  POINT (21.00075 52.24500)\n",
              "116     249327910  5603  ...          Metro Wierzbno 04  POINT (21.01818 52.18913)\n",
              "...           ...   ...  ...                        ...                        ...\n",
              "12063  7179728405  5621  ...        Metro Wawrzyszew 01  POINT (20.93700 52.28719)\n",
              "12221  7371526542  5621  ...            Metro Młynów 05  POINT (20.96013 52.23754)\n",
              "12222  7371526543  5621  ...            Metro Młynów 06  POINT (20.96045 52.23780)\n",
              "12223  7371526547  5621  ...   Metro Księcia Janusza 04  POINT (20.94294 52.23885)\n",
              "13424  8423706269  5621  ...  Metro Stadion Narodowy 15  POINT (21.04452 52.24674)\n",
              "\n",
              "[184 rows x 5 columns]"
            ]
          },
          "metadata": {
            "tags": []
          },
          "execution_count": 53
        }
      ]
    },
    {
      "cell_type": "code",
      "metadata": {
        "id": "sTsak-2o-SrB",
        "outputId": "dbbde2e2-894a-4811-9db5-0dafdb9b8afa",
        "colab": {
          "base_uri": "https://localhost:8080/"
        }
      },
      "source": [
        "df[warunek].fclass.value_counts()"
      ],
      "execution_count": 55,
      "outputs": [
        {
          "output_type": "execute_result",
          "data": {
            "text/plain": [
              "bus_stop       148\n",
              "tram_stop       34\n",
              "bus_station      2\n",
              "Name: fclass, dtype: int64"
            ]
          },
          "metadata": {
            "tags": []
          },
          "execution_count": 55
        }
      ]
    },
    {
      "cell_type": "code",
      "metadata": {
        "id": "eonzU4br-jSf",
        "outputId": "3b05c5a6-80b7-4ff1-86a5-06ca8d30b14b",
        "colab": {
          "base_uri": "https://localhost:8080/",
          "height": 108
        }
      },
      "source": [
        "df[warunek & (df.fclass == \"bus_station\")]"
      ],
      "execution_count": 58,
      "outputs": [
        {
          "output_type": "execute_result",
          "data": {
            "text/html": [
              "<div>\n",
              "<style scoped>\n",
              "    .dataframe tbody tr th:only-of-type {\n",
              "        vertical-align: middle;\n",
              "    }\n",
              "\n",
              "    .dataframe tbody tr th {\n",
              "        vertical-align: top;\n",
              "    }\n",
              "\n",
              "    .dataframe thead th {\n",
              "        text-align: right;\n",
              "    }\n",
              "</style>\n",
              "<table border=\"1\" class=\"dataframe\">\n",
              "  <thead>\n",
              "    <tr style=\"text-align: right;\">\n",
              "      <th></th>\n",
              "      <th>osm_id</th>\n",
              "      <th>code</th>\n",
              "      <th>fclass</th>\n",
              "      <th>name</th>\n",
              "      <th>geometry</th>\n",
              "    </tr>\n",
              "  </thead>\n",
              "  <tbody>\n",
              "    <tr>\n",
              "      <th>2668</th>\n",
              "      <td>1700789144</td>\n",
              "      <td>5622</td>\n",
              "      <td>bus_station</td>\n",
              "      <td>Metro Młociny</td>\n",
              "      <td>POINT (20.92789 52.29110)</td>\n",
              "    </tr>\n",
              "    <tr>\n",
              "      <th>4762</th>\n",
              "      <td>2482753234</td>\n",
              "      <td>5622</td>\n",
              "      <td>bus_station</td>\n",
              "      <td>Metro Trocka</td>\n",
              "      <td>POINT (21.05265 52.27654)</td>\n",
              "    </tr>\n",
              "  </tbody>\n",
              "</table>\n",
              "</div>"
            ],
            "text/plain": [
              "          osm_id  code       fclass           name                   geometry\n",
              "2668  1700789144  5622  bus_station  Metro Młociny  POINT (20.92789 52.29110)\n",
              "4762  2482753234  5622  bus_station   Metro Trocka  POINT (21.05265 52.27654)"
            ]
          },
          "metadata": {
            "tags": []
          },
          "execution_count": 58
        }
      ]
    },
    {
      "cell_type": "code",
      "metadata": {
        "id": "62nSrAhD-yYt",
        "outputId": "053a9157-f2e8-4c44-e3ff-315481991560",
        "colab": {
          "base_uri": "https://localhost:8080/",
          "height": 992
        }
      },
      "source": [
        "m = folium.Map(location=[nodes[\"geometry\"].y.mean() , nodes[\"geometry\"].x.mean()], \n",
        "               tiles=\"cartodbpositron\"\n",
        "               )\n",
        "\n",
        "folium.GeoJson(\n",
        "    df[warunek & (df.fclass == \"bus_station\")]\n",
        ").add_to(m)\n",
        "\n",
        "\n",
        "x_min = nodes[\"geometry\"].x.min()\n",
        "x_max = nodes[\"geometry\"].x.max()\n",
        "y_min = nodes[\"geometry\"].y.min()\n",
        "y_max = nodes[\"geometry\"].y.max()\n",
        "\n",
        "# szukanie lewego górnego rogu i dolnego prawego\n",
        "m.fit_bounds([[y_max , x_min], [y_min , x_max]]) \n",
        "\n",
        "m"
      ],
      "execution_count": 59,
      "outputs": [
        {
          "output_type": "execute_result",
          "data": {
            "text/html": [
              "<div style=\"width:100%;\"><div style=\"position:relative;width:100%;height:0;padding-bottom:60%;\"><span style=\"color:#565656\">Make this Notebook Trusted to load map: File -> Trust Notebook</span><iframe src=\"about:blank\" style=\"position:absolute;width:100%;height:100%;left:0;top:0;border:none !important;\" data-html=%3C%21DOCTYPE%20html%3E%0A%3Chead%3E%20%20%20%20%0A%20%20%20%20%3Cmeta%20http-equiv%3D%22content-type%22%20content%3D%22text/html%3B%20charset%3DUTF-8%22%20/%3E%0A%20%20%20%20%3Cscript%3EL_PREFER_CANVAS%3Dfalse%3B%20L_NO_TOUCH%3Dfalse%3B%20L_DISABLE_3D%3Dfalse%3B%3C/script%3E%0A%20%20%20%20%3Cscript%20src%3D%22https%3A//cdn.jsdelivr.net/npm/leaflet%401.4.0/dist/leaflet.js%22%3E%3C/script%3E%0A%20%20%20%20%3Cscript%20src%3D%22https%3A//code.jquery.com/jquery-1.12.4.min.js%22%3E%3C/script%3E%0A%20%20%20%20%3Cscript%20src%3D%22https%3A//maxcdn.bootstrapcdn.com/bootstrap/3.2.0/js/bootstrap.min.js%22%3E%3C/script%3E%0A%20%20%20%20%3Cscript%20src%3D%22https%3A//cdnjs.cloudflare.com/ajax/libs/Leaflet.awesome-markers/2.0.2/leaflet.awesome-markers.js%22%3E%3C/script%3E%0A%20%20%20%20%3Clink%20rel%3D%22stylesheet%22%20href%3D%22https%3A//cdn.jsdelivr.net/npm/leaflet%401.4.0/dist/leaflet.css%22/%3E%0A%20%20%20%20%3Clink%20rel%3D%22stylesheet%22%20href%3D%22https%3A//maxcdn.bootstrapcdn.com/bootstrap/3.2.0/css/bootstrap.min.css%22/%3E%0A%20%20%20%20%3Clink%20rel%3D%22stylesheet%22%20href%3D%22https%3A//maxcdn.bootstrapcdn.com/bootstrap/3.2.0/css/bootstrap-theme.min.css%22/%3E%0A%20%20%20%20%3Clink%20rel%3D%22stylesheet%22%20href%3D%22https%3A//maxcdn.bootstrapcdn.com/font-awesome/4.6.3/css/font-awesome.min.css%22/%3E%0A%20%20%20%20%3Clink%20rel%3D%22stylesheet%22%20href%3D%22https%3A//cdnjs.cloudflare.com/ajax/libs/Leaflet.awesome-markers/2.0.2/leaflet.awesome-markers.css%22/%3E%0A%20%20%20%20%3Clink%20rel%3D%22stylesheet%22%20href%3D%22https%3A//rawcdn.githack.com/python-visualization/folium/master/folium/templates/leaflet.awesome.rotate.css%22/%3E%0A%20%20%20%20%3Cstyle%3Ehtml%2C%20body%20%7Bwidth%3A%20100%25%3Bheight%3A%20100%25%3Bmargin%3A%200%3Bpadding%3A%200%3B%7D%3C/style%3E%0A%20%20%20%20%3Cstyle%3E%23map%20%7Bposition%3Aabsolute%3Btop%3A0%3Bbottom%3A0%3Bright%3A0%3Bleft%3A0%3B%7D%3C/style%3E%0A%20%20%20%20%0A%20%20%20%20%3Cmeta%20name%3D%22viewport%22%20content%3D%22width%3Ddevice-width%2C%0A%20%20%20%20%20%20%20%20initial-scale%3D1.0%2C%20maximum-scale%3D1.0%2C%20user-scalable%3Dno%22%20/%3E%0A%20%20%20%20%3Cstyle%3E%23map_f307ff486550480994591b60a010ca11%20%7B%0A%20%20%20%20%20%20%20%20position%3A%20relative%3B%0A%20%20%20%20%20%20%20%20width%3A%20100.0%25%3B%0A%20%20%20%20%20%20%20%20height%3A%20100.0%25%3B%0A%20%20%20%20%20%20%20%20left%3A%200.0%25%3B%0A%20%20%20%20%20%20%20%20top%3A%200.0%25%3B%0A%20%20%20%20%20%20%20%20%7D%0A%20%20%20%20%3C/style%3E%0A%3C/head%3E%0A%3Cbody%3E%20%20%20%20%0A%20%20%20%20%0A%20%20%20%20%3Cdiv%20class%3D%22folium-map%22%20id%3D%22map_f307ff486550480994591b60a010ca11%22%20%3E%3C/div%3E%0A%3C/body%3E%0A%3Cscript%3E%20%20%20%20%0A%20%20%20%20%0A%20%20%20%20%0A%20%20%20%20%20%20%20%20var%20bounds%20%3D%20null%3B%0A%20%20%20%20%0A%0A%20%20%20%20var%20map_f307ff486550480994591b60a010ca11%20%3D%20L.map%28%0A%20%20%20%20%20%20%20%20%27map_f307ff486550480994591b60a010ca11%27%2C%20%7B%0A%20%20%20%20%20%20%20%20center%3A%20%5B52.19167069210728%2C%2021.031042492256166%5D%2C%0A%20%20%20%20%20%20%20%20zoom%3A%2010%2C%0A%20%20%20%20%20%20%20%20maxBounds%3A%20bounds%2C%0A%20%20%20%20%20%20%20%20layers%3A%20%5B%5D%2C%0A%20%20%20%20%20%20%20%20worldCopyJump%3A%20false%2C%0A%20%20%20%20%20%20%20%20crs%3A%20L.CRS.EPSG3857%2C%0A%20%20%20%20%20%20%20%20zoomControl%3A%20true%2C%0A%20%20%20%20%20%20%20%20%7D%29%3B%0A%0A%0A%20%20%20%20%0A%20%20%20%20var%20tile_layer_f53a821f389841d5a923445c0aeb3c67%20%3D%20L.tileLayer%28%0A%20%20%20%20%20%20%20%20%27https%3A//cartodb-basemaps-%7Bs%7D.global.ssl.fastly.net/light_all/%7Bz%7D/%7Bx%7D/%7By%7D.png%27%2C%0A%20%20%20%20%20%20%20%20%7B%0A%20%20%20%20%20%20%20%20%22attribution%22%3A%20null%2C%0A%20%20%20%20%20%20%20%20%22detectRetina%22%3A%20false%2C%0A%20%20%20%20%20%20%20%20%22maxNativeZoom%22%3A%2018%2C%0A%20%20%20%20%20%20%20%20%22maxZoom%22%3A%2018%2C%0A%20%20%20%20%20%20%20%20%22minZoom%22%3A%200%2C%0A%20%20%20%20%20%20%20%20%22noWrap%22%3A%20false%2C%0A%20%20%20%20%20%20%20%20%22opacity%22%3A%201%2C%0A%20%20%20%20%20%20%20%20%22subdomains%22%3A%20%22abc%22%2C%0A%20%20%20%20%20%20%20%20%22tms%22%3A%20false%0A%7D%29.addTo%28map_f307ff486550480994591b60a010ca11%29%3B%0A%20%20%20%20%0A%20%20%20%20%20%20%20%20var%20geo_json_ded85914c1664e13b5886e21d912b27e%20%3D%20L.geoJson%28%0A%20%20%20%20%20%20%20%20%20%20%20%20%7B%22bbox%22%3A%20%5B20.927888%2C%2052.2765393%2C%2021.0526509%2C%2052.2910984%5D%2C%20%22features%22%3A%20%5B%7B%22bbox%22%3A%20%5B20.927888%2C%2052.2910984%2C%2020.927888%2C%2052.2910984%5D%2C%20%22geometry%22%3A%20%7B%22coordinates%22%3A%20%5B20.927888%2C%2052.2910984%5D%2C%20%22type%22%3A%20%22Point%22%7D%2C%20%22id%22%3A%20%222668%22%2C%20%22properties%22%3A%20%7B%22code%22%3A%205622%2C%20%22fclass%22%3A%20%22bus_station%22%2C%20%22highlight%22%3A%20%7B%7D%2C%20%22name%22%3A%20%22Metro%20M%5Cu0142ociny%22%2C%20%22osm_id%22%3A%20%221700789144%22%2C%20%22style%22%3A%20%7B%7D%7D%2C%20%22type%22%3A%20%22Feature%22%7D%2C%20%7B%22bbox%22%3A%20%5B21.0526509%2C%2052.2765393%2C%2021.0526509%2C%2052.2765393%5D%2C%20%22geometry%22%3A%20%7B%22coordinates%22%3A%20%5B21.0526509%2C%2052.2765393%5D%2C%20%22type%22%3A%20%22Point%22%7D%2C%20%22id%22%3A%20%224762%22%2C%20%22properties%22%3A%20%7B%22code%22%3A%205622%2C%20%22fclass%22%3A%20%22bus_station%22%2C%20%22highlight%22%3A%20%7B%7D%2C%20%22name%22%3A%20%22Metro%20Trocka%22%2C%20%22osm_id%22%3A%20%222482753234%22%2C%20%22style%22%3A%20%7B%7D%7D%2C%20%22type%22%3A%20%22Feature%22%7D%5D%2C%20%22type%22%3A%20%22FeatureCollection%22%7D%2C%0A%20%20%20%20%20%20%20%20%20%20%20%20%7B%0A%20%20%20%20%20%20%20%20%20%20%20%20%7D%0A%20%20%20%20%20%20%20%20%29.addTo%28map_f307ff486550480994591b60a010ca11%20%29%3B%0A%20%20%20%20%20%20%20%20geo_json_ded85914c1664e13b5886e21d912b27e.setStyle%28function%28feature%29%20%7Breturn%20feature.properties.style%3B%7D%29%3B%0A%20%20%20%20%20%20%20%20%0A%20%20%20%20%0A%20%20%20%20%20%20%20%20%20%20%20%20%20%20%20%20%0A%0A%20%20%20%20%20%20%20%20%20%20%20%20%20%20%20%20map_f307ff486550480994591b60a010ca11.fitBounds%28%0A%20%20%20%20%20%20%20%20%20%20%20%20%20%20%20%20%20%20%20%20%5B%5B52.2929426%2C%2020.925314%5D%2C%20%5B52.1246827%2C%2021.0729117%5D%5D%2C%0A%20%20%20%20%20%20%20%20%20%20%20%20%20%20%20%20%20%20%20%20%7B%7D%0A%20%20%20%20%20%20%20%20%20%20%20%20%20%20%20%20%20%20%20%20%29%3B%0A%20%20%20%20%20%20%20%20%20%20%20%20%0A%3C/script%3E onload=\"this.contentDocument.open();this.contentDocument.write(    decodeURIComponent(this.getAttribute('data-html')));this.contentDocument.close();\" allowfullscreen webkitallowfullscreen mozallowfullscreen></iframe></div></div>"
            ],
            "text/plain": [
              "<folium.folium.Map at 0x7fc7933509d0>"
            ]
          },
          "metadata": {
            "tags": []
          },
          "execution_count": 59
        }
      ]
    }
  ]
}